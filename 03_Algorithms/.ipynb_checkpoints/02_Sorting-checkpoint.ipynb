{
 "cells": [
  {
   "cell_type": "code",
   "execution_count": 3,
   "metadata": {
    "hide_input": true,
    "init_cell": true
   },
   "outputs": [],
   "source": [
    "# before everything, import these libraries\n",
    "\n",
    "from IPython.lib.display import YouTubeVideo\n",
    "from random import randint, shuffle\n",
    "from math import floor, ceil"
   ]
  },
  {
   "cell_type": "markdown",
   "metadata": {},
   "source": [
    "# III. Algorithms > 02. Sorting\n",
    "\n",
    "\n",
    "**[<< Previous lesson](./01_Recursion.ipynb)   |   [Next lesson >>](./03_Binary-Search.ipynb)**\n",
    "\n",
    "<hr>\n",
    "&nbsp;"
   ]
  },
  {
   "cell_type": "markdown",
   "metadata": {
    "toc": true
   },
   "source": [
    "<h1>Table of Contents<span class=\"tocSkip\"></span></h1>\n",
    "<div class=\"toc\"><ul class=\"toc-item\"><li><span><a href=\"#Introduction\" data-toc-modified-id=\"Introduction-1\"><span class=\"toc-item-num\">1&nbsp;&nbsp;</span>Introduction</a></span></li><li><span><a href=\"#Overview\" data-toc-modified-id=\"Overview-2\"><span class=\"toc-item-num\">2&nbsp;&nbsp;</span>Overview</a></span></li><li><span><a href=\"#Bubble-sort\" data-toc-modified-id=\"Bubble-sort-3\"><span class=\"toc-item-num\">3&nbsp;&nbsp;</span>Bubble sort</a></span></li><li><span><a href=\"#Selection-sort\" data-toc-modified-id=\"Selection-sort-4\"><span class=\"toc-item-num\">4&nbsp;&nbsp;</span>Selection sort</a></span></li><li><span><a href=\"#Insertion-sort\" data-toc-modified-id=\"Insertion-sort-5\"><span class=\"toc-item-num\">5&nbsp;&nbsp;</span>Insertion sort</a></span></li><li><span><a href=\"#Merge-sort\" data-toc-modified-id=\"Merge-sort-6\"><span class=\"toc-item-num\">6&nbsp;&nbsp;</span>Merge sort</a></span></li><li><span><a href=\"#Quick-sort\" data-toc-modified-id=\"Quick-sort-7\"><span class=\"toc-item-num\">7&nbsp;&nbsp;</span>Quick sort</a></span></li><li><span><a href=\"#Merge-sort-vs-Quick-sort\" data-toc-modified-id=\"Merge-sort-vs-Quick-sort-8\"><span class=\"toc-item-num\">8&nbsp;&nbsp;</span>Merge sort vs Quick sort</a></span></li><li><span><a href=\"#Credits\" data-toc-modified-id=\"Credits-9\"><span class=\"toc-item-num\">9&nbsp;&nbsp;</span>Credits</a></span></li></ul></div>"
   ]
  },
  {
   "cell_type": "markdown",
   "metadata": {},
   "source": [
    "<hr>\n",
    "&nbsp;\n",
    "\n",
    "\n",
    "## Introduction\n",
    "\n",
    "&nbsp;\n",
    "\n",
    "Check also **[Visual Algo](https://visualgo.net/en/sorting)** which is a great resource to deepen your understanding of algorithms"
   ]
  },
  {
   "cell_type": "markdown",
   "metadata": {},
   "source": [
    "<hr>\n",
    "&nbsp;\n",
    "\n",
    "\n",
    "## Overview\n",
    "\n",
    "&nbsp;\n",
    "\n",
    "<img src=\"./attachments/Array_Sorting_Algorithms.png\" alt=\"complexity comparison of sorting algos\">"
   ]
  },
  {
   "cell_type": "markdown",
   "metadata": {},
   "source": [
    "<hr>\n",
    "&nbsp;\n",
    "\n",
    "\n",
    "## Bubble sort"
   ]
  },
  {
   "cell_type": "code",
   "execution_count": 2,
   "metadata": {
    "hide_input": true,
    "scrolled": true
   },
   "outputs": [
    {
     "data": {
      "image/jpeg": "[encoded data removed]",
      "text/html": [
       "\n",
       "        <iframe\n",
       "            width=\"560\"\n",
       "            height=\"315\"\n",
       "            src=\"https://www.youtube.com/embed/lyZQPjUT5B4\"\n",
       "            frameborder=\"0\"\n",
       "            allowfullscreen\n",
       "        ></iframe>\n",
       "        "
      ],
      "text/plain": [
       "<IPython.lib.display.YouTubeVideo at 0x7fd0cc2c1bb0>"
      ]
     },
     "execution_count": 2,
     "metadata": {},
     "output_type": "execute_result"
    }
   ],
   "source": [
    "YouTubeVideo('lyZQPjUT5B4',width=560,height=315)"
   ]
  },
  {
   "cell_type": "code",
   "execution_count": 3,
   "metadata": {},
   "outputs": [],
   "source": [
    "def bubble_sort_naive(array):\n",
    "    '''\n",
    "    Time Complexity: O(n²)\n",
    "    Space Complexity: O(1)\n",
    "    '''\n",
    "    global iterations  # This is used to compare algorithms\n",
    "    iterations = 0\n",
    "    \n",
    "    n = len(array)\n",
    "    for i in range(n):\n",
    "        for j in range(n-1):\n",
    "            iterations += 1\n",
    "            if array[j] > array[j+1]:\n",
    "                array[j], array[j+1] = array[j+1], array[j]"
   ]
  },
  {
   "cell_type": "code",
   "execution_count": 4,
   "metadata": {},
   "outputs": [],
   "source": [
    "# optimized bubble sort does not increase or decrease asymtotic notations\n",
    "# however number of iterations can be reduced by breaking the loop\n",
    "# as soon as we have passed through without swapping any elements\n",
    "\n",
    "def bubble_sort_optimized(array):\n",
    "    '''\n",
    "    Time Complexity: O(n²)\n",
    "    Space Complexity: O(1)\n",
    "    '''\n",
    "    global iterations  # This is used to compare algorithms\n",
    "    iterations = 0\n",
    "\n",
    "    n = len(array)\n",
    "    for i in range(n-1) :\n",
    "        swapped = False\n",
    "        for j in range(n-1):\n",
    "            iterations += 1\n",
    "            if array[j] > array[j+1]:\n",
    "                array[j], array[j+1] = array[j+1], array[j]\n",
    "                swapped = True\n",
    "        if not swapped:\n",
    "            break"
   ]
  },
  {
   "cell_type": "code",
   "execution_count": 5,
   "metadata": {},
   "outputs": [
    {
     "name": "stdout",
     "output_type": "stream",
     "text": [
      "1560\n",
      "39\n"
     ]
    }
   ],
   "source": [
    "# Best Case Performance\n",
    "\n",
    "array = list(range(0,40))  # sorted list from 0 to 40\n",
    "\n",
    "bubble_sort_naive(array)\n",
    "print(iterations)\n",
    "\n",
    "bubble_sort_optimized(array)\n",
    "print(iterations)"
   ]
  },
  {
   "cell_type": "code",
   "execution_count": 6,
   "metadata": {},
   "outputs": [
    {
     "name": "stdout",
     "output_type": "stream",
     "text": [
      "1560\n",
      "1209\n"
     ]
    }
   ],
   "source": [
    "# Average Case Performance\n",
    "\n",
    "array = list(range(0,40))  # sorted list from 0 to 40\n",
    "shuffle(array)             # elements are randomly shuffled\n",
    "bubble_sort_naive(array)\n",
    "print(iterations)\n",
    "\n",
    "shuffle(array)             # reshuffle elements\n",
    "bubble_sort_optimized(array)\n",
    "print(iterations)"
   ]
  },
  {
   "cell_type": "code",
   "execution_count": 7,
   "metadata": {},
   "outputs": [
    {
     "name": "stdout",
     "output_type": "stream",
     "text": [
      "1560\n",
      "1521\n"
     ]
    }
   ],
   "source": [
    "# Worst Case Performance\n",
    "\n",
    "array = list(range(0,40))  # sorted list from 0 to 40\n",
    "array.reverse()            # reverse array\n",
    "bubble_sort_naive(array)\n",
    "print(iterations)\n",
    "\n",
    "array.reverse()            # reverse array again\n",
    "bubble_sort_optimized(array)\n",
    "print(iterations)"
   ]
  },
  {
   "cell_type": "markdown",
   "metadata": {},
   "source": [
    "&nbsp;  \n",
    "**When to use Bubble sort?**  \n",
    "When you're doing something quick and dirty and for some reason you can't just use the standard library's sorting algorithm. The only advantage this has over insertion sort is being slightly easier to implement."
   ]
  },
  {
   "cell_type": "markdown",
   "metadata": {},
   "source": [
    "<hr>\n",
    "&nbsp;\n",
    "\n",
    "\n",
    "## Selection sort"
   ]
  },
  {
   "cell_type": "code",
   "execution_count": 8,
   "metadata": {
    "hide_input": true,
    "scrolled": false
   },
   "outputs": [
    {
     "data": {
      "image/jpeg": "[encoded data removed]",
      "text/html": [
       "\n",
       "        <iframe\n",
       "            width=\"560\"\n",
       "            height=\"315\"\n",
       "            src=\"https://www.youtube.com/embed/Ns4TPTC8whw\"\n",
       "            frameborder=\"0\"\n",
       "            allowfullscreen\n",
       "        ></iframe>\n",
       "        "
      ],
      "text/plain": [
       "<IPython.lib.display.YouTubeVideo at 0x7fd0cc2379a0>"
      ]
     },
     "execution_count": 8,
     "metadata": {},
     "output_type": "execute_result"
    }
   ],
   "source": [
    "YouTubeVideo('Ns4TPTC8whw',width=560,height=315)"
   ]
  },
  {
   "cell_type": "code",
   "execution_count": 9,
   "metadata": {},
   "outputs": [],
   "source": [
    "def selection_sort(array):\n",
    "    '''\n",
    "    Time Complexity: O(n²)\n",
    "    Space Complexity: O(1)\n",
    "    '''\n",
    "    global iterations  # This is used to compare algorithms\n",
    "    iterations = 0\n",
    "\n",
    "    n = len(array)\n",
    "    for i in range(n): \n",
    "        min_index = i\n",
    "        for j in range(i+1,n):\n",
    "            iterations += 1\n",
    "            if array[j] < array[min_index]:\n",
    "                min_index = j\n",
    "\n",
    "        if min_index != i:  # Swap the found minimum element with the 1st element\n",
    "            array[i], array[min_index] = array[min_index], array[i]"
   ]
  },
  {
   "cell_type": "code",
   "execution_count": 10,
   "metadata": {},
   "outputs": [
    {
     "name": "stdout",
     "output_type": "stream",
     "text": [
      "780\n"
     ]
    }
   ],
   "source": [
    "# Best Case Performance\n",
    "\n",
    "array = list(range(0,40))  # sorted list from 0 to 40\n",
    "\n",
    "selection_sort(array)\n",
    "print(iterations)"
   ]
  },
  {
   "cell_type": "code",
   "execution_count": 11,
   "metadata": {},
   "outputs": [
    {
     "name": "stdout",
     "output_type": "stream",
     "text": [
      "780\n"
     ]
    }
   ],
   "source": [
    "# Average Case Performance\n",
    "\n",
    "array = list(range(0,40))  # sorted list from 0 to 40\n",
    "shuffle(array)             # elements are randomly shuffled\n",
    "selection_sort(array)\n",
    "print(iterations)"
   ]
  },
  {
   "cell_type": "code",
   "execution_count": 12,
   "metadata": {},
   "outputs": [
    {
     "name": "stdout",
     "output_type": "stream",
     "text": [
      "780\n"
     ]
    }
   ],
   "source": [
    "# Worst Case Performance\n",
    "\n",
    "array = list(range(0,40))  # sorted list from 0 to 40\n",
    "array.reverse()            # reverse array\n",
    "selection_sort(array)\n",
    "print(iterations)"
   ]
  },
  {
   "cell_type": "markdown",
   "metadata": {},
   "source": [
    "&nbsp;  \n",
    "**When to use Selection sort?**  \n",
    "No real life applications as such because of O(n²) behaviour. However, bubble sort, selection sort and insertion sort are the basic sorting algorithm taught for every beginner"
   ]
  },
  {
   "cell_type": "markdown",
   "metadata": {},
   "source": [
    "<hr>\n",
    "&nbsp;\n",
    "\n",
    "\n",
    "## Insertion sort"
   ]
  },
  {
   "cell_type": "code",
   "execution_count": 13,
   "metadata": {
    "hide_input": true,
    "scrolled": false
   },
   "outputs": [
    {
     "data": {
      "image/jpeg": "[encoded data removed]",
      "text/html": [
       "\n",
       "        <iframe\n",
       "            width=\"560\"\n",
       "            height=\"315\"\n",
       "            src=\"https://www.youtube.com/embed/ROalU379l3U\"\n",
       "            frameborder=\"0\"\n",
       "            allowfullscreen\n",
       "        ></iframe>\n",
       "        "
      ],
      "text/plain": [
       "<IPython.lib.display.YouTubeVideo at 0x7fd0cc237400>"
      ]
     },
     "execution_count": 13,
     "metadata": {},
     "output_type": "execute_result"
    }
   ],
   "source": [
    "YouTubeVideo('ROalU379l3U',width=560,height=315)"
   ]
  },
  {
   "cell_type": "code",
   "execution_count": 14,
   "metadata": {},
   "outputs": [],
   "source": [
    "def insertion_sort(array):\n",
    "    '''\n",
    "    Time Complexity: O(n²)\n",
    "    Space Complexity: O(1)\n",
    "    '''\n",
    "    global iterations  # This is used to compare algorithms\n",
    "    iterations = 0\n",
    "    \n",
    "    n = len(array)\n",
    "    for i in range(1, n):\n",
    "        current_value = array[i]\n",
    "        position = i\n",
    "        while position > 0 and array[position-1] > current_value:\n",
    "            # Compare current value with each element on its left\n",
    "            # until finding a smaller element\n",
    "            iterations += 1\n",
    "            array[position] = array[position-1]\n",
    "            position = position-1\n",
    "\n",
    "        array[position] = current_value"
   ]
  },
  {
   "cell_type": "code",
   "execution_count": 15,
   "metadata": {},
   "outputs": [],
   "source": [
    "# alternative version\n",
    "\n",
    "def insertion_sort_alternative(array):\n",
    "    '''\n",
    "    Time Complexity: O(n²)\n",
    "    Space Complexity: O(1)\n",
    "    '''    \n",
    "    n = len(array)\n",
    "    for i in range(1, n):\n",
    "        current_value = array[i]\n",
    "        for j in range(i-1, -1, -1):\n",
    "            if array[j] > current_value:\n",
    "                array[j], array[j+1] = array[j+1], array[j] # swap\n",
    "            else:\n",
    "                array[j+1] = current_value\n",
    "                break"
   ]
  },
  {
   "cell_type": "code",
   "execution_count": 16,
   "metadata": {},
   "outputs": [
    {
     "name": "stdout",
     "output_type": "stream",
     "text": [
      "0\n"
     ]
    }
   ],
   "source": [
    "# Best Case Performance\n",
    "\n",
    "array = list(range(0,40))  # sorted list from 0 to 40\n",
    "insertion_sort(array)\n",
    "print(iterations)"
   ]
  },
  {
   "cell_type": "code",
   "execution_count": 17,
   "metadata": {},
   "outputs": [
    {
     "name": "stdout",
     "output_type": "stream",
     "text": [
      "425\n"
     ]
    }
   ],
   "source": [
    "# Average Case Performance\n",
    "\n",
    "array = list(range(0,40))  # sorted list from 0 to 40\n",
    "shuffle(array)             # elements are randomly shuffled\n",
    "insertion_sort(array)\n",
    "print(iterations)"
   ]
  },
  {
   "cell_type": "code",
   "execution_count": 18,
   "metadata": {},
   "outputs": [
    {
     "name": "stdout",
     "output_type": "stream",
     "text": [
      "780\n"
     ]
    }
   ],
   "source": [
    "# Worst Case Performance\n",
    "\n",
    "array = list(range(0,40))  # sorted list from 0 to 40\n",
    "array.reverse()            # reverse array\n",
    "insertion_sort(array)\n",
    "print(iterations)"
   ]
  },
  {
   "cell_type": "markdown",
   "metadata": {},
   "source": [
    "&nbsp;  \n",
    "**When to use Insertion sort?**  \n",
    "More efficient that other sorts when N is comparatively smaller, say < 30."
   ]
  },
  {
   "cell_type": "markdown",
   "metadata": {},
   "source": [
    "<hr>\n",
    "&nbsp;\n",
    "\n",
    "\n",
    "## Merge sort"
   ]
  },
  {
   "cell_type": "code",
   "execution_count": 19,
   "metadata": {
    "hide_input": true,
    "scrolled": false
   },
   "outputs": [
    {
     "data": {
      "image/jpeg": "[encoded data removed]",
      "text/html": [
       "\n",
       "        <iframe\n",
       "            width=\"560\"\n",
       "            height=\"315\"\n",
       "            src=\"https://www.youtube.com/embed/XaqR3G_NVoo\"\n",
       "            frameborder=\"0\"\n",
       "            allowfullscreen\n",
       "        ></iframe>\n",
       "        "
      ],
      "text/plain": [
       "<IPython.lib.display.YouTubeVideo at 0x7fd0cc13da90>"
      ]
     },
     "execution_count": 19,
     "metadata": {},
     "output_type": "execute_result"
    }
   ],
   "source": [
    "YouTubeVideo('XaqR3G_NVoo',width=560,height=315)"
   ]
  },
  {
   "cell_type": "markdown",
   "metadata": {},
   "source": [
    "<img src=\"./attachments/merge_sort.png\" alt=\"Merge sort chart\">"
   ]
  },
  {
   "cell_type": "code",
   "execution_count": 20,
   "metadata": {
    "hide_input": true
   },
   "outputs": [
    {
     "data": {
      "image/jpeg": "[encoded data removed]",
      "text/html": [
       "\n",
       "        <iframe\n",
       "            width=\"560\"\n",
       "            height=\"315\"\n",
       "            src=\"https://www.youtube.com/embed/kiyRJ7GVWro\"\n",
       "            frameborder=\"0\"\n",
       "            allowfullscreen\n",
       "        ></iframe>\n",
       "        "
      ],
      "text/plain": [
       "<IPython.lib.display.YouTubeVideo at 0x7fd0cc13d130>"
      ]
     },
     "execution_count": 20,
     "metadata": {},
     "output_type": "execute_result"
    }
   ],
   "source": [
    "YouTubeVideo('kiyRJ7GVWro',width=560,height=315)"
   ]
  },
  {
   "cell_type": "code",
   "execution_count": 21,
   "metadata": {
    "hide_input": true
   },
   "outputs": [
    {
     "data": {
      "image/jpeg": "[encoded data removed]",
      "text/html": [
       "\n",
       "        <iframe\n",
       "            width=\"560\"\n",
       "            height=\"315\"\n",
       "            src=\"https://www.youtube.com/embed/rBd5w0rQaFo\"\n",
       "            frameborder=\"0\"\n",
       "            allowfullscreen\n",
       "        ></iframe>\n",
       "        "
      ],
      "text/plain": [
       "<IPython.lib.display.YouTubeVideo at 0x7fd0cc13deb0>"
      ]
     },
     "execution_count": 21,
     "metadata": {},
     "output_type": "execute_result"
    }
   ],
   "source": [
    "YouTubeVideo('rBd5w0rQaFo',width=560,height=315)"
   ]
  },
  {
   "cell_type": "code",
   "execution_count": 22,
   "metadata": {
    "hide_input": true
   },
   "outputs": [
    {
     "data": {
      "image/jpeg": "[encoded data removed]",
      "text/html": [
       "\n",
       "        <iframe\n",
       "            width=\"560\"\n",
       "            height=\"315\"\n",
       "            src=\"https://www.youtube.com/embed/8ArtRiTkYEw\"\n",
       "            frameborder=\"0\"\n",
       "            allowfullscreen\n",
       "        ></iframe>\n",
       "        "
      ],
      "text/plain": [
       "<IPython.lib.display.YouTubeVideo at 0x7fd0cc13d940>"
      ]
     },
     "execution_count": 22,
     "metadata": {},
     "output_type": "execute_result"
    }
   ],
   "source": [
    "YouTubeVideo('8ArtRiTkYEw',width=560,height=315)"
   ]
  },
  {
   "cell_type": "code",
   "execution_count": 23,
   "metadata": {},
   "outputs": [],
   "source": [
    "def merge(left, right):\n",
    "    if not left:\n",
    "        return right\n",
    "    if not right:\n",
    "        return left\n",
    "\n",
    "    global iterations  # This is used to compare algorithms\n",
    "    result = []\n",
    "    index_left = index_right = 0\n",
    "\n",
    "    while index_left < len(left) or index_right < len(right):  # keep on until all elements are processed\n",
    "        iterations += 1\n",
    "        if left[index_left] <= right[index_right]:  # but add them to result in a sorted way\n",
    "            result.append(left[index_left])\n",
    "            index_left += 1\n",
    "        else:\n",
    "            result.append(right[index_right])\n",
    "            index_right += 1       \n",
    "        if index_right == len(right):    # If you reach the end of either array, then you can\n",
    "            result += left[index_left:]  # add the remaining elements from the other array to\n",
    "            break                        # the result and break the loop\n",
    "        if index_left == len(left):\n",
    "            result += right[index_right:]\n",
    "            break\n",
    "    return result"
   ]
  },
  {
   "cell_type": "code",
   "execution_count": 24,
   "metadata": {},
   "outputs": [],
   "source": [
    "def merge_sort(array):\n",
    "    '''\n",
    "    Time Complexity: O(nlog n)\n",
    "    Space Complexity: O(n)\n",
    "    '''\n",
    "    if len(array) < 2:\n",
    "        return array\n",
    "\n",
    "    middle = len(array) // 2\n",
    "    left = merge_sort(array[:middle])\n",
    "    right = merge_sort(array[middle:])\n",
    "    \n",
    "    return merge(left, right)"
   ]
  },
  {
   "cell_type": "code",
   "execution_count": 25,
   "metadata": {},
   "outputs": [
    {
     "name": "stdout",
     "output_type": "stream",
     "text": [
      "100\n"
     ]
    }
   ],
   "source": [
    "# Best Case Performance\n",
    "\n",
    "array = list(range(0,40))  # sorted list from 0 to 40\n",
    "\n",
    "iterations = 0\n",
    "merge_sort(array)\n",
    "print(iterations)"
   ]
  },
  {
   "cell_type": "code",
   "execution_count": 26,
   "metadata": {},
   "outputs": [
    {
     "name": "stdout",
     "output_type": "stream",
     "text": [
      "168\n"
     ]
    }
   ],
   "source": [
    "# Average Case Performance\n",
    "\n",
    "array = list(range(0,40))  # sorted list from 0 to 40\n",
    "shuffle(array)             # elements are randomly shuffled\n",
    "iterations = 0\n",
    "merge_sort(array)\n",
    "print(iterations)"
   ]
  },
  {
   "cell_type": "code",
   "execution_count": 27,
   "metadata": {},
   "outputs": [],
   "source": [
    "# Generate Worst Case array\n",
    "# for more info:\n",
    "# https://stackoverflow.com/questions/24594112/when-will-the-worst-case-of-merge-sort-occur\n",
    "\n",
    "def worst_case_array_of_size(n):\n",
    "    if n == 1:\n",
    "        return [1]\n",
    "    else:\n",
    "        top = worst_case_array_of_size(int(floor(float(n) / 2)))\n",
    "        bottom = worst_case_array_of_size(int(ceil(float(n) / 2)))\n",
    "        return list(map(lambda x: x * 2, top)) + list(map(lambda x: x * 2 - 1, bottom))"
   ]
  },
  {
   "cell_type": "code",
   "execution_count": 28,
   "metadata": {},
   "outputs": [
    {
     "name": "stdout",
     "output_type": "stream",
     "text": [
      "177\n"
     ]
    }
   ],
   "source": [
    "# Worst Case Performance\n",
    "\n",
    "array = worst_case_array_of_size(40)\n",
    "iterations = 0\n",
    "merge_sort(array)\n",
    "print(iterations)"
   ]
  },
  {
   "cell_type": "markdown",
   "metadata": {},
   "source": [
    "<hr>\n",
    "&nbsp;\n",
    "\n",
    "\n",
    "## Quick sort"
   ]
  },
  {
   "cell_type": "code",
   "execution_count": 29,
   "metadata": {
    "hide_input": true,
    "scrolled": true
   },
   "outputs": [
    {
     "data": {
      "image/jpeg": "[encoded data removed]",
      "text/html": [
       "\n",
       "        <iframe\n",
       "            width=\"560\"\n",
       "            height=\"315\"\n",
       "            src=\"https://www.youtube.com/embed/ywWBy6J5gz8\"\n",
       "            frameborder=\"0\"\n",
       "            allowfullscreen\n",
       "        ></iframe>\n",
       "        "
      ],
      "text/plain": [
       "<IPython.lib.display.YouTubeVideo at 0x7fd0cc237610>"
      ]
     },
     "execution_count": 29,
     "metadata": {},
     "output_type": "execute_result"
    }
   ],
   "source": [
    "YouTubeVideo('ywWBy6J5gz8',width=560,height=315)"
   ]
  },
  {
   "cell_type": "markdown",
   "metadata": {},
   "source": [
    "<img src=\"./attachments/quick_sort.png\" alt=\"Merge sort chart\">"
   ]
  },
  {
   "cell_type": "code",
   "execution_count": 30,
   "metadata": {
    "hide_input": true,
    "scrolled": true
   },
   "outputs": [
    {
     "data": {
      "image/jpeg": "[encoded data removed]",
      "text/html": [
       "\n",
       "        <iframe\n",
       "            width=\"560\"\n",
       "            height=\"315\"\n",
       "            src=\"https://www.youtube.com/embed/ETo1cpLN7kk\"\n",
       "            frameborder=\"0\"\n",
       "            allowfullscreen\n",
       "        ></iframe>\n",
       "        "
      ],
      "text/plain": [
       "<IPython.lib.display.YouTubeVideo at 0x7fd0cc13d9a0>"
      ]
     },
     "execution_count": 30,
     "metadata": {},
     "output_type": "execute_result"
    }
   ],
   "source": [
    "YouTubeVideo('ETo1cpLN7kk',width=560,height=315)"
   ]
  },
  {
   "cell_type": "code",
   "execution_count": 31,
   "metadata": {
    "hide_input": true
   },
   "outputs": [
    {
     "data": {
      "image/jpeg": "[encoded data removed]",
      "text/html": [
       "\n",
       "        <iframe\n",
       "            width=\"560\"\n",
       "            height=\"315\"\n",
       "            src=\"https://www.youtube.com/embed/LYzdRN5iFdA\"\n",
       "            frameborder=\"0\"\n",
       "            allowfullscreen\n",
       "        ></iframe>\n",
       "        "
      ],
      "text/plain": [
       "<IPython.lib.display.YouTubeVideo at 0x7fd0cc237a00>"
      ]
     },
     "execution_count": 31,
     "metadata": {},
     "output_type": "execute_result"
    }
   ],
   "source": [
    "YouTubeVideo('LYzdRN5iFdA',width=560,height=315)"
   ]
  },
  {
   "cell_type": "code",
   "execution_count": 32,
   "metadata": {
    "hide_input": true,
    "scrolled": true
   },
   "outputs": [
    {
     "data": {
      "image/jpeg": "[encoded data removed]",
      "text/html": [
       "\n",
       "        <iframe\n",
       "            width=\"560\"\n",
       "            height=\"315\"\n",
       "            src=\"https://www.youtube.com/embed/kqO46FOUTbI\"\n",
       "            frameborder=\"0\"\n",
       "            allowfullscreen\n",
       "        ></iframe>\n",
       "        "
      ],
      "text/plain": [
       "<IPython.lib.display.YouTubeVideo at 0x7fd0cc13d100>"
      ]
     },
     "execution_count": 32,
     "metadata": {},
     "output_type": "execute_result"
    }
   ],
   "source": [
    "YouTubeVideo('kqO46FOUTbI',width=560,height=315)"
   ]
  },
  {
   "cell_type": "code",
   "execution_count": 33,
   "metadata": {},
   "outputs": [],
   "source": [
    "def quicksort(array):\n",
    "    '''Randomized Quicksort algorithm\n",
    "    Time Complexity: O(nlog n)\n",
    "    Space Complexity: O(log n)\n",
    "    '''\n",
    "    if len(array) < 2:  # If the input array contains fewer than two elements,\n",
    "        return array    # then return it as the result of the function\n",
    "    \n",
    "    global iterations  # This is used to compare algorithms\n",
    "    low, same, high = [], [], []\n",
    "    pivot = array[randint(0, len(array) - 1)]  # Select random `pivot`\n",
    "\n",
    "    for item in array:\n",
    "        iterations += 1\n",
    "        # `pivot` go to the `high` list. Elements that are\n",
    "        # equal to `pivot` go to the `same` list.\n",
    "        if item < pivot:       # Elements smaller than the `pivot`\n",
    "            low.append(item)   # go to the `low` list. \n",
    "        elif item == pivot:    # Elements equals to the `pivot`\n",
    "            same.append(item)  # go to the `same` list.\n",
    "        elif item > pivot:     # Elements larger than the `pivot`\n",
    "            high.append(item)  # go to the `high` list. \n",
    "    return quicksort(low) + same + quicksort(high)"
   ]
  },
  {
   "cell_type": "code",
   "execution_count": 36,
   "metadata": {},
   "outputs": [
    {
     "name": "stdout",
     "output_type": "stream",
     "text": [
      "205\n"
     ]
    }
   ],
   "source": [
    "# Best Case Performance: when the array is randomly shuffled\n",
    "\n",
    "array = list(range(0,40))  # sorted list from 0 to 40\n",
    "shuffle(array)             # elements are randomly shuffled\n",
    "iterations = 0\n",
    "quicksort(array)\n",
    "print(iterations)"
   ]
  },
  {
   "cell_type": "code",
   "execution_count": 35,
   "metadata": {
    "scrolled": true
   },
   "outputs": [
    {
     "name": "stdout",
     "output_type": "stream",
     "text": [
      "204\n",
      "193\n"
     ]
    }
   ],
   "source": [
    "# Worst Case Performance: it doesn’t occur for a particular pattern\n",
    "# because it depends on the pivot and this is one is randomly chosen\n",
    "# Following are examples of ascendending and descending sorted arrays\n",
    "\n",
    "array = list(range(0,40))  # sorted list from 0 to 40\n",
    "\n",
    "iterations = 0\n",
    "quicksort(array)\n",
    "print(iterations)\n",
    "\n",
    "array.reverse()\n",
    "iterations = 0\n",
    "quicksort(array)\n",
    "print(iterations)"
   ]
  },
  {
   "cell_type": "markdown",
   "metadata": {},
   "source": [
    "<hr>\n",
    "&nbsp;\n",
    "\n",
    "\n",
    "## Merge sort vs Quick sort"
   ]
  },
  {
   "cell_type": "markdown",
   "metadata": {},
   "source": [
    "<img src=\"./attachments/merge_sort_vs_quick_sort.png\" alt=\"Merge sort chart\">"
   ]
  },
  {
   "cell_type": "markdown",
   "metadata": {},
   "source": [
    "**Why Quicksort is preferred over Merge sort for sorting arrays?**\n",
    "\n",
    "- Quick Sort is an in-place sort (i.e. it doesn’t require any extra storage) whereas merge sort requires O(n) extra storage.\n",
    "- Allocating and de-allocating the extra space used for merge sort increases the running time of the algorithm\n",
    "- Both have O(nlog n) average complexity but the constants differ. For arrays, merge sort loses due to the use of extra O(n) storage space.\n",
    "- Randomized quicksort's worst case doesn’t occur for a particular pattern and works well in practice.\n",
    "- Quick Sort is a cache friendly sorting algorithm as it has good locality of reference when used for arrays.\n",
    "- Quick Sort is also tail recursive, therefore tail call optimizations is done."
   ]
  },
  {
   "cell_type": "markdown",
   "metadata": {},
   "source": [
    "**Why Merge sort is preferred over Quicksort for linked lists?**\n",
    "\n",
    "- The difference is mainly due to the memory allocation of linked lists\n",
    "- Merge operation to be implemented without extra space\n",
    "    - linked list nodes may not be adjacent in memory (unlike arrays).\n",
    "    - in linked list, we can insert items in the middle in O(1) extra space and O(1) time.\n",
    "- Random access is not easily implementable in linked list\n",
    "    - we have to travel through each nodes from the head to access one particular node\n",
    "    - merge sort accesses data sequentially and the need of random access is low."
   ]
  },
  {
   "cell_type": "markdown",
   "metadata": {},
   "source": [
    "<hr>\n",
    "&nbsp;\n",
    "\n",
    "\n",
    "## Credits\n",
    "\n",
    "- [Omkar Pathak](https://github.com/OmkarPathak/Data-Structures-using-Python) for the notebook structure\n",
    "- [real python](https://realpython.com/sorting-algorithms-python/) and [Geeks for geeks](https://www.geeksforgeeks.org/quick-sort-vs-merge-sort/) for the Images"
   ]
  }
 ],
 "metadata": {
  "kernelspec": {
   "display_name": "Python 3",
   "language": "python",
   "name": "python3"
  },
  "language_info": {
   "codemirror_mode": {
    "name": "ipython",
    "version": 3
   },
   "file_extension": ".py",
   "mimetype": "text/x-python",
   "name": "python",
   "nbconvert_exporter": "python",
   "pygments_lexer": "ipython3",
   "version": "3.9.2"
  },
  "toc": {
   "base_numbering": 1,
   "nav_menu": {},
   "number_sections": true,
   "sideBar": true,
   "skip_h1_title": true,
   "title_cell": "Table of Contents",
   "title_sidebar": "Contents",
   "toc_cell": true,
   "toc_position": {},
   "toc_section_display": true,
   "toc_window_display": false
  },
  "varInspector": {
   "cols": {
    "lenName": 16,
    "lenType": 16,
    "lenVar": 40
   },
   "kernels_config": {
    "python": {
     "delete_cmd_postfix": "",
     "delete_cmd_prefix": "del ",
     "library": "var_list.py",
     "varRefreshCmd": "print(var_dic_list())"
    },
    "r": {
     "delete_cmd_postfix": ") ",
     "delete_cmd_prefix": "rm(",
     "library": "var_list.r",
     "varRefreshCmd": "cat(var_dic_list()) "
    }
   },
   "types_to_exclude": [
    "module",
    "function",
    "builtin_function_or_method",
    "instance",
    "_Feature"
   ],
   "window_display": false
  }
 },
 "nbformat": 4,
 "nbformat_minor": 4
}
