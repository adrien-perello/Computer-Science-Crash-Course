{
 "cells": [
  {
   "cell_type": "markdown",
   "metadata": {},
   "source": [
    "# Clean code\n"
   ]
  },
  {
   "cell_type": "markdown",
   "metadata": {},
   "source": [
    "## Readability: PEP8 Standards\n",
    "\n",
    "PEP 8 (Python Enhancement Proposal) is a document that provides guidelines and best practices on how to write Python code.\n",
    "\n",
    "The following outlines the key guidelines from PEP 8."
   ]
  },
  {
   "cell_type": "markdown",
   "metadata": {},
   "source": [
    "### Names\n",
    "\n",
    "Don't use single letter to name your variable (especially not the letters l, O, or I which can be mistaken for 1 and 0).\n",
    "\n",
    "\n",
    "| Type         | Naming Convention                                                                                               | Examples                                |\n",
    "| :----------- | :-------------------------------------------------------------------------------------------------------------- | :-------------------------------------- |\n",
    "| **Function** | Use a lowercase word or words. Separate words by underscores to improve readability.                            | function, my_function                   |\n",
    "| **Variable** | Use a lowercase single letter, word, or words. Separate words with underscores to improve readability.          | x, var, my_variable                     |\n",
    "| **Class**    | Start each word with a capital letter. Do not separate words with underscores. This style is called camel case. | Model, MyClass                          |\n",
    "| **Method**   | Use a lowercase word or words. Separate words with underscores to improve readability.                          | class_method, method                    |\n",
    "| **Constant** | Use an uppercase single letter, word, or words. Separate words with underscores to improve readability.         | CONSTANT, MY_CONSTANT, MY_LONG_CONSTANT |\n",
    "| **Module**   | Use a short, lowercase word or words. Separate words with underscores to improve readability.                   | module.py, my_module.py                 |\n",
    "| **Package**  | Use a short, lowercase word or words. Do not separate words with underscores.                                   | package, mypackage                      |\n"
   ]
  },
  {
   "cell_type": "code",
   "execution_count": null,
   "metadata": {},
   "outputs": [],
   "source": [
    "# DON'T DO THIS\n",
    "\n",
    "x = \"John Smith\"\n",
    "y, z = x.split()\n",
    "\n",
    "\n",
    "# DO THIS INSTEAD\n",
    "\n",
    "name = \"John Smith\"\n",
    "first_name, last_name = name.split()"
   ]
  },
  {
   "cell_type": "code",
   "execution_count": null,
   "metadata": {},
   "outputs": [],
   "source": [
    "# DON'T DO THIS\n",
    "\n",
    "def db(x):\n",
    "    return x * 2\n",
    "\n",
    "\n",
    "# DO THIS INSTEAD\n",
    "\n",
    "def multiply_by_two(x):\n",
    "    return x * 2"
   ]
  },
  {
   "cell_type": "markdown",
   "metadata": {},
   "source": [
    "### Code layout\n",
    "\n",
    "Use 2x blank lines to separate classes and top level functions\n"
   ]
  },
  {
   "cell_type": "code",
   "execution_count": null,
   "metadata": {},
   "outputs": [],
   "source": [
    "# DO THIS\n",
    "\n",
    "class MyFirstClass:\n",
    "    pass  # 2 blank lines after a class\n",
    "\n",
    "\n",
    "class MySecondClass:  # 2 blank lines before a class\n",
    "    pass  # 2 blank lines after a class\n",
    "\n",
    "\n",
    "def top_level_function():  # 2 blank lines before top-level function\n",
    "    return None"
   ]
  },
  {
   "cell_type": "markdown",
   "metadata": {},
   "source": [
    "Use 1x blank line to separate methods\n"
   ]
  },
  {
   "cell_type": "code",
   "execution_count": null,
   "metadata": {},
   "outputs": [],
   "source": [
    "# DO THIS\n",
    "\n",
    "class MyClass:\n",
    "    def first_method(self):\n",
    "        return None  # 1 blank line after a method\n",
    "\n",
    "    def second_method(self):  # 1 blank line before a method\n",
    "        return None"
   ]
  },
  {
   "cell_type": "markdown",
   "metadata": {},
   "source": [
    "Use blank lines to facilitate understanding\n"
   ]
  },
  {
   "cell_type": "code",
   "execution_count": null,
   "metadata": {},
   "outputs": [],
   "source": [
    "# DON'T DO THIS\n",
    "\n",
    "def calculate_variance(number_list):\n",
    "    sum_list = 0\n",
    "    for number in number_list:\n",
    "        sum_list = sum_list + number\n",
    "    mean = sum_list / len(number_list)\n",
    "    sum_squares = 0\n",
    "    for number in number_list:\n",
    "        sum_squares = sum_squares + number**2\n",
    "    mean_squares = sum_squares / len(number_list)\n",
    "    return mean_squares - mean**2\n",
    "\n",
    "\n",
    "# DO THIS INSTEAD\n",
    "\n",
    "def calculate_variance(number_list):\n",
    "    sum_list = 0\n",
    "    for number in number_list:\n",
    "        sum_list = sum_list + number\n",
    "    mean = sum_list / len(number_list)\n",
    "\n",
    "    sum_squares = 0\n",
    "    for number in number_list:\n",
    "        sum_squares = sum_squares + number**2\n",
    "    mean_squares = sum_squares / len(number_list)\n",
    "\n",
    "    return mean_squares - mean**2"
   ]
  },
  {
   "cell_type": "markdown",
   "metadata": {},
   "source": [
    "For readability, keep the number of characters on one line under 80-120 characters (PEP8 recommends 79). Use line break if needed\n"
   ]
  },
  {
   "cell_type": "code",
   "execution_count": null,
   "metadata": {},
   "outputs": [],
   "source": [
    "# DON'T DO THIS\n",
    "\n",
    "def function(argument_one, argument_two, argument_three, argument_four):\n",
    "    return argument_one\n",
    "\n",
    "\n",
    "# DO THIS INSTEAD\n",
    "\n",
    "def function(argument_one, argument_two, argument_three, argument_four):\n",
    "    return argument_one"
   ]
  },
  {
   "cell_type": "markdown",
   "metadata": {},
   "source": [
    "### Identation\n",
    "\n",
    "Don't mix spaces and tabs. Only use spaces (4x) to indent instead of a tab.\n",
    "\n",
    "When using line break:\n",
    "\n",
    "- Use line break _after_ a binary operator\n",
    "- Use indentation\n"
   ]
  },
  {
   "cell_type": "code",
   "execution_count": null,
   "metadata": {},
   "outputs": [],
   "source": [
    "# DON'T DO THIS\n",
    "\n",
    "total = (first_variable +\n",
    "         second_variable -\n",
    "         third_variable)\n",
    "\n",
    "\n",
    "# DO THIS INSTEAD\n",
    "\n",
    "total = (first_variable\n",
    "         + second_variable\n",
    "         - third_variable)"
   ]
  },
  {
   "cell_type": "code",
   "execution_count": null,
   "metadata": {},
   "outputs": [],
   "source": [
    "# DON'T DO THIS\n",
    "\n",
    "x = 5\n",
    "if (x > 3 and\n",
    "    x < 10):\n",
    "    print(x)\n",
    "\n",
    "\n",
    "# DO THIS INSTEAD\n",
    "\n",
    "x = 5\n",
    "if (x > 3 and\n",
    "        x < 10):\n",
    "    print(x)\n",
    "\n",
    "\n",
    "# OR DO THIS\n",
    "\n",
    "x = 5\n",
    "if (x > 3 and\n",
    "    x < 10):\n",
    "    # Both conditions satisfied\n",
    "    print(x)"
   ]
  },
  {
   "cell_type": "code",
   "execution_count": null,
   "metadata": {},
   "outputs": [],
   "source": [
    "# DON'T DO THIS\n",
    "\n",
    "var = function(arg_one, arg_two,\n",
    "    arg_three, arg_four)\n",
    "\n",
    "\n",
    "# DO THIS INSTEAD\n",
    "\n",
    "var = function(\n",
    "    arg_one, arg_two,\n",
    "    arg_three, arg_four)"
   ]
  },
  {
   "cell_type": "markdown",
   "metadata": {},
   "source": [
    "When breaking lines insides parentheses, brackets, or braces, do this\n"
   ]
  },
  {
   "cell_type": "code",
   "execution_count": null,
   "metadata": {},
   "outputs": [],
   "source": [
    "# DO THIS\n",
    "\n",
    "list_of_numbers = [\n",
    "    1, 2, 3,\n",
    "    4, 5, 6,\n",
    "    7, 8, 9\n",
    "    ]\n",
    "\n",
    "\n",
    "# OR DO THIS\n",
    "\n",
    "list_of_numbers = [\n",
    "    1, 2, 3,\n",
    "    4, 5, 6,\n",
    "    7, 8, 9\n",
    "]"
   ]
  },
  {
   "cell_type": "markdown",
   "metadata": {},
   "source": [
    "### Comments\n",
    "\n",
    "Follow those general rules when commenting:\n",
    "\n",
    "- Limit the line length of comments and docstrings to 70-100 characters (PEP8 recommends 72).\n",
    "- Use complete sentences, starting with a capital letter.\n",
    "- Make sure to update comments if you change your code.\n",
    "\n",
    "For _block comments_, follow those rules:\n",
    "\n",
    "- Indent block comments to the same level as the code they describe.\n",
    "- Start each line with a # followed by a single space.\n",
    "- Separate paragraphs by a line containing a single #.\n"
   ]
  },
  {
   "cell_type": "code",
   "execution_count": null,
   "metadata": {},
   "outputs": [],
   "source": [
    "# DO THIS\n",
    "\n",
    "def quadratic(a, b, c, x):\n",
    "    # Calculate the solution to a quadratic equation using the quadratic\n",
    "    # formula.\n",
    "    #\n",
    "    # There are always two solutions to a quadratic equation, x_1 and x_2.\n",
    "    x_1 = (-b + (b**2 - 4 * a * c) ** (1 / 2)) / (2 * a)\n",
    "    x_2 = (-b - (b**2 - 4 * a * c) ** (1 / 2)) / (2 * a)\n",
    "    return x_1, x_2"
   ]
  },
  {
   "cell_type": "markdown",
   "metadata": {},
   "source": [
    "For _inline comments_, follow those rules:\n",
    "\n",
    "- Use inline comments sparingly\n",
    "- Write inline comments on the same line as the statement they refer to.\n",
    "- Separate inline comments by two or more spaces from the statement.\n",
    "- Start inline comments with a # and a single space, like block comments.\n",
    "- Don’t use them to explain the obvious.\n"
   ]
  },
  {
   "cell_type": "code",
   "execution_count": null,
   "metadata": {},
   "outputs": [],
   "source": [
    "# DON'T DO THIS\n",
    "\n",
    "x = \"John Smith\"  # Student Name\n",
    "\n",
    "\n",
    "# DO THIS INSTEAD\n",
    "\n",
    "student_name = \"John Smith\""
   ]
  },
  {
   "cell_type": "code",
   "execution_count": null,
   "metadata": {},
   "outputs": [],
   "source": [
    "# DON'T DO THIS\n",
    "\n",
    "empty_list = []  # Initialize empty list\n",
    "\n",
    "x = 5\n",
    "x = x * 5  # Multiply x by 5"
   ]
  },
  {
   "cell_type": "markdown",
   "metadata": {},
   "source": [
    "For _docstrings_, follow those rules:\n",
    "\n",
    "- Surround docstrings with three double quotes on either side\n",
    "- Write them for all public modules, functions, classes, and methods\n",
    "- Put the \"\"\" that ends a multiline docstring on a line by itself\n"
   ]
  },
  {
   "cell_type": "code",
   "execution_count": null,
   "metadata": {},
   "outputs": [],
   "source": [
    "# DO THIS\n",
    "\n",
    "def quadratic(a, b, c, x):\n",
    "    \"\"\"Solve quadratic equation via the quadratic formula.\n",
    "\n",
    "    A quadratic equation has the following form:\n",
    "    ax**2 + bx + c = 0\n",
    "\n",
    "    There always two solutions to a quadratic equation: x_1 & x_2.\n",
    "    \"\"\"\n",
    "    x_1 = (-b + (b**2 - 4 * a * c) ** (1 / 2)) / (2 * a)\n",
    "    x_2 = (-b - (b**2 - 4 * a * c) ** (1 / 2)) / (2 * a)\n",
    "\n",
    "    return x_1, x_2\n",
    "\n",
    "\n",
    "# OR DO THIS INSTEAD\n",
    "\n",
    "def quadratic(a, b, c, x):\n",
    "    \"\"\"Use the quadratic formula\"\"\"\n",
    "    x_1 = (-b + (b**2 - 4 * a * c) ** (1 / 2)) / (2 * a)\n",
    "    x_2 = (-b - (b**2 - 4 * a * c) ** (1 / 2)) / (2 * a)\n",
    "\n",
    "    return x_1, x_2"
   ]
  },
  {
   "cell_type": "markdown",
   "metadata": {},
   "source": [
    "### Whitespaces\n",
    "\n",
    "Surround the binary operators with a single space on either side (but not for default parameter).\n"
   ]
  },
  {
   "cell_type": "code",
   "execution_count": null,
   "metadata": {},
   "outputs": [],
   "source": [
    "# DON'T DO THIS\n",
    "\n",
    "def function(default_parameter=5):\n",
    "    pass\n",
    "\n",
    "\n",
    "# DO THIS INSTEAD\n",
    "\n",
    "def function(default_parameter=5):\n",
    "    pass"
   ]
  },
  {
   "cell_type": "markdown",
   "metadata": {},
   "source": [
    "When there’s more than one operator, only add whitespace around the operators with the lowest priority\n"
   ]
  },
  {
   "cell_type": "code",
   "execution_count": null,
   "metadata": {},
   "outputs": [],
   "source": [
    "# DON'T DO THIS\n",
    "\n",
    "y = x**2 + 5\n",
    "z = (x + y) * (x - y)\n",
    "\n",
    "\n",
    "# DO THIS INSTEAD\n",
    "\n",
    "y = x**2 + 5\n",
    "z = (x + y) * (x - y)"
   ]
  },
  {
   "cell_type": "code",
   "execution_count": null,
   "metadata": {},
   "outputs": [],
   "source": [
    "# DON'T DO THIS\n",
    "\n",
    "if x > 5 and x % 2 == 0:\n",
    "    pass\n",
    "\n",
    "\n",
    "# AND DON'T DO THIS\n",
    "\n",
    "if x > 5 and x % 2 == 0:\n",
    "    pass\n",
    "\n",
    "\n",
    "# DO THIS INSTEAD\n",
    "\n",
    "if x > 5 and x % 2 == 0:\n",
    "    pass"
   ]
  },
  {
   "cell_type": "code",
   "execution_count": null,
   "metadata": {},
   "outputs": [],
   "source": [
    "# DO THIS\n",
    "\n",
    "my_list[3:4]\n",
    "my_list[x + 1 : x + 2]\n",
    "\n",
    "my_list[3:4:5]\n",
    "my_list[x + 1 : x + 2 : x + 3]\n",
    "\n",
    "my_list[x + 1 : x + 2 :]"
   ]
  },
  {
   "cell_type": "markdown",
   "metadata": {},
   "source": [
    "Don't overuse whitespaces either\n"
   ]
  },
  {
   "cell_type": "code",
   "execution_count": null,
   "metadata": {},
   "outputs": [],
   "source": [
    "# DON'T DO THIS\n",
    "\n",
    "print(x, y)\n",
    "my_list = [\n",
    "    1,\n",
    "    2,\n",
    "    3,\n",
    "]\n",
    "my_list[3]\n",
    "my_tuple = (1,)\n",
    "var1 = 5\n",
    "var2 = 6\n",
    "some_long_var = 7\n",
    "\n",
    "\n",
    "# DO THIS INSTEAD\n",
    "\n",
    "print(x, y)\n",
    "my_list = [1, 2, 3]\n",
    "my_list[3]\n",
    "my_tuple = (1,)\n",
    "var1 = 5\n",
    "var2 = 6\n",
    "some_long_var = 7"
   ]
  },
  {
   "cell_type": "markdown",
   "metadata": {},
   "source": [
    "### Other recommendations\n",
    "\n",
    "Don’t use the operator `==` to compare values to `True`, `False`, `None`.\n"
   ]
  },
  {
   "cell_type": "code",
   "execution_count": null,
   "metadata": {},
   "outputs": [],
   "source": [
    "my_bool = 6 > 5\n",
    "number = None\n",
    "flag = True\n",
    "my_list = []"
   ]
  },
  {
   "cell_type": "code",
   "execution_count": null,
   "metadata": {},
   "outputs": [],
   "source": [
    "# DON'T DO THIS\n",
    "\n",
    "if my_bool == True:\n",
    "    pass\n",
    "\n",
    "if number == None:\n",
    "    pass\n",
    "\n",
    "if flag == None:\n",
    "    pass\n",
    "\n",
    "if not len(my_list):\n",
    "    pass\n",
    "\n",
    "\n",
    "# DO THIS INSTEAD\n",
    "\n",
    "if my_bool:\n",
    "    pass\n",
    "\n",
    "if number is None:\n",
    "    pass\n",
    "\n",
    "if flag:\n",
    "    pass\n",
    "\n",
    "if not my_list:\n",
    "    pass"
   ]
  },
  {
   "cell_type": "markdown",
   "metadata": {},
   "source": [
    "Use `is not` rather than `not ... is` in if statements\n"
   ]
  },
  {
   "cell_type": "code",
   "execution_count": null,
   "metadata": {},
   "outputs": [],
   "source": [
    "# DON'T DO THIS\n",
    "\n",
    "if not x is None:\n",
    "    pass\n",
    "\n",
    "\n",
    "# DO THIS INSTEAD\n",
    "\n",
    "if x is not None:\n",
    "    pass"
   ]
  },
  {
   "cell_type": "markdown",
   "metadata": {},
   "source": [
    "Don’t use `if x:` when you mean `if x is not None`\n"
   ]
  },
  {
   "cell_type": "code",
   "execution_count": null,
   "metadata": {},
   "outputs": [],
   "source": [
    "# DON'T DO THIS\n",
    "\n",
    "if arg:\n",
    "    # Do something with arg...\n",
    "\n",
    "\n",
    "# DO THIS INSTEAD\n",
    "\n",
    "if arg is not None:\n",
    "    # Do something with arg..."
   ]
  },
  {
   "cell_type": "markdown",
   "metadata": {},
   "source": [
    "Don’t mistake `is` for `==` (Only use the `is` operator if you want to check the exact identity of two references).\n"
   ]
  },
  {
   "cell_type": "code",
   "execution_count": null,
   "metadata": {},
   "outputs": [],
   "source": [
    "# DON'T DO THIS\n",
    "\n",
    "a = range(10)\n",
    "b = range(10)\n",
    "\n",
    "print((a is b))  # = False (they are equals but have different ids)\n",
    "\n",
    "\n",
    "# DO THIS INSTEAD\n",
    "\n",
    "print(a == b)"
   ]
  },
  {
   "cell_type": "markdown",
   "metadata": {},
   "source": [
    "Use `.startswith()` and `.endswith()` instead of slicing when checking for prefix and suffix\n"
   ]
  },
  {
   "cell_type": "code",
   "execution_count": null,
   "metadata": {},
   "outputs": [],
   "source": [
    "# DON'T DO THIS\n",
    "\n",
    "if word[:3] == \"cat\":\n",
    "    pass\n",
    "\n",
    "if file_name[-3:] == \"jpg\":\n",
    "    pass\n",
    "\n",
    "\n",
    "# DO THIS INSTEAD\n",
    "\n",
    "if word.startswith(\"cat\"):\n",
    "    pass\n",
    "\n",
    "if file_name.endswith(\"jpg\"):\n",
    "    pass"
   ]
  },
  {
   "cell_type": "markdown",
   "metadata": {},
   "source": [
    "### Use linters and Autoformatters\n",
    "\n",
    "You don't need to remember everything to ensure PEP 8 compliance. , There are tools that can help speed up this process:\n",
    "\n",
    "- Linters are programs that analyze code and flag errors. They provide suggestions on how to fix the error.\n",
    "- Autoformatters are programs that refactor your code to conform with PEP 8 automatically.\n",
    "\n",
    "Check the [PEP 8 documentation](https://www.python.org/dev/peps/pep-0008/) for more information on the functools module.\n"
   ]
  },
  {
   "cell_type": "markdown",
   "metadata": {},
   "source": [
    "## Common mistakes and anti-patterns"
   ]
  },
  {
   "cell_type": "markdown",
   "metadata": {},
   "source": [
    "### Do `import *`\n",
    "\n",
    "Specify what you import"
   ]
  },
  {
   "cell_type": "code",
   "execution_count": null,
   "metadata": {},
   "outputs": [],
   "source": [
    "# DON'T DO THIS\n",
    "\n",
    "from math import *\n",
    "\n",
    "\n",
    "# DO THIS INSTEAD\n",
    "\n",
    "from math import ceil\n",
    "\n",
    "\n",
    "# OR DO THIS\n",
    "\n",
    "import math"
   ]
  },
  {
   "cell_type": "markdown",
   "metadata": {},
   "source": [
    "### Use names already taken\n",
    "\n",
    "- Don't use the same name as an existing module as this might lead to importing the wrong one.\n",
    "- Don't overwrite built-in methods\n"
   ]
  },
  {
   "cell_type": "code",
   "execution_count": null,
   "metadata": {},
   "outputs": [
    {
     "ename": "TypeError",
     "evalue": "'list' object is not callable",
     "output_type": "error",
     "traceback": [
      "\u001b[0;31m---------------------------------------------------------------------------\u001b[0m",
      "\u001b[0;31mTypeError\u001b[0m                                 Traceback (most recent call last)",
      "Cell \u001b[0;32mIn[20], line 4\u001b[0m\n\u001b[1;32m      1\u001b[0m \u001b[38;5;66;03m# DON'T DO THIS\u001b[39;00m\n\u001b[1;32m      3\u001b[0m \u001b[38;5;28mlist\u001b[39m \u001b[38;5;241m=\u001b[39m [\u001b[38;5;241m1\u001b[39m, \u001b[38;5;241m2\u001b[39m, \u001b[38;5;241m3\u001b[39m]  \u001b[38;5;66;03m# # Overwriting built-in 'list'\u001b[39;00m\n\u001b[0;32m----> 4\u001b[0m cars \u001b[38;5;241m=\u001b[39m \u001b[38;5;28;43mlist\u001b[39;49m\u001b[43m(\u001b[49m\u001b[43m)\u001b[49m  \u001b[38;5;66;03m# Defining a list 'cars' will raise an error\u001b[39;00m\n\u001b[1;32m      7\u001b[0m \u001b[38;5;66;03m# DO THIS INSTEAD\u001b[39;00m\n\u001b[1;32m      8\u001b[0m numbers \u001b[38;5;241m=\u001b[39m [\u001b[38;5;241m1\u001b[39m, \u001b[38;5;241m2\u001b[39m, \u001b[38;5;241m3\u001b[39m]\n",
      "\u001b[0;31mTypeError\u001b[0m: 'list' object is not callable"
     ]
    }
   ],
   "source": [
    "# DON'T DO THIS\n",
    "\n",
    "list = [1, 2, 3]  # # Overwriting built-in 'list'\n",
    "cars = list()  # Defining a list 'cars' will raise an error\n",
    "\n",
    "\n",
    "# DO THIS INSTEAD\n",
    "\n",
    "numbers = [1, 2, 3]\n",
    "cars = list()"
   ]
  },
  {
   "cell_type": "markdown",
   "metadata": {},
   "source": [
    "### Create circular module dependencies\n",
    "\n",
    "![Circular Dependencies](./img/circular-dependencies.png)\n"
   ]
  },
  {
   "cell_type": "code",
   "execution_count": null,
   "metadata": {},
   "outputs": [],
   "source": [
    "# =======\n",
    "# in A.py\n",
    "\n",
    "import B\n",
    "\n",
    "def f():\n",
    "    return B.x\n",
    "\n",
    "print f()\n",
    "\n",
    "\n",
    "# =======\n",
    "# in B.py\n",
    "\n",
    "import A\n",
    "\n",
    "x = 1\n",
    "\n",
    "def g():\n",
    "    print A.f()"
   ]
  },
  {
   "cell_type": "markdown",
   "metadata": {},
   "source": [
    "The mere presence of a circular import is not in and of itself a problem in Python. If a module has already been imported, Python is smart enough not to try to re-import it.\n",
    "\n",
    "However, depending on the point at which each module is attempting to access functions or variables defined in the other, you may indeed run into problems:\n",
    "\n",
    "If we _import A and then import B_, it will work fine, since b.py does not require anything from a.py to be defined at the time it is imported.\n",
    "\n",
    "If we _import B without having previously imported A_ we will get an error:\n",
    "\n",
    "- Import B.py $\\Rightarrow$ import A.py\n",
    "- Import A.py $\\Rightarrow$ calls f()\n",
    "- call f() $\\Rightarrow$ access B.x **but** B.x has not yet been defined.\n",
    "\n",
    "One easy solution is to do this:\n"
   ]
  },
  {
   "cell_type": "code",
   "execution_count": null,
   "metadata": {},
   "outputs": [],
   "source": [
    "# =======\n",
    "# in B.py\n",
    "\n",
    "x = 1\n",
    "\n",
    "def g():\n",
    "    import A      # move import here\n",
    "    print A.f()"
   ]
  },
  {
   "cell_type": "markdown",
   "metadata": {},
   "source": [
    "### Misunderstand scope rules\n",
    "\n",
    "Make sure to understand the [scope rules](./13_Global-Local-and-Nonlocal.ipynb)\n"
   ]
  },
  {
   "cell_type": "code",
   "execution_count": 1,
   "metadata": {},
   "outputs": [],
   "source": [
    "my_list = [1, 2, 3]  # this is a global variable"
   ]
  },
  {
   "cell_type": "code",
   "execution_count": 2,
   "metadata": {},
   "outputs": [],
   "source": [
    "# This works\n",
    "def foo1():\n",
    "    my_list.append(5)"
   ]
  },
  {
   "cell_type": "code",
   "execution_count": 3,
   "metadata": {},
   "outputs": [],
   "source": [
    "# This does not work\n",
    "def foo2():\n",
    "    my_list += [5]"
   ]
  },
  {
   "cell_type": "code",
   "execution_count": 4,
   "metadata": {},
   "outputs": [],
   "source": [
    "foo1()"
   ]
  },
  {
   "cell_type": "code",
   "execution_count": 5,
   "metadata": {},
   "outputs": [
    {
     "data": {
      "text/plain": [
       "[1, 2, 3, 5]"
      ]
     },
     "execution_count": 5,
     "metadata": {},
     "output_type": "execute_result"
    }
   ],
   "source": [
    "my_list"
   ]
  },
  {
   "cell_type": "code",
   "execution_count": 6,
   "metadata": {},
   "outputs": [
    {
     "ename": "UnboundLocalError",
     "evalue": "cannot access local variable 'my_list' where it is not associated with a value",
     "output_type": "error",
     "traceback": [
      "\u001b[0;31m---------------------------------------------------------------------------\u001b[0m",
      "\u001b[0;31mUnboundLocalError\u001b[0m                         Traceback (most recent call last)",
      "Cell \u001b[0;32mIn[6], line 1\u001b[0m\n\u001b[0;32m----> 1\u001b[0m \u001b[43mfoo2\u001b[49m\u001b[43m(\u001b[49m\u001b[43m)\u001b[49m\n",
      "Cell \u001b[0;32mIn[3], line 3\u001b[0m, in \u001b[0;36mfoo2\u001b[0;34m()\u001b[0m\n\u001b[1;32m      2\u001b[0m \u001b[38;5;28;01mdef\u001b[39;00m \u001b[38;5;21mfoo2\u001b[39m():\n\u001b[0;32m----> 3\u001b[0m     \u001b[43mmy_list\u001b[49m \u001b[38;5;241m+\u001b[39m\u001b[38;5;241m=\u001b[39m [\u001b[38;5;241m5\u001b[39m]\n",
      "\u001b[0;31mUnboundLocalError\u001b[0m: cannot access local variable 'my_list' where it is not associated with a value"
     ]
    }
   ],
   "source": [
    "foo2()"
   ]
  },
  {
   "cell_type": "markdown",
   "metadata": {},
   "source": [
    "`foo1` is not making an assignment to `my_list`, whereas `foo2` is (it is doing `my_list = my_list + [5]`). It is attempting to assign a value to `my_list` (therefore presumed by Python to be in the local scope).\n"
   ]
  },
  {
   "cell_type": "markdown",
   "metadata": {},
   "source": [
    "### Use `global` statement\n",
    "\n",
    "Using `globals` seems to save from passing all the arguments to the function. However, it is a bad practice.\n",
    "\n",
    "Functions that amend global variables might bring _side effects_ to the main scripts that are _very difficult to spot_. Functions should be treated as block boxes, and should be reusable.\n"
   ]
  },
  {
   "cell_type": "markdown",
   "metadata": {},
   "source": [
    "### Use mutable default arguments\n",
    "\n",
    "Remember from our lesson on [Arguments and Unpacking](./12_Arguments-and-Unpacking.ipynb#Mutability-of-default-arguments)\n"
   ]
  },
  {
   "cell_type": "code",
   "execution_count": null,
   "metadata": {},
   "outputs": [],
   "source": [
    "# DON'T DO THIS\n",
    "\n",
    "def append_to(element, mylist=[]):\n",
    "    mylist.append(element)\n",
    "    return mylist\n",
    "\n",
    "\n",
    "# DO THIS INSTEAD\n",
    "\n",
    "def append_to(element, mylist=None):\n",
    "    if mylist is None:\n",
    "        mylist = []\n",
    "    mylist.append(element)\n",
    "    return mylist"
   ]
  },
  {
   "cell_type": "markdown",
   "metadata": {},
   "source": [
    "### Mistake references for copies with mutable objects\n",
    "\n",
    "Assignment do not create copies of objects, they only bind names to an object. For immutable objects, that usually doesn’t make a difference. But it does for mutable objects.\n"
   ]
  },
  {
   "cell_type": "code",
   "execution_count": 7,
   "metadata": {},
   "outputs": [],
   "source": [
    "# we create a new_list out of an old_list and modify it\n",
    "old_list = [[1, 1, 1], [2, 2, 2], [3, 3, 3]]\n",
    "new_list = old_list\n",
    "\n",
    "new_list.append([4, 4, 4])\n",
    "new_list[1][1] = \"AA\""
   ]
  },
  {
   "cell_type": "code",
   "execution_count": 8,
   "metadata": {},
   "outputs": [
    {
     "name": "stdout",
     "output_type": "stream",
     "text": [
      "[[1, 1, 1], [2, 'AA', 2], [3, 3, 3], [4, 4, 4]]\n",
      "[[1, 1, 1], [2, 'AA', 2], [3, 3, 3], [4, 4, 4]]\n"
     ]
    }
   ],
   "source": [
    "# old_list is modified\n",
    "print(old_list)\n",
    "print(new_list)"
   ]
  },
  {
   "cell_type": "code",
   "execution_count": 9,
   "metadata": {
    "scrolled": true
   },
   "outputs": [],
   "source": [
    "# The same happens when we modify old_list\n",
    "old_list = [[1, 1, 1], [2, 2, 2], [3, 3, 3]]\n",
    "new_list = old_list\n",
    "\n",
    "old_list.append([4, 4, 4])\n",
    "old_list[1][1] = \"AA\""
   ]
  },
  {
   "cell_type": "code",
   "execution_count": 10,
   "metadata": {},
   "outputs": [
    {
     "name": "stdout",
     "output_type": "stream",
     "text": [
      "[[1, 1, 1], [2, 'AA', 2], [3, 3, 3], [4, 4, 4]]\n",
      "[[1, 1, 1], [2, 'AA', 2], [3, 3, 3], [4, 4, 4]]\n"
     ]
    }
   ],
   "source": [
    "# new_list is modified too\n",
    "print(old_list)\n",
    "print(new_list)"
   ]
  },
  {
   "cell_type": "markdown",
   "metadata": {},
   "source": [
    "This happens regardless of if we modify `old_list` or `new_list`\n"
   ]
  },
  {
   "cell_type": "code",
   "execution_count": 11,
   "metadata": {},
   "outputs": [
    {
     "name": "stdout",
     "output_type": "stream",
     "text": [
      "125895892690304\n",
      "125895892690304\n"
     ]
    }
   ],
   "source": [
    "print(id(old_list))\n",
    "print(id(new_list))"
   ]
  },
  {
   "cell_type": "markdown",
   "metadata": {},
   "source": [
    "As you can see from the output both variables `old_list` and `new_list` shares the same id.\n",
    "\n",
    "To have the original values unchanged and only modify the new values (or vice versa) we need to create copies. There are 2 ways to do this\n",
    "\n",
    "- shallow copy\n",
    "- deep copy\n"
   ]
  },
  {
   "cell_type": "code",
   "execution_count": 12,
   "metadata": {},
   "outputs": [],
   "source": [
    "# use the module copy\n",
    "from copy import copy"
   ]
  },
  {
   "cell_type": "code",
   "execution_count": 13,
   "metadata": {},
   "outputs": [],
   "source": [
    "old_list = [[1, 1, 1], [2, 2, 2], [3, 3, 3]]\n",
    "new_list = copy(old_list)\n",
    "\n",
    "old_list.append([4, 4, 4])\n",
    "new_list.append([\"X\", \"X\", \"X\"])"
   ]
  },
  {
   "cell_type": "code",
   "execution_count": 14,
   "metadata": {
    "scrolled": true
   },
   "outputs": [
    {
     "name": "stdout",
     "output_type": "stream",
     "text": [
      "[[1, 1, 1], [2, 2, 2], [3, 3, 3], [4, 4, 4]]\n",
      "[[1, 1, 1], [2, 2, 2], [3, 3, 3], ['X', 'X', 'X']]\n"
     ]
    }
   ],
   "source": [
    "print(old_list)\n",
    "print(new_list)"
   ]
  },
  {
   "cell_type": "markdown",
   "metadata": {},
   "source": [
    "So far, so good.\n",
    "\n",
    "However, `copy` makes a _shallow copy_ (a one level deep copy). `new_list` still contains references to the original child objects stored in `old_list`.\n"
   ]
  },
  {
   "cell_type": "code",
   "execution_count": 15,
   "metadata": {},
   "outputs": [],
   "source": [
    "# copy makes a shallow copy\n",
    "old_list = [[1, 1, 1], [2, 2, 2], [3, 3, 3]]\n",
    "new_list = copy(old_list)\n",
    "\n",
    "old_list[1][1] = \"AA\"\n",
    "new_list[0][1] = \"BB\""
   ]
  },
  {
   "cell_type": "code",
   "execution_count": 16,
   "metadata": {},
   "outputs": [
    {
     "name": "stdout",
     "output_type": "stream",
     "text": [
      "[[1, 'BB', 1], [2, 'AA', 2], [3, 3, 3]]\n",
      "[[1, 'BB', 1], [2, 'AA', 2], [3, 3, 3]]\n"
     ]
    }
   ],
   "source": [
    "print(old_list)\n",
    "print(new_list)"
   ]
  },
  {
   "cell_type": "markdown",
   "metadata": {},
   "source": [
    "`copy` only made a copy of the container `[...]` but then made references to the objects that were inside `[1, 1, 1]` `[2, 2, 2]` and `[3, 3, 3]`.\n",
    "\n",
    "When we appended an element to `[...]`, it went fine because this part was indeed a copy. But if we want to make recursie copies we need to create _deep copies_. This way we create a clone object and make them both fully independent.\n"
   ]
  },
  {
   "cell_type": "code",
   "execution_count": 17,
   "metadata": {},
   "outputs": [],
   "source": [
    "from copy import deepcopy"
   ]
  },
  {
   "cell_type": "code",
   "execution_count": 18,
   "metadata": {},
   "outputs": [],
   "source": [
    "old_list = [[1, 1, 1], [2, 2, 2], [3, 3, 3]]\n",
    "new_list = deepcopy(old_list)\n",
    "\n",
    "old_list[1][1] = \"AA\"\n",
    "new_list[0][1] = \"BB\""
   ]
  },
  {
   "cell_type": "code",
   "execution_count": 19,
   "metadata": {},
   "outputs": [
    {
     "name": "stdout",
     "output_type": "stream",
     "text": [
      "[[1, 1, 1], [2, 'AA', 2], [3, 3, 3]]\n",
      "[[1, 'BB', 1], [2, 2, 2], [3, 3, 3]]\n"
     ]
    }
   ],
   "source": [
    "print(old_list)\n",
    "print(new_list)"
   ]
  },
  {
   "cell_type": "markdown",
   "metadata": {},
   "source": [
    "### Misunderstand late-binding closures\n"
   ]
  },
  {
   "cell_type": "code",
   "execution_count": 20,
   "metadata": {},
   "outputs": [],
   "source": [
    "def func(x, n):\n",
    "    return [x * i for i in range(n)]"
   ]
  },
  {
   "cell_type": "code",
   "execution_count": 21,
   "metadata": {},
   "outputs": [
    {
     "name": "stdout",
     "output_type": "stream",
     "text": [
      "0\n",
      "2\n",
      "4\n",
      "6\n",
      "8\n"
     ]
    }
   ],
   "source": [
    "for multiplier in func(2, 5):\n",
    "    print(multiplier)"
   ]
  },
  {
   "cell_type": "code",
   "execution_count": 22,
   "metadata": {},
   "outputs": [],
   "source": [
    "def func_bis(n):\n",
    "    return [lambda x: x * i for i in range(n)]"
   ]
  },
  {
   "cell_type": "code",
   "execution_count": 23,
   "metadata": {},
   "outputs": [
    {
     "name": "stdout",
     "output_type": "stream",
     "text": [
      "8\n",
      "8\n",
      "8\n",
      "8\n",
      "8\n"
     ]
    }
   ],
   "source": [
    "for multiplier in func_bis(5):\n",
    "    print(multiplier(2))"
   ]
  },
  {
   "cell_type": "markdown",
   "metadata": {},
   "source": [
    "This is **one of the most Common Mistakes** in Python.\n",
    "\n",
    "The solution is a kind of a trick-hack and looks like this:\n"
   ]
  },
  {
   "cell_type": "code",
   "execution_count": 24,
   "metadata": {},
   "outputs": [],
   "source": [
    "def func_bis(n):\n",
    "    return [lambda x, i=i: x * i for i in range(n)]  # add i=i"
   ]
  },
  {
   "cell_type": "code",
   "execution_count": 25,
   "metadata": {
    "scrolled": true
   },
   "outputs": [
    {
     "name": "stdout",
     "output_type": "stream",
     "text": [
      "0\n",
      "2\n",
      "4\n",
      "6\n",
      "8\n"
     ]
    }
   ],
   "source": [
    "for multiplier in func_bis(5):\n",
    "    print(multiplier(2))"
   ]
  },
  {
   "cell_type": "markdown",
   "metadata": {},
   "source": [
    "Now let's try to understand what happened.\n",
    "\n",
    "Python’s closures are _late binding_. This means that Python looks for value of a variable when it is needed. In other words, the values of variables used in closures are looked up at the time the inner function is called.\n",
    "\n",
    "But we knew this, look at the following example:\n"
   ]
  },
  {
   "cell_type": "code",
   "execution_count": 26,
   "metadata": {},
   "outputs": [],
   "source": [
    "def sample(x):\n",
    "    return x * var  # var doesn’t exist so far, Still python won’t show any error while executing"
   ]
  },
  {
   "cell_type": "markdown",
   "metadata": {},
   "source": [
    "Running the cell above didn't throw any error. Only when we will call the function will it check for `var`.\n"
   ]
  },
  {
   "cell_type": "code",
   "execution_count": 27,
   "metadata": {},
   "outputs": [
    {
     "ename": "NameError",
     "evalue": "name 'var' is not defined",
     "output_type": "error",
     "traceback": [
      "\u001b[0;31m---------------------------------------------------------------------------\u001b[0m",
      "\u001b[0;31mNameError\u001b[0m                                 Traceback (most recent call last)",
      "Cell \u001b[0;32mIn[27], line 1\u001b[0m\n\u001b[0;32m----> 1\u001b[0m \u001b[43msample\u001b[49m\u001b[43m(\u001b[49m\u001b[38;5;241;43m6\u001b[39;49m\u001b[43m)\u001b[49m\n",
      "Cell \u001b[0;32mIn[26], line 2\u001b[0m, in \u001b[0;36msample\u001b[0;34m(x)\u001b[0m\n\u001b[1;32m      1\u001b[0m \u001b[38;5;28;01mdef\u001b[39;00m \u001b[38;5;21msample\u001b[39m(x):\n\u001b[0;32m----> 2\u001b[0m     \u001b[38;5;28;01mreturn\u001b[39;00m x \u001b[38;5;241m*\u001b[39m \u001b[43mvar\u001b[49m\n",
      "\u001b[0;31mNameError\u001b[0m: name 'var' is not defined"
     ]
    }
   ],
   "source": [
    "sample(6)"
   ]
  },
  {
   "cell_type": "code",
   "execution_count": 28,
   "metadata": {},
   "outputs": [
    {
     "data": {
      "text/plain": [
       "60"
      ]
     },
     "execution_count": 28,
     "metadata": {},
     "output_type": "execute_result"
    }
   ],
   "source": [
    "var = 10\n",
    "sample(6)"
   ]
  },
  {
   "cell_type": "code",
   "execution_count": 29,
   "metadata": {},
   "outputs": [],
   "source": [
    "# Let's rewrite our first example differently\n",
    "n = 5\n",
    "func_list = []\n",
    "\n",
    "for i in range(n):\n",
    "\n",
    "    def func(x):\n",
    "        return i * x\n",
    "\n",
    "    func_list.append(func)"
   ]
  },
  {
   "cell_type": "code",
   "execution_count": 30,
   "metadata": {},
   "outputs": [
    {
     "name": "stdout",
     "output_type": "stream",
     "text": [
      "8\n",
      "8\n",
      "8\n",
      "8\n",
      "8\n"
     ]
    }
   ],
   "source": [
    "for f in func_list:\n",
    "    print(f(2))"
   ]
  },
  {
   "cell_type": "markdown",
   "metadata": {},
   "source": [
    "We get the same unintuitive result. But what is the code doing?\n",
    "\n",
    "1. create a list of n functions\n",
    "2. Whats are these functions? `func(x): return i*x`\n",
    "3. At this stage python doesn’t care about value of `i` or `x`\n",
    "4. But what is the value of i at the end of loop? ‘i’ should be `4` (n-1)\n",
    "\n",
    "Then call these functions:\n",
    "\n",
    "`for f in fun_list:\n",
    "    print f(2)`\n",
    "\n",
    "5. We call `f(2)` and it will return `i*x`\n",
    "6. Here `x` is `2` and `i` is `4` (n-1), So all the call to `f(2)` will return ‘8’\n",
    "\n",
    "\n",
    "The same logic applies to our first example and the following one:\n"
   ]
  },
  {
   "cell_type": "code",
   "execution_count": 31,
   "metadata": {},
   "outputs": [],
   "source": [
    "# another example\n",
    "def outer():\n",
    "\n",
    "    var = 5\n",
    "\n",
    "    def inner(x):\n",
    "        return var * x\n",
    "\n",
    "    var = 10\n",
    "\n",
    "    return inner"
   ]
  },
  {
   "cell_type": "code",
   "execution_count": 32,
   "metadata": {},
   "outputs": [],
   "source": [
    "f = outer()"
   ]
  },
  {
   "cell_type": "code",
   "execution_count": null,
   "metadata": {},
   "outputs": [],
   "source": [
    "# what result should we expect?\n",
    "f(6)"
   ]
  },
  {
   "cell_type": "markdown",
   "metadata": {},
   "source": [
    "### Ask for permission instead of forgiveness\n",
    "\n",
    "The Python community uses an EAFP (easier to ask for forgiveness than permission) coding style. This coding style assumes that needed variables, files, etc. exist. Any problems are caught as exceptions. This results in a generally clean and concise style containing a lot of `try` and `except` statements.\n"
   ]
  },
  {
   "cell_type": "markdown",
   "metadata": {},
   "source": [
    "### Poorly handle exceptions\n",
    "\n",
    "Specify the kind of exception you are looking for. And If you need to catch them all, at least [log them](./20_Errors-and-Exceptions.ipynb#Common-mistakes)\n"
   ]
  },
  {
   "cell_type": "code",
   "execution_count": null,
   "metadata": {},
   "outputs": [],
   "source": [
    "# DON'T DO THIS\n",
    "\n",
    "except:\n",
    "    pass\n",
    "\n",
    "\n",
    "# DO THIS INSTEAD\n",
    "\n",
    "# Catch some very specific exception (KeyError, ValueError...)\n",
    "except ValueError:\n",
    "    pass"
   ]
  },
  {
   "cell_type": "markdown",
   "metadata": {},
   "source": [
    "Use a tuple to [catch several exceptions](./20_Errors-and-Exceptions.ipynb#Common-mistakes) in one block\n"
   ]
  },
  {
   "cell_type": "code",
   "execution_count": null,
   "metadata": {},
   "outputs": [],
   "source": [
    "# DON'T DO THIS\n",
    "\n",
    "except ValueError, IndexError:\n",
    "\n",
    "\n",
    "# DO THIS INSTEAD\n",
    "\n",
    "except (ValueError, IndexError):"
   ]
  },
  {
   "cell_type": "markdown",
   "metadata": {},
   "source": [
    "If catching exceptions in different block, mind the order (Move sub class exception clause before its ancestor’s clause).\n"
   ]
  },
  {
   "cell_type": "code",
   "execution_count": null,
   "metadata": {},
   "outputs": [],
   "source": [
    "# DON'T DO THIS\n",
    "\n",
    "except Exception as e:\n",
    "    print(\"Exception\")\n",
    "\n",
    "except ZeroDivisionError as e:   # unreachable code!\n",
    "    print(\"ZeroDivisionError\")\n",
    "\n",
    "\n",
    "# DO THIS INSTEAD\n",
    "\n",
    "except ZeroDivisionError as e:\n",
    "    print(\"ZeroDivisionError\")\n",
    "\n",
    "except Exception as e:\n",
    "    print(\"Exception\")"
   ]
  },
  {
   "cell_type": "markdown",
   "metadata": {},
   "source": [
    "### Iterate unpythonically\n",
    "\n",
    "Use `enumerate()` when appropriate\n"
   ]
  },
  {
   "cell_type": "code",
   "execution_count": null,
   "metadata": {},
   "outputs": [],
   "source": [
    "my_list = [1, 2, 3]\n",
    "\n",
    "# DON'T DO THIS\n",
    "\n",
    "for i in range(0, len(my_list)):\n",
    "    nb = my_list[i]\n",
    "\n",
    "\n",
    "# DO THIS INSTEAD\n",
    "\n",
    "for i, le in enumerate(my_list):\n",
    "    pass\n",
    "\n",
    "\n",
    "# OR DO THIS\n",
    "\n",
    "for item in my_list:\n",
    "    pass"
   ]
  },
  {
   "cell_type": "markdown",
   "metadata": {},
   "source": [
    "Use `items()` when appropriate\n"
   ]
  },
  {
   "cell_type": "code",
   "execution_count": null,
   "metadata": {},
   "outputs": [],
   "source": [
    "d = {\"first_name\": \"Alfred\", \"last_name\": \"Hitchcock\"}"
   ]
  },
  {
   "cell_type": "code",
   "execution_count": null,
   "metadata": {},
   "outputs": [],
   "source": [
    "# DON'T DO THIS\n",
    "\n",
    "for key in d:\n",
    "    print(key, d[key])\n",
    "\n",
    "\n",
    "# DO THIS INSTEAD\n",
    "\n",
    "for key, val in d.items():\n",
    "    print(key, val)"
   ]
  },
  {
   "cell_type": "markdown",
   "metadata": {},
   "source": [
    "Use `zip()` to iterate over multiple lists\n"
   ]
  },
  {
   "cell_type": "code",
   "execution_count": null,
   "metadata": {},
   "outputs": [],
   "source": [
    "numbers = [1, 2, 3]\n",
    "letters = [\"A\", \"B\", \"C\"]"
   ]
  },
  {
   "cell_type": "code",
   "execution_count": null,
   "metadata": {},
   "outputs": [],
   "source": [
    "# DON'T DO THIS\n",
    "\n",
    "for index in range(len(numbers)):\n",
    "    print(numbers[index], letters[index])\n",
    "\n",
    "\n",
    "# DO THIS INSTEAD\n",
    "\n",
    "for numbers_value, letters_value in zip(numbers, letters):\n",
    "    print(numbers_value, letters_value)"
   ]
  },
  {
   "cell_type": "markdown",
   "metadata": {},
   "source": [
    "### Modify a list while iterating over it\n"
   ]
  },
  {
   "cell_type": "code",
   "execution_count": 35,
   "metadata": {},
   "outputs": [
    {
     "data": {
      "text/plain": [
       "[1, 6, 8, 4]"
      ]
     },
     "execution_count": 35,
     "metadata": {},
     "output_type": "execute_result"
    }
   ],
   "source": [
    "# you might get something weird\n",
    "my_list = [5, 1, 3, 6, 9, 8, 5, 4, 2]\n",
    "for n in my_list:\n",
    "    my_list.remove(n)\n",
    "my_list"
   ]
  },
  {
   "cell_type": "code",
   "execution_count": 36,
   "metadata": {},
   "outputs": [
    {
     "ename": "IndexError",
     "evalue": "list assignment index out of range",
     "output_type": "error",
     "traceback": [
      "\u001b[0;31m---------------------------------------------------------------------------\u001b[0m",
      "\u001b[0;31mIndexError\u001b[0m                                Traceback (most recent call last)",
      "Cell \u001b[0;32mIn[36], line 4\u001b[0m\n\u001b[1;32m      2\u001b[0m my_list \u001b[38;5;241m=\u001b[39m [\u001b[38;5;241m5\u001b[39m, \u001b[38;5;241m1\u001b[39m, \u001b[38;5;241m3\u001b[39m, \u001b[38;5;241m6\u001b[39m, \u001b[38;5;241m9\u001b[39m, \u001b[38;5;241m8\u001b[39m, \u001b[38;5;241m5\u001b[39m, \u001b[38;5;241m4\u001b[39m, \u001b[38;5;241m2\u001b[39m]\n\u001b[1;32m      3\u001b[0m \u001b[38;5;28;01mfor\u001b[39;00m n \u001b[38;5;129;01min\u001b[39;00m my_list:\n\u001b[0;32m----> 4\u001b[0m     \u001b[38;5;28;01mdel\u001b[39;00m \u001b[43mmy_list\u001b[49m\u001b[43m[\u001b[49m\u001b[43mn\u001b[49m\u001b[43m]\u001b[49m\n\u001b[1;32m      5\u001b[0m my_list\n",
      "\u001b[0;31mIndexError\u001b[0m: list assignment index out of range"
     ]
    }
   ],
   "source": [
    "# or an error\n",
    "my_list = [5, 1, 3, 6, 9, 8, 5, 4, 2]\n",
    "for n in my_list:\n",
    "    del my_list[n]\n",
    "my_list"
   ]
  },
  {
   "cell_type": "markdown",
   "metadata": {},
   "source": [
    "### Forget `else` clause or `break` statement in a loop\n"
   ]
  },
  {
   "cell_type": "code",
   "execution_count": null,
   "metadata": {},
   "outputs": [],
   "source": [
    "# DON'T DO THIS\n",
    "\n",
    "def contains_magic_number(my_list, magic_number):\n",
    "    found = False\n",
    "\n",
    "    for i in my_list:\n",
    "        if i == magic_number:\n",
    "            found = True\n",
    "            print(\"This list contains the magic number\")\n",
    "            break\n",
    "\n",
    "    if not found:  # this should be replaced by 'else'\n",
    "        print(\"This list does NOT contain the magic number\")"
   ]
  },
  {
   "cell_type": "code",
   "execution_count": null,
   "metadata": {},
   "outputs": [],
   "source": [
    "# DON'T DO THIS EITHER\n",
    "\n",
    "def contains_magic_number(my_list, magic_number):\n",
    "\n",
    "    for i in my_list:\n",
    "        if i == magic_number:\n",
    "            print(\"This list contains the magic number\")\n",
    "            # 'break' is missing\n",
    "\n",
    "    else:\n",
    "        print(\"This list does NOT contain the magic number\")"
   ]
  },
  {
   "cell_type": "code",
   "execution_count": 43,
   "metadata": {},
   "outputs": [
    {
     "name": "stdout",
     "output_type": "stream",
     "text": [
      "This list contains the magic number\n",
      "This list does NOT contain the magic number\n"
     ]
    }
   ],
   "source": [
    "# check\n",
    "contains_magic_number(range(10), 5)"
   ]
  },
  {
   "cell_type": "code",
   "execution_count": null,
   "metadata": {},
   "outputs": [],
   "source": [
    "# DO THIS INSTEAD\n",
    "\n",
    "def contains_magic_number(my_list, magic_number):\n",
    "\n",
    "    for i in my_list:\n",
    "        if i == magic_number:\n",
    "            print(\"This list contains the magic number.\")\n",
    "            break  # added break statement here\n",
    "\n",
    "    else:\n",
    "        print(\"This list does NOT contain the magic number.\")"
   ]
  },
  {
   "cell_type": "code",
   "execution_count": 45,
   "metadata": {
    "hide_input": false,
    "scrolled": true
   },
   "outputs": [
    {
     "name": "stdout",
     "output_type": "stream",
     "text": [
      "This list contains the magic number.\n"
     ]
    }
   ],
   "source": [
    "# check\n",
    "contains_magic_number(range(10), 5)"
   ]
  },
  {
   "cell_type": "markdown",
   "metadata": {},
   "source": [
    "### Miuse dict and list comprehension\n"
   ]
  },
  {
   "cell_type": "code",
   "execution_count": null,
   "metadata": {},
   "outputs": [],
   "source": [
    "# DON'T DO THIS\n",
    "\n",
    "d = dict([(number, number * 2) for number in numbers])\n",
    "\n",
    "\n",
    "# DO THIS INSTEAD\n",
    "\n",
    "d = {number: number * 2 for number in numbers}"
   ]
  },
  {
   "cell_type": "markdown",
   "metadata": {},
   "source": [
    "Don't use `map()` or `filter()` where list comprehension is possible.\n"
   ]
  },
  {
   "cell_type": "code",
   "execution_count": null,
   "metadata": {},
   "outputs": [],
   "source": [
    "my_list = [1, 2, 3]\n",
    "\n",
    "\n",
    "# DON'T DO THIS\n",
    "\n",
    "doubles = map(lambda x: x * 2, my_list)\n",
    "\n",
    "\n",
    "# DO THIS INSTEAD\n",
    "\n",
    "doubles = [x * 2 for x in my_list]"
   ]
  },
  {
   "cell_type": "markdown",
   "metadata": {},
   "source": [
    "### Use a `list` instead of a `set` or a `dict `\n"
   ]
  },
  {
   "cell_type": "code",
   "execution_count": null,
   "metadata": {},
   "outputs": [],
   "source": [
    "# DON'T DO THIS\n",
    "\n",
    "my_list = [1, 2, 3, 4]\n",
    "if 3 in my_list:\n",
    "    pass\n",
    "\n",
    "\n",
    "# DO THIS INSTEAD\n",
    "\n",
    "my_set = set([1, 2, 3, 4])\n",
    "if 3 in my_set:\n",
    "    pass"
   ]
  },
  {
   "cell_type": "markdown",
   "metadata": {},
   "source": [
    "### Forget `setdefault()` and `defaultdict()`\n"
   ]
  },
  {
   "cell_type": "code",
   "execution_count": null,
   "metadata": {},
   "outputs": [],
   "source": [
    "# DON'T DO THIS\n",
    "\n",
    "d = {}\n",
    "\n",
    "if \"k\" not in d:\n",
    "    d[\"k\"] = []\n",
    "d[\"k\"].append(\"something\")\n",
    "\n",
    "\n",
    "# DO THIS INSTEAD\n",
    "\n",
    "d = {}\n",
    "\n",
    "d.setdefault(\"k\", [])\n",
    "d[\"k\"].append(\"something\")"
   ]
  },
  {
   "cell_type": "code",
   "execution_count": null,
   "metadata": {},
   "outputs": [],
   "source": [
    "# DON'T DO THIS\n",
    "\n",
    "d = {}\n",
    "if \"k\" not in d:\n",
    "    d[\"k\"] = 6\n",
    "\n",
    "d[\"k\"] += 1\n",
    "\n",
    "\n",
    "# DO THIS INSTEAD\n",
    "\n",
    "from collections import defaultdict\n",
    "\n",
    "d = defaultdict(lambda: 6)\n",
    "d[\"k\"] += 1"
   ]
  },
  {
   "cell_type": "code",
   "execution_count": null,
   "metadata": {},
   "outputs": [],
   "source": [
    "# DON'T DO THIS\n",
    "\n",
    "d = {\"message\": \"Hello, World!\"}\n",
    "\n",
    "data = \"\"\n",
    "if \"message\" in d:\n",
    "    data = d[\"message\"]\n",
    "\n",
    "\n",
    "# DO THIS INSTEAD\n",
    "\n",
    "d = {\"message\": \"Hello, World!\"}\n",
    "\n",
    "data = d.get(\"message\", \"\")"
   ]
  },
  {
   "cell_type": "markdown",
   "metadata": {},
   "source": [
    "### Misuse string's `.format()` with a dictionary\n"
   ]
  },
  {
   "cell_type": "code",
   "execution_count": null,
   "metadata": {},
   "outputs": [],
   "source": [
    "person = {\"name\": \"John\", \"age\": 20}"
   ]
  },
  {
   "cell_type": "code",
   "execution_count": null,
   "metadata": {},
   "outputs": [],
   "source": [
    "# DON'T DO THIS\n",
    "\n",
    "print(\"{0} is {1} years old\".format(person[\"name\"], person[\"age\"]))\n",
    "\n",
    "\n",
    "# DO THIS INSTEAD\n",
    "\n",
    "print(\"{name} is {age} years old\".format(**person))"
   ]
  },
  {
   "cell_type": "markdown",
   "metadata": {},
   "source": [
    "### Unpack unpythonically\n"
   ]
  },
  {
   "cell_type": "code",
   "execution_count": null,
   "metadata": {},
   "outputs": [],
   "source": [
    "# DON'T DO THIS\n",
    "\n",
    "my_list = [4, 7, 18]\n",
    "elem0 = my_list[0]\n",
    "elem1 = my_list[1]\n",
    "elem2 = my_list[2]\n",
    "\n",
    "\n",
    "# DO THIS INSTEAD\n",
    "\n",
    "my_list = [4, 7, 18]\n",
    "elem0, elem1, elem2 = my_list"
   ]
  },
  {
   "cell_type": "code",
   "execution_count": 33,
   "metadata": {},
   "outputs": [],
   "source": [
    "# DON'T DO THIS\n",
    "\n",
    "b = \"1984\"\n",
    "a = b, c = \"AB\"  #  this is a = (b, c) = 'AB'"
   ]
  },
  {
   "cell_type": "code",
   "execution_count": 34,
   "metadata": {},
   "outputs": [
    {
     "name": "stdout",
     "output_type": "stream",
     "text": [
      "AB A B\n"
     ]
    }
   ],
   "source": [
    "# check\n",
    "print(a, b, c)"
   ]
  },
  {
   "cell_type": "markdown",
   "metadata": {},
   "source": [
    "### Return different types in a function\n"
   ]
  },
  {
   "cell_type": "code",
   "execution_count": null,
   "metadata": {},
   "outputs": [],
   "source": [
    "# DON'T DO THIS\n",
    "\n",
    "def get_secret_code(password):\n",
    "    if password != \"bicycle\":\n",
    "        return None\n",
    "    else:\n",
    "        return \"42\"\n",
    "\n",
    "\n",
    "# DO THIS INSTEAD\n",
    "\n",
    "def get_secret_code(password):\n",
    "    if password != \"bicycle\":\n",
    "        raise ValueError\n",
    "    else:\n",
    "        return \"42\""
   ]
  },
  {
   "cell_type": "markdown",
   "metadata": {},
   "source": [
    "### Use type() to compare types\n",
    "\n",
    "Use `isinstance()` instead\n"
   ]
  },
  {
   "cell_type": "markdown",
   "metadata": {},
   "source": [
    "### Assign a variable to a lambda expression\n",
    "\n",
    "Use a `def` for named expressions\n"
   ]
  },
  {
   "cell_type": "code",
   "execution_count": null,
   "metadata": {},
   "outputs": [],
   "source": [
    "# DON'T DO THIS\n",
    "\n",
    "f = lambda x: 2 * x\n",
    "\n",
    "\n",
    "# DO THIS INSTEAD\n",
    "\n",
    "def f(x):\n",
    "    return 2 * x"
   ]
  },
  {
   "cell_type": "markdown",
   "metadata": {},
   "source": [
    "## Credits\n",
    "\n",
    "- [Real Python](https://realpython.com/python-pep8/), [here](https://realpython.com/the-most-diabolical-python-antipattern/) and [here](https://realpython.com/copying-python-objects/)\n",
    "- [toptal](https://www.toptal.com/python/top-10-mistakes-that-python-programmers-make)\n",
    "- [Python anti-patterns](https://docs.quantifiedcode.com/python-anti-patterns/index.html)\n",
    "- [Towards Data Science](https://towardsdatascience.com/4-common-mistakes-python-beginners-should-avoid-89bcebd2c628)\n",
    "- [Programmiz](https://www.programiz.com/python-programming/shallow-deep-copy)\n",
    "- [Derpy Stuffs](https://derpystuffs.wordpress.com/2018/09/24/python-late-binding/)\n"
   ]
  }
 ],
 "metadata": {
  "kernelspec": {
   "display_name": "Python 3 (ipykernel)",
   "language": "python",
   "name": "python3"
  },
  "language_info": {
   "codemirror_mode": {
    "name": "ipython",
    "version": 3
   },
   "file_extension": ".py",
   "mimetype": "text/x-python",
   "name": "python",
   "nbconvert_exporter": "python",
   "pygments_lexer": "ipython3",
   "version": "3.12.7"
  },
  "toc": {
   "base_numbering": 1,
   "nav_menu": {},
   "number_sections": true,
   "sideBar": true,
   "skip_h1_title": true,
   "title_cell": "Table of Contents",
   "title_sidebar": "Contents",
   "toc_cell": true,
   "toc_position": {
    "height": "calc(100% - 180px)",
    "left": "10px",
    "top": "150px",
    "width": "241.6px"
   },
   "toc_section_display": true,
   "toc_window_display": false
  },
  "varInspector": {
   "cols": {
    "lenName": 16,
    "lenType": 16,
    "lenVar": 40
   },
   "kernels_config": {
    "python": {
     "delete_cmd_postfix": "",
     "delete_cmd_prefix": "del ",
     "library": "var_list.py",
     "varRefreshCmd": "print(var_dic_list())"
    },
    "r": {
     "delete_cmd_postfix": ") ",
     "delete_cmd_prefix": "rm(",
     "library": "var_list.r",
     "varRefreshCmd": "cat(var_dic_list()) "
    }
   },
   "types_to_exclude": [
    "module",
    "function",
    "builtin_function_or_method",
    "instance",
    "_Feature"
   ],
   "window_display": false
  },
  "widgets": {
   "application/vnd.jupyter.widget-state+json": {
    "state": {},
    "version_major": 2,
    "version_minor": 0
   }
  }
 },
 "nbformat": 4,
 "nbformat_minor": 4
}
