{
 "cells": [
  {
   "cell_type": "markdown",
   "metadata": {
    "editable": true,
    "slideshow": {
     "slide_type": ""
    },
    "tags": []
   },
   "source": [
    "# Decorators\n"
   ]
  },
  {
   "cell_type": "markdown",
   "metadata": {},
   "source": [
    "## Introduction\n",
    "\n",
    "Decorators can be thought of as functions which modify the _functionality_ of another function. They help to make your code shorter and more \"Pythonic\".\n",
    "\n",
    "Some prerequisites are necessary to properly understand decorators requires. This is why we will slowly build up from functions\n"
   ]
  },
  {
   "cell_type": "markdown",
   "metadata": {},
   "source": [
    "## Prerequisites\n"
   ]
  },
  {
   "cell_type": "markdown",
   "metadata": {},
   "source": [
    "### Scope Review\n",
    "\n",
    "Remember from the lesson on [global, local and nonlocal variables](13_Global-Local-and-Nonlocal) that Python functions create a new scope, meaning the function has its own namespace to find variable names when they are mentioned within the function\n"
   ]
  },
  {
   "cell_type": "code",
   "execution_count": null,
   "metadata": {},
   "outputs": [],
   "source": [
    "# we define a global variable\n",
    "a = \"Global Variable\""
   ]
  },
  {
   "cell_type": "code",
   "execution_count": null,
   "metadata": {},
   "outputs": [],
   "source": [
    "# this function shows all the local variable defined inside itself\n",
    "def func():\n",
    "    b = \"local variable\"\n",
    "    print(locals())"
   ]
  },
  {
   "cell_type": "code",
   "execution_count": 3,
   "metadata": {},
   "outputs": [
    {
     "name": "stdout",
     "output_type": "stream",
     "text": [
      "{'b': 'local variable'}\n"
     ]
    }
   ],
   "source": [
    "func()"
   ]
  },
  {
   "cell_type": "markdown",
   "metadata": {},
   "source": [
    "Here we get back a dictionary of all the local variables inside func_1\n"
   ]
  },
  {
   "cell_type": "code",
   "execution_count": 4,
   "metadata": {
    "scrolled": true
   },
   "outputs": [
    {
     "name": "stdout",
     "output_type": "stream",
     "text": [
      "{'__name__': '__main__', '__doc__': 'Automatically created module for IPython interactive environment', '__package__': None, '__loader__': None, '__spec__': None, '__builtin__': <module 'builtins' (built-in)>, '__builtins__': <module 'builtins' (built-in)>, '_ih': ['', \"# we define a global variable\\na = 'Global Variable'\", \"# this function shows all the local variable defined inside itself\\ndef func():\\n    b = 'local variable'\\n    print(locals())\", 'func()', '# this will show all the global variable that we defined\\nprint(globals())'], '_oh': {}, '_dh': ['/home/adrien/Documents/Coding/Github/Computer-Science-Crash-Course/01_Introduction-to-Python'], 'In': ['', \"# we define a global variable\\na = 'Global Variable'\", \"# this function shows all the local variable defined inside itself\\ndef func():\\n    b = 'local variable'\\n    print(locals())\", 'func()', '# this will show all the global variable that we defined\\nprint(globals())'], 'Out': {}, 'get_ipython': <function get_ipython at 0x7fbfc20759d0>, 'exit': <IPython.core.autocall.ZMQExitAutocall object at 0x7fbfc003cfa0>, 'quit': <IPython.core.autocall.ZMQExitAutocall object at 0x7fbfc003cfa0>, '_': '', '__': '', '___': '', 'json': <module 'json' from '/home/adrien/Documents/Apps/Anaconda3/envs/cplx_sim/lib/python3.9/json/__init__.py'>, 'autopep8': <module 'autopep8' from '/home/adrien/Documents/Apps/Anaconda3/envs/cplx_sim/lib/python3.9/site-packages/autopep8.py'>, 'getsizeof': <built-in function getsizeof>, 'NamespaceMagics': <class 'IPython.core.magics.namespace.NamespaceMagics'>, '_nms': <IPython.core.magics.namespace.NamespaceMagics object at 0x7fbfbd0010a0>, '_Jupyter': <ipykernel.zmqshell.ZMQInteractiveShell object at 0x7fbfc007afd0>, 'np': <module 'numpy' from '/home/adrien/Documents/Apps/Anaconda3/envs/cplx_sim/lib/python3.9/site-packages/numpy/__init__.py'>, '_getsizeof': <function _getsizeof at 0x7fbfbc6cf310>, '_getshapeof': <function _getshapeof at 0x7fbf65cf65e0>, 'var_dic_list': <function var_dic_list at 0x7fbf65bd44c0>, '_i': 'func()', '_ii': \"# this function shows all the local variable defined inside itself\\ndef func():\\n    b = 'local variable'\\n    print(locals())\", '_iii': \"# we define a global variable\\na = 'Global Variable'\", '_i1': \"# we define a global variable\\na = 'Global Variable'\", 'a': 'Global Variable', '_i2': \"# this function shows all the local variable defined inside itself\\ndef func():\\n    b = 'local variable'\\n    print(locals())\", 'func': <function func at 0x7fbf65bd4f70>, '_i3': 'func()', '_i4': '# this will show all the global variable that we defined\\nprint(globals())'}\n"
     ]
    }
   ],
   "source": [
    "# this will show all the global variable that we defined\n",
    "print(globals())"
   ]
  },
  {
   "cell_type": "markdown",
   "metadata": {
    "collapsed": true,
    "jupyter": {
     "outputs_hidden": true
    }
   },
   "source": [
    "Here we get back a dictionary of all the global variables, many of them are predefined in Python. So let's go ahead and look at the keys:\n"
   ]
  },
  {
   "cell_type": "code",
   "execution_count": 5,
   "metadata": {},
   "outputs": [
    {
     "name": "stdout",
     "output_type": "stream",
     "text": [
      "dict_keys(['__name__', '__doc__', '__package__', '__loader__', '__spec__', '__builtin__', '__builtins__', '_ih', '_oh', '_dh', 'In', 'Out', 'get_ipython', 'exit', 'quit', '_', '__', '___', 'json', 'autopep8', 'getsizeof', 'NamespaceMagics', '_nms', '_Jupyter', 'np', '_getsizeof', '_getshapeof', 'var_dic_list', '_i', '_ii', '_iii', '_i1', 'a', '_i2', 'func', '_i3', '_i4', '_i5'])\n"
     ]
    }
   ],
   "source": [
    "print(globals().keys())"
   ]
  },
  {
   "cell_type": "code",
   "execution_count": null,
   "metadata": {},
   "outputs": [
    {
     "data": {
      "text/plain": [
       "'Global Variable'"
      ]
     },
     "execution_count": 6,
     "metadata": {},
     "output_type": "execute_result"
    }
   ],
   "source": [
    "globals()[\"a\"]"
   ]
  },
  {
   "cell_type": "markdown",
   "metadata": {},
   "source": [
    "`a` is the Global Variable we defined as a string in the first cell.\n"
   ]
  },
  {
   "cell_type": "markdown",
   "metadata": {},
   "source": [
    "### Functions as objects\n",
    "\n",
    "Remember that in Python **everything is an object** (even classes). That means functions are objects which can be assigned labels and passed into other functions.\n"
   ]
  },
  {
   "cell_type": "code",
   "execution_count": null,
   "metadata": {},
   "outputs": [],
   "source": [
    "def hello(name=\"John\"):\n",
    "    return \"Hello \" + name"
   ]
  },
  {
   "cell_type": "code",
   "execution_count": 8,
   "metadata": {},
   "outputs": [
    {
     "data": {
      "text/plain": [
       "'Hello John'"
      ]
     },
     "execution_count": 8,
     "metadata": {},
     "output_type": "execute_result"
    }
   ],
   "source": [
    "hello()"
   ]
  },
  {
   "cell_type": "code",
   "execution_count": 9,
   "metadata": {},
   "outputs": [],
   "source": [
    "greet = hello"
   ]
  },
  {
   "cell_type": "code",
   "execution_count": 10,
   "metadata": {},
   "outputs": [
    {
     "data": {
      "text/plain": [
       "<function __main__.hello(name='John')>"
      ]
     },
     "execution_count": 10,
     "metadata": {},
     "output_type": "execute_result"
    }
   ],
   "source": [
    "greet"
   ]
  },
  {
   "cell_type": "code",
   "execution_count": 11,
   "metadata": {},
   "outputs": [
    {
     "data": {
      "text/plain": [
       "'Hello John'"
      ]
     },
     "execution_count": 11,
     "metadata": {},
     "output_type": "execute_result"
    }
   ],
   "source": [
    "greet()"
   ]
  },
  {
   "cell_type": "markdown",
   "metadata": {},
   "source": [
    "So what happens when we delete the name **hello**?\n"
   ]
  },
  {
   "cell_type": "code",
   "execution_count": 12,
   "metadata": {},
   "outputs": [],
   "source": [
    "del hello"
   ]
  },
  {
   "cell_type": "code",
   "execution_count": 13,
   "metadata": {},
   "outputs": [
    {
     "ename": "NameError",
     "evalue": "name 'hello' is not defined",
     "output_type": "error",
     "traceback": [
      "\u001b[0;31m---------------------------------------------------------------------------\u001b[0m",
      "\u001b[0;31mNameError\u001b[0m                                 Traceback (most recent call last)",
      "\u001b[0;32m<ipython-input-13-a75d7781aaeb>\u001b[0m in \u001b[0;36m<module>\u001b[0;34m\u001b[0m\n\u001b[0;32m----> 1\u001b[0;31m \u001b[0mhello\u001b[0m\u001b[0;34m(\u001b[0m\u001b[0;34m)\u001b[0m\u001b[0;34m\u001b[0m\u001b[0;34m\u001b[0m\u001b[0m\n\u001b[0m",
      "\u001b[0;31mNameError\u001b[0m: name 'hello' is not defined"
     ]
    }
   ],
   "source": [
    "hello()"
   ]
  },
  {
   "cell_type": "code",
   "execution_count": 14,
   "metadata": {},
   "outputs": [
    {
     "data": {
      "text/plain": [
       "'Hello John'"
      ]
     },
     "execution_count": 14,
     "metadata": {},
     "output_type": "execute_result"
    }
   ],
   "source": [
    "greet()"
   ]
  },
  {
   "cell_type": "markdown",
   "metadata": {},
   "source": [
    "Even though we deleted the name **hello**, the name **greet** _still points to_ our original function object. It is important to know that functions are objects that can be passed to other objects!\n"
   ]
  },
  {
   "cell_type": "markdown",
   "metadata": {},
   "source": [
    "### Functions within functions\n",
    "\n",
    "We have also seen that we can define functions inside of other functions\n"
   ]
  },
  {
   "cell_type": "code",
   "execution_count": null,
   "metadata": {},
   "outputs": [],
   "source": [
    "def color(name=\"black\"):\n",
    "    print(\"The function color() has been executed\")\n",
    "\n",
    "    def black():\n",
    "        return \"\\t This is inside the black() function\"\n",
    "\n",
    "    def white():\n",
    "        return \"\\t This is inside the white() function\"\n",
    "\n",
    "    print(black())\n",
    "    print(white())\n",
    "    print(\"Now we are back inside the function color()\")"
   ]
  },
  {
   "cell_type": "code",
   "execution_count": 16,
   "metadata": {},
   "outputs": [
    {
     "name": "stdout",
     "output_type": "stream",
     "text": [
      "The function color() has been executed\n",
      "\t This is inside the black() function\n",
      "\t This is inside the white() function\n",
      "Now we are back inside the function color()\n"
     ]
    }
   ],
   "source": [
    "color()"
   ]
  },
  {
   "cell_type": "code",
   "execution_count": 17,
   "metadata": {},
   "outputs": [
    {
     "ename": "NameError",
     "evalue": "name 'black' is not defined",
     "output_type": "error",
     "traceback": [
      "\u001b[0;31m---------------------------------------------------------------------------\u001b[0m",
      "\u001b[0;31mNameError\u001b[0m                                 Traceback (most recent call last)",
      "\u001b[0;32m<ipython-input-17-760ca3d716c5>\u001b[0m in \u001b[0;36m<module>\u001b[0;34m\u001b[0m\n\u001b[0;32m----> 1\u001b[0;31m \u001b[0mblack\u001b[0m\u001b[0;34m(\u001b[0m\u001b[0;34m)\u001b[0m\u001b[0;34m\u001b[0m\u001b[0;34m\u001b[0m\u001b[0m\n\u001b[0m",
      "\u001b[0;31mNameError\u001b[0m: name 'black' is not defined"
     ]
    }
   ],
   "source": [
    "black()"
   ]
  },
  {
   "cell_type": "markdown",
   "metadata": {},
   "source": [
    "**NOTE:** due to scope, the `black()` and `white()` functions are not defined outside of the `color()`.\n"
   ]
  },
  {
   "cell_type": "markdown",
   "metadata": {},
   "source": [
    "### Returning Functions\n"
   ]
  },
  {
   "cell_type": "code",
   "execution_count": null,
   "metadata": {},
   "outputs": [],
   "source": [
    "def color(name=\"black\"):\n",
    "\n",
    "    def black():\n",
    "        return \"\\t This is inside the black() function\"\n",
    "\n",
    "    def white():\n",
    "        return \"\\t This is inside the white() function\"\n",
    "\n",
    "    return black if name == \"black\" else white"
   ]
  },
  {
   "cell_type": "markdown",
   "metadata": {},
   "source": [
    "Now let's see what function is returned if we set `x = color()`\n"
   ]
  },
  {
   "cell_type": "code",
   "execution_count": 19,
   "metadata": {},
   "outputs": [],
   "source": [
    "# we assigned a function to a variable\n",
    "x = color()"
   ]
  },
  {
   "cell_type": "code",
   "execution_count": 20,
   "metadata": {},
   "outputs": [
    {
     "data": {
      "text/plain": [
       "<function __main__.color.<locals>.black()>"
      ]
     },
     "execution_count": 20,
     "metadata": {},
     "output_type": "execute_result"
    }
   ],
   "source": [
    "# now x points to the function black()\n",
    "x"
   ]
  },
  {
   "cell_type": "markdown",
   "metadata": {},
   "source": [
    "We can see how `x` is pointing to the `black()` function inside of the `color()` function.\n"
   ]
  },
  {
   "cell_type": "code",
   "execution_count": 21,
   "metadata": {
    "scrolled": true
   },
   "outputs": [
    {
     "data": {
      "text/plain": [
       "'\\t This is inside the black() function'"
      ]
     },
     "execution_count": 21,
     "metadata": {},
     "output_type": "execute_result"
    }
   ],
   "source": [
    "# and we can run the function ()\n",
    "x()"
   ]
  },
  {
   "cell_type": "markdown",
   "metadata": {},
   "source": [
    "Let's take a quick look at the code again.\n",
    "\n",
    "**NOTE:** in the `if/else` clause we are returning`black` or `white`, and **NOT** `black()` or `white()`.\n",
    "\n",
    "This is because when you put a pair of parentheses `()` after it, the function gets executed; whereas if you don’t put parentheses after it, then it is considered as an object and can be assigned to other variables without executing it.\n"
   ]
  },
  {
   "cell_type": "code",
   "execution_count": null,
   "metadata": {},
   "outputs": [],
   "source": [
    "# let's try this\n",
    "y = color(\"something\")"
   ]
  },
  {
   "cell_type": "code",
   "execution_count": 23,
   "metadata": {},
   "outputs": [
    {
     "data": {
      "text/plain": [
       "<function __main__.color.<locals>.white()>"
      ]
     },
     "execution_count": 23,
     "metadata": {},
     "output_type": "execute_result"
    }
   ],
   "source": [
    "y"
   ]
  },
  {
   "cell_type": "code",
   "execution_count": 24,
   "metadata": {},
   "outputs": [
    {
     "data": {
      "text/plain": [
       "'\\t This is inside the white() function'"
      ]
     },
     "execution_count": 24,
     "metadata": {},
     "output_type": "execute_result"
    }
   ],
   "source": [
    "y()"
   ]
  },
  {
   "cell_type": "markdown",
   "metadata": {},
   "source": [
    "### Functions as Arguments\n",
    "\n",
    "Now let's see how we can pass functions as arguments into other functions:\n"
   ]
  },
  {
   "cell_type": "code",
   "execution_count": null,
   "metadata": {},
   "outputs": [],
   "source": [
    "def hello():\n",
    "    return \"Hi John!\""
   ]
  },
  {
   "cell_type": "code",
   "execution_count": null,
   "metadata": {},
   "outputs": [],
   "source": [
    "def other(func):\n",
    "    print(\"Other code would go here\")\n",
    "    print(func())"
   ]
  },
  {
   "cell_type": "code",
   "execution_count": 27,
   "metadata": {},
   "outputs": [
    {
     "name": "stdout",
     "output_type": "stream",
     "text": [
      "Other code would go here\n",
      "Hi John!\n"
     ]
    }
   ],
   "source": [
    "# the function hello() is passed as an argument - so without the '()'\n",
    "other(hello)"
   ]
  },
  {
   "cell_type": "markdown",
   "metadata": {},
   "source": [
    "## Creating Decorators\n",
    "\n",
    "Basically, a decorator takes in a function, adds some functionality and returns it. The previous example was actually a Decorator.\n"
   ]
  },
  {
   "cell_type": "code",
   "execution_count": 28,
   "metadata": {},
   "outputs": [],
   "source": [
    "# this is an ordinary function\n",
    "def ordinary():\n",
    "    print(\"I am ordinary\")"
   ]
  },
  {
   "cell_type": "code",
   "execution_count": 29,
   "metadata": {},
   "outputs": [],
   "source": [
    "# this is a decorator function\n",
    "def make_pretty(func):\n",
    "\n",
    "    def wrapper():\n",
    "        print(f\"{func.__name__}() is getting decorated\")\n",
    "        return func()\n",
    "\n",
    "    return wrapper"
   ]
  },
  {
   "cell_type": "code",
   "execution_count": 30,
   "metadata": {},
   "outputs": [
    {
     "name": "stdout",
     "output_type": "stream",
     "text": [
      "I am ordinary\n"
     ]
    }
   ],
   "source": [
    "ordinary()"
   ]
  },
  {
   "cell_type": "code",
   "execution_count": 31,
   "metadata": {},
   "outputs": [],
   "source": [
    "# we decorate ordinary() and we give it the name pretty()\n",
    "pretty = make_pretty(ordinary)"
   ]
  },
  {
   "cell_type": "code",
   "execution_count": 32,
   "metadata": {},
   "outputs": [
    {
     "name": "stdout",
     "output_type": "stream",
     "text": [
      "ordinary() is getting decorated\n",
      "I am ordinary\n"
     ]
    }
   ],
   "source": [
    "# check\n",
    "pretty()"
   ]
  },
  {
   "cell_type": "markdown",
   "metadata": {},
   "source": [
    "Generally, we decorate a function and reassign it\n"
   ]
  },
  {
   "cell_type": "code",
   "execution_count": 33,
   "metadata": {},
   "outputs": [],
   "source": [
    "# Reassign ordinary()\n",
    "ordinary = make_pretty(ordinary)"
   ]
  },
  {
   "cell_type": "code",
   "execution_count": 34,
   "metadata": {
    "scrolled": true
   },
   "outputs": [
    {
     "name": "stdout",
     "output_type": "stream",
     "text": [
      "ordinary() is getting decorated\n",
      "I am ordinary\n"
     ]
    }
   ],
   "source": [
    "# check\n",
    "ordinary()"
   ]
  },
  {
   "cell_type": "markdown",
   "metadata": {},
   "source": [
    "The decorator wrapped the function and modified its behavior.\n",
    "\n",
    "**NOTE:** we can rewrite this code using the **`@`** symbol, which is what Python uses for Decorators.\n"
   ]
  },
  {
   "cell_type": "code",
   "execution_count": null,
   "metadata": {},
   "outputs": [],
   "source": [
    "# we can also decorate a function by using @\n",
    "\n",
    "\n",
    "@make_pretty\n",
    "def ordinary():\n",
    "    print(\"ordinary needed a Decorator\")"
   ]
  },
  {
   "cell_type": "code",
   "execution_count": 36,
   "metadata": {},
   "outputs": [
    {
     "name": "stdout",
     "output_type": "stream",
     "text": [
      "ordinary() is getting decorated\n",
      "ordinary needed a Decorator\n"
     ]
    }
   ],
   "source": [
    "# we get the same result\n",
    "ordinary()"
   ]
  },
  {
   "cell_type": "markdown",
   "metadata": {},
   "source": [
    "**NOTE:** we can apply multiple decorators to a single function.\n"
   ]
  },
  {
   "cell_type": "code",
   "execution_count": null,
   "metadata": {},
   "outputs": [],
   "source": [
    "def another_decorator(func):\n",
    "\n",
    "    def wrapper():\n",
    "        print(\"I am another_decorator\")\n",
    "        return func()\n",
    "\n",
    "    return wrapper"
   ]
  },
  {
   "cell_type": "code",
   "execution_count": 38,
   "metadata": {},
   "outputs": [],
   "source": [
    "@make_pretty\n",
    "@another_decorator\n",
    "def ordinary():\n",
    "    print(\"ordinary needed a Decorator\")"
   ]
  },
  {
   "cell_type": "code",
   "execution_count": 39,
   "metadata": {
    "scrolled": true
   },
   "outputs": [
    {
     "name": "stdout",
     "output_type": "stream",
     "text": [
      "wrapper() is getting decorated\n",
      "I am another_decorator\n",
      "ordinary needed a Decorator\n"
     ]
    }
   ],
   "source": [
    "ordinary()"
   ]
  },
  {
   "cell_type": "markdown",
   "metadata": {},
   "source": [
    "**BUT** the order of decorators is import\n"
   ]
  },
  {
   "cell_type": "code",
   "execution_count": 40,
   "metadata": {},
   "outputs": [],
   "source": [
    "# the order of decorators matters\n",
    "@another_decorator\n",
    "@make_pretty\n",
    "def my_function():\n",
    "    print(\"my_function needed a Decorator\")"
   ]
  },
  {
   "cell_type": "code",
   "execution_count": 41,
   "metadata": {},
   "outputs": [
    {
     "name": "stdout",
     "output_type": "stream",
     "text": [
      "I am another_decorator\n",
      "my_function() is getting decorated\n",
      "my_function needed a Decorator\n"
     ]
    }
   ],
   "source": [
    "my_function()"
   ]
  },
  {
   "cell_type": "markdown",
   "metadata": {},
   "source": [
    "**NOTE:** It is also possible to decorate class methods from imported module. But in this case, we can't use the `@` symbol.\n"
   ]
  },
  {
   "cell_type": "code",
   "execution_count": null,
   "metadata": {},
   "outputs": [],
   "source": [
    "# decorating 3rd party functions\n",
    "from random import random\n",
    "\n",
    "random = make_pretty(random)"
   ]
  },
  {
   "cell_type": "code",
   "execution_count": 43,
   "metadata": {},
   "outputs": [
    {
     "name": "stdout",
     "output_type": "stream",
     "text": [
      "random() is getting decorated\n"
     ]
    },
    {
     "data": {
      "text/plain": [
       "0.9347713788146043"
      ]
     },
     "execution_count": 43,
     "metadata": {},
     "output_type": "execute_result"
    }
   ],
   "source": [
    "# check\n",
    "random()"
   ]
  },
  {
   "cell_type": "markdown",
   "metadata": {},
   "source": [
    "## Decorating Functions with Parameters\n",
    "\n",
    "The above decorator was simple and it only worked with functions that did not have any parameters. What if we had functions that took in parameters like:\n"
   ]
  },
  {
   "cell_type": "code",
   "execution_count": 44,
   "metadata": {},
   "outputs": [],
   "source": [
    "# Let's reuse this example\n",
    "def make_pretty(func):\n",
    "\n",
    "    def wrapper():\n",
    "        print(f\"{func.__name__}() is getting decorated\")\n",
    "        return func()\n",
    "\n",
    "    return wrapper"
   ]
  },
  {
   "cell_type": "code",
   "execution_count": 45,
   "metadata": {},
   "outputs": [],
   "source": [
    "# and let's define an ordinary function that takes a parameter\n",
    "@make_pretty\n",
    "def ordinary_bis(x):\n",
    "    print(f\"ordinary({x}) needed a Decorator\")"
   ]
  },
  {
   "cell_type": "code",
   "execution_count": null,
   "metadata": {},
   "outputs": [
    {
     "ename": "TypeError",
     "evalue": "wrapper() takes 0 positional arguments but 1 was given",
     "output_type": "error",
     "traceback": [
      "\u001b[0;31m---------------------------------------------------------------------------\u001b[0m",
      "\u001b[0;31mTypeError\u001b[0m                                 Traceback (most recent call last)",
      "\u001b[0;32m<ipython-input-46-771e7584623a>\u001b[0m in \u001b[0;36m<module>\u001b[0;34m\u001b[0m\n\u001b[0;32m----> 1\u001b[0;31m \u001b[0mordinary_bis\u001b[0m\u001b[0;34m(\u001b[0m\u001b[0;34m'something'\u001b[0m\u001b[0;34m)\u001b[0m\u001b[0;34m\u001b[0m\u001b[0;34m\u001b[0m\u001b[0m\n\u001b[0m",
      "\u001b[0;31mTypeError\u001b[0m: wrapper() takes 0 positional arguments but 1 was given"
     ]
    }
   ],
   "source": [
    "ordinary_bis(\"something\")"
   ]
  },
  {
   "cell_type": "markdown",
   "metadata": {},
   "source": [
    "We get an error because the inner function `wrapper()` does not take any arguments, but \"something\" was passed to it.\n",
    "\n",
    "We could fix this by letting `wrapper()` accept one argument, but then it would not work for the 1st `ordinary()` function.\n"
   ]
  },
  {
   "cell_type": "code",
   "execution_count": null,
   "metadata": {},
   "outputs": [],
   "source": [
    "# Let's reuse this example\n",
    "def make_pretty(func):\n",
    "\n",
    "    def wrapper(x):  # wrapper takes an argument\n",
    "        print(f\"{func.__name__}() is getting decorated\")\n",
    "        return func(x)  # we call the function with its argument\n",
    "\n",
    "    return wrapper"
   ]
  },
  {
   "cell_type": "code",
   "execution_count": null,
   "metadata": {},
   "outputs": [],
   "source": [
    "# and let's define an ordinary function that takes a parameter\n",
    "@make_pretty\n",
    "def ordinary_bis(x):\n",
    "    print(f\"ordinary('{x}') needed a Decorator\")"
   ]
  },
  {
   "cell_type": "code",
   "execution_count": null,
   "metadata": {},
   "outputs": [
    {
     "name": "stdout",
     "output_type": "stream",
     "text": [
      "ordinary_bis() is getting decorated\n",
      "ordinary('something') needed a Decorator\n"
     ]
    }
   ],
   "source": [
    "# now it works with ordinary_bis()\n",
    "ordinary_bis(\"something\")"
   ]
  },
  {
   "cell_type": "code",
   "execution_count": 50,
   "metadata": {},
   "outputs": [],
   "source": [
    "# but it no longer works with ordinary()\n",
    "@make_pretty\n",
    "def ordinary():\n",
    "    print(\"ordinary() needed a Decorator\")"
   ]
  },
  {
   "cell_type": "code",
   "execution_count": 51,
   "metadata": {},
   "outputs": [
    {
     "ename": "TypeError",
     "evalue": "wrapper() missing 1 required positional argument: 'x'",
     "output_type": "error",
     "traceback": [
      "\u001b[0;31m---------------------------------------------------------------------------\u001b[0m",
      "\u001b[0;31mTypeError\u001b[0m                                 Traceback (most recent call last)",
      "\u001b[0;32m<ipython-input-51-e36c696e1884>\u001b[0m in \u001b[0;36m<module>\u001b[0;34m\u001b[0m\n\u001b[1;32m      1\u001b[0m \u001b[0;31m# check\u001b[0m\u001b[0;34m\u001b[0m\u001b[0;34m\u001b[0m\u001b[0;34m\u001b[0m\u001b[0m\n\u001b[0;32m----> 2\u001b[0;31m \u001b[0mordinary\u001b[0m\u001b[0;34m(\u001b[0m\u001b[0;34m)\u001b[0m\u001b[0;34m\u001b[0m\u001b[0;34m\u001b[0m\u001b[0m\n\u001b[0m",
      "\u001b[0;31mTypeError\u001b[0m: wrapper() missing 1 required positional argument: 'x'"
     ]
    }
   ],
   "source": [
    "# check\n",
    "ordinary()"
   ]
  },
  {
   "cell_type": "markdown",
   "metadata": {},
   "source": [
    "The solution is to use **`*args`** and <strong>`\\**kwargs`</strong> in the inner wrapper function. Then it will accept an arbitrary number of positional and keyword arguments\n"
   ]
  },
  {
   "cell_type": "code",
   "execution_count": 52,
   "metadata": {},
   "outputs": [],
   "source": [
    "def make_pretty(func):\n",
    "\n",
    "    def wrapper(*args, **kwargs):\n",
    "        print(f\"{func.__name__}() is getting decorated\")\n",
    "        return func(*args, **kwargs)\n",
    "\n",
    "    return wrapper"
   ]
  },
  {
   "cell_type": "code",
   "execution_count": null,
   "metadata": {},
   "outputs": [],
   "source": [
    "@make_pretty\n",
    "def ordinary_bis(x):\n",
    "    print(f\"ordinary('{x}') needed a Decorator\")"
   ]
  },
  {
   "cell_type": "code",
   "execution_count": 54,
   "metadata": {},
   "outputs": [],
   "source": [
    "@make_pretty\n",
    "def ordinary():\n",
    "    print(\"ordinary() needed a Decorator\")"
   ]
  },
  {
   "cell_type": "code",
   "execution_count": null,
   "metadata": {},
   "outputs": [
    {
     "name": "stdout",
     "output_type": "stream",
     "text": [
      "ordinary_bis() is getting decorated\n",
      "ordinary('an argument') needed a Decorator\n"
     ]
    }
   ],
   "source": [
    "# check\n",
    "ordinary_bis(\"an argument\")"
   ]
  },
  {
   "cell_type": "code",
   "execution_count": 56,
   "metadata": {},
   "outputs": [
    {
     "name": "stdout",
     "output_type": "stream",
     "text": [
      "ordinary() is getting decorated\n",
      "ordinary() needed a Decorator\n"
     ]
    }
   ],
   "source": [
    "# check\n",
    "ordinary()"
   ]
  },
  {
   "cell_type": "markdown",
   "metadata": {},
   "source": [
    "## Returning values from decorated functions\n",
    "\n",
    "We need to make sure the wrapper function returns the return value of the decorated function, otherwise it will 'eat' it.\n"
   ]
  },
  {
   "cell_type": "code",
   "execution_count": null,
   "metadata": {},
   "outputs": [],
   "source": [
    "# if our wrapper function does not return the value\n",
    "\n",
    "\n",
    "def make_pretty(func):\n",
    "\n",
    "    def wrapper(*args, **kwargs):\n",
    "        print(f\"{func.__name__}() is getting decorated\")\n",
    "        func(*args, **kwargs)  # no 'return' here\n",
    "\n",
    "    return wrapper"
   ]
  },
  {
   "cell_type": "code",
   "execution_count": null,
   "metadata": {},
   "outputs": [],
   "source": [
    "@make_pretty\n",
    "def divide(a, b):\n",
    "    return a / b"
   ]
  },
  {
   "cell_type": "code",
   "execution_count": 59,
   "metadata": {},
   "outputs": [
    {
     "name": "stdout",
     "output_type": "stream",
     "text": [
      "divide() is getting decorated\n"
     ]
    }
   ],
   "source": [
    "# then the wrapper function eats away the result of divide()\n",
    "x = divide(6, 3)"
   ]
  },
  {
   "cell_type": "code",
   "execution_count": 60,
   "metadata": {},
   "outputs": [
    {
     "name": "stdout",
     "output_type": "stream",
     "text": [
      "None\n"
     ]
    }
   ],
   "source": [
    "print(x)"
   ]
  },
  {
   "cell_type": "code",
   "execution_count": 61,
   "metadata": {},
   "outputs": [],
   "source": [
    "def make_pretty(func):\n",
    "\n",
    "    def wrapper(*args, **kwargs):\n",
    "        print(f\"{func.__name__}() is getting decorated\")\n",
    "        return func(*args, **kwargs)\n",
    "\n",
    "    return wrapper"
   ]
  },
  {
   "cell_type": "code",
   "execution_count": null,
   "metadata": {},
   "outputs": [],
   "source": [
    "@make_pretty\n",
    "def divide(a, b):\n",
    "    print(a / b)  # no 'return' here"
   ]
  },
  {
   "cell_type": "code",
   "execution_count": 63,
   "metadata": {},
   "outputs": [
    {
     "name": "stdout",
     "output_type": "stream",
     "text": [
      "divide() is getting decorated\n",
      "2.0\n"
     ]
    }
   ],
   "source": [
    "x = divide(6, 3)"
   ]
  },
  {
   "cell_type": "code",
   "execution_count": 64,
   "metadata": {
    "scrolled": true
   },
   "outputs": [
    {
     "name": "stdout",
     "output_type": "stream",
     "text": [
      "None\n"
     ]
    }
   ],
   "source": [
    "# check\n",
    "print(x)"
   ]
  },
  {
   "cell_type": "markdown",
   "metadata": {},
   "source": [
    "## Decorators with arguments\n",
    "\n",
    "Sometimes, it’s useful to pass arguments to your decorators.\n",
    "\n",
    "Imagine that we have a decorator `repeat` that takes as argument the number of time we want to call the decorated function:\n",
    "\n",
    "`@repeat(num_times=4)\n",
    "def greet(name):\n",
    "    print(f\"Hello {name}\")`\n",
    "\n",
    "and then calling greet would return:\n",
    "\n",
    "`>>> greet(\"World\")\n",
    "Hello World\n",
    "Hello World\n",
    "Hello World\n",
    "Hello World`\n",
    "\n",
    "So this means that repeat(num_times=4) should return a function object that can act as a decorator. So this comes down to adding an 'outer' function.\n"
   ]
  },
  {
   "cell_type": "code",
   "execution_count": 65,
   "metadata": {},
   "outputs": [],
   "source": [
    "num_times = 3"
   ]
  },
  {
   "cell_type": "code",
   "execution_count": null,
   "metadata": {},
   "outputs": [],
   "source": [
    "# this is the kind of decorator we have seen so far\n",
    "\n",
    "\n",
    "def repeat(func):\n",
    "    def wrapper(*args, **kwargs):\n",
    "        for _ in range(num_times):\n",
    "            value = func(*args, **kwargs)\n",
    "            print(value)\n",
    "\n",
    "    return wrapper"
   ]
  },
  {
   "cell_type": "code",
   "execution_count": null,
   "metadata": {},
   "outputs": [],
   "source": [
    "@repeat\n",
    "def hello(msg):\n",
    "    return f\"Hello {msg}\""
   ]
  },
  {
   "cell_type": "code",
   "execution_count": null,
   "metadata": {},
   "outputs": [
    {
     "name": "stdout",
     "output_type": "stream",
     "text": [
      "Hello World\n",
      "Hello World\n",
      "Hello World\n"
     ]
    }
   ],
   "source": [
    "hello(\"World\")"
   ]
  },
  {
   "cell_type": "markdown",
   "metadata": {},
   "source": [
    "Now we rewrite the decorator by adding an outer function as follow:\n"
   ]
  },
  {
   "cell_type": "code",
   "execution_count": null,
   "metadata": {},
   "outputs": [],
   "source": [
    "def repeat(num_times):  # this is the outer function\n",
    "\n",
    "    def decorator(func):  # this is the decorator from above   #\n",
    "        def wrapper(*args, **kwargs):  #\n",
    "            for _ in range(num_times):  #\n",
    "                value = func(*args, **kwargs)  #\n",
    "                print(value)  #\n",
    "\n",
    "        return wrapper  # this was the decorator from above  #\n",
    "\n",
    "    return decorator  # the outer function returns the decorator"
   ]
  },
  {
   "cell_type": "markdown",
   "metadata": {},
   "source": [
    "**NOTE:** we reserve the base name `repeat()` for the outermost function, which is the one the user will call.\n"
   ]
  },
  {
   "cell_type": "code",
   "execution_count": null,
   "metadata": {},
   "outputs": [],
   "source": [
    "@repeat(num_times=5)\n",
    "def hello(msg):\n",
    "    return f\"Hello {msg}\""
   ]
  },
  {
   "cell_type": "code",
   "execution_count": null,
   "metadata": {
    "scrolled": true
   },
   "outputs": [
    {
     "name": "stdout",
     "output_type": "stream",
     "text": [
      "Hello Universe\n",
      "Hello Universe\n",
      "Hello Universe\n",
      "Hello Universe\n",
      "Hello Universe\n"
     ]
    }
   ],
   "source": [
    "hello(\"Universe\")"
   ]
  },
  {
   "cell_type": "markdown",
   "metadata": {},
   "source": [
    "However, now _have to_ pass an argument to the decorator.\n"
   ]
  },
  {
   "cell_type": "code",
   "execution_count": null,
   "metadata": {},
   "outputs": [],
   "source": [
    "# the decorator does not work if we don't pass any parameters\n",
    "@repeat\n",
    "def hello(msg):\n",
    "    return f\"Hello {msg}\""
   ]
  },
  {
   "cell_type": "code",
   "execution_count": null,
   "metadata": {},
   "outputs": [
    {
     "data": {
      "text/plain": [
       "<function __main__.repeat.<locals>.decorator.<locals>.wrapper(*args, **kwargs)>"
      ]
     },
     "execution_count": 73,
     "metadata": {},
     "output_type": "execute_result"
    }
   ],
   "source": [
    "# check\n",
    "hello(\"John\")"
   ]
  },
  {
   "cell_type": "code",
   "execution_count": null,
   "metadata": {},
   "outputs": [
    {
     "ename": "TypeError",
     "evalue": "repeat() missing 1 required positional argument: 'num_times'",
     "output_type": "error",
     "traceback": [
      "\u001b[0;31m---------------------------------------------------------------------------\u001b[0m",
      "\u001b[0;31mTypeError\u001b[0m                                 Traceback (most recent call last)",
      "\u001b[0;32m<ipython-input-74-dddf5aacf412>\u001b[0m in \u001b[0;36m<module>\u001b[0;34m\u001b[0m\n\u001b[1;32m      1\u001b[0m \u001b[0;31m# obviously this does not work either\u001b[0m\u001b[0;34m\u001b[0m\u001b[0;34m\u001b[0m\u001b[0;34m\u001b[0m\u001b[0m\n\u001b[0;32m----> 2\u001b[0;31m \u001b[0;34m@\u001b[0m\u001b[0mrepeat\u001b[0m\u001b[0;34m(\u001b[0m\u001b[0;34m)\u001b[0m\u001b[0;34m\u001b[0m\u001b[0;34m\u001b[0m\u001b[0m\n\u001b[0m\u001b[1;32m      3\u001b[0m \u001b[0;32mdef\u001b[0m \u001b[0mhello\u001b[0m\u001b[0;34m(\u001b[0m\u001b[0mmsg\u001b[0m\u001b[0;34m)\u001b[0m\u001b[0;34m:\u001b[0m\u001b[0;34m\u001b[0m\u001b[0;34m\u001b[0m\u001b[0m\n\u001b[1;32m      4\u001b[0m     \u001b[0;32mreturn\u001b[0m\u001b[0;34m(\u001b[0m\u001b[0;34mf\"Hello {msg}\"\u001b[0m\u001b[0;34m)\u001b[0m\u001b[0;34m\u001b[0m\u001b[0;34m\u001b[0m\u001b[0m\n",
      "\u001b[0;31mTypeError\u001b[0m: repeat() missing 1 required positional argument: 'num_times'"
     ]
    }
   ],
   "source": [
    "# obviously this does not work either\n",
    "@repeat()\n",
    "def hello(msg):\n",
    "    return f\"Hello {msg}\""
   ]
  },
  {
   "cell_type": "markdown",
   "metadata": {},
   "source": [
    "The decorator is confused when it is called without arguments. One idea is to define a default parameter.\n"
   ]
  },
  {
   "cell_type": "code",
   "execution_count": null,
   "metadata": {},
   "outputs": [],
   "source": [
    "# we could define a default variable\n",
    "def repeat(num_times=2):\n",
    "\n",
    "    def decorator(func):\n",
    "        def wrapper(*args, **kwargs):\n",
    "            for _ in range(num_times):\n",
    "                value = func(*args, **kwargs)\n",
    "                print(value)\n",
    "\n",
    "        return wrapper\n",
    "\n",
    "    return decorator"
   ]
  },
  {
   "cell_type": "code",
   "execution_count": null,
   "metadata": {},
   "outputs": [],
   "source": [
    "# which makes this works\n",
    "@repeat()  # don't forget the ()\n",
    "def hello(msg):\n",
    "    return f\"Hello {msg}\""
   ]
  },
  {
   "cell_type": "code",
   "execution_count": null,
   "metadata": {},
   "outputs": [
    {
     "name": "stdout",
     "output_type": "stream",
     "text": [
      "Hello John\n",
      "Hello John\n"
     ]
    }
   ],
   "source": [
    "# check\n",
    "hello(\"John\")"
   ]
  },
  {
   "cell_type": "code",
   "execution_count": null,
   "metadata": {},
   "outputs": [],
   "source": [
    "# but this still don't work\n",
    "@repeat  # without the (), this does not work\n",
    "def hello(msg):\n",
    "    return f\"Hello {msg}\""
   ]
  },
  {
   "cell_type": "code",
   "execution_count": null,
   "metadata": {},
   "outputs": [
    {
     "data": {
      "text/plain": [
       "<function __main__.repeat.<locals>.decorator.<locals>.wrapper(*args, **kwargs)>"
      ]
     },
     "execution_count": 79,
     "metadata": {},
     "output_type": "execute_result"
    }
   ],
   "source": [
    "# check\n",
    "hello(\"John\")"
   ]
  },
  {
   "cell_type": "markdown",
   "metadata": {},
   "source": [
    "We can't apply the decorator without the parenthesis, even if we defined a default value for the parameter. The way to go around this is to create a decorator that can be used both with and without arguments.\n"
   ]
  },
  {
   "cell_type": "code",
   "execution_count": null,
   "metadata": {},
   "outputs": [],
   "source": [
    "def repeat(_func=None, num_times=2):\n",
    "\n",
    "    def decorator(func):\n",
    "        def wrapper(*args, **kwargs):\n",
    "            for _ in range(num_times):\n",
    "                value = func(*args, **kwargs)\n",
    "                print(value)\n",
    "\n",
    "        return wrapper\n",
    "\n",
    "    return decorator if _func is None else decorator(_func)"
   ]
  },
  {
   "cell_type": "code",
   "execution_count": null,
   "metadata": {},
   "outputs": [],
   "source": [
    "# this works now\n",
    "@repeat\n",
    "def hello(msg):\n",
    "    return f\"Hello {msg}\""
   ]
  },
  {
   "cell_type": "code",
   "execution_count": null,
   "metadata": {},
   "outputs": [
    {
     "name": "stdout",
     "output_type": "stream",
     "text": [
      "Hello John\n",
      "Hello John\n"
     ]
    }
   ],
   "source": [
    "# check\n",
    "hello(\"John\")"
   ]
  },
  {
   "cell_type": "markdown",
   "metadata": {},
   "source": [
    "## Using `wraps` from `functools`\n",
    "\n",
    "The way we have defined decorators so far hasn't taken into account the following attributes:\n",
    "\n",
    "- `__name__` (name of the function),\n",
    "- `__doc__` (the docstring) and\n",
    "- `__module__` (The module in which the function is defined)\n",
    "\n",
    "This means that they will be lost after the decoration.\n"
   ]
  },
  {
   "cell_type": "code",
   "execution_count": null,
   "metadata": {},
   "outputs": [],
   "source": [
    "def my_decorator(func):\n",
    "    def wrapper(*args, **kwargs):\n",
    "        \"\"\"A wrapper function\"\"\"\n",
    "        print(f\"{func.__name__}() is getting decorated\")\n",
    "        return func()\n",
    "\n",
    "    return wrapper"
   ]
  },
  {
   "cell_type": "code",
   "execution_count": null,
   "metadata": {},
   "outputs": [],
   "source": [
    "@my_decorator\n",
    "def first_function():\n",
    "    \"\"\"This is docstring for FIRST function\"\"\"\n",
    "    return \"first function\""
   ]
  },
  {
   "cell_type": "code",
   "execution_count": null,
   "metadata": {},
   "outputs": [],
   "source": [
    "@my_decorator\n",
    "def second_function():\n",
    "    \"\"\"This is docstring for SECOND function\"\"\"\n",
    "    return \"second function\""
   ]
  },
  {
   "cell_type": "code",
   "execution_count": 86,
   "metadata": {},
   "outputs": [
    {
     "name": "stdout",
     "output_type": "stream",
     "text": [
      "wrapper\n",
      "wrapper\n",
      "A wrapper function\n",
      "A wrapper function\n"
     ]
    }
   ],
   "source": [
    "print(first_function.__name__)\n",
    "print(second_function.__name__)\n",
    "print(first_function.__doc__)\n",
    "print(second_function.__doc__)"
   ]
  },
  {
   "cell_type": "code",
   "execution_count": 87,
   "metadata": {},
   "outputs": [
    {
     "name": "stdout",
     "output_type": "stream",
     "text": [
      "Help on function wrapper in module __main__:\n",
      "\n",
      "wrapper(*args, **kwargs)\n",
      "    A wrapper function\n",
      "\n"
     ]
    }
   ],
   "source": [
    "help(first_function)"
   ]
  },
  {
   "cell_type": "markdown",
   "metadata": {},
   "source": [
    "This gets confusing if we use the same wrapper for different functions, as it will show the same details for each one of them.\n",
    "\n",
    "We could either make the appropriate change manually\n"
   ]
  },
  {
   "cell_type": "code",
   "execution_count": 88,
   "metadata": {},
   "outputs": [],
   "source": [
    "def my_decorator(func):\n",
    "    def wrapper(*args, **kwargs):\n",
    "        \"\"\"A wrapper function\"\"\"\n",
    "        print(f\"{func.__name__}() is getting decorated\")\n",
    "        return func()\n",
    "\n",
    "    wrapper.__name__ = func.__name__\n",
    "    wrapper.__doc__ = func.__doc__\n",
    "    wrapper.__module__ = func.__module__\n",
    "\n",
    "    return wrapper"
   ]
  },
  {
   "cell_type": "code",
   "execution_count": null,
   "metadata": {},
   "outputs": [],
   "source": [
    "@my_decorator\n",
    "def first_function():\n",
    "    \"\"\"This is docstring for FIRST function\"\"\"\n",
    "    return \"first function\""
   ]
  },
  {
   "cell_type": "code",
   "execution_count": 90,
   "metadata": {},
   "outputs": [
    {
     "name": "stdout",
     "output_type": "stream",
     "text": [
      "first_function\n",
      "This is docstring for FIRST function\n"
     ]
    }
   ],
   "source": [
    "# this is good\n",
    "print(first_function.__name__)\n",
    "print(first_function.__doc__)"
   ]
  },
  {
   "cell_type": "code",
   "execution_count": 91,
   "metadata": {},
   "outputs": [
    {
     "name": "stdout",
     "output_type": "stream",
     "text": [
      "Help on function first_function in module __main__:\n",
      "\n",
      "first_function(*args, **kwargs)\n",
      "    This is docstring for FIRST function\n",
      "\n"
     ]
    }
   ],
   "source": [
    "# this is still wrong\n",
    "help(first_function)"
   ]
  },
  {
   "cell_type": "markdown",
   "metadata": {},
   "source": [
    "Not only is adding everything manually tedious, but the signature of the function is incorrect: it shows `(*args, **kwargs)`.\n",
    "\n",
    "This is where `functools.wraps()` comes in:\n"
   ]
  },
  {
   "cell_type": "code",
   "execution_count": null,
   "metadata": {},
   "outputs": [],
   "source": [
    "from functools import wraps\n",
    "\n",
    "\n",
    "def my_decorator(func):\n",
    "    @wraps(func)\n",
    "    def wrapper(*args, **kwargs):\n",
    "        \"\"\"A wrapper function\"\"\"\n",
    "        print(f\"{func.__name__}() is getting decorated\")\n",
    "        return func()\n",
    "\n",
    "    return wrapper"
   ]
  },
  {
   "cell_type": "code",
   "execution_count": null,
   "metadata": {},
   "outputs": [],
   "source": [
    "@my_decorator\n",
    "def first_function():\n",
    "    \"\"\"This is docstring for FIRST function\"\"\"\n",
    "    return \"first function\""
   ]
  },
  {
   "cell_type": "code",
   "execution_count": 94,
   "metadata": {},
   "outputs": [
    {
     "name": "stdout",
     "output_type": "stream",
     "text": [
      "first_function\n",
      "This is docstring for FIRST function\n"
     ]
    }
   ],
   "source": [
    "# this is good\n",
    "print(first_function.__name__)\n",
    "print(first_function.__doc__)"
   ]
  },
  {
   "cell_type": "code",
   "execution_count": 95,
   "metadata": {},
   "outputs": [
    {
     "name": "stdout",
     "output_type": "stream",
     "text": [
      "Help on function first_function in module __main__:\n",
      "\n",
      "first_function()\n",
      "    This is docstring for FIRST function\n",
      "\n"
     ]
    }
   ],
   "source": [
    "# this is good now\n",
    "help(first_function)"
   ]
  },
  {
   "cell_type": "markdown",
   "metadata": {},
   "source": [
    "Check the [python documentation](https://www.python.org/dev/peps/pep-0318/) for more information on decorators.\n"
   ]
  },
  {
   "cell_type": "markdown",
   "metadata": {},
   "source": [
    "## Credits\n",
    "\n",
    "- [Pierian Data](https://github.com/Pierian-Data/Complete-Python-3-Bootcamp)\n",
    "- [Programmiz](https://www.programiz.com/python-programming/decorator)\n",
    "- [Real Python](https://realpython.com/primer-on-python-decorators)\n",
    "- [Python course](https://www.python-course.eu/python3_decorators.php)\n"
   ]
  }
 ],
 "metadata": {
  "kernelspec": {
   "display_name": "Python 3 (ipykernel)",
   "language": "python",
   "name": "python3"
  },
  "language_info": {
   "codemirror_mode": {
    "name": "ipython",
    "version": 3
   },
   "file_extension": ".py",
   "mimetype": "text/x-python",
   "name": "python",
   "nbconvert_exporter": "python",
   "pygments_lexer": "ipython3",
   "version": "3.12.7"
  },
  "toc": {
   "base_numbering": 1,
   "nav_menu": {},
   "number_sections": true,
   "sideBar": true,
   "skip_h1_title": true,
   "title_cell": "Table of Contents",
   "title_sidebar": "Contents",
   "toc_cell": true,
   "toc_position": {},
   "toc_section_display": true,
   "toc_window_display": false
  },
  "varInspector": {
   "cols": {
    "lenName": 16,
    "lenType": 16,
    "lenVar": 40
   },
   "kernels_config": {
    "python": {
     "delete_cmd_postfix": "",
     "delete_cmd_prefix": "del ",
     "library": "var_list.py",
     "varRefreshCmd": "print(var_dic_list())"
    },
    "r": {
     "delete_cmd_postfix": ") ",
     "delete_cmd_prefix": "rm(",
     "library": "var_list.r",
     "varRefreshCmd": "cat(var_dic_list()) "
    }
   },
   "types_to_exclude": [
    "module",
    "function",
    "builtin_function_or_method",
    "instance",
    "_Feature"
   ],
   "window_display": false
  },
  "widgets": {
   "application/vnd.jupyter.widget-state+json": {
    "state": {},
    "version_major": 2,
    "version_minor": 0
   }
  }
 },
 "nbformat": 4,
 "nbformat_minor": 4
}
