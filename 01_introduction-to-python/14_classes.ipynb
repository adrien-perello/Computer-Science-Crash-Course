{
 "cells": [
  {
   "cell_type": "markdown",
   "metadata": {},
   "source": [
    "# Classes\n"
   ]
  },
  {
   "cell_type": "markdown",
   "metadata": {},
   "source": [
    "## Introduction\n",
    "\n",
    "For Python, _everything_ is an **object**. We call this programming paradigm an [object oriented programming](#update_link) language (but we will learn more about it later in a later lesson).\n",
    "\n",
    "An object is simply a collection of:\n",
    "\n",
    "- variables (also called **attributes**)\n",
    "- **methods** (functions) that manipulate those variables\n",
    "\n",
    "But to create those objects, we need an **object constructor** (a \"blueprint\"). And a object constructor is called a **class**.\n"
   ]
  },
  {
   "cell_type": "code",
   "execution_count": 1,
   "metadata": {},
   "outputs": [
    {
     "name": "stdout",
     "output_type": "stream",
     "text": [
      "<class 'int'>\n",
      "<class 'list'>\n",
      "<class 'tuple'>\n",
      "<class 'dict'>\n"
     ]
    }
   ],
   "source": [
    "# every object is built from a class\n",
    "print(type(1))\n",
    "print(type([]))\n",
    "print(type(()))\n",
    "print(type({}))"
   ]
  },
  {
   "cell_type": "code",
   "execution_count": null,
   "metadata": {},
   "outputs": [
    {
     "name": "stdout",
     "output_type": "stream",
     "text": [
      "<class 'list'>\n"
     ]
    }
   ],
   "source": [
    "shopping_list = [\"apples\", \"tomatoes\", \"cheese\"]\n",
    "print(type(shopping_list))"
   ]
  },
  {
   "cell_type": "markdown",
   "metadata": {},
   "source": [
    "`shopping_list` is a object built out of the class `list`. We say that it is an **instance** (a specific object) of `list`.\n",
    "\n",
    "And we are not limited to the classes that we have seen so far (string, integer, list, tuples...). **We can create our own class**.\n"
   ]
  },
  {
   "cell_type": "markdown",
   "metadata": {},
   "source": [
    "## Defining a class\n",
    "\n",
    "Like for functions, we use the keyword `def` to define a class.\n"
   ]
  },
  {
   "cell_type": "code",
   "execution_count": 3,
   "metadata": {},
   "outputs": [],
   "source": [
    "class Dog:\n",
    "    \"This is a dog class\"\n",
    "    pass"
   ]
  },
  {
   "cell_type": "markdown",
   "metadata": {},
   "source": [
    "By convention we give classes a name that starts with a capital letter.\n",
    "\n",
    "Inside of the class we currently just have `pass`. `pass` is often used as a placeholder indicating where code will eventually go. It allows you to run this code without Python throwing an error.\n",
    "\n",
    "The Dog class isn’t very interesting right now, so let's add some attributes and methods.\n",
    "\n",
    "An **attribute** is a characteristic of an object. For example, an attribute of a dog may be its name or its age.\n",
    "\n",
    "A **method** is an operation we can perform with the object. For example `.bark()` could be a method that returns a sound.\n"
   ]
  },
  {
   "cell_type": "markdown",
   "metadata": {},
   "source": [
    "## Attributes\n",
    "\n",
    "The syntax for creating an attribute is:\n",
    "\n",
    "    self.attribute = something\n",
    "\n",
    "There is a special method called:\n",
    "\n",
    "    __init__()\n",
    "\n",
    "Every time a new `Dog` object is created, **`.__init__()`** sets the initial state of the object (it initializes the attributes of the object).\n",
    "\n",
    "You can give **`.__init__()`** any number of parameters, but the first parameter will always be a variable called **`self`**.\n"
   ]
  },
  {
   "cell_type": "code",
   "execution_count": 4,
   "metadata": {},
   "outputs": [],
   "source": [
    "class Dog:\n",
    "    def __init__(self, name, age):\n",
    "        self.name = name\n",
    "        self.age = age"
   ]
  },
  {
   "cell_type": "markdown",
   "metadata": {},
   "source": [
    "**NOTE:** the indentation clearly indicates that the method `__init()` belongs to the class `Dog`.\n",
    "\n",
    "In the body of `.__init__()`, there are 2 statements using the self variable:\n",
    "\n",
    "- `self.name = name` creates an attribute called name and assigns to it the value of the name parameter.\n",
    "- `self.age = age` creates an attribute called age and assigns to it the value of the age parameter.\n",
    "\n",
    "The `self` parameter is a reference to the current instance of the class, which is why we don't need to pass it in (it is automatically passed in).\n"
   ]
  },
  {
   "cell_type": "code",
   "execution_count": null,
   "metadata": {},
   "outputs": [],
   "source": [
    "# Let's instantiate the Dog class\n",
    "slinky = Dog(\"Slinky\", 2)"
   ]
  },
  {
   "cell_type": "markdown",
   "metadata": {},
   "source": [
    "`'Slinky'` and `2` are **instance attributes**: they are specific to the instance (the specific object).\n"
   ]
  },
  {
   "cell_type": "code",
   "execution_count": 6,
   "metadata": {},
   "outputs": [
    {
     "data": {
      "text/plain": [
       "__main__.Dog"
      ]
     },
     "execution_count": 6,
     "metadata": {},
     "output_type": "execute_result"
    }
   ],
   "source": [
    "# Let's check the type of object it is\n",
    "type(slinky)"
   ]
  },
  {
   "cell_type": "code",
   "execution_count": 7,
   "metadata": {},
   "outputs": [
    {
     "name": "stdout",
     "output_type": "stream",
     "text": [
      "Slinky\n",
      "2\n"
     ]
    }
   ],
   "source": [
    "# Let's print the instance attributes of slinky\n",
    "print(slinky.name)\n",
    "print(slinky.age)"
   ]
  },
  {
   "cell_type": "markdown",
   "metadata": {},
   "source": [
    "On the other hand, **class attributes** are attributes that have the same value for all class instances. For example, the following Dog class has a class attribute called species with the value `'mammal'`.\n"
   ]
  },
  {
   "cell_type": "code",
   "execution_count": null,
   "metadata": {},
   "outputs": [],
   "source": [
    "# let's add a class attribute\n",
    "class Dog:\n",
    "    species = \"mammal\"  # This is a class attribute\n",
    "\n",
    "    def __init__(self, name, age):\n",
    "        self.name = name  # This is an instance attribute\n",
    "        self.age = age"
   ]
  },
  {
   "cell_type": "code",
   "execution_count": null,
   "metadata": {},
   "outputs": [],
   "source": [
    "rex = Dog(\"Rex\", 4)"
   ]
  },
  {
   "cell_type": "code",
   "execution_count": 10,
   "metadata": {},
   "outputs": [
    {
     "data": {
      "text/plain": [
       "'mammal'"
      ]
     },
     "execution_count": 10,
     "metadata": {},
     "output_type": "execute_result"
    }
   ],
   "source": [
    "rex.species"
   ]
  },
  {
   "cell_type": "markdown",
   "metadata": {},
   "source": [
    "**NOTE:** Class attributes are defined directly beneath the first line of the class name and are also indented.\n"
   ]
  },
  {
   "cell_type": "markdown",
   "metadata": {},
   "source": [
    "## Methods\n",
    "\n",
    "Methods are functions defined inside the body of a class. They are used to perform operations with the attributes of our objects.\n",
    "\n",
    "Just like `.__init__()`, an instance method’s first parameter is always `self`.\n"
   ]
  },
  {
   "cell_type": "code",
   "execution_count": null,
   "metadata": {},
   "outputs": [],
   "source": [
    "# Let's add the method .bark()\n",
    "class Dog:\n",
    "    species = \"mammal\"\n",
    "\n",
    "    def __init__(self, name, age):\n",
    "        self.name = name\n",
    "        self.age = age\n",
    "\n",
    "    def bark(self):\n",
    "        return self.name + \" says WOOF WOOF\""
   ]
  },
  {
   "cell_type": "markdown",
   "metadata": {},
   "source": [
    "**NOTE:** all the atributes and the methods that belongs to the class Dog need to be indented.\n"
   ]
  },
  {
   "cell_type": "code",
   "execution_count": null,
   "metadata": {},
   "outputs": [],
   "source": [
    "# let's instantiate the Dog class\n",
    "slinky = Dog(\"Slinky\", 2)"
   ]
  },
  {
   "cell_type": "code",
   "execution_count": 13,
   "metadata": {},
   "outputs": [
    {
     "data": {
      "text/plain": [
       "'Slinky says WOOF WOOF'"
      ]
     },
     "execution_count": 13,
     "metadata": {},
     "output_type": "execute_result"
    }
   ],
   "source": [
    "# Let's call the method .bark()\n",
    "slinky.bark()"
   ]
  },
  {
   "cell_type": "code",
   "execution_count": 14,
   "metadata": {},
   "outputs": [
    {
     "name": "stdout",
     "output_type": "stream",
     "text": [
      "<__main__.Dog object at 0x7f9231454cd0>\n"
     ]
    }
   ],
   "source": [
    "# And what happens if we print directly this object?\n",
    "print(slinky)"
   ]
  },
  {
   "cell_type": "markdown",
   "metadata": {},
   "source": [
    "Huh?\n",
    "\n",
    "This is a rather cryptic message...\n"
   ]
  },
  {
   "cell_type": "code",
   "execution_count": null,
   "metadata": {},
   "outputs": [],
   "source": [
    "# Let's add the method .__str__()\n",
    "class Dog:\n",
    "    species = \"mammal\"\n",
    "\n",
    "    def __init__(self, name, age):\n",
    "        self.name = name\n",
    "        self.age = age\n",
    "\n",
    "    def bark(self):\n",
    "        return self.name + \" says WOOF WOOF\"\n",
    "\n",
    "    def __str__(self):\n",
    "        return self.name + \" is a \" + str(self.age) + \" years old dog\""
   ]
  },
  {
   "cell_type": "code",
   "execution_count": null,
   "metadata": {},
   "outputs": [],
   "source": [
    "# Let's instantiate it\n",
    "rex = Dog(\"Rex\", 10)"
   ]
  },
  {
   "cell_type": "code",
   "execution_count": 17,
   "metadata": {},
   "outputs": [
    {
     "name": "stdout",
     "output_type": "stream",
     "text": [
      "Rex is a 10 years old dog\n"
     ]
    }
   ],
   "source": [
    "# And let's try again to print the object\n",
    "print(rex)"
   ]
  },
  {
   "cell_type": "markdown",
   "metadata": {},
   "source": [
    "This looks better.\n",
    "\n",
    "**NOTE:** Methods like `.__init__()` and `.__str__()` are special methods (also called _dunder methods_).\n",
    "\n",
    "- `.__init__()` is called when we instantiate the class (i.e. we create an object)\n",
    "- `.__str__()` is associated with print()\n",
    "\n",
    "Similarly, 2 others common dunder methods are:\n",
    "\n",
    "- `.__len__()` is associated with the length method `len()`\n",
    "- `.__del__()` deletes the instance\n"
   ]
  },
  {
   "cell_type": "code",
   "execution_count": null,
   "metadata": {},
   "outputs": [],
   "source": [
    "# Let's add the method .__str__()\n",
    "class Dog:\n",
    "    species = \"mammal\"\n",
    "\n",
    "    def __init__(self, name, age, length):\n",
    "        self.name = name\n",
    "        self.age = age\n",
    "        self.length = length\n",
    "\n",
    "    def bark(self):\n",
    "        return self.name + \" says WOOF WOOF\"\n",
    "\n",
    "    def __str__(self):\n",
    "        return self.name + \" is a \" + str(self.age) + \" years old dog\"\n",
    "\n",
    "    def __len__(self):\n",
    "        return self.length\n",
    "\n",
    "    def __del__(self):\n",
    "        print(\"Goodbye \" + self.name)"
   ]
  },
  {
   "cell_type": "code",
   "execution_count": null,
   "metadata": {},
   "outputs": [],
   "source": [
    "sam = Dog(\"Sam\", 14, 120)"
   ]
  },
  {
   "cell_type": "code",
   "execution_count": 20,
   "metadata": {},
   "outputs": [
    {
     "name": "stdout",
     "output_type": "stream",
     "text": [
      "Sam is a 14 years old dog\n"
     ]
    }
   ],
   "source": [
    "print(sam)"
   ]
  },
  {
   "cell_type": "code",
   "execution_count": 21,
   "metadata": {},
   "outputs": [
    {
     "data": {
      "text/plain": [
       "120"
      ]
     },
     "execution_count": 21,
     "metadata": {},
     "output_type": "execute_result"
    }
   ],
   "source": [
    "len(sam)"
   ]
  },
  {
   "cell_type": "code",
   "execution_count": 22,
   "metadata": {},
   "outputs": [
    {
     "name": "stdout",
     "output_type": "stream",
     "text": [
      "Goodbye Sam\n"
     ]
    }
   ],
   "source": [
    "del sam"
   ]
  },
  {
   "cell_type": "markdown",
   "metadata": {},
   "source": [
    "Check the [python documentation](https://docs.python.org/3/tutorial/classes.html) for more information on classes.\n"
   ]
  },
  {
   "cell_type": "markdown",
   "metadata": {},
   "source": [
    "## Credits\n",
    "\n",
    "- [Pierian Data](https://github.com/Pierian-Data/Complete-Python-3-Bootcamp)\n",
    "- [Python textbook](https://python-textbok.readthedocs.io/en/1.0/Classes.html)\n",
    "- [Real Python](https://realpython.com/python3-object-oriented-programming/)\n"
   ]
  }
 ],
 "metadata": {
  "kernelspec": {
   "display_name": "Python 3 (ipykernel)",
   "language": "python",
   "name": "python3"
  },
  "language_info": {
   "codemirror_mode": {
    "name": "ipython",
    "version": 3
   },
   "file_extension": ".py",
   "mimetype": "text/x-python",
   "name": "python",
   "nbconvert_exporter": "python",
   "pygments_lexer": "ipython3",
   "version": "3.12.7"
  },
  "toc": {
   "base_numbering": 1,
   "nav_menu": {},
   "number_sections": true,
   "sideBar": true,
   "skip_h1_title": true,
   "title_cell": "Table of Contents",
   "title_sidebar": "Contents",
   "toc_cell": true,
   "toc_position": {},
   "toc_section_display": true,
   "toc_window_display": false
  },
  "varInspector": {
   "cols": {
    "lenName": 16,
    "lenType": 16,
    "lenVar": 40
   },
   "kernels_config": {
    "python": {
     "delete_cmd_postfix": "",
     "delete_cmd_prefix": "del ",
     "library": "var_list.py",
     "varRefreshCmd": "print(var_dic_list())"
    },
    "r": {
     "delete_cmd_postfix": ") ",
     "delete_cmd_prefix": "rm(",
     "library": "var_list.r",
     "varRefreshCmd": "cat(var_dic_list()) "
    }
   },
   "types_to_exclude": [
    "module",
    "function",
    "builtin_function_or_method",
    "instance",
    "_Feature"
   ],
   "window_display": false
  },
  "widgets": {
   "application/vnd.jupyter.widget-state+json": {
    "state": {},
    "version_major": 2,
    "version_minor": 0
   }
  }
 },
 "nbformat": 4,
 "nbformat_minor": 4
}
