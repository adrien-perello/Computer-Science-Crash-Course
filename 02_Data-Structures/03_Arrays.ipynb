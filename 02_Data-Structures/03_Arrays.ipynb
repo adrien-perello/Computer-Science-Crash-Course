{
 "cells": [
  {
   "cell_type": "code",
   "execution_count": 1,
   "metadata": {
    "hide_input": true,
    "init_cell": true
   },
   "outputs": [],
   "source": [
    "# before everything, import these libraries (Shift-Enter)\n",
    "\n",
    "from IPython.lib.display import YouTubeVideo"
   ]
  },
  {
   "cell_type": "markdown",
   "metadata": {},
   "source": [
    "# II. Data Structures > 03. Arrays\n",
    "\n",
    "\n",
    "**[<< Previous lesson](./02_Introduction-to-data-structures.ipynb)   |   [Next lesson >>](./04_Linked-lists.ipynb)**\n",
    "\n",
    "<hr>\n",
    "&nbsp;"
   ]
  },
  {
   "cell_type": "markdown",
   "metadata": {
    "toc": true
   },
   "source": [
    "<h1>Table of Contents<span class=\"tocSkip\"></span></h1>\n",
    "<div class=\"toc\"><ul class=\"toc-item\"><li><span><a href=\"#Introduction\" data-toc-modified-id=\"Introduction-1\"><span class=\"toc-item-num\">1&nbsp;&nbsp;</span>Introduction</a></span></li><li><span><a href=\"#What-is-an-Array?\" data-toc-modified-id=\"What-is-an-Array?-2\"><span class=\"toc-item-num\">2&nbsp;&nbsp;</span>What is an Array?</a></span></li><li><span><a href=\"#Properties-of-Arrays\" data-toc-modified-id=\"Properties-of-Arrays-3\"><span class=\"toc-item-num\">3&nbsp;&nbsp;</span>Properties of Arrays</a></span></li><li><span><a href=\"#Common-array-operations\" data-toc-modified-id=\"Common-array-operations-4\"><span class=\"toc-item-num\">4&nbsp;&nbsp;</span>Common array operations</a></span></li><li><span><a href=\"#Arrays-in-Python\" data-toc-modified-id=\"Arrays-in-Python-5\"><span class=\"toc-item-num\">5&nbsp;&nbsp;</span>Arrays in Python</a></span></li><li><span><a href=\"#Implementation\" data-toc-modified-id=\"Implementation-6\"><span class=\"toc-item-num\">6&nbsp;&nbsp;</span>Implementation</a></span><ul class=\"toc-item\"><li><span><a href=\"#Creating-an-array\" data-toc-modified-id=\"Creating-an-array-6.1\"><span class=\"toc-item-num\">6.1&nbsp;&nbsp;</span>Creating an array</a></span></li><li><span><a href=\"#Search\" data-toc-modified-id=\"Search-6.2\"><span class=\"toc-item-num\">6.2&nbsp;&nbsp;</span>Search</a></span></li><li><span><a href=\"#Insert\" data-toc-modified-id=\"Insert-6.3\"><span class=\"toc-item-num\">6.3&nbsp;&nbsp;</span>Insert</a></span></li><li><span><a href=\"#Delete\" data-toc-modified-id=\"Delete-6.4\"><span class=\"toc-item-num\">6.4&nbsp;&nbsp;</span>Delete</a></span></li><li><span><a href=\"#built-in-module-'array'\" data-toc-modified-id=\"built-in-module-'array'-6.5\"><span class=\"toc-item-num\">6.5&nbsp;&nbsp;</span>built-in module 'array'</a></span></li></ul></li><li><span><a href=\"#Disadvantages-of-Array\" data-toc-modified-id=\"Disadvantages-of-Array-7\"><span class=\"toc-item-num\">7&nbsp;&nbsp;</span>Disadvantages of Array</a></span></li><li><span><a href=\"#Credits\" data-toc-modified-id=\"Credits-8\"><span class=\"toc-item-num\">8&nbsp;&nbsp;</span>Credits</a></span></li></ul></div>"
   ]
  },
  {
   "cell_type": "markdown",
   "metadata": {},
   "source": [
    "<hr>\n",
    "&nbsp;\n",
    "\n",
    "## Introduction"
   ]
  },
  {
   "cell_type": "code",
   "execution_count": 1,
   "metadata": {
    "scrolled": true
   },
   "outputs": [
    {
     "data": {
      "image/jpeg": "[encoded data removed]",
      "text/html": [
       "\n",
       "        <iframe\n",
       "            width=\"560\"\n",
       "            height=\"315\"\n",
       "            src=\"https://www.youtube.com/embed/PEnFFiQe1pM\"\n",
       "            frameborder=\"0\"\n",
       "            allowfullscreen\n",
       "        ></iframe>\n",
       "        "
      ],
      "text/plain": [
       "<IPython.lib.display.YouTubeVideo at 0x7fc578e33e20>"
      ]
     },
     "execution_count": 1,
     "metadata": {},
     "output_type": "execute_result"
    }
   ],
   "source": [
    "YouTubeVideo('PEnFFiQe1pM',width=560,height=315)"
   ]
  },
  {
   "cell_type": "markdown",
   "metadata": {},
   "source": [
    "<hr>\n",
    "&nbsp;\n",
    "\n",
    "## What is an Array?\n",
    "* Array is a data structure used to store homogeneous elements at contiguous locations.\n",
    "* One memory block is allocated for the entire array to hold the elements of the array. The array elements can be accessed in constant time by using the index of the particular element as the subscript."
   ]
  },
  {
   "cell_type": "markdown",
   "metadata": {},
   "source": [
    "<hr>\n",
    "&nbsp;\n",
    "\n",
    "## Properties of Arrays\n",
    "\n",
    "* Arrays stores similar data types. That is, array can hold data of same data type values. This is one of the limitations of arrays compared to other data structures.\n",
    "\n",
    "* Each value stored, in an array, is known as an element and all elements are indexed. The first element added, by default, gets 0 index. That is, the 5th element added gets an index number of 4.\n",
    "\n",
    "* Elements can be retrieved by their index number. (__random access__)\n",
    "\n",
    "* Array elements are stored in contiguous (continuous) memory locations.\n",
    "\n",
    "* One array name can represent multiple values. Array is the easiest way to store a large quantity of data of same data types. For example, to store the salary of 100 employees, it is required to declare 100 variables. But with arrays, with one array name all the 100 employees salaries can be stored.\n",
    "\n",
    "* At the time of creation itself, array size should be declared (array initialization does not require size)."
   ]
  },
  {
   "cell_type": "markdown",
   "metadata": {},
   "source": [
    "<hr>\n",
    "&nbsp;\n",
    "\n",
    "## Common array operations\n",
    "* Search\n",
    "* Insert\n",
    "* Delete\n",
    "\n",
    "**Time complexity**:\n",
    "\n",
    "* Search: O(n)\n",
    "* Insert: O(n)\n",
    "* Delete: O(n)\n",
    "* Indexing: O(1)"
   ]
  },
  {
   "cell_type": "markdown",
   "metadata": {},
   "source": [
    "<hr>\n",
    "&nbsp;\n",
    "\n",
    "## Arrays in Python\n",
    "\n",
    "Python does not have a native support for arrays, but has a more generic data structure called **[LIST](./.ipynb)**. List provides all the options as array with more functionality.  \n",
    "But with few tweaks we can implement Array data structure in Python."
   ]
  },
  {
   "cell_type": "markdown",
   "metadata": {},
   "source": [
    "<hr>\n",
    "&nbsp;\n",
    "\n",
    "## Implementation\n",
    "\n",
    "### Creating an array"
   ]
  },
  {
   "cell_type": "code",
   "execution_count": 2,
   "metadata": {},
   "outputs": [],
   "source": [
    "class Array(object):\n",
    "    '''sizeOfArray: denotes the total size of the array to be initialized\n",
    "       arrayType: denotes the data type of the array(as all the elements of the array have same data type)\n",
    "       arrayItems: values at each position of array\n",
    "    '''\n",
    "\n",
    "    def __init__(self, sizeOfArray, arrayType = int):\n",
    "        '''Initialize an array'''\n",
    "        self.sizeOfArray = len(list(map(arrayType, range(sizeOfArray))))\n",
    "        self.arrayItems =[arrayType(0)] * sizeOfArray    # initialize array with zeroes\n",
    "\n",
    "        \n",
    "    def __str__(self):\n",
    "        '''Print an array'''\n",
    "            return ' '.join([str(i) for i in self.arrayItems])\n",
    "\n",
    "        \n",
    "    def search(self, keyToSearch):\n",
    "        '''Search in the array'''\n",
    "        for i in range(self.sizeOfArray):\n",
    "            if (self.arrayItems[i] == keyToSearch):    # brute-forcing\n",
    "                return i     # index at which element/ key was found\n",
    "            \n",
    "        return -1            # if key not found, return -1\n",
    "    \n",
    "\n",
    "    def insert(self, keyToInsert, position):\n",
    "        '''Insert in the array'''\n",
    "        if(self.sizeOfArray > position):\n",
    "            for i in range(self.sizeOfArray - 2, position - 1, -1):\n",
    "                self.arrayItems[i + 1] = self.arrayItems[i]\n",
    "            self.arrayItems[position] = keyToInsert\n",
    "        else:\n",
    "            print('Array size is:', self.sizeOfArray)\n",
    "\n",
    "\n",
    "    def delete(self, keyToDelete, position):\n",
    "        '''Delete an element'''\n",
    "        if(self.sizeOfArray > position):\n",
    "            for i in range(position, self.sizeOfArray - 1):\n",
    "                self.arrayItems[i] = self.arrayItems[i + 1]\n",
    "        else:\n",
    "            print('Array size is:', self.sizeOfArray)"
   ]
  },
  {
   "cell_type": "code",
   "execution_count": 3,
   "metadata": {},
   "outputs": [
    {
     "name": "stdout",
     "output_type": "stream",
     "text": [
      "0 0 0 0 0 0 0 0 0 0\n"
     ]
    }
   ],
   "source": [
    "a = Array(10, int)\n",
    "print(a)"
   ]
  },
  {
   "cell_type": "markdown",
   "metadata": {},
   "source": [
    "&nbsp;\n",
    "\n",
    "### Search"
   ]
  },
  {
   "cell_type": "code",
   "execution_count": 4,
   "metadata": {},
   "outputs": [
    {
     "name": "stdout",
     "output_type": "stream",
     "text": [
      "Element found at: 0\n"
     ]
    }
   ],
   "source": [
    "a = Array(10, int)\n",
    "index = a.search(0)\n",
    "print('Element found at:', index)"
   ]
  },
  {
   "cell_type": "markdown",
   "metadata": {},
   "source": [
    "&nbsp;\n",
    "\n",
    "### Insert"
   ]
  },
  {
   "cell_type": "code",
   "execution_count": 5,
   "metadata": {},
   "outputs": [
    {
     "name": "stdout",
     "output_type": "stream",
     "text": [
      "0 0 1 2 3 0 0 0 0 0\n"
     ]
    }
   ],
   "source": [
    "a = Array(10, int)\n",
    "a.insert(1, 2)\n",
    "a.insert(2,3)\n",
    "a.insert(3,4)\n",
    "print(a)"
   ]
  },
  {
   "cell_type": "markdown",
   "metadata": {},
   "source": [
    "&nbsp;\n",
    "\n",
    "### Delete"
   ]
  },
  {
   "cell_type": "code",
   "execution_count": 6,
   "metadata": {},
   "outputs": [
    {
     "name": "stdout",
     "output_type": "stream",
     "text": [
      "0 0 1 2 0 0 0 0 0 0\n",
      "Element found at: 2\n"
     ]
    }
   ],
   "source": [
    "a = Array(10, int)\n",
    "a.insert(1, 2)\n",
    "a.insert(2,3)\n",
    "a.insert(3,4)\n",
    "a.delete(3, 4)\n",
    "print(a)\n",
    "index = a.search(1)\n",
    "print('Element found at:',index)"
   ]
  },
  {
   "cell_type": "markdown",
   "metadata": {},
   "source": [
    "&nbsp;\n",
    "\n",
    "\n",
    "### built-in module 'array'\n",
    "\n",
    "Python has a built-in module 'array'.  \n",
    "The **syntax** is array(dataType, valueList)"
   ]
  },
  {
   "cell_type": "code",
   "execution_count": 7,
   "metadata": {},
   "outputs": [
    {
     "name": "stdout",
     "output_type": "stream",
     "text": [
      "The new created array is : 1 2 3 4 5 \n",
      "The appended array is : 1 2 3 4 5 6 \n",
      "The array after insertion is : 1 2 5 3 4 5 6 \n",
      "The array after deletion is : 2 5 3 4 5 6 "
     ]
    }
   ],
   "source": [
    "# importing 'array' module \n",
    "import array\n",
    "\n",
    "# initializing array\n",
    "arr = array.array('i', [1, 2, 3, 4, 5])     # initialize array with integers ('i')\n",
    "\n",
    "# printing original array\n",
    "print (\"The new created array is : \",end=\"\")\n",
    "for i in range (0, 5):\n",
    "    print (arr[i], end=\" \")\n",
    "\n",
    "# using append() to insert new value at end\n",
    "arr.append(6);\n",
    "\n",
    "# printing appended array\n",
    "print (\"\\nThe appended array is : \", end=\"\")\n",
    "for i in range (0, 6):\n",
    "    print (arr[i], end=\" \")\n",
    "\n",
    "# using insert() to insert value at specific position\n",
    "# inserts 5 at 2nd position\n",
    "arr.insert(2, 5)\n",
    "\n",
    "# printing array after insertion\n",
    "print (\"\\nThe array after insertion is : \", end=\"\")\n",
    "for i in range (0, 7):\n",
    "    print (arr[i], end=\" \")\n",
    "    \n",
    "arr.remove(1)\n",
    "\n",
    "# deleting a  value from array\n",
    "print (\"\\nThe array after deletion is : \", end=\"\")\n",
    "for i in range (0, 6):\n",
    "    print (arr[i], end=\" \")\n"
   ]
  },
  {
   "cell_type": "markdown",
   "metadata": {},
   "source": [
    "&nbsp;\n",
    "\n",
    "\n",
    "## Disadvantages of Array\n",
    "\n",
    "* **Fixed size**: The size of the array is static (specify the array size before using it, this can be overcome using Dynamic Arrays).\n",
    "* **One block allocation**: To allocate the array itself at the beginning, sometimes it may not be possible to get the memory for the complete array (if the array size is big).\n",
    "* **Complex position-based insertion**: To insert an element at a given position, we may need to shift the existing elements. This will create a position for us to insert the new element at the desired position. If the position at which we want to add an element is at the beginning, then the shifting operation is more expensive."
   ]
  },
  {
   "cell_type": "markdown",
   "metadata": {},
   "source": [
    "&nbsp;\n",
    "\n",
    "\n",
    "## Credits\n",
    "\n",
    "- [Omkar Pathak](https://github.com/OmkarPathak/Data-Structures-using-Python) for the notebook content"
   ]
  }
 ],
 "metadata": {
  "kernelspec": {
   "display_name": "Python 3",
   "language": "python",
   "name": "python3"
  },
  "language_info": {
   "codemirror_mode": {
    "name": "ipython",
    "version": 3
   },
   "file_extension": ".py",
   "mimetype": "text/x-python",
   "name": "python",
   "nbconvert_exporter": "python",
   "pygments_lexer": "ipython3",
   "version": "3.9.2"
  },
  "toc": {
   "base_numbering": 1,
   "nav_menu": {},
   "number_sections": true,
   "sideBar": true,
   "skip_h1_title": true,
   "title_cell": "Table of Contents",
   "title_sidebar": "Contents",
   "toc_cell": true,
   "toc_position": {},
   "toc_section_display": true,
   "toc_window_display": false
  },
  "varInspector": {
   "cols": {
    "lenName": 16,
    "lenType": 16,
    "lenVar": 40
   },
   "kernels_config": {
    "python": {
     "delete_cmd_postfix": "",
     "delete_cmd_prefix": "del ",
     "library": "var_list.py",
     "varRefreshCmd": "print(var_dic_list())"
    },
    "r": {
     "delete_cmd_postfix": ") ",
     "delete_cmd_prefix": "rm(",
     "library": "var_list.r",
     "varRefreshCmd": "cat(var_dic_list()) "
    }
   },
   "types_to_exclude": [
    "module",
    "function",
    "builtin_function_or_method",
    "instance",
    "_Feature"
   ],
   "window_display": false
  }
 },
 "nbformat": 4,
 "nbformat_minor": 4
}
