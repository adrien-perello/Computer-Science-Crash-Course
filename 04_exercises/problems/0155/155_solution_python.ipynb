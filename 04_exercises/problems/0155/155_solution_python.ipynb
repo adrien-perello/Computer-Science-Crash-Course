{
 "cells": [
  {
   "cell_type": "markdown",
   "metadata": {},
   "source": [
    "<h1>155. Min Stack</h1>\n",
    "<hr>\n",
    "\n",
    "<!--Copy Paste Leetcode statement between-->\n",
    "<p>Design a stack that supports push, pop, top, and retrieving the minimum element in constant time.</p>\n",
    "\n",
    "<ul>\n",
    "\t<li>push(x) -- Push element x onto stack.</li>\n",
    "\t<li>pop() -- Removes the element on top of the stack.</li>\n",
    "\t<li>top() -- Get the top element.</li>\n",
    "\t<li>getMin() -- Retrieve the minimum element in the stack.</li>\n",
    "</ul>\n",
    "\n",
    "<p>&nbsp;</p>\n",
    "<p><strong>Example 1:</strong></p>\n",
    "\n",
    "<pre><strong>Input</strong>\n",
    "[\"MinStack\",\"push\",\"push\",\"push\",\"getMin\",\"pop\",\"top\",\"getMin\"]\n",
    "[[],[-2],[0],[-3],[],[],[],[]]\n",
    "\n",
    "<strong>Output</strong>\n",
    "[null,null,null,null,-3,null,0,-2]\n",
    "\n",
    "<strong>Explanation</strong>\n",
    "MinStack minStack = new MinStack();\n",
    "minStack.push(-2);\n",
    "minStack.push(0);\n",
    "minStack.push(-3);\n",
    "minStack.getMin(); // return -3\n",
    "minStack.pop();\n",
    "minStack.top();    // return 0\n",
    "minStack.getMin(); // return -2\n",
    "</pre>\n",
    "\n",
    "<p>&nbsp;</p>\n",
    "<p><strong>Constraints:</strong></p>\n",
    "\n",
    "<ul>\n",
    "\t<li>Methods <code>pop</code>, <code>top</code> and <code>getMin</code> operations will always be called on <strong>non-empty</strong> stacks.</li>\n",
    "</ul>\n",
    "<!--Copy Paste Leetcode statement between-->\n",
    "\n",
    "<p>&nbsp;</p>\n",
    "<a href=\"https://leetcode.com/problems/min-stack/\">Source</a> \n",
    "<hr>"
   ]
  },
  {
   "cell_type": "code",
   "execution_count": null,
   "metadata": {},
   "outputs": [],
   "source": [
    "# Your MinStack object will be instantiated and called as such:\n",
    "obj = MinStack()\n",
    "obj.push(x)\n",
    "obj.pop()\n",
    "param_3 = obj.top()\n",
    "param_4 = obj.getMin()"
   ]
  },
  {
   "cell_type": "markdown",
   "metadata": {},
   "source": [
    "<h4>Code</h4>"
   ]
  },
  {
   "cell_type": "code",
   "execution_count": null,
   "metadata": {},
   "outputs": [],
   "source": [
    "class MinStack:\n",
    "\n",
    "    def __init__(self):\n",
    "        \"\"\"initialize your data structure here.\"\"\"\n",
    "        self.stack = []\n",
    "\n",
    "    def push(self, n):\n",
    "        \"\"\"return none\n",
    "        TRICK: each node in the stack has a minimum value\"\"\"\n",
    "        if len(self.stack) == 0:\n",
    "            self.stack.append((n, n))\n",
    "        else:\n",
    "            self.stack.append((n, min(n, self.stack[-1][1])))\n",
    "\n",
    "    def pop(self):\n",
    "        \"\"\"return none.\"\"\"\n",
    "        return self.stack.pop()[0]  #return element\n",
    "\n",
    "    def top(self):\n",
    "        \"\"\"return int.\"\"\"\n",
    "        return self.stack[-1][0]   #return element\n",
    "\n",
    "    def getMin(self):\n",
    "        \"\"\"return int.\"\"\"\n",
    "        return self.stack[-1][1]   #return min value associated with element"
   ]
  }
 ],
 "metadata": {
  "kernelspec": {
   "display_name": "Python 3",
   "language": "python",
   "name": "python3"
  },
  "language_info": {
   "codemirror_mode": {
    "name": "ipython",
    "version": 3
   },
   "file_extension": ".py",
   "mimetype": "text/x-python",
   "name": "python",
   "nbconvert_exporter": "python",
   "pygments_lexer": "ipython3",
   "version": "3.8.2"
  }
 },
 "nbformat": 4,
 "nbformat_minor": 1
}
