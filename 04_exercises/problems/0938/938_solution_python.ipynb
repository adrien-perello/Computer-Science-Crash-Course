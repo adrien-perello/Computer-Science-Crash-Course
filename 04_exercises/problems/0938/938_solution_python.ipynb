{
 "cells": [
  {
   "cell_type": "markdown",
   "metadata": {},
   "source": [
    "<h1>938. Range Sum of BST</h1>\n",
    "<hr>\n",
    "\n",
    "<!--Copy Paste Leetcode statement between-->\n",
    "<p>Given the <code>root</code> node of a binary search tree, return <em>the sum of values of all nodes with a value in the range <code>[low, high]</code></em>.</p>\n",
    "\n",
    "<p>&nbsp;</p>\n",
    "<p><strong>Example 1:</strong></p>\n",
    "<img alt=\"\" src=\"./img1.jpeg\" style=\"width: 400px; height: 222px;\">\n",
    "<pre><strong>Input:</strong> root = [10,5,15,3,7,null,18], low = 7, high = 15\n",
    "<strong>Output:</strong> 32\n",
    "</pre>\n",
    "<p>&nbsp;</p>\n",
    "<p><strong>Example 2:</strong></p>\n",
    "<img alt=\"\" src=\"./img2.jpeg\" style=\"width: 400px; height: 335px;\">\n",
    "<pre><strong>Input:</strong> root = [10,5,15,3,7,13,18,1,null,6], low = 6, high = 10\n",
    "<strong>Output:</strong> 23\n",
    "</pre>\n",
    "\n",
    "<p>&nbsp;</p>\n",
    "<p><strong>Constraints:</strong></p>\n",
    "\n",
    "<ul>\n",
    "\t<li>The number of nodes in the tree is in the range <code>[1, 2 * 10<sup>4</sup>]</code>.</li>\n",
    "\t<li><code>1 &lt;= Node.val &lt;= 10<sup>5</sup></code></li>\n",
    "\t<li><code>1 &lt;= low &lt;= high &lt;= 10<sup>5</sup></code></li>\n",
    "\t<li>All <code>Node.val</code> are <strong>unique</strong>.</li>\n",
    "</ul>\n",
    "<!--Copy Paste Leetcode statement between-->\n",
    "\n",
    "<p>&nbsp;</p>\n",
    "<a href=\"https://leetcode.com/problems/range-sum-of-bst/\">Source</a> \n",
    "<hr>"
   ]
  },
  {
   "cell_type": "code",
   "execution_count": 1,
   "metadata": {},
   "outputs": [],
   "source": [
    "# Definition for a binary tree node.\n",
    "class TreeNode:\n",
    "    def __init__(self, val=0, left=None, right=None):\n",
    "        self.val = val\n",
    "        self.left = left\n",
    "        self.right = right"
   ]
  },
  {
   "cell_type": "markdown",
   "metadata": {},
   "source": [
    "<h4>Code</h4>"
   ]
  },
  {
   "cell_type": "code",
   "execution_count": 2,
   "metadata": {},
   "outputs": [],
   "source": [
    "def range_sum_bst(root, L, R):\n",
    "    \"\"\"DFS using a recursive approach\"\"\"\n",
    "    def dfs(node):\n",
    "        \"\"\"similar to preorder traversal\"\"\"\n",
    "        if not node:\n",
    "            return\n",
    "\n",
    "        nonlocal result\n",
    "        if L <= node.val <= R:\n",
    "            result += node.val\n",
    "        if node.val > L:\n",
    "            dfs(node.left)\n",
    "        if node.val < R:\n",
    "            dfs(node.right)\n",
    "\n",
    "    result = 0\n",
    "    dfs(root)\n",
    "    return result"
   ]
  },
  {
   "cell_type": "markdown",
   "metadata": {},
   "source": [
    "<hr>\n",
    "<h4>Follow up:</h4>\n",
    "<p>Solve it both recursively and iteratively.</p>\n",
    "\n",
    "<h4>Code</h4>"
   ]
  },
  {
   "cell_type": "code",
   "execution_count": 3,
   "metadata": {},
   "outputs": [],
   "source": [
    "def range_sum_bst(root, L, R):\n",
    "    \"\"\"DFS using a recursive approach\"\"\"\n",
    "    if not root:\n",
    "        return 0\n",
    "\n",
    "    stack = [root]\n",
    "    result = 0\n",
    "    while stack:\n",
    "        node = stack.pop()\n",
    "        if node is None:\n",
    "            continue\n",
    "        if L <= node.val <= R:\n",
    "            result += node.val\n",
    "        if node.val > L:\n",
    "            stack.append(node.left)\n",
    "        if node.val < R:\n",
    "            stack.append(node.right)\n",
    "    return result"
   ]
  },
  {
   "cell_type": "code",
   "execution_count": null,
   "metadata": {},
   "outputs": [],
   "source": [
    "def range_sum_bst(root, L, R):\n",
    "    \"\"\"BFS using a recursive approach\"\"\"\n",
    "    if not root:\n",
    "        return 0\n",
    "\n",
    "    queue = [root]\n",
    "    result = 0\n",
    "    for node in queue:\n",
    "        if node is None:\n",
    "            continue\n",
    "        if L <= node.val <= R:\n",
    "            result += node.val\n",
    "        if node.val > L:\n",
    "            queue.append(node.left)\n",
    "        if node.val < R:\n",
    "            queue.append(node.right)\n",
    "    return result"
   ]
  }
 ],
 "metadata": {
  "kernelspec": {
   "display_name": "Python 3",
   "language": "python",
   "name": "python3"
  },
  "language_info": {
   "codemirror_mode": {
    "name": "ipython",
    "version": 3
   },
   "file_extension": ".py",
   "mimetype": "text/x-python",
   "name": "python",
   "nbconvert_exporter": "python",
   "pygments_lexer": "ipython3",
   "version": "3.8.2"
  }
 },
 "nbformat": 4,
 "nbformat_minor": 1
}
