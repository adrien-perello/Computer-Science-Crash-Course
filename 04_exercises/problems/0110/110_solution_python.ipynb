{
 "cells": [
  {
   "cell_type": "markdown",
   "metadata": {},
   "source": [
    "<h1>110. Balanced Binary Tree</h1>\n",
    "<hr>\n",
    "\n",
    "<!--Copy Paste Leetcode statement between-->\n",
    "<p>Given a binary tree, determine if it is height-balanced.</p>\n",
    "\n",
    "<p>For this problem, a height-balanced binary tree is defined as:</p>\n",
    "\n",
    "<blockquote>\n",
    "<p>a binary tree in which the left and right subtrees of <em>every</em> node differ in height by no more than 1.</p>\n",
    "</blockquote>\n",
    "\n",
    "<p>&nbsp;</p>\n",
    "<p><strong>Example 1:</strong></p>\n",
    "<img alt=\"\" src=\"./img1.jpeg\" style=\"width: 342px; height: 221px;\">\n",
    "<pre><strong>Input:</strong> root = [3,9,20,null,null,15,7]\n",
    "<strong>Output:</strong> true\n",
    "</pre>\n",
    "\n",
    "<p><strong>Example 2:</strong></p>\n",
    "<img alt=\"\" src=\"./img2.jpeg\" style=\"width: 452px; height: 301px;\">\n",
    "<pre><strong>Input:</strong> root = [1,2,2,3,3,null,null,4,4]\n",
    "<strong>Output:</strong> false\n",
    "</pre>\n",
    "\n",
    "<p><strong>Example 3:</strong></p>\n",
    "\n",
    "<pre><strong>Input:</strong> root = []\n",
    "<strong>Output:</strong> true\n",
    "</pre>\n",
    "\n",
    "<p>&nbsp;</p>\n",
    "<p><strong>Constraints:</strong></p>\n",
    "\n",
    "<ul>\n",
    "\t<li>The number of nodes in the tree is in the range <code>[0, 5000]</code>.</li>\n",
    "\t<li><code>-10<sup>4</sup> &lt;= Node.val &lt;= 10<sup>4</sup></code></li>\n",
    "</ul>\n",
    "<!--Copy Paste Leetcode statement between-->\n",
    "\n",
    "<p>&nbsp;</p>\n",
    "<a href=\"https://leetcode.com/problems/balanced-binary-tree/\">Source</a> \n",
    "<hr>"
   ]
  },
  {
   "cell_type": "code",
   "execution_count": 1,
   "metadata": {},
   "outputs": [],
   "source": [
    "# Definition for a binary tree node.\n",
    "class TreeNode:\n",
    "    def __init__(self, val=0, left=None, right=None):\n",
    "        self.val = val\n",
    "        self.left = left\n",
    "        self.right = right"
   ]
  },
  {
   "cell_type": "markdown",
   "metadata": {},
   "source": [
    "<h4>Code</h4>"
   ]
  },
  {
   "cell_type": "code",
   "execution_count": 2,
   "metadata": {},
   "outputs": [],
   "source": [
    "def is_balanced(root):\n",
    "    \"\"\"Recursive approach using DFS.\n",
    "    Time Complexity O(n)\n",
    "    Space complexity O(h) (with h the height of the tree)\n",
    "    \"\"\"\n",
    "    def height(node):\n",
    "        if not node:\n",
    "            return -1\n",
    "        return 1 + max(height(node.left), height(node.right))\n",
    "\n",
    "    if not root:\n",
    "        return True\n",
    "    left = height(root.left)\n",
    "    right = height(root.right)\n",
    "    return (abs(left - right) < 2 and is_balanced(root.left) and is_balanced(root.right))"
   ]
  },
  {
   "cell_type": "code",
   "execution_count": 3,
   "metadata": {},
   "outputs": [],
   "source": [
    "def is_balanced(root):\n",
    "    \"\"\"Alternative recursive solution\n",
    "    Time Complexity O(n)\n",
    "    Space complexity O(h)\n",
    "    \"\"\"\n",
    "    def height(root):\n",
    "        if root is None:\n",
    "            return -1\n",
    "        left = height(root.left)\n",
    "        right = height(root.right)\n",
    "        if left == '@' or right == '@' or abs(left - right) > 1:  # PROPAGATE\n",
    "            return '@'                                           # '@' in TREE\n",
    "        return 1 + max(left, right)\n",
    "\n",
    "    return height(root) != '@'"
   ]
  },
  {
   "cell_type": "code",
   "execution_count": 4,
   "metadata": {},
   "outputs": [],
   "source": [
    "def is_balanced(root):\n",
    "    \"\"\"YET another alternative.\"\"\"\n",
    "    def helper(root):\n",
    "        if not root:\n",
    "            return (True, -1)\n",
    "        balanced, left_h = helper(root.left)\n",
    "        if not balanced:\n",
    "            return (False, '@')\n",
    "        balanced, right_h = helper(root.right)\n",
    "        if not balanced or abs(left_h - right_h) > 1:\n",
    "            return (False, '@')\n",
    "        return (True, 1 + max(left_h, right_h))\n",
    "\n",
    "    return helper(root)[0]"
   ]
  },
  {
   "cell_type": "markdown",
   "metadata": {},
   "source": [
    "<hr>\n",
    "<h4>Follow up:</h4>\n",
    "<p>Solve it both recursively and iteratively.</p>\n",
    "<p>&nbsp;</p>\n",
    "<p><strong>Note:</strong></p>\n",
    "    <ul><li>see <a href=\"https://nbviewer.jupyter.org/github/adrien-perelloyb/leetcode/blob/main/lessons/tree_traversals.ipynb\">here</a> for a reminder on the difference between depth and level</li></ul>\n",
    "\n",
    "<p>&nbsp;</p>\n",
    "<h4>Code</h4>"
   ]
  },
  {
   "cell_type": "code",
   "execution_count": 5,
   "metadata": {},
   "outputs": [],
   "source": [
    "def is_balanced(root):\n",
    "    \"\"\"Iterative. Based on BFS traversal (using a list)\"\"\"\n",
    "    # Start with a level traversal (using a stack)\n",
    "    queue = [root]\n",
    "    for node in queue:  \n",
    "        if node:\n",
    "            queue += node.left, node.right  # last nodes --> full layer of \"None\"\n",
    "\n",
    "    # then, traverse nodes in reverse (i.e from bottom layer)and update their height\n",
    "    # by conv. height(leaf) = 0 (i.e last nodes being \"None\" have depth = -1)\n",
    "    height = {None: -1}\n",
    "    for node in reversed(queue):\n",
    "        if node:\n",
    "            left = height[node.left]\n",
    "            right = height[node.right]\n",
    "            if abs(left - right) > 1:\n",
    "                return False\n",
    "            height[node] = 1 + max(left, right)\n",
    "\n",
    "    return True"
   ]
  },
  {
   "cell_type": "code",
   "execution_count": 6,
   "metadata": {},
   "outputs": [],
   "source": [
    "from collections import deque\n",
    "\n",
    "def is_balanced(root):\n",
    "    \"\"\"Iterative. alternative BFS traversal (deque instead of list)\"\"\"\n",
    "    # Start with a level traversal (using a queue)\n",
    "    queue = deque()\n",
    "    queue.append(root)\n",
    "    nodes = []\n",
    "    while queue:\n",
    "        node = queue.popleft()\n",
    "        if node:\n",
    "            nodes.append(node.val)  # print\n",
    "            queue += node.left, node.right\n",
    "\n",
    "    # this part is the same as above\n",
    "    height = {None: -1}\n",
    "    for node in reversed(queue):\n",
    "        if node:\n",
    "            left = height[node.left]\n",
    "            right = height[node.right]\n",
    "            if abs(left - right) > 1:\n",
    "                return False\n",
    "            height[node] = 1 + max(left, right)\n",
    "\n",
    "    return True"
   ]
  },
  {
   "cell_type": "code",
   "execution_count": 7,
   "metadata": {},
   "outputs": [],
   "source": [
    "def is_balanced(root):\n",
    "    \"\"\"Iterative. alternative, also based on BFS traversal.\"\"\"\n",
    "    if not root:\n",
    "        return True\n",
    "    stack = [(root, False)]\n",
    "    height = {None: -1}\n",
    "    while stack:\n",
    "        node, visited = stack.pop()\n",
    "        if not node:\n",
    "            continue\n",
    "        if not visited:\n",
    "            stack.extend([(node, True), (node.right, False), (node.left, False)])\n",
    "            # still a BFS since children of a node will always come after the \"siblings\" of that very node\n",
    "        else:\n",
    "            if abs(height[node.left] - height[node.right]) > 1:\n",
    "                return False\n",
    "            height[node] = max(height[node.left], height[node.right]) + 1\n",
    "    return True"
   ]
  }
 ],
 "metadata": {
  "kernelspec": {
   "display_name": "Python 3",
   "language": "python",
   "name": "python3"
  },
  "language_info": {
   "codemirror_mode": {
    "name": "ipython",
    "version": 3
   },
   "file_extension": ".py",
   "mimetype": "text/x-python",
   "name": "python",
   "nbconvert_exporter": "python",
   "pygments_lexer": "ipython3",
   "version": "3.8.2"
  }
 },
 "nbformat": 4,
 "nbformat_minor": 1
}
