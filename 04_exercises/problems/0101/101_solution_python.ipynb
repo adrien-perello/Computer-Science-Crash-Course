{
 "cells": [
  {
   "cell_type": "markdown",
   "metadata": {},
   "source": [
    "<h1>101. Symmetric Tree</h1>\n",
    "<hr>\n",
    "\n",
    "<!--Copy Paste Leetcode statement between-->\n",
    "<p>Given a binary tree, check whether it is a mirror of itself (ie, symmetric around its center).</p>\n",
    "\n",
    "<p>For example, this binary tree <code>[1,2,2,3,4,4,3]</code> is symmetric:</p>\n",
    "\n",
    "<pre>    1\n",
    "   / \\\n",
    "  2   2\n",
    " / \\ / \\\n",
    "3  4 4  3\n",
    "</pre>\n",
    "\n",
    "<p>&nbsp;</p>\n",
    "\n",
    "<p>But the following <code>[1,2,2,null,3,null,3]</code> is not:</p>\n",
    "\n",
    "<pre>    1\n",
    "   / \\\n",
    "  2   2\n",
    "   \\   \\\n",
    "   3    3\n",
    "</pre>\n",
    "<!--Copy Paste Leetcode statement between-->\n",
    "\n",
    "<p>&nbsp;</p>\n",
    "<a href=\"https://leetcode.com/problems/symmetric-tree/\">Source</a> \n",
    "<hr>"
   ]
  },
  {
   "cell_type": "code",
   "execution_count": 1,
   "metadata": {},
   "outputs": [],
   "source": [
    "# Definition for a binary tree node.\n",
    "class TreeNode:\n",
    "    def __init__(self, val=0, left=None, right=None):\n",
    "        self.val = val\n",
    "        self.left = left\n",
    "        self.right = right"
   ]
  },
  {
   "cell_type": "markdown",
   "metadata": {},
   "source": [
    "<h4>Code</h4>"
   ]
  },
  {
   "cell_type": "code",
   "execution_count": 2,
   "metadata": {},
   "outputs": [],
   "source": [
    "def is_symmetric(root):\n",
    "    \"\"\"Simplest solution using recursion.\n",
    "    Tree is symetric if left subtree (p) is the mirror of RIGHT subtree (q)\n",
    "            i.e.    p.val = q.val\n",
    "            AND     p.left = q.right\n",
    "            AND     p.right = q.left\n",
    "    Time Complexity: O(n)\n",
    "    Space Complexity: O(n).\n",
    "    \"\"\"\n",
    "    def is_mirror(left, right):\n",
    "        if not left or not right:\n",
    "            return left == right\n",
    "        return (left.val == right.val\n",
    "                and is_mirror(left.left, right.right)\n",
    "                and is_mirror(left.right, right.left))\n",
    "\n",
    "    return is_mirror(root, root)"
   ]
  },
  {
   "cell_type": "markdown",
   "metadata": {},
   "source": [
    "<hr>\n",
    "<h4>Follow up:</h4>\n",
    "<p>Solve it both recursively and iteratively.</p>\n",
    "\n",
    "<h4>Code</h4>"
   ]
  },
  {
   "cell_type": "code",
   "execution_count": 3,
   "metadata": {},
   "outputs": [],
   "source": [
    "def is_symmetric(root):\n",
    "    \"\"\"Iterative approach.\n",
    "    Time Complexity: O(n)\n",
    "    Space Complexity: O(n)\n",
    "    \"\"\"\n",
    "    if not root:\n",
    "        return True\n",
    "    stack = [(root.left, root.right)]\n",
    "    while stack:\n",
    "        left, right = stack.pop()\n",
    "        if left is None and right is None:\n",
    "            continue\n",
    "        if left is None or right is None:\n",
    "            return False\n",
    "        if left.val != right.val:\n",
    "            return False\n",
    "        stack.append((left.left, right.right))\n",
    "        stack.append((left.right, right.left))\n",
    "    return True"
   ]
  }
 ],
 "metadata": {
  "kernelspec": {
   "display_name": "Python 3",
   "language": "python",
   "name": "python3"
  },
  "language_info": {
   "codemirror_mode": {
    "name": "ipython",
    "version": 3
   },
   "file_extension": ".py",
   "mimetype": "text/x-python",
   "name": "python",
   "nbconvert_exporter": "python",
   "pygments_lexer": "ipython3",
   "version": "3.8.2"
  }
 },
 "nbformat": 4,
 "nbformat_minor": 1
}
