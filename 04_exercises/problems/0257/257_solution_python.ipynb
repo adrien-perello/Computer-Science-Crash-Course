{
 "cells": [
  {
   "cell_type": "markdown",
   "metadata": {},
   "source": [
    "<h1>257. Binary Tree Paths</h1>\n",
    "<hr>\n",
    "\n",
    "<!--Copy Paste Leetcode statement between-->\n",
    "<p>Given a binary tree, return all root-to-leaf paths.</p>\n",
    "\n",
    "<p><strong>Note:</strong>&nbsp;A leaf is a node with no children.</p>\n",
    "\n",
    "<p><strong>Example:</strong></p>\n",
    "\n",
    "<pre><strong>Input:</strong>\n",
    "\n",
    "   1\n",
    " /   \\\n",
    "2     3\n",
    " \\\n",
    "  5\n",
    "\n",
    "<strong>Output:</strong> [\"1-&gt;2-&gt;5\", \"1-&gt;3\"]\n",
    "\n",
    "<strong>Explanation:</strong> All root-to-leaf paths are: 1-&gt;2-&gt;5, 1-&gt;3\n",
    "</pre>\n",
    "<!--Copy Paste Leetcode statement between-->\n",
    "\n",
    "<p>&nbsp;</p>\n",
    "<a href=\"https://leetcode.com/problems/binary-tree-paths/\">Source</a> \n",
    "<hr>"
   ]
  },
  {
   "cell_type": "code",
   "execution_count": 1,
   "metadata": {},
   "outputs": [],
   "source": [
    "# Definition for a binary tree node.\n",
    "class TreeNode:\n",
    "    def __init__(self, val=0, left=None, right=None):\n",
    "        self.val = val\n",
    "        self.left = left\n",
    "        self.right = right"
   ]
  },
  {
   "cell_type": "markdown",
   "metadata": {},
   "source": [
    "<h4>Code</h4>"
   ]
  },
  {
   "cell_type": "code",
   "execution_count": 2,
   "metadata": {},
   "outputs": [],
   "source": [
    "def binary_tree_paths(root):\n",
    "    \"\"\"recursive solution using DFS (preorder traversal)\"\"\"\n",
    "    def dfs(node, path):\n",
    "        nonlocal result\n",
    "\n",
    "        if not node:\n",
    "            return\n",
    "\n",
    "        tmp_path = path + [node.val]\n",
    "        if not node.left and not node.right:\n",
    "            result += tmp_path,  # here as opposed to above to avoide\n",
    "            return           # duplicate paths (+ wrong when only 1 child)\n",
    "        dfs(node.left, tmp_path)\n",
    "        dfs(node.right, tmp_path)\n",
    "\n",
    "    result = []\n",
    "    dfs(root, [])\n",
    "    result = [\"->\".join(map(str, path)) for path in result]\n",
    "    return result"
   ]
  },
  {
   "cell_type": "code",
   "execution_count": 3,
   "metadata": {},
   "outputs": [],
   "source": [
    "def binary_tree_paths(root):\n",
    "    \"\"\"alternative version of above solution\"\"\"\n",
    "    def dfs(node, path):\n",
    "        nonlocal result\n",
    "\n",
    "        if not node.left and not node.right:\n",
    "            result += path,\n",
    "            return\n",
    "        if node.left:\n",
    "            dfs(node.left, path + \"->\" + str(node.left.val))\n",
    "        if node.right:\n",
    "            dfs(node.right, path + \"->\" + str(node.right.val))\n",
    "\n",
    "    if not root:\n",
    "        return []\n",
    "\n",
    "    result = []\n",
    "    dfs(root, str(root.val))\n",
    "    return result"
   ]
  },
  {
   "cell_type": "markdown",
   "metadata": {},
   "source": [
    "<hr>\n",
    "<h4>Follow up:</h4>\n",
    "<p>Solve it both recursively and iteratively.</p>\n",
    "\n",
    "<h4>Code</h4>"
   ]
  },
  {
   "cell_type": "code",
   "execution_count": 4,
   "metadata": {},
   "outputs": [],
   "source": [
    "def binary_tree_paths(root):\n",
    "    \"\"\"iterative solution using DFS (preorder traversal)\"\"\"\n",
    "    if not root:\n",
    "        return []\n",
    "\n",
    "    stack = [(root, [])]\n",
    "    result = []\n",
    "\n",
    "    while stack:\n",
    "        node, path = stack.pop()\n",
    "        if not node:\n",
    "            continue\n",
    "\n",
    "        tmp_path = path + [node.val]\n",
    "        if not node.left and not node.right:\n",
    "            result += tmp_path,\n",
    "\n",
    "        stack += (node.right, tmp_path), (node.left, tmp_path),\n",
    "\n",
    "    result = [\"->\".join(map(str, path)) for path in result]\n",
    "    return result"
   ]
  },
  {
   "cell_type": "code",
   "execution_count": 5,
   "metadata": {},
   "outputs": [],
   "source": [
    "def binary_tree_paths(root):\n",
    "    \"\"\"alternative version of above solution\"\"\"\n",
    "    if not root:\n",
    "        return []\n",
    "\n",
    "    stack = [(root, str(root.val))]\n",
    "    result = []\n",
    "\n",
    "    while stack:\n",
    "        node, path = stack.pop()\n",
    "        if not node.left and not node.right:\n",
    "            result += path,\n",
    "        if node.right:\n",
    "            stack += (node.right, path + \"->\" + str(node.right.val)),\n",
    "        if node.left:\n",
    "            stack += (node.left, path + \"->\" + str(node.left.val)),\n",
    "\n",
    "    return result"
   ]
  },
  {
   "cell_type": "code",
   "execution_count": 6,
   "metadata": {},
   "outputs": [],
   "source": [
    "def binary_tree_paths(root):\n",
    "    \"\"\"iterative solution using BFS (level traversal)\"\"\"\n",
    "    if not root:\n",
    "        return []\n",
    "\n",
    "    queue = [(root, str(root.val))]\n",
    "    result = []\n",
    "    \n",
    "    for node, path in queue:\n",
    "        if not node.left and not node.right:\n",
    "            result += path,\n",
    "        if node.left:\n",
    "            queue += (node.left, path + \"->\" + str(node.left.val)),\n",
    "        if node.right:\n",
    "            queue += (node.right, path + \"->\" + str(node.right.val)),\n",
    "\n",
    "    return(result)"
   ]
  }
 ],
 "metadata": {
  "kernelspec": {
   "display_name": "Python 3",
   "language": "python",
   "name": "python3"
  },
  "language_info": {
   "codemirror_mode": {
    "name": "ipython",
    "version": 3
   },
   "file_extension": ".py",
   "mimetype": "text/x-python",
   "name": "python",
   "nbconvert_exporter": "python",
   "pygments_lexer": "ipython3",
   "version": "3.8.2"
  }
 },
 "nbformat": 4,
 "nbformat_minor": 1
}
