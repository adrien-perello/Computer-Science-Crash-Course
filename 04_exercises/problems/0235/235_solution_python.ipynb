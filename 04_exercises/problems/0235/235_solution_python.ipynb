{
 "cells": [
  {
   "cell_type": "markdown",
   "metadata": {},
   "source": [
    "<h1>235. Lowest Common Ancestor of a Binary Search Tree</h1>\n",
    "<hr>\n",
    "\n",
    "<!--Copy Paste Leetcode statement between-->\n",
    "<p>Given a binary search tree (BST), find the lowest common ancestor (LCA) of two given nodes in the BST.</p>\n",
    "<p>According to the <a href=\"https://en.wikipedia.org/wiki/Lowest_common_ancestor\" target=\"_blank\">definition of LCA on Wikipedia</a>: “The lowest common ancestor is defined between two nodes p and q&nbsp;as the lowest node in T that has both p and q&nbsp;as descendants (where we allow <b>a node to be a descendant of itself</b>).”</p>\n",
    "\n",
    "<p>&nbsp;</p>\n",
    "<p><strong>Example 1:</strong></p>\n",
    "<img alt=\"\" src=\"./img1.png\" style=\"width: 200px; height: 190px;\">\n",
    "<pre><strong>Input:</strong> root = [6,2,8,0,4,7,9,null,null,3,5], p = 2, q = 8\n",
    "<strong>Output:</strong> 6\n",
    "<strong>Explanation:</strong> The LCA of nodes 2 and 8 is 6.\n",
    "</pre>\n",
    "<p>&nbsp;</p>\n",
    "<p><strong>Example 2:</strong></p>\n",
    "<img alt=\"\" src=\"./img1.png\" style=\"width: 200px; height: 190px;\">\n",
    "<pre><strong>Input:</strong> root = [6,2,8,0,4,7,9,null,null,3,5], p = 2, q = 4\n",
    "<strong>Output:</strong> 2\n",
    "<strong>Explanation:</strong> The LCA of nodes 2 and 4 is 2, since a node can be a descendant of itself according to the LCA definition.\n",
    "</pre>\n",
    "<p>&nbsp;</p>\n",
    "<p><strong>Example 3:</strong></p>\n",
    "<pre><strong>Input:</strong> root = [2,1], p = 2, q = 1\n",
    "<strong>Output:</strong> 2\n",
    "</pre>\n",
    "\n",
    "<p>&nbsp;</p>\n",
    "<p><strong>Constraints:</strong></p>\n",
    "\n",
    "<ul>\n",
    "\t<li>The number of nodes in the tree is in the range <code>[2, 10<sup>5</sup>]</code>.</li>\n",
    "\t<li><code>-10<sup>9</sup> &lt;= Node.val &lt;= 10<sup>9</sup></code></li>\n",
    "\t<li>All <code>Node.val</code> are <strong>unique</strong>.</li>\n",
    "\t<li><code>p != q</code></li>\n",
    "\t<li><code>p</code> and <code>q</code> will&nbsp;exist in the BST.</li>\n",
    "</ul>\n",
    "<!--Copy Paste Leetcode statement between-->\n",
    "\n",
    "<p>&nbsp;</p>\n",
    "<a href=\"https://leetcode.com/problems/lowest-common-ancestor-of-a-binary-search-tree/\">Source</a> \n",
    "<hr>\n",
    "\n",
    "<h4>Code</h4>"
   ]
  },
  {
   "cell_type": "code",
   "execution_count": 1,
   "metadata": {},
   "outputs": [],
   "source": [
    "def lowest_common_ancestor(root, p, q):\n",
    "    \"\"\"Build path for each value (using stacks) and compare them.\"\"\"\n",
    "    def path(root, target):\n",
    "        stack = [root]\n",
    "        curr = root\n",
    "        while curr and curr != target:\n",
    "            curr = curr.right if curr.val < target.val else curr.left\n",
    "            stack.append(curr)\n",
    "        return stack\n",
    "\n",
    "    if not root:\n",
    "        return None\n",
    "    path_p = path(root, p)\n",
    "    path_q = path(root, q)\n",
    "    i = 0\n",
    "    while i < min(len(path_p), len(path_q)) and path_p[i] == path_q[i]:  # mind the order\n",
    "        i += 1\n",
    "    return path_p[i-1]"
   ]
  },
  {
   "cell_type": "code",
   "execution_count": 2,
   "metadata": {},
   "outputs": [],
   "source": [
    "def lowest_common_ancestor(root, p, q):\n",
    "    \"\"\"Recursive approach.\"\"\"\n",
    "    if p.val <= root.val <= q.val or p.val >= root.val >= q.val:\n",
    "        return root\n",
    "    if p.val < root.val and q.val < root.val:\n",
    "        return lowest_common_ancestor(root.left, p, q)\n",
    "    else:\n",
    "        return lowest_common_ancestor(root.right, p, q)"
   ]
  },
  {
   "cell_type": "markdown",
   "metadata": {},
   "source": [
    "<hr>\n",
    "<h4>Follow up:</h4>\n",
    "<p>Solve it both recursively and iteratively.</p>\n",
    "\n",
    "<h4>Code</h4>"
   ]
  },
  {
   "cell_type": "code",
   "execution_count": 8,
   "metadata": {},
   "outputs": [],
   "source": [
    "def lowest_common_ancestor(root, p, q):\n",
    "    \"\"\"Iterative approach.\"\"\"\n",
    "    while True:\n",
    "        if p.val <= root.val <= q.val or p.val >= root.val >= q.val:\n",
    "            return root\n",
    "        if p.val < root.val and q.val < root.val:\n",
    "            root = root.left\n",
    "        else:\n",
    "            root = root.right"
   ]
  }
 ],
 "metadata": {
  "kernelspec": {
   "display_name": "Python 3",
   "language": "python",
   "name": "python3"
  },
  "language_info": {
   "codemirror_mode": {
    "name": "ipython",
    "version": 3
   },
   "file_extension": ".py",
   "mimetype": "text/x-python",
   "name": "python",
   "nbconvert_exporter": "python",
   "pygments_lexer": "ipython3",
   "version": "3.8.2"
  }
 },
 "nbformat": 4,
 "nbformat_minor": 1
}
