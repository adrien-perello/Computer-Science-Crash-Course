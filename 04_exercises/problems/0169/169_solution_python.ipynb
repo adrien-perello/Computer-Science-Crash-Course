{
 "cells": [
  {
   "cell_type": "markdown",
   "metadata": {},
   "source": [
    "<h1>169. Majority Element</h1>\n",
    "<hr>\n",
    "\n",
    "<!--Copy Paste Leetcode statement between-->\n",
    "<p>Given an array <code>nums</code> of size <code>n</code>, return <em>the majority element</em>.</p>\n",
    "\n",
    "<p>The majority element is the element that appears more than <code>⌊n / 2⌋</code> times. You may assume that the majority element always exists in the array.</p>\n",
    "\n",
    "<p>&nbsp;</p>\n",
    "<p><strong>Example 1:</strong></p>\n",
    "<pre><strong>Input:</strong> nums = [3,2,3]\n",
    "<strong>Output:</strong> 3\n",
    "</pre><p><strong>Example 2:</strong></p>\n",
    "<pre><strong>Input:</strong> nums = [2,2,1,1,1,2,2]\n",
    "<strong>Output:</strong> 2\n",
    "</pre>\n",
    "<p>&nbsp;</p>\n",
    "<p><strong>Constraints:</strong></p>\n",
    "\n",
    "<ul>\n",
    "\t<li><code>n == nums.length</code></li>\n",
    "\t<li><code>1 &lt;= n &lt;= 5 * 10<sup>4</sup></code></li>\n",
    "\t<li><code>-2<sup>31</sup> &lt;= nums[i] &lt;= 2<sup>31</sup> - 1</code></li>\n",
    "</ul>\n",
    "<!--Copy Paste Leetcode statement between-->\n",
    "\n",
    "<p>&nbsp;</p>\n",
    "<a href=\"https://leetcode.com/problems/majority-element/\">Source</a> \n",
    "<hr>\n",
    "\n",
    "<h4>Code</h4>"
   ]
  },
  {
   "cell_type": "code",
   "execution_count": 1,
   "metadata": {},
   "outputs": [],
   "source": [
    "from collections import defaultdict \n",
    "\n",
    "def majority_element(nums):\n",
    "    '''Using a Hash Table\n",
    "    Time Complexity O(n)\n",
    "    Space Complexity O(n)\n",
    "    '''\n",
    "    if not nums:\n",
    "        return None\n",
    "\n",
    "    majority = len(nums)//2\n",
    "    frequency = defaultdict(lambda: 0)  # by default, buff_dict[x] = 0\n",
    "    for element in nums:\n",
    "        frequency[element] += 1\n",
    "        if frequency[element] > majority:\n",
    "            return element"
   ]
  },
  {
   "cell_type": "code",
   "execution_count": 2,
   "metadata": {},
   "outputs": [],
   "source": [
    "from collections import Counter \n",
    "\n",
    "def majority_element(nums):\n",
    "    '''small variation of above using Counter\n",
    "    Time Complexity O(n)\n",
    "    Space Complexity O(n)\n",
    "    '''\n",
    "    if not nums:\n",
    "        return None\n",
    "\n",
    "    frequency = Counter(nums)\n",
    "    element = 0\n",
    "    max_freq = 0\n",
    "    for key, freq in frequency.items():\n",
    "        if freq > max_freq:\n",
    "            max_freq = freq\n",
    "            element = key\n",
    "    return element"
   ]
  },
  {
   "cell_type": "markdown",
   "metadata": {},
   "source": [
    "<h4>Check</h4>"
   ]
  },
  {
   "cell_type": "code",
   "execution_count": 3,
   "metadata": {},
   "outputs": [
    {
     "data": {
      "text/plain": [
       "3"
      ]
     },
     "execution_count": 3,
     "metadata": {},
     "output_type": "execute_result"
    }
   ],
   "source": [
    "nums = [3,2,3]\n",
    "majority_element(nums)"
   ]
  },
  {
   "cell_type": "code",
   "execution_count": 4,
   "metadata": {},
   "outputs": [
    {
     "data": {
      "text/plain": [
       "2"
      ]
     },
     "execution_count": 4,
     "metadata": {},
     "output_type": "execute_result"
    }
   ],
   "source": [
    "nums = [2,2,1,1,1,2,2]\n",
    "majority_element(nums)"
   ]
  },
  {
   "cell_type": "code",
   "execution_count": 5,
   "metadata": {},
   "outputs": [
    {
     "data": {
      "text/plain": [
       "1"
      ]
     },
     "execution_count": 5,
     "metadata": {},
     "output_type": "execute_result"
    }
   ],
   "source": [
    "nums = [1]\n",
    "majority_element(nums)"
   ]
  },
  {
   "cell_type": "code",
   "execution_count": 6,
   "metadata": {},
   "outputs": [],
   "source": [
    "nums = []\n",
    "majority_element(nums)"
   ]
  },
  {
   "cell_type": "markdown",
   "metadata": {},
   "source": [
    "<hr>\n",
    "<h4>Follow up #1:</h4>\n",
    "<p>Could you solve the problem in linear time and in <code>O(1)</code> space?</p>\n",
    "\n",
    "<h4>Code</h4>"
   ]
  },
  {
   "cell_type": "code",
   "execution_count": 7,
   "metadata": {},
   "outputs": [],
   "source": [
    "def majority_element(nums):\n",
    "    '''Boyer-Moore Voting Algorithm\n",
    "    increment when we keep seeing candidate\n",
    "    if candidate is overwhelmed by other element, we decrement until reaching 0\n",
    "    when reaching 0, we switch candidate\n",
    "    \n",
    "    Time Complexity O(n)\n",
    "    Space Complexity O(1)\n",
    "    '''\n",
    "    if not nums:\n",
    "        return None\n",
    "\n",
    "    candidate = nums[0]\n",
    "    counter = 1\n",
    "    for n in nums[1:]:\n",
    "        if n == candidate:\n",
    "            counter += 1\n",
    "        else:\n",
    "            if counter > 0:\n",
    "                counter -= 1\n",
    "            else:\n",
    "                candidate = n\n",
    "                counter = 1\n",
    "    return candidate"
   ]
  },
  {
   "cell_type": "markdown",
   "metadata": {},
   "source": [
    "<hr>\n",
    "<h4>Follow up #2:</h4>\n",
    "<p>Could you solve the problem using sort</p>\n",
    "<h4>Code</h4>"
   ]
  },
  {
   "cell_type": "code",
   "execution_count": 8,
   "metadata": {},
   "outputs": [],
   "source": [
    "from collections import Counter \n",
    "\n",
    "def majority_element(nums):\n",
    "    '''Using count & sort\n",
    "    Time Complexity O(nlogn)\n",
    "    Space Complexity O(n)\n",
    "    '''\n",
    "    if not nums:\n",
    "        return None\n",
    "\n",
    "    frequency = Counter(nums)\n",
    "    sort = sorted(frequency.items(), key=lambda x:x[1])  # sort by values\n",
    "    return sort[-1][0]"
   ]
  },
  {
   "cell_type": "code",
   "execution_count": 9,
   "metadata": {},
   "outputs": [],
   "source": [
    "def majority_element(nums):\n",
    "    '''Using sort alone.\n",
    "    Note: since the majority element always exists, we are sure to find it at index = n//2\n",
    "    Time Complexity O(nlogn)\n",
    "    Space Complexity O(1) or O(n)\n",
    "    '''\n",
    "    if not nums:\n",
    "        return None\n",
    "    \n",
    "    # Option 1: O(n) space complexity\n",
    "    return sorted(nums)[len(nums)//2]\n",
    "\n",
    "    # Option 2: O(1) space complexity\n",
    "    nums.sort()\n",
    "    return nums[len(nums)//2]"
   ]
  },
  {
   "cell_type": "markdown",
   "metadata": {},
   "source": [
    "<h4>Check</h4>"
   ]
  },
  {
   "cell_type": "code",
   "execution_count": 10,
   "metadata": {},
   "outputs": [
    {
     "data": {
      "text/plain": [
       "3"
      ]
     },
     "execution_count": 10,
     "metadata": {},
     "output_type": "execute_result"
    }
   ],
   "source": [
    "nums = [3,2,3]\n",
    "majority_element(nums)"
   ]
  },
  {
   "cell_type": "code",
   "execution_count": 11,
   "metadata": {},
   "outputs": [
    {
     "data": {
      "text/plain": [
       "2"
      ]
     },
     "execution_count": 11,
     "metadata": {},
     "output_type": "execute_result"
    }
   ],
   "source": [
    "nums = [2,2,1,1,1,2,2]\n",
    "majority_element(nums)"
   ]
  },
  {
   "cell_type": "code",
   "execution_count": 12,
   "metadata": {},
   "outputs": [
    {
     "data": {
      "text/plain": [
       "1"
      ]
     },
     "execution_count": 12,
     "metadata": {},
     "output_type": "execute_result"
    }
   ],
   "source": [
    "nums = [1]\n",
    "majority_element(nums)"
   ]
  },
  {
   "cell_type": "code",
   "execution_count": 13,
   "metadata": {},
   "outputs": [],
   "source": [
    "nums = []\n",
    "majority_element(nums)"
   ]
  }
 ],
 "metadata": {
  "kernelspec": {
   "display_name": "Python 3",
   "language": "python",
   "name": "python3"
  },
  "language_info": {
   "codemirror_mode": {
    "name": "ipython",
    "version": 3
   },
   "file_extension": ".py",
   "mimetype": "text/x-python",
   "name": "python",
   "nbconvert_exporter": "python",
   "pygments_lexer": "ipython3",
   "version": "3.8.2"
  }
 },
 "nbformat": 4,
 "nbformat_minor": 1
}
