{
 "cells": [
  {
   "cell_type": "markdown",
   "metadata": {},
   "source": [
    "<h1>589. N-ary Tree Preorder Traversal</h1>\n",
    "<hr>\n",
    "\n",
    "<!--Copy Paste Leetcode statement between-->\n",
    "<p>Given an n-ary tree, return the <i>preorder</i> traversal of its nodes' values.</p>\n",
    "\n",
    "<p><em>Nary-Tree input serialization&nbsp;is represented in their level order traversal, each group of children is separated by the null value (See examples).</em></p>\n",
    "\n",
    "<p>&nbsp;</p>\n",
    "\n",
    "<p><strong>Follow up:</strong></p>\n",
    "\n",
    "<p>Recursive solution is trivial, could you do it iteratively?</p>\n",
    "\n",
    "<p>&nbsp;</p>\n",
    "<p><strong>Example 1:</strong></p>\n",
    "\n",
    "<p><img src=\"./img1.png\" style=\"width: 100%; max-width: 300px;\"></p>\n",
    "\n",
    "<pre><strong>Input:</strong> root = [1,null,3,2,4,null,5,6]\n",
    "<strong>Output:</strong> [1,3,5,6,2,4]\n",
    "</pre>\n",
    "<p>&nbsp;</p>\n",
    "<p><strong>Example 2:</strong></p>\n",
    "\n",
    "<p><img alt=\"\" src=\"./img2.png\" style=\"width: 296px; height: 241px;\"></p>\n",
    "\n",
    "<pre><strong>Input:</strong> root = [1,null,2,3,4,5,null,null,6,7,null,8,null,9,10,null,null,11,null,12,null,13,null,null,14]\n",
    "<strong>Output:</strong> [1,2,3,6,7,11,14,4,8,12,5,9,13,10]\n",
    "</pre>\n",
    "\n",
    "<p>&nbsp;</p>\n",
    "<p><strong>Constraints:</strong></p>\n",
    "\n",
    "<ul>\n",
    "\t<li>The height of the n-ary tree is less than or equal to <code>1000</code></li>\n",
    "\t<li>The total number of nodes is between <code>[0,&nbsp;10^4]</code></li>\n",
    "</ul>\n",
    "<!--Copy Paste Leetcode statement between-->\n",
    "\n",
    "<p>&nbsp;</p>\n",
    "<a href=\"https://leetcode.com/problems/n-ary-tree-preorder-traversal/\">Source</a> \n",
    "<hr>"
   ]
  },
  {
   "cell_type": "code",
   "execution_count": 3,
   "metadata": {},
   "outputs": [],
   "source": [
    "# Definition for a Node.\n",
    "class Node:\n",
    "    def __init__(self, val=None, children=None):\n",
    "        self.val = val\n",
    "        self.children = children  # children = list"
   ]
  },
  {
   "cell_type": "markdown",
   "metadata": {},
   "source": [
    "<h4>Code</h4>"
   ]
  },
  {
   "cell_type": "code",
   "execution_count": 4,
   "metadata": {},
   "outputs": [],
   "source": [
    "def preorder(root):\n",
    "    \"\"\"DFS using recursion.\"\"\"\n",
    "    if not root:\n",
    "        return []\n",
    "    traversal = [root.val]  # would come last in postorder\n",
    "    for child in root.children:\n",
    "        traversal.extend(preorder(child))\n",
    "    # !! traversal.extend(preorder(child) for child in root.children) does NOT work\n",
    "    # leads to --> traversal = [w, [x, [y, [z]]]]\n",
    "    return traversal"
   ]
  },
  {
   "cell_type": "code",
   "execution_count": 1,
   "metadata": {},
   "outputs": [],
   "source": [
    "def preorder(root):\n",
    "    \"\"\"alternative version of above solution.\"\"\"\n",
    "    def helper(node):\n",
    "        if node is None:\n",
    "            return None\n",
    "        nonlocal result\n",
    "        traversal.append(node.val)  # would come last in postorder\n",
    "        for child in node.children:\n",
    "            helper(child)\n",
    "\n",
    "    traversal = []\n",
    "    helper(root)\n",
    "    return traversal"
   ]
  },
  {
   "cell_type": "markdown",
   "metadata": {},
   "source": [
    "<hr>\n",
    "<h4>Follow up:</h4>\n",
    "<p>Solve it both recursively and iteratively.</p>\n",
    "\n",
    "<h4>Code</h4>"
   ]
  },
  {
   "cell_type": "code",
   "execution_count": null,
   "metadata": {},
   "outputs": [],
   "source": [
    "def preorder(root):\n",
    "    \"\"\"DFS using an iterative approach with a stack.\"\"\"\n",
    "    if not root:\n",
    "        return []\n",
    "    stack = [root]\n",
    "    traversal = []\n",
    "    while stack:\n",
    "        node = stack.pop()\n",
    "        traversal.append(node.val)\n",
    "        stack += reversed(node.children)  # reversed() to ensure left subtree is processed first\n",
    "        # stack.append(reversed(node.children)) doesnt work because reversed() is an iterator\n",
    "        # Instead, we can do:\n",
    "        #     stack.extend(reversed(node.children))\n",
    "        # OR\n",
    "        #     for child in reversed(node.children):\n",
    "        #         stack.append(child)\n",
    "    return traversal"
   ]
  }
 ],
 "metadata": {
  "kernelspec": {
   "display_name": "Python 3",
   "language": "python",
   "name": "python3"
  },
  "language_info": {
   "codemirror_mode": {
    "name": "ipython",
    "version": 3
   },
   "file_extension": ".py",
   "mimetype": "text/x-python",
   "name": "python",
   "nbconvert_exporter": "python",
   "pygments_lexer": "ipython3",
   "version": "3.8.2"
  }
 },
 "nbformat": 4,
 "nbformat_minor": 1
}
