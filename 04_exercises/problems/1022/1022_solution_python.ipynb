{
 "cells": [
  {
   "cell_type": "markdown",
   "metadata": {},
   "source": [
    "<h1>1022. Sum of Root To Leaf Binary Numbers</h1>\n",
    "<hr>\n",
    "\n",
    "<!--Copy Paste Leetcode statement between-->\n",
    "<p>You are given the <code>root</code> of a binary tree where each node has a value <code>0</code>&nbsp;or <code>1</code>.&nbsp; Each root-to-leaf path represents a binary number starting with the most significant bit.&nbsp; For example, if the path is <code>0 -&gt; 1 -&gt; 1 -&gt; 0 -&gt; 1</code>, then this could represent <code>01101</code> in binary, which is <code>13</code>.</p>\n",
    "\n",
    "<p>For all leaves in the tree, consider the numbers represented by the path&nbsp;from the root to that leaf.</p>\n",
    "\n",
    "<p>Return <em>the sum of these numbers</em>. The answer is <strong>guaranteed</strong> to fit in a <strong>32-bits</strong> integer.</p>\n",
    "\n",
    "<p>&nbsp;</p>\n",
    "<p><strong>Example 1:</strong></p>\n",
    "<img alt=\"\" src=\"./img1.png\" style=\"width: 450px; height: 296px;\">\n",
    "<pre><strong>Input:</strong> root = [1,0,1,0,1,0,1]\n",
    "<strong>Output:</strong> 22\n",
    "<strong>Explanation: </strong>(100) + (101) + (110) + (111) = 4 + 5 + 6 + 7 = 22\n",
    "</pre>\n",
    "\n",
    "<p><strong>Example 2:</strong></p>\n",
    "\n",
    "<pre><strong>Input:</strong> root = [0]\n",
    "<strong>Output:</strong> 0\n",
    "</pre>\n",
    "\n",
    "<p><strong>Example 3:</strong></p>\n",
    "\n",
    "<pre><strong>Input:</strong> root = [1]\n",
    "<strong>Output:</strong> 1\n",
    "</pre>\n",
    "\n",
    "<p><strong>Example 4:</strong></p>\n",
    "\n",
    "<pre><strong>Input:</strong> root = [1,1]\n",
    "<strong>Output:</strong> 3\n",
    "</pre>\n",
    "\n",
    "<p>&nbsp;</p>\n",
    "<p><strong>Constraints:</strong></p>\n",
    "\n",
    "<ul>\n",
    "\t<li>The number of nodes in the tree is in the range <code>[1, 1000]</code>.</li>\n",
    "\t<li><code>Node.val</code> is <code>0</code> or <code>1</code>.</li>\n",
    "</ul>\n",
    "<!--Copy Paste Leetcode statement between-->\n",
    "\n",
    "<p>&nbsp;</p>\n",
    "<a href=\"https://leetcode.com/problems/sum-of-root-to-leaf-binary-numbers/\">Source</a> \n",
    "<hr>"
   ]
  },
  {
   "cell_type": "code",
   "execution_count": 1,
   "metadata": {},
   "outputs": [],
   "source": [
    "# Definition for a binary tree node.\n",
    "class TreeNode:\n",
    "    def __init__(self, val=0, left=None, right=None):\n",
    "        self.val = val\n",
    "        self.left = left\n",
    "        self.right = right"
   ]
  },
  {
   "cell_type": "markdown",
   "metadata": {},
   "source": [
    "<h4>Code</h4>"
   ]
  },
  {
   "cell_type": "code",
   "execution_count": null,
   "metadata": {},
   "outputs": [],
   "source": [
    "def sum_root_to_leaf(root):\n",
    "    \"\"\"DFS using recursive approach\"\"\"\n",
    "    def preorder(node, s):\n",
    "        # base case\n",
    "        if not node:\n",
    "            return\n",
    "\n",
    "        nonlocal result\n",
    "        s = 2*s + node.val\n",
    "        if not node.left and not node.right:  # if we did result += s if node = None\n",
    "            result += s                       # we would add s 2x (1x too much)\n",
    "            return                            # both for empty left & right\n",
    "        preorder(node.left, s)\n",
    "        preorder(node.right, s)\n",
    "\n",
    "    if not root:\n",
    "        return 0\n",
    "    result = 0\n",
    "    preorder(root, 0)\n",
    "    return result"
   ]
  },
  {
   "cell_type": "markdown",
   "metadata": {},
   "source": [
    "<hr>\n",
    "<h4>Follow up:</h4>\n",
    "<p>Solve it both recursively and iteratively.</p>\n",
    "\n",
    "<h4>Code</h4>"
   ]
  },
  {
   "cell_type": "code",
   "execution_count": 13,
   "metadata": {},
   "outputs": [],
   "source": [
    "def sum_root_to_leaf(root):\n",
    "    \"\"\"DFS using iterative approach\"\"\"\n",
    "    if not root:\n",
    "        return 0\n",
    "    stack = [(root, 0)]\n",
    "    result = 0\n",
    "    while stack:\n",
    "        (node, s) = stack.pop()\n",
    "        if not node:\n",
    "            continue\n",
    "        s = 2*s + node.val\n",
    "        if not node.left and not node.right:\n",
    "            result += s\n",
    "        else:\n",
    "            stack.append((node.right, s))\n",
    "            stack.append((node.left, s))\n",
    "    return result"
   ]
  },
  {
   "cell_type": "code",
   "execution_count": null,
   "metadata": {},
   "outputs": [],
   "source": [
    "def sum_root_to_leaf(root):\n",
    "    \"\"\"BFS using iterative approach\"\"\"\n",
    "    if not root:\n",
    "        return 0\n",
    "    queue = [(root, 0)]\n",
    "    result = 0\n",
    "    for node,s in queue:\n",
    "        if not node:\n",
    "            continue\n",
    "        s = 2*s + node.val\n",
    "        if not node.left and not node.right:\n",
    "            result += s\n",
    "        else:\n",
    "            stack.append((node.right, s))\n",
    "            stack.append((node.left, s))\n",
    "    return result"
   ]
  }
 ],
 "metadata": {
  "kernelspec": {
   "display_name": "Python 3",
   "language": "python",
   "name": "python3"
  },
  "language_info": {
   "codemirror_mode": {
    "name": "ipython",
    "version": 3
   },
   "file_extension": ".py",
   "mimetype": "text/x-python",
   "name": "python",
   "nbconvert_exporter": "python",
   "pygments_lexer": "ipython3",
   "version": "3.8.2"
  }
 },
 "nbformat": 4,
 "nbformat_minor": 1
}
