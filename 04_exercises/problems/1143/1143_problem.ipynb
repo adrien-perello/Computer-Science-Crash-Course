{
 "cells": [
  {
   "cell_type": "markdown",
   "metadata": {},
   "source": [
    "<h1>1143. Longest Common Subsequence</h1>\n",
    "<hr>\n",
    "\n",
    "<!--Copy Paste Leetcode statement between-->\n",
    "<p>Given two strings <code>text1</code> and <code>text2</code>, return the length of their longest common subsequence.</p>\n",
    "\n",
    "<p>A <em>subsequence</em> of a string is a new string generated from the original string with some characters(can be none) deleted without changing the relative order of the remaining characters. (eg, \"ace\" is a subsequence of \"abcde\" while \"aec\" is not).&nbsp;A <em>common subsequence</em>&nbsp;of two strings is a subsequence that is common to both strings.</p>\n",
    "\n",
    "<p>&nbsp;</p>\n",
    "\n",
    "<p>If there is no common subsequence, return 0.</p>\n",
    "\n",
    "<p>&nbsp;</p>\n",
    "<p><strong>Example 1:</strong></p>\n",
    "\n",
    "<pre><strong>Input:</strong> text1 = \"abcde\", text2 = \"ace\" \n",
    "<strong>Output:</strong> 3  \n",
    "<strong>Explanation:</strong> The longest common subsequence is \"ace\" and its length is 3.\n",
    "</pre>\n",
    "\n",
    "<p><strong>Example 2:</strong></p>\n",
    "\n",
    "<pre><strong>Input:</strong> text1 = \"abc\", text2 = \"abc\"\n",
    "<strong>Output:</strong> 3\n",
    "<strong>Explanation:</strong> The longest common subsequence is \"abc\" and its length is 3.\n",
    "</pre>\n",
    "\n",
    "<p><strong>Example 3:</strong></p>\n",
    "\n",
    "<pre><strong>Input:</strong> text1 = \"abc\", text2 = \"def\"\n",
    "<strong>Output:</strong> 0\n",
    "<strong>Explanation:</strong> There is no such common subsequence, so the result is 0.\n",
    "</pre>\n",
    "\n",
    "<p>&nbsp;</p>\n",
    "<p><strong>Constraints:</strong></p>\n",
    "\n",
    "<ul>\n",
    "\t<li><code>1 &lt;= text1.length &lt;= 1000</code></li>\n",
    "\t<li><code>1 &lt;= text2.length &lt;= 1000</code></li>\n",
    "\t<li>The input strings consist of lowercase English characters only.</li>\n",
    "</ul>\n",
    "<!--Copy Paste Leetcode statement between-->\n",
    "\n",
    "<p>&nbsp;</p>\n",
    "<a href=\"https://leetcode.com/problems/longest-common-subsequence/\">Source</a> \n",
    "<hr>"
   ]
  },
  {
   "cell_type": "markdown",
   "metadata": {},
   "source": [
    "<h4>Code</h4>"
   ]
  },
  {
   "cell_type": "code",
   "execution_count": 1,
   "metadata": {},
   "outputs": [],
   "source": [
    "def longest_common_subsequence(text1, text2):\n",
    "    pass"
   ]
  },
  {
   "cell_type": "markdown",
   "metadata": {},
   "source": [
    "<h4>Check</h4>"
   ]
  },
  {
   "cell_type": "code",
   "execution_count": 3,
   "metadata": {},
   "outputs": [
    {
     "data": {
      "text/plain": [
       "5"
      ]
     },
     "execution_count": 3,
     "metadata": {},
     "output_type": "execute_result"
    }
   ],
   "source": [
    "a, b = \"ylqpejqbalahwr\", \"yrkzavgdmadgwtqrpg\"\n",
    "longest_common_subsequence(a, b)"
   ]
  },
  {
   "cell_type": "code",
   "execution_count": 4,
   "metadata": {
    "scrolled": false
   },
   "outputs": [
    {
     "data": {
      "text/plain": [
       "5"
      ]
     },
     "execution_count": 4,
     "metadata": {},
     "output_type": "execute_result"
    }
   ],
   "source": [
    "a, b = \"hofubmnylkra\", \"pqhgxgdofcvmr\"\n",
    "longest_common_subsequence(a, b)"
   ]
  },
  {
   "cell_type": "code",
   "execution_count": 5,
   "metadata": {},
   "outputs": [
    {
     "data": {
      "text/plain": [
       "6"
      ]
     },
     "execution_count": 5,
     "metadata": {},
     "output_type": "execute_result"
    }
   ],
   "source": [
    "a, b = \"emptybottle\", \"nematodeknowledge\"\n",
    "longest_common_subsequence(a, b)"
   ]
  },
  {
   "cell_type": "code",
   "execution_count": 6,
   "metadata": {},
   "outputs": [
    {
     "data": {
      "text/plain": [
       "2"
      ]
     },
     "execution_count": 6,
     "metadata": {},
     "output_type": "execute_result"
    }
   ],
   "source": [
    "a, b = \"ZAPSNW\", \"VOZSH\"\n",
    "longest_common_subsequence(a, b)"
   ]
  },
  {
   "cell_type": "code",
   "execution_count": 7,
   "metadata": {},
   "outputs": [
    {
     "data": {
      "text/plain": [
       "5"
      ]
     },
     "execution_count": 7,
     "metadata": {},
     "output_type": "execute_result"
    }
   ],
   "source": [
    "a, b = \"HEAGAWGHEA\", \"PAWHEAE\"\n",
    "longest_common_subsequence(a, b)"
   ]
  },
  {
   "cell_type": "code",
   "execution_count": 8,
   "metadata": {
    "scrolled": false
   },
   "outputs": [
    {
     "data": {
      "text/plain": [
       "22"
      ]
     },
     "execution_count": 8,
     "metadata": {},
     "output_type": "execute_result"
    }
   ],
   "source": [
    "a, b = \"GCCCAGTTATGTCAGGGGGCACGAGCATGCAGA\", \"GCCGCCGTCGTTTTCAGCAGTTATGTCAGAT\"\n",
    "longest_common_subsequence(a, b)"
   ]
  },
  {
   "cell_type": "markdown",
   "metadata": {},
   "source": [
    "<hr>\n",
    "<h4>Follow up #1:</h4>\n",
    "<p>Solve it both recursively and iteratively.</p>\n",
    "\n",
    "<h4>Code</h4>"
   ]
  },
  {
   "cell_type": "code",
   "execution_count": 9,
   "metadata": {},
   "outputs": [],
   "source": [
    "def longest_common_subsequence(text1, text2):\n",
    "    pass"
   ]
  },
  {
   "cell_type": "markdown",
   "metadata": {},
   "source": [
    "<hr>\n",
    "<h4>Follow up #2:</h4>\n",
    "<p>Solve it with minimum memory space</p>\n",
    "\n",
    "<h4>Code</h4>"
   ]
  },
  {
   "cell_type": "code",
   "execution_count": 11,
   "metadata": {},
   "outputs": [],
   "source": [
    "def longest_common_subsequence(text1, text2):\n",
    "    pass"
   ]
  },
  {
   "cell_type": "markdown",
   "metadata": {},
   "source": [
    "<hr>\n",
    "<h4>Follow up #3:</h4>\n",
    "<p>Print the sequence itself instead of its length</p>\n",
    "\n",
    "<h4>Code</h4>"
   ]
  },
  {
   "cell_type": "code",
   "execution_count": 19,
   "metadata": {},
   "outputs": [],
   "source": [
    "def backtrack(A, B, M, reverse=False):\n",
    "    pass"
   ]
  },
  {
   "cell_type": "code",
   "execution_count": 31,
   "metadata": {},
   "outputs": [],
   "source": [
    "def longest_common_subsequence(text1, text2):\n",
    "    pass"
   ]
  },
  {
   "cell_type": "markdown",
   "metadata": {},
   "source": [
    "<h4>Check</h4>"
   ]
  },
  {
   "cell_type": "code",
   "execution_count": 32,
   "metadata": {},
   "outputs": [
    {
     "name": "stdout",
     "output_type": "stream",
     "text": [
      "   y  r  k  z  a  v  g  d  m  a  d  g  w  t  q  r  p  g\n",
      "y  1  1  1  1  1  1  1  1  1  1  1  1  1  1  1  1  1  1\n",
      "l  1  1  1  1  1  1  1  1  1  1  1  1  1  1  1  1  1  1\n",
      "q  1  1  1  1  1  1  1  1  1  1  1  1  1  1  2  2  2  2\n",
      "p  1  1  1  1  1  1  1  1  1  1  1  1  1  1  2  2  3  3\n",
      "e  1  1  1  1  1  1  1  1  1  1  1  1  1  1  2  2  3  3\n",
      "j  1  1  1  1  1  1  1  1  1  1  1  1  1  1  2  2  3  3\n",
      "q  1  1  1  1  1  1  1  1  1  1  1  1  1  1  2  2  3  3\n",
      "b  1  1  1  1  1  1  1  1  1  1  1  1  1  1  2  2  3  3\n",
      "a  1  1  1  1  2  2  2  2  2  2  2  2  2  2  2  2  3  3\n",
      "l  1  1  1  1  2  2  2  2  2  2  2  2  2  2  2  2  3  3\n",
      "a  1  1  1  1  2  2  2  2  2  3  3  3  3  3  3  3  3  3\n",
      "h  1  1  1  1  2  2  2  2  2  3  3  3  3  3  3  3  3  3\n",
      "w                                      4  4  4  4  4  4\n",
      "r                                               5  5  5\n"
     ]
    },
    {
     "data": {
      "text/plain": [
       "'yaawr'"
      ]
     },
     "execution_count": 32,
     "metadata": {},
     "output_type": "execute_result"
    }
   ],
   "source": [
    "a, b = \"ylqpejqbalahwr\", \"yrkzavgdmadgwtqrpg\"\n",
    "longest_common_subsequence(a, b)"
   ]
  },
  {
   "cell_type": "code",
   "execution_count": 33,
   "metadata": {
    "scrolled": false
   },
   "outputs": [
    {
     "name": "stdout",
     "output_type": "stream",
     "text": [
      "   p  q  h  g  x  g  d  o  f  c  v  m  r\n",
      "h  0  0  1  1  1  1  1  1  1  1  1      \n",
      "o  0  0  1  1  1  1  1  2  2  2  2      \n",
      "f  0  0  1  1  1  1  1  2  3  3  3      \n",
      "u  0  0  1  1  1  1  1  2  3  3  3      \n",
      "b  0  0  1  1  1  1  1  2  3  3  3      \n",
      "m  0  0  1  1  1  1  1  2  3  3  3  4   \n",
      "n  0  0  1  1  1  1  1  2  3  3  3  4   \n",
      "y  0  0  1  1  1  1  1  2  3  3  3  4   \n",
      "l  0  0  1  1  1  1  1  2  3  3  3  4   \n",
      "k  0  0  1  1  1  1  1  2  3  3  3  4   \n",
      "r  0  0  1  1  1  1  1  2  3  3  3  4  5\n",
      "a  0  0  1  1  1  1  1  2  3  3  3  4  5\n"
     ]
    },
    {
     "data": {
      "text/plain": [
       "'hofmr'"
      ]
     },
     "execution_count": 33,
     "metadata": {},
     "output_type": "execute_result"
    }
   ],
   "source": [
    "a, b = \"hofubmnylkra\", \"pqhgxgdofcvmr\"\n",
    "longest_common_subsequence(a, b)"
   ]
  },
  {
   "cell_type": "code",
   "execution_count": 34,
   "metadata": {},
   "outputs": [
    {
     "name": "stdout",
     "output_type": "stream",
     "text": [
      "   n  e  m  a  t  o  d  e  k  n  o  w  l  e  d  g  e\n",
      "e  0  1  1  1  1  1  1  1  1  1  1  1  1  1  1  1   \n",
      "m  0  1  2  2  2  2  2  2  2  2  2  2  2  2  2  2   \n",
      "p  0  1  2  2  2  2  2  2  2  2  2  2  2  2  2  2   \n",
      "t  0  1  2  2  3  3  3  3  3  3  3  3  3  3  3  3   \n",
      "y  0  1  2  2  3  3  3  3  3  3  3  3  3  3  3  3   \n",
      "b  0  1  2  2  3  3  3  3  3  3  3  3  3  3  3  3   \n",
      "o  0  1  2  2     4  4  4  4  4  4  4  4  4  4  4   \n",
      "t  0  1  2  2  3  4  4  4  4  4  4  4  4  4  4  4   \n",
      "t              3  4  4  4  4  4  4  4  4  4  4  4   \n",
      "l                                      5  5  5  5   \n",
      "e                                                  6\n"
     ]
    },
    {
     "data": {
      "text/plain": [
       "'emtole'"
      ]
     },
     "execution_count": 34,
     "metadata": {},
     "output_type": "execute_result"
    }
   ],
   "source": [
    "a, b = \"emptybottle\", \"nematodeknowledge\"\n",
    "longest_common_subsequence(a, b)"
   ]
  },
  {
   "cell_type": "code",
   "execution_count": 35,
   "metadata": {},
   "outputs": [
    {
     "name": "stdout",
     "output_type": "stream",
     "text": [
      "   V  O  Z  S  H\n",
      "Z  0  0  1  1  1\n",
      "A  0  0  1  1  1\n",
      "P  0  0  1  1  1\n",
      "S  0  0  1  2  2\n",
      "N  0  0  1  2  2\n",
      "W  0  0  1  2  2\n"
     ]
    },
    {
     "data": {
      "text/plain": [
       "'ZS'"
      ]
     },
     "execution_count": 35,
     "metadata": {},
     "output_type": "execute_result"
    }
   ],
   "source": [
    "a, b = \"ZAPSNW\", \"VOZSH\"\n",
    "longest_common_subsequence(a, b)"
   ]
  },
  {
   "cell_type": "code",
   "execution_count": 36,
   "metadata": {},
   "outputs": [
    {
     "name": "stdout",
     "output_type": "stream",
     "text": [
      "   P  A  W  H  E  A  E\n",
      "H  0  0  0  1         \n",
      "E  0  0  0  1  2      \n",
      "A  0  1  1  1  2      \n",
      "G  0  1  1  1  2      \n",
      "A  0  1  1  1  2  3   \n",
      "W  0  1  2  2  2  3   \n",
      "G  0  1  2  2  2  3   \n",
      "H           3  3  3   \n",
      "E              4     4\n",
      "A                 5  5\n"
     ]
    },
    {
     "data": {
      "text/plain": [
       "'AWHEA'"
      ]
     },
     "execution_count": 36,
     "metadata": {},
     "output_type": "execute_result"
    }
   ],
   "source": [
    "a, b = \"HEAGAWGHEA\", \"PAWHEAE\"\n",
    "longest_common_subsequence(a, b)"
   ]
  },
  {
   "cell_type": "code",
   "execution_count": 37,
   "metadata": {
    "scrolled": false
   },
   "outputs": [
    {
     "name": "stdout",
     "output_type": "stream",
     "text": [
      "   G  C  C  G  C  C  G  T  C  G  ...   T   A   T   G   T   C   A   G   A   T\n",
      "G  1  1     1  1     1  1     1  ...                                        \n",
      "C  1  2  2  2  2  2  2  2  2  2  ...                                        \n",
      "C  1  2  3  3  3  3  3  3  3  3  ...                                        \n",
      "C  1  2  3  3  4  4  4  4  4  4  ...                                        \n",
      "A  1  2  3  3  4  4  4  4  4  4  ...                                        \n",
      "G  1  2  3  4  4  4  5  5  5  5  ...                                        \n",
      "T  1  2  3  4  4  4  5  6  6  6  ...                                        \n",
      "T  1  2  3  4  4  4  5  6  6  6  ...   8                                    \n",
      "A  1  2  3  4  4  4  5  6  6  6  ...       9                                \n",
      "T  1  2  3  4  4  4     6  6     ...   9   9  10                            \n",
      "G  1  2  3  4  4  4  5  6  6  7  ...   9   9      11                        \n",
      "T  1  2  3  4  4  4  5  6  6  7  ...  10  10  10  11  12                    \n",
      "C  1  2  3  4  5  5  5  6  7  7  ...  10  10  10  11  12                    \n",
      "A  1  2  3  4  5  5  5  6  7  7  ...  11  11  11  11  12                    \n",
      "G  1  2  3  4  5  5  6  6  7  8  ...  12  12  12  12  12                    \n",
      "G  1  2  3  4  5  5  6  6  7  8  ...  13  13  13  13  13                    \n",
      "G  1  2  3  4  5  5  6  6  7  8  ...  13  13  13  14  14                    \n",
      "G  1  2  3  4  5  5  6  6  7  8  ...  13  13  13  14  14                    \n",
      "G  1  2     4  5     6  6     8  ...  13  13  13  14  14                    \n",
      "C  1  2  3  4  5  6  6  6  7  8  ...  13  13  13  14  14                    \n",
      "A  1  2  3  4  5  6  6  6  7  8  ...  14  14  14  14  14                    \n",
      "C                          7  8  ...  14  14  14  14  14  15                \n",
      "G                             8  ...  15  15  15  15  15  15                \n",
      "A                                ...  15  16  16  16  16  16  16            \n",
      "G                                ...  15  16  16  17  17  17  17  17        \n",
      "C                                ...  15  16  16  17  17  18  18  18        \n",
      "A                                ...      16  16  17  17  18  19  19  19    \n",
      "T                                ...          17      18  18  19  19  19  20\n",
      "G                                ...              18  18  18  19  20  20  20\n",
      "C                                ...                      19  19  20  20  20\n",
      "A                                ...                          20      21  21\n",
      "G                                ...                              21  21  21\n",
      "A                                ...                                  22  22\n",
      "\n",
      "[33 rows x 31 columns]\n"
     ]
    },
    {
     "data": {
      "text/plain": [
       "'GCCCGTTTTCAGCAGAGTCAGA'"
      ]
     },
     "execution_count": 37,
     "metadata": {},
     "output_type": "execute_result"
    }
   ],
   "source": [
    "a, b = \"GCCCAGTTATGTCAGGGGGCACGAGCATGCAGA\", \"GCCGCCGTCGTTTTCAGCAGTTATGTCAGAT\"\n",
    "longest_common_subsequence(a, b)"
   ]
  }
 ],
 "metadata": {
  "kernelspec": {
   "display_name": "Python 3",
   "language": "python",
   "name": "python3"
  },
  "language_info": {
   "codemirror_mode": {
    "name": "ipython",
    "version": 3
   },
   "file_extension": ".py",
   "mimetype": "text/x-python",
   "name": "python",
   "nbconvert_exporter": "python",
   "pygments_lexer": "ipython3",
   "version": "3.8.2"
  }
 },
 "nbformat": 4,
 "nbformat_minor": 1
}
