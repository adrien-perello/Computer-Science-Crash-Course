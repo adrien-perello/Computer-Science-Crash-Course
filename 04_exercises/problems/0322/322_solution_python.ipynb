{
 "cells": [
  {
   "cell_type": "markdown",
   "metadata": {},
   "source": [
    "<h1>322. Coin Change</h1>\n",
    "<hr>\n",
    "\n",
    "<!--Copy Paste Leetcode statement between-->\n",
    "<p>You are given coins of different denominations and a total amount of money <i>amount</i>. Write a function to compute the fewest number of coins that you need to make up that amount. If that amount of money cannot be made up by any combination of the coins, return <code>-1</code>.</p>\n",
    "\n",
    "<p>You may assume that you have an infinite number of each kind of coin.</p>\n",
    "\n",
    "<p>&nbsp;</p>\n",
    "<p><strong>Example 1:</strong></p>\n",
    "\n",
    "<pre><strong>Input:</strong> coins = [1,2,5], amount = 11\n",
    "<strong>Output:</strong> 3\n",
    "<strong>Explanation:</strong> 11 = 5 + 5 + 1\n",
    "</pre>\n",
    "\n",
    "<p><strong>Example 2:</strong></p>\n",
    "\n",
    "<pre><strong>Input:</strong> coins = [2], amount = 3\n",
    "<strong>Output:</strong> -1\n",
    "</pre>\n",
    "\n",
    "<p><strong>Example 3:</strong></p>\n",
    "\n",
    "<pre><strong>Input:</strong> coins = [1], amount = 0\n",
    "<strong>Output:</strong> 0\n",
    "</pre>\n",
    "\n",
    "<p><strong>Example 4:</strong></p>\n",
    "\n",
    "<pre><strong>Input:</strong> coins = [1], amount = 1\n",
    "<strong>Output:</strong> 1\n",
    "</pre>\n",
    "\n",
    "<p><strong>Example 5:</strong></p>\n",
    "\n",
    "<pre><strong>Input:</strong> coins = [1], amount = 2\n",
    "<strong>Output:</strong> 2\n",
    "</pre>\n",
    "\n",
    "<p>&nbsp;</p>\n",
    "<p><strong>Constraints:</strong></p>\n",
    "\n",
    "<ul>\n",
    "\t<li><code>1 &lt;= coins.length &lt;= 12</code></li>\n",
    "\t<li><code>1 &lt;= coins[i] &lt;= 2<sup>31</sup> - 1</code></li>\n",
    "\t<li><code>0 &lt;= amount &lt;= 10<sup>4</sup></code></li>\n",
    "</ul>\n",
    "\n",
    "<p>&nbsp;</p>\n",
    "<p><strong>PS:</strong> see problem <a href=\"https://nbviewer.jupyter.org/github/adrien-perelloyb/leetcode/blob/main/problems/0518/518_solution_python.ipynb\">518</a> for variation of the problem (number of combinations instead of smallest number of coins)</p>\n",
    "<!--Copy Paste Leetcode statement between-->\n",
    "\n",
    "<p>&nbsp;</p>\n",
    "<a href=\"https://leetcode.com/problems/coin-change/\">Source</a> \n",
    "<hr>"
   ]
  },
  {
   "cell_type": "markdown",
   "metadata": {},
   "source": [
    "<h4>Code</h4>"
   ]
  },
  {
   "cell_type": "code",
   "execution_count": 9,
   "metadata": {},
   "outputs": [],
   "source": [
    "def change_coins(coins, amount):\n",
    "    \"\"\"Naive recursive DFS using memoization. Doesn't require to sort coin\"\"\"\n",
    "    def dfs(remain):\n",
    "        nonlocal change, coins\n",
    "        if remain in change:\n",
    "            return change[remain]\n",
    "        if remain < 0:\n",
    "            return float('inf')\n",
    "        change[remain] = min([dfs(remain-coin) for coin in coins]) + 1\n",
    "        return change[remain]\n",
    "\n",
    "    if not amount:\n",
    "        return 0\n",
    "    change = {0: 0, **{coin: 1 for coin in coins}}\n",
    "    dfs(amount)\n",
    "    return -1 if change[amount] == float('inf') else change[amount]"
   ]
  },
  {
   "cell_type": "code",
   "execution_count": 47,
   "metadata": {},
   "outputs": [],
   "source": [
    "def change_coins(coins, amount):\n",
    "    \"\"\"alternative version of above solution (faster but requires sorting coins).\"\"\"\n",
    "    def dfs(remain):\n",
    "        nonlocal change, coins\n",
    "        if remain in change:\n",
    "            return change[remain]\n",
    "        change[remain] = float(\"inf\")\n",
    "        for coin in coins:\n",
    "            if coin > remain:\n",
    "                break  # exit when coins get too big\n",
    "            nb_coins = 1 + dfs(remain - coin)\n",
    "            if nb_coins < change[remain]:\n",
    "                change[remain] = nb_coins\n",
    "        return change[remain]\n",
    "\n",
    "    if not amount:\n",
    "        return 0\n",
    "    coins.sort()\n",
    "    change = {0: 0, **{coin: 1 for coin in coins}}\n",
    "    dfs(amount)\n",
    "    return -1 if change[amount] == float('inf') else change[amount]"
   ]
  },
  {
   "cell_type": "code",
   "execution_count": 65,
   "metadata": {},
   "outputs": [],
   "source": [
    "def change_coins(coins, amount):\n",
    "    \"\"\"Recursive DFS using branch and bound to eliminate not interesting solutions early on.\n",
    "    Starts as a greedy approach, but keeps on as long as better options exist\n",
    "    No memoization used\n",
    "    \"\"\"\n",
    "    def dfs(remain, start=0, coins_so_far=0):\n",
    "        nonlocal coins, result\n",
    "        if not remain and coins_so_far < result:\n",
    "            result = coins_so_far\n",
    "            return\n",
    "        for i, coin in enumerate(coins[start:], start):\n",
    "            coins_margin = result - coins_so_far    # how many coins can we use if we want to do better\n",
    "            max_amount = coin * coins_margin        # maximum amount possible with biggest (current) coin  \n",
    "            if coin <= remain < max_amount:         # if leftover coins aren't too big nor too small\n",
    "                dfs(remain-coin, i, coins_so_far+1)\n",
    "\n",
    "    if not amount:\n",
    "        return 0\n",
    "    coins.sort(reverse=True)\n",
    "    result = float('inf')\n",
    "    dfs(amount)\n",
    "    return -1 if result == float(\"inf\") else result"
   ]
  },
  {
   "cell_type": "code",
   "execution_count": null,
   "metadata": {},
   "outputs": [],
   "source": [
    "def change_coins(coins, amount):\n",
    "    \"\"\"(bit) faster version of above solution using different variables.\n",
    "    \"\"\"\n",
    "    def dfs(remain, start=0, coins_so_far=0):\n",
    "        nonlocal coins, result\n",
    "        if not remain and coins_so_far < result:\n",
    "            result = coins_so_far\n",
    "            return\n",
    "        for i, coin in enumerate(coins[start:], start):\n",
    "            min_nb_coins_extra = remain // coin               # DIFF HERE\n",
    "            min_nb_coins = coins_so_far + min_nb_coins_extra  # DIFF HERE\n",
    "            if coins_so_far < min_nb_coins < result:          # DIFF HERE\n",
    "                dfs(remain-coin, i, coins_so_far+1)\n",
    "\n",
    "    if not amount:\n",
    "        return 0\n",
    "    coins.sort(reverse=True)\n",
    "    result = float('inf')\n",
    "    dfs(amount)\n",
    "    return -1 if result == float(\"inf\") else result"
   ]
  },
  {
   "cell_type": "code",
   "execution_count": 12,
   "metadata": {},
   "outputs": [],
   "source": [
    "def change_coins(coins, amount):\n",
    "    \"\"\"Yet another slightly faster recursive DFS using branch and bound version\n",
    "    \"\"\"\n",
    "    def dfs(remain, start=0, coins_so_far=0):\n",
    "        nonlocal coins, result\n",
    "        lower_bound, left = divmod(remain, coins[start])   # divmod(x,y) = (x//y, x%y)\n",
    "        min_nb_coins = lower_bound + coins_so_far\n",
    "        if min_nb_coins >= result:   # if what we would need is larger than current result\n",
    "            return\n",
    "        if left == 0:                # but if we can get exactly the amount needed with less coins\n",
    "            result = min_nb_coins\n",
    "            return\n",
    "        if start == len(coins) - 1:  # if we explored everything\n",
    "            return\n",
    "        for extra_nb_coins in range(lower_bound, -1, -1):\n",
    "            new_remain = remain - (coins[start] * extra_nb_coins)\n",
    "            dfs(new_remain, start + 1, coins_so_far + extra_nb_coins)\n",
    "\n",
    "    if not amount:\n",
    "        return 0\n",
    "    coins.sort(reverse=True)\n",
    "    result = float('inf')\n",
    "    dfs(amount)\n",
    "    return -1 if result == float('inf') else result"
   ]
  },
  {
   "cell_type": "code",
   "execution_count": null,
   "metadata": {},
   "outputs": [],
   "source": [
    "def change_coins(coins, amount):\n",
    "    \"\"\"fastest variation of above solutions\"\"\"\n",
    "    def dfs(remain, start=0, coins_so_far=0):\n",
    "        nonlocal coins, result\n",
    "        if start == len(coins):      # DIFF HERE (n and not n-1)\n",
    "            return\n",
    "        lower_bound, left = divmod(remain, coins[start])   # divmod(x,y) = (x//y, x%y)\n",
    "        min_nb_coins = lower_bound + coins_so_far\n",
    "        if left == 0 and min_nb_coins < result:\n",
    "            result = min_nb_coins\n",
    "            return\n",
    "        if min_nb_coins + 1 >= result:  # DIFF HERE (+1)\n",
    "            return\n",
    "        for extra_nb_coins in range(lower_bound, -1, -1):\n",
    "            new_remain = remain - (coins[start] * extra_nb_coins)\n",
    "            dfs(new_remain, start + 1, coins_so_far + extra_nb_coins)\n",
    "\n",
    "    if not amount:\n",
    "        return 0\n",
    "    coins.sort(reverse=True)\n",
    "    result = float(\"inf\")\n",
    "    dfs(amount)\n",
    "    return -1 if result == float('inf') else result"
   ]
  },
  {
   "cell_type": "code",
   "execution_count": null,
   "metadata": {},
   "outputs": [],
   "source": [
    "def change_coins(coins, amount):\n",
    "    \"\"\"almost as fast as above, but much clearer to understand\n",
    "    \"\"\"\n",
    "    def dfs(remain, start=0, coins_so_far=0):\n",
    "        nonlocal coins, result\n",
    "        lower_bound, left = divmod(remain, coins[start])\n",
    "        if left:\n",
    "            lower_bound += 1\n",
    "        if lower_bound + coins_so_far >= result: # if the result from this branch is not interesting\n",
    "            return\n",
    "        if remain in coins[start:] and coins_so_far < result:  # if one of the available coins can do the job\n",
    "            result = coins_so_far+1\n",
    "            return\n",
    "        if coins[start] < remain:   # option 1: use the biggest coin \n",
    "            dfs(remain-coins[start], start, coins_so_far+1)\n",
    "        if start < len(coins)-1:    # option 2: use the 2nd biggest if possible\n",
    "            dfs(remain, start+1, coins_so_far)\n",
    "\n",
    "    if not amount:\n",
    "        return 0\n",
    "    coins.sort(reverse=True)\n",
    "    result = float('inf')\n",
    "    dfs(amount)\n",
    "    return -1 if result == float('inf') else result"
   ]
  },
  {
   "cell_type": "markdown",
   "metadata": {},
   "source": [
    "<h4>Check</h4>"
   ]
  },
  {
   "cell_type": "code",
   "execution_count": 66,
   "metadata": {},
   "outputs": [
    {
     "data": {
      "text/plain": [
       "3"
      ]
     },
     "execution_count": 66,
     "metadata": {},
     "output_type": "execute_result"
    }
   ],
   "source": [
    "coins = [1,2,5]\n",
    "amount = 11\n",
    "change_coins(coins, amount)"
   ]
  },
  {
   "cell_type": "code",
   "execution_count": 67,
   "metadata": {},
   "outputs": [
    {
     "data": {
      "text/plain": [
       "20"
      ]
     },
     "execution_count": 67,
     "metadata": {},
     "output_type": "execute_result"
    }
   ],
   "source": [
    "coins = [1,2,5]\n",
    "amount = 100\n",
    "change_coins(coins, amount)"
   ]
  },
  {
   "cell_type": "markdown",
   "metadata": {},
   "source": [
    "<hr>\n",
    "<h4>Follow up:</h4>\n",
    "<p>Solve it both recursively and iteratively.</p>\n",
    "\n",
    "<h4>Code</h4>"
   ]
  },
  {
   "cell_type": "code",
   "execution_count": null,
   "metadata": {},
   "outputs": [],
   "source": [
    "def change_coins(coins, amount):\n",
    "    \"\"\"Naive Dynamic Programming solution\n",
    "    \n",
    "    Note that this is a complete Knapsack problem:\n",
    "    - amount = capacity of the \"Knapsack\"\n",
    "    - coins = value of each item you can put into the Knapsack\n",
    "    - you can take 0 or many coins\n",
    "    - for each coin the cost is constant 1\n",
    "    so the question is to find minimum cost to fill the Knapsack\n",
    "    \"\"\"\n",
    "    change = [0]*(amount+1)\n",
    "    for val in range(1, amount+1):\n",
    "        minimum = float(\"inf\")\n",
    "        for coin in coins:\n",
    "            if val >= coin and change[val-coin] < minimum:\n",
    "                minimum = change[val-coin]\n",
    "        change[val] = 1+minimum\n",
    "    return -1 if change[-1] == float(\"inf\") else change[-1]"
   ]
  },
  {
   "cell_type": "code",
   "execution_count": null,
   "metadata": {},
   "outputs": [],
   "source": [
    "def change_coins(coins, amount):\n",
    "    \"\"\"Dynamic Programming solution with sorted coins to break loop\"\"\"\n",
    "    coins.sort()\n",
    "    change = [0]*(amount+1)\n",
    "\n",
    "    for val in range(1, amount + 1):\n",
    "        minimum = float(\"inf\")\n",
    "        for coin in coins:\n",
    "            if coin > val:\n",
    "                break  # exit when coins get too big\n",
    "            if change[val-coin] < minimum:\n",
    "                minimum = change[val - coin]\n",
    "        change[val] = minimum+1\n",
    "\n",
    "    return -1 if change[amount] == float('inf') else change[amount]"
   ]
  },
  {
   "cell_type": "code",
   "execution_count": null,
   "metadata": {},
   "outputs": [],
   "source": [
    "def change_coins(coins, amount):\n",
    "    \"\"\"iterative DFS using branch and bound \"\"\"\n",
    "    if not amount:\n",
    "        return 0\n",
    "    coins.sort(reverse=True)\n",
    "    result = float(\"inf\")\n",
    "    stack = [(amount, 0, 0)]\n",
    "\n",
    "    while stack:\n",
    "        remain, start, coins_so_far = stack.pop()\n",
    "        if not remain and coins_so_far < result:\n",
    "            result = coins_so_far\n",
    "            continue\n",
    "\n",
    "        for i in reversed(range(start, len(coins))): # why reversed ???\n",
    "            coins_margin = result - coins_so_far\n",
    "            max_amount = coins[i] * coins_margin\n",
    "            if coins[i] <= remain < max_amount:\n",
    "                stack += (remain-coins[i], i, coins_so_far + 1),\n",
    "\n",
    "    return -1 if result == float(\"inf\") else result"
   ]
  },
  {
   "cell_type": "code",
   "execution_count": null,
   "metadata": {},
   "outputs": [],
   "source": [
    "def change_coins(coins, amount):\n",
    "    \"\"\"Same as above but using different variables\"\"\"\n",
    "    if not amount:\n",
    "        return 0\n",
    "    coins.sort(reverse=True)\n",
    "    result = float(\"inf\")\n",
    "    stack = [(amount, 0, 0)]\n",
    "\n",
    "    while stack:\n",
    "        remain, start, coins_so_far = stack.pop()\n",
    "        if not remain and coins_so_far < result:\n",
    "            result = coins_so_far\n",
    "            continue\n",
    "\n",
    "        for i in reversed(range(start, len(coins))):\n",
    "            lower_bound = remain // coins[i]            # DIFF HERE\n",
    "            min_nb_coins = coins_so_far + lower_bound   # DIFF HERE\n",
    "            if coins_so_far < min_nb_coins < result:    # DIFF HERE\n",
    "                stack += (remain-coins[i], i, coins_so_far + 1),\n",
    "\n",
    "    return -1 if result == float(\"inf\") else result"
   ]
  }
 ],
 "metadata": {
  "kernelspec": {
   "display_name": "Python 3",
   "language": "python",
   "name": "python3"
  },
  "language_info": {
   "codemirror_mode": {
    "name": "ipython",
    "version": 3
   },
   "file_extension": ".py",
   "mimetype": "text/x-python",
   "name": "python",
   "nbconvert_exporter": "python",
   "pygments_lexer": "ipython3",
   "version": "3.8.2"
  }
 },
 "nbformat": 4,
 "nbformat_minor": 1
}
