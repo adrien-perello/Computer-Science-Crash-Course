{
 "cells": [
  {
   "cell_type": "markdown",
   "metadata": {},
   "source": [
    "<h1>234. Palindrome Linked List</h1>\n",
    "<hr>\n",
    "\n",
    "<!--Copy Paste Leetcode statement between-->\n",
    "<p>Given a singly linked list, determine if it is a palindrome.</p>\n",
    "\n",
    "<p><strong>Example 1:</strong></p>\n",
    "\n",
    "<pre><strong>Input:</strong> 1-&gt;2\n",
    "<strong>Output:</strong> false</pre>\n",
    "\n",
    "<p><strong>Example 2:</strong></p>\n",
    "\n",
    "<pre><strong>Input:</strong> 1-&gt;2-&gt;2-&gt;1\n",
    "<strong>Output:</strong> true</pre>\n",
    "<!--Copy Paste Leetcode statement between-->\n",
    "\n",
    "<p>&nbsp;</p>\n",
    "<a href=\"https://leetcode.com/problems/palindrome-linked-list/\">Source</a> \n",
    "<hr>\n",
    "\n",
    "<h4>Code</h4>"
   ]
  },
  {
   "cell_type": "code",
   "execution_count": 1,
   "metadata": {},
   "outputs": [],
   "source": [
    "def is_palindrome(self, head):\n",
    "    \"\"\" Using an array.\n",
    "    Time Complexity: O(n)\n",
    "    Space Complexity: O(n)\n",
    "    \"\"\"\n",
    "    node_list = []\n",
    "    current_node = head\n",
    "\n",
    "    while current_node:\n",
    "        node_list.append(current_node.val)\n",
    "        current_node = current_node.next\n",
    "\n",
    "    # option 1\n",
    "    current_node = head\n",
    "    while current_node:\n",
    "        if current_node.val != node_list.pop():\n",
    "            return False\n",
    "        current_node = current_node.next\n",
    "    return True\n",
    "\n",
    "    # option 2: cheating\n",
    "    # return node_list == node_list[::-1]"
   ]
  },
  {
   "cell_type": "markdown",
   "metadata": {},
   "source": [
    "<hr>\n",
    "<h4>Follow up:</h4>\n",
    "<p>Could you do it in O(n) time and O(1) space?</p>\n",
    "\n",
    "<h4>Code</h4>"
   ]
  },
  {
   "cell_type": "code",
   "execution_count": 2,
   "metadata": {},
   "outputs": [],
   "source": [
    "def is_palindrome(self, head):\n",
    "    \"\"\"Using Two Pointers: Reverse the first half and compare.\n",
    "    Time Complexity: O(n)\n",
    "    Space Complexity: O(1)\n",
    "    \"\"\"\n",
    "    # find the head of the second half part\n",
    "    fast = slow = head\n",
    "    while fast and fast.next:\n",
    "        fast = fast.next.next\n",
    "        slow = slow.next\n",
    "\n",
    "    # reverse  (see leetcode 206)\n",
    "    prev = None\n",
    "    while slow:           #  None <-- s0 (prev)           //  slow --> s2 --> s3 --> s4\n",
    "        tmp = slow.next   #  None <-- s0 (prev)           //  slow --> s2 (tmp) --> s3 --> s4\n",
    "        slow.next = prev  #  None <-- s0 (prev) <-- slow  //           s2 (tmp) --> s3 --> s4\n",
    "        prev = slow       #  None <-- s0 <-- slow (prev)  //           s2 (tmp) --> s3 --> s4\n",
    "        slow = tmp        #  None <-- s0 <-- s1 (prev)    //  s2 (slow) --> s3 --> s4\n",
    "\n",
    "    # compare\n",
    "    while prev and head:\n",
    "        if prev.val != head.val:\n",
    "            return False\n",
    "        prev = prev.next\n",
    "        head = head.next\n",
    "    return True"
   ]
  },
  {
   "cell_type": "code",
   "execution_count": 3,
   "metadata": {},
   "outputs": [],
   "source": [
    "def is_palindrome(self, head):\n",
    "    \"\"\"variation of the above solution.\"\"\"\n",
    "    slow = fast = head\n",
    "    prev = None\n",
    "    while fast and fast.next:\n",
    "        prev, prev.next, slow, fast = slow, prev, slow.next, fast.next.next\n",
    "    if fast:\n",
    "        slow = slow.next\n",
    "    while slow and slow.val == prev.val:\n",
    "        slow, prev = slow.next, prev.next\n",
    "    return not slow"
   ]
  }
 ],
 "metadata": {
  "kernelspec": {
   "display_name": "Python 3",
   "language": "python",
   "name": "python3"
  },
  "language_info": {
   "codemirror_mode": {
    "name": "ipython",
    "version": 3
   },
   "file_extension": ".py",
   "mimetype": "text/x-python",
   "name": "python",
   "nbconvert_exporter": "python",
   "pygments_lexer": "ipython3",
   "version": "3.8.2"
  }
 },
 "nbformat": 4,
 "nbformat_minor": 1
}
