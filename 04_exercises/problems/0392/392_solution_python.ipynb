{
 "cells": [
  {
   "cell_type": "markdown",
   "metadata": {},
   "source": [
    "<h1>392. Is Subsequence</h1>\n",
    "<hr>\n",
    "\n",
    "<!--Copy Paste Leetcode statement between-->\n",
    "<div><p>Given a string <b>s</b> and a string <b>t</b>, check if <b>s</b> is subsequence of <b>t</b>.</p>\n",
    "\n",
    "<p>A subsequence of a string is a new string which is formed from the original string by deleting some (can be none) of the characters without disturbing the relative positions of the remaining characters. (ie, <code>\"ace\"</code> is a subsequence of <code>\"abcde\"</code> while <code>\"aec\"</code> is not).</p>\n",
    "\n",
    "<p>&nbsp;</p>\n",
    "<p><strong>Example 1:</strong></p>\n",
    "<pre><strong>Input:</strong> s = \"abc\", t = \"ahbgdc\"\n",
    "<strong>Output:</strong> true\n",
    "</pre><p><strong>Example 2:</strong></p>\n",
    "<pre><strong>Input:</strong> s = \"axc\", t = \"ahbgdc\"\n",
    "<strong>Output:</strong> false\n",
    "</pre>\n",
    "<p>&nbsp;</p>\n",
    "<p><strong>Constraints:</strong></p>\n",
    "\n",
    "<ul>\n",
    "\t<li><code>0 &lt;= s.length &lt;= 100</code></li>\n",
    "\t<li><code>0 &lt;= t.length &lt;= 10^4</code></li>\n",
    "\t<li>Both strings consists only of lowercase characters.</li>\n",
    "</ul>\n",
    "</div>\n",
    "<!--Copy Paste Leetcode statement between-->\n",
    "\n",
    "<p>&nbsp;</p>\n",
    "<a href=\"https://leetcode.com/problems/is-subsequence/\">Source</a> \n",
    "<hr>\n",
    "\n",
    "<h4>Code</h4>"
   ]
  },
  {
   "cell_type": "code",
   "execution_count": 1,
   "metadata": {},
   "outputs": [],
   "source": [
    "def is_subsequence(s, t):\n",
    "    \"\"\"Using Two Pointers / Greedy\n",
    "    Time complexity: O(n + m)\n",
    "    Space complexity: O(1)\n",
    "    \"\"\"\n",
    "    if not s:\n",
    "        return True\n",
    "    if not t:\n",
    "        return False\n",
    "\n",
    "    i = j = 0\n",
    "    while i < len(s) and j < len(t):\n",
    "        if s[i] == t[j]:\n",
    "            i += 1\n",
    "        j += 1\n",
    "\n",
    "    return i >= len(s)"
   ]
  },
  {
   "cell_type": "code",
   "execution_count": 2,
   "metadata": {},
   "outputs": [],
   "source": [
    "def is_subsequence(s, t):\n",
    "    \"\"\"Using iter()\n",
    "    Time complexity: O(n + m)\n",
    "    Space complexity: O(1)\n",
    "    \"\"\"\n",
    "    # convert t into an iterator (will return one element at a time)\n",
    "    # This prevents returning True in case all characters of s are in t but permuted\n",
    "    remainder_of_t = iter(t)\n",
    "    for char in s:\n",
    "        if char not in remainder_of_t:\n",
    "            return False\n",
    "    return True"
   ]
  },
  {
   "cell_type": "code",
   "execution_count": 3,
   "metadata": {},
   "outputs": [],
   "source": [
    "def is_subsequence(s, t):\n",
    "    \"\"\"one line variation of above\"\"\"\n",
    "    remainder_of_t = iter(t)\n",
    "    return all(c in remainder_of_t for c in s) # loops through to find the 1st False. Else returns True"
   ]
  },
  {
   "cell_type": "markdown",
   "metadata": {},
   "source": [
    "<h4>Check</h4>"
   ]
  },
  {
   "cell_type": "code",
   "execution_count": 4,
   "metadata": {},
   "outputs": [
    {
     "data": {
      "text/plain": [
       "True"
      ]
     },
     "execution_count": 4,
     "metadata": {},
     "output_type": "execute_result"
    }
   ],
   "source": [
    "s = \"abc\"\n",
    "t = \"ahbgdc\"\n",
    "is_subsequence(s, t)"
   ]
  },
  {
   "cell_type": "code",
   "execution_count": 5,
   "metadata": {},
   "outputs": [
    {
     "data": {
      "text/plain": [
       "False"
      ]
     },
     "execution_count": 5,
     "metadata": {},
     "output_type": "execute_result"
    }
   ],
   "source": [
    "s = \"axc\"\n",
    "t = \"ahbgdc\"\n",
    "is_subsequence(s, t)"
   ]
  },
  {
   "cell_type": "code",
   "execution_count": 6,
   "metadata": {},
   "outputs": [
    {
     "data": {
      "text/plain": [
       "False"
      ]
     },
     "execution_count": 6,
     "metadata": {},
     "output_type": "execute_result"
    }
   ],
   "source": [
    "s = \"acb\"\n",
    "t = \"abc\"\n",
    "is_subsequence(s, t)"
   ]
  },
  {
   "cell_type": "markdown",
   "metadata": {},
   "source": [
    "<hr>\n",
    "<h4>Follow up #1:</h4>\n",
    "<p>Solve it both iteratively and recursively</p>\n",
    "<h4>Code</h4>"
   ]
  },
  {
   "cell_type": "code",
   "execution_count": 7,
   "metadata": {},
   "outputs": [],
   "source": [
    "def is_subsequence(s, t):\n",
    "    \"\"\"Using recursion\n",
    "    Time Complexity: O(m+n)\n",
    "    Space Complexity: O(1)\n",
    "    \"\"\"\n",
    "    def helper(a, b):\n",
    "        # base case\n",
    "        if not a:\n",
    "            return True\n",
    "        if not b:\n",
    "            return False\n",
    "        \n",
    "        # Recursion\n",
    "        if a[-1] == b[-1]: \n",
    "            return helper(a[:-1], b[:-1]) \n",
    "        return helper(a, b[:-1]) \n",
    "\n",
    "    return helper(s,t)"
   ]
  },
  {
   "cell_type": "code",
   "execution_count": 8,
   "metadata": {},
   "outputs": [],
   "source": [
    "# Although the statement can remind us of longest subsequence problems (see leetcode #1143)\n",
    "# Dynamic Programming is too slow and not relevant here since there is no need to calculate anything\n",
    "\n",
    "def is_subsequence(s, t):\n",
    "    \"\"\"Using Dynamic Programming (slow, not relevant here see leetcode #1143 instead)\n",
    "    Time Complexity: O(mn)\n",
    "    Space Complexity: O(mn)\n",
    "    \"\"\"\n",
    "    if not s:\n",
    "        return True\n",
    "    if not t:\n",
    "        return False\n",
    "\n",
    "    n = len(s)+1\n",
    "    m = len(t)+1\n",
    "    \n",
    "    dp = [[0]*(m) for _ in range(n)]\n",
    "\n",
    "    for i in range(1, n):\n",
    "        for j in range(1, m):\n",
    "            if s[i-1] == t[j-1]:\n",
    "                dp[i][j] = 1 + dp[i-1][j-1]\n",
    "            else:\n",
    "                dp[i][j] = dp[i][j-1]\n",
    "\n",
    "    return dp[-1][-1] == len(s)"
   ]
  },
  {
   "cell_type": "markdown",
   "metadata": {},
   "source": [
    "<hr>\n",
    "<h4>Follow up #2:</h4>\n",
    "<p>If there are lots of incoming S, say S1, S2, ... , Sk where k &gt;= 1B, and you want to check one by one to see if T has its subsequence. In this scenario, how would you change your code?</p>\n",
    "<h4>Code</h4>"
   ]
  },
  {
   "cell_type": "code",
   "execution_count": 9,
   "metadata": {},
   "outputs": [],
   "source": [
    "# If we check each Sk using above solution, then it would be k*O(m+n) time --> INEFICIENT\n",
    "# The solution is to preprocess t and then do a binary search\n",
    "\n",
    "# Option 1: iterative BS\n",
    "def search_insert(arr, x):\n",
    "    \"\"\"Binary search to find the insert position of x in arr (iterative approach - See leetcode #35)\"\"\"\n",
    "    # base cases\n",
    "    if not arr or x <= arr[0]:\n",
    "        return 0\n",
    "    if arr[-1] < x:\n",
    "        return len(arr)\n",
    "    \n",
    "    left = 0\n",
    "    right = len(arr)-1\n",
    "    while left <= right:\n",
    "        mid = (left + right) // 2\n",
    "        if arr[mid] == x:\n",
    "            return mid\n",
    "        if arr[mid] < x:\n",
    "            left = mid+1\n",
    "        else:\n",
    "            right = mid-1\n",
    "    return left\n",
    "\n",
    "\n",
    "# Option 2: recursive BS\n",
    "def search_insert_recur(self, arr, x):\n",
    "    \"\"\"Binary search to find the insert position of x in arr (recursive approach - See leetcode #35)\"\"\"\n",
    "    def bs(left, right, x):\n",
    "        nonlocal arr\n",
    "        # base cases\n",
    "        if left > right:\n",
    "            return left\n",
    "        mid = (left + right) // 2\n",
    "        if x == arr[mid]:\n",
    "            return mid\n",
    "\n",
    "        # recursive relation\n",
    "        if x < arr[mid]:\n",
    "            return bs(left, mid - 1, x)\n",
    "        return bs(mid + 1, right, x)\n",
    "\n",
    "    return bs(0, len(arr)-1, x)\n",
    "\n",
    "\n",
    "from collections import defaultdict\n",
    "\n",
    "def is_subsequence(s, t):\n",
    "    \"\"\"Using binary search on ordered indexes (values) of Hashtable (where keys = char of s).\n",
    "    Time Complexity:  O(n) + k* O(mlogn) with m = len(s) and n = len(t)\n",
    "    Space Complexity: O(m)\n",
    "    \"\"\"\n",
    "    indexes = defaultdict(list)  # values of dict[keys] will be lists AND default = []\n",
    "    for i, char in enumerate(t):\n",
    "        indexes[char].append(i)  # list all the indexes at which we find \"element\"\n",
    "\n",
    "    start = 0\n",
    "    for char in s:\n",
    "        p = search_insert(indexes[char], start)  # char is present at [i1, i2, i3, ... , in]\n",
    "        # but we only consider t[start:] --> i.e. could we insert 'start' inside [i1, ... , in]?\n",
    "        if p == len(indexes[char]):  # if we could not (i.e. only at the end of t)\n",
    "            return False\n",
    "        start = indexes[char][p] + 1  # if we could, we now only consider t[p+1:]\n",
    "    return True"
   ]
  },
  {
   "cell_type": "code",
   "execution_count": 10,
   "metadata": {},
   "outputs": [],
   "source": [
    "from collections import defaultdict\n",
    "from bisect import bisect_left\n",
    "\n",
    "def is_subsequence(s, t):\n",
    "    \"\"\"Same as above but using method bisect_left (requires sorted argument)\"\"\"\n",
    "    indexes = defaultdict(list)\n",
    "    for i, char in enumerate(t):\n",
    "        indexes[char].append(i)\n",
    "\n",
    "    start = 0\n",
    "    for char in s:\n",
    "        p = bisect_left(indexes[char], start)\n",
    "        if p == len(indexes[char]):\n",
    "            return False\n",
    "        start = indexes[char][p] + 1\n",
    "    return True\n"
   ]
  },
  {
   "cell_type": "markdown",
   "metadata": {},
   "source": [
    "<h4>Check</h4>"
   ]
  },
  {
   "cell_type": "code",
   "execution_count": 11,
   "metadata": {},
   "outputs": [
    {
     "data": {
      "text/plain": [
       "False"
      ]
     },
     "execution_count": 11,
     "metadata": {},
     "output_type": "execute_result"
    }
   ],
   "source": [
    "s = \"acb\"\n",
    "t = \"ahbgdc\"\n",
    "is_subsequence(s, t)"
   ]
  },
  {
   "cell_type": "code",
   "execution_count": 12,
   "metadata": {},
   "outputs": [
    {
     "data": {
      "text/plain": [
       "True"
      ]
     },
     "execution_count": 12,
     "metadata": {},
     "output_type": "execute_result"
    }
   ],
   "source": [
    "s = \"abc\"\n",
    "t = \"ahbgdc\"\n",
    "is_subsequence(s, t)"
   ]
  },
  {
   "cell_type": "code",
   "execution_count": 13,
   "metadata": {
    "scrolled": true
   },
   "outputs": [
    {
     "data": {
      "text/plain": [
       "True"
      ]
     },
     "execution_count": 13,
     "metadata": {},
     "output_type": "execute_result"
    }
   ],
   "source": [
    "s = \"abc\"\n",
    "t = \"ahbgdcsetezilaqzecauhpaeizokrntbziruaijzencazrkzuhtizuerbczailarbamogv\"\n",
    "is_subsequence(s, t)"
   ]
  }
 ],
 "metadata": {
  "kernelspec": {
   "display_name": "Python 3",
   "language": "python",
   "name": "python3"
  },
  "language_info": {
   "codemirror_mode": {
    "name": "ipython",
    "version": 3
   },
   "file_extension": ".py",
   "mimetype": "text/x-python",
   "name": "python",
   "nbconvert_exporter": "python",
   "pygments_lexer": "ipython3",
   "version": "3.8.2"
  }
 },
 "nbformat": 4,
 "nbformat_minor": 1
}
