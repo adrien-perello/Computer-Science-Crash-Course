{
 "cells": [
  {
   "cell_type": "markdown",
   "metadata": {},
   "source": [
    "<h1>965. Univalued Binary Tree</h1>\n",
    "<hr>\n",
    "\n",
    "<!--Copy Paste Leetcode statement between-->\n",
    "<p>A binary tree is <em>univalued</em> if every node in the tree has the same value.</p>\n",
    "\n",
    "<p>Return <code>true</code>&nbsp;if and only if the given tree is univalued.</p>\n",
    "\n",
    "<p>&nbsp;</p>\n",
    "<p><strong>Example 1:</strong></p>\n",
    "<img alt=\"\" src=\"./img1.png\" style=\"width: 265px; height: 172px;\">\n",
    "<pre><strong>Input: </strong><span id=\"example-input-1-1\">[1,1,1,1,1,null,1]</span>\n",
    "<strong>Output: </strong><span id=\"example-output-1\">true</span>\n",
    "</pre>\n",
    "\n",
    "<p>&nbsp;</p>\n",
    "<p><strong>Example 2:</strong></p>\n",
    "<img alt=\"\" src=\"./img2.png\" style=\"width: 198px; height: 169px;\">\n",
    "<pre><strong>Input: </strong><span id=\"example-input-2-1\">[2,2,2,5,2]</span>\n",
    "<strong>Output: </strong><span id=\"example-output-2\">false</span>\n",
    "</pre>\n",
    "<p>&nbsp;</p>\n",
    "\n",
    "<p><strong>Note:</strong></p>\n",
    "\n",
    "<ol>\n",
    "\t<li>The number of nodes in the given tree will be in the range <code>[1, 100]</code>.</li>\n",
    "\t<li>Each node's value will be an integer in the range <code>[0, 99]</code>.</li>\n",
    "</ol>\n",
    "<!--Copy Paste Leetcode statement between-->\n",
    "\n",
    "<p>&nbsp;</p>\n",
    "<a href=\"https://leetcode.com/problems/univalued-binary-tree/\">Source</a> \n",
    "<hr>"
   ]
  },
  {
   "cell_type": "code",
   "execution_count": 3,
   "metadata": {},
   "outputs": [],
   "source": [
    "# Definition for a binary tree node.\n",
    "class TreeNode:\n",
    "    def __init__(self, val=0, left=None, right=None):\n",
    "        self.val = val\n",
    "        self.left = left\n",
    "        self.right = right"
   ]
  },
  {
   "cell_type": "markdown",
   "metadata": {},
   "source": [
    "<h4>Code</h4>"
   ]
  },
  {
   "cell_type": "code",
   "execution_count": 4,
   "metadata": {},
   "outputs": [],
   "source": [
    "def is_unival_tree(root):\n",
    "    \"\"\"Recursive approach (DFS)\"\"\"\n",
    "    def dfs(node, x):\n",
    "        # base case\n",
    "        if not node:\n",
    "            return True\n",
    "        \n",
    "        if node.val != x:\n",
    "            return False\n",
    "        return dfs(node.left, x) and dfs(node.right, x)\n",
    "\n",
    "    if root:\n",
    "        return dfs(root, root.val)\n",
    "    return True         # arbitrary choice"
   ]
  },
  {
   "cell_type": "markdown",
   "metadata": {},
   "source": [
    "<hr>\n",
    "<h4>Follow up:</h4>\n",
    "<p>Solve it both recursively and iteratively.</p>\n",
    "\n",
    "<h4>Code</h4>"
   ]
  },
  {
   "cell_type": "code",
   "execution_count": 5,
   "metadata": {},
   "outputs": [],
   "source": [
    "def is_unival_tree(root):\n",
    "    \"\"\"Recursive approach (DFS)\"\"\"\n",
    "    if not root:\n",
    "        return True         # arbitrary choice\n",
    "\n",
    "    x = root.val\n",
    "    stack = [root]\n",
    "    while stack:\n",
    "        node = stack.pop()\n",
    "        if node.val != x:\n",
    "            return False\n",
    "        if node.right:\n",
    "            stack.append(node.right)\n",
    "        if node.left:\n",
    "            stack.append(node.left)\n",
    "    return True"
   ]
  },
  {
   "cell_type": "code",
   "execution_count": 6,
   "metadata": {},
   "outputs": [],
   "source": [
    "def is_unival_tree(root):\n",
    "    \"\"\"alternative version of above solution.\"\"\"\n",
    "    if not root:\n",
    "        return True         # arbitrary choice\n",
    "\n",
    "    x = root.val\n",
    "    stack = [root]\n",
    "    while stack:\n",
    "        node = stack.pop()\n",
    "        if not node:\n",
    "            continue\n",
    "        if node.val != x:\n",
    "            return False\n",
    "        stack += node.left, node.right\n",
    "    return True"
   ]
  },
  {
   "cell_type": "code",
   "execution_count": 7,
   "metadata": {},
   "outputs": [],
   "source": [
    "def is_unival_tree(root):\n",
    "    \"\"\"Recursive approach (BFS)\"\"\"\n",
    "    if not root:\n",
    "        return True\n",
    "\n",
    "    x = root.val\n",
    "    queue = [root]\n",
    "    for node in queue:              # DIFF HERE\n",
    "        if not node:\n",
    "            continue\n",
    "        if node.val != x:\n",
    "            return False\n",
    "        queue += node.left, node.right\n",
    "    return True"
   ]
  }
 ],
 "metadata": {
  "kernelspec": {
   "display_name": "Python 3",
   "language": "python",
   "name": "python3"
  },
  "language_info": {
   "codemirror_mode": {
    "name": "ipython",
    "version": 3
   },
   "file_extension": ".py",
   "mimetype": "text/x-python",
   "name": "python",
   "nbconvert_exporter": "python",
   "pygments_lexer": "ipython3",
   "version": "3.8.2"
  }
 },
 "nbformat": 4,
 "nbformat_minor": 1
}
