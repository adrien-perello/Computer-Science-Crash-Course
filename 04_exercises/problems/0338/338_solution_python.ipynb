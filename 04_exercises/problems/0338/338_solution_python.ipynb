{
 "cells": [
  {
   "cell_type": "markdown",
   "metadata": {},
   "source": [
    "<h1>Counting Bits</h1>\n",
    "<hr>\n",
    "\n",
    "<!--Copy Paste Leetcode statement between-->\n",
    "<p>Given a non negative integer number <b>num</b>. For every numbers <b>i</b> in the range <b>0 ≤ i ≤ num</b> calculate the number of 1's in their binary representation and return them as an array.</p>\n",
    "\n",
    "<p><strong>Example 1:</strong></p>\n",
    "\n",
    "<pre><strong>Input: </strong><span id=\"example-input-1-1\">2</span>\n",
    "<strong>Output: </strong><span id=\"example-output-1\">[0,1,1]</span></pre>\n",
    "\n",
    "<p><strong>Example 2:</strong></p>\n",
    "\n",
    "<pre><strong>Input: </strong><span id=\"example-input-1-1\">5</span>\n",
    "<strong>Output: </strong><code>[0,1,1,2,1,2]</code>\n",
    "</pre>\n",
    "<!--Copy Paste Leetcode statement between-->\n",
    "\n",
    "<p>&nbsp;</p>\n",
    "<a href=\"https://leetcode.com/problems/counting-bits/\">Source</a> \n",
    "<hr>"
   ]
  },
  {
   "cell_type": "markdown",
   "metadata": {},
   "source": [
    "<h4>Code</h4>"
   ]
  },
  {
   "cell_type": "code",
   "execution_count": 9,
   "metadata": {},
   "outputs": [],
   "source": [
    "def count_bits(num):\n",
    "    \"\"\"Naive answer. Really slow\"\"\"\n",
    "    res = []\n",
    "    for i in range(0, num+1):\n",
    "        res.append(sum(int(char) for char in '{:064b}'.format(i)))\n",
    "    return res"
   ]
  },
  {
   "cell_type": "markdown",
   "metadata": {},
   "source": [
    "<h4>Check</h4>"
   ]
  },
  {
   "cell_type": "code",
   "execution_count": 23,
   "metadata": {},
   "outputs": [
    {
     "data": {
      "text/plain": [
       "[0, 1, 1]"
      ]
     },
     "execution_count": 23,
     "metadata": {},
     "output_type": "execute_result"
    }
   ],
   "source": [
    "count_bits(2)"
   ]
  },
  {
   "cell_type": "code",
   "execution_count": 24,
   "metadata": {},
   "outputs": [
    {
     "data": {
      "text/plain": [
       "[0, 1, 1, 2, 1, 2]"
      ]
     },
     "execution_count": 24,
     "metadata": {},
     "output_type": "execute_result"
    }
   ],
   "source": [
    "count_bits(5)"
   ]
  },
  {
   "cell_type": "code",
   "execution_count": 25,
   "metadata": {},
   "outputs": [
    {
     "data": {
      "text/plain": [
       "[0, 1, 1, 2, 1, 2, 2, 3, 1, 2, 2, 3, 2, 3, 3, 4, 1, 2, 2, 3, 2, 3, 3, 4, 2, 3]"
      ]
     },
     "execution_count": 25,
     "metadata": {},
     "output_type": "execute_result"
    }
   ],
   "source": [
    "count_bits(25)"
   ]
  },
  {
   "cell_type": "markdown",
   "metadata": {},
   "source": [
    "<hr>\n",
    "<h4>Follow up:</h4>\n",
    "<p>It is very easy to come up with a solution with run time <b>O(n*sizeof(integer))</b>. But can you do it with the following constraints:</p>\n",
    "<ul>\n",
    "\t<li>Linear time <b>O(n)</b> /possibly in a single pass?</li>\n",
    "\t<li>Space complexity should be <b>O(n)</b>.</li>\n",
    "\t<li>Can you do it without using any builtin function like <b>__builtin_popcount</b> in c++ or in any other language.</li>\n",
    "</ul>\n",
    "\n",
    "\n",
    "<h4>Code</h4>"
   ]
  },
  {
   "cell_type": "code",
   "execution_count": null,
   "metadata": {},
   "outputs": [],
   "source": [
    "def count_bits(num):\n",
    "    \"\"\"Dynamic Programming: \n",
    "\n",
    "    case 1: n is even\n",
    "        --> finishes with 0\n",
    "        --> removing last binary digit wouldnt change number of 1\n",
    "        --> f(num) = f(num >> 1) = f(num/2)\n",
    "\n",
    "    case 1: n is odd number\n",
    "        --> finishes with 1\n",
    "        --> we can pluck it and add 1\n",
    "        --> f(num) = 1 + f(num >> 1) = 1 + f(num/2)\n",
    "    \"\"\"\n",
    "    result = [0]\n",
    "    for i in range(1, num+1):\n",
    "    \n",
    "        # Option 1\n",
    "        d, m = divmod(i,2)\n",
    "        result.append(result[d] + m)\n",
    "    \n",
    "        # Option 2:\n",
    "        # result.append(result[i >> 1] + (i & 1))  # i&1 = 0 if even, 1 if odd\n",
    "\n",
    "    return result"
   ]
  },
  {
   "cell_type": "code",
   "execution_count": null,
   "metadata": {},
   "outputs": [],
   "source": [
    "def count_bits(num):\n",
    "    \"\"\"Using the following bit manipulation trick (Brian Kernighan's Algorithm):\n",
    "     n & (n-1)    --> removes rightmost setbit:\n",
    "    37 & 36 = 36  -->   100101 & 100100 = 100100\n",
    "    36 & 35 = 32  -->   100100 & 100000 = 100000\n",
    "    32 & 31 = 0   -->   100000 & 011111 = 000000\n",
    "    \n",
    "    \n",
    "    Subtracting 1 = flips all the bits after the rightmost set bit (including rightmost bit)\n",
    "    10: 000010|10       9: 0000100|1        8: 0000|1000      7: 0000011|1\n",
    "     9: 000010|01       8: 0000100|0        7: 0000|0111      6: 0000011|0\n",
    "    \"\"\"\n",
    "    def kernighan_algo(n):\n",
    "        \"\"\"Time Complexity O(k) with k number of setbits (as opposed to O(n))\"\"\"\n",
    "        count = 0\n",
    "        while (n):\n",
    "            n = n & (n-1)\n",
    "            count = count + 1\n",
    "        return count\n",
    "    \n",
    "    result = [0]\n",
    "    for i in range(1, num+1):\n",
    "        nb_setbit = kernighan_algo(i)\n",
    "        result.append(nb_setbit)\n",
    "    return result"
   ]
  },
  {
   "cell_type": "code",
   "execution_count": null,
   "metadata": {},
   "outputs": [],
   "source": [
    "def count_bits(num):\n",
    "    \"\"\"One liner version of above solution\n",
    "    \"\"\"\n",
    "    result = [0]\n",
    "    for i in range(1, num+1):\n",
    "        result.append(result[i & (i-1)] + 1)\n",
    "    return result"
   ]
  }
 ],
 "metadata": {
  "kernelspec": {
   "display_name": "Python 3",
   "language": "python",
   "name": "python3"
  },
  "language_info": {
   "codemirror_mode": {
    "name": "ipython",
    "version": 3
   },
   "file_extension": ".py",
   "mimetype": "text/x-python",
   "name": "python",
   "nbconvert_exporter": "python",
   "pygments_lexer": "ipython3",
   "version": "3.8.2"
  }
 },
 "nbformat": 4,
 "nbformat_minor": 1
}
