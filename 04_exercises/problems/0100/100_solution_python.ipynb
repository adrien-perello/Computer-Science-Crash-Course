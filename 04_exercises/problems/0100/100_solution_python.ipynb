{
 "cells": [
  {
   "cell_type": "markdown",
   "metadata": {},
   "source": [
    "<h1>100. Same Tree</h1>\n",
    "<hr>\n",
    "\n",
    "<!--Copy Paste Leetcode statement between-->\n",
    "<p>Given the roots of two binary trees <code>p</code> and <code>q</code>, write a function to check if they are the same or not.</p>\n",
    "\n",
    "<p>Two binary trees are considered the same if they are structurally identical, and the nodes have the same value.</p>\n",
    "\n",
    "<p>&nbsp;</p>\n",
    "<p><strong>Example 1:</strong></p>\n",
    "<img alt=\"\" src=\"./img1.jpeg\" style=\"width: 622px; height: 182px;\">\n",
    "<pre><strong>Input:</strong> p = [1,2,3], q = [1,2,3]\n",
    "<strong>Output:</strong> true\n",
    "</pre>\n",
    "\n",
    "<p><strong>Example 2:</strong></p>\n",
    "<img alt=\"\" src=\"./img2.jpeg\" style=\"width: 382px; height: 182px;\">\n",
    "<pre><strong>Input:</strong> p = [1,2], q = [1,null,2]\n",
    "<strong>Output:</strong> false\n",
    "</pre>\n",
    "\n",
    "<p><strong>Example 3:</strong></p>\n",
    "<img alt=\"\" src=\"./img3.jpeg\" style=\"width: 622px; height: 182px;\">\n",
    "<pre><strong>Input:</strong> p = [1,2,1], q = [1,1,2]\n",
    "<strong>Output:</strong> false\n",
    "</pre>\n",
    "\n",
    "<p>&nbsp;</p>\n",
    "<p><strong>Constraints:</strong></p>\n",
    "\n",
    "<ul>\n",
    "\t<li>The number of nodes in both trees is in the range <code>[0, 100]</code>.</li>\n",
    "\t<li><code>-10<sup>4</sup> &lt;= Node.val &lt;= 10<sup>4</sup></code></li>\n",
    "</ul>\n",
    "<!--Copy Paste Leetcode statement between-->\n",
    "\n",
    "<p>&nbsp;</p>\n",
    "<a href=\"https://leetcode.com/problems/same-tree/\">Source</a> \n",
    "<hr>\n"
   ]
  },
  {
   "cell_type": "code",
   "execution_count": 1,
   "metadata": {},
   "outputs": [],
   "source": [
    "# Definition for a binary tree node.\n",
    "class TreeNode:\n",
    "    def __init__(self, val=0, left=None, right=None):\n",
    "        self.val = val\n",
    "        self.left = left\n",
    "        self.right = right"
   ]
  },
  {
   "cell_type": "markdown",
   "metadata": {},
   "source": [
    "<h4>Code</h4>"
   ]
  },
  {
   "cell_type": "code",
   "execution_count": 2,
   "metadata": {},
   "outputs": [],
   "source": [
    "def is_same_tree(p, q):\n",
    "    \"\"\"Recursive approach.\"\"\"\n",
    "    # Option 1 (faster)\n",
    "    if (p is None) ^ (q is None):\n",
    "        return False\n",
    "    elif p is None and q is None:\n",
    "        return True\n",
    "    # Option 2 (cleaner but a bit slower)\n",
    "    # if p is None or q is None:\n",
    "    #     return p == q\n",
    "    if p.val == q.val:\n",
    "        return (is_same_tree(p.left, q.left) and is_same_tree(p.right, q.right))\n",
    "    return False"
   ]
  },
  {
   "cell_type": "markdown",
   "metadata": {},
   "source": [
    "<hr>\n",
    "<h4>Follow up:</h4>\n",
    "<p>Solve it both recursively and iteratively.</p>\n",
    "\n",
    "<h4>Code</h4>"
   ]
  },
  {
   "cell_type": "code",
   "execution_count": 3,
   "metadata": {},
   "outputs": [],
   "source": [
    "def is_same_tree(p, q):\n",
    "    \"\"\"Iterative approach using BFS\"\"\"\n",
    "    def BFS_iter(root):\n",
    "        queue = [root]\n",
    "        traversal = []\n",
    "        for node in queue:\n",
    "            if node:\n",
    "                traversal.append(node.val)  # print\n",
    "                queue += node.left, node.right\n",
    "            else:\n",
    "                traversal.append(None)    # !! Necessary to differentiate [1, 2] from [1, null, 2]\n",
    "        return(traversal)\n",
    "\n",
    "    return BFS_iter(p) == BFS_iter(q)"
   ]
  },
  {
   "cell_type": "code",
   "execution_count": 4,
   "metadata": {},
   "outputs": [],
   "source": [
    "def is_same_tree(p, q):\n",
    "    \"\"\"Iterative approach using DFS (preorder/postorder), slower than BFS version\"\"\"\n",
    "    def DFS_iter(root):\n",
    "        if not root:\n",
    "            return []\n",
    "        stack = [root]\n",
    "        traversal = deque()\n",
    "        while stack:\n",
    "            node = stack.pop()\n",
    "            if node:\n",
    "                traversal.appendleft(node.val)  # print\n",
    "                stack.append(node.right) if node.right else stack.append(None)  # !! Necessary\n",
    "                stack.append(node.left) if node.left else stack.append(None)    # !! Necessary\n",
    "            else:\n",
    "                traversal.appendleft(None)  # !! Necessary for [1, 2] vs [1, null, 2]\n",
    "\n",
    "        return traversal\n",
    "\n",
    "    return DFS_iter(p) == DFS_iter(q)"
   ]
  }
 ],
 "metadata": {
  "kernelspec": {
   "display_name": "Python 3",
   "language": "python",
   "name": "python3"
  },
  "language_info": {
   "codemirror_mode": {
    "name": "ipython",
    "version": 3
   },
   "file_extension": ".py",
   "mimetype": "text/x-python",
   "name": "python",
   "nbconvert_exporter": "python",
   "pygments_lexer": "ipython3",
   "version": "3.8.2"
  }
 },
 "nbformat": 4,
 "nbformat_minor": 1
}
