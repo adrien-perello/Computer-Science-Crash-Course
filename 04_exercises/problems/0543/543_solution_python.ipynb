{
 "cells": [
  {
   "cell_type": "markdown",
   "metadata": {},
   "source": [
    "<h1>543. Diameter of Binary Tree</h1>\n",
    "<hr>\n",
    "\n",
    "<!--Copy Paste Leetcode statement between-->\n",
    "<p>\n",
    "Given a binary tree, you need to compute the length of the diameter of the tree. The diameter of a binary tree is the length of the <b>longest</b> path between any two nodes in a tree. This path may or may not pass through the root.\n",
    "</p>\n",
    "\n",
    "<p>\n",
    "<b>Example:</b><br>\n",
    "Given a binary tree <br>\n",
    "</p><pre>          1\n",
    "         / \\\n",
    "        2   3\n",
    "       / \\     \n",
    "      4   5    \n",
    "</pre>\n",
    "<p></p>\n",
    "<p>\n",
    "Return <b>3</b>, which is the length of the path [4,2,1,3] or [5,2,1,3].\n",
    "</p>\n",
    "\n",
    "<p><b>Note:</b>\n",
    "The length of path between two nodes is represented by the number of edges between them.\n",
    "</p>\n",
    "<!--Copy Paste Leetcode statement between-->\n",
    "\n",
    "<p>&nbsp;</p>\n",
    "<a href=\"https://leetcode.com/problems/diameter-of-binary-tree/\">Source</a> \n",
    "<hr>"
   ]
  },
  {
   "cell_type": "code",
   "execution_count": 1,
   "metadata": {},
   "outputs": [],
   "source": [
    "# Definition for a binary tree node.\n",
    "class TreeNode:\n",
    "    def __init__(self, val=0, left=None, right=None):\n",
    "        self.val = val\n",
    "        self.left = left\n",
    "        self.right = right"
   ]
  },
  {
   "cell_type": "code",
   "execution_count": 2,
   "metadata": {},
   "outputs": [],
   "source": [
    "def bt_diameter(root):\n",
    "    \"\"\"DFS using a recursive approach\n",
    "    Time Complexity: O(n)\n",
    "    Space Complexity: O(n)\n",
    "    \"\"\"\n",
    "    def height(node):\n",
    "        nonlocal global_diameter\n",
    "        # base case\n",
    "        if not node:\n",
    "            return -1\n",
    "        # recursive relation\n",
    "        left = height(node.left)\n",
    "        right = height(node.right)\n",
    "        local_diameter = 2 + left + right\n",
    "        if local_diameter > global_diameter:\n",
    "            global_diameter = local_diameter\n",
    "        return 1 + max(left, right)\n",
    "\n",
    "    global_diameter = 0\n",
    "    height(root)\n",
    "    return global_diameter"
   ]
  },
  {
   "cell_type": "markdown",
   "metadata": {},
   "source": [
    "<hr>\n",
    "<h4>Follow up:</h4>\n",
    "<p>Solve it both recursively and iteratively</p>\n",
    "\n",
    "<h4>Code</h4>"
   ]
  },
  {
   "cell_type": "code",
   "execution_count": 8,
   "metadata": {},
   "outputs": [],
   "source": [
    "def bt_diameter(root):\n",
    "    \"\"\"BFS (level traversal) using a bottom up iterative approach - see leetcode #110)\n",
    "    Time Complexity: O(n)\n",
    "    Space Complexity: O(n)\n",
    "    \"\"\"\n",
    "    global_diameter = 0\n",
    "\n",
    "    # Start with a level traversal (using a stack)\n",
    "    queue = [root]\n",
    "    for node in queue:  \n",
    "        if not node:\n",
    "            continue\n",
    "        queue += node.left, node.right  # last nodes --> full layer of \"None\"\n",
    "\n",
    "    # then, traverse nodes in reverse (i.e from bottom layer)and update their height\n",
    "    # by conv. height of bottom nodes = 0 (i.e last nodes being \"None\" have depth = -1)\n",
    "    height = {None: -1}\n",
    "    for node in reversed(queue):\n",
    "        if node:\n",
    "            height_left = height[node.left]\n",
    "            height_right = height[node.right]\n",
    "            height[node] = 1 + max(height_left, height_right)\n",
    "            local_diameter = 2 + height_left + height_right\n",
    "            if local_diameter > global_diameter:\n",
    "                global_diameter = local_diameter\n",
    "    return global_diameter"
   ]
  }
 ],
 "metadata": {
  "kernelspec": {
   "display_name": "Python 3",
   "language": "python",
   "name": "python3"
  },
  "language_info": {
   "codemirror_mode": {
    "name": "ipython",
    "version": 3
   },
   "file_extension": ".py",
   "mimetype": "text/x-python",
   "name": "python",
   "nbconvert_exporter": "python",
   "pygments_lexer": "ipython3",
   "version": "3.8.2"
  }
 },
 "nbformat": 4,
 "nbformat_minor": 1
}
