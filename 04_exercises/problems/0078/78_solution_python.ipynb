{
 "cells": [
  {
   "cell_type": "markdown",
   "metadata": {},
   "source": [
    "<h1>78. Subsets</h1>\n",
    "<hr>\n",
    "\n",
    "<!--Copy Paste Leetcode statement between-->\n",
    "<p>Given an integer array <code>nums</code> of <strong>unique</strong> elements, return <em>all possible subsets (the power set)</em>.</p>\n",
    "\n",
    "<p>The solution set <strong>must not</strong> contain duplicate subsets. Return the solution in <strong>any order</strong>.</p>\n",
    "\n",
    "<p>&nbsp;</p>\n",
    "<p><strong>Example 1:</strong></p>\n",
    "\n",
    "<pre><strong>Input:</strong> nums = [1,2,3]\n",
    "<strong>Output:</strong> [[],[1],[2],[1,2],[3],[1,3],[2,3],[1,2,3]]\n",
    "</pre>\n",
    "\n",
    "<p><strong>Example 2:</strong></p>\n",
    "\n",
    "<pre><strong>Input:</strong> nums = [0]\n",
    "<strong>Output:</strong> [[],[0]]\n",
    "</pre>\n",
    "\n",
    "<p>&nbsp;</p>\n",
    "<p><strong>Constraints:</strong></p>\n",
    "\n",
    "<ul>\n",
    "\t<li><code>1 &lt;= nums.length &lt;= 10</code></li>\n",
    "\t<li><code>-10 &lt;= nums[i] &lt;= 10</code></li>\n",
    "\t<li>All the numbers of&nbsp;<code>nums</code> are <strong>unique</strong>.</li>\n",
    "</ul>\n",
    "<!--Copy Paste Leetcode statement between-->\n",
    "\n",
    "<p>&nbsp;</p>\n",
    "<a href=\"https://leetcode.com/problems/subsets/\">Source</a> \n",
    "<hr>"
   ]
  },
  {
   "cell_type": "markdown",
   "metadata": {},
   "source": [
    "<h4>Code</h4>"
   ]
  },
  {
   "cell_type": "code",
   "execution_count": 1,
   "metadata": {},
   "outputs": [],
   "source": [
    "def subsets(nums):\n",
    "    \"\"\"Recursive approach.\n",
    "    f([a,b,c,d]) = [a] + f([b,c,d]) + [a, X] with X in f([b,c,d])\n",
    "    \"\"\"\n",
    "    def helper(arr):\n",
    "        if len(arr) == 1:\n",
    "            return [arr]\n",
    "        for element in arr:\n",
    "            powerset = helper(arr[1:])\n",
    "            return [[element], *powerset, *[[element] + s for s in powerset]] # unpack with *\n",
    "\n",
    "    result = [[]]\n",
    "    result.extend(helper(nums))\n",
    "    return result"
   ]
  },
  {
   "cell_type": "code",
   "execution_count": 2,
   "metadata": {},
   "outputs": [],
   "source": [
    "def subsets(nums):\n",
    "    \"\"\"Alternative version of above solution.\"\"\"\n",
    "    def helper(nums, path):\n",
    "        nonlocal result\n",
    "        result.append(path)\n",
    "        for i, _ in enumerate(nums):\n",
    "            helper(nums[i+1:], path + [nums[i]])\n",
    "\n",
    "    result = []\n",
    "    helper(nums, [])\n",
    "    return result"
   ]
  },
  {
   "cell_type": "markdown",
   "metadata": {},
   "source": [
    "<h4>Check</h4>"
   ]
  },
  {
   "cell_type": "code",
   "execution_count": 3,
   "metadata": {},
   "outputs": [
    {
     "data": {
      "text/plain": [
       "[[], [1], [1, 2], [1, 2, 3], [1, 3], [2], [2, 3], [3]]"
      ]
     },
     "execution_count": 3,
     "metadata": {},
     "output_type": "execute_result"
    }
   ],
   "source": [
    "nums = [1,2,3]\n",
    "subsets(nums)"
   ]
  },
  {
   "cell_type": "code",
   "execution_count": 4,
   "metadata": {},
   "outputs": [
    {
     "data": {
      "text/plain": [
       "[[], [0]]"
      ]
     },
     "execution_count": 4,
     "metadata": {},
     "output_type": "execute_result"
    }
   ],
   "source": [
    "nums = [0]\n",
    "subsets(nums)"
   ]
  },
  {
   "cell_type": "markdown",
   "metadata": {},
   "source": [
    "<hr>\n",
    "<h4>Follow up #1:</h4>\n",
    "<p>Solve it both recursively and iteratively.</p>\n",
    "\n",
    "<h4>Code</h4>"
   ]
  },
  {
   "cell_type": "code",
   "execution_count": 5,
   "metadata": {},
   "outputs": [],
   "source": [
    "def subsets(nums):\n",
    "    \"\"\"Iterative approach\"\"\"\n",
    "    result = [[]]\n",
    "    for n in nums:\n",
    "        # Option A\n",
    "        # result += [[n] + subset for subset in result]\n",
    "\n",
    "        # Option B: using a generator\n",
    "        powerset = ([n] + subset for subset in result)\n",
    "        result.extend(list(powerset))\n",
    "\n",
    "    return result"
   ]
  },
  {
   "cell_type": "markdown",
   "metadata": {},
   "source": [
    "<hr>\n",
    "<h4>Follow up #2:</h4>\n",
    "<p>Solve it using the built-in methodes reduce, combinations or using bit manipulations</p>\n",
    "\n",
    "<h4>Code</h4>"
   ]
  },
  {
   "cell_type": "code",
   "execution_count": 6,
   "metadata": {},
   "outputs": [],
   "source": [
    "from functools import reduce\n",
    "\n",
    "def subsets(nums):\n",
    "    \"\"\"Using builtin reduce() method\n",
    "    \"\"\"\n",
    "    def helper(powerset, n):\n",
    "        new_set = []\n",
    "        for s in powerset:\n",
    "             new_set += s + [n],\n",
    "        return powerset + new_set\n",
    "\n",
    "    return reduce(helper, nums, [[]])"
   ]
  },
  {
   "cell_type": "code",
   "execution_count": 7,
   "metadata": {},
   "outputs": [],
   "source": [
    "from functools import reduce\n",
    "\n",
    "def subsets(nums):\n",
    "    \"\"\"One liner version of above solution\"\"\"\n",
    "    return reduce(lambda subsets, n: subsets + [s + [n] for s in subsets], nums, [[]])"
   ]
  },
  {
   "cell_type": "code",
   "execution_count": 8,
   "metadata": {},
   "outputs": [],
   "source": [
    "from itertools import combinations\n",
    "\n",
    "def subsets(nums):\n",
    "    \"\"\"Using builtin combinations() method which returns (tuples) subsequences of length r\n",
    "    combinations('ABCD', 2) --> AB AC AD BC BD CD\n",
    "    combinations('ABCD', 3) --> ABC ABD ACD BCD\n",
    "    \"\"\"\n",
    "    result = []\n",
    "    n = len(nums)\n",
    "    for i in range(n+1):\n",
    "        # Option A\n",
    "        result += map(list, combinations(nums, i))\n",
    "        # Option B \n",
    "#         result.extend(map(list, combinations(nums, i)))  # use extend not append\n",
    "    return result"
   ]
  },
  {
   "cell_type": "code",
   "execution_count": 9,
   "metadata": {},
   "outputs": [],
   "source": [
    "from itertools import combinations\n",
    "\n",
    "def subsets(nums):\n",
    "    \"\"\"One liner version of above solution\"\"\"\n",
    "    n = len(nums)\n",
    "    return [s for i in range(n+1) for s in combinations(nums, i)]"
   ]
  },
  {
   "cell_type": "code",
   "execution_count": 10,
   "metadata": {},
   "outputs": [],
   "source": [
    "def subsets(nums):\n",
    "    \"\"\"Using bit manipulation\n",
    "        [a, b, c, d]\n",
    "     x   0  0  0  0   =  []\n",
    "     x   0  0  0  1   =  [d]\n",
    "     x   0  0  1  0   =  [c]\n",
    "         ...\n",
    "     x   1  1  1  1   =  [a, b, c, d]\n",
    "    \"\"\"\n",
    "    n = len(nums)\n",
    "    nb_bit = '{:0' + str(n) + 'b}'  # '{0Xb:}' with X = len(nums)\n",
    "\n",
    "    result = []\n",
    "    for i in range(2**n):\n",
    "        bit_mask = nb_bit.format(i)  # generate strings from 00...0 to 11...1\n",
    "        result += [nums[idx] for idx in range(n) if bit_mask[idx] == '1'],\n",
    "\n",
    "    return result"
   ]
  },
  {
   "cell_type": "code",
   "execution_count": null,
   "metadata": {},
   "outputs": [],
   "source": [
    "def subsets(nums):\n",
    "    \"\"\"One liner version of above solution\"\"\"\n",
    "    n = len(nums)\n",
    "    nb_bit = '{:0' + str(n) + 'b}'\n",
    "\n",
    "    bit_masks = (nb_bit.format(i) for i in range(2**n))\n",
    "    return [[nums[i] for i, on in enumerate(mask) if on == '1'] for mask in bit_masks]"
   ]
  },
  {
   "cell_type": "code",
   "execution_count": 11,
   "metadata": {},
   "outputs": [],
   "source": [
    "from itertools import product\n",
    "\n",
    "def subsets(nums):\n",
    "    \"\"\"Alternative solution using bit manipulation\"\"\"\n",
    "    n = len(nums)\n",
    "    bit_masks = product((0, 1), repeat=n)  # generate (0,0..,0) (0,0..,1) ... (1,0..,0) ... (1,1..,1)\n",
    "    \n",
    "    result = []\n",
    "    for mask in bit_masks:\n",
    "        result += [nums[i] for i, on in enumerate(mask) if on],\n",
    "    return result"
   ]
  },
  {
   "cell_type": "code",
   "execution_count": 14,
   "metadata": {},
   "outputs": [],
   "source": [
    "from itertools import product\n",
    "\n",
    "def subsets(nums):\n",
    "    \"\"\"One liner version of above solution\"\"\"\n",
    "    bit_masks = product((0, 1), repeat=len(nums))\n",
    "    return [[nums[i] for i, on in enumerate(mask) if on] for mask in bit_masks]"
   ]
  }
 ],
 "metadata": {
  "kernelspec": {
   "display_name": "Python 3",
   "language": "python",
   "name": "python3"
  },
  "language_info": {
   "codemirror_mode": {
    "name": "ipython",
    "version": 3
   },
   "file_extension": ".py",
   "mimetype": "text/x-python",
   "name": "python",
   "nbconvert_exporter": "python",
   "pygments_lexer": "ipython3",
   "version": "3.8.2"
  }
 },
 "nbformat": 4,
 "nbformat_minor": 1
}
