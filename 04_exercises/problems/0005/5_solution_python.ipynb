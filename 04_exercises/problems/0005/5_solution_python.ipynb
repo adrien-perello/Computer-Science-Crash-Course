{
 "cells": [
  {
   "cell_type": "markdown",
   "metadata": {},
   "source": [
    "<h1>5. Longest Palindromic Substring</h1>\n",
    "<hr>\n",
    "\n",
    "<!--Copy Paste Leetcode statement between-->\n",
    "<p>Given a string <code>s</code>, return&nbsp;<em>the longest palindromic substring</em> in <code>s</code>.</p>\n",
    "\n",
    "<p>&nbsp;</p>\n",
    "<p><strong>Example 1:</strong></p>\n",
    "\n",
    "<pre><strong>Input:</strong> s = \"babad\"\n",
    "<strong>Output:</strong> \"bab\"\n",
    "<strong>Note:</strong> \"aba\" is also a valid answer.\n",
    "</pre>\n",
    "\n",
    "<p><strong>Example 2:</strong></p>\n",
    "\n",
    "<pre><strong>Input:</strong> s = \"cbbd\"\n",
    "<strong>Output:</strong> \"bb\"\n",
    "</pre>\n",
    "\n",
    "<p><strong>Example 3:</strong></p>\n",
    "\n",
    "<pre><strong>Input:</strong> s = \"a\"\n",
    "<strong>Output:</strong> \"a\"\n",
    "</pre>\n",
    "\n",
    "<p><strong>Example 4:</strong></p>\n",
    "\n",
    "<pre><strong>Input:</strong> s = \"ac\"\n",
    "<strong>Output:</strong> \"a\"\n",
    "</pre>\n",
    "\n",
    "<p>&nbsp;</p>\n",
    "<p><strong>Constraints:</strong></p>\n",
    "\n",
    "<ul>\n",
    "\t<li><code>1 &lt;= s.length &lt;= 1000</code></li>\n",
    "\t<li><code>s</code> consist of only digits and English letters (lower-case and/or upper-case),</li>\n",
    "</ul>\n",
    "<!--Copy Paste Leetcode statement between-->\n",
    "\n",
    "<p>&nbsp;</p>\n",
    "<a href=\"https://leetcode.com/problems/longest-palindromic-substring/\">Source</a> \n",
    "<hr>\n",
    "<h4>Code</h4>"
   ]
  },
  {
   "cell_type": "code",
   "execution_count": 1,
   "metadata": {},
   "outputs": [],
   "source": [
    "def longest_palindrom(s):\n",
    "    \"\"\"iterative Dynamic Programming (expansion from center)\n",
    "    Time Complexity: O(n²)\n",
    "    Space Complexity: O(n)\n",
    "    \"\"\"\n",
    "    if len(s) == 1:\n",
    "        return s\n",
    "\n",
    "    s = '-'.join(s)  # This ensure the string will have an odd length (2n-1)\n",
    "    result = \"\"\n",
    "    for mid, _ in enumerate(s[1:], 1):\n",
    "        max_len = mid if mid <= len(s)//2 else len(s)-1-mid\n",
    "        if max_len < len(result):  # exit if length of potential palindrom\n",
    "            break                  # is smaller than what we already have\n",
    "        x = 1\n",
    "        while x <= max_len and s[mid-x] == s[mid+x]:\n",
    "            x += 1\n",
    "        candidate = s[mid-x+1:mid+x].replace(\"-\", \"\")  # s[L] != s[R]  AND  s[L:R] ==> L included : R excluded\n",
    "        if len(result) < len(candidate):           # but we don't want L either\n",
    "            result = candidate\n",
    "    return result"
   ]
  },
  {
   "cell_type": "code",
   "execution_count": 2,
   "metadata": {},
   "outputs": [],
   "source": [
    "def longest_palindrom(s):\n",
    "    \"\"\"alternative version of above solution (using a helper function)\n",
    "    Note: this is main to help to transition to the solution below\n",
    "    \"\"\"\n",
    "    def expand(s, left, right):\n",
    "        \"\"\"helper function\"\"\"\n",
    "        while left >= 0 and right < len(s) and s[left] == s[right]:\n",
    "            left -= 1\n",
    "            right += 1\n",
    "        return s[left+1:right]  # s[L] != s[R] AND s[L:R] --> L included : R excluded\n",
    "\n",
    "\n",
    "    if len(s) == 1:\n",
    "        return s\n",
    "    s = '-'.join(s)\n",
    "    result = ''\n",
    "    for mid,_ in enumerate(s[1:], 1):\n",
    "        max_len = mid if 2*mid <= len(s) else len(s)-1-mid\n",
    "        if max_len < len(result):\n",
    "            break\n",
    "        candidate = expand(s, mid, mid).replace(\"-\", \"\")\n",
    "        if len(result) < len(candidate):\n",
    "            result = candidate\n",
    "    return result"
   ]
  },
  {
   "cell_type": "code",
   "execution_count": 3,
   "metadata": {},
   "outputs": [],
   "source": [
    "def longest_palindrom(s):\n",
    "    \"\"\"smarter use of above idea --> avoid adding symbol between characters of s\n",
    "    Time Complexity: O(n²)\n",
    "    Space Complexity: O(1)\n",
    "    \"\"\"\n",
    "    def expand(s, left, right):\n",
    "        while left >= 0 and right < len(s) and s[left] == s[right]:\n",
    "            left -= 1\n",
    "            right += 1\n",
    "        return s[left+1:right]  # s[L] != s[R] AND s[L:R] --> L included : R excluded\n",
    "\n",
    "\n",
    "    if len(s) == 1:\n",
    "        return s\n",
    "    result = ''\n",
    "    for i, _ in enumerate(s):  # here we have to start from 0\n",
    "        if len(s)-i <= len(result)//2:  # if length of potential palindrom is\n",
    "            break                       # smaller than what we already have\n",
    "        odd = expand(s, i, i)\n",
    "        even = expand(s, i, i+1)\n",
    "        result = max(result, odd, even, key=len)\n",
    "    return result"
   ]
  },
  {
   "cell_type": "markdown",
   "metadata": {},
   "source": [
    "<h4>Check</h4>"
   ]
  },
  {
   "cell_type": "code",
   "execution_count": 4,
   "metadata": {},
   "outputs": [
    {
     "data": {
      "text/plain": [
       "'bab'"
      ]
     },
     "execution_count": 4,
     "metadata": {},
     "output_type": "execute_result"
    }
   ],
   "source": [
    "s = \"babad\"\n",
    "longest_palindrom(s)"
   ]
  },
  {
   "cell_type": "code",
   "execution_count": 5,
   "metadata": {},
   "outputs": [
    {
     "data": {
      "text/plain": [
       "'bb'"
      ]
     },
     "execution_count": 5,
     "metadata": {},
     "output_type": "execute_result"
    }
   ],
   "source": [
    "s = \"cbbd\"\n",
    "longest_palindrom(s)"
   ]
  },
  {
   "cell_type": "code",
   "execution_count": 6,
   "metadata": {},
   "outputs": [
    {
     "data": {
      "text/plain": [
       "'a'"
      ]
     },
     "execution_count": 6,
     "metadata": {},
     "output_type": "execute_result"
    }
   ],
   "source": [
    "s = \"a\"\n",
    "longest_palindrom(s)"
   ]
  },
  {
   "cell_type": "code",
   "execution_count": 7,
   "metadata": {},
   "outputs": [
    {
     "data": {
      "text/plain": [
       "'a'"
      ]
     },
     "execution_count": 7,
     "metadata": {},
     "output_type": "execute_result"
    }
   ],
   "source": [
    "s = \"ac\"\n",
    "longest_palindrom(s)"
   ]
  },
  {
   "cell_type": "code",
   "execution_count": 8,
   "metadata": {},
   "outputs": [
    {
     "data": {
      "text/plain": [
       "'geeksaskeeg'"
      ]
     },
     "execution_count": 8,
     "metadata": {},
     "output_type": "execute_result"
    }
   ],
   "source": [
    "s = \"forgeeksaskeegfor\"\n",
    "longest_palindrom(s)"
   ]
  },
  {
   "cell_type": "markdown",
   "metadata": {},
   "source": [
    "<hr>\n",
    "<h4>Going Further:</h4>\n",
    "<p>Following are implementations of the Manacher algorithm which solves the problem in O(n) Time.</p>\n",
    "\n",
    "<h4>Code</h4>"
   ]
  },
  {
   "cell_type": "code",
   "execution_count": 9,
   "metadata": {},
   "outputs": [],
   "source": [
    "def longest_palindrom(s):\n",
    "    \"\"\"special adaptation of Manacher algorithm\"\"\"\n",
    "    s_len = len(s)\n",
    "    if s_len == 1:\n",
    "        return s\n",
    "\n",
    "    start, max_len = 0, 1\n",
    "    for i, _ in enumerate(s[1:], 1):\n",
    "\n",
    "        odd = s[i-max_len-1: i+1]\n",
    "        if i-max_len-1 >= 0 and odd == odd[::-1]:\n",
    "            start = i-max_len-1\n",
    "            max_len += 2\n",
    "            continue\n",
    "\n",
    "        even = s[i-max_len: i+1]\n",
    "        if even == even[::-1]:\n",
    "            start = i-max_len\n",
    "            max_len += 1\n",
    "\n",
    "    return s[start: start+max_len]"
   ]
  },
  {
   "cell_type": "code",
   "execution_count": 10,
   "metadata": {},
   "outputs": [],
   "source": [
    "def longest_palindrom(s):\n",
    "    \"\"\"Manacher algorithm\n",
    "    https://www.wikiwand.com/en/Longest_palindromic_substring\n",
    "    https://hackernoon.com/manachers-algorithm-explained-longest-palindromic-substring-22cb27a5e96fmana\n",
    "    \"\"\"\n",
    "    string = '-' + '-'.join(s) + '-'\n",
    "    n = len(string)\n",
    "    LPS = [0] * n\n",
    "    mid = 0    # stores the center of the longest palindromic substring until now\n",
    "    right = 0  # stores the right boundary of the longest palindromic substring until now\n",
    "\n",
    "    for i, _ in enumerate(string[1:-1], 1):\n",
    "        mirror_i = mid - (i - mid)  # get mirror index of i\n",
    "\n",
    "        if i < right:  # check if mirror expanded beyond the left boundary of current longest \n",
    "            LPS[i] = min(right-i, LPS[mirror_i])  # palindrome at center c, if it did P[i] = r-i\n",
    "\n",
    "        L = i - (LPS[i] + 1)  # expand at i\n",
    "        R =  i + (LPS[i] + 1)\n",
    "        while R < n and L >= 0 and string[L] == string[R]:\n",
    "            LPS[i] += 1\n",
    "            R += 1\n",
    "            L -= 1\n",
    "\n",
    "        if right < i + LPS[i]:   # check if the expanded palindrome at i is expanding beyond the\n",
    "            mid = i              # right boundary of current longest palindrome at center c\n",
    "            right = i + LPS[i]   # if it did, the new center is i\n",
    "\n",
    "\n",
    "    length = max(LPS)\n",
    "    center = LPS.index(length)\n",
    "    start = (center - length)//2\n",
    "    return s[start: start+length]"
   ]
  },
  {
   "cell_type": "code",
   "execution_count": 11,
   "metadata": {},
   "outputs": [],
   "source": [
    "def longest_palindrom(s):\n",
    "    \"\"\"alternative Manacher algorithm\n",
    "    Compute an array with length of max palindrom for each character of s\n",
    "\n",
    "    Note: len(array) = 2n + 1 because the center of a palindrom could be\n",
    "            - a character if len(palindrom) is odd \n",
    "            - in between 2 characters if len(palindrom) is even \n",
    "    \n",
    "    Time complexity: O(n)\n",
    "    Space complexity: O(n)\n",
    "\n",
    "    + details explanations: https://www.akalin.com/longest-palindrome-linear-time\n",
    "    \"\"\"\n",
    "    n = len(s)\n",
    "    LPS = []  # list of the lenght of max palindrom of centered around index\n",
    "    max_len = 0\n",
    "\n",
    "    i = 0\n",
    "    while i < n:\n",
    "        # Loop invariant: s[i-max_len:i] is a palindrome.\n",
    "        # Loop invariant: len(arr_pal_lengths) >= 2*i - max_len.\n",
    "        # The code path that increments max_len skips\n",
    "        # the arr_pal_lengths-filling inner-loop.\n",
    "        # Loop invariant: len(arr_pal_lengths) < 2*i + 1.\n",
    "        # Any code path that increments i past max_len - 1 exits the loop early\n",
    "        # and so skips the l-filling inner loop.\n",
    "\n",
    "        if i > max_len and s[i-max_len-1] == s[i]:  # check if we can extend the current palindrome.\n",
    "            max_len += 2                            # Note: the center of the palindrome remains fixed.\n",
    "            i += 1\n",
    "            continue\n",
    "\n",
    "        LPS.append(max_len)  # The current palindrome is as large as it gets, so we add it\n",
    "\n",
    "        # Now to make further progress, we look for a smaller palindrome\n",
    "        # sharing the right edge with the current palindrome. \n",
    "        # If we find one, we can try to expand it and see where that takes us.\n",
    "        # At the same time, we can fill the values for arr_pal_lengths that\n",
    "        # we neglected during the loop above. We make use of our knowledge of\n",
    "        # the length of the previous palindrome (max_len) and the fact that\n",
    "        # the values of arr_pal_lengths for positions on the right half of \n",
    "        # the palindrome are closely related to the values of the corresponding\n",
    "        # positions on the left half of the palindrome.\n",
    "\n",
    "        # Traverse backwards starting from the second-to-last index up\n",
    "        # to the edge of the last palindrome.\n",
    "        right = len(LPS) - 2\n",
    "        left = right - max_len\n",
    "\n",
    "        for j in range(right, left, -1):\n",
    "            d = j - left - 1   # d is the value arr_pal_lengths[j] must have in order for the\n",
    "                                # palindrome centered there to share the left edge with the last palindrome\n",
    "\n",
    "            if LPS[j] == d:  # We actually want to go to the beginning of the outer loop,\n",
    "                max_len = d              # but Python doesn't have loop labels.  Instead, we use an \n",
    "                break                    # else block corresponding to the inner loop, which gets\n",
    "                #                        # executed only when the for loop exits normally (i.e. no break)\n",
    "\n",
    "            curr_len = min(d, LPS[j])  # We have to bound l[i] because palindromes on the left side\n",
    "            LPS.append(curr_len)       # could extend past the left edge of the last palindrome\n",
    "            #                          # whereas their counterparts won't extend past the right edge\n",
    "\n",
    "        else:\n",
    "            # This code is executed in two cases:\n",
    "            # when the for loop isn't taken at all (max_len == 0) \n",
    "            # or the inner loop was nable to find a palindrome sharing t\n",
    "            # the left edge with the last palindrome.\n",
    "            # In either case, we're free to consider the palindrome centered at s[i]\n",
    "            max_len = 1\n",
    "            i += 1\n",
    "\n",
    "    # We know from the loop invariant that len(l) < 2 * seqLen + 1, so\n",
    "    # we must fill in the remaining values of l.\n",
    "\n",
    "    LPS.append(max_len)  # Obviously, the last palindrome we're looking at can't grow any more\n",
    "\n",
    "    # Traverse backwards starting from the second-to-last index up until\n",
    "    # we get arr_pal_lengths to size 2 * seqLen + 1. We can deduce from the\n",
    "    # loop invariants we have enough elements.\n",
    "    lLen = len(LPS)\n",
    "    right = lLen - 2\n",
    "    left = right - (2*n + 1 - lLen)\n",
    "\n",
    "    for i in range(right, left, -1):\n",
    "        d = i - left - 1  # d = distance to left edge of the last palindrome\n",
    "\n",
    "        curr_len = min(d, LPS[i])  # We bound l[i] with min for the same reason as in the inner\n",
    "        LPS.append(curr_len)       # loop above.\n",
    "\n",
    "\n",
    "    length = max(LPS)\n",
    "    center = LPS.index(length)\n",
    "    start = (center - length)//2\n",
    "    return s[start: start+length]"
   ]
  }
 ],
 "metadata": {
  "kernelspec": {
   "display_name": "Python 3",
   "language": "python",
   "name": "python3"
  },
  "language_info": {
   "codemirror_mode": {
    "name": "ipython",
    "version": 3
   },
   "file_extension": ".py",
   "mimetype": "text/x-python",
   "name": "python",
   "nbconvert_exporter": "python",
   "pygments_lexer": "ipython3",
   "version": "3.8.2"
  }
 },
 "nbformat": 4,
 "nbformat_minor": 1
}
