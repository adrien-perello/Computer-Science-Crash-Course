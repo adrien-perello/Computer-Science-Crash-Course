{
 "cells": [
  {
   "cell_type": "markdown",
   "metadata": {},
   "source": [
    "<h1>1337. The K Weakest Rows in a Matrix</h1>\n",
    "<hr>\n",
    "\n",
    "<!--Copy Paste Leetcode statement between-->\n",
    "<p>Given a <code>m&nbsp;* n</code>&nbsp;matrix <code>mat</code> of <em>ones</em>&nbsp;(representing soldiers) and <em>zeros</em>&nbsp;(representing civilians), return the indexes of the <code>k</code> weakest rows in the matrix ordered from the weakest to the strongest.</p>\n",
    "\n",
    "<p>A row <em><strong>i</strong></em> is weaker than row <em><strong>j</strong></em>, if the number of soldiers in row <em><strong>i</strong></em> is less than the number of soldiers in row <em><strong>j</strong></em>, or they have the same number of soldiers but <em><strong>i</strong></em> is less than <em><strong>j</strong></em>. Soldiers are <strong>always</strong> stand in the frontier of a row, that is, always <em>ones</em>&nbsp;may appear first and then <em>zeros</em>.</p>\n",
    "\n",
    "<p>&nbsp;</p>\n",
    "<p><strong>Example 1:</strong></p>\n",
    "\n",
    "<pre><strong>Input:</strong> mat = \n",
    "[[1,1,0,0,0],\n",
    " [1,1,1,1,0],\n",
    " [1,0,0,0,0],\n",
    " [1,1,0,0,0],\n",
    " [1,1,1,1,1]], \n",
    "k = 3\n",
    "<strong>Output:</strong> [2,0,3]\n",
    "<strong>Explanation:</strong> \n",
    "The number of soldiers for each row is: \n",
    "row 0 -&gt; 2 \n",
    "row 1 -&gt; 4 \n",
    "row 2 -&gt; 1 \n",
    "row 3 -&gt; 2 \n",
    "row 4 -&gt; 5 \n",
    "Rows ordered from the weakest to the strongest are [2,0,3,1,4]\n",
    "</pre>\n",
    "\n",
    "<p><strong>Example 2:</strong></p>\n",
    "\n",
    "<pre><strong>Input:</strong> mat = \n",
    "[[1,0,0,0],\n",
    "&nbsp;[1,1,1,1],\n",
    "&nbsp;[1,0,0,0],\n",
    "&nbsp;[1,0,0,0]], \n",
    "k = 2\n",
    "<strong>Output:</strong> [0,2]\n",
    "<strong>Explanation:</strong> \n",
    "The number of soldiers for each row is: \n",
    "row 0 -&gt; 1 \n",
    "row 1 -&gt; 4 \n",
    "row 2 -&gt; 1 \n",
    "row 3 -&gt; 1 \n",
    "Rows ordered from the weakest to the strongest are [0,2,3,1]\n",
    "</pre>\n",
    "\n",
    "<p>&nbsp;</p>\n",
    "<p><strong>Constraints:</strong></p>\n",
    "\n",
    "<ul>\n",
    "\t<li><code>m == mat.length</code></li>\n",
    "\t<li><code>n == mat[i].length</code></li>\n",
    "\t<li><code><font face=\"monospace\">2 &lt;= n, m &lt;= 100</font></code></li>\n",
    "\t<li><code>1 &lt;= k &lt;= m</code></li>\n",
    "\t<li><code>matrix[i][j]</code> is either 0 <strong>or</strong> 1.</li>\n",
    "</ul>\n",
    "<!--Copy Paste Leetcode statement between-->\n",
    "\n",
    "<p>&nbsp;</p>\n",
    "<a href=\"https://leetcode.com/problems/the-k-weakest-rows-in-a-matrix/\">Source</a> \n",
    "<hr>\n",
    "\n",
    "<h4>Code</h4>"
   ]
  },
  {
   "cell_type": "code",
   "execution_count": 1,
   "metadata": {},
   "outputs": [],
   "source": [
    "import heapq\n",
    "\n",
    "def k_weakest_rows(mat, k):\n",
    "    \"\"\"Using heap\n",
    "      Note:\n",
    "        - Kth largest element --> maintain MinHeap of K elements and return the smallest (= root)\n",
    "          Kth smallest element --> maintain MaxHeap of K elements and return the largest (= root)\n",
    "        - But heapq = minheap\n",
    "          TRICK: minheap(array) = maxheap(-1 x array), then return root (smallest)\n",
    "\n",
    "    Time complexity: O(m * (log n + log k) + k log k)\n",
    "        - iterate over each row = O(m)\n",
    "        - binary search to find nb of soldiers = O(log n)\n",
    "        - add value to the heap = O(log k)\n",
    "        - convert heap into sorted array = O(k log k)\n",
    "    Space complexity: O(k)\n",
    "    \"\"\"\n",
    "    def binarysearch(row):\n",
    "        \"\"\"helper function.\"\"\"\n",
    "        if row[-1] == 1:    # quick cheks\n",
    "            return n        # to speed up\n",
    "        if row[0] == 0:     # the search\n",
    "            return 0        # not strictly needed\n",
    "        left = 0\n",
    "        right = n\n",
    "        while left < right:\n",
    "            mid = (left + right) // 2\n",
    "            if row[mid] == 0:\n",
    "                right = mid\n",
    "            else:\n",
    "                left = mid+1\n",
    "        return left  # = mid+1 from previous round = nb of 1s\n",
    "\n",
    "    n = len(mat[0])\n",
    "    heap = []\n",
    "    for i, row in enumerate(mat):\n",
    "        tup = (-binarysearch(row), -i)  # store index of row + nb soldiers (x-1 because heapq = minheap)\n",
    "        if len(heap) < k:\n",
    "            heapq.heappush(heap, tup)\n",
    "        elif tup > heap[0]:\n",
    "            heapq.heappushpop(heap, tup)\n",
    "\n",
    "    weakest_rows = []\n",
    "    while heap:  # convert heap into sorted array = pop smallest (which rearrange the heap)\n",
    "        weakest_rows.append(-heapq.heappop(heap)[1])\n",
    "    return list(reversed(weakest_rows))"
   ]
  },
  {
   "cell_type": "code",
   "execution_count": 2,
   "metadata": {},
   "outputs": [],
   "source": [
    "from collections import deque\n",
    "import heapq\n",
    "\n",
    "def k_weakest_rows(mat, k):\n",
    "    def binarysearch(row):\n",
    "        \"\"\"helper function.\"\"\"\n",
    "        if row[-1] == 1:\n",
    "            return n\n",
    "        if row[0] == 0:\n",
    "            return 0\n",
    "        left = 0\n",
    "        right = n\n",
    "        while left < right:\n",
    "            mid = (left + right) // 2\n",
    "            if row[mid] == 0:\n",
    "                right = mid\n",
    "            else:\n",
    "                left = mid+1\n",
    "        return left\n",
    "\n",
    "    n = len(mat[0])\n",
    "    heap = []\n",
    "    for i, row in enumerate(mat):\n",
    "        tup = (-binarysearch(row), -i)\n",
    "        if len(heap) < k:\n",
    "            heapq.heappush(heap, tup)\n",
    "        elif tup > heap[0]:\n",
    "            heapq.heappushpop(heap, tup)\n",
    "            \n",
    "    weakest_rows = deque()\n",
    "    while heap:\n",
    "        weakest_rows.appendleft(-heapq.heappop(heap)[1])  # different here\n",
    "    return list(weakest_rows)"
   ]
  },
  {
   "cell_type": "markdown",
   "metadata": {},
   "source": [
    "<h4>Check</h4>"
   ]
  },
  {
   "cell_type": "code",
   "execution_count": 3,
   "metadata": {},
   "outputs": [
    {
     "data": {
      "text/plain": [
       "[2, 0, 3]"
      ]
     },
     "execution_count": 3,
     "metadata": {},
     "output_type": "execute_result"
    }
   ],
   "source": [
    "mat = [[1,1,0,0,0], [1,1,1,1,0], [1,0,0,0,0], [1,1,0,0,0], [1,1,1,1,1]]\n",
    "k = 3\n",
    "k_weakest_rows(mat, k)"
   ]
  },
  {
   "cell_type": "code",
   "execution_count": 4,
   "metadata": {},
   "outputs": [
    {
     "data": {
      "text/plain": [
       "[0, 2]"
      ]
     },
     "execution_count": 4,
     "metadata": {},
     "output_type": "execute_result"
    }
   ],
   "source": [
    "mat = [[1,0,0,0], [1,1,1,1], [1,0,0,0], [1,0,0,0]]\n",
    "k = 2\n",
    "k_weakest_rows(mat, k)"
   ]
  }
 ],
 "metadata": {
  "kernelspec": {
   "display_name": "Python 3",
   "language": "python",
   "name": "python3"
  },
  "language_info": {
   "codemirror_mode": {
    "name": "ipython",
    "version": 3
   },
   "file_extension": ".py",
   "mimetype": "text/x-python",
   "name": "python",
   "nbconvert_exporter": "python",
   "pygments_lexer": "ipython3",
   "version": "3.8.2"
  }
 },
 "nbformat": 4,
 "nbformat_minor": 1
}
