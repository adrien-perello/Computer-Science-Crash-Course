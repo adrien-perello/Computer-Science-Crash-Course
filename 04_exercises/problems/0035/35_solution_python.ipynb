{
 "cells": [
  {
   "cell_type": "markdown",
   "metadata": {},
   "source": [
    "<h1>35. Search Insert Position</h1>\n",
    "<hr>\n",
    "\n",
    "<!--Copy Paste Leetcode statement between-->\n",
    "<p>Given a sorted array of distinct integers and a target value, return the index if the target is found. If not, return the index where it would be if it were inserted in order.</p>\n",
    "\n",
    "<p>&nbsp;</p>\n",
    "<p><strong>Example 1:</strong></p>\n",
    "<pre><strong>Input:</strong> nums = [1,3,5,6], target = 5\n",
    "<strong>Output:</strong> 2\n",
    "</pre><p><strong>Example 2:</strong></p>\n",
    "<pre><strong>Input:</strong> nums = [1,3,5,6], target = 2\n",
    "<strong>Output:</strong> 1\n",
    "</pre><p><strong>Example 3:</strong></p>\n",
    "<pre><strong>Input:</strong> nums = [1,3,5,6], target = 7\n",
    "<strong>Output:</strong> 4\n",
    "</pre><p><strong>Example 4:</strong></p>\n",
    "<pre><strong>Input:</strong> nums = [1,3,5,6], target = 0\n",
    "<strong>Output:</strong> 0\n",
    "</pre><p><strong>Example 5:</strong></p>\n",
    "<pre><strong>Input:</strong> nums = [1], target = 0\n",
    "<strong>Output:</strong> 0\n",
    "</pre>\n",
    "<p>&nbsp;</p>\n",
    "<p><strong>Constraints:</strong></p>\n",
    "\n",
    "<ul>\n",
    "\t<li><code>1 &lt;= nums.length &lt;= 10<sup>4</sup></code></li>\n",
    "\t<li><code>-10<sup>4</sup> &lt;= nums[i] &lt;= 10<sup>4</sup></code></li>\n",
    "\t<li><code>nums</code> contains <strong>distinct</strong> values sorted in <strong>ascending</strong> order.</li>\n",
    "\t<li><code>-10<sup>4</sup> &lt;= target &lt;= 10<sup>4</sup></code></li>\n",
    "</ul>\n",
    "<!--Copy Paste Leetcode statement between-->\n",
    "\n",
    "<p>&nbsp;</p>\n",
    "<a href=\"https://leetcode.com/problems/search-insert-position/\">Source</a> \n",
    "<hr>\n",
    "\n",
    "<h4>Code</h4>"
   ]
  },
  {
   "cell_type": "code",
   "execution_count": 1,
   "metadata": {},
   "outputs": [],
   "source": [
    "def search_insert(nums, target):\n",
    "    \"\"\"iterative approach.\"\"\"\n",
    "    # uncoment to make faster\n",
    "    # if target <= nums[0]:\n",
    "    #     return 0\n",
    "    # if nums[-1] == target:\n",
    "    #     return len(nums)-1\n",
    "    # if nums[-1] < target:\n",
    "    #     return len(nums)\n",
    "    left = 0\n",
    "    right = len(nums)-1\n",
    "    while left <= right:\n",
    "        mid = (left + right) // 2\n",
    "        if nums[mid] == target:\n",
    "            return mid\n",
    "        if nums[mid] < target:\n",
    "            left = mid+1\n",
    "        else:\n",
    "            right = mid-1\n",
    "    return left"
   ]
  },
  {
   "cell_type": "code",
   "execution_count": 2,
   "metadata": {},
   "outputs": [],
   "source": [
    "def search_insert(nums, target):\n",
    "    \"\"\"variation of above solution\"\"\"\n",
    "    left = 0\n",
    "    right = len(nums)\n",
    "    mid = (left + right) // 2\n",
    "    while left < right:\n",
    "        if nums[mid] == target:\n",
    "            return mid\n",
    "        if nums[mid] < target:\n",
    "            left = mid+1\n",
    "        else:\n",
    "            right = mid\n",
    "        mid = (left + right) // 2\n",
    "    return mid"
   ]
  },
  {
   "cell_type": "code",
   "execution_count": 3,
   "metadata": {},
   "outputs": [],
   "source": [
    "from bisect import bisect_left\n",
    "\n",
    "def search_insert(nums, target):\n",
    "    \"\"\"Cheating method using bisert.\"\"\"\n",
    "    return bisect_left(nums, target)"
   ]
  },
  {
   "cell_type": "markdown",
   "metadata": {},
   "source": [
    "<h4>Check</h4>"
   ]
  },
  {
   "cell_type": "code",
   "execution_count": 4,
   "metadata": {},
   "outputs": [
    {
     "data": {
      "text/plain": [
       "2"
      ]
     },
     "execution_count": 4,
     "metadata": {},
     "output_type": "execute_result"
    }
   ],
   "source": [
    "nums = [1, 3, 5, 6]\n",
    "target = 5\n",
    "search_insert(nums, target)"
   ]
  },
  {
   "cell_type": "code",
   "execution_count": 5,
   "metadata": {},
   "outputs": [
    {
     "data": {
      "text/plain": [
       "1"
      ]
     },
     "execution_count": 5,
     "metadata": {},
     "output_type": "execute_result"
    }
   ],
   "source": [
    "nums = [1, 3, 5, 6]\n",
    "target = 2\n",
    "search_insert(nums, target)\n"
   ]
  },
  {
   "cell_type": "code",
   "execution_count": 6,
   "metadata": {},
   "outputs": [
    {
     "data": {
      "text/plain": [
       "4"
      ]
     },
     "execution_count": 6,
     "metadata": {},
     "output_type": "execute_result"
    }
   ],
   "source": [
    "nums = [1, 3, 5, 6]\n",
    "target = 7\n",
    "search_insert(nums, target)"
   ]
  },
  {
   "cell_type": "code",
   "execution_count": 7,
   "metadata": {},
   "outputs": [
    {
     "data": {
      "text/plain": [
       "0"
      ]
     },
     "execution_count": 7,
     "metadata": {},
     "output_type": "execute_result"
    }
   ],
   "source": [
    "nums = [1, 3, 5, 6]\n",
    "target = 0\n",
    "search_insert(nums, target)"
   ]
  },
  {
   "cell_type": "code",
   "execution_count": 8,
   "metadata": {},
   "outputs": [
    {
     "data": {
      "text/plain": [
       "0"
      ]
     },
     "execution_count": 8,
     "metadata": {},
     "output_type": "execute_result"
    }
   ],
   "source": [
    "nums = [1]\n",
    "target = 0\n",
    "search_insert(nums, target)"
   ]
  },
  {
   "cell_type": "code",
   "execution_count": 9,
   "metadata": {},
   "outputs": [
    {
     "data": {
      "text/plain": [
       "0"
      ]
     },
     "execution_count": 9,
     "metadata": {},
     "output_type": "execute_result"
    }
   ],
   "source": [
    "nums = []\n",
    "target = 10\n",
    "search_insert(nums, target)"
   ]
  },
  {
   "cell_type": "markdown",
   "metadata": {},
   "source": [
    "<hr>\n",
    "<h4>Follow up:</h4>\n",
    "<p>Can you solve it both iteratively and recursively?</p>\n",
    "\n",
    "<h4>Code</h4>"
   ]
  },
  {
   "cell_type": "code",
   "execution_count": 1,
   "metadata": {},
   "outputs": [],
   "source": [
    "def search_insert(nums, target):\n",
    "    \"\"\"recursive solution\"\"\"\n",
    "    def bs_recur(left, right, target):\n",
    "        nonlocal nums\n",
    "\n",
    "        # base cases\n",
    "        if left > right:\n",
    "            return left\n",
    "        mid = (left + right) // 2\n",
    "        if target == nums[mid]:\n",
    "            return mid\n",
    "\n",
    "        # recursive relation\n",
    "        if target < nums[mid]:\n",
    "            return bs_recur(left, mid - 1, target)\n",
    "        return bs_recur(mid + 1, right, target)\n",
    "\n",
    "    return bs_recur(0, len(nums)-1, target)"
   ]
  }
 ],
 "metadata": {
  "kernelspec": {
   "display_name": "Python 3",
   "language": "python",
   "name": "python3"
  },
  "language_info": {
   "codemirror_mode": {
    "name": "ipython",
    "version": 3
   },
   "file_extension": ".py",
   "mimetype": "text/x-python",
   "name": "python",
   "nbconvert_exporter": "python",
   "pygments_lexer": "ipython3",
   "version": "3.8.2"
  }
 },
 "nbformat": 4,
 "nbformat_minor": 1
}
