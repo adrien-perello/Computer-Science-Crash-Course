{
 "cells": [
  {
   "cell_type": "markdown",
   "metadata": {},
   "source": [
    "# I. Introduction to Python > 10. Conditions and loops\n",
    "\n",
    "**[<< Previous lesson](./09_Bits.ipynb)   |   [Next lesson >>](./11_Functions-and-methods.ipynb)**\n",
    "\n",
    "<hr>\n",
    "&nbsp;"
   ]
  },
  {
   "cell_type": "markdown",
   "metadata": {
    "toc": true
   },
   "source": [
    "<h1>Table of Contents<span class=\"tocSkip\"></span></h1>\n",
    "<div class=\"toc\"><ul class=\"toc-item\"><li><span><a href=\"#If,-elif,-else-statements\" data-toc-modified-id=\"If,-elif,-else-statements-1\"><span class=\"toc-item-num\">1&nbsp;&nbsp;</span><code>If</code>, <code>elif</code>, <code>else</code> statements</a></span></li><li><span><a href=\"#for-loops\" data-toc-modified-id=\"for-loops-2\"><span class=\"toc-item-num\">2&nbsp;&nbsp;</span><code>for</code> loops</a></span></li><li><span><a href=\"#range-function\" data-toc-modified-id=\"range-function-3\"><span class=\"toc-item-num\">3&nbsp;&nbsp;</span><code>range</code> function</a></span></li><li><span><a href=\"#while-loops\" data-toc-modified-id=\"while-loops-4\"><span class=\"toc-item-num\">4&nbsp;&nbsp;</span><code>while</code> loops</a></span></li><li><span><a href=\"#break,-continue,-pass\" data-toc-modified-id=\"break,-continue,-pass-5\"><span class=\"toc-item-num\">5&nbsp;&nbsp;</span><code>break</code>, <code>continue</code>, <code>pass</code></a></span></li><li><span><a href=\"#else-statements-with-loops\" data-toc-modified-id=\"else-statements-with-loops-6\"><span class=\"toc-item-num\">6&nbsp;&nbsp;</span><code>else</code> statements with loops</a></span></li><li><span><a href=\"#Credits\" data-toc-modified-id=\"Credits-7\"><span class=\"toc-item-num\">7&nbsp;&nbsp;</span>Credits</a></span></li></ul></div>"
   ]
  },
  {
   "cell_type": "markdown",
   "metadata": {},
   "source": [
    "<hr>\n",
    "&nbsp;\n",
    "\n",
    "## ```If```, ```elif```, ```else``` statements\n",
    "\n",
    "It is very common for a program to do certain actions based on **conditions**. We use the following syntax:\n",
    "\n",
    "    if condition 1:\n",
    "        action 1\n",
    "    elif condition 2:\n",
    "        action 2\n",
    "    else:\n",
    "        action 3\n",
    "        \n",
    "where ```condition 1``` and ```condition 2``` are **```True```** or **```False```** statements."
   ]
  },
  {
   "cell_type": "code",
   "execution_count": 1,
   "metadata": {
    "scrolled": true
   },
   "outputs": [
    {
     "name": "stdout",
     "output_type": "stream",
     "text": [
      "It's Normal\n"
     ]
    }
   ],
   "source": [
    "temperature = 23  # change the value here\n",
    "\n",
    "if temperature < 0:\n",
    "    print(\"It's freezing...\")\n",
    "elif 0 <= temperature <= 20:\n",
    "    print(\"It's Cold\")\n",
    "elif 21 <= temperature <= 25:\n",
    "    print(\"It's Normal\")\n",
    "elif 26 <= temperature <= 35:\n",
    "    print(\"It's Hot\")\n",
    "else:\n",
    "    print(\"It's Very Hot!\")"
   ]
  },
  {
   "cell_type": "code",
   "execution_count": 2,
   "metadata": {},
   "outputs": [
    {
     "name": "stdout",
     "output_type": "stream",
     "text": [
      "5 is in the list\n"
     ]
    }
   ],
   "source": [
    "# we now have an easy to know if an element is present\n",
    "list1 = [1, 2, 3, 4, 5]\n",
    "if 5 in list1:\n",
    "    print(\"5 is in the list\")\n",
    "else:\n",
    "    print(\"5 is not in the list\")"
   ]
  },
  {
   "cell_type": "markdown",
   "metadata": {},
   "source": [
    "**NOTE** in other languages, you are likely to see the following syntax:\n",
    "\n",
    "    if (condition 1){\n",
    "      action 1;\n",
    "    } else if(condition 2){\n",
    "      action 2;\n",
    "    } else {\n",
    "      action 3;\n",
    "    }\n",
    "\n",
    "\n",
    "Python is known for being especially readable, especially because Python:\n",
    "- gets rid of **```()```** and **```{}```** and replace them by **```:```**\n",
    "- gets rid of **```;```**\n",
    "- makes heavy use of indentation and whitespace"
   ]
  },
  {
   "cell_type": "markdown",
   "metadata": {},
   "source": [
    "<hr>\n",
    "&nbsp;\n",
    "\n",
    "## ```for``` loops\n",
    "\n",
    "```for``` loops allows a programm to automatically repeat certain actions. We call this iteration: the program goes through items that are in a *sequence* (iterable item). We use the following syntax\n",
    "\n",
    "\n",
    "    for <item> in <sequence>:\n",
    "        actions\n",
    "\n",
    "\n",
    "The data types that we can iterate with :\n",
    "- strings\n",
    "- lists\n",
    "- tuples\n",
    "- and also the keys or the values of a dictionary"
   ]
  },
  {
   "cell_type": "code",
   "execution_count": 3,
   "metadata": {},
   "outputs": [],
   "source": [
    "# let's create a list\n",
    "list1 = [10, 9, 8, 7, 6, 5, 4, 3, 2, 1]"
   ]
  },
  {
   "cell_type": "code",
   "execution_count": 4,
   "metadata": {
    "scrolled": false
   },
   "outputs": [
    {
     "name": "stdout",
     "output_type": "stream",
     "text": [
      "10\n",
      "9\n",
      "8\n",
      "7\n",
      "6\n",
      "5\n",
      "4\n",
      "3\n",
      "2\n",
      "1\n"
     ]
    }
   ],
   "source": [
    "# and print each number\n",
    "for number in list1:\n",
    "    print(number)"
   ]
  },
  {
   "cell_type": "markdown",
   "metadata": {},
   "source": [
    "Remember in the first lesson we saw the operator ```%``` (modulo). which returns the remainder of a division."
   ]
  },
  {
   "cell_type": "code",
   "execution_count": 5,
   "metadata": {},
   "outputs": [
    {
     "data": {
      "text/plain": [
       "7"
      ]
     },
     "execution_count": 5,
     "metadata": {},
     "output_type": "execute_result"
    }
   ],
   "source": [
    "# 7 =  3*2   +   1\n",
    "# 7 =  7//2  +  7%2\n",
    "2 * (7//2)  +  7%2"
   ]
  },
  {
   "cell_type": "code",
   "execution_count": 6,
   "metadata": {},
   "outputs": [
    {
     "data": {
      "text/plain": [
       "True"
      ]
     },
     "execution_count": 6,
     "metadata": {},
     "output_type": "execute_result"
    }
   ],
   "source": [
    "# we often use modulo to find out if a number is even\n",
    "4 % 2 == 0"
   ]
  },
  {
   "cell_type": "code",
   "execution_count": 7,
   "metadata": {},
   "outputs": [
    {
     "data": {
      "text/plain": [
       "False"
      ]
     },
     "execution_count": 7,
     "metadata": {},
     "output_type": "execute_result"
    }
   ],
   "source": [
    "3 % 2 == 0"
   ]
  },
  {
   "cell_type": "code",
   "execution_count": 8,
   "metadata": {},
   "outputs": [
    {
     "name": "stdout",
     "output_type": "stream",
     "text": [
      "10\n",
      "8\n",
      "6\n",
      "4\n",
      "2\n"
     ]
    }
   ],
   "source": [
    "# print only odd numbers\n",
    "for number in list1:\n",
    "    if number % 2 == 0:\n",
    "        print(number)"
   ]
  },
  {
   "cell_type": "code",
   "execution_count": 9,
   "metadata": {},
   "outputs": [
    {
     "name": "stdout",
     "output_type": "stream",
     "text": [
      "10\n",
      "Odd number\n",
      "8\n",
      "Odd number\n",
      "6\n",
      "Odd number\n",
      "4\n",
      "Odd number\n",
      "2\n",
      "Odd number\n"
     ]
    }
   ],
   "source": [
    "# using the else statement\n",
    "for num in list1:\n",
    "    if num % 2 == 0:\n",
    "        print(num)\n",
    "    else:\n",
    "        print('Odd number')"
   ]
  },
  {
   "cell_type": "code",
   "execution_count": 10,
   "metadata": {},
   "outputs": [
    {
     "name": "stdout",
     "output_type": "stream",
     "text": [
      "55\n"
     ]
    }
   ],
   "source": [
    "# we can also use a for loop to make the sum of all the numbers\n",
    "list_sum = 0 \n",
    "\n",
    "for number in list1:\n",
    "    list_sum = list_sum + number\n",
    "\n",
    "print(list_sum)"
   ]
  },
  {
   "cell_type": "code",
   "execution_count": 11,
   "metadata": {},
   "outputs": [
    {
     "name": "stdout",
     "output_type": "stream",
     "text": [
      "55\n"
     ]
    }
   ],
   "source": [
    "# and remember, we also saw that we can use +=\n",
    "list_sum = 0 \n",
    "\n",
    "for number in list1:\n",
    "    list_sum += number  # we used += here\n",
    "\n",
    "print(list_sum)"
   ]
  },
  {
   "cell_type": "code",
   "execution_count": 12,
   "metadata": {},
   "outputs": [
    {
     "name": "stdout",
     "output_type": "stream",
     "text": [
      "I\n",
      " \n",
      "l\n",
      "o\n",
      "v\n",
      "e\n",
      " \n",
      "P\n",
      "y\n",
      "t\n",
      "h\n",
      "o\n",
      "n\n"
     ]
    }
   ],
   "source": [
    "# iterate over a string\n",
    "sentence = \"I love Python\"\n",
    "\n",
    "for letter in sentence:\n",
    "    print(letter)"
   ]
  },
  {
   "cell_type": "code",
   "execution_count": 13,
   "metadata": {},
   "outputs": [
    {
     "name": "stdout",
     "output_type": "stream",
     "text": [
      "1\n",
      "2\n",
      "3\n",
      "4\n",
      "5\n"
     ]
    }
   ],
   "source": [
    "# iterate over a string\n",
    "tup = (1,2,3,4,5)\n",
    "\n",
    "for number in tup:\n",
    "    print(number)"
   ]
  },
  {
   "cell_type": "code",
   "execution_count": 14,
   "metadata": {
    "scrolled": true
   },
   "outputs": [
    {
     "name": "stdout",
     "output_type": "stream",
     "text": [
      "(2, 4)\n",
      "(6, 8)\n",
      "(10, 12)\n"
     ]
    }
   ],
   "source": [
    "# and if we have nested lists / tuples\n",
    "list2 = [(2,4),(6,8),(10,12)]\n",
    "for tup in list2:\n",
    "    print(tup)"
   ]
  },
  {
   "cell_type": "code",
   "execution_count": 15,
   "metadata": {},
   "outputs": [
    {
     "name": "stdout",
     "output_type": "stream",
     "text": [
      "2 4\n",
      "6 8\n",
      "10 12\n"
     ]
    }
   ],
   "source": [
    "# we could also do\n",
    "for (t1, t2) in list2:\n",
    "    print(t1, t2)"
   ]
  },
  {
   "cell_type": "markdown",
   "metadata": {},
   "source": [
    "**NOTE :** we call this **unpacking**"
   ]
  },
  {
   "cell_type": "code",
   "execution_count": 16,
   "metadata": {},
   "outputs": [
    {
     "name": "stdout",
     "output_type": "stream",
     "text": [
      "2\n",
      "6\n",
      "10\n"
     ]
    }
   ],
   "source": [
    "# we don't have to make use of each unpacked element\n",
    "# and we don't have to use ()\n",
    "for t1, t2 in list2:\n",
    "    print(t1)  # let's only show the 1st element of each pair"
   ]
  },
  {
   "cell_type": "code",
   "execution_count": 17,
   "metadata": {},
   "outputs": [
    {
     "name": "stdout",
     "output_type": "stream",
     "text": [
      "2\n",
      "6\n",
      "10\n"
     ]
    }
   ],
   "source": [
    "# And if we really don't care about the 2nd element of each pair\n",
    "for t1, _ in list2:  # we can use _ instead\n",
    "    print(t1)"
   ]
  },
  {
   "cell_type": "code",
   "execution_count": 18,
   "metadata": {},
   "outputs": [
    {
     "name": "stdout",
     "output_type": "stream",
     "text": [
      "key1\n",
      "key2\n",
      "key3\n"
     ]
    }
   ],
   "source": [
    "# with a dictionary, it will only look at the keys\n",
    "d = {'key1':1,'key2':2,'key3':3}\n",
    "for item in d:\n",
    "    print(item)"
   ]
  },
  {
   "cell_type": "code",
   "execution_count": 19,
   "metadata": {},
   "outputs": [
    {
     "name": "stdout",
     "output_type": "stream",
     "text": [
      "1\n",
      "2\n",
      "3\n"
     ]
    }
   ],
   "source": [
    "# if we want the values, we can do this:\n",
    "for key in d:\n",
    "    print(d[key])"
   ]
  },
  {
   "cell_type": "code",
   "execution_count": 20,
   "metadata": {},
   "outputs": [
    {
     "name": "stdout",
     "output_type": "stream",
     "text": [
      "key1 1\n",
      "key2 2\n",
      "key3 3\n"
     ]
    }
   ],
   "source": [
    "# if we want to unpack both keys and values, we use .items()\n",
    "for key, value in d.items():\n",
    "    print(key, value)"
   ]
  },
  {
   "cell_type": "code",
   "execution_count": 21,
   "metadata": {
    "scrolled": true
   },
   "outputs": [
    {
     "data": {
      "text/plain": [
       "['key1', 'key2', 'key3']"
      ]
     },
     "execution_count": 21,
     "metadata": {},
     "output_type": "execute_result"
    }
   ],
   "source": [
    "# of course if we only want the keys, we can use .keys()\n",
    "list(d.keys())"
   ]
  },
  {
   "cell_type": "code",
   "execution_count": 22,
   "metadata": {},
   "outputs": [
    {
     "data": {
      "text/plain": [
       "[1, 2, 3]"
      ]
     },
     "execution_count": 22,
     "metadata": {},
     "output_type": "execute_result"
    }
   ],
   "source": [
    "# Same for the values, by using .values()\n",
    "list(d.values())"
   ]
  },
  {
   "cell_type": "markdown",
   "metadata": {},
   "source": [
    "**NOTE:** Remember that dictionaries are **unordered**, so keys and values come back in arbitrary order. You can obtain a sorted list using ```sorted()```"
   ]
  },
  {
   "cell_type": "markdown",
   "metadata": {},
   "source": [
    "&nbsp;\n",
    "\n",
    "**NOTE:** It's usually not a good idea to modify the size of a list while iterating over it"
   ]
  },
  {
   "cell_type": "code",
   "execution_count": 25,
   "metadata": {},
   "outputs": [
    {
     "data": {
      "text/plain": [
       "[1, 6, 8, 4]"
      ]
     },
     "execution_count": 25,
     "metadata": {},
     "output_type": "execute_result"
    }
   ],
   "source": [
    "# you might get something weird\n",
    "\n",
    "sequence = [5, 1, 3, 6, 9, 8, 5, 4, 2]\n",
    "for n in sequence:\n",
    "    sequence.remove(n)\n",
    "sequence"
   ]
  },
  {
   "cell_type": "code",
   "execution_count": 26,
   "metadata": {},
   "outputs": [
    {
     "ename": "IndexError",
     "evalue": "list assignment index out of range",
     "output_type": "error",
     "traceback": [
      "\u001b[0;31m---------------------------------------------------------------------------\u001b[0m",
      "\u001b[0;31mIndexError\u001b[0m                                Traceback (most recent call last)",
      "\u001b[0;32m<ipython-input-26-7172bdc817a0>\u001b[0m in \u001b[0;36m<module>\u001b[0;34m\u001b[0m\n\u001b[1;32m      2\u001b[0m \u001b[0msequence\u001b[0m \u001b[0;34m=\u001b[0m \u001b[0;34m[\u001b[0m\u001b[0;36m5\u001b[0m\u001b[0;34m,\u001b[0m \u001b[0;36m1\u001b[0m\u001b[0;34m,\u001b[0m \u001b[0;36m3\u001b[0m\u001b[0;34m,\u001b[0m \u001b[0;36m6\u001b[0m\u001b[0;34m,\u001b[0m \u001b[0;36m9\u001b[0m\u001b[0;34m,\u001b[0m \u001b[0;36m8\u001b[0m\u001b[0;34m,\u001b[0m \u001b[0;36m5\u001b[0m\u001b[0;34m,\u001b[0m \u001b[0;36m4\u001b[0m\u001b[0;34m,\u001b[0m \u001b[0;36m2\u001b[0m\u001b[0;34m]\u001b[0m\u001b[0;34m\u001b[0m\u001b[0;34m\u001b[0m\u001b[0m\n\u001b[1;32m      3\u001b[0m \u001b[0;32mfor\u001b[0m \u001b[0mn\u001b[0m \u001b[0;32min\u001b[0m \u001b[0msequence\u001b[0m\u001b[0;34m:\u001b[0m\u001b[0;34m\u001b[0m\u001b[0;34m\u001b[0m\u001b[0m\n\u001b[0;32m----> 4\u001b[0;31m     \u001b[0;32mdel\u001b[0m \u001b[0msequence\u001b[0m\u001b[0;34m[\u001b[0m\u001b[0mn\u001b[0m\u001b[0;34m]\u001b[0m\u001b[0;34m\u001b[0m\u001b[0;34m\u001b[0m\u001b[0m\n\u001b[0m\u001b[1;32m      5\u001b[0m \u001b[0msequence\u001b[0m\u001b[0;34m\u001b[0m\u001b[0;34m\u001b[0m\u001b[0m\n",
      "\u001b[0;31mIndexError\u001b[0m: list assignment index out of range"
     ]
    }
   ],
   "source": [
    "# or an error\n",
    "sequence = [5, 1, 3, 6, 9, 8, 5, 4, 2]\n",
    "for n in sequence:\n",
    "    del sequence[n]\n",
    "sequence"
   ]
  },
  {
   "cell_type": "markdown",
   "metadata": {},
   "source": [
    "<hr>\n",
    "&nbsp;\n",
    "\n",
    "## ```range``` function\n",
    "\n",
    "The range function allows you to quickly *generate* a list of integers. There are 3 parameters you can pass:\n",
    "- start (= 0 by default)\n",
    "- stop\n",
    "- step size (= 1 by default)"
   ]
  },
  {
   "cell_type": "code",
   "execution_count": 27,
   "metadata": {},
   "outputs": [
    {
     "name": "stdout",
     "output_type": "stream",
     "text": [
      "0\n",
      "1\n",
      "2\n",
      "3\n",
      "4\n",
      "5\n",
      "6\n",
      "7\n",
      "8\n",
      "9\n"
     ]
    }
   ],
   "source": [
    "# numbers from 0 (included) to 10 (excluded)\n",
    "for number in range(10):\n",
    "    print(number)"
   ]
  },
  {
   "cell_type": "code",
   "execution_count": 28,
   "metadata": {},
   "outputs": [
    {
     "name": "stdout",
     "output_type": "stream",
     "text": [
      "5\n",
      "6\n",
      "7\n",
      "8\n",
      "9\n"
     ]
    }
   ],
   "source": [
    "# numbers from 5 (included) to 10 (excluded)\n",
    "for number in range(5, 10):\n",
    "    print(number)"
   ]
  },
  {
   "cell_type": "code",
   "execution_count": 29,
   "metadata": {},
   "outputs": [
    {
     "name": "stdout",
     "output_type": "stream",
     "text": [
      "3\n",
      "5\n",
      "7\n",
      "9\n"
     ]
    }
   ],
   "source": [
    "# numbers from 3 (included) to 10 (excluded) with a step of 2\n",
    "for number in range(3, 10, 2):\n",
    "    print(number)"
   ]
  },
  {
   "cell_type": "markdown",
   "metadata": {},
   "source": [
    "&nbsp;\n",
    "\n",
    "<code>range()</code> is very useful to **modify lists in-place**."
   ]
  },
  {
   "cell_type": "code",
   "execution_count": 30,
   "metadata": {},
   "outputs": [
    {
     "data": {
      "text/plain": [
       "[6, 2, 4, 7, 10, 9, 6, 5, 3]"
      ]
     },
     "execution_count": 30,
     "metadata": {},
     "output_type": "execute_result"
    }
   ],
   "source": [
    "# let's add 1 to each elements of a sequence\n",
    "sequence = [5, 1, 3, 6, 9, 8, 5, 4, 2]\n",
    "n = len(sequence)\n",
    "for i in range(n):\n",
    "    sequence[i] += 1\n",
    "sequence"
   ]
  },
  {
   "cell_type": "code",
   "execution_count": 31,
   "metadata": {},
   "outputs": [
    {
     "data": {
      "text/plain": [
       "[5, 1, 3, 6, 9, 8, 5, 4, 2]"
      ]
     },
     "execution_count": 31,
     "metadata": {},
     "output_type": "execute_result"
    }
   ],
   "source": [
    "# whereas, nothing changes if we do\n",
    "sequence = [5, 1, 3, 6, 9, 8, 5, 4, 2]\n",
    "for num in sequence:\n",
    "    num += 1\n",
    "sequence"
   ]
  },
  {
   "cell_type": "markdown",
   "metadata": {},
   "source": [
    "![Huh](./attachments/huh/huh-01.gif)\n",
    "\n",
    "&nbsp;"
   ]
  },
  {
   "cell_type": "code",
   "execution_count": 32,
   "metadata": {},
   "outputs": [],
   "source": [
    "# Let's look at it in more details\n",
    "sequence = [5, 1, 3, 6, 9, 8, 5, 4, 2]\n",
    "\n",
    "new_list = []\n",
    "for num in sequence:\n",
    "    num += 1\n",
    "    new_list.append(num)  # let's add the modified num in a new list"
   ]
  },
  {
   "cell_type": "code",
   "execution_count": 33,
   "metadata": {},
   "outputs": [
    {
     "data": {
      "text/plain": [
       "[6, 2, 4, 7, 10, 9, 6, 5, 3]"
      ]
     },
     "execution_count": 33,
     "metadata": {},
     "output_type": "execute_result"
    }
   ],
   "source": [
    "new_list"
   ]
  },
  {
   "cell_type": "code",
   "execution_count": 34,
   "metadata": {
    "scrolled": true
   },
   "outputs": [
    {
     "data": {
      "text/plain": [
       "[5, 1, 3, 6, 9, 8, 5, 4, 2]"
      ]
     },
     "execution_count": 34,
     "metadata": {},
     "output_type": "execute_result"
    }
   ],
   "source": [
    "sequence"
   ]
  },
  {
   "cell_type": "markdown",
   "metadata": {},
   "source": [
    "**NOTE:** when we do\n",
    "\n",
    "    for element in sequence\n",
    "\n",
    "we actually get a copy of the element (which we can modify, but it does not modify the sequence in-place)."
   ]
  },
  {
   "cell_type": "markdown",
   "metadata": {},
   "source": [
    "&nbsp;\n",
    "\n",
    "<code>range()</code> is also very useful to **create lists easily**."
   ]
  },
  {
   "cell_type": "code",
   "execution_count": 35,
   "metadata": {},
   "outputs": [
    {
     "data": {
      "text/plain": [
       "[0, 2, 4, 6, 8, 10, 12, 14, 16, 18, 20]"
      ]
     },
     "execution_count": 35,
     "metadata": {},
     "output_type": "execute_result"
    }
   ],
   "source": [
    "# the list of even numbers until 20\n",
    "list(range(0,21,2))"
   ]
  },
  {
   "cell_type": "code",
   "execution_count": 36,
   "metadata": {},
   "outputs": [
    {
     "data": {
      "text/plain": [
       "[3, 6, 9, 12, 15, 18, 21, 24, 27, 30]"
      ]
     },
     "execution_count": 36,
     "metadata": {},
     "output_type": "execute_result"
    }
   ],
   "source": [
    "# the 3 times table\n",
    "list(range(3,31,3))"
   ]
  },
  {
   "cell_type": "code",
   "execution_count": 37,
   "metadata": {},
   "outputs": [
    {
     "data": {
      "text/plain": [
       "[100, 90, 80, 70, 60, 50, 40, 30, 20, 10]"
      ]
     },
     "execution_count": 37,
     "metadata": {},
     "output_type": "execute_result"
    }
   ],
   "source": [
    "# products of 10 in decreasing order starting from 100\n",
    "list(range(100, 9, -10))"
   ]
  },
  {
   "cell_type": "markdown",
   "metadata": {},
   "source": [
    "<hr>\n",
    "&nbsp;\n",
    "\n",
    "## ```while``` loops\n",
    "\n",
    " ```while``` loops allow to repeat certain actions as long as a condition is True. We use the following syntax:\n",
    " \n",
    "     while condition:\n",
    "        actions 1\n",
    "    else:\n",
    "        actions 2\n",
    "        \n",
    "where ```condition``` is a **```True```** or **```False```** statement."
   ]
  },
  {
   "cell_type": "code",
   "execution_count": 38,
   "metadata": {
    "scrolled": true
   },
   "outputs": [
    {
     "name": "stdout",
     "output_type": "stream",
     "text": [
      "x =  0\n",
      " x is still less than 10, adding 1 to x\n",
      "x =  1\n",
      " x is still less than 10, adding 1 to x\n",
      "x =  2\n",
      " x is still less than 10, adding 1 to x\n",
      "x =  3\n",
      " x is still less than 10, adding 1 to x\n",
      "x =  4\n",
      " x is still less than 10, adding 1 to x\n",
      "x =  5\n",
      " x is still less than 10, adding 1 to x\n",
      "x =  6\n",
      " x is still less than 10, adding 1 to x\n",
      "x =  7\n",
      " x is still less than 10, adding 1 to x\n",
      "x =  8\n",
      " x is still less than 10, adding 1 to x\n",
      "x =  9\n",
      " x is still less than 10, adding 1 to x\n"
     ]
    }
   ],
   "source": [
    "x = 0\n",
    "\n",
    "while x < 10:\n",
    "    print('x = ',x)\n",
    "    print(' x is still less than 10, adding 1 to x')\n",
    "    x += 1"
   ]
  },
  {
   "cell_type": "code",
   "execution_count": 39,
   "metadata": {},
   "outputs": [
    {
     "data": {
      "text/plain": [
       "10"
      ]
     },
     "execution_count": 39,
     "metadata": {},
     "output_type": "execute_result"
    }
   ],
   "source": [
    "# and now, x = ?\n",
    "x"
   ]
  },
  {
   "cell_type": "code",
   "execution_count": 40,
   "metadata": {
    "scrolled": false
   },
   "outputs": [
    {
     "name": "stdout",
     "output_type": "stream",
     "text": [
      "x =  0\n",
      " x is still less than 10, adding 1 to x\n",
      "x =  1\n",
      " x is still less than 10, adding 1 to x\n",
      "x =  2\n",
      " x is still less than 10, adding 1 to x\n",
      "x =  3\n",
      " x is still less than 10, adding 1 to x\n",
      "x =  4\n",
      " x is still less than 10, adding 1 to x\n",
      "x =  5\n",
      " x is still less than 10, adding 1 to x\n",
      "x =  6\n",
      " x is still less than 10, adding 1 to x\n",
      "x =  7\n",
      " x is still less than 10, adding 1 to x\n",
      "x =  8\n",
      " x is still less than 10, adding 1 to x\n",
      "x =  9\n",
      " x is still less than 10, adding 1 to x\n",
      "All Done!\n"
     ]
    }
   ],
   "source": [
    "x = 0\n",
    "\n",
    "while x < 10:\n",
    "    print('x = ',x)\n",
    "    print(' x is still less than 10, adding 1 to x')\n",
    "    x += 1\n",
    "\n",
    "print('All Done!')"
   ]
  },
  {
   "cell_type": "markdown",
   "metadata": {},
   "source": [
    "**NOTE:** It is possible to create a loop that runs forever with ```while```. Don't do it otherwise your program will never stop."
   ]
  },
  {
   "cell_type": "code",
   "execution_count": 41,
   "metadata": {},
   "outputs": [],
   "source": [
    "# Do not run this code\n",
    "\n",
    "# while True:\n",
    "#     print(\"I'm stuck in an infinite loop!\")"
   ]
  },
  {
   "cell_type": "markdown",
   "metadata": {},
   "source": [
    "![face palm](./attachments/huh/facepalm.gif)\n",
    "\n",
    "&nbsp;  \n",
    "if you did run the above cell --> click on the Kernel menu above to **restart the kernel**!\n",
    "&nbsp;  \n",
    "![kernel restart](./attachments/restart-kernel.png)"
   ]
  },
  {
   "cell_type": "markdown",
   "metadata": {},
   "source": [
    "<hr>\n",
    "&nbsp;\n",
    "\n",
    "## ```break```, ```continue```, ```pass```\n",
    "\n",
    "We can use ```break```, ```continue```, and ```pass``` statements in our loops to add additional functionality to our programs. The three statements are defined by:\n",
    "- break: Break out of the current loop.\n",
    "- continue: Go back to the begining of the current loop.\n",
    "- pass: Do nothing at all."
   ]
  },
  {
   "cell_type": "code",
   "execution_count": 42,
   "metadata": {},
   "outputs": [
    {
     "name": "stdout",
     "output_type": "stream",
     "text": [
      "Number is:  0\n",
      "Number is:  1\n",
      "Number is:  2\n",
      "Number is:  3\n",
      "Number is:  4\n",
      "Out of the loop\n"
     ]
    }
   ],
   "source": [
    "# break\n",
    "for number in range(10):\n",
    "    if number == 5:\n",
    "        break                     # get out of the loop\n",
    "    print('Number is: ', number)\n",
    "\n",
    "print('Out of the loop')          # this is not in the 'for' loop, so we do it"
   ]
  },
  {
   "cell_type": "code",
   "execution_count": 43,
   "metadata": {},
   "outputs": [
    {
     "data": {
      "text/plain": [
       "5"
      ]
     },
     "execution_count": 43,
     "metadata": {},
     "output_type": "execute_result"
    }
   ],
   "source": [
    "# check\n",
    "number"
   ]
  },
  {
   "cell_type": "markdown",
   "metadata": {},
   "source": [
    "![loop break](./attachments/conditions-and-loops-01.jpg)\n",
    "&nbsp;"
   ]
  },
  {
   "cell_type": "code",
   "execution_count": 44,
   "metadata": {},
   "outputs": [
    {
     "name": "stdout",
     "output_type": "stream",
     "text": [
      "Number is:  0\n",
      "Number is:  1\n",
      "Number is:  2\n",
      "Number is:  3\n",
      "Number is:  4\n",
      "Number is:  6\n",
      "Number is:  7\n",
      "Number is:  8\n",
      "Number is:  9\n",
      "Out of the loop\n"
     ]
    }
   ],
   "source": [
    "# continue\n",
    "for number in range(10):\n",
    "    if number == 5:\n",
    "        continue                  # don't do the remaining of the loop\n",
    "    print('Number is: ', number)\n",
    "\n",
    "print('Out of the loop')          # this is not in the 'for' loop, so we do it"
   ]
  },
  {
   "cell_type": "code",
   "execution_count": 45,
   "metadata": {},
   "outputs": [
    {
     "data": {
      "text/plain": [
       "9"
      ]
     },
     "execution_count": 45,
     "metadata": {},
     "output_type": "execute_result"
    }
   ],
   "source": [
    "# check\n",
    "number"
   ]
  },
  {
   "cell_type": "markdown",
   "metadata": {},
   "source": [
    "![loop continue](./attachments/conditions-and-loops-02.jpg)\n",
    "&nbsp;"
   ]
  },
  {
   "cell_type": "code",
   "execution_count": 46,
   "metadata": {},
   "outputs": [
    {
     "name": "stdout",
     "output_type": "stream",
     "text": [
      "Number is:  0\n",
      "Number is:  1\n",
      "Number is:  2\n",
      "Number is:  3\n",
      "Number is:  4\n",
      "Number is:  5\n",
      "Number is:  6\n",
      "Number is:  7\n",
      "Number is:  8\n",
      "Number is:  9\n",
      "Out of the loop\n"
     ]
    }
   ],
   "source": [
    "# pass\n",
    "for number in range(10):\n",
    "    if number == 5:\n",
    "        pass                      # nothing happens\n",
    "    print('Number is: ', number)\n",
    "\n",
    "print('Out of the loop')"
   ]
  },
  {
   "cell_type": "code",
   "execution_count": 47,
   "metadata": {},
   "outputs": [
    {
     "name": "stdout",
     "output_type": "stream",
     "text": [
      "x is currently:  0\n",
      " x is still less than 10, adding 1 to x\n",
      "CONTINUING...\n",
      "x is currently:  1\n",
      " x is still less than 10, adding 1 to x\n",
      "CONTINUING...\n",
      "x is currently:  2\n",
      " x is still less than 10, adding 1 to x\n",
      "x == 3\n",
      "x is currently:  3\n",
      " x is still less than 10, adding 1 to x\n",
      "CONTINUING...\n",
      "x is currently:  4\n",
      " x is still less than 10, adding 1 to x\n",
      "CONTINUING...\n",
      "x is currently:  5\n",
      " x is still less than 10, adding 1 to x\n",
      "CONTINUING...\n",
      "x is currently:  6\n",
      " x is still less than 10, adding 1 to x\n",
      "CONTINUING...\n",
      "x is currently:  7\n",
      " x is still less than 10, adding 1 to x\n",
      "CONTINUING...\n",
      "x is currently:  8\n",
      " x is still less than 10, adding 1 to x\n",
      "CONTINUING...\n",
      "x is currently:  9\n",
      " x is still less than 10, adding 1 to x\n",
      "CONTINUING...\n"
     ]
    }
   ],
   "source": [
    "# The principle is the same for while loops\n",
    "\n",
    "x = 0\n",
    "\n",
    "while x < 10:\n",
    "    print('x is currently: ', x)\n",
    "    print(' x is still less than 10, adding 1 to x')\n",
    "    x += 1\n",
    "    if x == 3:\n",
    "        print('x == 3')\n",
    "    else:\n",
    "        print('CONTINUING...')\n",
    "        continue"
   ]
  },
  {
   "cell_type": "code",
   "execution_count": 48,
   "metadata": {},
   "outputs": [
    {
     "name": "stdout",
     "output_type": "stream",
     "text": [
      "x is currently:  0\n",
      " x is still less than 10, adding 1 to x\n",
      "CONTINUING...\n",
      "x is currently:  1\n",
      " x is still less than 10, adding 1 to x\n",
      "CONTINUING...\n",
      "x is currently:  2\n",
      " x is still less than 10, adding 1 to x\n",
      "breaking because x == 3\n"
     ]
    }
   ],
   "source": [
    "x = 0\n",
    "\n",
    "while x < 10:\n",
    "    print('x is currently: ',x)\n",
    "    print(' x is still less than 10, adding 1 to x')\n",
    "    x+=1\n",
    "    if x==3:\n",
    "        print('breaking because x == 3')\n",
    "        break\n",
    "    else:\n",
    "        print('CONTINUING...')\n",
    "        continue"
   ]
  },
  {
   "cell_type": "markdown",
   "metadata": {},
   "source": [
    "<hr>\n",
    "&nbsp;\n",
    "\n",
    "## ```else``` statements with loops\n",
    "\n",
    "Loop statements may have an ```else``` clause.\n",
    "\n",
    "It is executed when the loop terminates through **exhaustion of the iterable** (with ```for```) or when the **condition becomes false** (with ```while```), but **not** when the loop is terminated by a **break** statement.\n",
    "\n",
    "They are useful to differentiate the following two scenarios:\n",
    "- the loop runs without encountering ```break```\n",
    "- the loop runs but did encounter a ```break```"
   ]
  },
  {
   "cell_type": "code",
   "execution_count": 49,
   "metadata": {},
   "outputs": [
    {
     "name": "stdout",
     "output_type": "stream",
     "text": [
      "4 = 2 * 2\n",
      "6 = 2 * 3\n",
      "8 = 2 * 4\n",
      "9 = 3 * 3\n"
     ]
    }
   ],
   "source": [
    "# the following code finds the composite numbers between 2 and 10\n",
    "# composite number = can be expressed as a product of 2 smaller numbers\n",
    "\n",
    "for n in range(2, 10):     # for every number in [2, 10[\n",
    "    for x in range(2, n):  \n",
    "        if n % x == 0:     # if it is a product of 2 (smaller) numbers\n",
    "            print(n, '=', x, '*', n//x)\n",
    "            break"
   ]
  },
  {
   "cell_type": "code",
   "execution_count": 50,
   "metadata": {},
   "outputs": [
    {
     "name": "stdout",
     "output_type": "stream",
     "text": [
      "2 is a prime number\n",
      "3 is a prime number\n",
      "4 = 2 * 2\n",
      "5 is a prime number\n",
      "6 = 2 * 3\n",
      "7 is a prime number\n",
      "8 = 2 * 4\n",
      "9 = 3 * 3\n"
     ]
    }
   ],
   "source": [
    "# with a else, we can easily spot the prime numbers too (on top of the composite numbers)\n",
    "\n",
    "for n in range(2, 10):\n",
    "    for x in range(2, n):\n",
    "        if n % x == 0:\n",
    "            print(n, '=', x, '*', n//x)\n",
    "            break\n",
    "    else:                              # this belong to the 2nd for loop\n",
    "        print(n, 'is a prime number')  # loop fell through without finding a factor"
   ]
  },
  {
   "cell_type": "code",
   "execution_count": 51,
   "metadata": {
    "scrolled": true
   },
   "outputs": [
    {
     "name": "stdout",
     "output_type": "stream",
     "text": [
      "3 is a prime number\n",
      "4 = 2 * 2\n",
      "5 is a prime number\n",
      "5 is a prime number\n",
      "5 is a prime number\n",
      "6 = 2 * 3\n",
      "7 is a prime number\n",
      "7 is a prime number\n",
      "7 is a prime number\n",
      "7 is a prime number\n",
      "7 is a prime number\n",
      "8 = 2 * 4\n",
      "9 is a prime number\n",
      "9 = 3 * 3\n"
     ]
    }
   ],
   "source": [
    "# compare the previous code with this one\n",
    "\n",
    "for n in range(2, 10):\n",
    "    for x in range(2, n):  \n",
    "        if n % x == 0:\n",
    "            print(n, '=', x, '*', n//x)\n",
    "            break\n",
    "        else:\n",
    "            print(n, 'is a prime number')"
   ]
  },
  {
   "cell_type": "code",
   "execution_count": 52,
   "metadata": {},
   "outputs": [
    {
     "name": "stdout",
     "output_type": "stream",
     "text": [
      "4\n",
      "3\n",
      "I found the number 2\n",
      "END\n"
     ]
    }
   ],
   "source": [
    "# the same works for while loop\n",
    "# if we encounter a break so we don't do the execute the else statement\n",
    "n = 5\n",
    "while n > 0:\n",
    "    n = n - 1\n",
    "    if n == 2:\n",
    "        print('I found the number 2')\n",
    "        break\n",
    "    print(n)\n",
    "else:\n",
    "    print(\"Loop is finished\")\n",
    "\n",
    "print('END')"
   ]
  },
  {
   "cell_type": "code",
   "execution_count": 53,
   "metadata": {},
   "outputs": [
    {
     "name": "stdout",
     "output_type": "stream",
     "text": [
      "4\n",
      "3\n",
      "I found the number 2\n",
      "2\n",
      "1\n",
      "0\n",
      "Loop is finished\n",
      "END\n"
     ]
    }
   ],
   "source": [
    "# if we don't encounter a break, then we execute the else statement\n",
    "\n",
    "n = 5\n",
    "while n > 0:\n",
    "    n = n - 1\n",
    "    if n == 2:\n",
    "        print('I found the number 2')\n",
    "    print(n)\n",
    "else:\n",
    "    print(\"Loop is finished\")\n",
    "\n",
    "print('END')"
   ]
  },
  {
   "cell_type": "markdown",
   "metadata": {},
   "source": [
    "&nbsp;\n",
    "\n",
    "Check the [python documentation](https://docs.python.org/3/tutorial/controlflow.html) for more information on Control Flow\n",
    "\n",
    "\n",
    "\n",
    "<hr>\n",
    "&nbsp;\n",
    "\n",
    "## Credits\n",
    "- [Pierian Data](https://github.com/Pierian-Data/Complete-Python-3-Bootcamp)\n",
    "- [Real Python](https://realpython.com/python-bitwise-operators/) and [here](https://realpython.com/lessons/while-loop-else-clause/)\n",
    "- [Digital Ocean](https://www.digitalocean.com/community/tutorials/how-to-use-break-continue-and-pass-statements-when-working-with-loops-in-python-3)\n",
    "- [Programmiz](https://www.programiz.com/python-programming/break-continue)\n",
    "- [Python tips](https://book.pythontips.com/en/latest/for_-_else.html)"
   ]
  }
 ],
 "metadata": {
  "kernelspec": {
   "display_name": "Python 3",
   "language": "python",
   "name": "python3"
  },
  "language_info": {
   "codemirror_mode": {
    "name": "ipython",
    "version": 3
   },
   "file_extension": ".py",
   "mimetype": "text/x-python",
   "name": "python",
   "nbconvert_exporter": "python",
   "pygments_lexer": "ipython3",
   "version": "3.9.2"
  },
  "toc": {
   "base_numbering": 1,
   "nav_menu": {},
   "number_sections": true,
   "sideBar": true,
   "skip_h1_title": true,
   "title_cell": "Table of Contents",
   "title_sidebar": "Contents",
   "toc_cell": true,
   "toc_position": {
    "height": "calc(100% - 180px)",
    "left": "10px",
    "top": "150px",
    "width": "371.6px"
   },
   "toc_section_display": true,
   "toc_window_display": false
  },
  "varInspector": {
   "cols": {
    "lenName": 16,
    "lenType": 16,
    "lenVar": 40
   },
   "kernels_config": {
    "python": {
     "delete_cmd_postfix": "",
     "delete_cmd_prefix": "del ",
     "library": "var_list.py",
     "varRefreshCmd": "print(var_dic_list())"
    },
    "r": {
     "delete_cmd_postfix": ") ",
     "delete_cmd_prefix": "rm(",
     "library": "var_list.r",
     "varRefreshCmd": "cat(var_dic_list()) "
    }
   },
   "types_to_exclude": [
    "module",
    "function",
    "builtin_function_or_method",
    "instance",
    "_Feature"
   ],
   "window_display": false
  }
 },
 "nbformat": 4,
 "nbformat_minor": 1
}
