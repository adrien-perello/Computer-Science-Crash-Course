{
 "cells": [
  {
   "cell_type": "markdown",
   "metadata": {},
   "source": [
    "# I. Introduction to Python > 23. Clean code\n",
    "\n",
    "\n",
    "**[<< Previous lesson](./22_Decorators.ipynb)   |   [Next lesson >>]()**\n",
    "\n",
    "<hr>\n",
    "&nbsp;"
   ]
  },
  {
   "cell_type": "markdown",
   "metadata": {
    "toc": true
   },
   "source": [
    "<h1>Table of Contents<span class=\"tocSkip\"></span></h1>\n",
    "<div class=\"toc\"><ul class=\"toc-item\"><li><span><a href=\"#Readability:-PEP8-Standards\" data-toc-modified-id=\"Readability:-PEP8-Standards-1\"><span class=\"toc-item-num\">1&nbsp;&nbsp;</span>Readability: PEP8 Standards</a></span><ul class=\"toc-item\"><li><span><a href=\"#Names\" data-toc-modified-id=\"Names-1.1\"><span class=\"toc-item-num\">1.1&nbsp;&nbsp;</span>Names</a></span></li><li><span><a href=\"#Code-layout\" data-toc-modified-id=\"Code-layout-1.2\"><span class=\"toc-item-num\">1.2&nbsp;&nbsp;</span>Code layout</a></span></li><li><span><a href=\"#Identation\" data-toc-modified-id=\"Identation-1.3\"><span class=\"toc-item-num\">1.3&nbsp;&nbsp;</span>Identation</a></span></li><li><span><a href=\"#Comments\" data-toc-modified-id=\"Comments-1.4\"><span class=\"toc-item-num\">1.4&nbsp;&nbsp;</span>Comments</a></span></li><li><span><a href=\"#Whitespaces\" data-toc-modified-id=\"Whitespaces-1.5\"><span class=\"toc-item-num\">1.5&nbsp;&nbsp;</span>Whitespaces</a></span></li><li><span><a href=\"#Other-recommendations\" data-toc-modified-id=\"Other-recommendations-1.6\"><span class=\"toc-item-num\">1.6&nbsp;&nbsp;</span>Other recommendations</a></span></li><li><span><a href=\"#Use-linters-and-Autoformatters\" data-toc-modified-id=\"Use-linters-and-Autoformatters-1.7\"><span class=\"toc-item-num\">1.7&nbsp;&nbsp;</span>Use linters and Autoformatters</a></span></li></ul></li><li><span><a href=\"#Common-mistakes-and-anti-patterns\" data-toc-modified-id=\"Common-mistakes-and-anti-patterns-2\"><span class=\"toc-item-num\">2&nbsp;&nbsp;</span>Common mistakes and anti-patterns</a></span><ul class=\"toc-item\"><li><span><a href=\"#Do-import-*\" data-toc-modified-id=\"Do-import-*-2.1\"><span class=\"toc-item-num\">2.1&nbsp;&nbsp;</span>Do <code>import *</code></a></span></li><li><span><a href=\"#Use-names-already-taken\" data-toc-modified-id=\"Use-names-already-taken-2.2\"><span class=\"toc-item-num\">2.2&nbsp;&nbsp;</span>Use names already taken</a></span></li><li><span><a href=\"#Create-circular-module-dependencies\" data-toc-modified-id=\"Create-circular-module-dependencies-2.3\"><span class=\"toc-item-num\">2.3&nbsp;&nbsp;</span>Create circular module dependencies</a></span></li><li><span><a href=\"#Misunderstand-scope-rules\" data-toc-modified-id=\"Misunderstand-scope-rules-2.4\"><span class=\"toc-item-num\">2.4&nbsp;&nbsp;</span>Misunderstand scope rules</a></span></li><li><span><a href=\"#Use-global-statement\" data-toc-modified-id=\"Use-global-statement-2.5\"><span class=\"toc-item-num\">2.5&nbsp;&nbsp;</span>Use <code>global</code> statement</a></span></li><li><span><a href=\"#Use-mutable-default-arguments\" data-toc-modified-id=\"Use-mutable-default-arguments-2.6\"><span class=\"toc-item-num\">2.6&nbsp;&nbsp;</span>Use mutable default arguments</a></span></li><li><span><a href=\"#Mistake-references-for-copies-with-mutable-objects\" data-toc-modified-id=\"Mistake-references-for-copies-with-mutable-objects-2.7\"><span class=\"toc-item-num\">2.7&nbsp;&nbsp;</span>Mistake references for copies with mutable objects</a></span></li><li><span><a href=\"#Misunderstand-late-binding-closures\" data-toc-modified-id=\"Misunderstand-late-binding-closures-2.8\"><span class=\"toc-item-num\">2.8&nbsp;&nbsp;</span>Misunderstand late-binding closures</a></span></li><li><span><a href=\"#Ask-for-permission-instead-of-forgiveness\" data-toc-modified-id=\"Ask-for-permission-instead-of-forgiveness-2.9\"><span class=\"toc-item-num\">2.9&nbsp;&nbsp;</span>Ask for permission instead of forgiveness</a></span></li><li><span><a href=\"#Poorly-handle-exceptions\" data-toc-modified-id=\"Poorly-handle-exceptions-2.10\"><span class=\"toc-item-num\">2.10&nbsp;&nbsp;</span>Poorly handle exceptions</a></span></li><li><span><a href=\"#Iterate-unpythonically\" data-toc-modified-id=\"Iterate-unpythonically-2.11\"><span class=\"toc-item-num\">2.11&nbsp;&nbsp;</span>Iterate unpythonically</a></span></li><li><span><a href=\"#Modify-a-list-while-iterating-over-it\" data-toc-modified-id=\"Modify-a-list-while-iterating-over-it-2.12\"><span class=\"toc-item-num\">2.12&nbsp;&nbsp;</span>Modify a list while iterating over it</a></span></li><li><span><a href=\"#Forget-else-clause-or-break-statement-in-a-loop\" data-toc-modified-id=\"Forget-else-clause-or-break-statement-in-a-loop-2.13\"><span class=\"toc-item-num\">2.13&nbsp;&nbsp;</span>Forget <code>else</code> clause or <code>break</code> statement in a loop</a></span></li><li><span><a href=\"#Miuse-dict-and-list-comprehension\" data-toc-modified-id=\"Miuse-dict-and-list-comprehension-2.14\"><span class=\"toc-item-num\">2.14&nbsp;&nbsp;</span>Miuse dict and list comprehension</a></span></li><li><span><a href=\"#Use-a-list-instead-of-a-set-or-a-dict\" data-toc-modified-id=\"Use-a-list-instead-of-a-set-or-a-dict-2.15\"><span class=\"toc-item-num\">2.15&nbsp;&nbsp;</span>Use a <code>list</code> instead of a <code>set</code> or a <code>dict</code></a></span></li><li><span><a href=\"#Forget-setdefault()-and-defaultdict()\" data-toc-modified-id=\"Forget-setdefault()-and-defaultdict()-2.16\"><span class=\"toc-item-num\">2.16&nbsp;&nbsp;</span>Forget <code>setdefault()</code> and <code>defaultdict()</code></a></span></li><li><span><a href=\"#Misuse-string's-.format()-with-a-dictionary\" data-toc-modified-id=\"Misuse-string's-.format()-with-a-dictionary-2.17\"><span class=\"toc-item-num\">2.17&nbsp;&nbsp;</span>Misuse string's <code>.format()</code> with a dictionary</a></span></li><li><span><a href=\"#Unpack-unpythonically\" data-toc-modified-id=\"Unpack-unpythonically-2.18\"><span class=\"toc-item-num\">2.18&nbsp;&nbsp;</span>Unpack unpythonically</a></span></li><li><span><a href=\"#Return-different-types-in-a-function\" data-toc-modified-id=\"Return-different-types-in-a-function-2.19\"><span class=\"toc-item-num\">2.19&nbsp;&nbsp;</span>Return different types in a function</a></span></li><li><span><a href=\"#Use-type()-to-compare-types\" data-toc-modified-id=\"Use-type()-to-compare-types-2.20\"><span class=\"toc-item-num\">2.20&nbsp;&nbsp;</span>Use type() to compare types</a></span></li><li><span><a href=\"#Assign-a-variable-to-a-lambda-expression\" data-toc-modified-id=\"Assign-a-variable-to-a-lambda-expression-2.21\"><span class=\"toc-item-num\">2.21&nbsp;&nbsp;</span>Assign a variable to a lambda expression</a></span></li></ul></li><li><span><a href=\"#Credits\" data-toc-modified-id=\"Credits-3\"><span class=\"toc-item-num\">3&nbsp;&nbsp;</span>Credits</a></span></li></ul></div>"
   ]
  },
  {
   "cell_type": "markdown",
   "metadata": {},
   "source": [
    "<hr>\n",
    "&nbsp;\n",
    "\n",
    "## Readability: PEP8 Standards\n",
    "\n",
    "PEP 8 (Python Enhancement Proposal) is a document that provides guidelines and best practices on how to write Python code.\n",
    "\n",
    "The following outlines the key guidelines from PEP 8.\n",
    "\n",
    "\n",
    "### Names\n",
    "\n",
    "Don't use single letter to name your variable (especially not the letters l, O, or I which can be mistaken for 1 and 0).\n",
    "\n",
    "&nbsp;\n",
    "\n",
    "| Type     | Naming Convention                                                                                               | Examples                                |\n",
    "| :------- | :-------------------------------------------------------------------------------------------------------------- | :-------------------------------------- |\n",
    "| **Function** | Use a lowercase word or words. Separate words by underscores to improve readability.                            | function, my_function                   |\n",
    "| **Variable** | Use a lowercase single letter, word, or words. Separate words with underscores to improve readability.          | x, var, my_variable                     |\n",
    "| **Class**    | Start each word with a capital letter. Do not separate words with underscores. This style is called camel case. | Model, MyClass                          |\n",
    "| **Method**   | Use a lowercase word or words. Separate words with underscores to improve readability.                          | class_method, method                    |\n",
    "| **Constant** | Use an uppercase single letter, word, or words. Separate words with underscores to improve readability.         | CONSTANT, MY_CONSTANT, MY_LONG_CONSTANT |\n",
    "| **Module**   | Use a short, lowercase word or words. Separate words with underscores to improve readability.                   | module.py, my_module.py                 |\n",
    "| **Package**  | Use a short, lowercase word or words. Do not separate words with underscores.                                   | package, mypackage                      |\n"
   ]
  },
  {
   "cell_type": "code",
   "execution_count": null,
   "metadata": {},
   "outputs": [],
   "source": [
    "# DON'T DO THIS\n",
    "\n",
    "x = 'John Smith'\n",
    "y, z = x.split()\n",
    "\n",
    "\n",
    "# DO THIS INSTEAD\n",
    "\n",
    "name = 'John Smith'\n",
    "first_name, last_name = name.split()"
   ]
  },
  {
   "cell_type": "code",
   "execution_count": null,
   "metadata": {},
   "outputs": [],
   "source": [
    "# DON'T DO THIS\n",
    "\n",
    "def db(x):\n",
    "    return x * 2\n",
    "\n",
    "\n",
    "# DO THIS INSTEAD\n",
    "\n",
    "def multiply_by_two(x):\n",
    "    return x * 2"
   ]
  },
  {
   "cell_type": "markdown",
   "metadata": {},
   "source": [
    "&nbsp;\n",
    "\n",
    "### Code layout\n",
    "\n",
    "Use 2x blank lines to separate classes and top level functions"
   ]
  },
  {
   "cell_type": "code",
   "execution_count": null,
   "metadata": {},
   "outputs": [],
   "source": [
    "# DO THIS\n",
    "\n",
    "class MyFirstClass:\n",
    "    pass                  # 2 blank lines after a class\n",
    "\n",
    "\n",
    "class MySecondClass:      # 2 blank lines before a class\n",
    "    pass                  # 2 blank lines after a class\n",
    "\n",
    "\n",
    "def top_level_function(): # 2 blank lines before top-level function\n",
    "    return None"
   ]
  },
  {
   "cell_type": "markdown",
   "metadata": {},
   "source": [
    "&nbsp;  \n",
    "Use 1x blank line to separate methods"
   ]
  },
  {
   "cell_type": "code",
   "execution_count": null,
   "metadata": {},
   "outputs": [],
   "source": [
    "# DO THIS\n",
    "\n",
    "class MyClass:\n",
    "    def first_method(self):\n",
    "        return None             # 1 blank line after a method\n",
    "\n",
    "    def second_method(self):    # 1 blank line before a method\n",
    "        return None"
   ]
  },
  {
   "cell_type": "markdown",
   "metadata": {},
   "source": [
    "&nbsp;  \n",
    "Use blank lines to facilitate understanding"
   ]
  },
  {
   "cell_type": "code",
   "execution_count": null,
   "metadata": {},
   "outputs": [],
   "source": [
    "# DON'T DO THIS\n",
    "\n",
    "def calculate_variance(number_list):\n",
    "    sum_list = 0\n",
    "    for number in number_list:\n",
    "        sum_list = sum_list + number\n",
    "    mean = sum_list / len(number_list)\n",
    "    sum_squares = 0\n",
    "    for number in number_list:\n",
    "        sum_squares = sum_squares + number**2\n",
    "    mean_squares = sum_squares / len(number_list)\n",
    "    return mean_squares - mean**2\n",
    "\n",
    "\n",
    "# DO THIS INSTEAD\n",
    "\n",
    "def calculate_variance(number_list):\n",
    "    sum_list = 0\n",
    "    for number in number_list:\n",
    "        sum_list = sum_list + number\n",
    "    mean = sum_list / len(number_list)\n",
    "    \n",
    "    sum_squares = 0\n",
    "    for number in number_list:\n",
    "        sum_squares = sum_squares + number**2\n",
    "    mean_squares = sum_squares / len(number_list)\n",
    "    \n",
    "    return mean_squares - mean**2"
   ]
  },
  {
   "cell_type": "markdown",
   "metadata": {},
   "source": [
    "&nbsp;  \n",
    "Keep the number of characters on one line under 79 characters (or as close as possible).\n",
    "Use line break if needed"
   ]
  },
  {
   "cell_type": "code",
   "execution_count": null,
   "metadata": {},
   "outputs": [],
   "source": [
    "# DON'T DO THIS\n",
    "\n",
    "def function(argument_one, argument_two, argument_three, argument_four):\n",
    "    return argument_one\n",
    "\n",
    "\n",
    "# DO THIS INSTEAD\n",
    "\n",
    "def function(argument_one, argument_two,\n",
    "             argument_three, argument_four):\n",
    "    return argument_one"
   ]
  },
  {
   "cell_type": "markdown",
   "metadata": {},
   "source": [
    "&nbsp;\n",
    "\n",
    "### Identation\n",
    "\n",
    "Don't mix spaces and tabs. Only use spaces (4x) to indent instead of a tab.\n",
    "\n",
    "When using line break:\n",
    "- Use line break *after* a binary operator\n",
    "- Use indentation"
   ]
  },
  {
   "cell_type": "code",
   "execution_count": null,
   "metadata": {},
   "outputs": [],
   "source": [
    "# DON'T DO THIS\n",
    "\n",
    "total = (first_variable +\n",
    "         second_variable -\n",
    "         third_variable)\n",
    "\n",
    "# DO THIS INSTEAD\n",
    "\n",
    "total = (first_variable\n",
    "         + second_variable\n",
    "         - third_variable)"
   ]
  },
  {
   "cell_type": "code",
   "execution_count": null,
   "metadata": {},
   "outputs": [],
   "source": [
    "# DON'T DO THIS\n",
    "\n",
    "x = 5\n",
    "if (x > 3 and\n",
    "    x < 10):\n",
    "    print(x)\n",
    "\n",
    "\n",
    "# DO THIS INSTEAD\n",
    "\n",
    "x = 5\n",
    "if (x > 3 and\n",
    "        x < 10):\n",
    "    print(x)\n",
    "\n",
    "    \n",
    "# OR DO THIS\n",
    "\n",
    "x = 5\n",
    "if (x > 3 and\n",
    "    x < 10):\n",
    "    # Both conditions satisfied\n",
    "    print(x)"
   ]
  },
  {
   "cell_type": "code",
   "execution_count": null,
   "metadata": {},
   "outputs": [],
   "source": [
    "# DON'T DO THIS\n",
    "\n",
    "var = function(arg_one, arg_two,\n",
    "    arg_three, arg_four)\n",
    "\n",
    "\n",
    "# DO THIS INSTEAD\n",
    "\n",
    "var = function(\n",
    "    arg_one, arg_two,\n",
    "    arg_three, arg_four)"
   ]
  },
  {
   "cell_type": "markdown",
   "metadata": {},
   "source": [
    "&nbsp; \n",
    "\n",
    "When breaking lines insides parentheses, brackets, or braces, do this"
   ]
  },
  {
   "cell_type": "code",
   "execution_count": null,
   "metadata": {},
   "outputs": [],
   "source": [
    "# DO THIS\n",
    "\n",
    "list_of_numbers = [\n",
    "    1, 2, 3,\n",
    "    4, 5, 6,\n",
    "    7, 8, 9\n",
    "    ]\n",
    "\n",
    "\n",
    "# OR DO THIS\n",
    "\n",
    "list_of_numbers = [\n",
    "    1, 2, 3,\n",
    "    4, 5, 6,\n",
    "    7, 8, 9\n",
    "]"
   ]
  },
  {
   "cell_type": "markdown",
   "metadata": {},
   "source": [
    "&nbsp;  \n",
    "\n",
    "### Comments\n",
    "\n",
    "Follow those general rules when commenting:\n",
    "\n",
    "- Limit the line length of comments and docstrings to 72 characters.\n",
    "- Use complete sentences, starting with a capital letter.\n",
    "- Make sure to update comments if you change your code.\n",
    "\n",
    "&nbsp;  \n",
    "\n",
    "For *block comments*, follow  those rules:\n",
    "- Indent block comments to the same level as the code they describe.\n",
    "- Start each line with a # followed by a single space.\n",
    "- Separate paragraphs by a line containing a single #."
   ]
  },
  {
   "cell_type": "code",
   "execution_count": null,
   "metadata": {},
   "outputs": [],
   "source": [
    "# DO THIS\n",
    "\n",
    "def quadratic(a, b, c, x):\n",
    "    # Calculate the solution to a quadratic equation using the quadratic\n",
    "    # formula.\n",
    "    #\n",
    "    # There are always two solutions to a quadratic equation, x_1 and x_2.\n",
    "    x_1 = (- b+(b**2-4*a*c)**(1/2)) / (2*a)\n",
    "    x_2 = (- b-(b**2-4*a*c)**(1/2)) / (2*a)\n",
    "    return x_1, x_2"
   ]
  },
  {
   "cell_type": "markdown",
   "metadata": {},
   "source": [
    "&nbsp;  \n",
    "\n",
    "For *inline comments*, follow  those rules:\n",
    "- Use inline comments sparingly\n",
    "- Write inline comments on the same line as the statement they refer to.\n",
    "- Separate inline comments by two or more spaces from the statement.\n",
    "- Start inline comments with a # and a single space, like block comments.\n",
    "- Don’t use them to explain the obvious.\n"
   ]
  },
  {
   "cell_type": "code",
   "execution_count": null,
   "metadata": {},
   "outputs": [],
   "source": [
    "# DON'T DO THIS\n",
    "\n",
    "x = 'John Smith'   # Student Name\n",
    "\n",
    "\n",
    "# DO THIS INSTEAD\n",
    "\n",
    "student_name = 'John Smith'"
   ]
  },
  {
   "cell_type": "code",
   "execution_count": null,
   "metadata": {},
   "outputs": [],
   "source": [
    "# DON'T DO THIS\n",
    "\n",
    "empty_list = []  # Initialize empty list\n",
    "\n",
    "x = 5\n",
    "x = x * 5  # Multiply x by 5"
   ]
  },
  {
   "cell_type": "markdown",
   "metadata": {},
   "source": [
    "&nbsp;  \n",
    "\n",
    "For *docstrings*, follow  those rules:\n",
    "- Surround docstrings with three double quotes on either side\n",
    "- Write them for all public modules, functions, classes, and methods\n",
    "- Put the \"\"\" that ends a multiline docstring on a line by itself"
   ]
  },
  {
   "cell_type": "code",
   "execution_count": null,
   "metadata": {},
   "outputs": [],
   "source": [
    "# DO THIS\n",
    "\n",
    "def quadratic(a, b, c, x):\n",
    "    \"\"\"Solve quadratic equation via the quadratic formula.\n",
    "\n",
    "    A quadratic equation has the following form:\n",
    "    ax**2 + bx + c = 0\n",
    "\n",
    "    There always two solutions to a quadratic equation: x_1 & x_2.\n",
    "    \"\"\"\n",
    "    x_1 = (- b+(b**2-4*a*c)**(1/2)) / (2*a)\n",
    "    x_2 = (- b-(b**2-4*a*c)**(1/2)) / (2*a)\n",
    "\n",
    "    return x_1, x_2\n",
    "\n",
    "\n",
    "# OR DO THIS INSTEAD\n",
    "\n",
    "def quadratic(a, b, c, x):\n",
    "    \"\"\"Use the quadratic formula\"\"\"\n",
    "    x_1 = (- b+(b**2-4*a*c)**(1/2)) / (2*a)\n",
    "    x_2 = (- b-(b**2-4*a*c)**(1/2)) / (2*a)\n",
    "\n",
    "    return x_1, x_2"
   ]
  },
  {
   "cell_type": "markdown",
   "metadata": {},
   "source": [
    "&nbsp;\n",
    "\n",
    "### Whitespaces\n",
    "\n",
    "Surround the binary operators with a single space on either side (but not for default parameter)."
   ]
  },
  {
   "cell_type": "code",
   "execution_count": null,
   "metadata": {},
   "outputs": [],
   "source": [
    "# DON'T DO THIS\n",
    "\n",
    "def function(default_parameter = 5):\n",
    "    pass\n",
    "\n",
    "\n",
    "# DO THIS INSTEAD\n",
    "\n",
    "def function(default_parameter=5):\n",
    "    pass"
   ]
  },
  {
   "cell_type": "markdown",
   "metadata": {},
   "source": [
    "&nbsp;  \n",
    "\n",
    "When there’s more than one operator, only add whitespace around the operators with the lowest priority"
   ]
  },
  {
   "cell_type": "code",
   "execution_count": null,
   "metadata": {},
   "outputs": [],
   "source": [
    "# DON'T DO THIS\n",
    "\n",
    "y = x ** 2 + 5\n",
    "z = (x + y) * (x - y)\n",
    "\n",
    "\n",
    "# DO THIS INSTEAD\n",
    "\n",
    "y = x**2 + 5\n",
    "z = (x+y) * (x-y)"
   ]
  },
  {
   "cell_type": "code",
   "execution_count": null,
   "metadata": {},
   "outputs": [],
   "source": [
    "# DON'T DO THIS\n",
    "\n",
    "if x > 5 and x % 2 == 0:\n",
    "    pass\n",
    "\n",
    "\n",
    "# AND DON'T DO THIS\n",
    "if x >5 and x% 2== 0:\n",
    "    pass\n",
    "\n",
    "\n",
    "# DO THIS INSTEAD\n",
    "\n",
    "if x>5 and x%2==0:\n",
    "    pass"
   ]
  },
  {
   "cell_type": "code",
   "execution_count": null,
   "metadata": {},
   "outputs": [],
   "source": [
    "# DO THIS\n",
    "\n",
    "my_list[3:4]\n",
    "my_list[x+1 : x+2]\n",
    "\n",
    "my_list[3:4:5]\n",
    "my_list[x+1 : x+2 : x+3]\n",
    "\n",
    "my_list[x+1 : x+2 :]"
   ]
  },
  {
   "cell_type": "markdown",
   "metadata": {},
   "source": [
    "&nbsp;  \n",
    "\n",
    "Don't overuse whitespaces either"
   ]
  },
  {
   "cell_type": "code",
   "execution_count": null,
   "metadata": {},
   "outputs": [],
   "source": [
    "# DON'T DO THIS\n",
    "\n",
    "print(x , y)\n",
    "my_list = [ 1, 2, 3, ]\n",
    "my_list [3]\n",
    "my_tuple = (1, )\n",
    "var1          = 5\n",
    "var2          = 6\n",
    "some_long_var = 7\n",
    "\n",
    "\n",
    "# DO THIS INSTEAD\n",
    "\n",
    "print(x, y)\n",
    "my_list = [1, 2, 3]\n",
    "my_list[3]\n",
    "my_tuple = (1,)\n",
    "var1 = 5\n",
    "var2 = 6\n",
    "some_long_var = 7"
   ]
  },
  {
   "cell_type": "markdown",
   "metadata": {},
   "source": [
    "&nbsp;  \n",
    "\n",
    "### Other recommendations\n",
    "\n",
    "Don’t use the operator `==` to compare values to `True`, `False`, `None`."
   ]
  },
  {
   "cell_type": "code",
   "execution_count": null,
   "metadata": {},
   "outputs": [],
   "source": [
    "my_bool = 6 > 5\n",
    "number = None\n",
    "flag = True\n",
    "my_list = []"
   ]
  },
  {
   "cell_type": "code",
   "execution_count": null,
   "metadata": {},
   "outputs": [],
   "source": [
    "# DON'T DO THIS\n",
    "\n",
    "if my_bool == True:\n",
    "    pass\n",
    "\n",
    "if number == None:\n",
    "    pass\n",
    "\n",
    "if flag == None:\n",
    "    pass\n",
    "\n",
    "if not len(my_list):\n",
    "    pass\n",
    "\n",
    "\n",
    "# DO THIS INSTEAD\n",
    "\n",
    "if my_bool:\n",
    "    pass\n",
    "\n",
    "if number is None:\n",
    "    pass\n",
    "\n",
    "if flag:\n",
    "    pass\n",
    "\n",
    "if not my_list:\n",
    "    pass"
   ]
  },
  {
   "cell_type": "markdown",
   "metadata": {},
   "source": [
    "&nbsp;  \n",
    "\n",
    "Use `is not` rather than `not ... is` in if statements"
   ]
  },
  {
   "cell_type": "code",
   "execution_count": null,
   "metadata": {},
   "outputs": [],
   "source": [
    "# DON'T DO THIS\n",
    "\n",
    "if not x is None:\n",
    "    pass\n",
    "\n",
    "\n",
    "# DO THIS INSTEAD\n",
    "\n",
    "if x is not None:\n",
    "    pass"
   ]
  },
  {
   "cell_type": "markdown",
   "metadata": {},
   "source": [
    "&nbsp;  \n",
    "\n",
    "Don’t use `if x:` when you mean `if x is not None`"
   ]
  },
  {
   "cell_type": "code",
   "execution_count": null,
   "metadata": {},
   "outputs": [],
   "source": [
    "# DON'T DO THIS\n",
    "\n",
    "if arg:\n",
    "    # Do something with arg...\n",
    "\n",
    "\n",
    "# DO THIS INSTEAD\n",
    "\n",
    "if arg is not None:\n",
    "    # Do something with arg..."
   ]
  },
  {
   "cell_type": "markdown",
   "metadata": {},
   "source": [
    "&nbsp;  \n",
    "\n",
    "Don’t mistake `is` for `==` (Only use the `is` operator if you want to check the exact identity of two references)."
   ]
  },
  {
   "cell_type": "code",
   "execution_count": null,
   "metadata": {},
   "outputs": [],
   "source": [
    "# DON'T DO THIS\n",
    "\n",
    "a = range(10)\n",
    "b = range(10)\n",
    "\n",
    "print((a is b))  # = False (they are equals but have different ids)\n",
    "\n",
    "\n",
    "# DO THIS INSTEAD\n",
    "\n",
    "print(a==b)"
   ]
  },
  {
   "cell_type": "markdown",
   "metadata": {},
   "source": [
    "&nbsp;  \n",
    "\n",
    "Use `.startswith()` and `.endswith()` instead of slicing when checking for prefix and suffix"
   ]
  },
  {
   "cell_type": "code",
   "execution_count": null,
   "metadata": {},
   "outputs": [],
   "source": [
    "# DON'T DO THIS\n",
    "\n",
    "if word[:3] == 'cat':\n",
    "    pass\n",
    "\n",
    "if file_name[-3:] == 'jpg':\n",
    "    pass\n",
    "\n",
    "\n",
    "# DO THIS INSTEAD\n",
    "\n",
    "if word.startswith('cat'):\n",
    "    pass\n",
    "\n",
    "if file_name.endswith('jpg'):\n",
    "    pass"
   ]
  },
  {
   "cell_type": "markdown",
   "metadata": {},
   "source": [
    "&nbsp;  \n",
    "\n",
    "### Use linters and Autoformatters\n",
    "\n",
    "You don't need to remember everything to ensure PEP 8 compliance. , There are tools that can help speed up this process: \n",
    "- Linters are programs that analyze code and flag errors. They provide suggestions on how to fix the error. \n",
    "- Autoformatters are programs that refactor your code to conform with PEP 8 automatically.\n",
    "\n",
    "\n",
    "&nbsp;\n",
    "\n",
    "Check the [PEP 8 documentation](https://www.python.org/dev/peps/pep-0008/) for more information on the functools module.\n"
   ]
  },
  {
   "cell_type": "markdown",
   "metadata": {},
   "source": [
    "<hr>\n",
    "&nbsp;\n",
    "\n",
    "## Common mistakes and anti-patterns\n",
    "\n",
    "### Do `import *`\n",
    "\n",
    "Specify what you import"
   ]
  },
  {
   "cell_type": "code",
   "execution_count": null,
   "metadata": {},
   "outputs": [],
   "source": [
    "# DON'T DO THIS\n",
    "\n",
    "from math import *\n",
    "\n",
    "\n",
    "# DO THIS INSTEAD\n",
    "\n",
    "from math import ceil\n",
    "\n",
    "\n",
    "# OR DO THIS\n",
    "\n",
    "import math"
   ]
  },
  {
   "cell_type": "markdown",
   "metadata": {},
   "source": [
    "&nbsp;  \n",
    "\n",
    "### Use names already taken\n",
    "\n",
    "\n",
    "- Don't use the same name as an existing module as this might lead to importing the wrong one.\n",
    "- Don't overwrite built-in methods"
   ]
  },
  {
   "cell_type": "code",
   "execution_count": null,
   "metadata": {},
   "outputs": [],
   "source": [
    "# DON'T DO THIS\n",
    "\n",
    "list = [1, 2, 3]  # # Overwriting built-in 'list'\n",
    "cars = list()     # Defining a list 'cars' will raise an error\n",
    "\n",
    "\n",
    "# DO THIS INSTEAD\n",
    "numbers = [1, 2, 3]\n",
    "cars = list()"
   ]
  },
  {
   "cell_type": "markdown",
   "metadata": {},
   "source": [
    "&nbsp;  \n",
    "\n",
    "### Create circular module dependencies\n",
    "\n",
    "&nbsp;  \n",
    "\n",
    "![Circular Dependencies](./attachments/circular-dependencies.png)"
   ]
  },
  {
   "cell_type": "code",
   "execution_count": null,
   "metadata": {},
   "outputs": [],
   "source": [
    "# in A.py\n",
    "\n",
    "import B\n",
    "\n",
    "def f():\n",
    "    return B.x\n",
    "\n",
    "print f()"
   ]
  },
  {
   "cell_type": "code",
   "execution_count": null,
   "metadata": {},
   "outputs": [],
   "source": [
    "# in B.py\n",
    "\n",
    "import A\n",
    "\n",
    "x = 1\n",
    "\n",
    "def g():\n",
    "    print A.f()"
   ]
  },
  {
   "cell_type": "markdown",
   "metadata": {},
   "source": [
    "The mere presence of a circular import is not in and of itself a problem in Python. If a module has already been imported, Python is smart enough not to try to re-import it.\n",
    "\n",
    "However, depending on the point at which each module is attempting to access functions or variables defined in the other, you may indeed run into problems:\n",
    "\n",
    "If we *import A and then import B*, it will work fine, since b.py does not require anything from a.py to be defined at the time it is imported.\n",
    "\n",
    "\n",
    "If we *import B without having previously imported A* we will get an error:  \n",
    "- Import B.py $\\Rightarrow$ import A.py  \n",
    "- Import A.py $\\Rightarrow$ calls f()  \n",
    "- call f() $\\Rightarrow$ access B.x **but** B.x has not yet been defined.\n",
    "\n",
    "\n",
    "One easy solution is to do this:"
   ]
  },
  {
   "cell_type": "code",
   "execution_count": null,
   "metadata": {},
   "outputs": [],
   "source": [
    "# in B.py\n",
    "\n",
    "x = 1\n",
    "\n",
    "def g():\n",
    "    import A      # move import here\n",
    "    print A.f()"
   ]
  },
  {
   "cell_type": "markdown",
   "metadata": {},
   "source": [
    "&nbsp;  \n",
    "\n",
    "### Misunderstand scope rules\n",
    "\n",
    "Make sure to understand the [scope rules](./13_Global-Local-and-Nonlocal.ipynb)"
   ]
  },
  {
   "cell_type": "code",
   "execution_count": 1,
   "metadata": {},
   "outputs": [],
   "source": [
    "my_list = [1, 2, 3]  # this is a global variable"
   ]
  },
  {
   "cell_type": "code",
   "execution_count": 2,
   "metadata": {},
   "outputs": [],
   "source": [
    "# This works\n",
    "def foo1():\n",
    "    my_list.append(5) "
   ]
  },
  {
   "cell_type": "code",
   "execution_count": 3,
   "metadata": {},
   "outputs": [],
   "source": [
    "# This does not work\n",
    "def foo2():\n",
    "    my_list += [5]"
   ]
  },
  {
   "cell_type": "code",
   "execution_count": 4,
   "metadata": {},
   "outputs": [],
   "source": [
    "foo1()"
   ]
  },
  {
   "cell_type": "code",
   "execution_count": 5,
   "metadata": {},
   "outputs": [
    {
     "data": {
      "text/plain": [
       "[1, 2, 3, 5]"
      ]
     },
     "execution_count": 5,
     "metadata": {},
     "output_type": "execute_result"
    }
   ],
   "source": [
    "my_list"
   ]
  },
  {
   "cell_type": "code",
   "execution_count": 6,
   "metadata": {
    "scrolled": false
   },
   "outputs": [
    {
     "ename": "UnboundLocalError",
     "evalue": "local variable 'my_list' referenced before assignment",
     "output_type": "error",
     "traceback": [
      "\u001b[0;31m---------------------------------------------------------------------------\u001b[0m",
      "\u001b[0;31mUnboundLocalError\u001b[0m                         Traceback (most recent call last)",
      "\u001b[0;32m<ipython-input-6-33ee749b93dd>\u001b[0m in \u001b[0;36m<module>\u001b[0;34m\u001b[0m\n\u001b[0;32m----> 1\u001b[0;31m \u001b[0mfoo2\u001b[0m\u001b[0;34m(\u001b[0m\u001b[0;34m)\u001b[0m\u001b[0;34m\u001b[0m\u001b[0;34m\u001b[0m\u001b[0m\n\u001b[0m",
      "\u001b[0;32m<ipython-input-3-1e7fd4da9c78>\u001b[0m in \u001b[0;36mfoo2\u001b[0;34m()\u001b[0m\n\u001b[1;32m      1\u001b[0m \u001b[0;31m# This does not work\u001b[0m\u001b[0;34m\u001b[0m\u001b[0;34m\u001b[0m\u001b[0;34m\u001b[0m\u001b[0m\n\u001b[1;32m      2\u001b[0m \u001b[0;32mdef\u001b[0m \u001b[0mfoo2\u001b[0m\u001b[0;34m(\u001b[0m\u001b[0;34m)\u001b[0m\u001b[0;34m:\u001b[0m\u001b[0;34m\u001b[0m\u001b[0;34m\u001b[0m\u001b[0m\n\u001b[0;32m----> 3\u001b[0;31m     \u001b[0mmy_list\u001b[0m \u001b[0;34m+=\u001b[0m \u001b[0;34m[\u001b[0m\u001b[0;36m5\u001b[0m\u001b[0;34m]\u001b[0m\u001b[0;34m\u001b[0m\u001b[0;34m\u001b[0m\u001b[0m\n\u001b[0m",
      "\u001b[0;31mUnboundLocalError\u001b[0m: local variable 'my_list' referenced before assignment"
     ]
    }
   ],
   "source": [
    "foo2()"
   ]
  },
  {
   "cell_type": "markdown",
   "metadata": {},
   "source": [
    "`foo1` is not making an assignment to `my_list`, whereas `foo2` is (it is doing `my_list = my_list + [5]`). It is attempting to assign a value to `my_list` (therefore presumed by Python to be in the local scope)."
   ]
  },
  {
   "cell_type": "markdown",
   "metadata": {},
   "source": [
    "&nbsp;  \n",
    "\n",
    "### Use `global` statement\n",
    "\n",
    "Using `globals` seems to save from passing all the arguments to the function. However, it is a bad practice.\n",
    "\n",
    "Functions that amend global variables might bring *side effects* to the main scripts that are *very difficult to spot*. Functions should be treated as block boxes, and should be reusable."
   ]
  },
  {
   "cell_type": "markdown",
   "metadata": {},
   "source": [
    "&nbsp;  \n",
    "\n",
    "### Use mutable default arguments\n",
    "\n",
    "Remember from our lesson on [Arguments and Unpacking](./12_Arguments-and-Unpacking.ipynb#Mutability-of-default-arguments)"
   ]
  },
  {
   "cell_type": "code",
   "execution_count": null,
   "metadata": {},
   "outputs": [],
   "source": [
    "# DON'T DO THIS\n",
    "\n",
    "def append_to(element, mylist=[]):\n",
    "    mylist.append(element)\n",
    "    return mylist\n",
    "\n",
    "\n",
    "# DO THIS INSTEAD\n",
    "\n",
    "def append_to(element, mylist=None):\n",
    "    if mylist is None:\n",
    "        mylist = []\n",
    "    mylist.append(element)\n",
    "    return mylist"
   ]
  },
  {
   "cell_type": "markdown",
   "metadata": {},
   "source": [
    "&nbsp;  \n",
    "\n",
    "### Mistake references for copies with mutable objects\n",
    "\n",
    "Assignment do not create copies of objects, they only bind names to an object. For immutable objects, that usually doesn’t make a difference. But it does for mutable objects."
   ]
  },
  {
   "cell_type": "code",
   "execution_count": null,
   "metadata": {},
   "outputs": [],
   "source": [
    "# we create a new_list out of an old_list and modify it\n",
    "old_list = [[1, 1, 1], [2, 2, 2], [3, 3, 3]]\n",
    "new_list = old_list\n",
    "\n",
    "new_list.append([4, 4, 4])\n",
    "new_list[1][1] = 'AA'"
   ]
  },
  {
   "cell_type": "code",
   "execution_count": null,
   "metadata": {},
   "outputs": [],
   "source": [
    "# old_list is modified\n",
    "print(old_list)\n",
    "print(new_list)"
   ]
  },
  {
   "cell_type": "code",
   "execution_count": null,
   "metadata": {
    "scrolled": true
   },
   "outputs": [],
   "source": [
    "# The same happens when we modify new_list\n",
    "old_list = [[1, 1, 1], [2, 2, 2], [3, 3, 3]]\n",
    "new_list = old_list\n",
    "\n",
    "old_list.append([4, 4, 4])\n",
    "old_list[1][1] = 'AA'"
   ]
  },
  {
   "cell_type": "code",
   "execution_count": null,
   "metadata": {},
   "outputs": [],
   "source": [
    "# new_list is modified too\n",
    "print(old_list)\n",
    "print(new_list)"
   ]
  },
  {
   "cell_type": "markdown",
   "metadata": {},
   "source": [
    "This happens regardless of if we modify `old_list` or `new_list`"
   ]
  },
  {
   "cell_type": "code",
   "execution_count": null,
   "metadata": {},
   "outputs": [],
   "source": [
    "print(id(old_list))\n",
    "print(id(new_list))"
   ]
  },
  {
   "cell_type": "markdown",
   "metadata": {},
   "source": [
    "As you can see from the output both variables `old_list` and `new_list` shares the same id.\n",
    "\n",
    "To have the original values unchanged and only modify the new values (or vice versa) we need to create copies. There are 2 ways to do this\n",
    "- shallow copy\n",
    "- deep copy"
   ]
  },
  {
   "cell_type": "code",
   "execution_count": null,
   "metadata": {},
   "outputs": [],
   "source": [
    "# use the module copy\n",
    "from copy import copy"
   ]
  },
  {
   "cell_type": "code",
   "execution_count": null,
   "metadata": {},
   "outputs": [],
   "source": [
    "old_list = [[1, 1, 1], [2, 2, 2], [3, 3, 3]]\n",
    "new_list = copy(old_list)\n",
    "\n",
    "old_list.append([4, 4, 4])\n",
    "new_list.append(['X', 'X', 'X'])"
   ]
  },
  {
   "cell_type": "code",
   "execution_count": null,
   "metadata": {
    "scrolled": true
   },
   "outputs": [],
   "source": [
    "print(old_list)\n",
    "print(new_list)"
   ]
  },
  {
   "cell_type": "markdown",
   "metadata": {},
   "source": [
    "So far, so good.\n",
    "\n",
    "However, `copy` makes a *shallow copy* (a one level deep copy). `new_list` still contains references to the original child objects stored in `old_list`."
   ]
  },
  {
   "cell_type": "code",
   "execution_count": null,
   "metadata": {},
   "outputs": [],
   "source": [
    "# copy makes a shallow copy\n",
    "old_list = [[1, 1, 1], [2, 2, 2], [3, 3, 3]]\n",
    "new_list = copy(old_list)\n",
    "\n",
    "old_list[1][1] = 'AA'\n",
    "new_list[0][1] = 'BB'"
   ]
  },
  {
   "cell_type": "code",
   "execution_count": null,
   "metadata": {},
   "outputs": [],
   "source": [
    "print(old_list)\n",
    "print(new_list)"
   ]
  },
  {
   "cell_type": "markdown",
   "metadata": {},
   "source": [
    "`copy` only made a copy of the container `[...]` but then made references to the objects that were inside `[1, 1, 1]`  `[2, 2, 2]` and `[3, 3, 3]`. \n",
    "\n",
    "When we appended an element to `[...]`, it went fine because this part was indeed a copy. But if we want to make recursie copies we need to create *deep copies*. This way we create a clone object and make them both fully independent."
   ]
  },
  {
   "cell_type": "code",
   "execution_count": null,
   "metadata": {},
   "outputs": [],
   "source": [
    "from copy import deepcopy"
   ]
  },
  {
   "cell_type": "code",
   "execution_count": null,
   "metadata": {},
   "outputs": [],
   "source": [
    "old_list = [[1, 1, 1], [2, 2, 2], [3, 3, 3]]\n",
    "new_list = deepcopy(old_list)\n",
    "\n",
    "old_list[1][1] = 'AA'\n",
    "new_list[0][1] = 'BB'"
   ]
  },
  {
   "cell_type": "code",
   "execution_count": null,
   "metadata": {},
   "outputs": [],
   "source": [
    "print(old_list)\n",
    "print(new_list)"
   ]
  },
  {
   "cell_type": "markdown",
   "metadata": {},
   "source": [
    "&nbsp;  \n",
    "\n",
    "### Misunderstand late-binding closures"
   ]
  },
  {
   "cell_type": "code",
   "execution_count": null,
   "metadata": {},
   "outputs": [],
   "source": [
    "def func(x, n):\n",
    "    return [x*i for i in range(n)]"
   ]
  },
  {
   "cell_type": "code",
   "execution_count": null,
   "metadata": {},
   "outputs": [],
   "source": [
    "for multiplier in func(2, 5):\n",
    "    print(multiplier)"
   ]
  },
  {
   "cell_type": "code",
   "execution_count": null,
   "metadata": {},
   "outputs": [],
   "source": [
    "def func_bis(n):\n",
    "    return [lambda x : x*i for i in range(n)]"
   ]
  },
  {
   "cell_type": "code",
   "execution_count": null,
   "metadata": {
    "scrolled": false
   },
   "outputs": [],
   "source": [
    "for multiplier in func_bis(5):\n",
    "    print(multiplier(2))"
   ]
  },
  {
   "cell_type": "markdown",
   "metadata": {},
   "source": [
    "This is **one of the most Common Mistakes** in Python.\n",
    "\n",
    "The solution is a kind of a trick-hack and looks like this:"
   ]
  },
  {
   "cell_type": "code",
   "execution_count": null,
   "metadata": {},
   "outputs": [],
   "source": [
    "def func_bis(n):\n",
    "    return [lambda x,i=i : x*i for i in range(n)]  # add i=i"
   ]
  },
  {
   "cell_type": "code",
   "execution_count": null,
   "metadata": {
    "scrolled": true
   },
   "outputs": [],
   "source": [
    "for multiplier in func_bis(5):\n",
    "    print(multiplier(2))"
   ]
  },
  {
   "cell_type": "markdown",
   "metadata": {},
   "source": [
    "Now let's try to understand what happened.\n",
    "\n",
    "Python’s closures are *late binding*. This means that Python looks for value of a variable when it is needed. In other words, the values of variables used in closures are looked up at the time the inner function is called.\n",
    "\n",
    "But we knew this, look at the following example:"
   ]
  },
  {
   "cell_type": "code",
   "execution_count": null,
   "metadata": {},
   "outputs": [],
   "source": [
    "def sample(x):\n",
    "    return x*var  # var doesn’t exist so far, Still python won’t show any error while executing"
   ]
  },
  {
   "cell_type": "markdown",
   "metadata": {},
   "source": [
    "Running the cell above didn't throw any error. Only when we will call the function will it check for `var`."
   ]
  },
  {
   "cell_type": "code",
   "execution_count": null,
   "metadata": {},
   "outputs": [],
   "source": [
    "sample(6)"
   ]
  },
  {
   "cell_type": "code",
   "execution_count": null,
   "metadata": {},
   "outputs": [],
   "source": [
    "var = 10\n",
    "sample(6)"
   ]
  },
  {
   "cell_type": "code",
   "execution_count": null,
   "metadata": {},
   "outputs": [],
   "source": [
    "# Let's rewrite our first example differently\n",
    "n = 5\n",
    "func_list = []\n",
    "\n",
    "for i in range(n):\n",
    "    \n",
    "    def func(x):\n",
    "        return i*x\n",
    "    \n",
    "    func_list.append(func)"
   ]
  },
  {
   "cell_type": "code",
   "execution_count": null,
   "metadata": {},
   "outputs": [],
   "source": [
    "for f in func_list:\n",
    "    print(f(2))"
   ]
  },
  {
   "cell_type": "markdown",
   "metadata": {},
   "source": [
    "We get the same unintuitive result. But what is the code doing?\n",
    "\n",
    "1. create a list of n functions\n",
    "2. Whats are these functions? `func(x): return i*x`\n",
    "3. At this stage python doesn’t care about value of `i` or `x`\n",
    "4. But what is the value of i at the end of loop? ‘i’ should be `4` (n-1)\n",
    "\n",
    "\n",
    "Then call these functions:\n",
    "\n",
    "`for f in fun_list:\n",
    "    print f(2)`\n",
    "    \n",
    "5. We call `f(2)` and it will return `i*x`\n",
    "6. Here `x` is `2` and `i` is `4` (n-1), So all the call to `f(2)` will return ‘8’\n",
    "\n",
    "&nbsp;  \n",
    "\n",
    "The same logic applies to our first example and the following one:"
   ]
  },
  {
   "cell_type": "code",
   "execution_count": null,
   "metadata": {},
   "outputs": [],
   "source": [
    "# another example\n",
    "def outer():\n",
    "    \n",
    "    var = 5\n",
    "    \n",
    "    def inner(x):\n",
    "        return var*x\n",
    "    var = 10\n",
    "    \n",
    "    return inner"
   ]
  },
  {
   "cell_type": "code",
   "execution_count": null,
   "metadata": {},
   "outputs": [],
   "source": [
    "f = outer()"
   ]
  },
  {
   "cell_type": "code",
   "execution_count": null,
   "metadata": {},
   "outputs": [],
   "source": [
    "# what result should we expect?\n",
    "f(6)"
   ]
  },
  {
   "cell_type": "markdown",
   "metadata": {},
   "source": [
    "&nbsp;  \n",
    "\n",
    "### Ask for permission instead of forgiveness\n",
    "\n",
    "The Python community uses an EAFP (easier to ask for forgiveness than permission) coding style. This coding style assumes that needed variables, files, etc. exist. Any problems are caught as exceptions. This results in a generally clean and concise style containing a lot of `try` and `except` statements."
   ]
  },
  {
   "cell_type": "markdown",
   "metadata": {},
   "source": [
    "&nbsp;  \n",
    "\n",
    "### Poorly handle exceptions\n",
    "\n",
    "Specify the kind of exception you are looking for. And  If you need to catch them all, at least [log them](./20_Errors-and-Exceptions.ipynb#Common-mistakes)"
   ]
  },
  {
   "cell_type": "code",
   "execution_count": null,
   "metadata": {},
   "outputs": [],
   "source": [
    "# DON'T DO THIS\n",
    "\n",
    "except:\n",
    "    pass\n",
    "    \n",
    "# DO THIS INSTEAD\n",
    "\n",
    "# Catch some very specific exception (KeyError, ValueError...)\n",
    "except ValueError:\n",
    "    pass"
   ]
  },
  {
   "cell_type": "markdown",
   "metadata": {},
   "source": [
    "&nbsp;  \n",
    "\n",
    "Use a tuple to [catch several exceptions](./20_Errors-and-Exceptions.ipynb#Common-mistakes) in one block"
   ]
  },
  {
   "cell_type": "code",
   "execution_count": null,
   "metadata": {},
   "outputs": [],
   "source": [
    "# DON'T DO THIS\n",
    "\n",
    "except ValueError, IndexError:\n",
    "\n",
    "    \n",
    "# DO THIS INSTEAD\n",
    "\n",
    "except (ValueError, IndexError):"
   ]
  },
  {
   "cell_type": "markdown",
   "metadata": {},
   "source": [
    "&nbsp;  \n",
    "\n",
    "If catching exceptions in different block, mind the order (Move sub class exception clause before its ancestor’s clause)."
   ]
  },
  {
   "cell_type": "code",
   "execution_count": null,
   "metadata": {},
   "outputs": [],
   "source": [
    "# DON'T DO THIS\n",
    "\n",
    "except Exception as e:\n",
    "    print(\"Exception\")\n",
    "\n",
    "except ZeroDivisionError as e:   # unreachable code!\n",
    "    print(\"ZeroDivisionError\")\n",
    "\n",
    "    \n",
    "# DO THIS INSTEAD\n",
    "\n",
    "except ZeroDivisionError as e:\n",
    "    print(\"ZeroDivisionError\")\n",
    "\n",
    "except Exception as e:\n",
    "    print(\"Exception\")"
   ]
  },
  {
   "cell_type": "markdown",
   "metadata": {},
   "source": [
    "&nbsp;  \n",
    "\n",
    "### Iterate unpythonically\n",
    "\n",
    "Use `enumerate()` when appropriate"
   ]
  },
  {
   "cell_type": "code",
   "execution_count": null,
   "metadata": {},
   "outputs": [],
   "source": [
    "my_list = [1,2,3]\n",
    "\n",
    "# DON'T DO THIS\n",
    "\n",
    "for i in range(0, len(my_list)):\n",
    "    nb = my_list[i]\n",
    "\n",
    "\n",
    "# DO THIS INSTEAD\n",
    "\n",
    "for i, le in enumerate(my_list):\n",
    "    pass\n",
    "\n",
    "\n",
    "# OR DO THIS\n",
    "\n",
    "for item in my_list:\n",
    "    pass"
   ]
  },
  {
   "cell_type": "markdown",
   "metadata": {},
   "source": [
    "&nbsp;  \n",
    "\n",
    "Use `items()` when appropriate"
   ]
  },
  {
   "cell_type": "code",
   "execution_count": null,
   "metadata": {},
   "outputs": [],
   "source": [
    "d = {\"first_name\": \"Alfred\", \"last_name\":\"Hitchcock\"}"
   ]
  },
  {
   "cell_type": "code",
   "execution_count": null,
   "metadata": {},
   "outputs": [],
   "source": [
    "# DON'T DO THIS\n",
    "\n",
    "for key in d:\n",
    "    print(key, d[key])\n",
    "    \n",
    "    \n",
    "# DO THIS INSTEAD\n",
    "\n",
    "for key, val in d.items():\n",
    "    print(key, val)"
   ]
  },
  {
   "cell_type": "markdown",
   "metadata": {},
   "source": [
    "&nbsp;  \n",
    "\n",
    "Use `zip()` to iterate over multiple lists"
   ]
  },
  {
   "cell_type": "code",
   "execution_count": null,
   "metadata": {},
   "outputs": [],
   "source": [
    "numbers = [1, 2, 3]\n",
    "letters = [\"A\", \"B\", \"C\"]"
   ]
  },
  {
   "cell_type": "code",
   "execution_count": null,
   "metadata": {},
   "outputs": [],
   "source": [
    "# DON'T DO THIS\n",
    "\n",
    "for index in range(len(numbers)):\n",
    "    print(numbers[index], letters[index])\n",
    "\n",
    "\n",
    "# DO THIS INSTEAD\n",
    "\n",
    "for numbers_value, letters_value in zip(numbers, letters):\n",
    "    print(numbers_value, letters_value)"
   ]
  },
  {
   "cell_type": "markdown",
   "metadata": {},
   "source": [
    "&nbsp;  \n",
    "\n",
    "### Modify a list while iterating over it"
   ]
  },
  {
   "cell_type": "code",
   "execution_count": 7,
   "metadata": {},
   "outputs": [
    {
     "data": {
      "text/plain": [
       "[1, 6, 8, 4]"
      ]
     },
     "execution_count": 7,
     "metadata": {},
     "output_type": "execute_result"
    }
   ],
   "source": [
    "# you might get something weird\n",
    "\n",
    "my_list = [5, 1, 3, 6, 9, 8, 5, 4, 2]\n",
    "for n in my_list:\n",
    "    my_list.remove(n)\n",
    "my_list"
   ]
  },
  {
   "cell_type": "code",
   "execution_count": 8,
   "metadata": {
    "scrolled": false
   },
   "outputs": [
    {
     "ename": "IndexError",
     "evalue": "list assignment index out of range",
     "output_type": "error",
     "traceback": [
      "\u001b[0;31m---------------------------------------------------------------------------\u001b[0m",
      "\u001b[0;31mIndexError\u001b[0m                                Traceback (most recent call last)",
      "\u001b[0;32m<ipython-input-8-e3da16cadc89>\u001b[0m in \u001b[0;36m<module>\u001b[0;34m\u001b[0m\n\u001b[1;32m      2\u001b[0m \u001b[0mmy_list\u001b[0m \u001b[0;34m=\u001b[0m \u001b[0;34m[\u001b[0m\u001b[0;36m5\u001b[0m\u001b[0;34m,\u001b[0m \u001b[0;36m1\u001b[0m\u001b[0;34m,\u001b[0m \u001b[0;36m3\u001b[0m\u001b[0;34m,\u001b[0m \u001b[0;36m6\u001b[0m\u001b[0;34m,\u001b[0m \u001b[0;36m9\u001b[0m\u001b[0;34m,\u001b[0m \u001b[0;36m8\u001b[0m\u001b[0;34m,\u001b[0m \u001b[0;36m5\u001b[0m\u001b[0;34m,\u001b[0m \u001b[0;36m4\u001b[0m\u001b[0;34m,\u001b[0m \u001b[0;36m2\u001b[0m\u001b[0;34m]\u001b[0m\u001b[0;34m\u001b[0m\u001b[0;34m\u001b[0m\u001b[0m\n\u001b[1;32m      3\u001b[0m \u001b[0;32mfor\u001b[0m \u001b[0mn\u001b[0m \u001b[0;32min\u001b[0m \u001b[0mmy_list\u001b[0m\u001b[0;34m:\u001b[0m\u001b[0;34m\u001b[0m\u001b[0;34m\u001b[0m\u001b[0m\n\u001b[0;32m----> 4\u001b[0;31m     \u001b[0;32mdel\u001b[0m \u001b[0mmy_list\u001b[0m\u001b[0;34m[\u001b[0m\u001b[0mn\u001b[0m\u001b[0;34m]\u001b[0m\u001b[0;34m\u001b[0m\u001b[0;34m\u001b[0m\u001b[0m\n\u001b[0m\u001b[1;32m      5\u001b[0m \u001b[0mmy_list\u001b[0m\u001b[0;34m\u001b[0m\u001b[0;34m\u001b[0m\u001b[0m\n",
      "\u001b[0;31mIndexError\u001b[0m: list assignment index out of range"
     ]
    }
   ],
   "source": [
    "# or an error\n",
    "my_list = [5, 1, 3, 6, 9, 8, 5, 4, 2]\n",
    "for n in my_list:\n",
    "    del my_list[n]\n",
    "my_list"
   ]
  },
  {
   "cell_type": "markdown",
   "metadata": {},
   "source": [
    "&nbsp;  \n",
    "\n",
    "### Forget `else` clause or `break` statement in a loop "
   ]
  },
  {
   "cell_type": "code",
   "execution_count": 10,
   "metadata": {},
   "outputs": [],
   "source": [
    "# DON'T DO THIS\n",
    "\n",
    "def contains_magic_number(my_list, magic_number):\n",
    "    found = False\n",
    "    \n",
    "    for i in my_list:\n",
    "        if i == magic_number:\n",
    "            found = True\n",
    "            print(\"This list contains the magic number\")\n",
    "            break\n",
    "\n",
    "    if not found:\n",
    "        print(\"This list does NOT contain the magic number\")"
   ]
  },
  {
   "cell_type": "code",
   "execution_count": 11,
   "metadata": {},
   "outputs": [],
   "source": [
    "# DON'T DO THIS EITHER\n",
    "\n",
    "def contains_magic_number(my_list, magic_number):\n",
    "    \n",
    "    for i in my_list:\n",
    "        if i == magic_number:\n",
    "            print(\"This list contains the magic number\")\n",
    "            \n",
    "    else:\n",
    "        print(\"This list does NOT contain the magic number\")"
   ]
  },
  {
   "cell_type": "code",
   "execution_count": 12,
   "metadata": {},
   "outputs": [
    {
     "name": "stdout",
     "output_type": "stream",
     "text": [
      "This list contains the magic number\n",
      "This list does NOT contain the magic number\n"
     ]
    }
   ],
   "source": [
    "# check\n",
    "contains_magic_number(range(10), 5)"
   ]
  },
  {
   "cell_type": "code",
   "execution_count": 13,
   "metadata": {},
   "outputs": [],
   "source": [
    "# DO THIS INSTEAD\n",
    "\n",
    "def contains_magic_number(my_list, magic_number):\n",
    "    \n",
    "    for i in my_list:\n",
    "        if i == magic_number:\n",
    "            print(\"This list contains the magic number.\")\n",
    "            break  # added break statement here\n",
    "\n",
    "    else:\n",
    "        print(\"This list does NOT contain the magic number.\")"
   ]
  },
  {
   "cell_type": "code",
   "execution_count": 14,
   "metadata": {
    "hide_input": false,
    "scrolled": true
   },
   "outputs": [
    {
     "name": "stdout",
     "output_type": "stream",
     "text": [
      "This list contains the magic number.\n"
     ]
    }
   ],
   "source": [
    "# check\n",
    "contains_magic_number(range(10), 5)"
   ]
  },
  {
   "cell_type": "markdown",
   "metadata": {},
   "source": [
    "&nbsp;  \n",
    "\n",
    "### Miuse dict and list comprehension"
   ]
  },
  {
   "cell_type": "code",
   "execution_count": null,
   "metadata": {},
   "outputs": [],
   "source": [
    "# DON'T DO THIS\n",
    "\n",
    "d = dict([(number,number*2) for number in numbers])\n",
    "\n",
    "    \n",
    "# DO THIS INSTEAD\n",
    "\n",
    "d = {number: number * 2 for number in numbers}"
   ]
  },
  {
   "cell_type": "markdown",
   "metadata": {},
   "source": [
    "&nbsp;  \n",
    "\n",
    "Don't use `map()` or `filter()` where list comprehension is possible."
   ]
  },
  {
   "cell_type": "code",
   "execution_count": null,
   "metadata": {},
   "outputs": [],
   "source": [
    "my_list = [1, 2, 3]\n",
    "\n",
    "\n",
    "# DON'T DO THIS\n",
    "\n",
    "doubles = map(lambda x: x * 2, my_list)\n",
    "\n",
    "    \n",
    "# DO THIS INSTEAD\n",
    "\n",
    "doubles = [x * 2 for x in my_list]"
   ]
  },
  {
   "cell_type": "markdown",
   "metadata": {},
   "source": [
    "&nbsp;  \n",
    "\n",
    "### Use a `list` instead of a `set` or a `dict `"
   ]
  },
  {
   "cell_type": "code",
   "execution_count": null,
   "metadata": {},
   "outputs": [],
   "source": [
    "# DON'T DO THIS\n",
    "\n",
    "my_list = [1, 2, 3, 4]\n",
    "\n",
    "if 3 in my_list:\n",
    "    pass\n",
    "\n",
    "    \n",
    "# DO THIS INSTEAD\n",
    "\n",
    "my_set = set([1, 2, 3, 4])\n",
    "\n",
    "if 3 in my_set:\n",
    "    pass"
   ]
  },
  {
   "cell_type": "markdown",
   "metadata": {},
   "source": [
    "&nbsp;  \n",
    "\n",
    "### Forget `setdefault()` and `defaultdict()`"
   ]
  },
  {
   "cell_type": "code",
   "execution_count": null,
   "metadata": {},
   "outputs": [],
   "source": [
    "# DON'T DO THIS\n",
    "\n",
    "d = {}\n",
    "\n",
    "if \"k\" not in d:\n",
    "    d[\"k\"] = []\n",
    "d[\"k\"].append('something')\n",
    "\n",
    "\n",
    "# DO THIS INSTEAD\n",
    "\n",
    "d = {}\n",
    "\n",
    "d.setdefault(\"k\", [])\n",
    "d[\"k\"].append('something')"
   ]
  },
  {
   "cell_type": "code",
   "execution_count": null,
   "metadata": {},
   "outputs": [],
   "source": [
    "# DON'T DO THIS\n",
    "\n",
    "d = {}\n",
    "if \"k\" not in d:\n",
    "    d[\"k\"] = 6\n",
    "\n",
    "d[\"k\"] += 1\n",
    "\n",
    "\n",
    "# DO THIS INSTEAD\n",
    "\n",
    "from collections import defaultdict\n",
    "\n",
    "d = defaultdict(lambda : 6)\n",
    "d[\"k\"] += 1"
   ]
  },
  {
   "cell_type": "code",
   "execution_count": null,
   "metadata": {},
   "outputs": [],
   "source": [
    "# DON'T DO THIS\n",
    "\n",
    "d = {\"message\": \"Hello, World!\"}\n",
    "\n",
    "data = \"\"\n",
    "if \"message\" in dictionary:\n",
    "    data = dictionary[\"message\"]\n",
    "\n",
    "    \n",
    "# DO THIS INSTEAD\n",
    "\n",
    "d = {\"message\": \"Hello, World!\"}\n",
    "\n",
    "data = dictionary.get(\"message\", \"\")"
   ]
  },
  {
   "cell_type": "markdown",
   "metadata": {},
   "source": [
    "&nbsp;  \n",
    "\n",
    "### Misuse string's `.format()` with a dictionary"
   ]
  },
  {
   "cell_type": "code",
   "execution_count": null,
   "metadata": {},
   "outputs": [],
   "source": [
    "person = {'name': 'John', 'age': 20}"
   ]
  },
  {
   "cell_type": "code",
   "execution_count": null,
   "metadata": {},
   "outputs": [],
   "source": [
    "# DON'T DO THIS\n",
    "\n",
    "print('{0} is {1} years old'.format(\n",
    "    person['name'],\n",
    "    person['age'])\n",
    ")\n",
    "\n",
    "\n",
    "# DO THIS INSTEAD\n",
    "\n",
    "print('{name} is {age} years old'.format(**person))"
   ]
  },
  {
   "cell_type": "markdown",
   "metadata": {},
   "source": [
    "&nbsp;  \n",
    "\n",
    "### Unpack unpythonically"
   ]
  },
  {
   "cell_type": "code",
   "execution_count": null,
   "metadata": {},
   "outputs": [],
   "source": [
    "# DON'T DO THIS\n",
    "\n",
    "my_list = [4, 7, 18]\n",
    "\n",
    "elem0 = my_list[0]\n",
    "elem1 = my_list[1]\n",
    "elem2 = my_list[2]\n",
    "\n",
    "\n",
    "# DO THIS INSTEAD\n",
    "\n",
    "my_list = [4, 7, 18]\n",
    "\n",
    "elem0, elem1, elem2 = my_list"
   ]
  },
  {
   "cell_type": "code",
   "execution_count": null,
   "metadata": {},
   "outputs": [],
   "source": [
    "# DON'T DO THIS\n",
    "\n",
    "def gcd(a, b):\n",
    "\n",
    "    while b != 0:\n",
    "        temp = b\n",
    "        b = a % b\n",
    "        a = temp\n",
    "    return a\n",
    "\n",
    "\n",
    "# DO THIS INSTEAD\n",
    "\n",
    "def gcd(a, b):\n",
    "\n",
    "    while b != 0:\n",
    "        a, b = b, a % b\n",
    "    return a"
   ]
  },
  {
   "cell_type": "code",
   "execution_count": null,
   "metadata": {},
   "outputs": [],
   "source": [
    "# DON'T DO THIS\n",
    "\n",
    "b = \"1984\"\n",
    "a = b, c = \"AB\"  #  a = (b, c) = 'AB'"
   ]
  },
  {
   "cell_type": "code",
   "execution_count": null,
   "metadata": {},
   "outputs": [],
   "source": [
    "# check\n",
    "print(a, b, c)"
   ]
  },
  {
   "cell_type": "markdown",
   "metadata": {},
   "source": [
    "&nbsp;  \n",
    "\n",
    "### Return different types in a function"
   ]
  },
  {
   "cell_type": "code",
   "execution_count": null,
   "metadata": {},
   "outputs": [],
   "source": [
    "# DON'T DO THIS\n",
    "\n",
    "def get_secret_code(password):\n",
    "    if password != \"bicycle\":\n",
    "        return None\n",
    "    else:\n",
    "        return \"42\"\n",
    "    \n",
    "    \n",
    "# DO THIS INSTEAD\n",
    "\n",
    "def get_secret_code(password):\n",
    "    if password != \"bicycle\":\n",
    "        raise ValueError\n",
    "    else:\n",
    "        return \"42\""
   ]
  },
  {
   "cell_type": "markdown",
   "metadata": {},
   "source": [
    "&nbsp;  \n",
    "\n",
    "### Use type() to compare types\n",
    "\n",
    "Use `isinstance()` instead"
   ]
  },
  {
   "cell_type": "markdown",
   "metadata": {},
   "source": [
    "&nbsp;  \n",
    "\n",
    "### Assign a variable to a lambda expression\n",
    "\n",
    "Use a `def` for named expressions"
   ]
  },
  {
   "cell_type": "code",
   "execution_count": null,
   "metadata": {},
   "outputs": [],
   "source": [
    "# DON'T DO THIS\n",
    "\n",
    "f = lambda x: 2*x\n",
    "\n",
    "    \n",
    "# DO THIS INSTEAD\n",
    "\n",
    "def f(x): return 2*x"
   ]
  },
  {
   "cell_type": "markdown",
   "metadata": {},
   "source": [
    "<hr>\n",
    "&nbsp;\n",
    "\n",
    "## Credits\n",
    "- [Real Python](https://realpython.com/python-pep8/), [here](https://realpython.com/the-most-diabolical-python-antipattern/) and [here](https://realpython.com/copying-python-objects/)\n",
    "- [toptal](https://www.toptal.com/python/top-10-mistakes-that-python-programmers-make)\n",
    "- [Python anti-patterns](https://docs.quantifiedcode.com/python-anti-patterns/index.html)\n",
    "- [Towards Data Science](https://towardsdatascience.com/4-common-mistakes-python-beginners-should-avoid-89bcebd2c628)\n",
    "- [Programmiz](https://www.programiz.com/python-programming/shallow-deep-copy)\n",
    "- [Derpy Stuffs](https://derpystuffs.wordpress.com/2018/09/24/python-late-binding/)"
   ]
  }
 ],
 "metadata": {
  "kernelspec": {
   "display_name": "Python 3",
   "language": "python",
   "name": "python3"
  },
  "language_info": {
   "codemirror_mode": {
    "name": "ipython",
    "version": 3
   },
   "file_extension": ".py",
   "mimetype": "text/x-python",
   "name": "python",
   "nbconvert_exporter": "python",
   "pygments_lexer": "ipython3",
   "version": "3.9.2"
  },
  "toc": {
   "base_numbering": 1,
   "nav_menu": {},
   "number_sections": true,
   "sideBar": true,
   "skip_h1_title": true,
   "title_cell": "Table of Contents",
   "title_sidebar": "Contents",
   "toc_cell": true,
   "toc_position": {
    "height": "calc(100% - 180px)",
    "left": "10px",
    "top": "150px",
    "width": "241.6px"
   },
   "toc_section_display": true,
   "toc_window_display": false
  },
  "varInspector": {
   "cols": {
    "lenName": 16,
    "lenType": 16,
    "lenVar": 40
   },
   "kernels_config": {
    "python": {
     "delete_cmd_postfix": "",
     "delete_cmd_prefix": "del ",
     "library": "var_list.py",
     "varRefreshCmd": "print(var_dic_list())"
    },
    "r": {
     "delete_cmd_postfix": ") ",
     "delete_cmd_prefix": "rm(",
     "library": "var_list.r",
     "varRefreshCmd": "cat(var_dic_list()) "
    }
   },
   "types_to_exclude": [
    "module",
    "function",
    "builtin_function_or_method",
    "instance",
    "_Feature"
   ],
   "window_display": false
  }
 },
 "nbformat": 4,
 "nbformat_minor": 1
}
