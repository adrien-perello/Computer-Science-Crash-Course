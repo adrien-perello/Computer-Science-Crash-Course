{
 "cells": [
  {
   "cell_type": "markdown",
   "metadata": {},
   "source": [
    "# I. Introduction to Python > 18. Modules (Part 1)\n",
    "\n",
    "\n",
    "**[<< Previous lesson](./17_Buil-in-Functions-Part-2-and-Lambda.ipynb)   |   [Next lesson >>](./19_Modules-Part-2.ipynb)**\n",
    "\n",
    "<hr>\n",
    "&nbsp;"
   ]
  },
  {
   "cell_type": "markdown",
   "metadata": {
    "toc": true
   },
   "source": [
    "<h1>Table of Contents<span class=\"tocSkip\"></span></h1>\n",
    "<div class=\"toc\"><ul class=\"toc-item\"><li><span><a href=\"#Introduction\" data-toc-modified-id=\"Introduction-1\"><span class=\"toc-item-num\">1&nbsp;&nbsp;</span>Introduction</a></span></li><li><span><a href=\"#Importing-a-module\" data-toc-modified-id=\"Importing-a-module-2\"><span class=\"toc-item-num\">2&nbsp;&nbsp;</span>Importing a module</a></span></li><li><span><a href=\"#The-collection-module\" data-toc-modified-id=\"The-collection-module-3\"><span class=\"toc-item-num\">3&nbsp;&nbsp;</span>The <code>collection</code> module</a></span><ul class=\"toc-item\"><li><span><a href=\"#Counter\" data-toc-modified-id=\"Counter-3.1\"><span class=\"toc-item-num\">3.1&nbsp;&nbsp;</span><code>Counter</code></a></span></li><li><span><a href=\"#defaultdict\" data-toc-modified-id=\"defaultdict-3.2\"><span class=\"toc-item-num\">3.2&nbsp;&nbsp;</span><code>defaultdict</code></a></span></li></ul></li><li><span><a href=\"#The-timeit-module\" data-toc-modified-id=\"The-timeit-module-4\"><span class=\"toc-item-num\">4&nbsp;&nbsp;</span>The <code>timeit</code> module</a></span></li><li><span><a href=\"#Comparing-map(),-lambda-functions-and-list-comprehension-with-timeit()\" data-toc-modified-id=\"Comparing-map(),-lambda-functions-and-list-comprehension-with-timeit()-5\"><span class=\"toc-item-num\">5&nbsp;&nbsp;</span>Comparing <code>map()</code>, <code>lambda</code> functions and list comprehension with <code>timeit()</code></a></span></li><li><span><a href=\"#Credits\" data-toc-modified-id=\"Credits-6\"><span class=\"toc-item-num\">6&nbsp;&nbsp;</span>Credits</a></span></li></ul></div>"
   ]
  },
  {
   "cell_type": "markdown",
   "metadata": {},
   "source": [
    "<hr>\n",
    "&nbsp;\n",
    "\n",
    "## Introduction\n",
    "\n",
    "Programs would be really hard to understand if everything was in a single file. This is why we use **modules**. Modular programming refers to the process of breaking a large programming task into separate, smaller, more manageable subtasks or modules.\n",
    "\n",
    "This process makes the code:\n",
    "- simpler since the focus in on a small portion of the problem\n",
    "- easier to maintain\n",
    "- reusable\n",
    "- avoid name collisions (see [Scope](./13_Global-Local-and-Nonlocal.ipynb#4))\n",
    "\n",
    "Technically, a module is a file that contains a collections of **functions** and **global variables**. We organise the modules into **package** (a directory). And we regroup related modules and package into a **library**.\n",
    "\n",
    "![Module](./attachments/module.png)"
   ]
  },
  {
   "cell_type": "markdown",
   "metadata": {},
   "source": [
    "<hr>\n",
    "&nbsp;\n",
    "\n",
    "## Importing a module"
   ]
  },
  {
   "cell_type": "code",
   "execution_count": 1,
   "metadata": {},
   "outputs": [],
   "source": [
    "# we use the keyword import to import a module\n",
    "import random"
   ]
  },
  {
   "cell_type": "code",
   "execution_count": 2,
   "metadata": {
    "scrolled": true
   },
   "outputs": [
    {
     "data": {
      "text/plain": [
       "64"
      ]
     },
     "execution_count": 2,
     "metadata": {},
     "output_type": "execute_result"
    }
   ],
   "source": [
    "# now we can call the functions randint() from random\n",
    "# randint() returns a random integer in [a, b] (both included)\n",
    "random.randint(0, 100)"
   ]
  },
  {
   "cell_type": "markdown",
   "metadata": {},
   "source": [
    "You can rerun the cell, and you will get a different number each time."
   ]
  },
  {
   "cell_type": "code",
   "execution_count": 3,
   "metadata": {},
   "outputs": [
    {
     "ename": "NameError",
     "evalue": "name 'randint' is not defined",
     "output_type": "error",
     "traceback": [
      "\u001b[0;31m---------------------------------------------------------------------------\u001b[0m",
      "\u001b[0;31mNameError\u001b[0m                                 Traceback (most recent call last)",
      "\u001b[0;32m<ipython-input-3-4827801af547>\u001b[0m in \u001b[0;36m<module>\u001b[0;34m\u001b[0m\n\u001b[1;32m      1\u001b[0m \u001b[0;31m# you need to specify where the function comes from when using it\u001b[0m\u001b[0;34m\u001b[0m\u001b[0;34m\u001b[0m\u001b[0;34m\u001b[0m\u001b[0m\n\u001b[0;32m----> 2\u001b[0;31m \u001b[0mrandint\u001b[0m\u001b[0;34m(\u001b[0m\u001b[0;36m0\u001b[0m\u001b[0;34m,\u001b[0m \u001b[0;36m100\u001b[0m\u001b[0;34m)\u001b[0m\u001b[0;34m\u001b[0m\u001b[0;34m\u001b[0m\u001b[0m\n\u001b[0m",
      "\u001b[0;31mNameError\u001b[0m: name 'randint' is not defined"
     ]
    }
   ],
   "source": [
    "# you need to specify where the function comes from when using it\n",
    "randint(0, 100)"
   ]
  },
  {
   "cell_type": "code",
   "execution_count": 4,
   "metadata": {},
   "outputs": [],
   "source": [
    "# Unless you import the function only\n",
    "from random import randint"
   ]
  },
  {
   "cell_type": "code",
   "execution_count": 5,
   "metadata": {},
   "outputs": [
    {
     "data": {
      "text/plain": [
       "32"
      ]
     },
     "execution_count": 5,
     "metadata": {},
     "output_type": "execute_result"
    }
   ],
   "source": [
    "# in this case, we write the function without the name of the module\n",
    "randint(0, 100)"
   ]
  },
  {
   "cell_type": "code",
   "execution_count": 6,
   "metadata": {},
   "outputs": [],
   "source": [
    "# we can also import the function under a different name\n",
    "from random import randint as pick_random"
   ]
  },
  {
   "cell_type": "code",
   "execution_count": 7,
   "metadata": {
    "scrolled": true
   },
   "outputs": [
    {
     "data": {
      "text/plain": [
       "6"
      ]
     },
     "execution_count": 7,
     "metadata": {},
     "output_type": "execute_result"
    }
   ],
   "source": [
    "pick_random(0, 10)"
   ]
  },
  {
   "cell_type": "markdown",
   "metadata": {},
   "source": [
    "&nbsp;\n",
    "\n",
    "**NOTE:** You might see the use of **`*`** like this:\n",
    "\n",
    "    from module import *\n",
    "    \n",
    "**DON'T do it**. It imports everything from the module, but this is a bad practice. You might have name collisions and conflicts. Instead, be as specific as possible.\n",
    "\n",
    "Now let's have a explore a few useful modules"
   ]
  },
  {
   "cell_type": "markdown",
   "metadata": {},
   "source": [
    "<hr>\n",
    "&nbsp;\n",
    "\n",
    "## The `collection` module\n",
    "\n",
    "\n",
    "The **`collections`** provides different types of containers as alternatives to the basics: `dict`, `list`, `set`, and `tuple`. A Container is an object that is used to store different objects and provide a way to access the contained objects and iterate over them"
   ]
  },
  {
   "cell_type": "markdown",
   "metadata": {},
   "source": [
    "### `Counter`\n",
    "\n",
    "A `counter` is a sub-class of the dictionary. It is used to keep the count of elements. Inside of it, the elements are stored as dictionary keys and the counts of the objects are stored as the value."
   ]
  },
  {
   "cell_type": "code",
   "execution_count": 8,
   "metadata": {},
   "outputs": [],
   "source": [
    "from collections import Counter"
   ]
  },
  {
   "cell_type": "code",
   "execution_count": 9,
   "metadata": {},
   "outputs": [
    {
     "data": {
      "text/plain": [
       "Counter({1: 6, 2: 6, 3: 4, 12: 1, 32: 1, 21: 1, 223: 1})"
      ]
     },
     "execution_count": 9,
     "metadata": {},
     "output_type": "execute_result"
    }
   ],
   "source": [
    "# counter with list\n",
    "lst = [1,2,2,2,2,3,3,3,1,2,1,12,3,2,32,1,21,1,223,1]\n",
    "\n",
    "Counter(lst)"
   ]
  },
  {
   "cell_type": "code",
   "execution_count": 10,
   "metadata": {},
   "outputs": [
    {
     "data": {
      "text/plain": [
       "Counter({'a': 2, 'b': 7, 's': 6, 'h': 3})"
      ]
     },
     "execution_count": 10,
     "metadata": {},
     "output_type": "execute_result"
    }
   ],
   "source": [
    "# counter with strings\n",
    "Counter('aabsbsbsbhshhbbsbs')"
   ]
  },
  {
   "cell_type": "code",
   "execution_count": 11,
   "metadata": {},
   "outputs": [
    {
     "data": {
      "text/plain": [
       "Counter({'How': 1,\n",
       "         'many': 1,\n",
       "         'times': 2,\n",
       "         'does': 1,\n",
       "         'each': 3,\n",
       "         'word': 3,\n",
       "         'show': 1,\n",
       "         'up': 1,\n",
       "         'in': 1,\n",
       "         'this': 1,\n",
       "         'sentence': 1})"
      ]
     },
     "execution_count": 11,
     "metadata": {},
     "output_type": "execute_result"
    }
   ],
   "source": [
    "# counter with words in a sentence\n",
    "s = 'How many times does each word show up in this sentence word times each each word'\n",
    "words = s.split()\n",
    "Counter(words)"
   ]
  },
  {
   "cell_type": "code",
   "execution_count": 12,
   "metadata": {},
   "outputs": [
    {
     "data": {
      "text/plain": [
       "[('each', 3)]"
      ]
     },
     "execution_count": 12,
     "metadata": {},
     "output_type": "execute_result"
    }
   ],
   "source": [
    "# the objects counter have a method called most_common()\n",
    "mycounter = Counter(words)\n",
    "mycounter.most_common(1)"
   ]
  },
  {
   "cell_type": "code",
   "execution_count": 13,
   "metadata": {},
   "outputs": [
    {
     "data": {
      "text/plain": [
       "[('each', 3), ('word', 3), ('times', 2)]"
      ]
     },
     "execution_count": 13,
     "metadata": {},
     "output_type": "execute_result"
    }
   ],
   "source": [
    "# and we can choose how many elements we want to get\n",
    "mycounter.most_common(3)"
   ]
  },
  {
   "cell_type": "markdown",
   "metadata": {},
   "source": [
    "&nbsp;\n",
    "\n",
    "### `defaultdict`\n",
    "\n",
    "**`defaultdict`** is a dictionary-like object which provides the same methods as a standard dictionary but it takes a first argument (default_factory). Let's see why it is insteresting."
   ]
  },
  {
   "cell_type": "code",
   "execution_count": 14,
   "metadata": {},
   "outputs": [],
   "source": [
    "# this is a (normal) empty dictionary\n",
    "d = {}"
   ]
  },
  {
   "cell_type": "code",
   "execution_count": 15,
   "metadata": {},
   "outputs": [
    {
     "ename": "KeyError",
     "evalue": "0",
     "output_type": "error",
     "traceback": [
      "\u001b[0;31m---------------------------------------------------------------------------\u001b[0m",
      "\u001b[0;31mKeyError\u001b[0m                                  Traceback (most recent call last)",
      "\u001b[0;32m<ipython-input-15-72beb86f412f>\u001b[0m in \u001b[0;36m<module>\u001b[0;34m\u001b[0m\n\u001b[1;32m      1\u001b[0m \u001b[0;31m# if I try to get something out of it\u001b[0m\u001b[0;34m\u001b[0m\u001b[0;34m\u001b[0m\u001b[0;34m\u001b[0m\u001b[0m\n\u001b[0;32m----> 2\u001b[0;31m \u001b[0md\u001b[0m\u001b[0;34m[\u001b[0m\u001b[0;36m0\u001b[0m\u001b[0;34m]\u001b[0m\u001b[0;34m\u001b[0m\u001b[0;34m\u001b[0m\u001b[0m\n\u001b[0m",
      "\u001b[0;31mKeyError\u001b[0m: 0"
     ]
    }
   ],
   "source": [
    "# if I try to get something out of it\n",
    "d[0]"
   ]
  },
  {
   "cell_type": "code",
   "execution_count": 16,
   "metadata": {},
   "outputs": [
    {
     "ename": "KeyError",
     "evalue": "'c'",
     "output_type": "error",
     "traceback": [
      "\u001b[0;31m---------------------------------------------------------------------------\u001b[0m",
      "\u001b[0;31mKeyError\u001b[0m                                  Traceback (most recent call last)",
      "\u001b[0;32m<ipython-input-16-8126c86b2787>\u001b[0m in \u001b[0;36m<module>\u001b[0;34m\u001b[0m\n\u001b[1;32m      1\u001b[0m \u001b[0;31m# and it's not because the dictionary is empty, look here\u001b[0m\u001b[0;34m\u001b[0m\u001b[0;34m\u001b[0m\u001b[0;34m\u001b[0m\u001b[0m\n\u001b[1;32m      2\u001b[0m \u001b[0md\u001b[0m \u001b[0;34m=\u001b[0m \u001b[0;34m{\u001b[0m\u001b[0;34m'a'\u001b[0m\u001b[0;34m:\u001b[0m\u001b[0;36m0\u001b[0m\u001b[0;34m,\u001b[0m \u001b[0;34m'b'\u001b[0m\u001b[0;34m:\u001b[0m\u001b[0;36m1\u001b[0m\u001b[0;34m}\u001b[0m\u001b[0;34m\u001b[0m\u001b[0;34m\u001b[0m\u001b[0m\n\u001b[0;32m----> 3\u001b[0;31m \u001b[0md\u001b[0m\u001b[0;34m[\u001b[0m\u001b[0;34m'c'\u001b[0m\u001b[0;34m]\u001b[0m\u001b[0;34m\u001b[0m\u001b[0;34m\u001b[0m\u001b[0m\n\u001b[0m",
      "\u001b[0;31mKeyError\u001b[0m: 'c'"
     ]
    }
   ],
   "source": [
    "# and it's not because the dictionary is empty, look here\n",
    "d = {'a':0, 'b':1}\n",
    "d['c']"
   ]
  },
  {
   "cell_type": "markdown",
   "metadata": {},
   "source": [
    "A **`defaultdict`** instead will **never raise a KeyError**. Any key that does not exist gets the value returned by the default factory."
   ]
  },
  {
   "cell_type": "code",
   "execution_count": 17,
   "metadata": {},
   "outputs": [],
   "source": [
    "from collections import defaultdict"
   ]
  },
  {
   "cell_type": "code",
   "execution_count": 18,
   "metadata": {},
   "outputs": [],
   "source": [
    "# we pass a data type as a an argument\n",
    "d  = defaultdict(int)"
   ]
  },
  {
   "cell_type": "code",
   "execution_count": 19,
   "metadata": {},
   "outputs": [
    {
     "data": {
      "text/plain": [
       "0"
      ]
     },
     "execution_count": 19,
     "metadata": {},
     "output_type": "execute_result"
    }
   ],
   "source": [
    "d['a']"
   ]
  },
  {
   "cell_type": "code",
   "execution_count": 20,
   "metadata": {},
   "outputs": [
    {
     "data": {
      "text/plain": [
       "0"
      ]
     },
     "execution_count": 20,
     "metadata": {},
     "output_type": "execute_result"
    }
   ],
   "source": [
    "d[0]"
   ]
  },
  {
   "cell_type": "code",
   "execution_count": 21,
   "metadata": {},
   "outputs": [],
   "source": [
    "d  = defaultdict(str)"
   ]
  },
  {
   "cell_type": "code",
   "execution_count": 22,
   "metadata": {},
   "outputs": [
    {
     "data": {
      "text/plain": [
       "''"
      ]
     },
     "execution_count": 22,
     "metadata": {},
     "output_type": "execute_result"
    }
   ],
   "source": [
    "d['a']"
   ]
  },
  {
   "cell_type": "code",
   "execution_count": 23,
   "metadata": {},
   "outputs": [
    {
     "data": {
      "text/plain": [
       "''"
      ]
     },
     "execution_count": 23,
     "metadata": {},
     "output_type": "execute_result"
    }
   ],
   "source": [
    "d[0]"
   ]
  },
  {
   "cell_type": "code",
   "execution_count": 24,
   "metadata": {},
   "outputs": [],
   "source": [
    "# or we can pass a default value with lambda\n",
    "d = defaultdict(lambda: 5)"
   ]
  },
  {
   "cell_type": "code",
   "execution_count": 25,
   "metadata": {},
   "outputs": [
    {
     "data": {
      "text/plain": [
       "5"
      ]
     },
     "execution_count": 25,
     "metadata": {},
     "output_type": "execute_result"
    }
   ],
   "source": [
    "d['a']"
   ]
  },
  {
   "cell_type": "code",
   "execution_count": 26,
   "metadata": {},
   "outputs": [
    {
     "data": {
      "text/plain": [
       "5"
      ]
     },
     "execution_count": 26,
     "metadata": {},
     "output_type": "execute_result"
    }
   ],
   "source": [
    "d[0]"
   ]
  },
  {
   "cell_type": "markdown",
   "metadata": {},
   "source": [
    "Check the [python documentation](https://docs.python.org/3/library/collections.html) for more information on the collection module"
   ]
  },
  {
   "cell_type": "markdown",
   "metadata": {},
   "source": [
    "<hr>\n",
    "&nbsp;\n",
    "\n",
    "## The `timeit` module\n",
    "\n",
    "The **`timeit`** module allow you to check how long a bit of code is taking to run."
   ]
  },
  {
   "cell_type": "code",
   "execution_count": 27,
   "metadata": {},
   "outputs": [],
   "source": [
    "import timeit"
   ]
  },
  {
   "cell_type": "code",
   "execution_count": 28,
   "metadata": {
    "scrolled": true
   },
   "outputs": [
    {
     "data": {
      "text/plain": [
       "990059684843196016568047440072903042871051298369852399340132126302278836741502839981921317553874518674544038043277444198994237343407345886058906682090164319643592791609215793312361517533455300057245445489308857628700982818657242984186723284031221677041710618255735259425799642524057650140245463196124967965478298110132558424218079989432653605668701567673926380604777161042166204709202827776909477907115035503571808409697834646649732730228637338871591129548776928306407358510974156468325771495290095608869665704591829144043810287299911797440252491396202047075171278712953563999890740617176307332774378923957997397266937541045769387826845537138773315523224738522947733238716001436313109826775828004841807202319732460625653574942265449345342345962929274637089228404584330249334583668785008445070396770032385233117075537505539372525087355652352812001541721633087025428340978110397417714316623960601116032971176534443291925892175394761784033703867341875403068098335150075290863704278210726114905613159372542888940236781454350568462517014295275412622338997840439651668488664310878906490912865979985158429195814779859680518829828297889554843473953338044391973621870233183827760290802373728252789021963015130191411037287398700608820817328329604349069223869833544584383544157209774980950543382001432787640303197758990255776133973797446276574060860224400980357072881539601012375226064216396870692963403249892755749292301852793424548761435572497010065194908400586593303238092362827526584318393468832129901372553479878827234601381437696546467813147240972579061607546506297098610588606292015733138642154233638676334744025388551102723098681824058204904568691628222629984870545482590875369301311718339953927404033829537146184558456900530844898190861498088904266228140685382940266906540484543764487874064560733389056037845878788700118567809598654829118666241568907754862256490264439005829488809875726731187106977533762354999061213233344280660163897487154627654060072681429814458320708058067631192075646465358543862306892339136931402283992566581402760262127020414485485936729325678989608428686892382186548378676810221463304731365176600311794638484446572342432409186377191611523676486771283772043168052967496356708696603749021506339789946917807409364909014070237679603866930617008112019894164429657437906186162545043193152811013705248630384609523874774933292199218091592033742428881087219792822578158374309344976883495326327994564308129674125895748181367801900005892296371005975110100149925903448245308291968603842762155730968686265880966545014121174010127340466854251788738535894945800503912455537701912368579706223709194544366685621841027520984102343879919620667565898226750394249000204981908150111443648367072539305528610207120572399804398677113517208475049432276804686570253627896495576916405933716371092885592274015989776039254133758012563236110411857416666912603158582033017456027318096889453007255414353606315194628002722994956001350019386125532105228336615208594085314305950958409451879422976489501010580881578022892281260688921568167714108617758965907203892679078942245631896351821778030866281327383966998689419222542718270876155013847449405482541375298126143086488403161001285694789281086908383883436397305410856814756787418068417440421048878752417070166824379247687259187082668414973808754537573920748031704849199007957783255632127510090512622992833255853270464573958890334442555475468222999535216752125381372066757554632420017944865155091815913314350379782782848993211548365984873264084356707285298675770612049984621192711766533640536928121894061541029741804106862046810704019224650116453741118082102903983128880111394266130067941701067786850453433427422613808453215392830433814208372731168774516551401257991680443404275640063047442300460620793485860626742511877909882824304293773081792468170025341530593988167467365176493047078138093723424057865960323212912826634494058905128242200151815962308000763167797666492171595549198941953146484615106939745831476187022370863230370427172595923927772550143005440308109354912187633032057451534573165000670350895924283635942468143402494738683635115485510252296214418266872080959884984604583304660830739629847038174377436978770274227184040495818481178995544476064550263621767820371387114728796236554056927310629510266661759689286277286063871336261417501740302784872998478811570418835016574532652441213906184083410884353776961144681763120101325994406276755880749853085765742270694370445485688094486994345948241052224026356339354186527061398569530958023201796424257977411934751931899431865023356512704399419414668749481601882714463986945060637889867599494716695810136917015259633378685379524765212916953736198601244288012392815635501253260808097470438003737590823185718874627325299830520771583826085105300260323114802295990980823994732735187194185718457614035907263165164219794285600344423362887497414673346204987154388744679530547631744843930103676374779598152791786654943441027717821109881085718308119726433567715015368703035367792842814344540568494014990099899999"
      ]
     },
     "execution_count": 28,
     "metadata": {},
     "output_type": "execute_result"
    }
   ],
   "source": [
    "# let's consider this big number\n",
    "99999 ** 999"
   ]
  },
  {
   "cell_type": "code",
   "execution_count": 29,
   "metadata": {
    "scrolled": true
   },
   "outputs": [
    {
     "data": {
      "text/plain": [
       "44.50339371700102"
      ]
     },
     "execution_count": 29,
     "metadata": {},
     "output_type": "execute_result"
    }
   ],
   "source": [
    "# let's see how long is takes Python to calculate it\n",
    "timeit.timeit(\"99999 ** 999\")"
   ]
  },
  {
   "cell_type": "markdown",
   "metadata": {},
   "source": [
    "That took a very long time...\n",
    "\n",
    "It is because `timeit()` is a timer that runs the code several times (**1,000,000x** by default) and calculate how long it took **in total**."
   ]
  },
  {
   "cell_type": "code",
   "execution_count": 30,
   "metadata": {
    "scrolled": true
   },
   "outputs": [
    {
     "data": {
      "text/plain": [
       "0.055053178999514785"
      ]
     },
     "execution_count": 30,
     "metadata": {},
     "output_type": "execute_result"
    }
   ],
   "source": [
    "# we can specify how many times to run the code\n",
    "timeit.timeit(\"99999 ** 999\", number=1_000)"
   ]
  },
  {
   "cell_type": "code",
   "execution_count": 31,
   "metadata": {},
   "outputs": [
    {
     "data": {
      "text/plain": [
       "8.734799848753028e-05"
      ]
     },
     "execution_count": 31,
     "metadata": {},
     "output_type": "execute_result"
    }
   ],
   "source": [
    "# we can specify how many times to run the code\n",
    "timeit.timeit(\"99999 ** 999\", number=1)"
   ]
  },
  {
   "cell_type": "code",
   "execution_count": 32,
   "metadata": {},
   "outputs": [
    {
     "data": {
      "text/plain": [
       "[0.0585462520011788, 0.04841283099995053, 0.049350995001077536]"
      ]
     },
     "execution_count": 32,
     "metadata": {},
     "output_type": "execute_result"
    }
   ],
   "source": [
    "# there is also a repeat function, here we repeat 3x\n",
    "timeit.repeat(\"99999 ** 999\", repeat=3, number=1_000)"
   ]
  },
  {
   "cell_type": "markdown",
   "metadata": {},
   "source": [
    "`repeat()` is a timer that repeatedly runs `timeit()` (by default **5x**) and store each result in a list. If we don't specify a `number`, it will run the default number of time (i.e. 1,000,000x)."
   ]
  },
  {
   "cell_type": "code",
   "execution_count": 33,
   "metadata": {},
   "outputs": [
    {
     "data": {
      "text/plain": [
       "2.3138745309988735"
      ]
     },
     "execution_count": 33,
     "metadata": {},
     "output_type": "execute_result"
    }
   ],
   "source": [
    "# to make the code easier to read we can also do as follow\n",
    "statement = \"999999 ** 9999\"\n",
    "timeit.timeit(stmt=statement, number=1_000)"
   ]
  },
  {
   "cell_type": "code",
   "execution_count": 34,
   "metadata": {},
   "outputs": [
    {
     "data": {
      "text/plain": [
       "[0.28364791799867817,\n",
       " 0.22693738500129257,\n",
       " 0.21895545000006678,\n",
       " 0.2355707179995079]"
      ]
     },
     "execution_count": 34,
     "metadata": {},
     "output_type": "execute_result"
    }
   ],
   "source": [
    "# it works the same with repeat\n",
    "statement = \"999999 ** 9999\"\n",
    "timeit.repeat(stmt=statement, repeat=4, number=100)"
   ]
  },
  {
   "cell_type": "code",
   "execution_count": 35,
   "metadata": {},
   "outputs": [
    {
     "data": {
      "text/plain": [
       "0.6556005940001342"
      ]
     },
     "execution_count": 35,
     "metadata": {},
     "output_type": "execute_result"
    }
   ],
   "source": [
    "# now let's try with the following list comprehension\n",
    "statement = \"[float(num) for num in range(100)]\"\n",
    "timeit.timeit(stmt=statement, number=100_000)"
   ]
  },
  {
   "cell_type": "code",
   "execution_count": 36,
   "metadata": {},
   "outputs": [
    {
     "data": {
      "text/plain": [
       "0.48041807700064965"
      ]
     },
     "execution_count": 36,
     "metadata": {},
     "output_type": "execute_result"
    }
   ],
   "source": [
    "# and let's compare it with the equivalent using map()\n",
    "statement = \"list(map(float,range(100)))\"\n",
    "timeit.timeit(stmt=statement, number=100_000)"
   ]
  },
  {
   "cell_type": "markdown",
   "metadata": {},
   "source": [
    "It looks like `map()` is faster than list comprehension"
   ]
  },
  {
   "cell_type": "markdown",
   "metadata": {},
   "source": [
    "**NOTE:** we can also run a timer on bigger block of codes"
   ]
  },
  {
   "cell_type": "code",
   "execution_count": 37,
   "metadata": {},
   "outputs": [],
   "source": [
    "# Let's define write the same function with a for loop\n",
    "def func_1(n):\n",
    "    result = []\n",
    "    for i in range(n):\n",
    "        result.append(str(i))\n",
    "    return result"
   ]
  },
  {
   "cell_type": "code",
   "execution_count": 38,
   "metadata": {},
   "outputs": [],
   "source": [
    "# Let's have the same with list comprehension\n",
    "def func_2(n):\n",
    "    return [str(num) for num in range(n)]"
   ]
  },
  {
   "cell_type": "code",
   "execution_count": 39,
   "metadata": {},
   "outputs": [],
   "source": [
    "# And another one using map()\n",
    "def func_3(n):\n",
    "    return list(map(str,range(n)))"
   ]
  },
  {
   "cell_type": "code",
   "execution_count": 40,
   "metadata": {},
   "outputs": [
    {
     "data": {
      "text/plain": [
       "['0', '1', '2', '3', '4', '5', '6', '7', '8', '9', '10', '11']"
      ]
     },
     "execution_count": 40,
     "metadata": {},
     "output_type": "execute_result"
    }
   ],
   "source": [
    "# check\n",
    "func_1(12)"
   ]
  },
  {
   "cell_type": "code",
   "execution_count": 41,
   "metadata": {
    "scrolled": true
   },
   "outputs": [
    {
     "data": {
      "text/plain": [
       "['0', '1', '2', '3', '4', '5', '6', '7', '8', '9', '10', '11']"
      ]
     },
     "execution_count": 41,
     "metadata": {},
     "output_type": "execute_result"
    }
   ],
   "source": [
    "# they return the same result\n",
    "func_2(12)"
   ]
  },
  {
   "cell_type": "code",
   "execution_count": 42,
   "metadata": {},
   "outputs": [
    {
     "data": {
      "text/plain": [
       "['0', '1', '2', '3', '4', '5', '6', '7', '8', '9', '10', '11']"
      ]
     },
     "execution_count": 42,
     "metadata": {},
     "output_type": "execute_result"
    }
   ],
   "source": [
    "func_3(12)"
   ]
  },
  {
   "cell_type": "code",
   "execution_count": 43,
   "metadata": {},
   "outputs": [],
   "source": [
    "# we do the same as before\n",
    "stmt1 = '''\n",
    "def func_1(n):\n",
    "    result = []\n",
    "    for i in range(n):\n",
    "        result.append(str(i))\n",
    "    return result\n",
    "'''"
   ]
  },
  {
   "cell_type": "code",
   "execution_count": 44,
   "metadata": {},
   "outputs": [],
   "source": [
    "stmt2 = '''\n",
    "def func_2(n):\n",
    "    return [str(num) for num in range(n)]\n",
    "'''"
   ]
  },
  {
   "cell_type": "code",
   "execution_count": 45,
   "metadata": {},
   "outputs": [],
   "source": [
    "stmt3 = '''\n",
    "def func_3(n):\n",
    "    return list(map(str,range(n)))\n",
    "'''"
   ]
  },
  {
   "cell_type": "code",
   "execution_count": 46,
   "metadata": {},
   "outputs": [
    {
     "name": "stdout",
     "output_type": "stream",
     "text": [
      "4.098156865000419\n",
      "4.222038174999398\n",
      "4.208762567999656\n"
     ]
    }
   ],
   "source": [
    "# and let's compare the 3 of them with 100,000,000x run\n",
    "print(timeit.timeit(stmt=stmt1, number=100_000_000))\n",
    "print(timeit.timeit(stmt=stmt2, number=100_000_000))\n",
    "print(timeit.timeit(stmt=stmt3, number=100_000_000))"
   ]
  },
  {
   "cell_type": "markdown",
   "metadata": {},
   "source": [
    "So clearly the for `loop` is slower. But don't you find the result to be low regarding the number of run?\n",
    "\n",
    "This is because what is calculated is the time it took to **define the functions**. Not to run them."
   ]
  },
  {
   "cell_type": "code",
   "execution_count": 47,
   "metadata": {},
   "outputs": [],
   "source": [
    "# this is the way to go about it in this case\n",
    "setup1 = '''\n",
    "def func_1(n):\n",
    "    result = []\n",
    "    for i in range(n):\n",
    "        result.append(str(i))\n",
    "    return result\n",
    "'''\n",
    "\n",
    "stmt1 = 'func_1(100)'"
   ]
  },
  {
   "cell_type": "code",
   "execution_count": 48,
   "metadata": {},
   "outputs": [],
   "source": [
    "setup2 = '''\n",
    "def func_2(n):\n",
    "    return [str(num) for num in range(n)]\n",
    "'''\n",
    "\n",
    "stmt2 = 'func_2(100)'"
   ]
  },
  {
   "cell_type": "code",
   "execution_count": 49,
   "metadata": {},
   "outputs": [],
   "source": [
    "setup3 = '''\n",
    "def func_3(n):\n",
    "    return list(map(str,range(n)))\n",
    "'''\n",
    "\n",
    "stmt3 = 'func_3(100)'"
   ]
  },
  {
   "cell_type": "code",
   "execution_count": 50,
   "metadata": {},
   "outputs": [
    {
     "name": "stdout",
     "output_type": "stream",
     "text": [
      "1.51843768100116\n",
      "1.265808915000889\n",
      "1.073520716998246\n"
     ]
    }
   ],
   "source": [
    "print(timeit.timeit(stmt=stmt1, setup=setup1, number=100_000))\n",
    "print(timeit.timeit(stmt=stmt2, setup=setup2, number=100_000))\n",
    "print(timeit.timeit(stmt=stmt3, setup=setup3, number=100_000))"
   ]
  },
  {
   "cell_type": "markdown",
   "metadata": {},
   "source": [
    "\n",
    "Check the [python documentation](https://docs.python.org/3/library/timeit.html) for more information on the timeit module"
   ]
  },
  {
   "cell_type": "markdown",
   "metadata": {},
   "source": [
    "&nbsp;\n",
    "\n",
    "**NOTE:** We can also use the [Jupyter built-in magic command](https://ipython.readthedocs.io/en/stable/interactive/magics.html#) **`%timeit`** and **`%%timeit`**. But this method is **ONLY** available **in Jupyter**."
   ]
  },
  {
   "cell_type": "code",
   "execution_count": 51,
   "metadata": {},
   "outputs": [
    {
     "name": "stdout",
     "output_type": "stream",
     "text": [
      "1.6 µs ± 72.7 ns per loop (mean ± std. dev. of 7 runs, 1000000 loops each)\n"
     ]
    }
   ],
   "source": [
    "# %timeit works only for the current line\n",
    "%timeit func_1(10)"
   ]
  },
  {
   "cell_type": "code",
   "execution_count": 52,
   "metadata": {
    "scrolled": true
   },
   "outputs": [
    {
     "data": {
      "text/plain": [
       "['0', '1', '2', '3', '4', '5', '6', '7', '8', '9']"
      ]
     },
     "execution_count": 52,
     "metadata": {},
     "output_type": "execute_result"
    }
   ],
   "source": [
    "# this does not work\n",
    "%timeit\n",
    "func_1(10)"
   ]
  },
  {
   "cell_type": "markdown",
   "metadata": {},
   "source": [
    "**NOTE:** # if we want to make it work for the entire cell we use **`%%timeit`** . However we need to apply those rules then:\n",
    "- **`%%timeit`** is at the top of the cell\n",
    "- nothing before the command, not even commented code"
   ]
  },
  {
   "cell_type": "code",
   "execution_count": 53,
   "metadata": {},
   "outputs": [
    {
     "name": "stdout",
     "output_type": "stream",
     "text": [
      "1.45 µs ± 51.7 ns per loop (mean ± std. dev. of 7 runs, 1000000 loops each)\n"
     ]
    }
   ],
   "source": [
    "%%timeit\n",
    "func_2(10)"
   ]
  },
  {
   "cell_type": "code",
   "execution_count": 54,
   "metadata": {},
   "outputs": [
    {
     "name": "stdout",
     "output_type": "stream",
     "text": [
      "10.2 µs ± 363 ns per loop (mean ± std. dev. of 7 runs, 100000 loops each)\n"
     ]
    }
   ],
   "source": [
    "# we can add the parameters -n for number\n",
    "%timeit -n 100000 func_3(100)"
   ]
  },
  {
   "cell_type": "markdown",
   "metadata": {},
   "source": [
    "<hr>\n",
    "&nbsp;\n",
    "\n",
    "## Comparing `map()`, `lambda` functions and list comprehension with `timeit()`\n",
    "\n",
    "In our previous examples we have seen that map() was faster. However we had said in the previous lesson that map() was slower. Let's investigate this further"
   ]
  },
  {
   "cell_type": "code",
   "execution_count": 55,
   "metadata": {},
   "outputs": [
    {
     "name": "stdout",
     "output_type": "stream",
     "text": [
      "5.131992253000135\n",
      "5.729579064000063\n"
     ]
    }
   ],
   "source": [
    "# Let's generate a list of squares with comprehension vs map()\n",
    "statement1 = \"[x**2 for x in range(50)]\"\n",
    "statement2 = \"list(map(lambda x: x**2, range(50)))\"\n",
    "\n",
    "print(timeit.timeit(stmt=statement1, number=500_000))\n",
    "print(timeit.timeit(stmt=statement2, number=500_000))"
   ]
  },
  {
   "cell_type": "code",
   "execution_count": 56,
   "metadata": {},
   "outputs": [
    {
     "data": {
      "text/plain": [
       "True"
      ]
     },
     "execution_count": 56,
     "metadata": {},
     "output_type": "execute_result"
    }
   ],
   "source": [
    "# check that both statements are equal\n",
    "A = [x**2 for x in range(50)]\n",
    "B = list(map(lambda x: x**2, range(50)))\n",
    "A == B"
   ]
  },
  {
   "cell_type": "code",
   "execution_count": 57,
   "metadata": {},
   "outputs": [
    {
     "name": "stdout",
     "output_type": "stream",
     "text": [
      "1.8724786869988748\n",
      "3.518423627001539\n"
     ]
    }
   ],
   "source": [
    "# a simpler calculation\n",
    "statement1 = \"[x+2 for x in range(50)]\"\n",
    "statement2 = \"list(map(lambda x: x+2, range(50)))\"\n",
    "\n",
    "print(timeit.timeit(stmt=statement1, number=1_000_000))\n",
    "print(timeit.timeit(stmt=statement2, number=1_000_000))"
   ]
  },
  {
   "cell_type": "code",
   "execution_count": 58,
   "metadata": {},
   "outputs": [
    {
     "name": "stdout",
     "output_type": "stream",
     "text": [
      "2.8895411909998074\n",
      "4.5576480320014525\n"
     ]
    }
   ],
   "source": [
    "# with a conditionals\n",
    "statement1 = \"[x if x%2 == 0 else 0 for x in range(50)]\"\n",
    "statement2 = \"list(map(lambda x: x if x%2 == 0 else 0, range(50)))\"\n",
    "\n",
    "print(timeit.timeit(stmt=statement1, number=1_000_000))\n",
    "print(timeit.timeit(stmt=statement2, number=1_000_000))"
   ]
  },
  {
   "cell_type": "code",
   "execution_count": 59,
   "metadata": {},
   "outputs": [
    {
     "data": {
      "text/plain": [
       "True"
      ]
     },
     "execution_count": 59,
     "metadata": {},
     "output_type": "execute_result"
    }
   ],
   "source": [
    "# check that both statements are equal\n",
    "A = [x if x%2 == 0 else 0 for x in range(50)]\n",
    "B = list(map(lambda x: x if x%2 == 0 else 0, range(50)))\n",
    "A == B"
   ]
  },
  {
   "cell_type": "code",
   "execution_count": 60,
   "metadata": {},
   "outputs": [
    {
     "name": "stdout",
     "output_type": "stream",
     "text": [
      "0.5056269920005434\n",
      "0.4091475069999433\n"
     ]
    }
   ],
   "source": [
    "# and without a lambda function\n",
    "statement1 = \"[len(x) for x in 'This is a test sentence'.split(' ')]\"\n",
    "statement2 = \"list(map(len, 'This is a test sentence'.split(' ')))\"\n",
    "\n",
    "print(timeit.timeit(stmt=statement1, number=1_000_000))\n",
    "print(timeit.timeit(stmt=statement2, number=1_000_000))"
   ]
  },
  {
   "cell_type": "code",
   "execution_count": 61,
   "metadata": {},
   "outputs": [
    {
     "data": {
      "text/plain": [
       "True"
      ]
     },
     "execution_count": 61,
     "metadata": {},
     "output_type": "execute_result"
    }
   ],
   "source": [
    "# check that both statements are equal\n",
    "A = [len(x) for x in 'This is a test sentence'.split(' ')]\n",
    "B = list(map(len, 'This is a test sentence'.split(' ')))\n",
    "A == B"
   ]
  },
  {
   "cell_type": "code",
   "execution_count": 62,
   "metadata": {},
   "outputs": [],
   "source": [
    "# what if we call a external function\n",
    "setup1 = '''\n",
    "def convert_to_fahrenheit(temp):\n",
    "    return (9/5)*temp + 32\n",
    "'''"
   ]
  },
  {
   "cell_type": "code",
   "execution_count": 63,
   "metadata": {},
   "outputs": [
    {
     "name": "stdout",
     "output_type": "stream",
     "text": [
      "5.940471326999614\n",
      "4.855648755999937\n"
     ]
    }
   ],
   "source": [
    "statement1 = \"[convert_to_fahrenheit(x) for x in range(50)]\"\n",
    "statement2 = \"list(map(convert_to_fahrenheit, range(50)))\"\n",
    "\n",
    "print(timeit.timeit(stmt=statement1, setup=setup1, number=1_000_000))\n",
    "print(timeit.timeit(stmt=statement2, setup=setup1, number=1_000_000))"
   ]
  },
  {
   "cell_type": "code",
   "execution_count": 64,
   "metadata": {},
   "outputs": [
    {
     "name": "stdout",
     "output_type": "stream",
     "text": [
      "2.5198309420011356\n",
      "3.8934332900007576\n"
     ]
    }
   ],
   "source": [
    "# what about filter\n",
    "statement1 = \"[x for x in range(50) if x % 2 == 0]\"\n",
    "statement2 = \"list(filter(lambda x: x % 2 == 0, range(50)))\"\n",
    "\n",
    "print(timeit.timeit(stmt=statement1, number=1_000_000))\n",
    "print(timeit.timeit(stmt=statement2, number=1_000_000))"
   ]
  },
  {
   "cell_type": "code",
   "execution_count": 65,
   "metadata": {},
   "outputs": [
    {
     "data": {
      "text/plain": [
       "True"
      ]
     },
     "execution_count": 65,
     "metadata": {},
     "output_type": "execute_result"
    }
   ],
   "source": [
    "# check that both statements are equal\n",
    "A = [x for x in range(50) if x % 2 == 0]\n",
    "B = list(filter(lambda x: x % 2 == 0, range(50)))\n",
    "A == B"
   ]
  },
  {
   "cell_type": "markdown",
   "metadata": {},
   "source": [
    "&nbsp;\n",
    "\n",
    "So this confirm that **it is better to use list comprehension**, especially `map()` or `filter()` are used with lambda functions. List comprehension are also more readable."
   ]
  },
  {
   "cell_type": "markdown",
   "metadata": {},
   "source": [
    "<hr>\n",
    "&nbsp;\n",
    "\n",
    "## Credits\n",
    "- [Pierian Data](https://github.com/Pierian-Data/Complete-Python-3-Bootcamp)\n",
    "- [Geeks for Geeks](https://www.geeksforgeeks.org/python-map-vs-list-comprehension/)\n",
    "- [Stack overflow](https://stackoverflow.com/questions/1247486/list-comprehension-vs-map)\n",
    "- [pymotw](https://pymotw.com/2/timeit/)\n",
    "- [finxter](https://blog.finxter.com/which-is-faster-list-comprehension-or-map-function-in-python/)\n",
    "- [switowski](https://switowski.com/blog/for-loop-vs-list-comprehension)"
   ]
  }
 ],
 "metadata": {
  "kernelspec": {
   "display_name": "Python 3",
   "language": "python",
   "name": "python3"
  },
  "language_info": {
   "codemirror_mode": {
    "name": "ipython",
    "version": 3
   },
   "file_extension": ".py",
   "mimetype": "text/x-python",
   "name": "python",
   "nbconvert_exporter": "python",
   "pygments_lexer": "ipython3",
   "version": "3.9.2"
  },
  "toc": {
   "base_numbering": 1,
   "nav_menu": {},
   "number_sections": true,
   "sideBar": true,
   "skip_h1_title": true,
   "title_cell": "Table of Contents",
   "title_sidebar": "Contents",
   "toc_cell": true,
   "toc_position": {},
   "toc_section_display": true,
   "toc_window_display": false
  },
  "varInspector": {
   "cols": {
    "lenName": 16,
    "lenType": 16,
    "lenVar": 40
   },
   "kernels_config": {
    "python": {
     "delete_cmd_postfix": "",
     "delete_cmd_prefix": "del ",
     "library": "var_list.py",
     "varRefreshCmd": "print(var_dic_list())"
    },
    "r": {
     "delete_cmd_postfix": ") ",
     "delete_cmd_prefix": "rm(",
     "library": "var_list.r",
     "varRefreshCmd": "cat(var_dic_list()) "
    }
   },
   "types_to_exclude": [
    "module",
    "function",
    "builtin_function_or_method",
    "instance",
    "_Feature"
   ],
   "window_display": false
  }
 },
 "nbformat": 4,
 "nbformat_minor": 2
}
