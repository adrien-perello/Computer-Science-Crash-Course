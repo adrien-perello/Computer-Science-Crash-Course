{
 "cells": [
  {
   "cell_type": "markdown",
   "metadata": {
    "hide_input": false,
    "tags": [
     "hide-input"
    ]
   },
   "source": [
    "# I. Introduction to Python > 20. Errors and Exceptions\n",
    "\n",
    "\n",
    "**[<< Previous lesson](./19_Modules-Part-2.ipynb)   |   [Next lesson >>](./21_Iterators-and-Generators.ipynb)**\n",
    "\n",
    "<hr>\n",
    "&nbsp;"
   ]
  },
  {
   "cell_type": "markdown",
   "metadata": {
    "hide_input": false,
    "toc": true
   },
   "source": [
    "<h1>Table of Contents<span class=\"tocSkip\"></span></h1>\n",
    "<div class=\"toc\"><ul class=\"toc-item\"><li><span><a href=\"#Exceptions-vs-Syntax-Errors\" data-toc-modified-id=\"Exceptions-vs-Syntax-Errors-1\"><span class=\"toc-item-num\">1&nbsp;&nbsp;</span>Exceptions vs Syntax Errors</a></span></li><li><span><a href=\"#Catching-Exceptions\" data-toc-modified-id=\"Catching-Exceptions-2\"><span class=\"toc-item-num\">2&nbsp;&nbsp;</span>Catching Exceptions</a></span></li><li><span><a href=\"#The-else-Clause\" data-toc-modified-id=\"The-else-Clause-3\"><span class=\"toc-item-num\">3&nbsp;&nbsp;</span>The <code>else</code> Clause</a></span></li><li><span><a href=\"#The-finally-Clause\" data-toc-modified-id=\"The-finally-Clause-4\"><span class=\"toc-item-num\">4&nbsp;&nbsp;</span>The <code>finally</code> Clause</a></span></li><li><span><a href=\"#Raising-Exceptions\" data-toc-modified-id=\"Raising-Exceptions-5\"><span class=\"toc-item-num\">5&nbsp;&nbsp;</span>Raising Exceptions</a></span></li><li><span><a href=\"#Common-mistakes\" data-toc-modified-id=\"Common-mistakes-6\"><span class=\"toc-item-num\">6&nbsp;&nbsp;</span>Common mistakes</a></span></li><li><span><a href=\"#Credits\" data-toc-modified-id=\"Credits-7\"><span class=\"toc-item-num\">7&nbsp;&nbsp;</span>Credits</a></span></li></ul></div>"
   ]
  },
  {
   "cell_type": "markdown",
   "metadata": {},
   "source": [
    "<hr>\n",
    "&nbsp;\n",
    "\n",
    "## Exceptions vs Syntax Errors\n",
    "\n",
    "A Python program terminates as soon as it encounters an **error**.\n",
    "An error can be:\n",
    "- a **syntax error**\n",
    "- an **exception**"
   ]
  },
  {
   "cell_type": "code",
   "execution_count": 1,
   "metadata": {
    "ExecuteTime": {
     "end_time": "2021-04-06T08:26:42.908648Z",
     "start_time": "2021-04-06T08:26:42.905381Z"
    }
   },
   "outputs": [
    {
     "ename": "SyntaxError",
     "evalue": "EOL while scanning string literal (<ipython-input-1-c47f8a2a6306>, line 2)",
     "output_type": "error",
     "traceback": [
      "\u001b[0;36m  File \u001b[0;32m\"<ipython-input-1-c47f8a2a6306>\"\u001b[0;36m, line \u001b[0;32m2\u001b[0m\n\u001b[0;31m    print('Hello)\u001b[0m\n\u001b[0m                 ^\u001b[0m\n\u001b[0;31mSyntaxError\u001b[0m\u001b[0;31m:\u001b[0m EOL while scanning string literal\n"
     ]
    }
   ],
   "source": [
    "# example of a syntax error\n",
    "print('Hello)"
   ]
  },
  {
   "cell_type": "markdown",
   "metadata": {},
   "source": [
    "The `SyntaxError` has the further description `EOL` (End of Line Error). This is specific enough for us to see that we forgot a single quote at the end of the line."
   ]
  },
  {
   "cell_type": "code",
   "execution_count": 2,
   "metadata": {
    "ExecuteTime": {
     "end_time": "2021-04-06T08:29:17.010059Z",
     "start_time": "2021-04-06T08:29:16.903874Z"
    },
    "scrolled": true
   },
   "outputs": [
    {
     "ename": "ZeroDivisionError",
     "evalue": "division by zero",
     "output_type": "error",
     "traceback": [
      "\u001b[0;31m---------------------------------------------------------------------------\u001b[0m",
      "\u001b[0;31mZeroDivisionError\u001b[0m                         Traceback (most recent call last)",
      "\u001b[0;32m<ipython-input-2-b9dcdbba8e93>\u001b[0m in \u001b[0;36m<module>\u001b[0;34m\u001b[0m\n\u001b[1;32m      1\u001b[0m \u001b[0;31m# example of an exception\u001b[0m\u001b[0;34m\u001b[0m\u001b[0;34m\u001b[0m\u001b[0;34m\u001b[0m\u001b[0m\n\u001b[0;32m----> 2\u001b[0;31m \u001b[0mprint\u001b[0m\u001b[0;34m(\u001b[0m \u001b[0;36m1\u001b[0m \u001b[0;34m/\u001b[0m \u001b[0;36m0\u001b[0m\u001b[0;34m)\u001b[0m\u001b[0;34m\u001b[0m\u001b[0;34m\u001b[0m\u001b[0m\n\u001b[0m",
      "\u001b[0;31mZeroDivisionError\u001b[0m: division by zero"
     ]
    }
   ],
   "source": [
    "# example of an exception\n",
    "print(1 / 0)"
   ]
  },
  {
   "cell_type": "markdown",
   "metadata": {},
   "source": [
    "This time we got an `ZeroDivisionError`. This type of error are called exception error. They occus whenever syntactically correct Python code results in an error when we execute it.\n",
    "\n",
    "Instead of showing the message exception error, Python details what type of exception error was encountered. In this case, it was a `ZeroDivisionError`. You can check out the full list of built-in exceptions [here](https://docs.python.org/3/library/exceptions.html)."
   ]
  },
  {
   "cell_type": "markdown",
   "metadata": {},
   "source": [
    "<hr>\n",
    "&nbsp;\n",
    "\n",
    "## Catching Exceptions\n",
    "\n",
    "Now let's learn how to handle errors and exceptions in our own code.\n",
    "\n",
    "The basic terminology and syntax used to handle errors in Python are the `try` and `except` statements:\n",
    "\n",
    "- **`try` block**: contains the code which can cause an exception to occur\n",
    "- **`except` block**: contains the implementation of how the exception should be handled\n",
    "\n",
    "&nbsp;\n",
    "\n",
    "![Try and Except](./attachments/errors-exceptions-01.png)"
   ]
  },
  {
   "cell_type": "code",
   "execution_count": 3,
   "metadata": {},
   "outputs": [],
   "source": [
    "def divide(a, b):\n",
    "    try:\n",
    "        print(a/b)\n",
    "    except ZeroDivisionError:\n",
    "        print(\"Zero Division Exception Raised. Try other numbers\")\n",
    "    print('-- end of program --')"
   ]
  },
  {
   "cell_type": "code",
   "execution_count": 4,
   "metadata": {},
   "outputs": [
    {
     "name": "stdout",
     "output_type": "stream",
     "text": [
      "Zero Division Exception Raised. Try other numbers\n",
      "-- end of program --\n"
     ]
    }
   ],
   "source": [
    "# This is what happens if the try block encounters an error during execution\n",
    "divide(10, 0)"
   ]
  },
  {
   "cell_type": "code",
   "execution_count": 5,
   "metadata": {},
   "outputs": [
    {
     "name": "stdout",
     "output_type": "stream",
     "text": [
      "0.0\n",
      "-- end of program --\n"
     ]
    }
   ],
   "source": [
    "# This is what happens if the try block is executed without errors\n",
    "divide(0, 10)"
   ]
  },
  {
   "cell_type": "markdown",
   "metadata": {},
   "source": [
    "**NOTE:** We can also just catch every exception when we use `except` only."
   ]
  },
  {
   "cell_type": "code",
   "execution_count": 6,
   "metadata": {},
   "outputs": [],
   "source": [
    "def divide(a, b):\n",
    "    try:\n",
    "        print(a/b)\n",
    "    except:  # This block will catch every type of exceptions\n",
    "        print(\"An error occured !!\")\n",
    "    print('... (program keeps doing stuff after that) ...')"
   ]
  },
  {
   "cell_type": "code",
   "execution_count": 7,
   "metadata": {},
   "outputs": [
    {
     "name": "stdout",
     "output_type": "stream",
     "text": [
      "An error occured !!\n",
      "... (program keeps doing stuff after that) ...\n"
     ]
    }
   ],
   "source": [
    "divide('word', 4)"
   ]
  },
  {
   "cell_type": "code",
   "execution_count": 8,
   "metadata": {
    "scrolled": true
   },
   "outputs": [
    {
     "name": "stdout",
     "output_type": "stream",
     "text": [
      "An error occured !!\n",
      "... (program keeps doing stuff after that) ...\n"
     ]
    }
   ],
   "source": [
    "# whereas the 1st function was only printing our message error in case of Zero Division Exception\n",
    "divide('word', 4)"
   ]
  },
  {
   "cell_type": "markdown",
   "metadata": {},
   "source": [
    "**WARNING:** A try clause is executed up until the point where the first exception is encountered. So catching Exception can hide other errors.\n",
    "\n",
    "\n",
    "This is why you should **avoid bare except clauses** in your programs. Instead, you should refer to specific exception classes you want to catch and handle."
   ]
  },
  {
   "cell_type": "code",
   "execution_count": 9,
   "metadata": {},
   "outputs": [],
   "source": [
    "def divide(a, b):\n",
    "    try:\n",
    "        print(a/b)\n",
    "    except ZeroDivisionError as error:\n",
    "        print(error)\n",
    "    print('... (program keeps doing stuff after that) ...')"
   ]
  },
  {
   "cell_type": "code",
   "execution_count": 10,
   "metadata": {},
   "outputs": [
    {
     "name": "stdout",
     "output_type": "stream",
     "text": [
      "division by zero\n",
      "... (program keeps doing stuff after that) ...\n"
     ]
    }
   ],
   "source": [
    "divide(10, 0)"
   ]
  },
  {
   "cell_type": "code",
   "execution_count": 11,
   "metadata": {},
   "outputs": [
    {
     "name": "stdout",
     "output_type": "stream",
     "text": [
      "[Errno 2] No such file or directory: 'file.log'\n"
     ]
    }
   ],
   "source": [
    "# another example\n",
    "try:\n",
    "    with open('file.log') as file:\n",
    "        read_data = file.read()\n",
    "\n",
    "except FileNotFoundError as fnf_error:\n",
    "    print(fnf_error)"
   ]
  },
  {
   "cell_type": "markdown",
   "metadata": {},
   "source": [
    "&nbsp;\n",
    "\n",
    "**NOTE:** in other languages, the general consensus is \"don't use exceptions!\" since they can be costly (in time and memory). However this is less of an issue for Python. It is actually quite common and normal practice to use exceptions for flow-control."
   ]
  },
  {
   "cell_type": "markdown",
   "metadata": {},
   "source": [
    "<hr>\n",
    "&nbsp;\n",
    "\n",
    "## The `else` Clause\n",
    "\n",
    "In some situations, we might want to run a certain block of code if the block  `try` ran without any errors. For these cases, you can use the optional `else` keyword with the `try` statement.\n",
    "\n",
    "&nbsp;\n",
    "\n",
    "![Try Except Else](./attachments/errors-exceptions-02.png)"
   ]
  },
  {
   "cell_type": "code",
   "execution_count": 12,
   "metadata": {},
   "outputs": [],
   "source": [
    "def divide(a, b):\n",
    "    try:\n",
    "        print(a/b)\n",
    "    except ZeroDivisionError as error:\n",
    "        print('WARNING:', error)\n",
    "    else:\n",
    "        print(\"Success, no error!\")\n",
    "    print('... (program keeps doing stuff after that) ...')"
   ]
  },
  {
   "cell_type": "code",
   "execution_count": 13,
   "metadata": {},
   "outputs": [
    {
     "name": "stdout",
     "output_type": "stream",
     "text": [
      "0.0\n",
      "Success, no error!\n",
      "... (program keeps doing stuff after that) ...\n"
     ]
    }
   ],
   "source": [
    "divide(0, 4)"
   ]
  },
  {
   "cell_type": "code",
   "execution_count": 14,
   "metadata": {},
   "outputs": [
    {
     "name": "stdout",
     "output_type": "stream",
     "text": [
      "WARNING: division by zero\n",
      "... (program keeps doing stuff after that) ...\n"
     ]
    }
   ],
   "source": [
    "divide(10, 0)"
   ]
  },
  {
   "cell_type": "markdown",
   "metadata": {},
   "source": [
    "<hr>\n",
    "&nbsp;\n",
    "\n",
    "## The `finally` Clause\n",
    "\n",
    "The optional `finally` clause is executed no matter what and is generally used to do some clean up after executing the code.\n",
    "\n",
    "\n",
    "&nbsp;\n",
    "\n",
    "![Try Except finally](./attachments/errors-exceptions-03.png)"
   ]
  },
  {
   "cell_type": "code",
   "execution_count": 15,
   "metadata": {},
   "outputs": [
    {
     "name": "stdout",
     "output_type": "stream",
     "text": [
      "[Errno 2] No such file or directory: 'file.log'\n",
      "Cleaning up, irrespective of any exceptions.\n"
     ]
    }
   ],
   "source": [
    "try:\n",
    "    with open('file.log') as file:\n",
    "        read_data = file.read()\n",
    "\n",
    "except FileNotFoundError as fnf_error:\n",
    "    print(fnf_error)\n",
    "\n",
    "else:\n",
    "    print(\"file opened\")\n",
    "\n",
    "finally:\n",
    "    print('Cleaning up, irrespective of any exceptions.')"
   ]
  },
  {
   "cell_type": "code",
   "execution_count": 16,
   "metadata": {},
   "outputs": [],
   "source": [
    "# another example\n",
    "def askint():\n",
    "    try:\n",
    "        val = int(input(\"Please enter an integer: \"))\n",
    "    except:\n",
    "        print(\"Looks like you did not enter an integer!\")\n",
    "        val = int(input(\"Try again-Please enter an integer: \"))\n",
    "    finally:\n",
    "        print(\" ==> FINALLY I EXECUTED!\")\n",
    "    print(val)"
   ]
  },
  {
   "cell_type": "code",
   "execution_count": 17,
   "metadata": {},
   "outputs": [
    {
     "name": "stdout",
     "output_type": "stream",
     "text": [
      "Please enter an integer: \n",
      "Try again-Please enter an integer: \n",
      "Looks like you did not enter an integer!\n",
      " ==> FINALLY I EXECUTED!\n"
     ]
    },
    {
     "ename": "ValueError",
     "evalue": "invalid literal for int() with base 10: ''",
     "output_type": "error",
     "traceback": [
      "\u001b[0;31m---------------------------------------------------------------------------\u001b[0m",
      "\u001b[0;31mValueError\u001b[0m                                Traceback (most recent call last)",
      "\u001b[0;32m<ipython-input-16-798076d2649c>\u001b[0m in \u001b[0;36maskint\u001b[0;34m()\u001b[0m\n\u001b[1;32m      3\u001b[0m     \u001b[0;32mtry\u001b[0m\u001b[0;34m:\u001b[0m\u001b[0;34m\u001b[0m\u001b[0;34m\u001b[0m\u001b[0m\n\u001b[0;32m----> 4\u001b[0;31m         \u001b[0mval\u001b[0m \u001b[0;34m=\u001b[0m \u001b[0mint\u001b[0m\u001b[0;34m(\u001b[0m\u001b[0minput\u001b[0m\u001b[0;34m(\u001b[0m\u001b[0;34m\"Please enter an integer: \"\u001b[0m\u001b[0;34m)\u001b[0m\u001b[0;34m)\u001b[0m\u001b[0;34m\u001b[0m\u001b[0;34m\u001b[0m\u001b[0m\n\u001b[0m\u001b[1;32m      5\u001b[0m     \u001b[0;32mexcept\u001b[0m\u001b[0;34m:\u001b[0m\u001b[0;34m\u001b[0m\u001b[0;34m\u001b[0m\u001b[0m\n",
      "\u001b[0;31mValueError\u001b[0m: invalid literal for int() with base 10: ''",
      "\nDuring handling of the above exception, another exception occurred:\n",
      "\u001b[0;31mValueError\u001b[0m                                Traceback (most recent call last)",
      "\u001b[0;32m<ipython-input-17-d40b8f7e5577>\u001b[0m in \u001b[0;36m<module>\u001b[0;34m\u001b[0m\n\u001b[1;32m      1\u001b[0m \u001b[0;31m# the 'finally' block will still be executed if we get an error by typing a letter 2x in a row\u001b[0m\u001b[0;34m\u001b[0m\u001b[0;34m\u001b[0m\u001b[0;34m\u001b[0m\u001b[0m\n\u001b[0;32m----> 2\u001b[0;31m \u001b[0maskint\u001b[0m\u001b[0;34m(\u001b[0m\u001b[0;34m)\u001b[0m\u001b[0;34m\u001b[0m\u001b[0;34m\u001b[0m\u001b[0m\n\u001b[0m",
      "\u001b[0;32m<ipython-input-16-798076d2649c>\u001b[0m in \u001b[0;36maskint\u001b[0;34m()\u001b[0m\n\u001b[1;32m      5\u001b[0m     \u001b[0;32mexcept\u001b[0m\u001b[0;34m:\u001b[0m\u001b[0;34m\u001b[0m\u001b[0;34m\u001b[0m\u001b[0m\n\u001b[1;32m      6\u001b[0m         \u001b[0mprint\u001b[0m\u001b[0;34m(\u001b[0m\u001b[0;34m\"Looks like you did not enter an integer!\"\u001b[0m\u001b[0;34m)\u001b[0m\u001b[0;34m\u001b[0m\u001b[0;34m\u001b[0m\u001b[0m\n\u001b[0;32m----> 7\u001b[0;31m         \u001b[0mval\u001b[0m \u001b[0;34m=\u001b[0m \u001b[0mint\u001b[0m\u001b[0;34m(\u001b[0m\u001b[0minput\u001b[0m\u001b[0;34m(\u001b[0m\u001b[0;34m\"Try again-Please enter an integer: \"\u001b[0m\u001b[0;34m)\u001b[0m\u001b[0;34m)\u001b[0m\u001b[0;34m\u001b[0m\u001b[0;34m\u001b[0m\u001b[0m\n\u001b[0m\u001b[1;32m      8\u001b[0m     \u001b[0;32mfinally\u001b[0m\u001b[0;34m:\u001b[0m\u001b[0;34m\u001b[0m\u001b[0;34m\u001b[0m\u001b[0m\n\u001b[1;32m      9\u001b[0m         \u001b[0mprint\u001b[0m\u001b[0;34m(\u001b[0m\u001b[0;34m\" ==> FINALLY I EXECUTED!\"\u001b[0m\u001b[0;34m)\u001b[0m\u001b[0;34m\u001b[0m\u001b[0;34m\u001b[0m\u001b[0m\n",
      "\u001b[0;31mValueError\u001b[0m: invalid literal for int() with base 10: ''"
     ]
    }
   ],
   "source": [
    "# the 'finally' block will still be executed if we get an error by typing a letter 2x in a row\n",
    "askint()"
   ]
  },
  {
   "cell_type": "markdown",
   "metadata": {},
   "source": [
    "<hr>\n",
    "&nbsp;\n",
    "\n",
    "## Raising Exceptions\n",
    "\n",
    "We can also manually raise exceptions using the **`raise`** keyword."
   ]
  },
  {
   "cell_type": "code",
   "execution_count": null,
   "metadata": {},
   "outputs": [],
   "source": [
    "def pick_digit(x):\n",
    "    if x > 5:\n",
    "        raise Exception(\n",
    "            'x should not exceed 5. The value of x was: {}'.format(x))\n",
    "    print('OK')"
   ]
  },
  {
   "cell_type": "code",
   "execution_count": null,
   "metadata": {
    "scrolled": true
   },
   "outputs": [],
   "source": [
    "# example of a manually raised exception\n",
    "pick_digit(10)"
   ]
  },
  {
   "cell_type": "markdown",
   "metadata": {},
   "source": [
    "We can optionally pass values to the exception to clarify why that exception was raised."
   ]
  },
  {
   "cell_type": "code",
   "execution_count": null,
   "metadata": {},
   "outputs": [],
   "source": [
    "# we add some information in the argument of the exception\n",
    "def divide(a, b):\n",
    "    if b == 0:\n",
    "        raise ZeroDivisionError(\"This is an argument ADDING EXTRA INFORMATION\")\n",
    "    else:\n",
    "        print(a/b)\n",
    "    print('... (program keeps doing stuff after that) ...')"
   ]
  },
  {
   "cell_type": "code",
   "execution_count": 18,
   "metadata": {},
   "outputs": [
    {
     "name": "stdout",
     "output_type": "stream",
     "text": [
      "WARNING: division by zero\n",
      "... (program keeps doing stuff after that) ...\n"
     ]
    }
   ],
   "source": [
    "divide(10, 0)"
   ]
  },
  {
   "cell_type": "markdown",
   "metadata": {},
   "source": [
    "&nbsp;\n",
    "\n",
    "**NOTE:** in particuliar the `AssertionError` exception enable us to check if a certain condition is met. In this case we need to use the keyword `assert`."
   ]
  },
  {
   "cell_type": "code",
   "execution_count": 19,
   "metadata": {},
   "outputs": [
    {
     "name": "stdout",
     "output_type": "stream",
     "text": [
      "Assertion Exception Raised.\n"
     ]
    }
   ],
   "source": [
    "# using 'assert' to ensure certains conditions are met\n",
    "try:\n",
    "    a = 100\n",
    "    b = \"DataCamp\"\n",
    "    assert a == b       # check conditions\n",
    "\n",
    "except AssertionError:  # raise erorr if condition is unmet\n",
    "    print(\"Assertion Exception Raised.\")\n",
    "\n",
    "else:\n",
    "    print(\"Success, no error!\")"
   ]
  },
  {
   "cell_type": "code",
   "execution_count": 20,
   "metadata": {},
   "outputs": [
    {
     "name": "stdout",
     "output_type": "stream",
     "text": [
      "linux\n"
     ]
    }
   ],
   "source": [
    "# another example using sys.platform\n",
    "\n",
    "import sys           # sys.plateform returns information\n",
    "print(sys.platform)  # about the Operating System"
   ]
  },
  {
   "cell_type": "code",
   "execution_count": 21,
   "metadata": {},
   "outputs": [
    {
     "name": "stdout",
     "output_type": "stream",
     "text": [
      "This code runs on Windows/Cygwin only.\n"
     ]
    }
   ],
   "source": [
    "# in application\n",
    "\n",
    "try:\n",
    "    assert (sys.platform == 'cygwin')  # check if we have the right OS\n",
    "\n",
    "except AssertionError:\n",
    "    print(\"This code runs on Windows/Cygwin only.\")\n",
    "\n",
    "else:    # do some stuff if we have the right OS\n",
    "    pass"
   ]
  },
  {
   "cell_type": "code",
   "execution_count": 22,
   "metadata": {
    "scrolled": false
   },
   "outputs": [
    {
     "ename": "AssertionError",
     "evalue": "This code runs on Windows/Cygwin only.",
     "output_type": "error",
     "traceback": [
      "\u001b[0;31m---------------------------------------------------------------------------\u001b[0m",
      "\u001b[0;31mAssertionError\u001b[0m                            Traceback (most recent call last)",
      "\u001b[0;32m<ipython-input-22-0e41f3791ae2>\u001b[0m in \u001b[0;36m<module>\u001b[0;34m\u001b[0m\n\u001b[1;32m      1\u001b[0m \u001b[0;31m# the above can also be written as follow\u001b[0m\u001b[0;34m\u001b[0m\u001b[0;34m\u001b[0m\u001b[0;34m\u001b[0m\u001b[0m\n\u001b[0;32m----> 2\u001b[0;31m \u001b[0;32massert\u001b[0m \u001b[0;34m(\u001b[0m\u001b[0msys\u001b[0m\u001b[0;34m.\u001b[0m\u001b[0mplatform\u001b[0m \u001b[0;34m==\u001b[0m \u001b[0;34m'cygwin'\u001b[0m\u001b[0;34m)\u001b[0m\u001b[0;34m,\u001b[0m \u001b[0;34m\"This code runs on Windows/Cygwin only.\"\u001b[0m\u001b[0;34m\u001b[0m\u001b[0;34m\u001b[0m\u001b[0m\n\u001b[0m",
      "\u001b[0;31mAssertionError\u001b[0m: This code runs on Windows/Cygwin only."
     ]
    }
   ],
   "source": [
    "# the above can also be written as follow\n",
    "assert (sys.platform == 'cygwin'), \"This code runs on Windows/Cygwin only.\""
   ]
  },
  {
   "cell_type": "markdown",
   "metadata": {},
   "source": [
    "<hr>\n",
    "&nbsp;\n",
    "\n",
    "## Common mistakes\n",
    "\n",
    "**DO NOT** do the following:"
   ]
  },
  {
   "cell_type": "code",
   "execution_count": 23,
   "metadata": {},
   "outputs": [
    {
     "name": "stdout",
     "output_type": "stream",
     "text": [
      "do something\n"
     ]
    }
   ],
   "source": [
    "# Don't do this\n",
    "try:\n",
    "    print('do something')\n",
    "except:\n",
    "    pass"
   ]
  },
  {
   "cell_type": "markdown",
   "metadata": {},
   "source": [
    "This will catch the exception but will **hide all errors**, including those that are completly unexpected. Information about the error will be lost and can lead to much headache and time waste to debug your program.\n",
    "\n",
    "Instead **specify the kind of exception** you are looking for:"
   ]
  },
  {
   "cell_type": "code",
   "execution_count": 24,
   "metadata": {},
   "outputs": [
    {
     "name": "stdout",
     "output_type": "stream",
     "text": [
      "do something\n"
     ]
    }
   ],
   "source": [
    "# Do do this instead\n",
    "try:\n",
    "    print('do something')\n",
    "\n",
    "# Catch some very specific exception (KeyError, ValueError...)\n",
    "except ValueError:\n",
    "    pass"
   ]
  },
  {
   "cell_type": "markdown",
   "metadata": {},
   "source": [
    "&nbsp;\n",
    "\n",
    "You can also look for several exceptions in a single `except` block. But then you must pass them as a **tuple**."
   ]
  },
  {
   "cell_type": "code",
   "execution_count": 25,
   "metadata": {},
   "outputs": [
    {
     "name": "stdout",
     "output_type": "stream",
     "text": [
      "do something\n"
     ]
    }
   ],
   "source": [
    "# Use a tuple to catch several type of exceptions\n",
    "try:\n",
    "    print('do something')\n",
    "\n",
    "except (ValueError, IndexError):  # this need to be a tuple !!\n",
    "    pass"
   ]
  },
  {
   "cell_type": "markdown",
   "metadata": {},
   "source": [
    "&nbsp;\n",
    "\n",
    "And if you really need to catch all exceptions, you should write the full stack trace to a log or file, along with a timestamp"
   ]
  },
  {
   "cell_type": "code",
   "execution_count": 26,
   "metadata": {},
   "outputs": [
    {
     "name": "stdout",
     "output_type": "stream",
     "text": [
      "do something\n"
     ]
    }
   ],
   "source": [
    "# record the full stack trace in a log\n",
    "import logging\n",
    "\n",
    "try:\n",
    "    print('do something')\n",
    "\n",
    "except Exception as ex:\n",
    "    logging.exception('Caught an error')"
   ]
  },
  {
   "cell_type": "markdown",
   "metadata": {},
   "source": [
    "&nbsp;\n",
    "\n",
    "Check the [python documentation](https://docs.python.org/3/tutorial/errors.html) for more information on the errors and exceptions handling. You can also learn more about [stack trace](https://realpython.com/python-traceback/) and [logging module](https://realpython.com/python-logging/) on [realpython](https://realpython.com).\n",
    "\n",
    "\n",
    "\n",
    "<hr>\n",
    "&nbsp;\n",
    "\n",
    "## Credits\n",
    "- [Pierian Data](https://github.com/Pierian-Data/Complete-Python-3-Bootcamp)\n",
    "- [Real Python](https://realpython.com/python-exceptions/)\n",
    "- [Programmiz](https://www.programiz.com/python-programming/exception-handling)\n"
   ]
  }
 ],
 "metadata": {
  "kernelspec": {
   "display_name": "Python 3",
   "language": "python",
   "name": "python3"
  },
  "language_info": {
   "codemirror_mode": {
    "name": "ipython",
    "version": 3
   },
   "file_extension": ".py",
   "mimetype": "text/x-python",
   "name": "python",
   "nbconvert_exporter": "python",
   "pygments_lexer": "ipython3",
   "version": "3.9.2"
  },
  "toc": {
   "base_numbering": "1",
   "nav_menu": {
    "height": "154px",
    "width": "375px"
   },
   "number_sections": true,
   "sideBar": true,
   "skip_h1_title": true,
   "title_cell": "Table of Contents",
   "title_sidebar": "Contents",
   "toc_cell": true,
   "toc_position": {
    "height": "calc(100% - 180px)",
    "left": "10px",
    "top": "150px",
    "width": "213.6px"
   },
   "toc_section_display": true,
   "toc_window_display": false
  },
  "varInspector": {
   "cols": {
    "lenName": 16,
    "lenType": 16,
    "lenVar": 40
   },
   "kernels_config": {
    "python": {
     "delete_cmd_postfix": "",
     "delete_cmd_prefix": "del ",
     "library": "var_list.py",
     "varRefreshCmd": "print(var_dic_list())"
    },
    "r": {
     "delete_cmd_postfix": ") ",
     "delete_cmd_prefix": "rm(",
     "library": "var_list.r",
     "varRefreshCmd": "cat(var_dic_list()) "
    }
   },
   "types_to_exclude": [
    "module",
    "function",
    "builtin_function_or_method",
    "instance",
    "_Feature"
   ],
   "window_display": false
  }
 },
 "nbformat": 4,
 "nbformat_minor": 1
}
