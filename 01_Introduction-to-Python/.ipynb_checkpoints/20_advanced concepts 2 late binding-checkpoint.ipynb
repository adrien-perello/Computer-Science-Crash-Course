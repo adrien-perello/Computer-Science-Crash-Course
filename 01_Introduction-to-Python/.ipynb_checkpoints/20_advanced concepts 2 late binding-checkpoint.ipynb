{
 "cells": [
  {
   "cell_type": "markdown",
   "metadata": {},
   "source": [
    "# I. Introduction to Python > Late binding\n",
    "\n",
    "#### [<< Previous lesson](./09_Bits.ipynb)   |   [Next lesson >>](./.ipynb)"
   ]
  },
  {
   "cell_type": "markdown",
   "metadata": {},
   "source": [
    "<hr>\n",
    "&nbsp;\n",
    "\n",
    "## Table of content\n",
    "\n",
    "- [Introduction](#0)\n",
    "- [1. ](#1)\n",
    "- [2. ](#2)\n",
    "- [3. ](#3)\n",
    "- [4. ](#4)\n",
    "- [5. ](#5)\n",
    "- [6. ](#6)\n",
    "- [Credits](#credits)"
   ]
  },
  {
   "cell_type": "markdown",
   "metadata": {},
   "source": [
    "<hr>\n",
    "&nbsp;\n",
    "\n",
    "## <a id=\"0\"></a>Introduction"
   ]
  },
  {
   "cell_type": "code",
   "execution_count": 2,
   "metadata": {
    "scrolled": true
   },
   "outputs": [
    {
     "name": "stdout",
     "output_type": "stream",
     "text": [
      "calling a list of bad closures and output is: [6, 6, 6]\n",
      "calling a list of functions with default arguments and output is: [2, 4, 6]\n",
      "calling a list of partialy built functions and output is: [2, 4, 6]\n"
     ]
    }
   ],
   "source": [
    "# Demo of late binding in Python's closures and how to avoid it when needed\n",
    "\n",
    "functions = []\n",
    "for n in [1, 2, 3]:\n",
    "    def func(x):\n",
    "        return n*x\n",
    "    functions.append(func)\n",
    "\n",
    "# You would expect this to print [2, 4, 6]\n",
    "print(\n",
    "    'calling a list of bad closures and output is: {}'\n",
    "    .format(str([function(2) for function in functions]))\n",
    ")\n",
    "# But it will print [6, 6, 6] actually, because Python binds late the n\n",
    "# variable, after the execution of the for loop above when n equals 3\n",
    "\n",
    "# To avoid this behavior one of the options you can use is default arguments:\n",
    "functions = []\n",
    "for n in [1, 2, 3]:\n",
    "    def func(x, n=n):\n",
    "        return n*x\n",
    "    functions.append(func)\n",
    "\n",
    "# This will print [2, 4, 6]\n",
    "print(\n",
    "    'calling a list of functions with default arguments and output is: {}'\n",
    "    .format(str([function(2) for function in functions]))\n",
    ")\n",
    "# I don't like this solution though as it's rather hacky\n",
    "\n",
    "# The solution I would use in this case would be to use functools.partial:\n",
    "from functools import partial\n",
    "\n",
    "functions = []\n",
    "for n in [1, 2, 3]:\n",
    "    def func(n, x):\n",
    "        return n*x\n",
    "    functions.append(partial(func, n))\n",
    "\n",
    "print(\n",
    "    'calling a list of partialy built functions and output is: {}'\n",
    "    .format(str([function(2) for function in functions]))\n",
    ")"
   ]
  },
  {
   "cell_type": "markdown",
   "metadata": {},
   "source": [
    "https://gist.github.com/deemson/8efabf56d67623ead804\n",
    "\n",
    "https://smileboywtu.github.io/articles/2016/04/06/late-binding-closure.html\n",
    "\n",
    "https://derpystuffs.wordpress.com/2018/09/24/python-late-binding/\n",
    "\n",
    "https://www.toptal.com/python/top-10-mistakes-that-python-programmers-make\n",
    "\n",
    "https://www.debugcn.com/en/article/997239.html\n",
    "\n",
    "https://stupidpythonideas.blogspot.com/2016/01/"
   ]
  },
  {
   "cell_type": "markdown",
   "metadata": {},
   "source": [
    "<hr>\n",
    "&nbsp;\n",
    "\n",
    "## <a id=\"1\"></a>1.  Other mistake\n",
    "\n",
    "\n",
    "https://www.esparkinfo.com/common-mistakes-of-python-programmers.html\n",
    "\n",
    "https://towardsdatascience.com/4-common-mistakes-python-beginners-should-avoid-89bcebd2c628\n"
   ]
  },
  {
   "cell_type": "code",
   "execution_count": null,
   "metadata": {},
   "outputs": [],
   "source": []
  },
  {
   "cell_type": "code",
   "execution_count": null,
   "metadata": {},
   "outputs": [],
   "source": []
  },
  {
   "cell_type": "code",
   "execution_count": null,
   "metadata": {},
   "outputs": [],
   "source": []
  },
  {
   "cell_type": "markdown",
   "metadata": {},
   "source": [
    "<hr>\n",
    "&nbsp;\n",
    "\n",
    "## <a id=\"2\"></a>2. "
   ]
  },
  {
   "cell_type": "code",
   "execution_count": null,
   "metadata": {},
   "outputs": [],
   "source": []
  },
  {
   "cell_type": "code",
   "execution_count": null,
   "metadata": {},
   "outputs": [],
   "source": []
  },
  {
   "cell_type": "code",
   "execution_count": null,
   "metadata": {},
   "outputs": [],
   "source": []
  },
  {
   "cell_type": "markdown",
   "metadata": {},
   "source": [
    "<hr>\n",
    "&nbsp;\n",
    "\n",
    "## <a id=\"3\"></a>3. "
   ]
  },
  {
   "cell_type": "code",
   "execution_count": null,
   "metadata": {},
   "outputs": [],
   "source": []
  },
  {
   "cell_type": "code",
   "execution_count": null,
   "metadata": {},
   "outputs": [],
   "source": []
  },
  {
   "cell_type": "code",
   "execution_count": null,
   "metadata": {},
   "outputs": [],
   "source": []
  },
  {
   "cell_type": "markdown",
   "metadata": {},
   "source": [
    "<hr>\n",
    "&nbsp;\n",
    "\n",
    "## <a id=\"4\"></a>4. "
   ]
  },
  {
   "cell_type": "code",
   "execution_count": null,
   "metadata": {},
   "outputs": [],
   "source": []
  },
  {
   "cell_type": "code",
   "execution_count": null,
   "metadata": {},
   "outputs": [],
   "source": []
  },
  {
   "cell_type": "code",
   "execution_count": null,
   "metadata": {},
   "outputs": [],
   "source": []
  },
  {
   "cell_type": "markdown",
   "metadata": {},
   "source": [
    "<hr>\n",
    "&nbsp;\n",
    "\n",
    "## <a id=\"5\"></a>5. "
   ]
  },
  {
   "cell_type": "code",
   "execution_count": null,
   "metadata": {},
   "outputs": [],
   "source": []
  },
  {
   "cell_type": "code",
   "execution_count": null,
   "metadata": {},
   "outputs": [],
   "source": []
  },
  {
   "cell_type": "code",
   "execution_count": null,
   "metadata": {},
   "outputs": [],
   "source": []
  },
  {
   "cell_type": "markdown",
   "metadata": {},
   "source": [
    "<hr>\n",
    "&nbsp;\n",
    "\n",
    "## <a id=\"6\"></a>6. "
   ]
  },
  {
   "cell_type": "code",
   "execution_count": null,
   "metadata": {},
   "outputs": [],
   "source": []
  },
  {
   "cell_type": "code",
   "execution_count": null,
   "metadata": {},
   "outputs": [],
   "source": []
  },
  {
   "cell_type": "code",
   "execution_count": null,
   "metadata": {},
   "outputs": [],
   "source": []
  },
  {
   "cell_type": "markdown",
   "metadata": {},
   "source": [
    "&nbsp;\n",
    "\n",
    "Check the [python documentation](https://docs.python.org/3/library/functions.html) for more information.\n",
    "\n",
    "\n",
    "<hr>\n",
    "&nbsp;\n",
    "\n",
    "## <a id=\"credits\"></a>Credits\n",
    "- [Data Camp](https://www.datacamp.com/community/tutorials/pep8-tutorial-python-code)\n",
    "- [Real Python](https://realpython.com/python-pep8/)"
   ]
  }
 ],
 "metadata": {
  "kernelspec": {
   "display_name": "Python 3",
   "language": "python",
   "name": "python3"
  },
  "language_info": {
   "codemirror_mode": {
    "name": "ipython",
    "version": 3
   },
   "file_extension": ".py",
   "mimetype": "text/x-python",
   "name": "python",
   "nbconvert_exporter": "python",
   "pygments_lexer": "ipython3",
   "version": "3.8.5"
  }
 },
 "nbformat": 4,
 "nbformat_minor": 1
}
