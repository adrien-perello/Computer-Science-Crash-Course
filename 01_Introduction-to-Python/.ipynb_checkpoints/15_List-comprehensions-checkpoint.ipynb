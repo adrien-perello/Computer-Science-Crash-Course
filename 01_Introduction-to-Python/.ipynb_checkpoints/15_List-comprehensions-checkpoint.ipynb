{
 "cells": [
  {
   "cell_type": "markdown",
   "metadata": {},
   "source": [
    "# I. Introduction to Python > 15. List comprehension\n",
    "\n",
    "\n",
    "#### [<< Previous lesson](./14_Enumerate-Zip-Input-and-Eval.ipynb)   |   [Next lesson >>](./16_Filter-Map-and-Lambda-functions.ipynb)"
   ]
  },
  {
   "cell_type": "markdown",
   "metadata": {},
   "source": [
    "<hr>\n",
    "&nbsp;\n",
    "\n",
    "## Table of content\n",
    "\n",
    "- [1. List Comprehensions](#1)\n",
    "- [2. List Comprehensions with conditionals](#2)\n",
    "- [3. Nested list comprehensions](#3)\n",
    "- [4. Nested comprehensions with conditionals](#4)\n",
    "- [5. Other comprehensions](#5)\n",
    "- [6. Misuses of comprehensions](#6)\n",
    "    - [6.1. Unecessary use](#6.1)\n",
    "    - [6.2. List comprehension vs loops](#6.2)\n",
    "    - [6.3. Readability comes first](#6.3)\n",
    "- [Credits](#credits)"
   ]
  },
  {
   "cell_type": "markdown",
   "metadata": {
    "collapsed": true
   },
   "source": [
    "<hr>\n",
    "&nbsp;\n",
    "\n",
    "## <a id=\"1\"></a>1. List Comprehensions\n",
    "\n",
    "Python is famous for allowing you to write code that’s elegant, easy to write, and almost as easy to read as normal language. One of the language’s most distinctive features is the **list comprehension**."
   ]
  },
  {
   "cell_type": "code",
   "execution_count": 1,
   "metadata": {},
   "outputs": [
    {
     "data": {
      "text/plain": [
       "['p', 'y', 't', 'h', 'o', 'n']"
      ]
     },
     "execution_count": 1,
     "metadata": {},
     "output_type": "execute_result"
    }
   ],
   "source": [
    "# let's imagine we want to convert a string into a list\n",
    "# of course we know we can do this\n",
    "list(\"python\")"
   ]
  },
  {
   "cell_type": "code",
   "execution_count": 2,
   "metadata": {},
   "outputs": [
    {
     "data": {
      "text/plain": [
       "['p', 'y', 't', 'h', 'o', 'n']"
      ]
     },
     "execution_count": 2,
     "metadata": {},
     "output_type": "execute_result"
    }
   ],
   "source": [
    "# and we know of the for loop\n",
    "list1 = []\n",
    "for letter in \"python\":\n",
    "    list1.append(letter)\n",
    "list1"
   ]
  },
  {
   "cell_type": "code",
   "execution_count": 3,
   "metadata": {
    "scrolled": true
   },
   "outputs": [
    {
     "data": {
      "text/plain": [
       "['p', 'y', 't', 'h', 'o', 'n']"
      ]
     },
     "execution_count": 3,
     "metadata": {},
     "output_type": "execute_result"
    }
   ],
   "source": [
    "# those 2 are equivalent to the following\n",
    "list2 = [x for x in \"python\"]\n",
    "list2"
   ]
  },
  {
   "cell_type": "code",
   "execution_count": 4,
   "metadata": {},
   "outputs": [
    {
     "data": {
      "text/plain": [
       "[0, 1, 4, 9, 16, 25, 36, 49, 64, 81]"
      ]
     },
     "execution_count": 4,
     "metadata": {},
     "output_type": "execute_result"
    }
   ],
   "source": [
    "# let's take the example of the list of the first 10 squared numbers\n",
    "squares = []\n",
    "for i in range(10):       # take the numbers from 0 to 10 (excluded)\n",
    "    squares.append(i**2)  # take the square of this number and append it\n",
    "squares                   # show the list of squares"
   ]
  },
  {
   "cell_type": "code",
   "execution_count": 5,
   "metadata": {},
   "outputs": [
    {
     "data": {
      "text/plain": [
       "[0, 1, 4, 9, 16, 25, 36, 49, 64, 81]"
      ]
     },
     "execution_count": 5,
     "metadata": {},
     "output_type": "execute_result"
    }
   ],
   "source": [
    "# we can do the same in one line\n",
    "squares = [i**2 for i in range(10)]\n",
    "squares"
   ]
  },
  {
   "cell_type": "code",
   "execution_count": 6,
   "metadata": {},
   "outputs": [
    {
     "data": {
      "text/plain": [
       "['t', 'i', 'a', 'l', 'o', 'w']"
      ]
     },
     "execution_count": 6,
     "metadata": {},
     "output_type": "execute_result"
    }
   ],
   "source": [
    "# show the first letter of each word\n",
    "list_of_words = [\"this\",\"is\",\"a\",\"list\",\"of\",\"words\"]\n",
    "\n",
    "letters = [word[0] for word in list_of_words]\n",
    "letters"
   ]
  },
  {
   "cell_type": "code",
   "execution_count": 7,
   "metadata": {},
   "outputs": [],
   "source": [
    "# A more complicated example: converting Celsius to Fahrenheit\n",
    "celsius = [0, 11, 22.1, 34.5, 40.9]"
   ]
  },
  {
   "cell_type": "code",
   "execution_count": 8,
   "metadata": {},
   "outputs": [
    {
     "data": {
      "text/plain": [
       "[32.0, 51.8, 71.78, 94.1, 105.62]"
      ]
     },
     "execution_count": 8,
     "metadata": {},
     "output_type": "execute_result"
    }
   ],
   "source": [
    "# this is the list comprehension that allow us to do  this\n",
    "fahrenheit = [((9/5)*temp + 32) for temp in celsius ]\n",
    "fahrenheit"
   ]
  },
  {
   "cell_type": "code",
   "execution_count": 9,
   "metadata": {},
   "outputs": [],
   "source": [
    "# We can even call functions\n",
    "def convert_to_fahrenheit(temp):\n",
    "    return (9/5)*temp + 32"
   ]
  },
  {
   "cell_type": "code",
   "execution_count": 10,
   "metadata": {},
   "outputs": [
    {
     "data": {
      "text/plain": [
       "[32.0, 51.8, 71.78, 94.1, 105.62]"
      ]
     },
     "execution_count": 10,
     "metadata": {},
     "output_type": "execute_result"
    }
   ],
   "source": [
    "# Like this\n",
    "fahrenheit = [convert_to_fahrenheit(temp) for temp in celsius ]\n",
    "fahrenheit"
   ]
  },
  {
   "cell_type": "markdown",
   "metadata": {},
   "source": [
    "<hr>\n",
    "&nbsp;\n",
    "\n",
    "## <a id=\"2\"></a>2. List Comprehensions with conditionals"
   ]
  },
  {
   "cell_type": "code",
   "execution_count": 11,
   "metadata": {},
   "outputs": [],
   "source": [
    "# We can also add conditions\n",
    "list3 = [i**2 for i in range(10) if i % 2 == 0]"
   ]
  },
  {
   "cell_type": "code",
   "execution_count": 12,
   "metadata": {
    "scrolled": true
   },
   "outputs": [
    {
     "data": {
      "text/plain": [
       "[0, 4, 16, 36, 64]"
      ]
     },
     "execution_count": 12,
     "metadata": {},
     "output_type": "execute_result"
    }
   ],
   "source": [
    "list3"
   ]
  },
  {
   "cell_type": "code",
   "execution_count": 13,
   "metadata": {},
   "outputs": [
    {
     "data": {
      "text/plain": [
       "['1', '2', '3', '4', '5']"
      ]
     },
     "execution_count": 13,
     "metadata": {},
     "output_type": "execute_result"
    }
   ],
   "source": [
    "# Only keep the numbers of a string\n",
    "string = \"Hello 12345 World\"\n",
    "numbers = [x for x in string if x.isdigit()]\n",
    "numbers"
   ]
  },
  {
   "cell_type": "markdown",
   "metadata": {},
   "source": [
    "&nbsp;  \n",
    "\n",
    "The basic **syntax of list comprehension** is:\n",
    "\n",
    "    [ expression for item in list if conditional ]\n",
    "    \n",
    "Which is equivalents to:\n",
    "\n",
    "    for item in list:\n",
    "        if conditional:\n",
    "            expression"
   ]
  },
  {
   "cell_type": "code",
   "execution_count": 14,
   "metadata": {},
   "outputs": [
    {
     "data": {
      "text/plain": [
       "[0, 10, 20, 30, 40, 50, 60, 70, 80, 90]"
      ]
     },
     "execution_count": 14,
     "metadata": {},
     "output_type": "execute_result"
    }
   ],
   "source": [
    "# we can also add several \"if\"\n",
    "# let's keep the products of 2 and 5 out of the first 100 numbers\n",
    "num_list = [x for x in range(100) if x % 2 == 0 if x % 5 == 0]\n",
    "num_list"
   ]
  },
  {
   "cell_type": "markdown",
   "metadata": {},
   "source": [
    "Here, list comprehension checks:\n",
    "1) Is x divisible by 2 or not?  \n",
    "2) Is x divisible by 5 or not?  \n",
    "\n",
    "If x satisfies both conditions, x is appended to num_list."
   ]
  },
  {
   "cell_type": "code",
   "execution_count": 15,
   "metadata": {},
   "outputs": [
    {
     "data": {
      "text/plain": [
       "[0, '#', 4, '#', 16, '#', 36, '#', 64, '#']"
      ]
     },
     "execution_count": 15,
     "metadata": {},
     "output_type": "execute_result"
    }
   ],
   "source": [
    "# And we can even add a \"else\" clause\n",
    "# BUT in this case we have to CHANGE the order\n",
    "mylist = [i**2 if i % 2 == 0 else '#' for i in range(10) ]\n",
    "mylist"
   ]
  },
  {
   "cell_type": "code",
   "execution_count": 16,
   "metadata": {},
   "outputs": [
    {
     "ename": "SyntaxError",
     "evalue": "invalid syntax (<ipython-input-16-1e7d8cf21ca6>, line 2)",
     "output_type": "error",
     "traceback": [
      "\u001b[0;36m  File \u001b[0;32m\"<ipython-input-16-1e7d8cf21ca6>\"\u001b[0;36m, line \u001b[0;32m2\u001b[0m\n\u001b[0;31m    mylist = [i**2 for i in range(10) if i % 2 == 0 else '#']\u001b[0m\n\u001b[0m                                                    ^\u001b[0m\n\u001b[0;31mSyntaxError\u001b[0m\u001b[0;31m:\u001b[0m invalid syntax\n"
     ]
    }
   ],
   "source": [
    "# if not\n",
    "mylist = [i**2 for i in range(10) if i % 2 == 0 else '#']\n",
    "mylist"
   ]
  },
  {
   "cell_type": "markdown",
   "metadata": {},
   "source": [
    "The **syntax of list comprehension** with ```else``` clause is:\n",
    "\n",
    "    [ expression1 if conditional else expression2 for item in list ]\n",
    "    \n",
    "Which is equivalents to:\n",
    "\n",
    "    for item in list:\n",
    "        if conditional:\n",
    "            expression1\n",
    "        else:\n",
    "            expression2"
   ]
  },
  {
   "cell_type": "code",
   "execution_count": 17,
   "metadata": {},
   "outputs": [
    {
     "ename": "SyntaxError",
     "evalue": "invalid syntax (<ipython-input-17-dd636d85d61c>, line 3)",
     "output_type": "error",
     "traceback": [
      "\u001b[0;36m  File \u001b[0;32m\"<ipython-input-17-dd636d85d61c>\"\u001b[0;36m, line \u001b[0;32m3\u001b[0m\n\u001b[0;31m    numbers = [x if x.isdigit() for x in string]\u001b[0m\n\u001b[0m                                ^\u001b[0m\n\u001b[0;31mSyntaxError\u001b[0m\u001b[0;31m:\u001b[0m invalid syntax\n"
     ]
    }
   ],
   "source": [
    "# But we only reverse when there is a \"else\" clause, if not:\n",
    "string = \"Hello 12345 World\"\n",
    "numbers = [x if x.isdigit() for x in string]\n",
    "numbers"
   ]
  },
  {
   "cell_type": "markdown",
   "metadata": {},
   "source": [
    "<hr>\n",
    "&nbsp;\n",
    "\n",
    "## <a id=\"3\"></a>3. Nested list comprehensions"
   ]
  },
  {
   "cell_type": "code",
   "execution_count": 18,
   "metadata": {
    "scrolled": true
   },
   "outputs": [
    {
     "data": {
      "text/plain": [
       "[0, 1, 16, 81, 256, 625, 1296, 2401, 4096, 6561, 10000]"
      ]
     },
     "execution_count": 18,
     "metadata": {},
     "output_type": "execute_result"
    }
   ],
   "source": [
    "# we can have nested list comprehensions\n",
    "lst = [ x**2 for x in [i**2 for i in range(11)]]\n",
    "lst"
   ]
  },
  {
   "cell_type": "markdown",
   "metadata": {},
   "source": [
    "- The outer list comprehension ```[ ___ [i**2 for i in range(11)]]``` creates the following list ```[0,1,4,9,16,25,36,49,64,81,100]```\n",
    "- The inner list comprehension ```[x**2 for x in ___ ]``` takes the square of each element of the above list"
   ]
  },
  {
   "cell_type": "code",
   "execution_count": 19,
   "metadata": {},
   "outputs": [
    {
     "data": {
      "text/plain": [
       "[0, 1, 16, 81, 256, 625, 1296, 2401, 4096, 6561, 10000]"
      ]
     },
     "execution_count": 19,
     "metadata": {},
     "output_type": "execute_result"
    }
   ],
   "source": [
    "# is equivalent to\n",
    "lst = []\n",
    "\n",
    "for i in range(11):\n",
    "    lst.append(i**2)\n",
    "    \n",
    "for index, x in enumerate(lst):\n",
    "    lst[index] = x**2\n",
    "\n",
    "lst"
   ]
  },
  {
   "cell_type": "code",
   "execution_count": 20,
   "metadata": {
    "scrolled": true
   },
   "outputs": [
    {
     "data": {
      "text/plain": [
       "[[0, 1, 2, 3],\n",
       " [0, 1, 2, 3],\n",
       " [0, 1, 2, 3],\n",
       " [0, 1, 2, 3],\n",
       " [0, 1, 2, 3],\n",
       " [0, 1, 2, 3]]"
      ]
     },
     "execution_count": 20,
     "metadata": {},
     "output_type": "execute_result"
    }
   ],
   "source": [
    "# an other example\n",
    "matrix = [ [i for i in range(4)] for j in range(6)]\n",
    "matrix"
   ]
  },
  {
   "cell_type": "markdown",
   "metadata": {},
   "source": [
    "- The outer list comprehension ```[ ___ for j in range(6)]``` creates six rows\n",
    "- The inner list comprehension ```[i for i in range(4)]``` fills each of these rows with values."
   ]
  },
  {
   "cell_type": "code",
   "execution_count": 21,
   "metadata": {
    "scrolled": true
   },
   "outputs": [
    {
     "data": {
      "text/plain": [
       "[[0, 1, 2, 3],\n",
       " [0, 1, 2, 3],\n",
       " [0, 1, 2, 3],\n",
       " [0, 1, 2, 3],\n",
       " [0, 1, 2, 3],\n",
       " [0, 1, 2, 3]]"
      ]
     },
     "execution_count": 21,
     "metadata": {},
     "output_type": "execute_result"
    }
   ],
   "source": [
    "# this is equivalent to\n",
    "\n",
    "matrix = [] \n",
    "\n",
    "for j in range(6): \n",
    "    matrix.append([])       # Append with empty sublists (x6)\n",
    "    for i in range(4): \n",
    "        matrix[j].append(i) # and fill each sublist with i (x4)\n",
    "\n",
    "matrix"
   ]
  },
  {
   "cell_type": "code",
   "execution_count": 22,
   "metadata": {},
   "outputs": [],
   "source": [
    "# now let's try to flatten the following matrix\n",
    "matrix = [[0, 0, 0],\n",
    "           [1, 1, 1],\n",
    "           [2, 2, 2],\n",
    "           [3, 3, 3]]"
   ]
  },
  {
   "cell_type": "code",
   "execution_count": 23,
   "metadata": {},
   "outputs": [
    {
     "data": {
      "text/plain": [
       "[[0, 0, 0], [1, 1, 1], [2, 2, 2], [3, 3, 3]]"
      ]
     },
     "execution_count": 23,
     "metadata": {},
     "output_type": "execute_result"
    }
   ],
   "source": [
    "# check\n",
    "matrix"
   ]
  },
  {
   "cell_type": "code",
   "execution_count": 24,
   "metadata": {},
   "outputs": [
    {
     "data": {
      "text/plain": [
       "[0, 0, 0, 1, 1, 1, 2, 2, 2, 3, 3, 3]"
      ]
     },
     "execution_count": 24,
     "metadata": {},
     "output_type": "execute_result"
    }
   ],
   "source": [
    "# we could use nested \"for\" loops  \n",
    "\n",
    "flat = [] \n",
    "  \n",
    "for rows in matrix: \n",
    "    for val in rows: \n",
    "        flat.append(val) \n",
    "          \n",
    "flat"
   ]
  },
  {
   "cell_type": "code",
   "execution_count": 25,
   "metadata": {},
   "outputs": [
    {
     "data": {
      "text/plain": [
       "[0, 0, 0, 1, 1, 1, 2, 2, 2, 3, 3, 3]"
      ]
     },
     "execution_count": 25,
     "metadata": {},
     "output_type": "execute_result"
    }
   ],
   "source": [
    "# But we can also use nested list comprehensions\n",
    "flat2 = [val for row in matrix for val in row]\n",
    "flat2"
   ]
  },
  {
   "cell_type": "markdown",
   "metadata": {},
   "source": [
    "For better understanding, we can divide the list comprehension into 3 parts:\n",
    "\n",
    "    flat2 = [val\n",
    "             for row in matrix\n",
    "             for val in row]\n",
    "\n",
    "And when we compare with the previous code, we can recognize that:\n",
    "\n",
    " - 1st line is what we want to append to the list\n",
    " - 2nd line is the outer loop\n",
    " - 3rd line is the inner loop"
   ]
  },
  {
   "cell_type": "markdown",
   "metadata": {},
   "source": [
    "<hr>\n",
    "&nbsp;\n",
    "\n",
    "## <a id=\"4\"></a>4. Nested comprehensions with conditionals"
   ]
  },
  {
   "cell_type": "code",
   "execution_count": 26,
   "metadata": {},
   "outputs": [],
   "source": [
    "# let's create the following list\n",
    "planets = [[\"Mercury\", \"Venus\", \"Earth\"],\n",
    "           [\"Mars\", \"Jupiter\", \"Saturn\"],\n",
    "           [\"Uranus\", \"Neptune\", \"Pluto\"]]"
   ]
  },
  {
   "cell_type": "code",
   "execution_count": 27,
   "metadata": {},
   "outputs": [
    {
     "data": {
      "text/plain": [
       "['Venus', 'Earth', 'Mars', 'Pluto']"
      ]
     },
     "execution_count": 27,
     "metadata": {},
     "output_type": "execute_result"
    }
   ],
   "source": [
    "# we want a flat list but only with strings whose lengths < 6\n",
    "# i.e. [‘Venus’, ‘Earth’, ‘Mars’, ‘Pluto’] \n",
    "\n",
    "flatten_planets = [] \n",
    "  \n",
    "for sublist in planets: \n",
    "    for planet in sublist: \n",
    "        if len(planet) < 6: \n",
    "            flatten_planets.append(planet) \n",
    "\n",
    "flatten_planets"
   ]
  },
  {
   "cell_type": "code",
   "execution_count": 28,
   "metadata": {},
   "outputs": [],
   "source": [
    "# using list comprehension\n",
    "my_planets = [planet for sublist in planets for planet in sublist if len(planet) < 6] "
   ]
  },
  {
   "cell_type": "markdown",
   "metadata": {},
   "source": [
    "We can divide the list comprehension into 4 parts:\n",
    "\n",
    "    my_planets = [planet\n",
    "                  for sublist in planets\n",
    "                  for planet in sublist\n",
    "                  if len(planet) < 6]\n",
    "                  \n",
    "And we can recognize the same line as the previous code"
   ]
  },
  {
   "cell_type": "code",
   "execution_count": 29,
   "metadata": {},
   "outputs": [
    {
     "data": {
      "text/plain": [
       "['#', 'Venus', 'Earth', 'Mars', '#', '#', '#', '#', 'Pluto']"
      ]
     },
     "execution_count": 29,
     "metadata": {},
     "output_type": "execute_result"
    }
   ],
   "source": [
    "# and with the 'else' clause\n",
    "[planet if len(planet) < 6 else '#' for sublist in planets for planet in sublist]"
   ]
  },
  {
   "cell_type": "markdown",
   "metadata": {},
   "source": [
    "We can divide the list comprehension into as follow:\n",
    "\n",
    "    my_planets = [planet if len(planet) < 6 else '#'\n",
    "                  for sublist in planets\n",
    "                  for planet in sublist]\n",
    "                  \n"
   ]
  },
  {
   "cell_type": "markdown",
   "metadata": {},
   "source": [
    "<hr>\n",
    "&nbsp;\n",
    "\n",
    "## <a id=\"5\"></a>5. Other comprehensions"
   ]
  },
  {
   "cell_type": "code",
   "execution_count": 30,
   "metadata": {},
   "outputs": [],
   "source": [
    "# it works for dictionaries too\n",
    "original = {'apples':0, 'oranges':1, 'kiwis':2}"
   ]
  },
  {
   "cell_type": "code",
   "execution_count": 31,
   "metadata": {},
   "outputs": [
    {
     "data": {
      "text/plain": [
       "{0: 'apples', 1: 'oranges', 2: 'kiwis'}"
      ]
     },
     "execution_count": 31,
     "metadata": {},
     "output_type": "execute_result"
    }
   ],
   "source": [
    "# dictionary comprehensions\n",
    "flipped = {value: key for key, value in original.items()}\n",
    "flipped"
   ]
  },
  {
   "cell_type": "code",
   "execution_count": 32,
   "metadata": {},
   "outputs": [
    {
     "data": {
      "text/plain": [
       "{0: 'apples', 1: 'oranges', 2: 'kiwis'}"
      ]
     },
     "execution_count": 32,
     "metadata": {},
     "output_type": "execute_result"
    }
   ],
   "source": [
    "# is equivalent to\n",
    "flipped = {}\n",
    "for key, value in original.items():\n",
    "    flipped[value] = key\n",
    "flipped"
   ]
  },
  {
   "cell_type": "code",
   "execution_count": 33,
   "metadata": {},
   "outputs": [],
   "source": [
    "# and also with sets\n",
    "numbers = [10, 10, 20, 30, 12, -20, 0, 1]"
   ]
  },
  {
   "cell_type": "code",
   "execution_count": 34,
   "metadata": {},
   "outputs": [
    {
     "data": {
      "text/plain": [
       "{0, 1, 100, 144, 400, 900}"
      ]
     },
     "execution_count": 34,
     "metadata": {},
     "output_type": "execute_result"
    }
   ],
   "source": [
    "# set comprehension\n",
    "unique_squares = {number**2 for number in numbers}\n",
    "unique_squares"
   ]
  },
  {
   "cell_type": "code",
   "execution_count": 35,
   "metadata": {},
   "outputs": [
    {
     "data": {
      "text/plain": [
       "{0, 1, 100, 144, 400, 900}"
      ]
     },
     "execution_count": 35,
     "metadata": {},
     "output_type": "execute_result"
    }
   ],
   "source": [
    "# is equivalent to\n",
    "unique_squares = set()\n",
    "for number in numbers:\n",
    "    unique_squares.add(number**2)\n",
    "unique_squares"
   ]
  },
  {
   "cell_type": "markdown",
   "metadata": {},
   "source": [
    "<hr>\n",
    "&nbsp;\n",
    "\n",
    "## <a id=\"6\"></a>6. Misuses of comprehensions\n",
    "\n",
    "### <a id=\"6.1\"></a>6.1. Unecessary use"
   ]
  },
  {
   "cell_type": "code",
   "execution_count": 36,
   "metadata": {},
   "outputs": [],
   "source": [
    "name = \"JOHN\""
   ]
  },
  {
   "cell_type": "code",
   "execution_count": 37,
   "metadata": {},
   "outputs": [
    {
     "data": {
      "text/plain": [
       "['j', 'o', 'h', 'n']"
      ]
     },
     "execution_count": 37,
     "metadata": {},
     "output_type": "execute_result"
    }
   ],
   "source": [
    "# a list of the lowercase letters of 'name'\n",
    "letters = [x.lower() for x in name]\n",
    "letters"
   ]
  },
  {
   "cell_type": "code",
   "execution_count": 38,
   "metadata": {},
   "outputs": [
    {
     "data": {
      "text/plain": [
       "['j', 'o', 'h', 'n']"
      ]
     },
     "execution_count": 38,
     "metadata": {},
     "output_type": "execute_result"
    }
   ],
   "source": [
    "# we could have used list() instead\n",
    "letters = list(name.lower())\n",
    "letters"
   ]
  },
  {
   "cell_type": "code",
   "execution_count": 39,
   "metadata": {},
   "outputs": [
    {
     "data": {
      "text/plain": [
       "[0, 1, 2, 3, 4, 5, 6, 7]"
      ]
     },
     "execution_count": 39,
     "metadata": {},
     "output_type": "execute_result"
    }
   ],
   "source": [
    "# another example\n",
    "numbers = [x for x in range(8)]\n",
    "numbers"
   ]
  },
  {
   "cell_type": "code",
   "execution_count": 40,
   "metadata": {},
   "outputs": [
    {
     "data": {
      "text/plain": [
       "[0, 1, 2, 3, 4, 5, 6, 7]"
      ]
     },
     "execution_count": 40,
     "metadata": {},
     "output_type": "execute_result"
    }
   ],
   "source": [
    "# that can be rewritten as\n",
    "numbers = list(range(8))\n",
    "numbers"
   ]
  },
  {
   "cell_type": "code",
   "execution_count": 41,
   "metadata": {},
   "outputs": [],
   "source": [
    "# yet another example\n",
    "first_names = ['John', 'Danny', 'Aaron']\n",
    "last_names = ['Smith', 'Brown', 'Thompson']"
   ]
  },
  {
   "cell_type": "code",
   "execution_count": 42,
   "metadata": {},
   "outputs": [
    {
     "name": "stdout",
     "output_type": "stream",
     "text": [
      "John Smith\n",
      "Danny Brown\n",
      "Aaron Thompson\n"
     ]
    }
   ],
   "source": [
    "# unecessary comprehension\n",
    "names = [' '.join(x) for x in zip(first_names, last_names)]\n",
    "for name in names:\n",
    "    print(name)"
   ]
  },
  {
   "cell_type": "code",
   "execution_count": 43,
   "metadata": {},
   "outputs": [
    {
     "name": "stdout",
     "output_type": "stream",
     "text": [
      "John Smith\n",
      "Danny Brown\n",
      "Aaron Thompson\n"
     ]
    }
   ],
   "source": [
    "# can be rewritten\n",
    "for name in zip(first_names, last_names):\n",
    "    print(' '.join(name))"
   ]
  },
  {
   "cell_type": "markdown",
   "metadata": {},
   "source": [
    "<hr>\n",
    "&nbsp;\n",
    "\n",
    "### <a id=\"6.2\"></a>6.2. List comprehension vs loops\n",
    "\n",
    "List comprehensions are **more efficient** both **computationally** and in terms of coding **space and time** than a `for` loop.\n",
    "\n",
    "But it is **not** always **relevant** to rewrite a`for` loop as a list comprehension."
   ]
  },
  {
   "cell_type": "code",
   "execution_count": 44,
   "metadata": {
    "scrolled": true
   },
   "outputs": [
    {
     "name": "stdout",
     "output_type": "stream",
     "text": [
      "0\n",
      "1\n",
      "2\n",
      "3\n",
      "4\n",
      "5\n",
      "6\n",
      "7\n",
      "8\n",
      "9\n"
     ]
    },
    {
     "data": {
      "text/plain": [
       "[None, None, None, None, None, None, None, None, None, None]"
      ]
     },
     "execution_count": 44,
     "metadata": {},
     "output_type": "execute_result"
    }
   ],
   "source": [
    "# consider the example\n",
    "[print(n) for n in range(10)]"
   ]
  },
  {
   "cell_type": "markdown",
   "metadata": {},
   "source": [
    "Here we created an unnecessary list. Comprehensions are made to build new lists (or dictionaries / sets) before all."
   ]
  },
  {
   "cell_type": "markdown",
   "metadata": {},
   "source": [
    "<hr>\n",
    "&nbsp;\n",
    "\n",
    "### <a id=\"6.3\"></a>6.3. Readability comes first\n",
    "\n",
    "Just because there *is a way* to write your code as a comprehension, that **doesn’t mean that you should write your code as a comprehension**."
   ]
  },
  {
   "cell_type": "code",
   "execution_count": 45,
   "metadata": {},
   "outputs": [],
   "source": [
    "numbers = [1, 2, 3, 4, 5, 6, 18, 20]"
   ]
  },
  {
   "cell_type": "code",
   "execution_count": 46,
   "metadata": {},
   "outputs": [
    {
     "data": {
      "text/plain": [
       "['small', 'big']"
      ]
     },
     "execution_count": 46,
     "metadata": {},
     "output_type": "execute_result"
    }
   ],
   "source": [
    "# consider the following example\n",
    "squares = [\"small\" if number < 10 else \"big\" for number in numbers if number % 2 == 0 if number % 3 == 0]\n",
    "squares"
   ]
  },
  {
   "cell_type": "code",
   "execution_count": 47,
   "metadata": {},
   "outputs": [
    {
     "data": {
      "text/plain": [
       "['small', 'big']"
      ]
     },
     "execution_count": 47,
     "metadata": {},
     "output_type": "execute_result"
    }
   ],
   "source": [
    "# vs\n",
    "squares = []\n",
    "\n",
    "for number in numbers:\n",
    "    if number % 2 == 0: \n",
    "        if number % 3 == 0:\n",
    "            if number < 10:\n",
    "                squares.append(\"small\")\n",
    "            else:\n",
    "                squares.append(\"big\")\n",
    "\n",
    "squares"
   ]
  },
  {
   "cell_type": "code",
   "execution_count": 48,
   "metadata": {},
   "outputs": [],
   "source": [
    "styles = ['long-sleeve', 'v-neck']\n",
    "colors = ['white', 'black']\n",
    "sizes = ['L', 'S']"
   ]
  },
  {
   "cell_type": "code",
   "execution_count": 49,
   "metadata": {
    "scrolled": true
   },
   "outputs": [
    {
     "data": {
      "text/plain": [
       "['long-sleeve white L',\n",
       " 'long-sleeve white S',\n",
       " 'long-sleeve black L',\n",
       " 'long-sleeve black S',\n",
       " 'v-neck white L',\n",
       " 'v-neck white S',\n",
       " 'v-neck black L',\n",
       " 'v-neck black S']"
      ]
     },
     "execution_count": 49,
     "metadata": {},
     "output_type": "execute_result"
    }
   ],
   "source": [
    "# a one line list comprehension\n",
    "options = [' '.join([x, y, z]) for x in styles for y in colors for z in sizes]\n",
    "options"
   ]
  },
  {
   "cell_type": "code",
   "execution_count": 50,
   "metadata": {},
   "outputs": [
    {
     "data": {
      "text/plain": [
       "['long-sleeve white L',\n",
       " 'long-sleeve white S',\n",
       " 'long-sleeve black L',\n",
       " 'long-sleeve black S',\n",
       " 'v-neck white L',\n",
       " 'v-neck white S',\n",
       " 'v-neck black L',\n",
       " 'v-neck black S']"
      ]
     },
     "execution_count": 50,
     "metadata": {},
     "output_type": "execute_result"
    }
   ],
   "source": [
    "# vs a several lines list comprehension\n",
    "options = [' '.join([x, y, z]) for x in styles\n",
    "                               for y in colors\n",
    "                               for z in sizes]\n",
    "options"
   ]
  },
  {
   "cell_type": "code",
   "execution_count": 51,
   "metadata": {
    "scrolled": true
   },
   "outputs": [
    {
     "data": {
      "text/plain": [
       "['long-sleeve white L',\n",
       " 'long-sleeve white S',\n",
       " 'long-sleeve black L',\n",
       " 'long-sleeve black S',\n",
       " 'v-neck white L',\n",
       " 'v-neck white S',\n",
       " 'v-neck black L',\n",
       " 'v-neck black S']"
      ]
     },
     "execution_count": 51,
     "metadata": {},
     "output_type": "execute_result"
    }
   ],
   "source": [
    "# but sometimes netsted loops are still more readable\n",
    "options = []\n",
    "for x in styles:\n",
    "    for y in colors:\n",
    "        for z in sizes:\n",
    "            option = ' '.join([x, y, z])\n",
    "            options.append(option)\n",
    "options"
   ]
  },
  {
   "cell_type": "markdown",
   "metadata": {},
   "source": [
    "&nbsp;\n",
    "\n",
    "Check the [python documentation](https://docs.python.org/3/tutorial/datastructures.html#list-comprehensions) for more information on list comprehension.\n",
    "\n",
    "\n",
    "\n",
    "<hr>\n",
    "&nbsp;\n",
    "\n",
    "## <a id=\"credits\"></a>Credits\n",
    "- [Pierian Data](https://github.com/Pierian-Data/Complete-Python-3-Bootcamp)\n",
    "- [Python for beginners](https://www.pythonforbeginners.com/basics/list-comprehensions-in-python)\n",
    "- [Real Python](https://realpython.com/list-comprehension-python/)\n",
    "- [Programmiz](https://www.programiz.com/python-programming/list-comprehension)\n",
    "- [Geeks for Geeks](https://www.geeksforgeeks.org/nested-list-comprehensions-in-python/)\n",
    "- [treyhunner](https://treyhunner.com/2019/03/abusing-and-overusing-list-comprehensions-in-python/#Writing_ugly_comprehensions)\n",
    "- [Better programming](https://betterprogramming.pub/3-misuses-of-python-list-comprehension-to-avoid-54adc312e48c)"
   ]
  }
 ],
 "metadata": {
  "kernelspec": {
   "display_name": "Python 3",
   "language": "python",
   "name": "python3"
  },
  "language_info": {
   "codemirror_mode": {
    "name": "ipython",
    "version": 3
   },
   "file_extension": ".py",
   "mimetype": "text/x-python",
   "name": "python",
   "nbconvert_exporter": "python",
   "pygments_lexer": "ipython3",
   "version": "3.8.5"
  }
 },
 "nbformat": 4,
 "nbformat_minor": 1
}
