{
 "cells": [
  {
   "cell_type": "markdown",
   "source": [
    "# I. Introduction to Python > 22. Decorators\n",
    "\n",
    "**[<< Previous lesson](./21_Iterators-and-Generators.ipynb)   |   [Next lesson >>](./23_Clean-code.ipynb)**\n",
    "\n",
    "<hr>\n",
    "&nbsp;"
   ],
   "metadata": {}
  },
  {
   "cell_type": "markdown",
   "source": [
    "<h1>Table of Contents<span class=\"tocSkip\"></span></h1>\n",
    "<div class=\"toc\"><ul class=\"toc-item\"><li><span><a href=\"#Introduction\" data-toc-modified-id=\"Introduction-1\"><span class=\"toc-item-num\">1&nbsp;&nbsp;</span>Introduction</a></span></li><li><span><a href=\"#Prerequisites\" data-toc-modified-id=\"Prerequisites-2\"><span class=\"toc-item-num\">2&nbsp;&nbsp;</span>Prerequisites</a></span><ul class=\"toc-item\"><li><span><a href=\"#Scope-Review\" data-toc-modified-id=\"Scope-Review-2.1\"><span class=\"toc-item-num\">2.1&nbsp;&nbsp;</span>Scope Review</a></span></li><li><span><a href=\"#Functions-as-objects\" data-toc-modified-id=\"Functions-as-objects-2.2\"><span class=\"toc-item-num\">2.2&nbsp;&nbsp;</span>Functions as objects</a></span></li><li><span><a href=\"#Functions-within-functions\" data-toc-modified-id=\"Functions-within-functions-2.3\"><span class=\"toc-item-num\">2.3&nbsp;&nbsp;</span>Functions within functions</a></span></li><li><span><a href=\"#Returning-Functions\" data-toc-modified-id=\"Returning-Functions-2.4\"><span class=\"toc-item-num\">2.4&nbsp;&nbsp;</span>Returning Functions</a></span></li><li><span><a href=\"#Functions-as-Arguments\" data-toc-modified-id=\"Functions-as-Arguments-2.5\"><span class=\"toc-item-num\">2.5&nbsp;&nbsp;</span>Functions as Arguments</a></span></li></ul></li><li><span><a href=\"#Creating-Decorators\" data-toc-modified-id=\"Creating-Decorators-3\"><span class=\"toc-item-num\">3&nbsp;&nbsp;</span>Creating Decorators</a></span></li><li><span><a href=\"#Decorating-Functions-with-Parameters\" data-toc-modified-id=\"Decorating-Functions-with-Parameters-4\"><span class=\"toc-item-num\">4&nbsp;&nbsp;</span>Decorating Functions with Parameters</a></span></li><li><span><a href=\"#Returning-values-from-decorated-functions\" data-toc-modified-id=\"Returning-values-from-decorated-functions-5\"><span class=\"toc-item-num\">5&nbsp;&nbsp;</span>Returning values from decorated functions</a></span></li><li><span><a href=\"#Decorators-with-arguments\" data-toc-modified-id=\"Decorators-with-arguments-6\"><span class=\"toc-item-num\">6&nbsp;&nbsp;</span>Decorators with arguments</a></span></li><li><span><a href=\"#Using-wraps-from-functools\" data-toc-modified-id=\"Using-wraps-from-functools-7\"><span class=\"toc-item-num\">7&nbsp;&nbsp;</span>Using <code>wraps</code> from <code>functools</code></a></span></li><li><span><a href=\"#Credits\" data-toc-modified-id=\"Credits-8\"><span class=\"toc-item-num\">8&nbsp;&nbsp;</span>Credits</a></span></li></ul></div>"
   ],
   "metadata": {
    "toc": true
   }
  },
  {
   "cell_type": "markdown",
   "source": [
    "<hr>\n",
    "&nbsp;\n",
    "\n",
    "## Introduction\n",
    "\n",
    "\n",
    "\n",
    "Decorators can be thought of as functions which modify the *functionality* of another function. They help to make your code shorter and more \"Pythonic\". \n",
    "\n",
    "Some prerequisites are necessary to properly understand decorators requires. This is why we will slowly build up from functions"
   ],
   "metadata": {}
  },
  {
   "cell_type": "markdown",
   "source": [
    "<hr>\n",
    "&nbsp;\n",
    "\n",
    "## Prerequisites"
   ],
   "metadata": {}
  },
  {
   "cell_type": "markdown",
   "source": [
    "&nbsp;\n",
    "\n",
    "### Scope Review\n",
    "\n",
    "Remember from the lesson on [global, local and nonlocal variables](13_Global-Local-and-Nonlocal) that Python functions create a new scope, meaning the function has its own namespace to find variable names when they are mentioned within the function"
   ],
   "metadata": {}
  },
  {
   "cell_type": "code",
   "execution_count": 1,
   "source": [
    "# we define a global variable\n",
    "a = 'Global Variable'"
   ],
   "outputs": [],
   "metadata": {}
  },
  {
   "cell_type": "code",
   "execution_count": 2,
   "source": [
    "# this function shows all the local variable defined inside itself\n",
    "def func():\n",
    "    b = 'local variable'\n",
    "    print(locals())"
   ],
   "outputs": [],
   "metadata": {}
  },
  {
   "cell_type": "code",
   "execution_count": 3,
   "source": [
    "func()"
   ],
   "outputs": [
    {
     "output_type": "stream",
     "name": "stdout",
     "text": [
      "{'b': 'local variable'}\n"
     ]
    }
   ],
   "metadata": {}
  },
  {
   "cell_type": "markdown",
   "source": [
    "Here we get back a dictionary of all the local variables inside func_1"
   ],
   "metadata": {}
  },
  {
   "cell_type": "code",
   "execution_count": 4,
   "source": [
    "# this will show all the global variable that we defined\n",
    "print(globals())"
   ],
   "outputs": [
    {
     "output_type": "stream",
     "name": "stdout",
     "text": [
      "{'__name__': '__main__', '__doc__': 'Automatically created module for IPython interactive environment', '__package__': None, '__loader__': None, '__spec__': None, '__builtin__': <module 'builtins' (built-in)>, '__builtins__': <module 'builtins' (built-in)>, '_ih': ['', \"# we define a global variable\\na = 'Global Variable'\", \"# this function shows all the local variable defined inside itself\\ndef func():\\n    b = 'local variable'\\n    print(locals())\", 'func()', '# this will show all the global variable that we defined\\nprint(globals())'], '_oh': {}, '_dh': ['/home/adrien/Documents/Coding/Github/Computer-Science-Crash-Course/01_Introduction-to-Python'], 'In': ['', \"# we define a global variable\\na = 'Global Variable'\", \"# this function shows all the local variable defined inside itself\\ndef func():\\n    b = 'local variable'\\n    print(locals())\", 'func()', '# this will show all the global variable that we defined\\nprint(globals())'], 'Out': {}, 'get_ipython': <function get_ipython at 0x7fbfc20759d0>, 'exit': <IPython.core.autocall.ZMQExitAutocall object at 0x7fbfc003cfa0>, 'quit': <IPython.core.autocall.ZMQExitAutocall object at 0x7fbfc003cfa0>, '_': '', '__': '', '___': '', 'json': <module 'json' from '/home/adrien/Documents/Apps/Anaconda3/envs/cplx_sim/lib/python3.9/json/__init__.py'>, 'autopep8': <module 'autopep8' from '/home/adrien/Documents/Apps/Anaconda3/envs/cplx_sim/lib/python3.9/site-packages/autopep8.py'>, 'getsizeof': <built-in function getsizeof>, 'NamespaceMagics': <class 'IPython.core.magics.namespace.NamespaceMagics'>, '_nms': <IPython.core.magics.namespace.NamespaceMagics object at 0x7fbfbd0010a0>, '_Jupyter': <ipykernel.zmqshell.ZMQInteractiveShell object at 0x7fbfc007afd0>, 'np': <module 'numpy' from '/home/adrien/Documents/Apps/Anaconda3/envs/cplx_sim/lib/python3.9/site-packages/numpy/__init__.py'>, '_getsizeof': <function _getsizeof at 0x7fbfbc6cf310>, '_getshapeof': <function _getshapeof at 0x7fbf65cf65e0>, 'var_dic_list': <function var_dic_list at 0x7fbf65bd44c0>, '_i': 'func()', '_ii': \"# this function shows all the local variable defined inside itself\\ndef func():\\n    b = 'local variable'\\n    print(locals())\", '_iii': \"# we define a global variable\\na = 'Global Variable'\", '_i1': \"# we define a global variable\\na = 'Global Variable'\", 'a': 'Global Variable', '_i2': \"# this function shows all the local variable defined inside itself\\ndef func():\\n    b = 'local variable'\\n    print(locals())\", 'func': <function func at 0x7fbf65bd4f70>, '_i3': 'func()', '_i4': '# this will show all the global variable that we defined\\nprint(globals())'}\n"
     ]
    }
   ],
   "metadata": {
    "scrolled": true
   }
  },
  {
   "cell_type": "markdown",
   "source": [
    "Here we get back a dictionary of all the global variables, many of them are predefined in Python. So let's go ahead and look at the keys:"
   ],
   "metadata": {
    "collapsed": true
   }
  },
  {
   "cell_type": "code",
   "execution_count": 5,
   "source": [
    "print(globals().keys())"
   ],
   "outputs": [
    {
     "output_type": "stream",
     "name": "stdout",
     "text": [
      "dict_keys(['__name__', '__doc__', '__package__', '__loader__', '__spec__', '__builtin__', '__builtins__', '_ih', '_oh', '_dh', 'In', 'Out', 'get_ipython', 'exit', 'quit', '_', '__', '___', 'json', 'autopep8', 'getsizeof', 'NamespaceMagics', '_nms', '_Jupyter', 'np', '_getsizeof', '_getshapeof', 'var_dic_list', '_i', '_ii', '_iii', '_i1', 'a', '_i2', 'func', '_i3', '_i4', '_i5'])\n"
     ]
    }
   ],
   "metadata": {}
  },
  {
   "cell_type": "code",
   "execution_count": 6,
   "source": [
    "globals()['a']"
   ],
   "outputs": [
    {
     "output_type": "execute_result",
     "data": {
      "text/plain": [
       "'Global Variable'"
      ]
     },
     "metadata": {},
     "execution_count": 6
    }
   ],
   "metadata": {}
  },
  {
   "cell_type": "markdown",
   "source": [
    "`a` is the Global Variable we defined as a string in the first cell."
   ],
   "metadata": {}
  },
  {
   "cell_type": "markdown",
   "source": [
    "&nbsp;\n",
    "\n",
    "### Functions as objects\n",
    "\n",
    "Remember that in Python **everything is an object** (even classes). That means functions are objects which can be assigned labels and passed into other functions."
   ],
   "metadata": {}
  },
  {
   "cell_type": "code",
   "execution_count": 7,
   "source": [
    "def hello(name='John'):\n",
    "    return 'Hello '+ name"
   ],
   "outputs": [],
   "metadata": {}
  },
  {
   "cell_type": "code",
   "execution_count": 8,
   "source": [
    "hello()"
   ],
   "outputs": [
    {
     "output_type": "execute_result",
     "data": {
      "text/plain": [
       "'Hello John'"
      ]
     },
     "metadata": {},
     "execution_count": 8
    }
   ],
   "metadata": {}
  },
  {
   "cell_type": "code",
   "execution_count": 9,
   "source": [
    "greet = hello"
   ],
   "outputs": [],
   "metadata": {}
  },
  {
   "cell_type": "code",
   "execution_count": 10,
   "source": [
    "greet"
   ],
   "outputs": [
    {
     "output_type": "execute_result",
     "data": {
      "text/plain": [
       "<function __main__.hello(name='John')>"
      ]
     },
     "metadata": {},
     "execution_count": 10
    }
   ],
   "metadata": {}
  },
  {
   "cell_type": "code",
   "execution_count": 11,
   "source": [
    "greet()"
   ],
   "outputs": [
    {
     "output_type": "execute_result",
     "data": {
      "text/plain": [
       "'Hello John'"
      ]
     },
     "metadata": {},
     "execution_count": 11
    }
   ],
   "metadata": {}
  },
  {
   "cell_type": "markdown",
   "source": [
    "So what happens when we delete the name **hello**?"
   ],
   "metadata": {}
  },
  {
   "cell_type": "code",
   "execution_count": 12,
   "source": [
    "del hello"
   ],
   "outputs": [],
   "metadata": {}
  },
  {
   "cell_type": "code",
   "execution_count": 13,
   "source": [
    "hello()"
   ],
   "outputs": [
    {
     "output_type": "error",
     "ename": "NameError",
     "evalue": "name 'hello' is not defined",
     "traceback": [
      "\u001b[0;31m---------------------------------------------------------------------------\u001b[0m",
      "\u001b[0;31mNameError\u001b[0m                                 Traceback (most recent call last)",
      "\u001b[0;32m<ipython-input-13-a75d7781aaeb>\u001b[0m in \u001b[0;36m<module>\u001b[0;34m\u001b[0m\n\u001b[0;32m----> 1\u001b[0;31m \u001b[0mhello\u001b[0m\u001b[0;34m(\u001b[0m\u001b[0;34m)\u001b[0m\u001b[0;34m\u001b[0m\u001b[0;34m\u001b[0m\u001b[0m\n\u001b[0m",
      "\u001b[0;31mNameError\u001b[0m: name 'hello' is not defined"
     ]
    }
   ],
   "metadata": {}
  },
  {
   "cell_type": "code",
   "execution_count": 14,
   "source": [
    "greet()"
   ],
   "outputs": [
    {
     "output_type": "execute_result",
     "data": {
      "text/plain": [
       "'Hello John'"
      ]
     },
     "metadata": {},
     "execution_count": 14
    }
   ],
   "metadata": {}
  },
  {
   "cell_type": "markdown",
   "source": [
    "Even though we deleted the name **hello**, the name **greet** *still points to* our original function object. It is important to know that functions are objects that can be passed to other objects!"
   ],
   "metadata": {}
  },
  {
   "cell_type": "markdown",
   "source": [
    "&nbsp;\n",
    "\n",
    "### Functions within functions\n",
    "\n",
    "We have also seen that we can define functions inside of other functions"
   ],
   "metadata": {}
  },
  {
   "cell_type": "code",
   "execution_count": 15,
   "source": [
    "def color(name='black'):\n",
    "    print('The function color() has been executed')\n",
    "    \n",
    "    def black():\n",
    "        return '\\t This is inside the black() function'\n",
    "    \n",
    "    def white():\n",
    "        return \"\\t This is inside the white() function\"\n",
    "    \n",
    "    print(black())\n",
    "    print(white())\n",
    "    print(\"Now we are back inside the function color()\")"
   ],
   "outputs": [],
   "metadata": {}
  },
  {
   "cell_type": "code",
   "execution_count": 16,
   "source": [
    "color()"
   ],
   "outputs": [
    {
     "output_type": "stream",
     "name": "stdout",
     "text": [
      "The function color() has been executed\n",
      "\t This is inside the black() function\n",
      "\t This is inside the white() function\n",
      "Now we are back inside the function color()\n"
     ]
    }
   ],
   "metadata": {}
  },
  {
   "cell_type": "code",
   "execution_count": 17,
   "source": [
    "black()"
   ],
   "outputs": [
    {
     "output_type": "error",
     "ename": "NameError",
     "evalue": "name 'black' is not defined",
     "traceback": [
      "\u001b[0;31m---------------------------------------------------------------------------\u001b[0m",
      "\u001b[0;31mNameError\u001b[0m                                 Traceback (most recent call last)",
      "\u001b[0;32m<ipython-input-17-760ca3d716c5>\u001b[0m in \u001b[0;36m<module>\u001b[0;34m\u001b[0m\n\u001b[0;32m----> 1\u001b[0;31m \u001b[0mblack\u001b[0m\u001b[0;34m(\u001b[0m\u001b[0;34m)\u001b[0m\u001b[0;34m\u001b[0m\u001b[0;34m\u001b[0m\u001b[0m\n\u001b[0m",
      "\u001b[0;31mNameError\u001b[0m: name 'black' is not defined"
     ]
    }
   ],
   "metadata": {}
  },
  {
   "cell_type": "markdown",
   "source": [
    "**NOTE:** due to scope, the `black()` and `white()` functions are not defined outside of the `color()`."
   ],
   "metadata": {}
  },
  {
   "cell_type": "markdown",
   "source": [
    "&nbsp;\n",
    "\n",
    "### Returning Functions"
   ],
   "metadata": {}
  },
  {
   "cell_type": "code",
   "execution_count": 18,
   "source": [
    "def color(name='black'):\n",
    "    \n",
    "    def black():\n",
    "        return '\\t This is inside the black() function'\n",
    "    \n",
    "    def white():\n",
    "        return \"\\t This is inside the white() function\"\n",
    "    \n",
    "    return black if name == 'black' else white"
   ],
   "outputs": [],
   "metadata": {}
  },
  {
   "cell_type": "markdown",
   "source": [
    "Now let's see what function is returned if we set `x = color()`"
   ],
   "metadata": {}
  },
  {
   "cell_type": "code",
   "execution_count": 19,
   "source": [
    "# we assigned a function to a variable\n",
    "x = color()"
   ],
   "outputs": [],
   "metadata": {}
  },
  {
   "cell_type": "code",
   "execution_count": 20,
   "source": [
    "# now x points to the function black()\n",
    "x"
   ],
   "outputs": [
    {
     "output_type": "execute_result",
     "data": {
      "text/plain": [
       "<function __main__.color.<locals>.black()>"
      ]
     },
     "metadata": {},
     "execution_count": 20
    }
   ],
   "metadata": {}
  },
  {
   "cell_type": "markdown",
   "source": [
    "We can see how `x` is pointing to the `black()` function inside of the `color()` function."
   ],
   "metadata": {}
  },
  {
   "cell_type": "code",
   "execution_count": 21,
   "source": [
    "# and we can run the function ()\n",
    "x()"
   ],
   "outputs": [
    {
     "output_type": "execute_result",
     "data": {
      "text/plain": [
       "'\\t This is inside the black() function'"
      ]
     },
     "metadata": {},
     "execution_count": 21
    }
   ],
   "metadata": {
    "scrolled": true
   }
  },
  {
   "cell_type": "markdown",
   "source": [
    "Let's take a quick look at the code again. \n",
    "\n",
    "**NOTE:** in the `if/else` clause we are returning`black` or `white`, and **NOT** `black()` or `white()`. \n",
    "\n",
    "This is because when you put a pair of parentheses `()` after it, the function gets executed; whereas if you don’t put parentheses after it, then it is considered as an object and can be assigned to other variables without executing it."
   ],
   "metadata": {}
  },
  {
   "cell_type": "code",
   "execution_count": 22,
   "source": [
    "# let's try this\n",
    "y = color('something')"
   ],
   "outputs": [],
   "metadata": {}
  },
  {
   "cell_type": "code",
   "execution_count": 23,
   "source": [
    "y"
   ],
   "outputs": [
    {
     "output_type": "execute_result",
     "data": {
      "text/plain": [
       "<function __main__.color.<locals>.white()>"
      ]
     },
     "metadata": {},
     "execution_count": 23
    }
   ],
   "metadata": {}
  },
  {
   "cell_type": "code",
   "execution_count": 24,
   "source": [
    "y()"
   ],
   "outputs": [
    {
     "output_type": "execute_result",
     "data": {
      "text/plain": [
       "'\\t This is inside the white() function'"
      ]
     },
     "metadata": {},
     "execution_count": 24
    }
   ],
   "metadata": {}
  },
  {
   "cell_type": "markdown",
   "source": [
    "&nbsp;\n",
    "\n",
    "### Functions as Arguments\n",
    "Now let's see how we can pass functions as arguments into other functions:"
   ],
   "metadata": {}
  },
  {
   "cell_type": "code",
   "execution_count": 25,
   "source": [
    "def hello():\n",
    "    return 'Hi John!'"
   ],
   "outputs": [],
   "metadata": {}
  },
  {
   "cell_type": "code",
   "execution_count": 26,
   "source": [
    "def other(func):\n",
    "    print('Other code would go here')\n",
    "    print(func())"
   ],
   "outputs": [],
   "metadata": {}
  },
  {
   "cell_type": "code",
   "execution_count": 27,
   "source": [
    "# the function hello() is passed as an argument - so without the '()'\n",
    "other(hello)"
   ],
   "outputs": [
    {
     "output_type": "stream",
     "name": "stdout",
     "text": [
      "Other code would go here\n",
      "Hi John!\n"
     ]
    }
   ],
   "metadata": {}
  },
  {
   "cell_type": "markdown",
   "source": [
    "<hr>\n",
    "&nbsp;\n",
    "\n",
    "## Creating Decorators\n",
    "\n",
    "\n",
    "Basically, a decorator takes in a function, adds some functionality and returns it. The previous example was actually a Decorator."
   ],
   "metadata": {}
  },
  {
   "cell_type": "code",
   "execution_count": 28,
   "source": [
    "# this is an ordinary function\n",
    "def ordinary():\n",
    "    print(\"I am ordinary\")"
   ],
   "outputs": [],
   "metadata": {}
  },
  {
   "cell_type": "code",
   "execution_count": 29,
   "source": [
    "# this is a decorator function\n",
    "def make_pretty(func):\n",
    "\n",
    "    def wrapper():\n",
    "        print(f\"{func.__name__}() is getting decorated\")\n",
    "        return func()\n",
    "\n",
    "    return wrapper"
   ],
   "outputs": [],
   "metadata": {}
  },
  {
   "cell_type": "code",
   "execution_count": 30,
   "source": [
    "ordinary()"
   ],
   "outputs": [
    {
     "output_type": "stream",
     "name": "stdout",
     "text": [
      "I am ordinary\n"
     ]
    }
   ],
   "metadata": {}
  },
  {
   "cell_type": "code",
   "execution_count": 31,
   "source": [
    "# we decorate ordinary() and we give it the name pretty()\n",
    "pretty = make_pretty(ordinary)"
   ],
   "outputs": [],
   "metadata": {}
  },
  {
   "cell_type": "code",
   "execution_count": 32,
   "source": [
    "# check\n",
    "pretty()"
   ],
   "outputs": [
    {
     "output_type": "stream",
     "name": "stdout",
     "text": [
      "ordinary() is getting decorated\n",
      "I am ordinary\n"
     ]
    }
   ],
   "metadata": {}
  },
  {
   "cell_type": "markdown",
   "source": [
    "Generally, we decorate a function and reassign it"
   ],
   "metadata": {}
  },
  {
   "cell_type": "code",
   "execution_count": 33,
   "source": [
    "# Reassign ordinary()\n",
    "ordinary = make_pretty(ordinary)"
   ],
   "outputs": [],
   "metadata": {}
  },
  {
   "cell_type": "code",
   "execution_count": 34,
   "source": [
    "# check\n",
    "ordinary()"
   ],
   "outputs": [
    {
     "output_type": "stream",
     "name": "stdout",
     "text": [
      "ordinary() is getting decorated\n",
      "I am ordinary\n"
     ]
    }
   ],
   "metadata": {
    "scrolled": true
   }
  },
  {
   "cell_type": "markdown",
   "source": [
    "The decorator wrapped the function and modified its behavior.\n",
    "\n",
    "**NOTE:** we can rewrite this code using the **`@`** symbol, which is what Python uses for Decorators."
   ],
   "metadata": {}
  },
  {
   "cell_type": "code",
   "execution_count": 35,
   "source": [
    "# we can also decorate a function by using @\n",
    "\n",
    "@make_pretty\n",
    "def ordinary():\n",
    "    print(\"ordinary needed a Decorator\")"
   ],
   "outputs": [],
   "metadata": {}
  },
  {
   "cell_type": "code",
   "execution_count": 36,
   "source": [
    "# we get the same result\n",
    "ordinary()"
   ],
   "outputs": [
    {
     "output_type": "stream",
     "name": "stdout",
     "text": [
      "ordinary() is getting decorated\n",
      "ordinary needed a Decorator\n"
     ]
    }
   ],
   "metadata": {}
  },
  {
   "cell_type": "markdown",
   "source": [
    "&nbsp;\n",
    "\n",
    "**NOTE:** we can apply multiple decorators to a single function. "
   ],
   "metadata": {}
  },
  {
   "cell_type": "code",
   "execution_count": 37,
   "source": [
    "def another_decorator(func):\n",
    "    \n",
    "    def wrapper():\n",
    "        print(\"I am another_decorator\")\n",
    "        return func()\n",
    "        \n",
    "\n",
    "    return wrapper"
   ],
   "outputs": [],
   "metadata": {}
  },
  {
   "cell_type": "code",
   "execution_count": 38,
   "source": [
    "@make_pretty\n",
    "@another_decorator\n",
    "def ordinary():\n",
    "    print(\"ordinary needed a Decorator\")"
   ],
   "outputs": [],
   "metadata": {}
  },
  {
   "cell_type": "code",
   "execution_count": 39,
   "source": [
    "ordinary()"
   ],
   "outputs": [
    {
     "output_type": "stream",
     "name": "stdout",
     "text": [
      "wrapper() is getting decorated\n",
      "I am another_decorator\n",
      "ordinary needed a Decorator\n"
     ]
    }
   ],
   "metadata": {
    "scrolled": true
   }
  },
  {
   "cell_type": "markdown",
   "source": [
    "**BUT** the order of decorators is import"
   ],
   "metadata": {}
  },
  {
   "cell_type": "code",
   "execution_count": 40,
   "source": [
    "# the order of decorators matters\n",
    "@another_decorator\n",
    "@make_pretty\n",
    "def my_function():\n",
    "    print(\"my_function needed a Decorator\")"
   ],
   "outputs": [],
   "metadata": {}
  },
  {
   "cell_type": "code",
   "execution_count": 41,
   "source": [
    "my_function()"
   ],
   "outputs": [
    {
     "output_type": "stream",
     "name": "stdout",
     "text": [
      "I am another_decorator\n",
      "my_function() is getting decorated\n",
      "my_function needed a Decorator\n"
     ]
    }
   ],
   "metadata": {}
  },
  {
   "cell_type": "markdown",
   "source": [
    "&nbsp;\n",
    "\n",
    "**NOTE:** It is also possible to decorate class methods from imported module. But in this case, we can't use the `@` symbol.\n"
   ],
   "metadata": {}
  },
  {
   "cell_type": "code",
   "execution_count": 42,
   "source": [
    "# decorating 3rd party functions\n",
    "from random import random\n",
    "random = make_pretty(random)"
   ],
   "outputs": [],
   "metadata": {}
  },
  {
   "cell_type": "code",
   "execution_count": 43,
   "source": [
    "# check\n",
    "random()"
   ],
   "outputs": [
    {
     "output_type": "stream",
     "name": "stdout",
     "text": [
      "random() is getting decorated\n"
     ]
    },
    {
     "output_type": "execute_result",
     "data": {
      "text/plain": [
       "0.9347713788146043"
      ]
     },
     "metadata": {},
     "execution_count": 43
    }
   ],
   "metadata": {}
  },
  {
   "cell_type": "markdown",
   "source": [
    "<hr>\n",
    "&nbsp;\n",
    "\n",
    "## Decorating Functions with Parameters\n",
    "\n",
    "The above decorator was simple and it only worked with functions that did not have any parameters. What if we had functions that took in parameters like:"
   ],
   "metadata": {}
  },
  {
   "cell_type": "code",
   "execution_count": 44,
   "source": [
    "# Let's reuse this example\n",
    "def make_pretty(func):\n",
    "\n",
    "    def wrapper():\n",
    "        print(f\"{func.__name__}() is getting decorated\")\n",
    "        return func()\n",
    "\n",
    "    return wrapper"
   ],
   "outputs": [],
   "metadata": {}
  },
  {
   "cell_type": "code",
   "execution_count": 45,
   "source": [
    "# and let's define an ordinary function that takes a parameter\n",
    "@make_pretty\n",
    "def ordinary_bis(x):\n",
    "    print(f\"ordinary({x}) needed a Decorator\")"
   ],
   "outputs": [],
   "metadata": {}
  },
  {
   "cell_type": "code",
   "execution_count": 46,
   "source": [
    "ordinary_bis('something')"
   ],
   "outputs": [
    {
     "output_type": "error",
     "ename": "TypeError",
     "evalue": "wrapper() takes 0 positional arguments but 1 was given",
     "traceback": [
      "\u001b[0;31m---------------------------------------------------------------------------\u001b[0m",
      "\u001b[0;31mTypeError\u001b[0m                                 Traceback (most recent call last)",
      "\u001b[0;32m<ipython-input-46-771e7584623a>\u001b[0m in \u001b[0;36m<module>\u001b[0;34m\u001b[0m\n\u001b[0;32m----> 1\u001b[0;31m \u001b[0mordinary_bis\u001b[0m\u001b[0;34m(\u001b[0m\u001b[0;34m'something'\u001b[0m\u001b[0;34m)\u001b[0m\u001b[0;34m\u001b[0m\u001b[0;34m\u001b[0m\u001b[0m\n\u001b[0m",
      "\u001b[0;31mTypeError\u001b[0m: wrapper() takes 0 positional arguments but 1 was given"
     ]
    }
   ],
   "metadata": {}
  },
  {
   "cell_type": "markdown",
   "source": [
    "&nbsp;\n",
    "\n",
    "We get an error because the inner function `wrapper()` does not take any arguments, but \"something\" was passed to it.\n",
    "\n",
    "We could fix this by letting `wrapper()` accept one argument, but then it would not work for the 1st `ordinary()` function."
   ],
   "metadata": {}
  },
  {
   "cell_type": "code",
   "execution_count": 47,
   "source": [
    "# Let's reuse this example\n",
    "def make_pretty(func):\n",
    "\n",
    "    def wrapper(x):     # wrapper takes an argument\n",
    "        print(f\"{func.__name__}() is getting decorated\")\n",
    "        return func(x)  # we call the function with its argument\n",
    "\n",
    "    return wrapper"
   ],
   "outputs": [],
   "metadata": {}
  },
  {
   "cell_type": "code",
   "execution_count": 48,
   "source": [
    "# and let's define an ordinary function that takes a parameter\n",
    "@make_pretty\n",
    "def ordinary_bis(x):\n",
    "    print(f\"ordinary(\\'{x}') needed a Decorator\")"
   ],
   "outputs": [],
   "metadata": {}
  },
  {
   "cell_type": "code",
   "execution_count": 49,
   "source": [
    "# now it works with ordinary_bis()\n",
    "ordinary_bis('something')"
   ],
   "outputs": [
    {
     "output_type": "stream",
     "name": "stdout",
     "text": [
      "ordinary_bis() is getting decorated\n",
      "ordinary('something') needed a Decorator\n"
     ]
    }
   ],
   "metadata": {}
  },
  {
   "cell_type": "code",
   "execution_count": 50,
   "source": [
    "# but it no longer works with ordinary()\n",
    "@make_pretty\n",
    "def ordinary():\n",
    "    print(\"ordinary() needed a Decorator\")"
   ],
   "outputs": [],
   "metadata": {}
  },
  {
   "cell_type": "code",
   "execution_count": 51,
   "source": [
    "# check\n",
    "ordinary()"
   ],
   "outputs": [
    {
     "output_type": "error",
     "ename": "TypeError",
     "evalue": "wrapper() missing 1 required positional argument: 'x'",
     "traceback": [
      "\u001b[0;31m---------------------------------------------------------------------------\u001b[0m",
      "\u001b[0;31mTypeError\u001b[0m                                 Traceback (most recent call last)",
      "\u001b[0;32m<ipython-input-51-e36c696e1884>\u001b[0m in \u001b[0;36m<module>\u001b[0;34m\u001b[0m\n\u001b[1;32m      1\u001b[0m \u001b[0;31m# check\u001b[0m\u001b[0;34m\u001b[0m\u001b[0;34m\u001b[0m\u001b[0;34m\u001b[0m\u001b[0m\n\u001b[0;32m----> 2\u001b[0;31m \u001b[0mordinary\u001b[0m\u001b[0;34m(\u001b[0m\u001b[0;34m)\u001b[0m\u001b[0;34m\u001b[0m\u001b[0;34m\u001b[0m\u001b[0m\n\u001b[0m",
      "\u001b[0;31mTypeError\u001b[0m: wrapper() missing 1 required positional argument: 'x'"
     ]
    }
   ],
   "metadata": {}
  },
  {
   "cell_type": "markdown",
   "source": [
    "&nbsp;\n",
    "\n",
    "The solution is to use **`*args`** and <strong>`\\**kwargs`</strong> in the inner wrapper function. Then it will accept an arbitrary number of positional and keyword arguments"
   ],
   "metadata": {}
  },
  {
   "cell_type": "code",
   "execution_count": 52,
   "source": [
    "def make_pretty(func):\n",
    "\n",
    "    def wrapper(*args, **kwargs):\n",
    "        print(f\"{func.__name__}() is getting decorated\")\n",
    "        return func(*args, **kwargs)\n",
    "\n",
    "    return wrapper"
   ],
   "outputs": [],
   "metadata": {}
  },
  {
   "cell_type": "code",
   "execution_count": 53,
   "source": [
    "@make_pretty\n",
    "def ordinary_bis(x):\n",
    "    print(f\"ordinary(\\'{x}') needed a Decorator\")"
   ],
   "outputs": [],
   "metadata": {}
  },
  {
   "cell_type": "code",
   "execution_count": 54,
   "source": [
    "@make_pretty\n",
    "def ordinary():\n",
    "    print(\"ordinary() needed a Decorator\")"
   ],
   "outputs": [],
   "metadata": {}
  },
  {
   "cell_type": "code",
   "execution_count": 55,
   "source": [
    "# check\n",
    "ordinary_bis('an argument')"
   ],
   "outputs": [
    {
     "output_type": "stream",
     "name": "stdout",
     "text": [
      "ordinary_bis() is getting decorated\n",
      "ordinary('an argument') needed a Decorator\n"
     ]
    }
   ],
   "metadata": {}
  },
  {
   "cell_type": "code",
   "execution_count": 56,
   "source": [
    "# check\n",
    "ordinary()"
   ],
   "outputs": [
    {
     "output_type": "stream",
     "name": "stdout",
     "text": [
      "ordinary() is getting decorated\n",
      "ordinary() needed a Decorator\n"
     ]
    }
   ],
   "metadata": {}
  },
  {
   "cell_type": "markdown",
   "source": [
    "<hr>\n",
    "&nbsp;\n",
    "\n",
    "## Returning values from decorated functions\n",
    "\n",
    "We need to make sure the wrapper function returns the return value of the decorated function, otherwise it will 'eat' it."
   ],
   "metadata": {}
  },
  {
   "cell_type": "code",
   "execution_count": 57,
   "source": [
    "# if our wrapper function does not return the value\n",
    "\n",
    "def make_pretty(func):\n",
    "\n",
    "    def wrapper(*args, **kwargs):\n",
    "        print(f\"{func.__name__}() is getting decorated\")\n",
    "        func(*args, **kwargs)  # no 'return' here\n",
    "\n",
    "    return wrapper"
   ],
   "outputs": [],
   "metadata": {}
  },
  {
   "cell_type": "code",
   "execution_count": 58,
   "source": [
    "@make_pretty\n",
    "def divide(a, b):\n",
    "    return a/b"
   ],
   "outputs": [],
   "metadata": {}
  },
  {
   "cell_type": "code",
   "execution_count": 59,
   "source": [
    "# then the wrapper function eats away the result of divide()\n",
    "x = divide(6, 3)"
   ],
   "outputs": [
    {
     "output_type": "stream",
     "name": "stdout",
     "text": [
      "divide() is getting decorated\n"
     ]
    }
   ],
   "metadata": {}
  },
  {
   "cell_type": "code",
   "execution_count": 60,
   "source": [
    "print(x)"
   ],
   "outputs": [
    {
     "output_type": "stream",
     "name": "stdout",
     "text": [
      "None\n"
     ]
    }
   ],
   "metadata": {}
  },
  {
   "cell_type": "code",
   "execution_count": 61,
   "source": [
    "def make_pretty(func):\n",
    "\n",
    "    def wrapper(*args, **kwargs):\n",
    "        print(f\"{func.__name__}() is getting decorated\")\n",
    "        return func(*args, **kwargs)\n",
    "\n",
    "    return wrapper"
   ],
   "outputs": [],
   "metadata": {}
  },
  {
   "cell_type": "code",
   "execution_count": 62,
   "source": [
    "@make_pretty\n",
    "def divide(a, b):\n",
    "    print(a/b)  # no 'return' here"
   ],
   "outputs": [],
   "metadata": {}
  },
  {
   "cell_type": "code",
   "execution_count": 63,
   "source": [
    "x = divide(6, 3)"
   ],
   "outputs": [
    {
     "output_type": "stream",
     "name": "stdout",
     "text": [
      "divide() is getting decorated\n",
      "2.0\n"
     ]
    }
   ],
   "metadata": {}
  },
  {
   "cell_type": "code",
   "execution_count": 64,
   "source": [
    "# check\n",
    "print(x)"
   ],
   "outputs": [
    {
     "output_type": "stream",
     "name": "stdout",
     "text": [
      "None\n"
     ]
    }
   ],
   "metadata": {
    "scrolled": true
   }
  },
  {
   "cell_type": "markdown",
   "source": [
    "<hr>\n",
    "&nbsp;\n",
    "\n",
    "## Decorators with arguments\n",
    "\n",
    "Sometimes, it’s useful to pass arguments to your decorators.\n",
    "\n",
    "Imagine that we have a decorator `repeat` that takes as argument the number of time we want to call the decorated function:\n",
    "\n",
    "`@repeat(num_times=4)\n",
    "def greet(name):\n",
    "    print(f\"Hello {name}\")`\n",
    "\n",
    "and then calling greet would return:  \n",
    "\n",
    "`>>> greet(\"World\")\n",
    "Hello World\n",
    "Hello World\n",
    "Hello World\n",
    "Hello World`\n",
    "\n",
    "\n",
    "So this means that repeat(num_times=4) should return a function object that can act as a decorator. So this comes down to adding an 'outer' function."
   ],
   "metadata": {}
  },
  {
   "cell_type": "code",
   "execution_count": 65,
   "source": [
    "num_times = 3"
   ],
   "outputs": [],
   "metadata": {}
  },
  {
   "cell_type": "code",
   "execution_count": 66,
   "source": [
    "# this is the kind of decorator we have seen so far\n",
    "\n",
    "def repeat(func):\n",
    "    def wrapper(*args, **kwargs):\n",
    "        for _ in range(num_times):\n",
    "            value = func(*args, **kwargs)\n",
    "            print(value)\n",
    "    return wrapper"
   ],
   "outputs": [],
   "metadata": {}
  },
  {
   "cell_type": "code",
   "execution_count": 67,
   "source": [
    "@repeat\n",
    "def hello(msg):\n",
    "    return(f\"Hello {msg}\")"
   ],
   "outputs": [],
   "metadata": {}
  },
  {
   "cell_type": "code",
   "execution_count": 68,
   "source": [
    "hello('World')"
   ],
   "outputs": [
    {
     "output_type": "stream",
     "name": "stdout",
     "text": [
      "Hello World\n",
      "Hello World\n",
      "Hello World\n"
     ]
    }
   ],
   "metadata": {}
  },
  {
   "cell_type": "markdown",
   "source": [
    "Now we rewrite the decorator by adding an outer function as follow: "
   ],
   "metadata": {}
  },
  {
   "cell_type": "code",
   "execution_count": 69,
   "source": [
    "def repeat(num_times):    # this is the outer function\n",
    "    \n",
    "\n",
    "    def decorator(func):  # this is the decorator from above   #\n",
    "        def wrapper(*args, **kwargs):                          #\n",
    "            for _ in range(num_times):                         #\n",
    "                value = func(*args, **kwargs)                  #\n",
    "                print(value)                                   #\n",
    "        return wrapper    # this was the decorator from above  #\n",
    "    \n",
    "\n",
    "    return decorator      # the outer function returns the decorator"
   ],
   "outputs": [],
   "metadata": {}
  },
  {
   "cell_type": "markdown",
   "source": [
    "**NOTE:** we reserve the base name `repeat()` for the outermost function, which is the one the user will call."
   ],
   "metadata": {}
  },
  {
   "cell_type": "code",
   "execution_count": 70,
   "source": [
    "@repeat(num_times=5)\n",
    "def hello(msg):\n",
    "    return(f\"Hello {msg}\")"
   ],
   "outputs": [],
   "metadata": {}
  },
  {
   "cell_type": "code",
   "execution_count": 71,
   "source": [
    "hello('Universe')"
   ],
   "outputs": [
    {
     "output_type": "stream",
     "name": "stdout",
     "text": [
      "Hello Universe\n",
      "Hello Universe\n",
      "Hello Universe\n",
      "Hello Universe\n",
      "Hello Universe\n"
     ]
    }
   ],
   "metadata": {
    "scrolled": true
   }
  },
  {
   "cell_type": "markdown",
   "source": [
    "However, now *have to* pass an argument to the decorator."
   ],
   "metadata": {}
  },
  {
   "cell_type": "code",
   "execution_count": 72,
   "source": [
    "# the decorator does not work if we don't pass any parameters\n",
    "@repeat\n",
    "def hello(msg):\n",
    "    return(f\"Hello {msg}\")"
   ],
   "outputs": [],
   "metadata": {}
  },
  {
   "cell_type": "code",
   "execution_count": 73,
   "source": [
    "# check\n",
    "hello('John')"
   ],
   "outputs": [
    {
     "output_type": "execute_result",
     "data": {
      "text/plain": [
       "<function __main__.repeat.<locals>.decorator.<locals>.wrapper(*args, **kwargs)>"
      ]
     },
     "metadata": {},
     "execution_count": 73
    }
   ],
   "metadata": {}
  },
  {
   "cell_type": "code",
   "execution_count": 74,
   "source": [
    "# obviously this does not work either\n",
    "@repeat()\n",
    "def hello(msg):\n",
    "    return(f\"Hello {msg}\")"
   ],
   "outputs": [
    {
     "output_type": "error",
     "ename": "TypeError",
     "evalue": "repeat() missing 1 required positional argument: 'num_times'",
     "traceback": [
      "\u001b[0;31m---------------------------------------------------------------------------\u001b[0m",
      "\u001b[0;31mTypeError\u001b[0m                                 Traceback (most recent call last)",
      "\u001b[0;32m<ipython-input-74-dddf5aacf412>\u001b[0m in \u001b[0;36m<module>\u001b[0;34m\u001b[0m\n\u001b[1;32m      1\u001b[0m \u001b[0;31m# obviously this does not work either\u001b[0m\u001b[0;34m\u001b[0m\u001b[0;34m\u001b[0m\u001b[0;34m\u001b[0m\u001b[0m\n\u001b[0;32m----> 2\u001b[0;31m \u001b[0;34m@\u001b[0m\u001b[0mrepeat\u001b[0m\u001b[0;34m(\u001b[0m\u001b[0;34m)\u001b[0m\u001b[0;34m\u001b[0m\u001b[0;34m\u001b[0m\u001b[0m\n\u001b[0m\u001b[1;32m      3\u001b[0m \u001b[0;32mdef\u001b[0m \u001b[0mhello\u001b[0m\u001b[0;34m(\u001b[0m\u001b[0mmsg\u001b[0m\u001b[0;34m)\u001b[0m\u001b[0;34m:\u001b[0m\u001b[0;34m\u001b[0m\u001b[0;34m\u001b[0m\u001b[0m\n\u001b[1;32m      4\u001b[0m     \u001b[0;32mreturn\u001b[0m\u001b[0;34m(\u001b[0m\u001b[0;34mf\"Hello {msg}\"\u001b[0m\u001b[0;34m)\u001b[0m\u001b[0;34m\u001b[0m\u001b[0;34m\u001b[0m\u001b[0m\n",
      "\u001b[0;31mTypeError\u001b[0m: repeat() missing 1 required positional argument: 'num_times'"
     ]
    }
   ],
   "metadata": {}
  },
  {
   "cell_type": "markdown",
   "source": [
    "The decorator is confused when it is called without arguments. One idea is to define a default parameter."
   ],
   "metadata": {}
  },
  {
   "cell_type": "code",
   "execution_count": 75,
   "source": [
    "# we could define a default variable\n",
    "def repeat(num_times=2):\n",
    "    \n",
    "    def decorator(func):\n",
    "        def wrapper(*args, **kwargs):\n",
    "            for _ in range(num_times):\n",
    "                value = func(*args, **kwargs)\n",
    "                print(value)\n",
    "        return wrapper\n",
    "    \n",
    "    return decorator"
   ],
   "outputs": [],
   "metadata": {}
  },
  {
   "cell_type": "code",
   "execution_count": 76,
   "source": [
    "# which makes this works\n",
    "@repeat()  # don't forget the ()\n",
    "def hello(msg):\n",
    "    return(f\"Hello {msg}\")"
   ],
   "outputs": [],
   "metadata": {}
  },
  {
   "cell_type": "code",
   "execution_count": 77,
   "source": [
    "# check\n",
    "hello('John')"
   ],
   "outputs": [
    {
     "output_type": "stream",
     "name": "stdout",
     "text": [
      "Hello John\n",
      "Hello John\n"
     ]
    }
   ],
   "metadata": {}
  },
  {
   "cell_type": "code",
   "execution_count": 78,
   "source": [
    "# but this still don't work\n",
    "@repeat  # without the (), this does not work\n",
    "def hello(msg):\n",
    "    return(f\"Hello {msg}\")"
   ],
   "outputs": [],
   "metadata": {}
  },
  {
   "cell_type": "code",
   "execution_count": 79,
   "source": [
    "# check\n",
    "hello('John')"
   ],
   "outputs": [
    {
     "output_type": "execute_result",
     "data": {
      "text/plain": [
       "<function __main__.repeat.<locals>.decorator.<locals>.wrapper(*args, **kwargs)>"
      ]
     },
     "metadata": {},
     "execution_count": 79
    }
   ],
   "metadata": {}
  },
  {
   "cell_type": "markdown",
   "source": [
    "We can't apply the decorator without the parenthesis, even if we defined a default value for the parameter. The way to go around this is to create a decorator that can be used both with and without arguments."
   ],
   "metadata": {}
  },
  {
   "cell_type": "code",
   "execution_count": 80,
   "source": [
    "def repeat(_func=None, num_times=2):\n",
    "    \n",
    "    def decorator(func):\n",
    "        def wrapper(*args, **kwargs):\n",
    "            for _ in range(num_times):\n",
    "                value = func(*args, **kwargs)\n",
    "                print(value)\n",
    "        return wrapper\n",
    "    \n",
    "    \n",
    "    return decorator if _func is None else decorator(_func)"
   ],
   "outputs": [],
   "metadata": {}
  },
  {
   "cell_type": "code",
   "execution_count": 81,
   "source": [
    "# this works now\n",
    "@repeat\n",
    "def hello(msg):\n",
    "    return(f\"Hello {msg}\")"
   ],
   "outputs": [],
   "metadata": {}
  },
  {
   "cell_type": "code",
   "execution_count": 82,
   "source": [
    "# check\n",
    "hello('John')"
   ],
   "outputs": [
    {
     "output_type": "stream",
     "name": "stdout",
     "text": [
      "Hello John\n",
      "Hello John\n"
     ]
    }
   ],
   "metadata": {}
  },
  {
   "cell_type": "markdown",
   "source": [
    "<hr>\n",
    "&nbsp;\n",
    "\n",
    "## Using `wraps` from `functools`\n",
    "\n",
    "\n",
    "The way we have defined decorators so far hasn't taken into account the following attributes:\n",
    "\n",
    "- `__name__` (name of the function),\n",
    "- `__doc__` (the docstring) and\n",
    "- `__module__` (The module in which the function is defined)\n",
    "\n",
    "This means that they will be lost after the decoration."
   ],
   "metadata": {}
  },
  {
   "cell_type": "code",
   "execution_count": 83,
   "source": [
    "def my_decorator(func):\n",
    "    def wrapper(*args, **kwargs):\n",
    "        \"\"\"A wrapper function\"\"\"\n",
    "        print(f\"{func.__name__}() is getting decorated\")\n",
    "        return func()\n",
    "    return wrapper"
   ],
   "outputs": [],
   "metadata": {}
  },
  {
   "cell_type": "code",
   "execution_count": 84,
   "source": [
    "@my_decorator\n",
    "def first_function():\n",
    "    \"\"\"This is docstring for FIRST function\"\"\"\n",
    "    return(\"first function\")"
   ],
   "outputs": [],
   "metadata": {}
  },
  {
   "cell_type": "code",
   "execution_count": 85,
   "source": [
    "@my_decorator\n",
    "def second_function():\n",
    "    \"\"\"This is docstring for SECOND function\"\"\"\n",
    "    return(\"second function\")"
   ],
   "outputs": [],
   "metadata": {}
  },
  {
   "cell_type": "code",
   "execution_count": 86,
   "source": [
    "print(first_function.__name__)\n",
    "print(second_function.__name__)\n",
    "print(first_function.__doc__)\n",
    "print(second_function.__doc__)"
   ],
   "outputs": [
    {
     "output_type": "stream",
     "name": "stdout",
     "text": [
      "wrapper\n",
      "wrapper\n",
      "A wrapper function\n",
      "A wrapper function\n"
     ]
    }
   ],
   "metadata": {}
  },
  {
   "cell_type": "code",
   "execution_count": 87,
   "source": [
    "help(first_function)"
   ],
   "outputs": [
    {
     "output_type": "stream",
     "name": "stdout",
     "text": [
      "Help on function wrapper in module __main__:\n",
      "\n",
      "wrapper(*args, **kwargs)\n",
      "    A wrapper function\n",
      "\n"
     ]
    }
   ],
   "metadata": {}
  },
  {
   "cell_type": "markdown",
   "source": [
    "This gets confusing if we use the same wrapper for different functions, as it will show the same details for each one of them.\n",
    "\n",
    "We could either make the appropriate change manually"
   ],
   "metadata": {}
  },
  {
   "cell_type": "code",
   "execution_count": 88,
   "source": [
    "def my_decorator(func):\n",
    "    def wrapper(*args, **kwargs):\n",
    "        \"\"\"A wrapper function\"\"\"\n",
    "        print(f\"{func.__name__}() is getting decorated\")\n",
    "        return func()\n",
    "\n",
    "    wrapper.__name__ = func.__name__\n",
    "    wrapper.__doc__ = func.__doc__\n",
    "    wrapper.__module__ = func.__module__\n",
    "\n",
    "    return wrapper"
   ],
   "outputs": [],
   "metadata": {}
  },
  {
   "cell_type": "code",
   "execution_count": 89,
   "source": [
    "@my_decorator\n",
    "def first_function():\n",
    "    \"\"\"This is docstring for FIRST function\"\"\"\n",
    "    return(\"first function\")"
   ],
   "outputs": [],
   "metadata": {}
  },
  {
   "cell_type": "code",
   "execution_count": 90,
   "source": [
    "# this is good\n",
    "print(first_function.__name__)\n",
    "print(first_function.__doc__)"
   ],
   "outputs": [
    {
     "output_type": "stream",
     "name": "stdout",
     "text": [
      "first_function\n",
      "This is docstring for FIRST function\n"
     ]
    }
   ],
   "metadata": {}
  },
  {
   "cell_type": "code",
   "execution_count": 91,
   "source": [
    "# this is still wrong\n",
    "help(first_function)"
   ],
   "outputs": [
    {
     "output_type": "stream",
     "name": "stdout",
     "text": [
      "Help on function first_function in module __main__:\n",
      "\n",
      "first_function(*args, **kwargs)\n",
      "    This is docstring for FIRST function\n",
      "\n"
     ]
    }
   ],
   "metadata": {}
  },
  {
   "cell_type": "markdown",
   "source": [
    "Not only is adding everything manually tedious, but the signature of the function is incorrect: it shows `(*args, **kwargs)`.\n",
    "\n",
    "This is where `functools.wraps()` comes in:"
   ],
   "metadata": {}
  },
  {
   "cell_type": "code",
   "execution_count": 92,
   "source": [
    "from functools import wraps\n",
    "\n",
    "def my_decorator(func):\n",
    "    @wraps(func)\n",
    "    def wrapper(*args, **kwargs):\n",
    "        \"\"\"A wrapper function\"\"\"\n",
    "        print(f\"{func.__name__}() is getting decorated\")\n",
    "        return func()\n",
    "    return wrapper"
   ],
   "outputs": [],
   "metadata": {}
  },
  {
   "cell_type": "code",
   "execution_count": 93,
   "source": [
    "@my_decorator\n",
    "def first_function():\n",
    "    \"\"\"This is docstring for FIRST function\"\"\"\n",
    "    return(\"first function\")"
   ],
   "outputs": [],
   "metadata": {}
  },
  {
   "cell_type": "code",
   "execution_count": 94,
   "source": [
    "# this is good\n",
    "print(first_function.__name__)\n",
    "print(first_function.__doc__)"
   ],
   "outputs": [
    {
     "output_type": "stream",
     "name": "stdout",
     "text": [
      "first_function\n",
      "This is docstring for FIRST function\n"
     ]
    }
   ],
   "metadata": {}
  },
  {
   "cell_type": "code",
   "execution_count": 95,
   "source": [
    "# this is good now\n",
    "help(first_function)"
   ],
   "outputs": [
    {
     "output_type": "stream",
     "name": "stdout",
     "text": [
      "Help on function first_function in module __main__:\n",
      "\n",
      "first_function()\n",
      "    This is docstring for FIRST function\n",
      "\n"
     ]
    }
   ],
   "metadata": {}
  },
  {
   "cell_type": "markdown",
   "source": [
    "&nbsp;\n",
    "\n",
    "Check the [python documentation](https://www.python.org/dev/peps/pep-0318/) for more information on decorators.\n",
    "\n",
    "\n",
    "\n",
    "<hr>\n",
    "&nbsp;\n",
    "\n",
    "## Credits\n",
    "- [Pierian Data](https://github.com/Pierian-Data/Complete-Python-3-Bootcamp)\n",
    "- [Programmiz](https://www.programiz.com/python-programming/decorator)\n",
    "- [Real Python](https://realpython.com/primer-on-python-decorators)\n",
    "- [Python course](https://www.python-course.eu/python3_decorators.php)"
   ],
   "metadata": {}
  }
 ],
 "metadata": {
  "kernelspec": {
   "display_name": "Python 3",
   "language": "python",
   "name": "python3"
  },
  "language_info": {
   "codemirror_mode": {
    "name": "ipython",
    "version": 3
   },
   "file_extension": ".py",
   "mimetype": "text/x-python",
   "name": "python",
   "nbconvert_exporter": "python",
   "pygments_lexer": "ipython3",
   "version": "3.9.2"
  },
  "toc": {
   "base_numbering": 1,
   "nav_menu": {},
   "number_sections": true,
   "sideBar": true,
   "skip_h1_title": true,
   "title_cell": "Table of Contents",
   "title_sidebar": "Contents",
   "toc_cell": true,
   "toc_position": {},
   "toc_section_display": true,
   "toc_window_display": false
  },
  "varInspector": {
   "cols": {
    "lenName": 16,
    "lenType": 16,
    "lenVar": 40
   },
   "kernels_config": {
    "python": {
     "delete_cmd_postfix": "",
     "delete_cmd_prefix": "del ",
     "library": "var_list.py",
     "varRefreshCmd": "print(var_dic_list())"
    },
    "r": {
     "delete_cmd_postfix": ") ",
     "delete_cmd_prefix": "rm(",
     "library": "var_list.r",
     "varRefreshCmd": "cat(var_dic_list()) "
    }
   },
   "types_to_exclude": [
    "module",
    "function",
    "builtin_function_or_method",
    "instance",
    "_Feature"
   ],
   "window_display": false
  }
 },
 "nbformat": 4,
 "nbformat_minor": 1
}