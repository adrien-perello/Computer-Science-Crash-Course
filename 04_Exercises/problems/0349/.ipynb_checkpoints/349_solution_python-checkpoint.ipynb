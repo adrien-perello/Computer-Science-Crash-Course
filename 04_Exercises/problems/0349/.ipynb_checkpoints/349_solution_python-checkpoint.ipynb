{
 "cells": [
  {
   "cell_type": "markdown",
   "metadata": {},
   "source": [
    "<h1>349. Intersection of Two Arrays</h1>\n",
    "<hr>\n",
    "\n",
    "<!--Copy Paste Leetcode statement between-->\n",
    "<p>Given two arrays, write a function to compute their intersection.</p>\n",
    "\n",
    "<p><strong>Example 1:</strong></p>\n",
    "\n",
    "<pre><strong>Input: </strong>nums1 = <span id=\"example-input-1-1\">[1,2,2,1]</span>, nums2 = <span id=\"example-input-1-2\">[2,2]</span>\n",
    "<strong>Output: </strong><span id=\"example-output-1\">[2]</span>\n",
    "</pre>\n",
    "\n",
    "<div>\n",
    "<p><strong>Example 2:</strong></p>\n",
    "\n",
    "<pre><strong>Input: </strong>nums1 = <span id=\"example-input-2-1\">[4,9,5]</span>, nums2 = <span id=\"example-input-2-2\">[9,4,9,8,4]</span>\n",
    "<strong>Output: </strong><span id=\"example-output-2\">[9,4]</span></pre>\n",
    "</div>\n",
    "\n",
    "<p><b>Note:</b></p>\n",
    "\n",
    "<ul>\n",
    "\t<li>Each element in the result must be unique.</li>\n",
    "\t<li>The result can be in any order.</li>\n",
    "</ul>\n",
    "\n",
    "<p>&nbsp;</p>\n",
    "<!--Copy Paste Leetcode statement between-->\n",
    "\n",
    "<p>&nbsp;</p>\n",
    "<a href=\"https://leetcode.com/problems/intersection-of-two-arrays/\">Source</a> \n",
    "<hr>\n",
    "\n",
    "<h4>Code</h4>"
   ]
  },
  {
   "cell_type": "code",
   "execution_count": 1,
   "metadata": {},
   "outputs": [],
   "source": [
    "def intersect(nums1, nums2):\n",
    "    \"\"\"using built-in Set Intersection method\n",
    "    Time Complexity: O(min(n, m)) on average \n",
    "                     but O(n×m) in the worst case (unlikely)\n",
    "                     when load factor is high enough.\n",
    "                     + info: https://wiki.python.org/moin/TimeComplexity#set\n",
    "    Space Complexity: 0(n+m)\n",
    "    \"\"\"\n",
    "    set1 = set(nums1)\n",
    "    set2 = set(nums2)\n",
    "\n",
    "    return list(set2 & set1)   \n",
    "    # return list(set1.intersection(set2))  # equivalent"
   ]
  },
  {
   "cell_type": "code",
   "execution_count": 9,
   "metadata": {},
   "outputs": [],
   "source": [
    "def intersection(self, nums1, nums2):\n",
    "    \"\"\"\n",
    "    Time Complexity:  O(n+m))\n",
    "    Space Complexity: O(n+m)\n",
    "    \"\"\"  \n",
    "    set1 = set(nums1)\n",
    "    set2 = set(nums2)\n",
    "\n",
    "    if len(set1) < len(set2):\n",
    "        return [x for x in set1 if x in set2]\n",
    "    else:\n",
    "        return [x for x in set2 if x in set1]"
   ]
  },
  {
   "cell_type": "markdown",
   "metadata": {},
   "source": [
    "<h4>Check</h4>"
   ]
  },
  {
   "cell_type": "code",
   "execution_count": 4,
   "metadata": {},
   "outputs": [
    {
     "data": {
      "text/plain": [
       "[2]"
      ]
     },
     "execution_count": 4,
     "metadata": {},
     "output_type": "execute_result"
    }
   ],
   "source": [
    "nums1, nums2 = [1,2,2,1], [2,2]\n",
    "arrays_intersection(nums1, nums2)"
   ]
  },
  {
   "cell_type": "code",
   "execution_count": 5,
   "metadata": {},
   "outputs": [
    {
     "data": {
      "text/plain": [
       "[9, 4]"
      ]
     },
     "execution_count": 5,
     "metadata": {},
     "output_type": "execute_result"
    }
   ],
   "source": [
    "nums1, nums2 = [4,9,5], [9,4,9,8,4]\n",
    "arrays_intersection(nums1, nums2)"
   ]
  },
  {
   "cell_type": "markdown",
   "metadata": {},
   "source": [
    "<hr>\n",
    "<h4>Follow up #1:</h4>\n",
    "<p>Can you solve it with <code>O(1)</code> space (i.e constant memory)? The resulting array of intersections is <b>not taken into consideration</b></p>\n",
    "<h4>Code</h4>"
   ]
  },
  {
   "cell_type": "code",
   "execution_count": 6,
   "metadata": {},
   "outputs": [],
   "source": [
    " def intersect(nums1, nums2):\n",
    "    \"\"\"Using sort + Two Pointers.\n",
    "    Time Complexity: 0(nlogn) with n = MAX length(nums1, nums2)\n",
    "    Space Complexity: 0(1)\n",
    "    \"\"\"\n",
    "    nums1.sort()\n",
    "    nums2.sort()\n",
    "    \n",
    "    i, j = 0, 0\n",
    "    res = []\n",
    "    \n",
    "    while i < len(nums1) and j < len(nums2):\n",
    "        if nums1[i] == nums2[j]:\n",
    "            if not res or res[-1] != nums1[i]:\n",
    "                res.append(nums1[i])\n",
    "            i += 1\n",
    "            j += 1\n",
    "        elif nums1[i] < nums2[j]:\n",
    "            i += 1\n",
    "        else:\n",
    "            j += 1\n",
    "    return res"
   ]
  },
  {
   "cell_type": "code",
   "execution_count": 7,
   "metadata": {},
   "outputs": [],
   "source": [
    "def intersect(nums1, nums2):\n",
    "    \"\"\"variation of the two pointers solution.\"\"\"\n",
    "    nums1.sort()\n",
    "    nums2.sort()\n",
    "\n",
    "    i, j = 0, 0\n",
    "    res = []\n",
    "    \n",
    "    while i < len(nums1) and j < len(nums2):\n",
    "        if nums1[i] == nums2[j]:\n",
    "            res.append(nums1[i])\n",
    "            while i < len(nums1) and nums1[i] == res[-1]:\n",
    "                i += 1\n",
    "            while j < len(nums2) and nums2[j] == res[-1]:\n",
    "                j += 1\n",
    "        elif nums1[i] < nums2[j]:\n",
    "            i += 1\n",
    "        else:\n",
    "            j += 1\n",
    "\n",
    "    return res"
   ]
  },
  {
   "cell_type": "markdown",
   "metadata": {},
   "source": [
    "<hr>\n",
    "<h4>Follow up #2:</h4>\n",
    "<p>What if <code>nums1</code>'s size is too large compared to <code>nums2</code>'s size? Which algorithm is better?</p>"
   ]
  },
  {
   "cell_type": "code",
   "execution_count": 8,
   "metadata": {},
   "outputs": [],
   "source": [
    " def intersect(nums1, nums2):\n",
    "    \"\"\"Using sort + Binary Search on biggest array.\n",
    "    Time Complexity: 0(nlogn) with n = MAX length(nums1, nums2)\n",
    "    Space Complexity: 0(1)\n",
    "    \"\"\"\n",
    "    if len(nums1) < len(nums2):\n",
    "        nums1,nums2 = nums2,nums1\n",
    "\n",
    "    nums1.sort()  # sort the bigger size array\n",
    "    res = []\n",
    "    \n",
    "    for i in nums2:\n",
    "        left = 0\n",
    "        right = len(nums1)-1\n",
    "        while left <= right:\n",
    "            mid = (left + right) // 2\n",
    "            if nums1[mid] == i and nums1[mid] not in res:\n",
    "                res.append(i)\n",
    "                break\n",
    "            else:\n",
    "                if nums1[mid] < i:\n",
    "                    left = mid + 1\n",
    "                else:\n",
    "                    right = mid - 1\n",
    "    return res"
   ]
  }
 ],
 "metadata": {
  "kernelspec": {
   "display_name": "Python 3",
   "language": "python",
   "name": "python3"
  },
  "language_info": {
   "codemirror_mode": {
    "name": "ipython",
    "version": 3
   },
   "file_extension": ".py",
   "mimetype": "text/x-python",
   "name": "python",
   "nbconvert_exporter": "python",
   "pygments_lexer": "ipython3",
   "version": "3.8.2"
  }
 },
 "nbformat": 4,
 "nbformat_minor": 1
}
