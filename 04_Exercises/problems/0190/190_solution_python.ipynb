{
 "cells": [
  {
   "cell_type": "markdown",
   "metadata": {},
   "source": [
    "<h1>190. Reverse Bits</h1>\n",
    "<hr>\n",
    "\n",
    "<!--Copy Paste Leetcode statement between-->\n",
    "<p>Reverse bits of a given 32 bits unsigned integer.</p>\n",
    "\n",
    "<p><strong>Note:</strong></p>\n",
    "<ul>\n",
    "\t<li>Note that in some languages such as Java, there is no unsigned integer type. In this case, both input and output will be given as a signed integer type. They should not affect your implementation, as the integer's internal binary representation is the same, whether it is signed or unsigned.</li>\n",
    "\t<li>In Java,&nbsp;the compiler represents the signed integers using <a href=\"https://en.wikipedia.org/wiki/Two%27s_complement\" target=\"_blank\">2's complement notation</a>. Therefore, in <strong>Example 2</strong>&nbsp;above, the input represents the signed integer <code>-3</code>&nbsp;and the output represents the signed integer <code>-1073741825</code>.</li>\n",
    "</ul>\n",
    "\n",
    "<p><b>Follow up</b>:</p>\n",
    "\n",
    "<p>If this function is called many times, how would you optimize it?</p>\n",
    "\n",
    "<p>&nbsp;</p>\n",
    "<p><strong>Example 1:</strong></p>\n",
    "\n",
    "<pre><strong>Input:</strong> n = 00000010100101000001111010011100\n",
    "<strong>Output:</strong>    964176192 (00111001011110000010100101000000)\n",
    "<strong>Explanation: </strong>The input binary string <strong>00000010100101000001111010011100</strong> represents the unsigned integer 43261596, so return 964176192 which its binary representation is <strong>00111001011110000010100101000000</strong>.\n",
    "</pre>\n",
    "\n",
    "<p><strong>Example 2:</strong></p>\n",
    "\n",
    "<pre><strong>Input:</strong> n = 11111111111111111111111111111101\n",
    "<strong>Output:</strong>   3221225471 (10111111111111111111111111111111)\n",
    "<strong>Explanation: </strong>The input binary string <strong>11111111111111111111111111111101</strong> represents the unsigned integer 4294967293, so return 3221225471 which its binary representation is <strong>10111111111111111111111111111111</strong>.\n",
    "</pre>\n",
    "\n",
    "<p>&nbsp;</p>\n",
    "<p><strong>Constraints:</strong></p>\n",
    "\n",
    "<ul>\n",
    "\t<li>The input must be a <strong>binary string</strong> of length <code>32</code></li>\n",
    "</ul>\n",
    "<!--Copy Paste Leetcode statement between-->\n",
    "\n",
    "<p>&nbsp;</p>\n",
    "<a href=\"https://leetcode.com/problems/reverse-bits/\">Source</a> \n",
    "<hr>\n",
    "\n",
    "<h4>Code</h4>"
   ]
  },
  {
   "cell_type": "code",
   "execution_count": 1,
   "metadata": {},
   "outputs": [],
   "source": [
    "def reverse_bits(n):\n",
    "    \"\"\"\n",
    "    Time Complexity O(32)\n",
    "    Space Complexity O(1)\n",
    "    \"\"\"\n",
    "    result, power = 0, 31\n",
    "    while n:\n",
    "        result += (n & 1) << power  # returns n&1 with the bits shifted to the left by 'power' places.\n",
    "                                    #  + info here: https://wiki.python.org/moin/BitwiseOperators\n",
    "        n = n >> 1  # Returns n with the bits shifted to the right by 1 place\n",
    "        power -= 1\n",
    "    return result"
   ]
  },
  {
   "cell_type": "code",
   "execution_count": 2,
   "metadata": {},
   "outputs": [],
   "source": [
    "def reverse_bits(n):\n",
    "    \"\"\"variations\"\"\"\n",
    "    result = 0\n",
    "    for _ in range(32):\n",
    "        result = (result << 1) + (n & 1)\n",
    "        n >>= 1\n",
    "    return result"
   ]
  },
  {
   "cell_type": "code",
   "execution_count": 3,
   "metadata": {},
   "outputs": [],
   "source": [
    "def reverse_bits(n):\n",
    "    \"\"\"variations\"\"\"\n",
    "    out = 0\n",
    "    for _ in range(32):\n",
    "        out = (out << 1) ^ (n & 1)\n",
    "        n >>= 1\n",
    "    return out"
   ]
  },
  {
   "cell_type": "code",
   "execution_count": 4,
   "metadata": {},
   "outputs": [],
   "source": [
    "def reverse_bits(n):\n",
    "    \"\"\"variations with O(16) Time Complexity.\"\"\"\n",
    "    result = 0\n",
    "    for i in range(16):\n",
    "        right_bit = (n >> i) & 1\n",
    "        left_bit = (n >> (31-i)) & 1\n",
    "        result |= right_bit << (31-i)  # |=  performs an in-place operation\n",
    "        result |= left_bit << i        #     between pairs of objects\n",
    "    return result"
   ]
  }
 ],
 "metadata": {
  "kernelspec": {
   "display_name": "Python 3",
   "language": "python",
   "name": "python3"
  },
  "language_info": {
   "codemirror_mode": {
    "name": "ipython",
    "version": 3
   },
   "file_extension": ".py",
   "mimetype": "text/x-python",
   "name": "python",
   "nbconvert_exporter": "python",
   "pygments_lexer": "ipython3",
   "version": "3.8.2"
  }
 },
 "nbformat": 4,
 "nbformat_minor": 1
}
