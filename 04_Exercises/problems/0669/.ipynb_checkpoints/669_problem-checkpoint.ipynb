{
 "cells": [
  {
   "cell_type": "markdown",
   "metadata": {},
   "source": [
    "<h1>669. Trim a Binary Search Tree</h1>\n",
    "<hr>\n",
    "\n",
    "<!--Copy Paste Leetcode statement between-->\n",
    "<p>Given the <code>root</code> of a binary search tree and the lowest and highest boundaries as <code>low</code> and <code>high</code>, trim the tree so that all its elements lies in <code>[low, high]</code>. Trimming the tree should <strong>not</strong> change the relative structure of the elements that will remain in the tree (i.e., any node's descendant should remain a descendant). It can be proven that there is a <strong>unique answer</strong>.</p>\n",
    "\n",
    "<p>Return <em>the root of the trimmed binary search tree</em>. Note that the root may change depending on the given bounds.</p>\n",
    "\n",
    "<p>&nbsp;</p>\n",
    "<p><strong>Example 1:</strong></p>\n",
    "<img alt=\"\" src=\"./img1.jpeg\" style=\"width: 450px; height: 126px;\">\n",
    "<pre><strong>Input:</strong> root = [1,0,2], low = 1, high = 2\n",
    "<strong>Output:</strong> [1,null,2]\n",
    "</pre>\n",
    "<p>&nbsp;</p>\n",
    "<p><strong>Example 2:</strong></p>\n",
    "<img alt=\"\" src=\"./img2.jpeg\" style=\"width: 450px; height: 277px;\">\n",
    "<pre><strong>Input:</strong> root = [3,0,4,null,2,null,null,1], low = 1, high = 3\n",
    "<strong>Output:</strong> [3,2,null,1]\n",
    "</pre>\n",
    "<p>&nbsp;</p>\n",
    "<p><strong>Example 3:</strong></p>\n",
    "\n",
    "<pre><strong>Input:</strong> root = [1], low = 1, high = 2\n",
    "<strong>Output:</strong> [1]\n",
    "</pre>\n",
    "<p>&nbsp;</p>\n",
    "<p><strong>Example 4:</strong></p>\n",
    "\n",
    "<pre><strong>Input:</strong> root = [1,null,2], low = 1, high = 3\n",
    "<strong>Output:</strong> [1,null,2]\n",
    "</pre>\n",
    "<p>&nbsp;</p>\n",
    "<p><strong>Example 5:</strong></p>\n",
    "\n",
    "<pre><strong>Input:</strong> root = [1,null,2], low = 2, high = 4\n",
    "<strong>Output:</strong> [2]\n",
    "</pre>\n",
    "\n",
    "<p>&nbsp;</p>\n",
    "<p><strong>Constraints:</strong></p>\n",
    "\n",
    "<ul>\n",
    "\t<li>The number of nodes in the tree in the range <code>[1, 10<sup>4</sup>]</code>.</li>\n",
    "\t<li><code>0 &lt;= Node.val &lt;= 10<sup>4</sup></code></li>\n",
    "\t<li>The value of each node in the tree is <strong>unique</strong>.</li>\n",
    "\t<li><code>root</code> is guaranteed to be a valid binary search tree.</li>\n",
    "\t<li><code>0 &lt;= low &lt;= high &lt;= 10<sup>4</sup></code></li>\n",
    "</ul>\n",
    "\n",
    "<!--Copy Paste Leetcode statement between-->\n",
    "\n",
    "<p>&nbsp;</p>\n",
    "<a href=\"https://leetcode.com/problems/trim-a-binary-search-tree/\">Source</a> \n",
    "<hr>"
   ]
  },
  {
   "cell_type": "code",
   "execution_count": 4,
   "metadata": {},
   "outputs": [],
   "source": [
    "# Definition for a binary tree node.\n",
    "class TreeNode:\n",
    "    def __init__(self, val=0, left=None, right=None):\n",
    "        self.val = val\n",
    "        self.left = left\n",
    "        self.right = right"
   ]
  },
  {
   "cell_type": "markdown",
   "metadata": {},
   "source": [
    "<h4>Code</h4>"
   ]
  },
  {
   "cell_type": "code",
   "execution_count": null,
   "metadata": {},
   "outputs": [],
   "source": [
    "def trim_BST(root, low, high):\n",
    "    pass"
   ]
  }
 ],
 "metadata": {
  "kernelspec": {
   "display_name": "Python 3",
   "language": "python",
   "name": "python3"
  },
  "language_info": {
   "codemirror_mode": {
    "name": "ipython",
    "version": 3
   },
   "file_extension": ".py",
   "mimetype": "text/x-python",
   "name": "python",
   "nbconvert_exporter": "python",
   "pygments_lexer": "ipython3",
   "version": "3.8.2"
  }
 },
 "nbformat": 4,
 "nbformat_minor": 1
}
