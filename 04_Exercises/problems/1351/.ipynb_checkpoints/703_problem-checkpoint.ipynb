{
 "cells": [
  {
   "cell_type": "markdown",
   "metadata": {},
   "source": [
    "<h1>703. Kth Largest Element in a Stream</h1>\n",
    "<hr>\n",
    "\n",
    "<!--Copy Paste Leetcode statement between-->\n",
    "<p>Design a class to find&nbsp;the <code>k<sup>th</sup></code> largest element in a stream. Note that it is the <code>k<sup>th</sup></code> largest element in the sorted order, not the <code>k<sup>th</sup></code> distinct element.</p>\n",
    "\n",
    "<p>Implement&nbsp;<code>KthLargest</code>&nbsp;class:</p>\n",
    "\n",
    "<ul>\n",
    "\t<li><code>KthLargest(int k, int[] nums)</code>&nbsp;Initializes the object with the integer <code>k</code> and the stream of integers <code>nums</code>.</li>\n",
    "\t<li><code>int add(int val)</code>&nbsp;Returns the element representing the <code>k<sup>th</sup></code> largest element in the stream.</li>\n",
    "</ul>\n",
    "\n",
    "<p>&nbsp;</p>\n",
    "<p><strong>Example 1:</strong></p>\n",
    "\n",
    "<pre><strong>Input</strong>\n",
    "[\"KthLargest\", \"add\", \"add\", \"add\", \"add\", \"add\"]\n",
    "[[3, [4, 5, 8, 2]], [3], [5], [10], [9], [4]]\n",
    "<strong>Output</strong>\n",
    "[null, 4, 5, 5, 8, 8]\n",
    "\n",
    "<strong>Explanation</strong>\n",
    "KthLargest kthLargest = new KthLargest(3, [4, 5, 8, 2]);\n",
    "kthLargest.add(3);   // return 4\n",
    "kthLargest.add(5);   // return 5\n",
    "kthLargest.add(10);  // return 5\n",
    "kthLargest.add(9);   // return 8\n",
    "kthLargest.add(4);   // return 8\n",
    "</pre>\n",
    "\n",
    "<p>&nbsp;</p>\n",
    "<p><strong>Constraints:</strong></p>\n",
    "\n",
    "<ul>\n",
    "\t<li><code>1 &lt;= k &lt;= 10<sup>4</sup></code></li>\n",
    "\t<li><code>0 &lt;= nums.length &lt;= 10<sup>4</sup></code></li>\n",
    "\t<li><code>-10<sup>4</sup> &lt;= nums[i] &lt;= 10<sup>4</sup></code></li>\n",
    "\t<li><code>-10<sup>4</sup> &lt;= val &lt;= 10<sup>4</sup></code></li>\n",
    "\t<li>At most <code>10<sup>4</sup></code> calls will be made to <code>add</code>.</li>\n",
    "\t<li>It is guaranteed that there will be at least <code>k</code> elements in the array when you search for the <code>k<sup>th</sup></code> element.</li>\n",
    "</ul>\n",
    "<!--Copy Paste Leetcode statement between-->\n",
    "\n",
    "<p>&nbsp;</p>\n",
    "<a href=\"https://leetcode.com/problems/kth-largest-element-in-a-stream/\">Source</a> \n",
    "<hr>\n",
    "\n",
    "<h4>Code</h4>"
   ]
  },
  {
   "cell_type": "code",
   "execution_count": 54,
   "metadata": {},
   "outputs": [],
   "source": [
    "class KthLargest:\n",
    "\n",
    "    def __init__(self, k, nums):\n",
    "        pass\n",
    "\n",
    "    def add(self, val):\n",
    "        pass"
   ]
  },
  {
   "cell_type": "markdown",
   "metadata": {},
   "source": [
    "<h4>Check</h4>"
   ]
  },
  {
   "cell_type": "code",
   "execution_count": 61,
   "metadata": {},
   "outputs": [
    {
     "name": "stdout",
     "output_type": "stream",
     "text": [
      "[4, 4, 4, 4, 4]\n",
      "[-4, -2, -3]\n"
     ]
    }
   ],
   "source": [
    "kthLargest = KthLargest(3, [4, 5, 8, 2])\n",
    "result = []\n",
    "result.append(kthLargest.add(3))\n",
    "result.append(kthLargest.add(5))\n",
    "result.append(kthLargest.add(10))\n",
    "result.append(kthLargest.add(9))\n",
    "result.append(kthLargest.add(4))\n",
    "print(result)"
   ]
  },
  {
   "cell_type": "code",
   "execution_count": 60,
   "metadata": {},
   "outputs": [
    {
     "name": "stdout",
     "output_type": "stream",
     "text": [
      "[5, 4, 4, 3, 3, 3, 3, 3, 3, 3, 3, 3, 3, 3, 3, 2, 2, 2, 2, 2, 2, 2, 2, 2, 2, 2, 2]\n",
      "[-2, -2, -1, -1, -1, -1, 10, -1, -1, -1]\n"
     ]
    }
   ],
   "source": [
    "kthLargest = KthLargest(10,[-10,1,3,1,4,10,3,9,4,5,1])\n",
    "result = []\n",
    "result.append(kthLargest.add(3))\n",
    "result.append(kthLargest.add(2))\n",
    "result.append(kthLargest.add(3))\n",
    "result.append(kthLargest.add(1))\n",
    "result.append(kthLargest.add(2))\n",
    "result.append(kthLargest.add(4))\n",
    "result.append(kthLargest.add(5))\n",
    "result.append(kthLargest.add(5))\n",
    "result.append(kthLargest.add(6))\n",
    "result.append(kthLargest.add(7))\n",
    "result.append(kthLargest.add(7))\n",
    "result.append(kthLargest.add(8))\n",
    "result.append(kthLargest.add(2))\n",
    "result.append(kthLargest.add(3))\n",
    "result.append(kthLargest.add(1))\n",
    "result.append(kthLargest.add(1))\n",
    "result.append(kthLargest.add(1))\n",
    "result.append(kthLargest.add(10))\n",
    "result.append(kthLargest.add(11))\n",
    "result.append(kthLargest.add(5))\n",
    "result.append(kthLargest.add(6))\n",
    "result.append(kthLargest.add(2))\n",
    "result.append(kthLargest.add(4))\n",
    "result.append(kthLargest.add(7))\n",
    "result.append(kthLargest.add(8))\n",
    "result.append(kthLargest.add(5))\n",
    "result.append(kthLargest.add(6))\n",
    "print(result)"
   ]
  },
  {
   "cell_type": "markdown",
   "metadata": {},
   "source": [
    "<hr>\n",
    "<h4>Follow up:</h4>\n",
    "<p>Return the Kth smallest element instead of the Kth largest</p>"
   ]
  },
  {
   "cell_type": "code",
   "execution_count": 57,
   "metadata": {},
   "outputs": [],
   "source": [
    "import heapq\n",
    "\n",
    "class KthLargest:\n",
    "\n",
    "    def __init__(self, k, nums):\n",
    "        pass\n",
    "\n",
    "    def add(self, val):\n",
    "        pass"
   ]
  }
 ],
 "metadata": {
  "kernelspec": {
   "display_name": "Python 3",
   "language": "python",
   "name": "python3"
  },
  "language_info": {
   "codemirror_mode": {
    "name": "ipython",
    "version": 3
   },
   "file_extension": ".py",
   "mimetype": "text/x-python",
   "name": "python",
   "nbconvert_exporter": "python",
   "pygments_lexer": "ipython3",
   "version": "3.8.2"
  }
 },
 "nbformat": 4,
 "nbformat_minor": 1
}
