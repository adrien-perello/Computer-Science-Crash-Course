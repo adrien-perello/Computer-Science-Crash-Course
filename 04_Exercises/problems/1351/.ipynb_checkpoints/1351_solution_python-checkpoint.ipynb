{
 "cells": [
  {
   "cell_type": "markdown",
   "metadata": {},
   "source": [
    "<h1>1351. Count Negative Numbers in a Sorted Matrix</h1>\n",
    "<hr>\n",
    "\n",
    "<!--Copy Paste Leetcode statement between-->\n",
    "<p>Given a <code>m x n</code> matrix <code>grid</code> which is sorted in non-increasing order both row-wise and column-wise, return <em>the number of <strong>negative</strong> numbers in</em> <code>grid</code>.</p>\n",
    "\n",
    "<p>&nbsp;</p>\n",
    "<p><strong>Example 1:</strong></p>\n",
    "\n",
    "<pre><strong>Input:</strong> grid = [[4,3,2,-1],[3,2,1,-1],[1,1,-1,-2],[-1,-1,-2,-3]]\n",
    "<strong>Output:</strong> 8\n",
    "<strong>Explanation:</strong> There are 8 negatives number in the matrix.\n",
    "</pre>\n",
    "\n",
    "<p><strong>Example 2:</strong></p>\n",
    "\n",
    "<pre><strong>Input:</strong> grid = [[3,2],[1,0]]\n",
    "<strong>Output:</strong> 0\n",
    "</pre>\n",
    "\n",
    "<p><strong>Example 3:</strong></p>\n",
    "\n",
    "<pre><strong>Input:</strong> grid = [[1,-1],[-1,-1]]\n",
    "<strong>Output:</strong> 3\n",
    "</pre>\n",
    "\n",
    "<p><strong>Example 4:</strong></p>\n",
    "\n",
    "<pre><strong>Input:</strong> grid = [[-1]]\n",
    "<strong>Output:</strong> 1\n",
    "</pre>\n",
    "\n",
    "<p>&nbsp;</p>\n",
    "<p><strong>Constraints:</strong></p>\n",
    "\n",
    "<ul>\n",
    "\t<li><code>m == grid.length</code></li>\n",
    "\t<li><code>n == grid[i].length</code></li>\n",
    "\t<li><code>1 &lt;= m, n &lt;= 100</code></li>\n",
    "\t<li><code>-100 &lt;= grid[i][j] &lt;= 100</code></li>\n",
    "</ul>\n",
    "<!--Copy Paste Leetcode statement between-->\n",
    "\n",
    "<p>&nbsp;</p>\n",
    "<a href=\"https://leetcode.com/problems/count-negative-numbers-in-a-sorted-matrix/\">Source</a> \n",
    "<hr>\n",
    "\n",
    "<h4>Code</h4>"
   ]
  },
  {
   "cell_type": "code",
   "execution_count": 1,
   "metadata": {},
   "outputs": [],
   "source": [
    "def count_negatives(grid):\n",
    "    \"\"\"Using binary search\n",
    "    Time Complexity O(m log n)\n",
    "    \"\"\"\n",
    "    n = len(grid[0])\n",
    "    counter = 0\n",
    "\n",
    "    for row in grid:\n",
    "        if row[-1] >= 0:        # quick cheks\n",
    "            continue            # to speed up\n",
    "        elif row[0] < 0:        # the search\n",
    "            counter += n        # not strictly needed\n",
    "        else:\n",
    "            left = 0\n",
    "            right = n\n",
    "            while left < right:\n",
    "                i = (left + right) // 2\n",
    "                if row[i] >= 0 and row[i+1] < 0:  # condition not\n",
    "                    counter += n-1-i              # strictly needed\n",
    "                    break                         # saves 1 iteration\n",
    "                elif row[i] < 0:\n",
    "                    right = i\n",
    "                elif row[i+1] >= 0:\n",
    "                    left = i+1\n",
    "    return counter"
   ]
  },
  {
   "cell_type": "code",
   "execution_count": 2,
   "metadata": {},
   "outputs": [],
   "source": [
    "def count_negatives(grid):\n",
    "    \"\"\"alternative version of above solution\"\"\"\n",
    "    n = len(grid[0])\n",
    "    counter = 0\n",
    "\n",
    "    for row in grid:\n",
    "        if row[-1] >= 0:\n",
    "            continue\n",
    "        elif row[0] < 0:\n",
    "            counter += n\n",
    "        else:\n",
    "            left = 0\n",
    "            right = n\n",
    "            while left < right:\n",
    "                i = (left + right) // 2\n",
    "                if row[i] < 0:\n",
    "                    right = i\n",
    "                else:\n",
    "                    left = i+1\n",
    "            counter += n-left\n",
    "    return counter"
   ]
  },
  {
   "cell_type": "markdown",
   "metadata": {},
   "source": [
    "<h4>Check</h4>"
   ]
  },
  {
   "cell_type": "code",
   "execution_count": 3,
   "metadata": {},
   "outputs": [
    {
     "data": {
      "text/plain": [
       "8"
      ]
     },
     "execution_count": 3,
     "metadata": {},
     "output_type": "execute_result"
    }
   ],
   "source": [
    "grid = [[4,3,2,-1],[3,2,1,-1],[1,1,-1,-2],[-1,-1,-2,-3]]\n",
    "count_negatives(grid)"
   ]
  },
  {
   "cell_type": "code",
   "execution_count": 4,
   "metadata": {},
   "outputs": [
    {
     "data": {
      "text/plain": [
       "0"
      ]
     },
     "execution_count": 4,
     "metadata": {},
     "output_type": "execute_result"
    }
   ],
   "source": [
    "grid = [[3,2],[1,0]]\n",
    "count_negatives(grid)"
   ]
  },
  {
   "cell_type": "code",
   "execution_count": 5,
   "metadata": {},
   "outputs": [
    {
     "data": {
      "text/plain": [
       "3"
      ]
     },
     "execution_count": 5,
     "metadata": {},
     "output_type": "execute_result"
    }
   ],
   "source": [
    "grid = [[1,-1],[-1,-1]]\n",
    "count_negatives(grid)"
   ]
  },
  {
   "cell_type": "code",
   "execution_count": 6,
   "metadata": {},
   "outputs": [
    {
     "data": {
      "text/plain": [
       "1"
      ]
     },
     "execution_count": 6,
     "metadata": {},
     "output_type": "execute_result"
    }
   ],
   "source": [
    "grid = [[-1]]\n",
    "count_negatives(grid)"
   ]
  },
  {
   "cell_type": "markdown",
   "metadata": {},
   "source": [
    "<hr>\n",
    "<h4>Follow up:</h4>\n",
    "<p>Could you find an <code>O(n + m)</code> solution?</p>"
   ]
  },
  {
   "cell_type": "code",
   "execution_count": 57,
   "metadata": {},
   "outputs": [],
   "source": [
    "# make use of the fact that matrix is ordered in non-increasing order BOTH ROW-wise and COLUMN-wise\n",
    "# ++++++\n",
    "# ++++--\n",
    "# ++++--\n",
    "# +++---\n",
    "# +-----\n",
    "# +-----\n",
    "\n",
    "def count_negatives(grid):\n",
    "    \"\"\"Using binary search\n",
    "    Time Complexity O(m log n)\n",
    "    \"\"\"\n",
    "    i = len(grid)-1\n",
    "    j = 0\n",
    "    count = 0\n",
    "    \n",
    "    while i >= 0 and j < len(grid[0]):  # Start from bottom-left corner\n",
    "        if grid[i][j] < 0:              # if element is negative\n",
    "            count += len(grid[0])-j     # add nb and\n",
    "            i -= 1                      # move to the row above\n",
    "        else:                           # if not, increment\n",
    "            j +=1                       # the column index\n",
    "    return(count)"
   ]
  }
 ],
 "metadata": {
  "kernelspec": {
   "display_name": "Python 3",
   "language": "python",
   "name": "python3"
  },
  "language_info": {
   "codemirror_mode": {
    "name": "ipython",
    "version": 3
   },
   "file_extension": ".py",
   "mimetype": "text/x-python",
   "name": "python",
   "nbconvert_exporter": "python",
   "pygments_lexer": "ipython3",
   "version": "3.8.2"
  }
 },
 "nbformat": 4,
 "nbformat_minor": 1
}
