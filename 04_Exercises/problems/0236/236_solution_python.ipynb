{
 "cells": [
  {
   "cell_type": "markdown",
   "metadata": {},
   "source": [
    "<h1>236. Lowest Common Ancestor of a Binary Tree</h1>\n",
    "<hr>\n",
    "\n",
    "<!--Copy Paste Leetcode statement between-->\n",
    "<p>Given a binary tree, find the lowest common ancestor (LCA) of two given nodes in the tree.</p>\n",
    "\n",
    "<p>According to the <a href=\"https://en.wikipedia.org/wiki/Lowest_common_ancestor\" target=\"_blank\">definition of LCA on Wikipedia</a>: “The lowest common ancestor is defined between two nodes p&nbsp;and q&nbsp;as the lowest node in T that has both p&nbsp;and q&nbsp;as descendants (where we allow <b>a node to be a descendant of itself</b>).”</p>\n",
    "\n",
    "<p>&nbsp;</p>\n",
    "<p><strong>Example 1:</strong></p>\n",
    "<img alt=\"\" src=\"./img1.png\" style=\"width: 200px; height: 190px;\">\n",
    "<pre><strong>Input:</strong> root = [3,5,1,6,2,0,8,null,null,7,4], p = 5, q = 1\n",
    "<strong>Output:</strong> 3\n",
    "<strong>Explanation:</strong> The LCA of nodes 5 and 1 is 3.\n",
    "</pre>\n",
    "\n",
    "<p>&nbsp;</p>\n",
    "<p><strong>Example 2:</strong></p>\n",
    "<img alt=\"\" src=\"./img2.png\" style=\"width: 200px; height: 190px;\">\n",
    "<pre><strong>Input:</strong> root = [3,5,1,6,2,0,8,null,null,7,4], p = 5, q = 4\n",
    "<strong>Output:</strong> 5\n",
    "<strong>Explanation:</strong> The LCA of nodes 5 and 4 is 5, since a node can be a descendant of itself according to the LCA definition.\n",
    "</pre>\n",
    "\n",
    "<p>&nbsp;</p>\n",
    "<p><strong>Example 3:</strong></p>\n",
    "\n",
    "<pre><strong>Input:</strong> root = [1,2], p = 1, q = 2\n",
    "<strong>Output:</strong> 1\n",
    "</pre>\n",
    "\n",
    "<p>&nbsp;</p>\n",
    "<p><strong>Constraints:</strong></p>\n",
    "\n",
    "<ul>\n",
    "\t<li>The number of nodes in the tree is in the range <code>[2, 10<sup>5</sup>]</code>.</li>\n",
    "\t<li><code>-10<sup>9</sup> &lt;= Node.val &lt;= 10<sup>9</sup></code></li>\n",
    "\t<li>All <code>Node.val</code> are <strong>unique</strong>.</li>\n",
    "\t<li><code>p != q</code></li>\n",
    "\t<li><code>p</code> and <code>q</code> will&nbsp;exist in the tree.</li>\n",
    "</ul>\n",
    "\n",
    "<!--Copy Paste Leetcode statement between-->\n",
    "\n",
    "<p>&nbsp;</p>\n",
    "<a href=\"https://leetcode.com/problems/lowest-common-ancestor-of-a-binary-tree/\">Source</a> \n",
    "<hr>"
   ]
  },
  {
   "cell_type": "code",
   "execution_count": 1,
   "metadata": {},
   "outputs": [],
   "source": [
    "# Definition for a binary tree node.\n",
    "class TreeNode:\n",
    "    def __init__(self, val=0, left=None, right=None):\n",
    "        self.val = val\n",
    "        self.left = left\n",
    "        self.right = right"
   ]
  },
  {
   "cell_type": "markdown",
   "metadata": {},
   "source": [
    "<h4>Code</h4>"
   ]
  },
  {
   "cell_type": "code",
   "execution_count": null,
   "metadata": {},
   "outputs": [],
   "source": [
    "def lowest_common_ancestor(root, p, q):\n",
    "    \"\"\"Recursive bottom-up solution using a hashmap of parent pointers\"\"\"\n",
    "    def dfs(node, parent):\n",
    "        if not node:\n",
    "            return\n",
    "        if p in parent and q in parent:\n",
    "            return\n",
    "        if node.left:\n",
    "            parent[node.left] = node\n",
    "            dfs(node.left, parent)\n",
    "        if node.right:\n",
    "            parent[node.right] = node\n",
    "            dfs(node.right, parent)\n",
    "\n",
    "    parent = {root:None}\n",
    "    dfs(root, parent)\n",
    "    ancestors = set()\n",
    "    while p:                  # find all ancestors of p\n",
    "        ancestors.add(p)\n",
    "        p = parent[p]\n",
    "    while q not in ancestors: # while nothing common\n",
    "        q = parent[q]\n",
    "    return q                  # 1st one to be also an ancestors of p"
   ]
  },
  {
   "cell_type": "code",
   "execution_count": null,
   "metadata": {},
   "outputs": [],
   "source": [
    "def lowest_common_ancestor(root, p, q):\n",
    "    \"\"\"Alternative recursive bottom-up solution\"\"\"\n",
    "    def dfs(node):\n",
    "        nonlocal lca\n",
    "        if not node:\n",
    "            return False         # return None is not acceptable because addition below\n",
    "        left = dfs(node.left)\n",
    "        right = dfs(node.right)\n",
    "\n",
    "        curr = True if node in (p, q) else False\n",
    "        if curr + left + right >= 2:     # If any two variables is True\n",
    "            lca = node\n",
    "        return curr or left or right     # return the one where we found something\n",
    "\n",
    "    lca = None\n",
    "    dfs(root)\n",
    "    return lca"
   ]
  },
  {
   "cell_type": "code",
   "execution_count": null,
   "metadata": {},
   "outputs": [],
   "source": [
    "def lowest_common_ancestor(root, p, q):\n",
    "    \"\"\"Another alternative recursive bottom-up solution\"\"\"\n",
    "    if not root:\n",
    "        return False             # return None is acceptable here\n",
    "    if root in (p, q):\n",
    "        return root\n",
    "\n",
    "    # Option A - a bit faster\n",
    "    left = right = None\n",
    "    if root.left:\n",
    "        left = lowest_common_ancestor(root, p, q)\n",
    "    if root.right:\n",
    "        right = lowest_common_ancestor(root, p, q)\n",
    "\n",
    "    # Option B - a bit slower\n",
    "    # left = lowest_common_ancestor(root, p, q)\n",
    "    # right = lowest_common_ancestor(root, p, q)\n",
    "\n",
    "    if left and right:    # if we found something on each side\n",
    "        return root\n",
    "    return left or right  # otherwise, return the one where we found something"
   ]
  },
  {
   "cell_type": "markdown",
   "metadata": {},
   "source": [
    "<hr>\n",
    "<h4>Follow up:</h4>\n",
    "<p>Solve it both recursively and iteratively.</p>\n",
    "\n",
    "<h4>Code</h4>"
   ]
  },
  {
   "cell_type": "code",
   "execution_count": null,
   "metadata": {},
   "outputs": [],
   "source": [
    "def lowest_common_ancestor(root, p, q):\n",
    "    \"\"\"Iterative version of the first solution (with hashmap of parent pointers)\"\"\"\n",
    "    stack = [root]\n",
    "    parent = {root: None}\n",
    "    while not (p in parent and q in parent):\n",
    "        node = stack.pop()\n",
    "        if node.left:\n",
    "            parent[node.left] = node\n",
    "            stack.append(node.left)\n",
    "        if node.right:\n",
    "            parent[node.right] = node\n",
    "            stack.append(node.right)\n",
    "    ancestors = set()\n",
    "    while p:\n",
    "        ancestors.add(p)\n",
    "        p = parent[p]\n",
    "    while q not in ancestors:\n",
    "        q = parent[q]\n",
    "    return q"
   ]
  }
 ],
 "metadata": {
  "kernelspec": {
   "display_name": "Python 3",
   "language": "python",
   "name": "python3"
  },
  "language_info": {
   "codemirror_mode": {
    "name": "ipython",
    "version": 3
   },
   "file_extension": ".py",
   "mimetype": "text/x-python",
   "name": "python",
   "nbconvert_exporter": "python",
   "pygments_lexer": "ipython3",
   "version": "3.8.2"
  }
 },
 "nbformat": 4,
 "nbformat_minor": 1
}
