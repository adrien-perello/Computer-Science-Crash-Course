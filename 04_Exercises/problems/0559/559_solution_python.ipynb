{
 "cells": [
  {
   "cell_type": "markdown",
   "metadata": {},
   "source": [
    "<h1>559. Maximum <strike>Depth</strike> level of N-ary Tree</h1>\n",
    "<hr>\n",
    "\n",
    "<!--Copy Paste Leetcode statement between-->\n",
    "<div><p>Given a n-ary tree, return <em><strike>its maximum depth</strike> the level of the farthest leaf (i.e. the height +1 of the tree)</em>.</p>\n",
    "\n",
    "<p>The <strong>maximum <strike>depth</strike> level</strong>&nbsp;is the number of nodes along the longest path from the root node down to the farthest leaf node (see <a href=\"https://nbviewer.jupyter.org/github/adrien-perelloyb/leetcode/blob/main/lessons/tree_traversals.ipynb\">here</a> for a reminder on the difference between depth, level and height)</p>\n",
    "\n",
    "\n",
    "<p><em>Nary-Tree input serialization&nbsp;is represented in their level order traversal, each group of children is separated by the null value (See examples).</em></p>\n",
    "\n",
    "<p>&nbsp;</p>\n",
    "<p><strong>Example 1:</strong></p>\n",
    "\n",
    "<p><img src=\"./img1.png\" style=\"width: 100%; max-width: 300px;\"></p>\n",
    "\n",
    "<pre><strong>Input:</strong> root = [1,null,3,2,4,null,5,6]\n",
    "<strong>Output:</strong> 3\n",
    "</pre>\n",
    "\n",
    "<p><strong>Example 2:</strong></p>\n",
    "\n",
    "<p><img alt=\"\" src=\"./img2.png\" style=\"width: 296px; height: 241px;\"></p>\n",
    "\n",
    "<pre><strong>Input:</strong> root = [1,null,2,3,4,5,null,null,6,7,null,8,null,9,10,null,null,11,null,12,null,13,null,null,14]\n",
    "<strong>Output:</strong> 5\n",
    "</pre>\n",
    "\n",
    "<p>&nbsp;</p>\n",
    "<p><strong>Constraints:</strong></p>\n",
    "\n",
    "<ul>\n",
    "\t<li>The <strike>depth</strike> level of the n-ary tree is less than or equal to <code>1000</code>.</li>\n",
    "\t<li>The total number of nodes is between <code>[0,&nbsp;10<sup>4</sup>]</code>.</li>\n",
    "    <li>See <a href=\"https://nbviewer.jupyter.org/github/adrien-perelloyb/leetcode/blob/main/lessons/tree_traversals.ipynb\">here</a> for a reminder on the difference between depth and level.</li>\n",
    "</ul>\n",
    "</div>\n",
    "<!--Copy Paste Leetcode statement between-->\n",
    "\n",
    "<p>&nbsp;</p>\n",
    "<a href=\"https://leetcode.com/problems/maximum-depth-of-n-ary-tree/\">Source</a> \n",
    "<hr>"
   ]
  },
  {
   "cell_type": "code",
   "execution_count": 1,
   "metadata": {},
   "outputs": [],
   "source": [
    "# Definition for a Node.\n",
    "class Node:\n",
    "    def __init__(self, val=None, children=None):\n",
    "        self.val = val\n",
    "        self.children = children  # children = list"
   ]
  },
  {
   "cell_type": "markdown",
   "metadata": {},
   "source": [
    "<h4>Code</h4>"
   ]
  },
  {
   "cell_type": "code",
   "execution_count": 2,
   "metadata": {},
   "outputs": [],
   "source": [
    "def max_height(root):\n",
    "    \"\"\"DFS using bottom up recursion\n",
    "    we dig until we reach a leaf (height = 0) and we add +1 for\n",
    "    each node until back to the root.\n",
    "    We return max(height(root)) = height(tree)\n",
    "    Note: the question asks for 1+height\n",
    "    \"\"\"\n",
    "    if not root:\n",
    "        return -1  # proper use of height\n",
    "\n",
    "    if not root.children:  # needed to avoid max(node for node in [])  --> throws an error\n",
    "        return 0    # proper use of height(leaf) = 0)\n",
    "\n",
    "    return max(max_height(node) for node in root.children) + 1"
   ]
  },
  {
   "cell_type": "code",
   "execution_count": 3,
   "metadata": {},
   "outputs": [],
   "source": [
    "def max_depth(root):\n",
    "    \"\"\"Same as above. This is actually what is asked for in the question\n",
    "    Though strictly speaking depth = counting edges and not nodes\n",
    "    \"\"\"\n",
    "    if not root:\n",
    "        return 0  # strictly speaking height(leaf) = 0 ==> height(None) should be -1 (by convention)\n",
    "   \n",
    "    if not root.children:  # base case is needed to avoid max(None)  --> throws an error\n",
    "        return 1\n",
    "\n",
    "    # recursive relation\n",
    "    return max(max_depth(node) for node in root.children) + 1"
   ]
  },
  {
   "cell_type": "code",
   "execution_count": 4,
   "metadata": {},
   "outputs": [],
   "source": [
    "def max_depth(root):\n",
    "    \"\"\"alternative version of above solution\"\"\"\n",
    "    def dfs(node):\n",
    "        # base cases\n",
    "        if not node:\n",
    "            return 0\n",
    "        if not node.children:\n",
    "            return 1\n",
    "\n",
    "        max_depth = 0\n",
    "        for child in node.children:\n",
    "            child_depth = 1 + dfs(child)\n",
    "            max_depth = max(max_depth, child_depth)\n",
    "        return max_depth\n",
    "\n",
    "    return dfs(root)"
   ]
  },
  {
   "cell_type": "code",
   "execution_count": 5,
   "metadata": {},
   "outputs": [],
   "source": [
    "def max_depth(root):\n",
    "    \"\"\"DFS using Top down recursion\n",
    "    we dig into the tree, adding +1 at each children\n",
    "    until we reach a leaf, where we return the depth we calculated so far\n",
    "    \"\"\"\n",
    "    def dfs(node, depth):\n",
    "        # base case\n",
    "        if not node:\n",
    "            return 0\n",
    "        depth += 1\n",
    "        max_depth = depth\n",
    "        for child in node.children:\n",
    "            max_depth = max(max_depth, dfs(child, depth))\n",
    "        return max_depth\n",
    "\n",
    "    depth = dfs(root, 0)\n",
    "    return depth"
   ]
  },
  {
   "cell_type": "code",
   "execution_count": 6,
   "metadata": {},
   "outputs": [],
   "source": [
    "def max_depth(root):\n",
    "    \"\"\"alternative version of above solution\"\"\"\n",
    "    def dfs(node, depth):\n",
    "        nonlocal max_depth\n",
    "        # base case\n",
    "        if not node:\n",
    "            return\n",
    "        depth += 1\n",
    "        if not node.children:\n",
    "            if depth > max_depth:\n",
    "                max_depth = depth\n",
    "            return\n",
    "        for child in node.children:\n",
    "            dfs(child, depth)\n",
    "        return\n",
    "\n",
    "    max_depth = 0\n",
    "    dfs(root, 0)\n",
    "    return max_depth"
   ]
  },
  {
   "cell_type": "markdown",
   "metadata": {},
   "source": [
    "<hr>\n",
    "<h4>Follow up:</h4>\n",
    "<p>Solve it both recursively and iteratively.</p>\n",
    "\n",
    "<h4>Code</h4>"
   ]
  },
  {
   "cell_type": "code",
   "execution_count": 7,
   "metadata": {},
   "outputs": [],
   "source": [
    "def max_depth(root):\n",
    "    \"\"\"BFS using a top down iterative approach with a list.\"\"\"\n",
    "    if not root:\n",
    "        return 0\n",
    "    queue = [(root, 1)]\n",
    "    depth = 0\n",
    "    for (node, level) in queue:\n",
    "        depth = level  # last level we see will be the depth\n",
    "        queue += [(child, level+1) for child in node.children]\n",
    "    return depth"
   ]
  },
  {
   "cell_type": "code",
   "execution_count": null,
   "metadata": {},
   "outputs": [],
   "source": [
    "from collections import deque\n",
    "\n",
    "def max_depth(root):\n",
    "    \"\"\"BFS using a top down iterative approach with a deque.\"\"\"\n",
    "    if not root:\n",
    "        return 0\n",
    "    queue = deque()\n",
    "    queue.append((root, 1))\n",
    "    depth = 0\n",
    "    while queue:\n",
    "        node, level = queue.popleft()\n",
    "        if not node:\n",
    "            continue\n",
    "        depth = level  # last level we see will be the depth\n",
    "        queue += [(child, level+1) for child in node.children]\n",
    "    return depth"
   ]
  },
  {
   "cell_type": "code",
   "execution_count": null,
   "metadata": {},
   "outputs": [],
   "source": [
    "def max_level(root):\n",
    "    \"\"\"BFS using a bottom up iterative approach with a list.\"\"\"\n",
    "    if not root:\n",
    "        return 0\n",
    "\n",
    "    queue = [root]\n",
    "    for node in queue:  \n",
    "        if node:\n",
    "            queue += [child for child in node.children] # last nodes --> full layer of \"None\"\n",
    "\n",
    "    height = {}  # no need for None:0 (as opposed to BST - see leetcode #104) None is never added to stack\n",
    "    for node in reversed(queue):\n",
    "        if not node:\n",
    "            continue\n",
    "        if node.children == []:\n",
    "            height[node] = 1\n",
    "        else:\n",
    "            height[node] = 1 + max(height[n] for n in node.children)\n",
    "    return height[root]"
   ]
  },
  {
   "cell_type": "code",
   "execution_count": null,
   "metadata": {},
   "outputs": [],
   "source": [
    "def max_level(root):\n",
    "    \"\"\"BFS using a bottom up iterative approach with a deque.\"\"\"\n",
    "    if not root:\n",
    "        return 0\n",
    "\n",
    "    queue = deque()\n",
    "    queue.append(root)\n",
    "    traversal = deque()\n",
    "    while queue:\n",
    "        node = queue.popleft()\n",
    "        if node:\n",
    "            traversal.appendleft(node)\n",
    "            queue += [child for child in node.children] # last nodes --> full layer of \"None\"\n",
    "\n",
    "    height = {}  # no need for None:0 (as opposed to BST - see leetcode #104) None is never added to stack\n",
    "    while traversal:\n",
    "        node = traversal.popleft()\n",
    "        if not node:\n",
    "            continue\n",
    "        if node.children == []:\n",
    "            height[node] = 1\n",
    "        else:\n",
    "            height[node] = 1 + max(height[n] for n in node.children)\n",
    "    return height[root]"
   ]
  },
  {
   "cell_type": "code",
   "execution_count": 8,
   "metadata": {},
   "outputs": [],
   "source": [
    "def max_depth(root):\n",
    "    \"\"\"DFS using an iterative approach with a stack.\"\"\"\n",
    "    if not root:\n",
    "        return 0\n",
    "    stack = [(root, 1)]\n",
    "    depth = 0\n",
    "    while stack:\n",
    "        (node, level) = stack.pop()\n",
    "        depth = max(depth, level)  # keep track of max depth\n",
    "        stack += [(child, level+1) for child in node.children]\n",
    "    return depth"
   ]
  }
 ],
 "metadata": {
  "kernelspec": {
   "display_name": "Python 3",
   "language": "python",
   "name": "python3"
  },
  "language_info": {
   "codemirror_mode": {
    "name": "ipython",
    "version": 3
   },
   "file_extension": ".py",
   "mimetype": "text/x-python",
   "name": "python",
   "nbconvert_exporter": "python",
   "pygments_lexer": "ipython3",
   "version": "3.8.2"
  }
 },
 "nbformat": 4,
 "nbformat_minor": 1
}
