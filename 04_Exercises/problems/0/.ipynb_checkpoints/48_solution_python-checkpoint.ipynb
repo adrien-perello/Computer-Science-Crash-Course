{
 "cells": [
  {
   "cell_type": "markdown",
   "metadata": {},
   "source": [
    "<h1>48. Rotate Image</h1>\n",
    "<hr>\n",
    "\n",
    "<!--Copy Paste Leetcode statement between-->\n",
    "<p>You are given an <em>n</em> x <em>n</em> 2D <code>matrix</code> representing an image, rotate the image by 90 degrees (clockwise).</p>\n",
    "\n",
    "<p>You have to rotate the image <a href=\"https://en.wikipedia.org/wiki/In-place_algorithm\" target=\"_blank\"><strong>in-place</strong></a>, which means you have to modify the input 2D matrix directly. <strong>DO NOT</strong> allocate another 2D matrix and do the rotation.</p>\n",
    "\n",
    "<p>&nbsp;</p>\n",
    "<p><strong>Example 1:</strong></p>\n",
    "<img alt=\"\" src=\"./img1.jpeg\" style=\"width: 428px; height: 161px;\">\n",
    "<pre><strong>Input:</strong> matrix = [[1,2,3],[4,5,6],[7,8,9]]\n",
    "<strong>Output:</strong> [[7,4,1],[8,5,2],[9,6,3]]\n",
    "</pre>\n",
    "<p>&nbsp;</p>\n",
    "<p><strong>Example 2:</strong></p>\n",
    "<img alt=\"\" src=\"./img2.jpeg\" style=\"width: 428px; height: 161px;\">\n",
    "<pre><strong>Input:</strong> matrix = [[5,1,9,11],[2,4,8,10],[13,3,6,7],[15,14,12,16]]\n",
    "<strong>Output:</strong> [[15,13,2,5],[14,3,4,1],[12,6,8,9],[16,7,10,11]]\n",
    "</pre>\n",
    "<p>&nbsp;</p>\n",
    "<p><strong>Example 3:</strong></p>\n",
    "\n",
    "<pre><strong>Input:</strong> matrix = [[1]]\n",
    "<strong>Output:</strong> [[1]]\n",
    "</pre>\n",
    "<p>&nbsp;</p>\n",
    "<p><strong>Example 4:</strong></p>\n",
    "\n",
    "<pre><strong>Input:</strong> matrix = [[1,2],[3,4]]\n",
    "<strong>Output:</strong> [[3,1],[4,2]]\n",
    "</pre>\n",
    "\n",
    "<p>&nbsp;</p>\n",
    "<p><strong>Constraints:</strong></p>\n",
    "\n",
    "<ul>\n",
    "\t<li><code>matrix.length == n</code></li>\n",
    "\t<li><code>matrix[i].length == n</code></li>\n",
    "\t<li><code>1 &lt;= n &lt;= 20</code></li>\n",
    "\t<li><code>-1000 &lt;= matrix[i][j] &lt;= 1000</code></li>\n",
    "</ul>\n",
    "\n",
    "<!--Copy Paste Leetcode statement between-->\n",
    "\n",
    "<p>&nbsp;</p>\n",
    "<a href=\"https://leetcode.com/problems/rotate-image/\">Source</a> \n",
    "<hr>"
   ]
  },
  {
   "cell_type": "markdown",
   "metadata": {},
   "source": [
    "<h4>Code</h4>"
   ]
  },
  {
   "cell_type": "code",
   "execution_count": 2,
   "metadata": {},
   "outputs": [],
   "source": [
    "def rotate(matrix):\n",
    "    \"\"\"\n",
    "    check link image to remember the trick.\n",
    "    https://javabypatel.blogspot.com/2016/11/rotate-matrix-by-90-degrees-inplace.html\n",
    "    \"\"\"\n",
    "    n = len(matrix) - 1\n",
    "    for i in range((n + 1) // 2):\n",
    "        for j in range(i, n - i):\n",
    "            temp = matrix[i][j]    # no need for temp when doing using one liner\n",
    "            matrix[i][j] = matrix[n - j][i]\n",
    "            matrix[n - j][i] = matrix[n - i][n - j]\n",
    "            matrix[n - i][n - j] = matrix[j][n - i]\n",
    "            matrix[j][n - i] = temp"
   ]
  },
  {
   "cell_type": "code",
   "execution_count": 1,
   "metadata": {},
   "outputs": [],
   "source": [
    "def rotate(matrix):\n",
    "    \"\"\"Same as above but using the '~' operator:  ~x = -x-1\n",
    "    [ 0,  1, 2, 3, 4, 5, 6, 7, 8, 9]\n",
    "     -10 -9 -8 -7 -6 -5 -4 -3 -2 -1  --> negative indexing\n",
    "\n",
    "    [ 0,  1, 2, 3, 4, 5, 6, 7, 8, 9]\n",
    "     ~9  ~8 ~7 ~6 ~5 ~4 ~3 ~2 ~1 ~0  --> tilde indexing\n",
    "    \"\"\"\n",
    "    m = len(matrix)\n",
    "    for i in range(m // 2):\n",
    "        for j in range((m + 1) // 2):\n",
    "            temp = matrix[i][j]\n",
    "            matrix[i][j] = matrix[~j][i]\n",
    "            matrix[~j][i] = matrix[~i][~j]\n",
    "            matrix[~i][~j] = matrix[j][~i]\n",
    "            matrix[j][~i] = temp"
   ]
  },
  {
   "cell_type": "code",
   "execution_count": null,
   "metadata": {},
   "outputs": [],
   "source": [
    "def rotate(matrix):\n",
    "    \"\"\"Using reverse and then transpose manually the matrix\n",
    "\n",
    "        [[0,0,0,0,0],                [[4,4,4,4,4],\n",
    "         [1,1,1,1,1],   a.reverse()   [3,3,3,3,3],\n",
    "    a =  [2,2,2,2,2],       ==>       [2,2,2,2,2],\n",
    "         [3,3,3,3,3],                 [1,1,1,1,1],\n",
    "         [4,4,4,4,4]]                 [0,0,0,0,0]]\n",
    "    \"\"\"\n",
    "    matrix.reverse()\n",
    "    for i, _ in enumerate(matrix):\n",
    "        for j in range(i):\n",
    "            matrix[i][j], matrix[j][i] = matrix[j][i], matrix[i][j]"
   ]
  },
  {
   "cell_type": "code",
   "execution_count": null,
   "metadata": {},
   "outputs": [],
   "source": [
    "def rotate(matrix):\n",
    "    \"\"\"Same as above but transpose using zip(*) (much faster)\n",
    "\n",
    "        [[0,0,0,0,0],                [[0,1,2,3,4],\n",
    "         [1,1,1,1,1],     zip(*a)     [0,1,2,3,4],\n",
    "    a =  [2,2,2,2,2],       ==>       [0,1,2,3,4],\n",
    "         [3,3,3,3,3],                 [0,1,2,3,4],\n",
    "         [4,4,4,4,4]]                 [0,1,2,3,4]]\n",
    "\n",
    "    Note: zip returns tuples --> requires conversion into lists\n",
    "\n",
    "    BUT: zip() create additional space to hold and return the result matrix.\n",
    "    so technically, it's not a 0(1) memory solution\n",
    "    \"\"\"\n",
    "    matrix.reverse()\n",
    "    matrix[:] = map(list, zip(*matrix))\n",
    "    \n",
    "    #          A[:] =       vs         A =\n",
    "    #       replace in              makes a \n",
    "    #     original list        refence to object"
   ]
  },
  {
   "cell_type": "markdown",
   "metadata": {},
   "source": [
    "<h4>Check</h4>"
   ]
  },
  {
   "cell_type": "code",
   "execution_count": 23,
   "metadata": {},
   "outputs": [
    {
     "name": "stdout",
     "output_type": "stream",
     "text": [
      "[[7, 4, 1], [8, 5, 2], [9, 6, 3]]\n"
     ]
    }
   ],
   "source": [
    "matrix = [[1,2,3],[4,5,6],[7,8,9]]\n",
    "rotate(matrix)"
   ]
  },
  {
   "cell_type": "code",
   "execution_count": null,
   "metadata": {},
   "outputs": [],
   "source": [
    "matrix = [[5,1,9,11],[2,4,8,10],[13,3,6,7],[15,14,12,16]]\n",
    "rotate(matrix)"
   ]
  },
  {
   "cell_type": "code",
   "execution_count": null,
   "metadata": {},
   "outputs": [],
   "source": [
    "matrix = [[1,2],[3,4]]\n",
    "rotate(matrix)"
   ]
  },
  {
   "cell_type": "code",
   "execution_count": null,
   "metadata": {},
   "outputs": [],
   "source": [
    "matrix = [[1]]]\n",
    "rotate(matrix)"
   ]
  }
 ],
 "metadata": {
  "kernelspec": {
   "display_name": "Python 3",
   "language": "python",
   "name": "python3"
  },
  "language_info": {
   "codemirror_mode": {
    "name": "ipython",
    "version": 3
   },
   "file_extension": ".py",
   "mimetype": "text/x-python",
   "name": "python",
   "nbconvert_exporter": "python",
   "pygments_lexer": "ipython3",
   "version": "3.8.2"
  }
 },
 "nbformat": 4,
 "nbformat_minor": 1
}
