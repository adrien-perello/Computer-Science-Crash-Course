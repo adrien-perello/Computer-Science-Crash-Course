{
 "cells": [
  {
   "cell_type": "markdown",
   "metadata": {},
   "source": [
    "<h1>22. Generate Parentheses</h1>\n",
    "<hr>\n",
    "\n",
    "<!--Copy Paste Leetcode statement between-->\n",
    "<p>Given <code>n</code> pairs of parentheses, write a function to <em>generate all combinations of well-formed parentheses</em>.</p>\n",
    "\n",
    "<p>&nbsp;</p>\n",
    "<p><strong>Example 1:</strong></p>\n",
    "<pre><strong>Input:</strong> n = 3\n",
    "<strong>Output:</strong> [\"((()))\",\"(()())\",\"(())()\",\"()(())\",\"()()()\"]\n",
    "</pre><p><strong>Example 2:</strong></p>\n",
    "<pre><strong>Input:</strong> n = 1\n",
    "<strong>Output:</strong> [\"()\"]\n",
    "</pre>\n",
    "<p>&nbsp;</p>\n",
    "<p><strong>Constraints:</strong></p>\n",
    "\n",
    "<ul>\n",
    "\t<li><code>1 &lt;= n &lt;= 8</code></li>\n",
    "</ul>\n",
    "<!--Copy Paste Leetcode statement between-->\n",
    "\n",
    "<p>&nbsp;</p>\n",
    "<a href=\"https://leetcode.com/problems/generate-parentheses/\">Source</a> \n",
    "<hr>\n",
    "<h4>Code</h4>"
   ]
  },
  {
   "cell_type": "code",
   "execution_count": 4,
   "metadata": {},
   "outputs": [],
   "source": [
    "def generate_parenthesis(n):\n",
    "    \"\"\"Recursive approach.\"\"\"\n",
    "    def dfs(left, right, string):\n",
    "        nonlocal result\n",
    "\n",
    "        if not left:  # if we can't open a new partenthese\n",
    "            result.append(string + ')' * right)  # we close all opened ones\n",
    "\n",
    "        elif left == right:  # if we closed all opened parentheses, then\n",
    "            dfs(left-1, right, string + '(')  # we can only open a new one\n",
    "\n",
    "        else:\n",
    "            dfs(left-1, right, string + '(')  # we can choose to open a parenthese\n",
    "            dfs(left, right-1, string + ')')  # or we can choose to close a parenthese\n",
    "\n",
    "    result = []\n",
    "    dfs(n, n, '')\n",
    "    return result"
   ]
  },
  {
   "cell_type": "code",
   "execution_count": 5,
   "metadata": {},
   "outputs": [],
   "source": [
    "def generate_parenthesis(n):\n",
    "    \"\"\"Alternative version of first solution.\"\"\"\n",
    "    def generate(left, right):\n",
    "        if not left:\n",
    "            return [ ')' * right]\n",
    "\n",
    "        if right == left:\n",
    "            return [ '(' + x for x in generate(left-1, right)]\n",
    "\n",
    "        return ([ '(' + x for x in generate(left-1, right)] + \\\n",
    "                [ ')' + x for x in generate(left, right-1)])\n",
    "\n",
    "    return generate(n, n)"
   ]
  },
  {
   "cell_type": "code",
   "execution_count": 6,
   "metadata": {},
   "outputs": [],
   "source": [
    "def generate_parenthesis(n):\n",
    "    \"\"\"Alternative version of first solution.\"\"\"\n",
    "    def dfs(left, right, string):\n",
    "        nonlocal result\n",
    "\n",
    "        if left:\n",
    "            dfs(left-1, right, string + '(')\n",
    "        if right > left:\n",
    "            dfs(left, right-1, string + ')')\n",
    "        if not right:\n",
    "            result.append(string)\n",
    "        return result\n",
    "\n",
    "    result = []\n",
    "    return dfs(n, n, '')"
   ]
  },
  {
   "cell_type": "code",
   "execution_count": 7,
   "metadata": {},
   "outputs": [],
   "source": [
    "def generate_parenthesis(n):\n",
    "    \"\"\"Alternative version of abvove solution using a generator.\"\"\"\n",
    "    def generate(left, right, string):\n",
    "        if right >= left >= 0:\n",
    "            if not right:\n",
    "                yield string\n",
    "            for x in generate(left-1, right, string + '('):\n",
    "                yield x\n",
    "            for x in generate(left, right-1, string + ')'):\n",
    "                yield x\n",
    "\n",
    "    return list(generate(n, n, ''))"
   ]
  },
  {
   "cell_type": "markdown",
   "metadata": {},
   "source": [
    "<h4>Check</h4>"
   ]
  },
  {
   "cell_type": "code",
   "execution_count": 8,
   "metadata": {},
   "outputs": [
    {
     "data": {
      "text/plain": [
       "['((()))', '(()())', '(())()', '()(())', '()()()']"
      ]
     },
     "execution_count": 8,
     "metadata": {},
     "output_type": "execute_result"
    }
   ],
   "source": [
    "generate_parenthesis(3)"
   ]
  },
  {
   "cell_type": "code",
   "execution_count": 9,
   "metadata": {},
   "outputs": [
    {
     "data": {
      "text/plain": [
       "['()']"
      ]
     },
     "execution_count": 9,
     "metadata": {},
     "output_type": "execute_result"
    }
   ],
   "source": [
    "generate_parenthesis(1)"
   ]
  },
  {
   "cell_type": "markdown",
   "metadata": {},
   "source": [
    "<hr>\n",
    "<h4>Follow up:</h4>\n",
    "<p>Solve it both recursively and iteratively.</p>\n",
    "\n",
    "<h4>Code</h4>"
   ]
  },
  {
   "cell_type": "code",
   "execution_count": 2,
   "metadata": {},
   "outputs": [],
   "source": [
    "def generate_parenthesis(n):\n",
    "    \"\"\"Using dynamic Programming\n",
    "   Generate 1x pair. For the (n-1) pairs left, we can:\n",
    "        - Generate 0x pair inside         AND  (n-1)x pair afterwards\n",
    "        - OR Generate 1x pair inside      AND  (n-2)x pair afterwards\n",
    "        - OR Generate 2x pair inside      AND  (n-3)x pair afterwards\n",
    "        - ...\n",
    "        - OR Generate (n-2)x pair inside  AND   1x pair outside\n",
    "        - OR Generate (n-1)x pair inside  AND   0x pair outside\n",
    "\n",
    "    f(1) = () = (f(0))\n",
    "\n",
    "    f(2) = ()(), (()) = (f(0))+f(1),  (f(1))\n",
    "\n",
    "    f(3) = () ()(), () (()),    (())(),     ((())), (()())\n",
    "                   \\   /              \\         \\   /\n",
    "    f(3) = (f(0)) + f(2),     (f(1)) + f(1),    (f(2))\n",
    "\n",
    "    f(n) = (f(0)) + f(n-1),   (f(1)) + f(n-2),   (f(2)) + f(n-3),   ...   (f(n-2)) + (f(0)),   (f(n-1))\n",
    "    \"\"\"\n",
    "    dp = [ [] for _ in range(n+1)]  # Don't use [ [] ] * N = list containing the same list object N times\n",
    "    dp[0].append('')\n",
    "    for i in range(1, n + 1):\n",
    "        for j in range(i):\n",
    "            dp[i] += [ '(' + x + ')' + y for x in dp[j] for y in dp[i-j-1]]\n",
    "    return dp[-1]"
   ]
  }
 ],
 "metadata": {
  "kernelspec": {
   "display_name": "Python 3",
   "language": "python",
   "name": "python3"
  },
  "language_info": {
   "codemirror_mode": {
    "name": "ipython",
    "version": 3
   },
   "file_extension": ".py",
   "mimetype": "text/x-python",
   "name": "python",
   "nbconvert_exporter": "python",
   "pygments_lexer": "ipython3",
   "version": "3.8.2"
  }
 },
 "nbformat": 4,
 "nbformat_minor": 1
}
