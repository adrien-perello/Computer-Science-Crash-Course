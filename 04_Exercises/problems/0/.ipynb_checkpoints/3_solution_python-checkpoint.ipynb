{
 "cells": [
  {
   "cell_type": "markdown",
   "metadata": {},
   "source": [
    "<h1>3. Longest Substring Without Repeating Characters</h1>\n",
    "<hr>\n",
    "\n",
    "<!--Copy Paste Leetcode statement between-->\n",
    "<p>Given a string <code>s</code>, find the length of the <b>longest substring</b> without repeating characters.</p>\n",
    "\n",
    "<p>&nbsp;</p>\n",
    "<p><strong>Example 1:</strong></p>\n",
    "\n",
    "<pre><strong>Input:</strong> s = \"abcabcbb\"\n",
    "<strong>Output:</strong> 3\n",
    "<strong>Explanation:</strong> The answer is \"abc\", with the length of 3.\n",
    "</pre>\n",
    "\n",
    "<p><strong>Example 2:</strong></p>\n",
    "\n",
    "<pre><strong>Input:</strong> s = \"bbbbb\"\n",
    "<strong>Output:</strong> 1\n",
    "<strong>Explanation:</strong> The answer is \"b\", with the length of 1.\n",
    "</pre>\n",
    "\n",
    "<p><strong>Example 3:</strong></p>\n",
    "\n",
    "<pre><strong>Input:</strong> s = \"pwwkew\"\n",
    "<strong>Output:</strong> 3\n",
    "<strong>Explanation:</strong> The answer is \"wke\", with the length of 3.\n",
    "Notice that the answer must be a substring, \"pwke\" is a subsequence and not a substring.\n",
    "</pre>\n",
    "\n",
    "<p><strong>Example 4:</strong></p>\n",
    "\n",
    "<pre><strong>Input:</strong> s = \"\"\n",
    "<strong>Output:</strong> 0\n",
    "</pre>\n",
    "\n",
    "<p>&nbsp;</p>\n",
    "<p><strong>Constraints:</strong></p>\n",
    "\n",
    "<ul>\n",
    "\t<li><code>0 &lt;= s.length &lt;= 5 * 10<sup>4</sup></code></li>\n",
    "\t<li><code>s</code> consists of English letters, digits, symbols and spaces.</li>\n",
    "</ul>\n",
    "<!--Copy Paste Leetcode statement between-->\n",
    "\n",
    "<p>&nbsp;</p>\n",
    "<a href=\"https://leetcode.com/problems/longest-substring-without-repeating-characters/\">Source</a> \n",
    "<hr>\n",
    "<h4>Code</h4>"
   ]
  },
  {
   "cell_type": "code",
   "execution_count": 1,
   "metadata": {},
   "outputs": [],
   "source": [
    "def length_longest_substring(string):\n",
    "    \"\"\"Naive Sliding Windows approach with Hash Table of booleans\n",
    "    Time complexity: O(n)\n",
    "    Space complexity: O(n)\n",
    "    \"\"\"\n",
    "    used = {}\n",
    "    left = max_length = 0\n",
    "    for right, char in enumerate(string):\n",
    "        while char in used:\n",
    "            del used[string[left]]\n",
    "            left += 1\n",
    "        used[char] = True\n",
    "        max_length = max(max_length, right-left+1)\n",
    "    return max_length"
   ]
  },
  {
   "cell_type": "code",
   "execution_count": 2,
   "metadata": {},
   "outputs": [],
   "source": [
    "def length_longest_substring(string):\n",
    "    \"\"\"Better Sliding Windows with Hash Table of index to avoid unecessary checks (i.e. the while loop)\n",
    "    Time complexity: O(n)\n",
    "    Space complexity: O(n)\n",
    "    \"\"\"\n",
    "    used = {}\n",
    "    left = max_length = 0\n",
    "    for right, char in enumerate(string):\n",
    "        if char in used and left <= used[char]:  # check last time we saw char, if it was after left\n",
    "            left = used[char]+1                  # and now start from index+1\n",
    "        used[char] = right                       # constantly update with most recent index\n",
    "        max_length = max(max_length, right-left+1)\n",
    "    return max_length"
   ]
  },
  {
   "cell_type": "markdown",
   "metadata": {},
   "source": [
    "<h4>Check</h4>"
   ]
  },
  {
   "cell_type": "code",
   "execution_count": 3,
   "metadata": {},
   "outputs": [
    {
     "data": {
      "text/plain": [
       "3"
      ]
     },
     "execution_count": 3,
     "metadata": {},
     "output_type": "execute_result"
    }
   ],
   "source": [
    "s = \"abcabcbb\"\n",
    "length_longest_substring(s)"
   ]
  },
  {
   "cell_type": "code",
   "execution_count": 4,
   "metadata": {},
   "outputs": [
    {
     "data": {
      "text/plain": [
       "1"
      ]
     },
     "execution_count": 4,
     "metadata": {},
     "output_type": "execute_result"
    }
   ],
   "source": [
    "s = \"bbbbb\"\n",
    "length_longest_substring(s)"
   ]
  },
  {
   "cell_type": "code",
   "execution_count": 5,
   "metadata": {},
   "outputs": [
    {
     "data": {
      "text/plain": [
       "3"
      ]
     },
     "execution_count": 5,
     "metadata": {},
     "output_type": "execute_result"
    }
   ],
   "source": [
    "s = \"pwwkew\"\n",
    "length_longest_substring(s)"
   ]
  },
  {
   "cell_type": "code",
   "execution_count": 6,
   "metadata": {},
   "outputs": [
    {
     "data": {
      "text/plain": [
       "0"
      ]
     },
     "execution_count": 6,
     "metadata": {},
     "output_type": "execute_result"
    }
   ],
   "source": [
    "s = \"\"\n",
    "length_longest_substring(s)"
   ]
  }
 ],
 "metadata": {
  "kernelspec": {
   "display_name": "Python 3",
   "language": "python",
   "name": "python3"
  },
  "language_info": {
   "codemirror_mode": {
    "name": "ipython",
    "version": 3
   },
   "file_extension": ".py",
   "mimetype": "text/x-python",
   "name": "python",
   "nbconvert_exporter": "python",
   "pygments_lexer": "ipython3",
   "version": "3.8.2"
  }
 },
 "nbformat": 4,
 "nbformat_minor": 1
}
