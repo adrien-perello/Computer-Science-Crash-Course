{
 "cells": [
  {
   "cell_type": "markdown",
   "metadata": {},
   "source": [
    "<h1>1143. Longest Common Subsequence</h1>\n",
    "<hr>\n",
    "\n",
    "<!--Copy Paste Leetcode statement between-->\n",
    "<p>Given two strings <code>text1</code> and <code>text2</code>, return the length of their longest common subsequence.</p>\n",
    "\n",
    "<p>A <em>subsequence</em> of a string is a new string generated from the original string with some characters(can be none) deleted without changing the relative order of the remaining characters. (eg, \"ace\" is a subsequence of \"abcde\" while \"aec\" is not).&nbsp;A <em>common subsequence</em>&nbsp;of two strings is a subsequence that is common to both strings.</p>\n",
    "\n",
    "<p>&nbsp;</p>\n",
    "\n",
    "<p>If there is no common subsequence, return 0.</p>\n",
    "\n",
    "<p>&nbsp;</p>\n",
    "<p><strong>Example 1:</strong></p>\n",
    "\n",
    "<pre><strong>Input:</strong> text1 = \"abcde\", text2 = \"ace\" \n",
    "<strong>Output:</strong> 3  \n",
    "<strong>Explanation:</strong> The longest common subsequence is \"ace\" and its length is 3.\n",
    "</pre>\n",
    "\n",
    "<p><strong>Example 2:</strong></p>\n",
    "\n",
    "<pre><strong>Input:</strong> text1 = \"abc\", text2 = \"abc\"\n",
    "<strong>Output:</strong> 3\n",
    "<strong>Explanation:</strong> The longest common subsequence is \"abc\" and its length is 3.\n",
    "</pre>\n",
    "\n",
    "<p><strong>Example 3:</strong></p>\n",
    "\n",
    "<pre><strong>Input:</strong> text1 = \"abc\", text2 = \"def\"\n",
    "<strong>Output:</strong> 0\n",
    "<strong>Explanation:</strong> There is no such common subsequence, so the result is 0.\n",
    "</pre>\n",
    "\n",
    "<p>&nbsp;</p>\n",
    "<p><strong>Constraints:</strong></p>\n",
    "\n",
    "<ul>\n",
    "\t<li><code>1 &lt;= text1.length &lt;= 1000</code></li>\n",
    "\t<li><code>1 &lt;= text2.length &lt;= 1000</code></li>\n",
    "\t<li>The input strings consist of lowercase English characters only.</li>\n",
    "</ul>\n",
    "<!--Copy Paste Leetcode statement between-->\n",
    "\n",
    "<p>&nbsp;</p>\n",
    "<a href=\"https://leetcode.com/problems/longest-common-subsequence/\">Source</a> \n",
    "<hr>"
   ]
  },
  {
   "cell_type": "markdown",
   "metadata": {},
   "source": [
    "<h4>Code</h4>"
   ]
  },
  {
   "cell_type": "code",
   "execution_count": 1,
   "metadata": {},
   "outputs": [],
   "source": [
    "def longest_common_subsequence(text1, text2):\n",
    "    \"\"\"Recursive solution with Memoization (end --> start)\n",
    "    Time Complexity: O(nm)\n",
    "    Space Complexity: O(n+m) (?)\n",
    "    \"\"\"\n",
    "    def helper(A, B, i, j):\n",
    "        nonlocal memo\n",
    "        if i < 0 or j < 0:\n",
    "            return 0\n",
    "        if memo[i][j] is None:\n",
    "            if A[i] == B[j]:\n",
    "                memo[i][j] = 1 + helper(A, B, i-1, j-1)\n",
    "            else:\n",
    "                memo[i][j] = max(helper(A, B, i-1, j), helper(A, B, i, j-1))\n",
    "        return memo[i][j]\n",
    "\n",
    "    rows = len(text1)\n",
    "    cols = len(text2)\n",
    "    memo = [[None]*(cols) for _ in range(rows)]\n",
    "    return helper(text1, text2, rows-1, cols-1)  # = memo[-1][-1]"
   ]
  },
  {
   "cell_type": "code",
   "execution_count": 2,
   "metadata": {},
   "outputs": [],
   "source": [
    "def longest_common_subsequence(text1, text2):\n",
    "    \"\"\"Recursive solution with Memoization (start --> end)\n",
    "    Time Complexity: O(nm)\n",
    "    Space Complexity: O(n+m) (?)\n",
    "    \"\"\"\n",
    "    def helper(A, B, i=0, j=0):\n",
    "        nonlocal memo\n",
    "        if memo[i][j] is None:\n",
    "            if i >= len(A) or j >= len(B):\n",
    "                memo[i][j] = 0\n",
    "            elif A[i] == B[j]:\n",
    "                memo[i][j] = 1 + helper(A, B, i+1, j+1)\n",
    "            else:\n",
    "                memo[i][j] = max(helper(A, B, i, j+1), helper(A, B, i+1, j))\n",
    "        return memo[i][j]\n",
    "\n",
    "    rows = len(text1)\n",
    "    cols = len(text2)\n",
    "    memo = [[None]*(cols+1) for _ in range(rows+1)]  # extra row + column\n",
    "    return helper(text1, text2)  # = memo[0][0]"
   ]
  },
  {
   "cell_type": "markdown",
   "metadata": {},
   "source": [
    "<h4>Check</h4>"
   ]
  },
  {
   "cell_type": "code",
   "execution_count": 3,
   "metadata": {},
   "outputs": [
    {
     "data": {
      "text/plain": [
       "5"
      ]
     },
     "execution_count": 3,
     "metadata": {},
     "output_type": "execute_result"
    }
   ],
   "source": [
    "a, b = \"ylqpejqbalahwr\", \"yrkzavgdmadgwtqrpg\"\n",
    "longest_common_subsequence(a, b)"
   ]
  },
  {
   "cell_type": "code",
   "execution_count": 4,
   "metadata": {
    "scrolled": false
   },
   "outputs": [
    {
     "data": {
      "text/plain": [
       "5"
      ]
     },
     "execution_count": 4,
     "metadata": {},
     "output_type": "execute_result"
    }
   ],
   "source": [
    "a, b = \"hofubmnylkra\", \"pqhgxgdofcvmr\"\n",
    "longest_common_subsequence(a, b)"
   ]
  },
  {
   "cell_type": "code",
   "execution_count": 5,
   "metadata": {},
   "outputs": [
    {
     "data": {
      "text/plain": [
       "6"
      ]
     },
     "execution_count": 5,
     "metadata": {},
     "output_type": "execute_result"
    }
   ],
   "source": [
    "a, b = \"emptybottle\", \"nematodeknowledge\"\n",
    "longest_common_subsequence(a, b)"
   ]
  },
  {
   "cell_type": "code",
   "execution_count": 6,
   "metadata": {},
   "outputs": [
    {
     "data": {
      "text/plain": [
       "2"
      ]
     },
     "execution_count": 6,
     "metadata": {},
     "output_type": "execute_result"
    }
   ],
   "source": [
    "a, b = \"ZAPSNW\", \"VOZSH\"\n",
    "longest_common_subsequence(a, b)"
   ]
  },
  {
   "cell_type": "code",
   "execution_count": 7,
   "metadata": {},
   "outputs": [
    {
     "data": {
      "text/plain": [
       "5"
      ]
     },
     "execution_count": 7,
     "metadata": {},
     "output_type": "execute_result"
    }
   ],
   "source": [
    "a, b = \"HEAGAWGHEA\", \"PAWHEAE\"\n",
    "longest_common_subsequence(a, b)"
   ]
  },
  {
   "cell_type": "code",
   "execution_count": 8,
   "metadata": {
    "scrolled": false
   },
   "outputs": [
    {
     "data": {
      "text/plain": [
       "22"
      ]
     },
     "execution_count": 8,
     "metadata": {},
     "output_type": "execute_result"
    }
   ],
   "source": [
    "a, b = \"GCCCAGTTATGTCAGGGGGCACGAGCATGCAGA\", \"GCCGCCGTCGTTTTCAGCAGTTATGTCAGAT\"\n",
    "longest_common_subsequence(a, b)"
   ]
  },
  {
   "cell_type": "markdown",
   "metadata": {},
   "source": [
    "<hr>\n",
    "<h4>Follow up #1:</h4>\n",
    "<p>Solve it both recursively and iteratively.</p>\n",
    "\n",
    "<h4>Code</h4>"
   ]
  },
  {
   "cell_type": "code",
   "execution_count": 9,
   "metadata": {},
   "outputs": [],
   "source": [
    "def longest_common_subsequence(text1, text2):\n",
    "    \"\"\"Iterative Dynamic programming solution (end --> start)\n",
    "    Time Complexity: O(nm)\n",
    "    Space Complexity: O(nm)\n",
    "    \"\"\"\n",
    "    rows = len(text1)\n",
    "    cols = len(text2)\n",
    "    DP = [[0]*(cols+1) for _ in range(rows+1)]  # extra row + column\n",
    "    #                                           # + None is not needed since everything is calculated\n",
    "    for i, char1 in enumerate(text1, 1):\n",
    "        for j, char2 in enumerate(text2, 1):\n",
    "            if char1 == char2:\n",
    "                DP[i][j] = DP[i-1][j-1] + 1\n",
    "            else:\n",
    "                DP[i][j] = max(DP[i-1][j], DP[i][j-1])\n",
    "\n",
    "    return DP[-1][-1]"
   ]
  },
  {
   "cell_type": "code",
   "execution_count": 10,
   "metadata": {},
   "outputs": [],
   "source": [
    "def longest_common_subsequence(text1, text2):\n",
    "    \"\"\"Iterative Dynamic programming solution (start --> end)\n",
    "    Time Complexity: O(nm)\n",
    "    Space Complexity: O(nm)\n",
    "    \"\"\"\n",
    "    rows = len(text1)\n",
    "    cols = len(text2)\n",
    "    DP = [[0]*(cols+1) for _ in range(rows+1)]  # extra row + column\n",
    "    #                                           # + None is not needed since everything is calculated\n",
    "    for (i, char1) in zip(range(rows-1, -1, -1), reversed(text1)):\n",
    "        for (j, char2) in zip(range(cols-1, -1, -1), reversed(text2)):\n",
    "            if char1 == char2:\n",
    "                DP[i][j] = DP[i+1][j+1] + 1\n",
    "            else:\n",
    "                DP[i][j] = max(DP[i+1][j], DP[i][j+1])\n",
    "\n",
    "    return DP[0][0]"
   ]
  },
  {
   "cell_type": "markdown",
   "metadata": {},
   "source": [
    "<hr>\n",
    "<h4>Follow up #2:</h4>\n",
    "<p>Solve it with minimum memory space</p>\n",
    "\n",
    "<h4>Code</h4>"
   ]
  },
  {
   "cell_type": "code",
   "execution_count": 11,
   "metadata": {},
   "outputs": [],
   "source": [
    "def longest_common_subsequence(text1, text2):\n",
    "    \"\"\"Dynamic Programming solution with min(m, n) Space complexity.\n",
    "    Reference: https://www.ics.uci.edu/~eppstein/161/960229.html\n",
    "\n",
    "    Time Complexity: O(nm)\n",
    "    Space Complexity: O(min(n,m))\n",
    "    \"\"\"\n",
    "    if len(text2) > len(text1):\n",
    "        text1, text2 = text2, text1  \n",
    "    rows = len(text1)\n",
    "    cols = len(text2)\n",
    "    DP = [[0]*(cols+1) for _ in range(2)]\n",
    "\n",
    "    for i, char1 in enumerate(text1):\n",
    "        for j, char2 in enumerate(text2):\n",
    "            if char1 == char2:\n",
    "                DP[1 - i%2][j+1] = 1 + DP[i%2][j]\n",
    "            else:\n",
    "                DP[1 - i%2][j+1] = max(DP[1 - i%2][j], DP[i % 2][j + 1])\n",
    "\n",
    "    return DP[rows%2][cols]"
   ]
  },
  {
   "cell_type": "code",
   "execution_count": 12,
   "metadata": {},
   "outputs": [],
   "source": [
    "def longest_common_subsequence(text1, text2):\n",
    "    \"\"\"Dynamic Programming solution with min(m, n) Space complexity.\n",
    "    Time Complexity: O(nm)\n",
    "    Space Complexity: O(min(n,m))\n",
    "    \"\"\"\n",
    "    if len(text2) > len(text1):\n",
    "        text1, text2 = text2, text1\n",
    "    cols = len(text2)\n",
    "    current = [0]*(cols+1)\n",
    "    previous = [0]*(cols+1)\n",
    "\n",
    "    for char1 in reversed(text1):  # Iterate on each column, starting from last (!! not clear why)\n",
    "        for (i, char2) in zip(range(cols-1, -1, -1), reversed(text2)):\n",
    "            if char1 == char2:\n",
    "                current[i] = previous[i+1] + 1\n",
    "            else:\n",
    "                current[i] = max(previous[i], current[i+1])\n",
    "        previous, current = current, previous\n",
    "    return previous[0]"
   ]
  },
  {
   "cell_type": "code",
   "execution_count": 13,
   "metadata": {},
   "outputs": [],
   "source": [
    "def longest_common_subsequence(text1, text2):\n",
    "    \"\"\"Same as above but with slight optimization: elif instead of max()\n",
    "    \"\"\"\n",
    "    if len(text2) > len(text1):\n",
    "        text1, text2 = text2, text1\n",
    "    cols = len(text2)\n",
    "    current = [0]*(cols+1)\n",
    "    previous = [0]*(cols+1)\n",
    "\n",
    "    for char1 in reversed(text1):\n",
    "        for (i, char2) in zip(range(cols-1, -1, -1), reversed(text2)):\n",
    "            current[i] = current[i+1]            # [DIFF]\n",
    "            if char1 == char2:\n",
    "                current[i] = 1 + previous[i+1]\n",
    "            elif current[i] < previous[i]:       # [DIFF]\n",
    "                current[i] = previous[i]\n",
    "        current, previous = previous, current\n",
    "    return previous[0]"
   ]
  },
  {
   "cell_type": "code",
   "execution_count": 14,
   "metadata": {},
   "outputs": [],
   "source": [
    "def longest_common_subsequence(text1, text2):\n",
    "    \"\"\"Alternative version of above solution but with even smaller Space complexity (single array)\n",
    "    Time Complexity: O(nm)\n",
    "    Space Complexity: O(min(n,m))\n",
    "    \"\"\"\n",
    "    if len(text2) > len(text1):\n",
    "        text1, text2 = text2, text1\n",
    "    cols = len(text2)\n",
    "    current = [0]*(cols+1)\n",
    "    \n",
    "    for char1 in text1:\n",
    "        cache = 0\n",
    "        for i, char2 in enumerate(text2):\n",
    "            temp = current[i+1]\n",
    "            if char1 == char2:\n",
    "                current[i+1] = cache + 1\n",
    "            else:\n",
    "                current[i+1] = max(current[i], current[i+1])\n",
    "            cache = temp\n",
    "    return current[-1]"
   ]
  },
  {
   "cell_type": "code",
   "execution_count": 15,
   "metadata": {},
   "outputs": [],
   "source": [
    "def longest_common_subsequence(text1, text2):\n",
    "    \"\"\"Slightly different version of above solution\n",
    "    \n",
    "dp[i][j] stores the length of LCS between text1[:i], text2[:j].\n",
    "And we can use rolling dp here to reduce space complexity to O(min(|text1|, |text2|)).\n",
    "When we handle dp[i+1][j+1], we can use a cache to store dp[i][j], dp2[j] stores dp[i+1][j] as dp2[j] has been processed at i+1th iteration.\n",
    "dp2[j+1] hasn't been processed yet so it still stores ith iteration value as dp[i][j+1]. After we update dp2[j+1] to dp[i+1][j+1], we need to update cache to dp[i][j+1] which is the old value of dp2[j+1].\n",
    "So we can have\n",
    "    \n",
    "    \n",
    "    \"\"\"\n",
    "    if len(text2) > len(text1):\n",
    "        text1, text2 = text2, text1\n",
    "    cols = len(text2)\n",
    "    current = [0]*(cols+1)\n",
    "\n",
    "    for char1 in text1:\n",
    "        cache = 0\n",
    "        for i, char2 in enumerate(text2):\n",
    "            if char1 == char2:\n",
    "                cache, current[i+1] = current[i+1], cache+1\n",
    "            else:\n",
    "                cache = current[i+1]\n",
    "                current[i+1] = max(current[i], current[i+1])\n",
    "    return current[-1]"
   ]
  },
  {
   "cell_type": "code",
   "execution_count": 16,
   "metadata": {},
   "outputs": [],
   "source": [
    "def longest_common_subsequence(text1, text2):\n",
    "    \"\"\"Fastest solution: greedy approach combined with 'global correction' \n",
    "    Time Complexity: 0(nm)\n",
    "    Space Complexity: O(len(sequence)) = O(min(n,m))\n",
    "    \n",
    "    Note: - low road subsequence alignment (by default ?)\n",
    "          - uncomment the ## lines for step by step details\n",
    "    \"\"\"\n",
    "    if len(text2) > len(text1):\n",
    "        text1, text2 = text2, text1\n",
    "    idx = [-1] # future text2 indexes of matching characters\n",
    "\n",
    "    for char in text1:\n",
    "        start = idx[-1] + 1                       # start at the last index in DP\n",
    "        if char in text2[start:]:                # if matching characters in substring, add its index\n",
    "            idx.append(text2.index(char, start))  # str.index(char,i,j) = idx of char in str[i,j]\n",
    "##         print(char, \"-> \", \"\".join((text2[i] for i in idx[1:]))) # uncoment for step by step process\n",
    "\n",
    "        for i in range(len(idx)-1, 0, -1):        # dp[0] = -1 (initialization)\n",
    "            start = idx[i-1]+1\n",
    "            end = idx[i]\n",
    "            if char in text2[start:end]:\n",
    "                idx[i] = text2.index(char, start, end)\n",
    "##                 print(\"  -> \", \"\".join((text2[i] for i in idx[1:]))) # uncoment for step by step process\n",
    "\n",
    "                \n",
    "    seq = \"\".join((text2[i] for i in idx[1:]))  \n",
    "    return len(seq)"
   ]
  },
  {
   "cell_type": "code",
   "execution_count": 17,
   "metadata": {},
   "outputs": [],
   "source": [
    "from collections import defaultdict\n",
    "from bisect import bisect_left\n",
    "\n",
    "def longest_common_subsequence(text1, text2):\n",
    "    \"\"\"Optimized version of above solution\"\"\"\n",
    "    def filter_char(arr):\n",
    "        \"\"\"select only relevant characters out of all the matching ones\n",
    "        Note: - high road subsequence alignment (by default ?)\n",
    "              - uncomment the ## lines for step by step details\n",
    "        \"\"\"\n",
    "##         print(\"matching characters to be filtered:\", \"\".join((text1[i] for i in arr)))\n",
    "        tail = [-1]\n",
    "        for i in arr:\n",
    "            if i > tail[-1]:     # if matching char comes after the previous one\n",
    "                tail.append(i)\n",
    "            else:                # if not, we keep the most interesting one\n",
    "                prev_i = bisect_left(tail, i)\n",
    "                tail[prev_i] = i\n",
    "##             print(text1[i], \"-> \", \"\".join((text1[i] for i in tail[1:])))\n",
    "        return tail[1:]\n",
    "\n",
    "\n",
    "    if len(text2) > len(text1):\n",
    "        text1, text2 = text2, text1\n",
    "\n",
    "    idx = defaultdict(list)\n",
    "    for i, c in enumerate(text1):  # decompose text1 in dictionnary where values = list of indexes\n",
    "        idx[c].append(i)\n",
    "    \n",
    "    table = [i for char in text2 for i in reversed(idx[char])]  # select (reversed) idx of all matching char\n",
    "    seq_idx = filter_char(table)\n",
    "    seq = \"\".join((text1[i] for i in seq_idx)) \n",
    "    return len(seq)"
   ]
  },
  {
   "cell_type": "markdown",
   "metadata": {},
   "source": [
    "<hr>\n",
    "<h4>Follow up #3:</h4>\n",
    "<p>Print the sequence itself instead of its length</p>\n",
    "\n",
    "<h4>Code</h4>"
   ]
  },
  {
   "cell_type": "code",
   "execution_count": 18,
   "metadata": {},
   "outputs": [],
   "source": [
    "from pandas import DataFrame\n",
    "\n",
    "def display(text1, text2, table):\n",
    "    data = DataFrame(table, index=list(text1), columns=list(text2))\n",
    "    print(data.fillna(\" \"))"
   ]
  },
  {
   "cell_type": "code",
   "execution_count": 19,
   "metadata": {},
   "outputs": [],
   "source": [
    "def backtrack(A, B, M, reverse=False):\n",
    "    \"\"\"Backtrack the table to find the sequence alignment\"\"\"\n",
    "    seq = \"\"\n",
    "    \n",
    "    if reverse:\n",
    "        i, j = 0,0\n",
    "        while i < len(A)-1 or j < len(B)-1:\n",
    "            if i < len(A)-1 and M[i][j] == M[i+1][j]:     # cond 1 and cond 2 could be swapped (= diff\n",
    "                i += 1\n",
    "            elif j < len(B)-1 and M[i][j] == M[i][j+1]:   # between high road vs down road alignment)\n",
    "                j += 1\n",
    "            else:\n",
    "                if A[i] == B[j]:\n",
    "                    seq += A[i]\n",
    "                i += 1\n",
    "                j += 1\n",
    "    \n",
    "    else:\n",
    "        i, j = len(M)-1, len(M[0])-1 \n",
    "        while i >= 0 or j >= 0:\n",
    "            if i > 0 and M[i][j] == M[i-1][j]:          # same here\n",
    "                i -= 1\n",
    "            elif j > 0 and M[i][j] == M[i][j-1]:\n",
    "                j -= 1\n",
    "            else:\n",
    "                if A[i] == B[j]:\n",
    "                    seq = A[i] + seq\n",
    "                i -= 1\n",
    "                j -= 1\n",
    "\n",
    "    return seq"
   ]
  },
  {
   "cell_type": "markdown",
   "metadata": {},
   "source": [
    "<hr>\n",
    "<p>Below are the functions seen at the begining, but they now call display() and backtrack()</p>"
   ]
  },
  {
   "cell_type": "code",
   "execution_count": 31,
   "metadata": {},
   "outputs": [],
   "source": [
    "def longest_common_subsequence(text1, text2):\n",
    "    \"\"\"recursive inorder\"\"\"\n",
    "    def helper(A, B, i, j):\n",
    "        nonlocal memo\n",
    "        if i < 0 or j < 0:\n",
    "            return 0\n",
    "        if memo[i][j] is None:\n",
    "            if A[i] == B[j]:\n",
    "                memo[i][j] = 1 + helper(A, B, i-1, j-1)\n",
    "            else:\n",
    "                memo[i][j] = max(helper(A, B, i-1, j), helper(A, B, i, j-1))\n",
    "        return memo[i][j]\n",
    "    rows = len(text1)\n",
    "    cols = len(text2)\n",
    "    memo = [[None]*(cols) for _ in range(rows)]  # None --> helps to see the values we didn't recurse on\n",
    "    helper(text1, text2, rows-1, cols-1)\n",
    "    \n",
    "    \n",
    "    display(text1, text2, memo)             # [NEW]\n",
    "    return backtrack(text1, text2, memo)    # [NEW]"
   ]
  },
  {
   "cell_type": "code",
   "execution_count": 24,
   "metadata": {},
   "outputs": [],
   "source": [
    "def longest_common_subsequence(text1, text2):\n",
    "    \"\"\"recursive reversed\"\"\"\n",
    "    def helper(A, B, i=0, j=0):\n",
    "        nonlocal memo\n",
    "        if memo[i][j] is None:\n",
    "            if i >= len(A) or j >= len(B):\n",
    "                memo[i][j] = 0\n",
    "            elif A[i] == B[j]:\n",
    "                memo[i][j] = 1 + helper(A, B, i+1, j+1)\n",
    "            else:\n",
    "                memo[i][j] = max(helper(A, B, i, j+1), helper(A, B, i+1, j))\n",
    "        return memo[i][j]\n",
    "\n",
    "    rows = len(text1)\n",
    "    cols = len(text2)\n",
    "    memo = [[None]*(cols+1) for _ in range(rows+1)]  # None --> helps to see the values we didn't recurse on\n",
    "    helper(text1, text2)\n",
    "\n",
    "    \n",
    "    display(text1+\" \", text2+\" \", memo)                         # [NEW]\n",
    "    return backtrack(text1+\" \", text2+\" \", memo, reverse=True)  # [NEW]"
   ]
  },
  {
   "cell_type": "code",
   "execution_count": 22,
   "metadata": {},
   "outputs": [],
   "source": [
    "def longest_common_subsequence(text1, text2):\n",
    "    \"\"\"iterative inorder\"\"\"\n",
    "    rows = len(text1)\n",
    "    cols = len(text2)\n",
    "    DP = [[0]*(cols+1) for _ in range(rows+1)]\n",
    "    for i, char1 in enumerate(text1, 1):\n",
    "        for j, char2 in enumerate(text2, 1):\n",
    "            if char1 == char2:\n",
    "                DP[i][j] = DP[i-1][j-1] + 1\n",
    "            else:\n",
    "                DP[i][j] = max(DP[i-1][j], DP[i][j-1])\n",
    "\n",
    "                \n",
    "    display(\" \"+text1, \" \"+text2, DP)           # [NEW]\n",
    "    return backtrack(\" \"+text1, \" \"+text2, DP)  # [NEW]"
   ]
  },
  {
   "cell_type": "code",
   "execution_count": 23,
   "metadata": {},
   "outputs": [],
   "source": [
    "def longest_common_subsequence(text1, text2):\n",
    "    \"\"\"iterative reversed\"\"\"\n",
    "    rows = len(text1)\n",
    "    cols = len(text2)\n",
    "    DP = [[0]*(cols+1) for _ in range(rows+1)]\n",
    "    for (i, char1) in zip(range(rows-1, -1, -1), reversed(text1)):\n",
    "        for (j, char2) in zip(range(cols-1, -1, -1), reversed(text2)):\n",
    "            if char1 == char2:\n",
    "                DP[i][j] = DP[i+1][j+1] + 1\n",
    "            else:\n",
    "                DP[i][j] = max(DP[i+1][j], DP[i][j+1])\n",
    "\n",
    "                \n",
    "    display(text1+\" \", text2+\" \", DP)                         # [NEW]\n",
    "    return backtrack(text1+\" \", text2+\" \", DP, reverse=True)  # [NEW]"
   ]
  },
  {
   "cell_type": "markdown",
   "metadata": {},
   "source": [
    "<h4>Check</h4>"
   ]
  },
  {
   "cell_type": "code",
   "execution_count": 32,
   "metadata": {},
   "outputs": [
    {
     "name": "stdout",
     "output_type": "stream",
     "text": [
      "   y  r  k  z  a  v  g  d  m  a  d  g  w  t  q  r  p  g\n",
      "y  1  1  1  1  1  1  1  1  1  1  1  1  1  1  1  1  1  1\n",
      "l  1  1  1  1  1  1  1  1  1  1  1  1  1  1  1  1  1  1\n",
      "q  1  1  1  1  1  1  1  1  1  1  1  1  1  1  2  2  2  2\n",
      "p  1  1  1  1  1  1  1  1  1  1  1  1  1  1  2  2  3  3\n",
      "e  1  1  1  1  1  1  1  1  1  1  1  1  1  1  2  2  3  3\n",
      "j  1  1  1  1  1  1  1  1  1  1  1  1  1  1  2  2  3  3\n",
      "q  1  1  1  1  1  1  1  1  1  1  1  1  1  1  2  2  3  3\n",
      "b  1  1  1  1  1  1  1  1  1  1  1  1  1  1  2  2  3  3\n",
      "a  1  1  1  1  2  2  2  2  2  2  2  2  2  2  2  2  3  3\n",
      "l  1  1  1  1  2  2  2  2  2  2  2  2  2  2  2  2  3  3\n",
      "a  1  1  1  1  2  2  2  2  2  3  3  3  3  3  3  3  3  3\n",
      "h  1  1  1  1  2  2  2  2  2  3  3  3  3  3  3  3  3  3\n",
      "w                                      4  4  4  4  4  4\n",
      "r                                               5  5  5\n"
     ]
    },
    {
     "data": {
      "text/plain": [
       "'yaawr'"
      ]
     },
     "execution_count": 32,
     "metadata": {},
     "output_type": "execute_result"
    }
   ],
   "source": [
    "a, b = \"ylqpejqbalahwr\", \"yrkzavgdmadgwtqrpg\"\n",
    "longest_common_subsequence(a, b)"
   ]
  },
  {
   "cell_type": "code",
   "execution_count": 33,
   "metadata": {
    "scrolled": false
   },
   "outputs": [
    {
     "name": "stdout",
     "output_type": "stream",
     "text": [
      "   p  q  h  g  x  g  d  o  f  c  v  m  r\n",
      "h  0  0  1  1  1  1  1  1  1  1  1      \n",
      "o  0  0  1  1  1  1  1  2  2  2  2      \n",
      "f  0  0  1  1  1  1  1  2  3  3  3      \n",
      "u  0  0  1  1  1  1  1  2  3  3  3      \n",
      "b  0  0  1  1  1  1  1  2  3  3  3      \n",
      "m  0  0  1  1  1  1  1  2  3  3  3  4   \n",
      "n  0  0  1  1  1  1  1  2  3  3  3  4   \n",
      "y  0  0  1  1  1  1  1  2  3  3  3  4   \n",
      "l  0  0  1  1  1  1  1  2  3  3  3  4   \n",
      "k  0  0  1  1  1  1  1  2  3  3  3  4   \n",
      "r  0  0  1  1  1  1  1  2  3  3  3  4  5\n",
      "a  0  0  1  1  1  1  1  2  3  3  3  4  5\n"
     ]
    },
    {
     "data": {
      "text/plain": [
       "'hofmr'"
      ]
     },
     "execution_count": 33,
     "metadata": {},
     "output_type": "execute_result"
    }
   ],
   "source": [
    "a, b = \"hofubmnylkra\", \"pqhgxgdofcvmr\"\n",
    "longest_common_subsequence(a, b)"
   ]
  },
  {
   "cell_type": "code",
   "execution_count": 34,
   "metadata": {},
   "outputs": [
    {
     "name": "stdout",
     "output_type": "stream",
     "text": [
      "   n  e  m  a  t  o  d  e  k  n  o  w  l  e  d  g  e\n",
      "e  0  1  1  1  1  1  1  1  1  1  1  1  1  1  1  1   \n",
      "m  0  1  2  2  2  2  2  2  2  2  2  2  2  2  2  2   \n",
      "p  0  1  2  2  2  2  2  2  2  2  2  2  2  2  2  2   \n",
      "t  0  1  2  2  3  3  3  3  3  3  3  3  3  3  3  3   \n",
      "y  0  1  2  2  3  3  3  3  3  3  3  3  3  3  3  3   \n",
      "b  0  1  2  2  3  3  3  3  3  3  3  3  3  3  3  3   \n",
      "o  0  1  2  2     4  4  4  4  4  4  4  4  4  4  4   \n",
      "t  0  1  2  2  3  4  4  4  4  4  4  4  4  4  4  4   \n",
      "t              3  4  4  4  4  4  4  4  4  4  4  4   \n",
      "l                                      5  5  5  5   \n",
      "e                                                  6\n"
     ]
    },
    {
     "data": {
      "text/plain": [
       "'emtole'"
      ]
     },
     "execution_count": 34,
     "metadata": {},
     "output_type": "execute_result"
    }
   ],
   "source": [
    "a, b = \"emptybottle\", \"nematodeknowledge\"\n",
    "longest_common_subsequence(a, b)"
   ]
  },
  {
   "cell_type": "code",
   "execution_count": 35,
   "metadata": {},
   "outputs": [
    {
     "name": "stdout",
     "output_type": "stream",
     "text": [
      "   V  O  Z  S  H\n",
      "Z  0  0  1  1  1\n",
      "A  0  0  1  1  1\n",
      "P  0  0  1  1  1\n",
      "S  0  0  1  2  2\n",
      "N  0  0  1  2  2\n",
      "W  0  0  1  2  2\n"
     ]
    },
    {
     "data": {
      "text/plain": [
       "'ZS'"
      ]
     },
     "execution_count": 35,
     "metadata": {},
     "output_type": "execute_result"
    }
   ],
   "source": [
    "a, b = \"ZAPSNW\", \"VOZSH\"\n",
    "longest_common_subsequence(a, b)"
   ]
  },
  {
   "cell_type": "code",
   "execution_count": 36,
   "metadata": {},
   "outputs": [
    {
     "name": "stdout",
     "output_type": "stream",
     "text": [
      "   P  A  W  H  E  A  E\n",
      "H  0  0  0  1         \n",
      "E  0  0  0  1  2      \n",
      "A  0  1  1  1  2      \n",
      "G  0  1  1  1  2      \n",
      "A  0  1  1  1  2  3   \n",
      "W  0  1  2  2  2  3   \n",
      "G  0  1  2  2  2  3   \n",
      "H           3  3  3   \n",
      "E              4     4\n",
      "A                 5  5\n"
     ]
    },
    {
     "data": {
      "text/plain": [
       "'AWHEA'"
      ]
     },
     "execution_count": 36,
     "metadata": {},
     "output_type": "execute_result"
    }
   ],
   "source": [
    "a, b = \"HEAGAWGHEA\", \"PAWHEAE\"\n",
    "longest_common_subsequence(a, b)"
   ]
  },
  {
   "cell_type": "code",
   "execution_count": 37,
   "metadata": {
    "scrolled": false
   },
   "outputs": [
    {
     "name": "stdout",
     "output_type": "stream",
     "text": [
      "   G  C  C  G  C  C  G  T  C  G  ...   T   A   T   G   T   C   A   G   A   T\n",
      "G  1  1     1  1     1  1     1  ...                                        \n",
      "C  1  2  2  2  2  2  2  2  2  2  ...                                        \n",
      "C  1  2  3  3  3  3  3  3  3  3  ...                                        \n",
      "C  1  2  3  3  4  4  4  4  4  4  ...                                        \n",
      "A  1  2  3  3  4  4  4  4  4  4  ...                                        \n",
      "G  1  2  3  4  4  4  5  5  5  5  ...                                        \n",
      "T  1  2  3  4  4  4  5  6  6  6  ...                                        \n",
      "T  1  2  3  4  4  4  5  6  6  6  ...   8                                    \n",
      "A  1  2  3  4  4  4  5  6  6  6  ...       9                                \n",
      "T  1  2  3  4  4  4     6  6     ...   9   9  10                            \n",
      "G  1  2  3  4  4  4  5  6  6  7  ...   9   9      11                        \n",
      "T  1  2  3  4  4  4  5  6  6  7  ...  10  10  10  11  12                    \n",
      "C  1  2  3  4  5  5  5  6  7  7  ...  10  10  10  11  12                    \n",
      "A  1  2  3  4  5  5  5  6  7  7  ...  11  11  11  11  12                    \n",
      "G  1  2  3  4  5  5  6  6  7  8  ...  12  12  12  12  12                    \n",
      "G  1  2  3  4  5  5  6  6  7  8  ...  13  13  13  13  13                    \n",
      "G  1  2  3  4  5  5  6  6  7  8  ...  13  13  13  14  14                    \n",
      "G  1  2  3  4  5  5  6  6  7  8  ...  13  13  13  14  14                    \n",
      "G  1  2     4  5     6  6     8  ...  13  13  13  14  14                    \n",
      "C  1  2  3  4  5  6  6  6  7  8  ...  13  13  13  14  14                    \n",
      "A  1  2  3  4  5  6  6  6  7  8  ...  14  14  14  14  14                    \n",
      "C                          7  8  ...  14  14  14  14  14  15                \n",
      "G                             8  ...  15  15  15  15  15  15                \n",
      "A                                ...  15  16  16  16  16  16  16            \n",
      "G                                ...  15  16  16  17  17  17  17  17        \n",
      "C                                ...  15  16  16  17  17  18  18  18        \n",
      "A                                ...      16  16  17  17  18  19  19  19    \n",
      "T                                ...          17      18  18  19  19  19  20\n",
      "G                                ...              18  18  18  19  20  20  20\n",
      "C                                ...                      19  19  20  20  20\n",
      "A                                ...                          20      21  21\n",
      "G                                ...                              21  21  21\n",
      "A                                ...                                  22  22\n",
      "\n",
      "[33 rows x 31 columns]\n"
     ]
    },
    {
     "data": {
      "text/plain": [
       "'GCCCGTTTTCAGCAGAGTCAGA'"
      ]
     },
     "execution_count": 37,
     "metadata": {},
     "output_type": "execute_result"
    }
   ],
   "source": [
    "a, b = \"GCCCAGTTATGTCAGGGGGCACGAGCATGCAGA\", \"GCCGCCGTCGTTTTCAGCAGTTATGTCAGAT\"\n",
    "longest_common_subsequence(a, b)"
   ]
  }
 ],
 "metadata": {
  "kernelspec": {
   "display_name": "Python 3",
   "language": "python",
   "name": "python3"
  },
  "language_info": {
   "codemirror_mode": {
    "name": "ipython",
    "version": 3
   },
   "file_extension": ".py",
   "mimetype": "text/x-python",
   "name": "python",
   "nbconvert_exporter": "python",
   "pygments_lexer": "ipython3",
   "version": "3.8.2"
  }
 },
 "nbformat": 4,
 "nbformat_minor": 1
}
