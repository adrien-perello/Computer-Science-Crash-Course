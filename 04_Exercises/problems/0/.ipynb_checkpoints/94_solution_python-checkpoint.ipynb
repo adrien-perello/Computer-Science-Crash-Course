{
 "cells": [
  {
   "cell_type": "markdown",
   "metadata": {},
   "source": [
    "<h1>94. Binary Tree Inorder Traversal</h1>\n",
    "<hr>\n",
    "\n",
    "<!--Copy Paste Leetcode statement between-->\n",
    "<p>Given the <code>root</code> of a binary tree, return <em>the inorder traversal of its nodes' values</em>.</p>\n",
    "\n",
    "<p>&nbsp;</p>\n",
    "<p><strong>Example 1:</strong></p>\n",
    "<img alt=\"\" src=\"./img1.jpeg\" style=\"width: 202px; height: 324px;\">\n",
    "<pre><strong>Input:</strong> root = [1,null,2,3]\n",
    "<strong>Output:</strong> [1,3,2]\n",
    "</pre>\n",
    "<p>&nbsp;</p>\n",
    "<p><strong>Example 2:</strong></p>\n",
    "\n",
    "<pre><strong>Input:</strong> root = []\n",
    "<strong>Output:</strong> []\n",
    "</pre>\n",
    "<p>&nbsp;</p>\n",
    "<p><strong>Example 3:</strong></p>\n",
    "\n",
    "<pre><strong>Input:</strong> root = [1]\n",
    "<strong>Output:</strong> [1]\n",
    "</pre>\n",
    "<p>&nbsp;</p>\n",
    "<p><strong>Example 4:</strong></p>\n",
    "<img alt=\"\" src=\"./img2.jpeg\" style=\"width: 202px; height: 202px;\">\n",
    "<pre><strong>Input:</strong> root = [1,2]\n",
    "<strong>Output:</strong> [2,1]\n",
    "</pre>\n",
    "<p>&nbsp;</p>\n",
    "<p><strong>Example 5:</strong></p>\n",
    "<img alt=\"\" src=\"./img3.jpeg\" style=\"width: 202px; height: 202px;\">\n",
    "<pre><strong>Input:</strong> root = [1,null,2]\n",
    "<strong>Output:</strong> [1,2]\n",
    "</pre>\n",
    "\n",
    "<p>&nbsp;</p>\n",
    "<p><strong>Constraints:</strong></p>\n",
    "\n",
    "<ul>\n",
    "\t<li>The number of nodes in the tree is in the range <code>[0, 100]</code>.</li>\n",
    "\t<li><code>-100 &lt;= Node.val &lt;= 100</code></li>\n",
    "</ul>\n",
    "\n",
    "<p>&nbsp;</p>\n",
    "\n",
    "<p><strong>Follow up:</strong></p>\n",
    "\n",
    "<p>Recursive solution is trivial, could you do it iteratively?</p>\n",
    "\n",
    "<p>&nbsp;</p>\n",
    "<!--Copy Paste Leetcode statement between-->\n",
    "\n",
    "<p>&nbsp;</p>\n",
    "<a href=\"https://leetcode.com/problems/binary-tree-inorder-traversal/\">Source</a> \n",
    "<hr>"
   ]
  },
  {
   "cell_type": "code",
   "execution_count": 1,
   "metadata": {},
   "outputs": [],
   "source": [
    "# Definition for a binary tree node.\n",
    "class TreeNode:\n",
    "    def __init__(self, val=0, left=None, right=None):\n",
    "        self.val = val\n",
    "        self.left = left\n",
    "        self.right = right"
   ]
  },
  {
   "cell_type": "markdown",
   "metadata": {},
   "source": [
    "<h4>Code</h4>"
   ]
  },
  {
   "cell_type": "code",
   "execution_count": 2,
   "metadata": {},
   "outputs": [],
   "source": [
    "def inorder_traversal(root):\n",
    "    if not root:\n",
    "        return None\n",
    "\n",
    "    def helper(node):\n",
    "        if not node:\n",
    "            return\n",
    "        nonlocal traversal\n",
    "        helper(node.left)\n",
    "        traversal.append(node.val)\n",
    "        helper(node.right)\n",
    "\n",
    "    traversal = []\n",
    "    helper(root)\n",
    "    return traversal"
   ]
  },
  {
   "cell_type": "markdown",
   "metadata": {},
   "source": [
    "<hr>\n",
    "<h4>Follow up:</h4>\n",
    "<p>Solve it both recursively and iteratively.</p>\n",
    "\n",
    "<h4>Code</h4>"
   ]
  },
  {
   "cell_type": "code",
   "execution_count": null,
   "metadata": {},
   "outputs": [],
   "source": [
    "def inorder_traversal(root):\n",
    "    \"\"\"Inorder iterative. using 2 stacks\"\"\"\n",
    "    stack = []\n",
    "    traversal = []\n",
    "    node = root\n",
    "    while node or stack:\n",
    "        while node:  # go to the leftmost child\n",
    "            stack.append(node)\n",
    "            node = node.left\n",
    "        # if no more left child, get the 1st right node and check for leftmost child again\n",
    "        node = stack.pop()\n",
    "        traversal.append(node.val)  # print\n",
    "        node = node.right\n",
    "\n",
    "    return traversal"
   ]
  },
  {
   "cell_type": "code",
   "execution_count": null,
   "metadata": {},
   "outputs": [],
   "source": [
    "def inorder_traversal(root):\n",
    "    \"\"\"Single loop alternative using 2 stacks\"\"\"\n",
    "    stack = []\n",
    "    traversal = []\n",
    "    node = root\n",
    "    while stack or node:\n",
    "        if node:\n",
    "            stack.append(node)\n",
    "            node = node.left\n",
    "        else:\n",
    "            tmp_node = stack.pop()\n",
    "            traversal.append(tmp_node.val)  # print\n",
    "            node = tmp_node.right\n",
    "\n",
    "    return traversal"
   ]
  },
  {
   "cell_type": "code",
   "execution_count": null,
   "metadata": {},
   "outputs": [],
   "source": [
    "from collections import deque\n",
    "\n",
    "def inorder_traversal(root):\n",
    "    \"\"\"Inorder iterative. using 1 stack + 1 queue\"\"\"\n",
    "    stack = []\n",
    "    traversal = deque()\n",
    "    node = root\n",
    "    while node or stack:\n",
    "        # travel to each node's left child until leaf\n",
    "        while node:\n",
    "            stack.append(node)\n",
    "            node = node.left\n",
    "        node = stack.pop()\n",
    "        traversal.appendleft(node.val)  # print\n",
    "        node = node.right\n",
    "\n",
    "    return reversed(traversal)"
   ]
  },
  {
   "cell_type": "code",
   "execution_count": null,
   "metadata": {},
   "outputs": [],
   "source": [
    "from collections import deque\n",
    "\n",
    "def inorder_traversal(root):\n",
    "    \"\"\"Single loop alternative 1 stack + 1 queue\"\"\"\n",
    "    stack = []\n",
    "    traversal = deque()\n",
    "    node = root\n",
    "    while stack or node:\n",
    "        if node:\n",
    "            stack.append(node)\n",
    "            node = node.left\n",
    "        else:\n",
    "            tmp_node = stack.pop()\n",
    "            traversal.appendleft(tmp_node.val)  # print\n",
    "            node = tmp_node.right\n",
    "\n",
    "    return reversed(traversal)"
   ]
  }
 ],
 "metadata": {
  "kernelspec": {
   "display_name": "Python 3",
   "language": "python",
   "name": "python3"
  },
  "language_info": {
   "codemirror_mode": {
    "name": "ipython",
    "version": 3
   },
   "file_extension": ".py",
   "mimetype": "text/x-python",
   "name": "python",
   "nbconvert_exporter": "python",
   "pygments_lexer": "ipython3",
   "version": "3.8.2"
  }
 },
 "nbformat": 4,
 "nbformat_minor": 1
}
