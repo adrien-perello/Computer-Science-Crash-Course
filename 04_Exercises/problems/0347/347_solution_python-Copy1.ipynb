{
 "cells": [
  {
   "cell_type": "markdown",
   "metadata": {},
   "source": [
    "<h1>347. Top K Frequent Elements</h1>\n",
    "<hr>\n",
    "\n",
    "<!--Copy Paste Leetcode statement between-->\n",
    "<div><p>Given a non-empty array of integers, return the <b><i>k</i></b> most frequent elements.</p>\n",
    "\n",
    "<p><strong>Example 1:</strong></p>\n",
    "\n",
    "<pre><strong>Input: </strong>nums = <span id=\"example-input-1-1\">[1,1,1,2,2,3]</span>, k = <span id=\"example-input-1-2\">2</span>\n",
    "<strong>Output: </strong><span id=\"example-output-1\">[1,2]</span>\n",
    "</pre>\n",
    "\n",
    "<div>\n",
    "<p><strong>Example 2:</strong></p>\n",
    "\n",
    "<pre><strong>Input: </strong>nums = <span id=\"example-input-2-1\">[1]</span>, k = <span id=\"example-input-2-2\">1</span>\n",
    "<strong>Output: </strong><span id=\"example-output-2\">[1]</span></pre>\n",
    "</div>\n",
    "\n",
    "<p><b>Note: </b></p>\n",
    "\n",
    "<ul>\n",
    "\t<li>You may assume <i>k</i> is always valid, 1 ≤ <i>k</i> ≤ number of unique elements.</li>\n",
    "\t<li>Your algorithm's time complexity <b>must be</b> better than O(<i>n</i> log <i>n</i>), where <i>n</i> is the array's size.</li>\n",
    "\t<li>It's guaranteed that the answer is unique, in other words the set of the top k frequent elements is unique.</li>\n",
    "\t<li>You can return the answer in any order.</li>\n",
    "</ul>\n",
    "</div>\n",
    "<!--Copy Paste Leetcode statement between-->\n",
    "\n",
    "<p>&nbsp;</p>\n",
    "<a href=\"https://leetcode.com/problems/top-k-frequent-elements/\">Source</a> \n",
    "<hr>"
   ]
  },
  {
   "cell_type": "markdown",
   "metadata": {},
   "source": [
    "<h4>Code</h4>\n",
    "<p>Naive approach O(nlog n)</p>"
   ]
  },
  {
   "cell_type": "code",
   "execution_count": 4,
   "metadata": {},
   "outputs": [],
   "source": [
    "# Naive solutions in O(nlogn)\n",
    "from collections import Counter\n",
    "\n",
    "def top_k_frequent(nums, k):\n",
    "    \"\"\"Fast solution but O(nlogn)\"\"\"\n",
    "    frequency = sorted(Counter(nums).items(), key=lambda item: -item[1])  # list of tuples\n",
    "    return [tup[0] for tup in frequency][:k]"
   ]
  },
  {
   "cell_type": "code",
   "execution_count": 5,
   "metadata": {},
   "outputs": [],
   "source": [
    "# Naive solutions in O(nlogn)\n",
    "from collections import Counter\n",
    "\n",
    "def top_k_frequent(nums, k):\n",
    "    \"\"\"variation of above solution using builtin method most_common()\"\"\"\n",
    "    frequency = Counter(nums).most_common(k)\n",
    "    return [tup[0] for tup in frequency]"
   ]
  },
  {
   "cell_type": "markdown",
   "metadata": {},
   "source": [
    "<p>&nbsp;</p>\n",
    "<p>Using Heaps O(nlog k)</p>"
   ]
  },
  {
   "cell_type": "code",
   "execution_count": 6,
   "metadata": {},
   "outputs": [],
   "source": [
    "from heapq import nsmallest\n",
    "from collections import Counter\n",
    "\n",
    "def top_k_frequent(nums, k):\n",
    "    \"\"\"Using builtin methods nsmallest() from heapq\n",
    "    Note: nsmallest --> no need to heapify all the array nums (only need array of size k)\n",
    "    \n",
    "    Time Complexity: O(nlog k)\n",
    "    Space Complexity O(n)\n",
    "    \"\"\"\n",
    "    tup_list = [(-freq, key) for key, freq in Counter(nums).items()]  # heapq = only minheap\n",
    "    return [tup[1] for tup in nsmallest(k, tup_list)]   # since implied in nsmallest()"
   ]
  },
  {
   "cell_type": "code",
   "execution_count": 7,
   "metadata": {},
   "outputs": [],
   "source": [
    "from heapq import nsmallest\n",
    "from collections import Counter\n",
    "\n",
    "def top_k_frequent(nums, k):\n",
    "    \"\"\"Variation of above solution\n",
    "    \"\"\"\n",
    "    frequency = Counter(nums)\n",
    "    return nsmallest(k, frequency, key=lambda x: -frequency[x])"
   ]
  },
  {
   "cell_type": "code",
   "execution_count": null,
   "metadata": {},
   "outputs": [],
   "source": [
    "from heapq import nlargest\n",
    "from collections import Counter\n",
    "\n",
    "def top_k_frequent(nums, k):\n",
    "    \"\"\"Using nlargest() instead of nsmallest()\n",
    "    \"\"\"\n",
    "    tup_list = [(freq, key) for key, freq in Counter(nums).items()]\n",
    "    return [tup[1] for tup in nlargest(k, tup_list)]"
   ]
  },
  {
   "cell_type": "code",
   "execution_count": null,
   "metadata": {},
   "outputs": [],
   "source": [
    "from heapq import nlargest\n",
    "from collections import Counter\n",
    "\n",
    "def top_k_frequent(nums, k):\n",
    "    \"\"\"Using nlargest() instead of nsmallest()\n",
    "    \"\"\"\n",
    "    frequency = Counter(nums)\n",
    "    return nlargest(k, frequency, key=lambda x: frequency[x])"
   ]
  },
  {
   "cell_type": "markdown",
   "metadata": {},
   "source": [
    "<p>&nbsp;</p>\n",
    "<p>Using bucket sort</p>"
   ]
  },
  {
   "cell_type": "code",
   "execution_count": 109,
   "metadata": {},
   "outputs": [],
   "source": [
    "from collections import Counter\n",
    "from functools import reduce\n",
    "from itertools import chain\n",
    "from operator import iconcat # operator +=\n",
    "\n",
    "def top_k_frequent(nums, k):\n",
    "    \"\"\"frequency of any element can not be more than n --> create array of size n\n",
    "    Time Complexity: O(n)\n",
    "    Space Complexity: O(n)\n",
    "    \"\"\"\n",
    "    bucket = [[] for _ in range(len(nums)+1)]\n",
    "    frequency = Counter(nums).items()  \n",
    "    for key, freq in frequency:\n",
    "        bucket[freq] += key, \n",
    "\n",
    "    result = [item for sublist in bucket for item in sublist]  # Option 1 \n",
    "    result = reduce(iconcat, bucket, [])                       # Option 2\n",
    "    result = chain(*bucket)                                    # Option 3\n",
    "\n",
    "    return result[-k:]  # !! Option 3 requires list conversion first"
   ]
  },
  {
   "cell_type": "markdown",
   "metadata": {},
   "source": [
    "<p>&nbsp;</p>\n",
    "<p>Using <a href=\"https://nbviewer.jupyter.org/github/adrien-perelloyb/leetcode/blob/main/lessons/selection_algo.ipynb\">Quick Select</a> (itself based on <a href=\"https://nbviewer.jupyter.org/github/adrien-perelloyb/leetcode/blob/main/lessons/sorting_algo.ipynb\">Quick Sort</a>)</p>"
   ]
  },
  {
   "cell_type": "code",
   "execution_count": 44,
   "metadata": {},
   "outputs": [],
   "source": [
    "from random import randint\n",
    "\n",
    "def top_k_frequent(nums, k):\n",
    "    \"\"\"Do a partial sort: from less frequent to the most frequent, until\n",
    "    (n - k)th less frequent element takes its (n - k) place in a sorted array. \n",
    "    All element on the left are less frequent.\n",
    "    All the elements on the right are more frequent.  \n",
    "    \n",
    "    Time Complexity: O(n) on average O(n²) in worst case (improbable)\n",
    "    Space Complexity: O(k) (? stack of recursive calls)\n",
    "    \"\"\"\n",
    "    \n",
    "    def partition(left, right, pivot_idx):\n",
    "        pivot_freq = frequency[elements[pivot_idx]]\n",
    "        elements[pivot_idx], elements[right] = elements[right], elements[pivot_idx]  # move pivot to end\n",
    "        pivot_idx = left\n",
    "\n",
    "        for i in range(left, right):  # move all less frequent elements to the left\n",
    "            if frequency[elements[i]] < pivot_freq:\n",
    "                elements[pivot_idx], elements[i] = elements[i], elements[pivot_idx]\n",
    "                pivot_idx += 1\n",
    "        elements[right], elements[pivot_idx] = elements[pivot_idx], elements[right]  # mv pivot to final place\n",
    "        return pivot_idx\n",
    "\n",
    "    def quick_select(start, end, k):\n",
    "        if start == end:  # base case: the list contains only one element\n",
    "            return elements[start]\n",
    "        pivot_idx = randint(start, end)               # select a random pivot_index       \n",
    "        pivot_idx = partition(start, end, pivot_idx)  # find the pivot position in a sorted list   \n",
    "        if k == pivot_idx:                            # if the pivot is in its final sorted position\n",
    "             return elements[start]\n",
    "        if k < pivot_idx:                             # if not,go left\n",
    "            end = pivot_idx - 1\n",
    "        else:                                         # or go right\n",
    "            start = pivot_idx + 1\n",
    "        return quick_select(start, end, k)\n",
    "\n",
    "\n",
    "    frequency = Counter(nums)\n",
    "    elements = list(frequency.keys())\n",
    "    n = len(elements) \n",
    "    quick_select(0, n - 1, n - k)   # kth top frequent element = (n - k)th less frequent.\n",
    "    return elements[n - k:]"
   ]
  },
  {
   "cell_type": "markdown",
   "metadata": {},
   "source": [
    "<h4>Check</h4>"
   ]
  },
  {
   "cell_type": "code",
   "execution_count": 110,
   "metadata": {},
   "outputs": [
    {
     "data": {
      "text/plain": [
       "[2, 1]"
      ]
     },
     "execution_count": 110,
     "metadata": {},
     "output_type": "execute_result"
    }
   ],
   "source": [
    "nums, k = [1,1,1,2,2,3], 2\n",
    "top_k_frequent(nums, k)"
   ]
  },
  {
   "cell_type": "code",
   "execution_count": 46,
   "metadata": {},
   "outputs": [
    {
     "data": {
      "text/plain": [
       "[1]"
      ]
     },
     "execution_count": 46,
     "metadata": {},
     "output_type": "execute_result"
    }
   ],
   "source": [
    "nums, k = [1], 1\n",
    "top_k_frequent(nums, k)"
   ]
  },
  {
   "cell_type": "code",
   "execution_count": 93,
   "metadata": {},
   "outputs": [
    {
     "name": "stdout",
     "output_type": "stream",
     "text": [
      "[11, 11, 11, 11, 4, 4, 4, 19, 19, 7]\n"
     ]
    },
    {
     "data": {
      "text/plain": [
       "[19, 11, 4]"
      ]
     },
     "execution_count": 93,
     "metadata": {},
     "output_type": "execute_result"
    }
   ],
   "source": [
    "nums, k = [], 3\n",
    "for i in range(4,0,-1):\n",
    "    nums.extend([randint(0,20)]*i)\n",
    "print(nums)\n",
    "top_k_frequent(nums, k)"
   ]
  }
 ],
 "metadata": {
  "kernelspec": {
   "display_name": "Python 3",
   "language": "python",
   "name": "python3"
  },
  "language_info": {
   "codemirror_mode": {
    "name": "ipython",
    "version": 3
   },
   "file_extension": ".py",
   "mimetype": "text/x-python",
   "name": "python",
   "nbconvert_exporter": "python",
   "pygments_lexer": "ipython3",
   "version": "3.8.2"
  }
 },
 "nbformat": 4,
 "nbformat_minor": 1
}
