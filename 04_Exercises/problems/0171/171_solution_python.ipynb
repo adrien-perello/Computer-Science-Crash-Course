{
 "cells": [
  {
   "cell_type": "markdown",
   "metadata": {},
   "source": [
    "<h1>171. Excel Sheet Column Number</h1>\n",
    "<hr>\n",
    "\n",
    "<!--Copy Paste Leetcode statement between-->\n",
    "<p>Given a column title as appear in an Excel sheet, return its corresponding column number.</p>\n",
    "\n",
    "<p>For example:</p>\n",
    "\n",
    "<pre>    A -&gt; 1\n",
    "    B -&gt; 2\n",
    "    C -&gt; 3\n",
    "    ...\n",
    "    Z -&gt; 26\n",
    "    AA -&gt; 27\n",
    "    AB -&gt; 28 \n",
    "    ...\n",
    "</pre>\n",
    "\n",
    "<p><strong>Example 1:</strong></p>\n",
    "\n",
    "<pre><strong>Input:</strong> \"A\"\n",
    "<strong>Output:</strong> 1\n",
    "</pre>\n",
    "\n",
    "<p><strong>Example 2:</strong></p>\n",
    "\n",
    "<pre><strong>Input: </strong>\"AB\"\n",
    "<strong>Output:</strong> 28\n",
    "</pre>\n",
    "\n",
    "<p><strong>Example 3:</strong></p>\n",
    "\n",
    "<pre><strong>Input: </strong>\"ZY\"\n",
    "<strong>Output:</strong> 701\n",
    "</pre>\n",
    "<p>&nbsp;</p>\n",
    "<p><strong>Constraints:</strong></p>\n",
    "\n",
    "<ul>\n",
    "\t<li><code>1 &lt;= s.length &lt;= 7</code></li>\n",
    "\t<li><code>s</code> consists only of uppercase English letters.</li>\n",
    "\t<li><code>s</code> is between \"A\" and \"FXSHRXW\".</li>\n",
    "</ul>\n",
    "<!--Copy Paste Leetcode statement between-->\n",
    "\n",
    "<p>&nbsp;</p>\n",
    "<a href=\"https://leetcode.com/problems/excel-sheet-column-number/\">Source</a> \n",
    "<hr>\n",
    "\n",
    "<h4>Code</h4>"
   ]
  },
  {
   "cell_type": "code",
   "execution_count": 1,
   "metadata": {},
   "outputs": [],
   "source": [
    "def title_to_number(s):\n",
    "    def alpha_to_num(letter):\n",
    "        '''helper function'''\n",
    "        # match = {'A': 1, 'B': 2, 'C': 3}   # Option 1: define a matching dictionary\n",
    "        # return match[letter]\n",
    "        return ord(letter) - ord('A') + 1    # Option 2: use ord()\n",
    "\n",
    "    result = 0\n",
    "    i = 0\n",
    "    for char in reversed(s):\n",
    "        result += alpha_to_num(char) * 26 ** i\n",
    "        i += 1\n",
    "    return result"
   ]
  },
  {
   "cell_type": "code",
   "execution_count": 2,
   "metadata": {},
   "outputs": [],
   "source": [
    "from functools import reduce\n",
    "\n",
    "def title_to_number(s):\n",
    "    '''variations of above'''\n",
    "    def alpha_to_num(letter):\n",
    "        '''helper function'''\n",
    "        return ord(letter) - ord('A') + 1\n",
    "\n",
    "    result = 0\n",
    "\n",
    "    # Option 1\n",
    "    for char, i in zip(reversed(s), range(len(s))):\n",
    "        result += alpha_to_num(char) * 26 ** i\n",
    "\n",
    "    # Option 2\n",
    "    for char in s:\n",
    "        result = result*26 + alpha_to_num(char)\n",
    "\n",
    "    # Option 3\n",
    "    # using reduce(function, iterable, initializer)\n",
    "    result = reduce(lambda result, x: result*26 + alpha_to_num(x), s, 0)\n",
    "        \n",
    "    return result"
   ]
  },
  {
   "cell_type": "markdown",
   "metadata": {},
   "source": [
    "<h4>Check</h4>"
   ]
  },
  {
   "cell_type": "code",
   "execution_count": 3,
   "metadata": {},
   "outputs": [
    {
     "data": {
      "text/plain": [
       "1"
      ]
     },
     "execution_count": 3,
     "metadata": {},
     "output_type": "execute_result"
    }
   ],
   "source": [
    "title_to_number('A')"
   ]
  },
  {
   "cell_type": "code",
   "execution_count": 4,
   "metadata": {},
   "outputs": [
    {
     "data": {
      "text/plain": [
       "28"
      ]
     },
     "execution_count": 4,
     "metadata": {},
     "output_type": "execute_result"
    }
   ],
   "source": [
    "title_to_number('AB')"
   ]
  },
  {
   "cell_type": "code",
   "execution_count": 5,
   "metadata": {},
   "outputs": [
    {
     "data": {
      "text/plain": [
       "701"
      ]
     },
     "execution_count": 5,
     "metadata": {},
     "output_type": "execute_result"
    }
   ],
   "source": [
    "title_to_number('ZY')"
   ]
  },
  {
   "cell_type": "code",
   "execution_count": 6,
   "metadata": {},
   "outputs": [
    {
     "data": {
      "text/plain": [
       "2147483647"
      ]
     },
     "execution_count": 6,
     "metadata": {},
     "output_type": "execute_result"
    }
   ],
   "source": [
    "title_to_number('FXSHRXW')"
   ]
  }
 ],
 "metadata": {
  "kernelspec": {
   "display_name": "Python 3",
   "language": "python",
   "name": "python3"
  },
  "language_info": {
   "codemirror_mode": {
    "name": "ipython",
    "version": 3
   },
   "file_extension": ".py",
   "mimetype": "text/x-python",
   "name": "python",
   "nbconvert_exporter": "python",
   "pygments_lexer": "ipython3",
   "version": "3.8.2"
  }
 },
 "nbformat": 4,
 "nbformat_minor": 1
}
