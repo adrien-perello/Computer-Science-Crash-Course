{
 "cells": [
  {
   "cell_type": "markdown",
   "metadata": {},
   "source": [
    "<h1>746. Min Cost Climbing Stairs</h1>\n",
    "<hr>\n",
    "\n",
    "<!--Copy Paste Leetcode statement between-->\n",
    "<p>\n",
    "On a staircase, the <code>i</code>-th step has some non-negative cost <code>cost[i]</code> assigned (0 indexed).\n",
    "</p><p>\n",
    "Once you pay the cost, you can either climb one or two steps. You need to find minimum cost to reach the top of the floor, and you can either start from the step with index 0, or the step with index 1.\n",
    "</p>\n",
    "\n",
    "<p><b>Example 1:</b><br>\n",
    "</p><pre><b>Input:</b> cost = [10, 15, 20]\n",
    "<b>Output:</b> 15\n",
    "<b>Explanation:</b> Cheapest is start on cost[1], pay that cost and go to the top.\n",
    "</pre>\n",
    "<p></p>\n",
    "\n",
    "<p><b>Example 2:</b><br>\n",
    "</p><pre><b>Input:</b> cost = [1, 100, 1, 1, 1, 100, 1, 1, 100, 1]\n",
    "<b>Output:</b> 6\n",
    "<b>Explanation:</b> Cheapest is start on cost[0], and only step on 1s, skipping cost[3].\n",
    "</pre>\n",
    "<p></p>\n",
    "\n",
    "<p><b>Note:</b><br>\n",
    "</p><ol>\n",
    "<li><code>cost</code> will have a length in the range <code>[2, 1000]</code>.</li>\n",
    "<li>Every <code>cost[i]</code> will be an integer in the range <code>[0, 999]</code>.</li>\n",
    "</ol>\n",
    "<p></p>\n",
    "<!--Copy Paste Leetcode statement between-->\n",
    "\n",
    "<p>&nbsp;</p>\n",
    "<a href=\"https://leetcode.com/problems/min-cost-climbing-stairs/\n",
    "\">Source</a> \n",
    "<hr>\n",
    "\n",
    "<h4>Code</h4>"
   ]
  },
  {
   "cell_type": "code",
   "execution_count": 1,
   "metadata": {},
   "outputs": [],
   "source": [
    "def min_cost_climbing_stairs(cost):\n",
    "    \"\"\"Recursive solution with memoization.\"\"\"\n",
    "    def dp(n):\n",
    "        nonlocal memo\n",
    "\n",
    "        # base cases\n",
    "        if n < 2:\n",
    "            return cost[n]\n",
    "        if n in memo:\n",
    "            return memo[n]\n",
    "        \n",
    "        # recursive relation\n",
    "        cost_amount = cost[n] + min(dp(n-1), dp(n-2))\n",
    "        memo[n] = cost_amount\n",
    "        return cost_amount\n",
    "\n",
    "    memo = {}\n",
    "    return min(dp(len(cost)-1), dp(len(cost)-2))"
   ]
  },
  {
   "cell_type": "code",
   "execution_count": null,
   "metadata": {},
   "outputs": [],
   "source": [
    "def min_cost_climbing_stairs(cost):\n",
    "    \"\"\"TAIL RECURSION??\"\"\"\n",
    "    def dp(n):\n",
    "        if n < 2:\n",
    "            return cost[n]\n",
    "\n",
    "        return cost[n] + min(dp(n-1), dp(n-2))\n",
    "\n",
    "    return min(dp(len(cost)-1), dp(len(cost)-2))\n",
    "\n",
    "\n",
    "\n",
    "\n",
    "# Case 1: function with 1 recursive call\n",
    "\n",
    "    # FACTORIAL FUNCTION:   f(n) = n * f(n-1)  and f(0) = 1\n",
    "    def go(n, acc1):\n",
    "        if n == 0:\n",
    "            return acc1\n",
    "        return go(n-1, n*acc1)\n",
    "\n",
    "    return go(n, 1)\n",
    "\n",
    "\n",
    "    # can we generalize to f(n) = A*f(n-1) + B   with f(0) = C\n",
    "    def go(n, acc1):\n",
    "        if n == 0:\n",
    "            return acc1\n",
    "        return go(n-1, A*acc1 + B)\n",
    "\n",
    "    return go(n, C)\n",
    "\n",
    "\n",
    "# Case 2: function with 2 recursive calls\n",
    "\n",
    "    # FIBONNACI FUNCTION:  f(n) = f(n-1) + f(n-2)  with f(0) = 0 and f(1) = 1\n",
    "    def go(n, acc1, acc2):\n",
    "        if n == 0:\n",
    "            return acc1\n",
    "        if n == 1:\n",
    "            return acc2\n",
    "        return go(n-1, acc2, acc1+acc2)\n",
    "\n",
    "    return go(n, 0, 1)\n",
    "\n",
    "\n",
    "    # can we generalize to f(n) = A*f(n-1) + B*f(n-2) + C   with f(0) = D and f(1) = E\n",
    "    def go(n, acc1, acc2):\n",
    "        if n == 0:\n",
    "            return acc1\n",
    "        if n == 1:\n",
    "            return acc2\n",
    "        return go(n-1, acc2, A*acc2 + B*acc1 + C)\n",
    "\n",
    "    return go(n, D, E)\n",
    "\n",
    "\n",
    "# Case 3: function with multiple recursive calls"
   ]
  },
  {
   "cell_type": "markdown",
   "metadata": {},
   "source": [
    "<h4>Check</h4>"
   ]
  },
  {
   "cell_type": "code",
   "execution_count": 2,
   "metadata": {},
   "outputs": [
    {
     "data": {
      "text/plain": [
       "15"
      ]
     },
     "execution_count": 2,
     "metadata": {},
     "output_type": "execute_result"
    }
   ],
   "source": [
    "cost = [10, 15, 20]\n",
    "min_cost_climbing_stairs(cost)"
   ]
  },
  {
   "cell_type": "code",
   "execution_count": 6,
   "metadata": {},
   "outputs": [
    {
     "data": {
      "text/plain": [
       "6"
      ]
     },
     "execution_count": 6,
     "metadata": {},
     "output_type": "execute_result"
    }
   ],
   "source": [
    "cost = [1, 100, 1, 1, 1, 100, 1, 1, 100, 1]\n",
    "min_cost_climbing_stairs(cost)"
   ]
  },
  {
   "cell_type": "markdown",
   "metadata": {},
   "source": [
    "<hr>\n",
    "<h4>Follow up #1:</h4>\n",
    "<p>Solve it both recursively and iteratively.</p>\n",
    "\n",
    "<h4>Code</h4>"
   ]
  },
  {
   "cell_type": "code",
   "execution_count": 4,
   "metadata": {},
   "outputs": [],
   "source": [
    "def min_cost_climbing_stairs(cost):\n",
    "    \"\"\"Dynamic Programming version with O(n) space complexity.\"\"\"\n",
    "    if not cost:\n",
    "        return 0\n",
    "\n",
    "    n = len(cost)\n",
    "    if n < 3:\n",
    "        return min(cost)\n",
    "\n",
    "    dp = [0] * n\n",
    "    dp[0] = cost[0]\n",
    "    dp[1] = cost[1]\n",
    "\n",
    "    for i in range(2, n):\n",
    "        dp[i] = cost[i] + min(dp[i-2], dp[i-1])\n",
    "    return min(dp[-2], dp[-1])"
   ]
  },
  {
   "cell_type": "markdown",
   "metadata": {},
   "source": [
    "<hr>\n",
    "<h4>Follow up #2:</h4>\n",
    "<p>Solve it with O(1) (i.e. constant) memory.</p>\n",
    "\n",
    "<h4>Code</h4>"
   ]
  },
  {
   "cell_type": "code",
   "execution_count": 5,
   "metadata": {},
   "outputs": [],
   "source": [
    "def min_cost_climbing_stairs(cost):\n",
    "    \"\"\"Dynamic Programming version with O(1) space complexity.\"\"\"\n",
    "    f1 = f2 = 0\n",
    "    for step in cost:\n",
    "        f1, f2 = step + min(f1, f2), f1\n",
    "    return min(f1, f2)"
   ]
  }
 ],
 "metadata": {
  "kernelspec": {
   "display_name": "Python 3",
   "language": "python",
   "name": "python3"
  },
  "language_info": {
   "codemirror_mode": {
    "name": "ipython",
    "version": 3
   },
   "file_extension": ".py",
   "mimetype": "text/x-python",
   "name": "python",
   "nbconvert_exporter": "python",
   "pygments_lexer": "ipython3",
   "version": "3.8.2"
  }
 },
 "nbformat": 4,
 "nbformat_minor": 1
}
