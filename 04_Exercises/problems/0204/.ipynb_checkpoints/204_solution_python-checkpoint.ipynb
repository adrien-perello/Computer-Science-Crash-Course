{
 "cells": [
  {
   "cell_type": "markdown",
   "metadata": {},
   "source": [
    "<h1>204. Count Primes</h1>\n",
    "<hr>\n",
    "\n",
    "<!--Copy Paste Leetcode statement between-->\n",
    "<p>Count the number of prime numbers less than a non-negative number, <code>n</code>.</p>\n",
    "\n",
    "<p>&nbsp;</p>\n",
    "<p><strong>Example 1:</strong></p>\n",
    "\n",
    "<pre><strong>Input:</strong> n = 10\n",
    "<strong>Output:</strong> 4\n",
    "<strong>Explanation:</strong> There are 4 prime numbers less than 10, they are 2, 3, 5, 7.\n",
    "</pre>\n",
    "\n",
    "<p><strong>Example 2:</strong></p>\n",
    "\n",
    "<pre><strong>Input:</strong> n = 0\n",
    "<strong>Output:</strong> 0\n",
    "</pre>\n",
    "\n",
    "<p><strong>Example 3:</strong></p>\n",
    "\n",
    "<pre><strong>Input:</strong> n = 1\n",
    "<strong>Output:</strong> 0\n",
    "</pre>\n",
    "\n",
    "<p>&nbsp;</p>\n",
    "<p><strong>Constraints:</strong></p>\n",
    "\n",
    "<ul>\n",
    "\t<li><code>0 &lt;= n &lt;= 5 * 10<sup>6</sup></code></li>\n",
    "</ul>\n",
    "<!--Copy Paste Leetcode statement between-->\n",
    "\n",
    "<p>&nbsp;</p>\n",
    "<a href=\"https://leetcode.com/problems/count-primes/\">Source</a> \n",
    "<hr>\n",
    "\n",
    "<h4>Code</h4>"
   ]
  },
  {
   "cell_type": "code",
   "execution_count": 1,
   "metadata": {},
   "outputs": [],
   "source": [
    "def count_primes(n):\n",
    "    \"\"\"Obvious intuition but too slow beyond n = 10*5, whereas n <= 5*106.\"\"\"\n",
    "    primes = set()\n",
    "    if n >= 3:\n",
    "        primes.add(2)\n",
    "    for number in range(3, n, 2):  # only consider odd numbers\n",
    "        if any(number % prime == 0 for prime in primes):\n",
    "            continue\n",
    "        else:\n",
    "            primes.add(number)\n",
    "    return len(primes)"
   ]
  },
  {
   "cell_type": "code",
   "execution_count": 2,
   "metadata": {},
   "outputs": [],
   "source": [
    "def count_primes(n):\n",
    "    \"\"\"Sieve of Eratosthenes\n",
    "    https://www.geeksforgeeks.org/prime-numbers/\n",
    "    https://labuladong.gitbook.io/algo-en/iv.-high-frequency-interview-problem/print_primenumbers\n",
    " \n",
    "    Time Complexity O(log(logn))\n",
    "\n",
    "    Other algorithm solving this problem:\n",
    "       - Segmented Sieve\n",
    "       - Sieve of Sundaram\n",
    "       - Bitwise Sieve\n",
    "    \"\"\"\n",
    "    if n < 2:\n",
    "            return 0\n",
    "    strikes = [1] * n  # strike list for the input range, initialized at 1\n",
    "    strikes[0] = 0\n",
    "    strikes[1] = 0\n",
    "    for i in range(2, int(n**0.5)+1):\n",
    "        if strikes[i] != 0:\n",
    "            strikes[i*i:n:i] = [0] * len(strikes[i*i:n:i])\n",
    "    return sum(strikes)"
   ]
  },
  {
   "cell_type": "code",
   "execution_count": null,
   "metadata": {},
   "outputs": [],
   "source": [
    "def count_primes(n):\n",
    "    \"\"\"Sieve of Eratosthenes with optimizations\"\"\"\n",
    "    if n < 3:\n",
    "        return 0\n",
    "    sieve = [1] * (n-2)\n",
    "    for t in range(2, ceil(sqrt(n))):\n",
    "        if sieve[t-2] == 1:\n",
    "            sq = t**2\n",
    "            sieve[sq-2 : n : t] = [0] * ((n-1)//t - t + 1)\n",
    "\n",
    "    return sum(sieve)"
   ]
  },
  {
   "cell_type": "markdown",
   "metadata": {},
   "source": [
    "<h4>Check</h4>"
   ]
  },
  {
   "cell_type": "code",
   "execution_count": 3,
   "metadata": {},
   "outputs": [
    {
     "data": {
      "text/plain": [
       "4"
      ]
     },
     "execution_count": 3,
     "metadata": {},
     "output_type": "execute_result"
    }
   ],
   "source": [
    "count_primes(10)"
   ]
  },
  {
   "cell_type": "code",
   "execution_count": 4,
   "metadata": {},
   "outputs": [
    {
     "data": {
      "text/plain": [
       "0"
      ]
     },
     "execution_count": 4,
     "metadata": {},
     "output_type": "execute_result"
    }
   ],
   "source": [
    "count_primes(0)"
   ]
  },
  {
   "cell_type": "code",
   "execution_count": 5,
   "metadata": {},
   "outputs": [
    {
     "data": {
      "text/plain": [
       "0"
      ]
     },
     "execution_count": 5,
     "metadata": {},
     "output_type": "execute_result"
    }
   ],
   "source": [
    "count_primes(1)"
   ]
  },
  {
   "cell_type": "code",
   "execution_count": 6,
   "metadata": {},
   "outputs": [
    {
     "data": {
      "text/plain": [
       "9592"
      ]
     },
     "execution_count": 6,
     "metadata": {},
     "output_type": "execute_result"
    }
   ],
   "source": [
    "count_primes(10**5)"
   ]
  },
  {
   "cell_type": "code",
   "execution_count": 7,
   "metadata": {},
   "outputs": [
    {
     "data": {
      "text/plain": [
       "348513"
      ]
     },
     "execution_count": 7,
     "metadata": {},
     "output_type": "execute_result"
    }
   ],
   "source": [
    "count_primes(5*10**6)"
   ]
  }
 ],
 "metadata": {
  "kernelspec": {
   "display_name": "Python 3",
   "language": "python",
   "name": "python3"
  },
  "language_info": {
   "codemirror_mode": {
    "name": "ipython",
    "version": 3
   },
   "file_extension": ".py",
   "mimetype": "text/x-python",
   "name": "python",
   "nbconvert_exporter": "python",
   "pygments_lexer": "ipython3",
   "version": "3.8.2"
  }
 },
 "nbformat": 4,
 "nbformat_minor": 1
}
