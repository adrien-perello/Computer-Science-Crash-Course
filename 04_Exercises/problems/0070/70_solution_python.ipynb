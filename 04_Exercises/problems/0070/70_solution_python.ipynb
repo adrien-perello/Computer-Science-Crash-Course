{
 "cells": [
  {
   "cell_type": "markdown",
   "metadata": {},
   "source": [
    "<h1>70. Climbing Stairs</h1>\n",
    "<hr>\n",
    "\n",
    "<!--Copy Paste Leetcode statement between-->\n",
    "<p>You are climbing a staircase. It takes <code>n</code> steps to reach the top.</p>\n",
    "\n",
    "<p>Each time you can either climb <code>1</code> or <code>2</code> steps. In how many distinct ways can you climb to the top?</p>\n",
    "\n",
    "<p>&nbsp;</p>\n",
    "<p><strong>Example 1:</strong></p>\n",
    "\n",
    "<pre><strong>Input:</strong> n = 2\n",
    "<strong>Output:</strong> 2\n",
    "<strong>Explanation:</strong> There are two ways to climb to the top.\n",
    "1. 1 step + 1 step\n",
    "2. 2 steps\n",
    "</pre>\n",
    "\n",
    "<p><strong>Example 2:</strong></p>\n",
    "\n",
    "<pre><strong>Input:</strong> n = 3\n",
    "<strong>Output:</strong> 3\n",
    "<strong>Explanation:</strong> There are three ways to climb to the top.\n",
    "1. 1 step + 1 step + 1 step\n",
    "2. 1 step + 2 steps\n",
    "3. 2 steps + 1 step\n",
    "</pre>\n",
    "\n",
    "<p>&nbsp;</p>\n",
    "<p><strong>Constraints:</strong></p>\n",
    "\n",
    "<ul>\n",
    "\t<li><code>1 &lt;= n &lt;= 45</code></li>\n",
    "</ul>\n",
    "<!--Copy Paste Leetcode statement between-->\n",
    "\n",
    "<p>&nbsp;</p>\n",
    "<a href=\"https://leetcode.com/problems/climbing-stairs/\">Source</a> \n",
    "<hr>\n",
    "\n",
    "<h4>Code</h4>"
   ]
  },
  {
   "cell_type": "code",
   "execution_count": 6,
   "metadata": {},
   "outputs": [],
   "source": [
    "def climbing_stairs(n):\n",
    "    \"\"\"Recursive approach with memoization.\"\"\"\n",
    "    def helper(n):\n",
    "        nonlocal memo\n",
    "\n",
    "        if n in memo:\n",
    "            return memo[n]\n",
    "        else:\n",
    "            result = helper(n-1) + helper(n-2)\n",
    "            memo[n] = result\n",
    "            return result\n",
    "\n",
    "    memo = {0: 0, 1: 1, 2: 2}\n",
    "    return helper(n)"
   ]
  },
  {
   "cell_type": "code",
   "execution_count": null,
   "metadata": {},
   "outputs": [],
   "source": [
    "def climbing_stairs(n):\n",
    "    \"\"\"Using tail recursion.\n",
    "    see generalization on tail recursion here:\n",
    "    https://nbviewer.jupyter.org/github/adrien-perelloyb/leetcode/blob/main/lessons/recursion.ipynb\n",
    "    \"\"\"\n",
    "    def go(n, acc1, acc2):\n",
    "        \"\"\"tail recursive function\"\"\"\n",
    "        if n < 2:\n",
    "            return acc1\n",
    "        return go(n-1, acc2, acc1+acc2)\n",
    "\n",
    "    return go(n, 1, 2)"
   ]
  },
  {
   "cell_type": "markdown",
   "metadata": {},
   "source": [
    "<h4>Check</h4>"
   ]
  },
  {
   "cell_type": "code",
   "execution_count": 3,
   "metadata": {},
   "outputs": [
    {
     "data": {
      "text/plain": [
       "8"
      ]
     },
     "execution_count": 3,
     "metadata": {},
     "output_type": "execute_result"
    }
   ],
   "source": [
    "climbing_stairs(5)"
   ]
  },
  {
   "cell_type": "code",
   "execution_count": 4,
   "metadata": {},
   "outputs": [
    {
     "data": {
      "text/plain": [
       "89"
      ]
     },
     "execution_count": 4,
     "metadata": {},
     "output_type": "execute_result"
    }
   ],
   "source": [
    "climbing_stairs(10)"
   ]
  },
  {
   "cell_type": "code",
   "execution_count": 5,
   "metadata": {},
   "outputs": [
    {
     "data": {
      "text/plain": [
       "573147844013817084101"
      ]
     },
     "execution_count": 5,
     "metadata": {},
     "output_type": "execute_result"
    }
   ],
   "source": [
    "climbing_stairs(100)"
   ]
  },
  {
   "cell_type": "markdown",
   "metadata": {},
   "source": [
    "<hr>\n",
    "<h4>Follow up #1:</h4>\n",
    "<p>Solve it both recursively and iteratively.</p>\n",
    "\n",
    "<h4>Code</h4>"
   ]
  },
  {
   "cell_type": "code",
   "execution_count": 1,
   "metadata": {},
   "outputs": [],
   "source": [
    "def climbing_stairs(n):\n",
    "    \"\"\" Dynamic Programming approach\n",
    "    Time Complexity: O(n)\n",
    "    Space Complexity: 0(n)\n",
    "    \"\"\"\n",
    "    if n == 0 or n == 1 or n == 2:\n",
    "        return n\n",
    "    dp = [0, 1, 2]\n",
    "    for i in range(3, n + 1):\n",
    "        dp.append(dp[i - 1] + dp[i - 2])\n",
    "    return dp[n]\n",
    "\n",
    "# The key intuition to solve the problem is that given a number of stairs n,\n",
    "# if we know the number ways to get to the points [n-1] and [n-2] (denoted as n1 and n2)\n",
    "# then the total ways to get to the point [n] is n1 + n2.\n",
    "# Because from the [n-1] point, we can take one single step to reach [n],\n",
    "# and from the [n-2] point, we could take two steps to get there."
   ]
  },
  {
   "cell_type": "markdown",
   "metadata": {},
   "source": [
    "<hr>\n",
    "<h4>Follow up #2:</h4>\n",
    "<p>Solve it with O(1) (i.e. constant) memory.</p>\n",
    "\n",
    "<h4>Code</h4>"
   ]
  },
  {
   "cell_type": "code",
   "execution_count": 2,
   "metadata": {},
   "outputs": [],
   "source": [
    "def climbing_stairs(n):\n",
    "    \"\"\"Same as above but with Space Complexity: 0(1).\"\"\"\n",
    "    curr, prev = 1, 0\n",
    "    for _ in range(n):\n",
    "        curr, prev = curr + prev, curr\n",
    "    return curr"
   ]
  },
  {
   "cell_type": "markdown",
   "metadata": {},
   "source": [
    "<h4>Check</h4>"
   ]
  },
  {
   "cell_type": "code",
   "execution_count": 7,
   "metadata": {},
   "outputs": [
    {
     "data": {
      "text/plain": [
       "8"
      ]
     },
     "execution_count": 7,
     "metadata": {},
     "output_type": "execute_result"
    }
   ],
   "source": [
    "climbing_stairs(5)"
   ]
  },
  {
   "cell_type": "code",
   "execution_count": 8,
   "metadata": {},
   "outputs": [
    {
     "data": {
      "text/plain": [
       "89"
      ]
     },
     "execution_count": 8,
     "metadata": {},
     "output_type": "execute_result"
    }
   ],
   "source": [
    "climbing_stairs(10)"
   ]
  },
  {
   "cell_type": "code",
   "execution_count": 9,
   "metadata": {},
   "outputs": [
    {
     "data": {
      "text/plain": [
       "1836311903"
      ]
     },
     "execution_count": 9,
     "metadata": {},
     "output_type": "execute_result"
    }
   ],
   "source": [
    "climbing_stairs(45)"
   ]
  },
  {
   "cell_type": "markdown",
   "metadata": {},
   "source": [
    "<hr>\n",
    "<h4>For the curious:</h4>\n",
    "<p>With matrix product (for n >= 2).</p>\n",
    "<img alt=\"\" src=\"./img1.png\">\n",
    "\n",
    "<h4>Code</h4>"
   ]
  },
  {
   "cell_type": "code",
   "execution_count": 10,
   "metadata": {},
   "outputs": [],
   "source": [
    "def climbStairs(n):\n",
    "    '''Time Complexity O(logn) thanks to hard encoded matrix power computation'''\n",
    "    def matrix_prod(M, K):\n",
    "        a = M[0][0] * K[0][0] + M[0][1] * K[1][0]\n",
    "        b = M[0][0] * K[0][1] + M[0][1] * K[1][1]\n",
    "        c = M[1][0] * K[0][0] + M[1][1] * K[1][0]\n",
    "        d = M[1][0] * K[0][1] + M[1][1] * K[1][1]\n",
    "        return [[a, b], [c, d]]\n",
    "        \n",
    "    def power(M, n):\n",
    "        if n == 0:\n",
    "            return [[1, 0], [0, 1]]\n",
    "        if n == 1:\n",
    "            return M\n",
    "        half = power(M, n//2)\n",
    "        ret = matrix_prod(half, half)\n",
    "        if n % 2 == 1:\n",
    "            ret = matrix_prod(ret, M)\n",
    "        return ret\n",
    "    \n",
    "    M = [[1, 1], [1, 0]]\n",
    "    [[a, b], [c, d]] = power(M, n)\n",
    "    return a"
   ]
  },
  {
   "cell_type": "markdown",
   "metadata": {},
   "source": [
    "<h4>Check</h4>"
   ]
  },
  {
   "cell_type": "code",
   "execution_count": 11,
   "metadata": {},
   "outputs": [
    {
     "data": {
      "text/plain": [
       "1836311903"
      ]
     },
     "execution_count": 11,
     "metadata": {},
     "output_type": "execute_result"
    }
   ],
   "source": [
    "climbStairs(45)"
   ]
  },
  {
   "cell_type": "code",
   "execution_count": 12,
   "metadata": {},
   "outputs": [
    {
     "data": {
      "text/plain": [
       "225591516161936330872512695036072072046011324913758190588638866418474627738686883405015987052796968498626"
      ]
     },
     "execution_count": 12,
     "metadata": {},
     "output_type": "execute_result"
    }
   ],
   "source": [
    "climbStairs(500)"
   ]
  }
 ],
 "metadata": {
  "kernelspec": {
   "display_name": "Python 3",
   "language": "python",
   "name": "python3"
  },
  "language_info": {
   "codemirror_mode": {
    "name": "ipython",
    "version": 3
   },
   "file_extension": ".py",
   "mimetype": "text/x-python",
   "name": "python",
   "nbconvert_exporter": "python",
   "pygments_lexer": "ipython3",
   "version": "3.8.2"
  }
 },
 "nbformat": 4,
 "nbformat_minor": 1
}
