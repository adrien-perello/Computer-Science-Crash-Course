{
 "cells": [
  {
   "cell_type": "markdown",
   "metadata": {},
   "source": [
    "<h1>463. Island Perimeter</h1>\n",
    "<hr>\n",
    "\n",
    "<!--Copy Paste Leetcode statement between-->\n",
    "<p>You are given <code>row x col</code> <code>grid</code> representing a map where <code>grid[i][j] = 1</code> represents&nbsp;land and <code>grid[i][j] = 0</code> represents water.</p>\n",
    "\n",
    "<p>Grid cells are connected <strong>horizontally/vertically</strong> (not diagonally). The <code>grid</code> is completely surrounded by water, and there is exactly one island (i.e., one or more connected land cells).</p>\n",
    "\n",
    "<p>The island doesn't have \"lakes\", meaning the water inside isn't connected to the water around the island. One cell is a square with side length 1. The grid is rectangular, width and height don't exceed 100. Determine the perimeter of the island.</p>\n",
    "\n",
    "<p>&nbsp;</p>\n",
    "<p><strong>Example 1:</strong></p>\n",
    "<img src=\"./img1.png\" style=\"width: 221px; height: 213px;\">\n",
    "<pre><strong>Input:</strong> grid = [[0,1,0,0],[1,1,1,0],[0,1,0,0],[1,1,0,0]]\n",
    "<strong>Output:</strong> 16\n",
    "<strong>Explanation:</strong> The perimeter is the 16 yellow stripes in the image above.\n",
    "</pre>\n",
    "\n",
    "<p><strong>Example 2:</strong></p>\n",
    "\n",
    "<pre><strong>Input:</strong> grid = [[1]]\n",
    "<strong>Output:</strong> 4\n",
    "</pre>\n",
    "\n",
    "<p><strong>Example 3:</strong></p>\n",
    "\n",
    "<pre><strong>Input:</strong> grid = [[1,0]]\n",
    "<strong>Output:</strong> 4\n",
    "</pre>\n",
    "\n",
    "<p>&nbsp;</p>\n",
    "<p><strong>Constraints:</strong></p>\n",
    "\n",
    "<ul>\n",
    "\t<li><code>row == grid.length</code></li>\n",
    "\t<li><code>col == grid[i].length</code></li>\n",
    "\t<li><code>1 &lt;= row, col &lt;= 100</code></li>\n",
    "\t<li><code>grid[i][j]</code> is <code>0</code> or <code>1</code>.</li>\n",
    "</ul>\n",
    "<!--Copy Paste Leetcode statement between-->\n",
    "\n",
    "<p>&nbsp;</p>\n",
    "<a href=\"https://leetcode.com/problems/island-perimeter/\">Source</a> \n",
    "<hr>\n",
    "\n",
    "<h4>Code</h4>"
   ]
  },
  {
   "cell_type": "code",
   "execution_count": 1,
   "metadata": {},
   "outputs": [],
   "source": [
    "def island_perimeter(grid):\n",
    "    \"\"\"Naive answer\n",
    "    Time Complexity: O(nm)\n",
    "    Space Complexity: O(1)\n",
    "    \"\"\"\n",
    "    def edges(i, j):\n",
    "        nonlocal rows, cols\n",
    "        up = 1 if i > 0 and grid[i-1][j] == 1 else 0          # actually not needed\n",
    "        down = 1 if i < rows-1 and grid[i+1][j] == 1 else 0\n",
    "        left = 1 if j > 0 and grid[i][j-1] == 1 else 0        # actually not needed\n",
    "        right = 1 if j < cols-1 and grid[i][j+1] == 1 else 0\n",
    "        return 4 - up - down - left - right\n",
    "\n",
    "    rows, cols = len(grid), len(grid[0])\n",
    "    perimeter = 0\n",
    "    for r in range(rows):\n",
    "        for c in range(cols):\n",
    "            if grid[r][c] == 1:\n",
    "                perimeter += edges(r, c)\n",
    "    return perimeter"
   ]
  },
  {
   "cell_type": "code",
   "execution_count": 2,
   "metadata": {},
   "outputs": [],
   "source": [
    "def island_perimeter(grid):\n",
    "    \"\"\"similar as above but with a bit of optimization\n",
    "    Time Complexity: O(nm)\n",
    "    Space Complexity: O(1)\n",
    "    \"\"\"\n",
    "    def edges(i, j):\n",
    "        nonlocal rows, cols\n",
    "        down = 2 if i < rows-1 and grid[i+1][j] == 1 else 0    # only those have not been counted\n",
    "        right = 2 if j < cols-1 and grid[i][j+1] == 1 else 0   # by previous iteration of edges(r, c)\n",
    "        return 4 - down - right\n",
    "    \n",
    "    rows, cols = len(grid), len(grid[0])\n",
    "    perimeter = 0\n",
    "    for r in range(rows):\n",
    "        for c in range(cols):\n",
    "            if grid[r][c] == 1:\n",
    "                perimeter += edges(r,c)\n",
    "    return perimeter"
   ]
  },
  {
   "cell_type": "code",
   "execution_count": 3,
   "metadata": {},
   "outputs": [],
   "source": [
    "def island_perimeter(grid):\n",
    "    \"\"\"similar but with Space Complexity: O(nm)\"\"\"\n",
    "    rows = len(grid)\n",
    "    cols = len(grid[0])\n",
    "    extended_grid = [[0]*(cols+2)] + [[0]+row+[0] for row in grid] + [[0]*(cols+2)]\n",
    "    perimeter = 0\n",
    "\n",
    "    for i in range(rows+1):\n",
    "        for j in range(cols+1):\n",
    "            if extended_grid[i][j] != extended_grid[i][j+1]:\n",
    "                # land | sea  or  sea | land\n",
    "                perimeter += 1\n",
    "            if extended_grid[i][j] != extended_grid[i+1][j]:\n",
    "                #   sea             land       \n",
    "                #  ------    or    ------      \n",
    "                #  land             sea       \n",
    "                perimeter += 1\n",
    "\n",
    "    return perimeter"
   ]
  },
  {
   "cell_type": "code",
   "execution_count": 4,
   "metadata": {},
   "outputs": [],
   "source": [
    "def island_perimeter(grid):\n",
    "    \"\"\"by zipping rows together and columns together\n",
    "    \n",
    "         [[a, b, c, d],                             [(a,a,a,a,a),\n",
    "          [a, b, c, d],                              (b,b,b,b,b),\n",
    "    MAT = [a, b, c, d],  -->  zip(*MAT) = zip object (c,c,c,c,c), \n",
    "          [a, b, c, d],                              (d,d,d,d,d)]\n",
    "          [a, b, c, d]]\n",
    "    \"\"\"\n",
    "\n",
    "    # convert each row into a string: '0+i[0]i[1]i[2]...i[n]+0' and store it as a list in grid_r\n",
    "    grid_r = ['0' + ''.join(str(r) for r in row) + '0' for row in grid]  \n",
    "    # convert each column into a string: '0+j[0]j[1]j[2]...j[n]+0'' and store it as a list in grid_c\n",
    "    grid_c = ['0' + ''.join(str(c) for c in col) + '0' for col in zip(*grid)]\n",
    "    \n",
    "    return sum(row.count('01') + row.count('10') for row in grid_r + grid_c)\n",
    "    # grid_r + grid_c means that it will first check grid_r and then grid_c \n",
    "\n",
    "    #               '01'               |              '10'\n",
    "    # ---------------------------------|---------------------------------\n",
    "    #     grid_r      |     grid_c     |    grid_r      |     grid_c     \n",
    "    # ----------------|----------------|----------------|------------------\n",
    "    #                 |     sea        |                |     land       \n",
    "    #   sea | land    |    ------      |   land | sea   |    ------      \n",
    "    #                 |     land       |                |     sea       "
   ]
  },
  {
   "cell_type": "code",
   "execution_count": 5,
   "metadata": {},
   "outputs": [],
   "source": [
    "from itertools import chain\n",
    "\n",
    "def island_perimeter(grid):\n",
    "    \"\"\"Variation of the one just above using zip() but with generator instead of list\n",
    "    --> more space efficient.\n",
    "    --> requires chain() to do grid_r + grid_c\n",
    "    \"\"\"\n",
    "    grid_r = ('0' + ''.join(str(r) for r in row) + '0' for row in grid)\n",
    "    grid_c = ('0'+''.join(str(c) for c in col) + '0' for col in zip(*grid))\n",
    "    return sum(row.count('01') + row.count('10') for row in chain(grid_r, grid_c))"
   ]
  },
  {
   "cell_type": "code",
   "execution_count": 6,
   "metadata": {},
   "outputs": [],
   "source": [
    "def island_perimeter(grid):\n",
    "    perimeter = 0\n",
    "    for row in grid + list(map(list, zip(*grid))):\n",
    "        # map(list, zip()) --> convert tuples inside zip into list\n",
    "        # list(zip) --> convert zip object into list\n",
    "        for i, j in zip([0] + row, row + [0]):\n",
    "            if i != j:\n",
    "                perimeter += 1\n",
    "    return perimeter"
   ]
  },
  {
   "cell_type": "code",
   "execution_count": 7,
   "metadata": {},
   "outputs": [],
   "source": [
    "import operator\n",
    "\n",
    "def island_perimeter(grid):\n",
    "    \"\"\"Same as above but in one line\n",
    "    Note: operator.ne = '!='\n",
    "    '\"\"\"\n",
    "    return sum(sum(map(operator.ne, [0] + row, row + [0])) for row in grid + list(map(list, zip(*grid))))"
   ]
  },
  {
   "cell_type": "markdown",
   "metadata": {},
   "source": [
    "<h4>Check</h4>"
   ]
  },
  {
   "cell_type": "code",
   "execution_count": 8,
   "metadata": {},
   "outputs": [
    {
     "data": {
      "text/plain": [
       "16"
      ]
     },
     "execution_count": 8,
     "metadata": {},
     "output_type": "execute_result"
    }
   ],
   "source": [
    "grid = [[0,1,0,0],[1,1,1,0],[0,1,0,0],[1,1,0,0]]\n",
    "island_perimeter(grid)"
   ]
  },
  {
   "cell_type": "code",
   "execution_count": 9,
   "metadata": {},
   "outputs": [
    {
     "data": {
      "text/plain": [
       "4"
      ]
     },
     "execution_count": 9,
     "metadata": {},
     "output_type": "execute_result"
    }
   ],
   "source": [
    "grid = [[1]]\n",
    "island_perimeter(grid)"
   ]
  },
  {
   "cell_type": "code",
   "execution_count": 10,
   "metadata": {},
   "outputs": [
    {
     "data": {
      "text/plain": [
       "4"
      ]
     },
     "execution_count": 10,
     "metadata": {},
     "output_type": "execute_result"
    }
   ],
   "source": [
    "grid = [[1,0]]\n",
    "island_perimeter(grid)"
   ]
  }
 ],
 "metadata": {
  "kernelspec": {
   "display_name": "Python 3",
   "language": "python",
   "name": "python3"
  },
  "language_info": {
   "codemirror_mode": {
    "name": "ipython",
    "version": 3
   },
   "file_extension": ".py",
   "mimetype": "text/x-python",
   "name": "python",
   "nbconvert_exporter": "python",
   "pygments_lexer": "ipython3",
   "version": "3.8.2"
  }
 },
 "nbformat": 4,
 "nbformat_minor": 1
}
