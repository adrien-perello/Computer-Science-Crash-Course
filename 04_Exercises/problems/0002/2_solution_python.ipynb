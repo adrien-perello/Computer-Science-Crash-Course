{
 "cells": [
  {
   "cell_type": "markdown",
   "metadata": {},
   "source": [
    "<h1>2. Add Two Numbers</h1>\n",
    "<hr>\n",
    "\n",
    "<!--Copy Paste Leetcode statement between-->\n",
    "<p>You are given two <b>non-empty</b> linked lists representing two non-negative integers. The digits are stored in <b>reverse order</b>, and each of their nodes contains a single digit. Add the two numbers and return the sum&nbsp;as a linked list.</p>\n",
    "\n",
    "<p>You may assume the two numbers do not contain any leading zero, except the number 0 itself.</p>\n",
    "\n",
    "<p>&nbsp;</p>\n",
    "<p><strong>Example 1:</strong></p>\n",
    "<img alt=\"\" src=\"./img1.jpeg\" style=\"width: 483px; height: 342px;\">\n",
    "<pre><strong>Input:</strong> l1 = [2,4,3], l2 = [5,6,4]\n",
    "<strong>Output:</strong> [7,0,8]\n",
    "<strong>Explanation:</strong> 342 + 465 = 807.\n",
    "</pre>\n",
    "<p>&nbsp;</p>\n",
    "<p><strong>Example 2:</strong></p>\n",
    "\n",
    "<pre><strong>Input:</strong> l1 = [0], l2 = [0]\n",
    "<strong>Output:</strong> [0]\n",
    "</pre>\n",
    "\n",
    "<p><strong>Example 3:</strong></p>\n",
    "\n",
    "<pre><strong>Input:</strong> l1 = [9,9,9,9,9,9,9], l2 = [9,9,9,9]\n",
    "<strong>Output:</strong> [8,9,9,9,0,0,0,1]\n",
    "</pre>\n",
    "\n",
    "<p>&nbsp;</p>\n",
    "<p><strong>Constraints:</strong></p>\n",
    "\n",
    "<ul>\n",
    "\t<li>The number of nodes in each linked list is in the range <code>[1, 100]</code>.</li>\n",
    "\t<li><code>0 &lt;= Node.val &lt;= 9</code></li>\n",
    "\t<li>It is guaranteed that the list represents a number that does not have leading zeros.</li>\n",
    "</ul>\n",
    "<!--Copy Paste Leetcode statement between-->\n",
    "\n",
    "<p>&nbsp;</p>\n",
    "<a href=\"https://leetcode.com/problems/add-two-numbers/\">Source</a> \n",
    "<hr>"
   ]
  },
  {
   "cell_type": "code",
   "execution_count": 1,
   "metadata": {},
   "outputs": [],
   "source": [
    "# Definition for singly-linked list.\n",
    "class ListNode:\n",
    "    def __init__(self, val=0, next=None):\n",
    "        self.val = val\n",
    "        self.next = next"
   ]
  },
  {
   "cell_type": "markdown",
   "metadata": {},
   "source": [
    "<h4>Code</h4>"
   ]
  },
  {
   "cell_type": "code",
   "execution_count": 2,
   "metadata": {},
   "outputs": [],
   "source": [
    "def add_two_numbers(l1, l2):\n",
    "    \"\"\"iterative approach.\"\"\"\n",
    "    carry = 0\n",
    "    answer = curr_sol = ListNode(carry)\n",
    "    while l1 or l2 or carry != 0:\n",
    "        tmp = carry\n",
    "        if l1:\n",
    "            tmp += l1.val\n",
    "            l1 = l1.next\n",
    "        if l2:\n",
    "            tmp += l2.val\n",
    "            l2 = l2.next\n",
    "        val = tmp % 10\n",
    "        carry = tmp // 10\n",
    "        curr_sol.next = ListNode(val)\n",
    "        curr_sol = curr_sol.next\n",
    "    return answer.next"
   ]
  },
  {
   "cell_type": "markdown",
   "metadata": {},
   "source": [
    "<hr>\n",
    "<h4>Follow up:</h4>\n",
    "<p>Solve it both recursively and iteratively.</p>\n",
    "\n",
    "<h4>Code</h4>"
   ]
  },
  {
   "cell_type": "code",
   "execution_count": null,
   "metadata": {},
   "outputs": [],
   "source": [
    "def add_two_numbers(l1, l2):\n",
    "    \"\"\"recursive approach.\"\"\"\n",
    "    def helper(l1,l2,carry):\n",
    "        if l1 or l2 or carry != 0:\n",
    "            tmp = carry\n",
    "            if l1:\n",
    "                tmp += l1.val\n",
    "                l1 = l1.next\n",
    "            if l2:\n",
    "                tmp += l2.val\n",
    "                l2 = l2.next\n",
    "            val = tmp % 10\n",
    "            carry = tmp // 10\n",
    "            answer = ListNode(val) \n",
    "            answer.next = helper(l1, l2, carry)    \n",
    "            return answer\n",
    "        return None\n",
    "\n",
    "    return helper(l1,l2,0)"
   ]
  }
 ],
 "metadata": {
  "kernelspec": {
   "display_name": "Python 3",
   "language": "python",
   "name": "python3"
  },
  "language_info": {
   "codemirror_mode": {
    "name": "ipython",
    "version": 3
   },
   "file_extension": ".py",
   "mimetype": "text/x-python",
   "name": "python",
   "nbconvert_exporter": "python",
   "pygments_lexer": "ipython3",
   "version": "3.8.2"
  }
 },
 "nbformat": 4,
 "nbformat_minor": 1
}
