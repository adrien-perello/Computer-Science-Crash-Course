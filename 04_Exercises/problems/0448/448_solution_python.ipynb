{
 "cells": [
  {
   "cell_type": "markdown",
   "metadata": {},
   "source": [
    "<h1>448. Find All Numbers Disappeared in an Array</h1>\n",
    "<hr>\n",
    "\n",
    "<!--Copy Paste Leetcode statement between-->\n",
    "<p>Given an array of integers where 1 ≤ a[i] ≤ <i>n</i> (<i>n</i> = size of array), some elements appear twice and others appear once.</p>\n",
    "\n",
    "<p>Find all the elements of [1, <i>n</i>] inclusive that do not appear in this array.</p>\n",
    "\n",
    "<p><b>Example:</b>\n",
    "</p><pre><b>Input:</b>\n",
    "[4,3,2,7,8,2,3,1]\n",
    "\n",
    "<b>Output:</b>\n",
    "[5,6]\n",
    "</pre>\n",
    "<p></p>\n",
    "<!--Copy Paste Leetcode statement between-->\n",
    "\n",
    "<p>&nbsp;</p>\n",
    "<a href=\"\">Source</a> \n",
    "<hr>\n",
    "\n",
    "<h4>Code</h4>"
   ]
  },
  {
   "cell_type": "code",
   "execution_count": 1,
   "metadata": {},
   "outputs": [],
   "source": [
    "def disappeared_numbers(nums):\n",
    "    \"\"\"\n",
    "    Time Complexity  O(n)\n",
    "    Space Complexity O(n)\n",
    "    \"\"\"\n",
    "    buff_set = set(nums)\n",
    "    missing_nums = []\n",
    "    for number in range(1, len(nums)+1):\n",
    "        if number not in buff_set:\n",
    "            missing_nums.append(number)\n",
    "    return missing_nums"
   ]
  },
  {
   "cell_type": "code",
   "execution_count": 2,
   "metadata": {},
   "outputs": [],
   "source": [
    "def disappeared_numbers(nums):\n",
    "    \"\"\"one line version of above solution.\"\"\"\n",
    "    return list(set(range(1, len(nums)+1)) - set(nums))"
   ]
  },
  {
   "cell_type": "markdown",
   "metadata": {},
   "source": [
    "<h4>Check</h4>"
   ]
  },
  {
   "cell_type": "code",
   "execution_count": 3,
   "metadata": {},
   "outputs": [
    {
     "data": {
      "text/plain": [
       "[5, 6]"
      ]
     },
     "execution_count": 3,
     "metadata": {},
     "output_type": "execute_result"
    }
   ],
   "source": [
    "nums = [4,3,2,7,8,2,3,1]\n",
    "disappeared_numbers(nums)"
   ]
  },
  {
   "cell_type": "markdown",
   "metadata": {},
   "source": [
    "<hr>\n",
    "<h4>Follow up:</h4>\n",
    "<p>Could you do it without extra space and in O(<i>n</i>) runtime? You may assume the returned list does not count as extra space.</p>\n",
    "\n",
    "\n",
    "<h4>Code</h4>"
   ]
  },
  {
   "cell_type": "code",
   "execution_count": 4,
   "metadata": {},
   "outputs": [],
   "source": [
    "### First, let's imagine this problem but with 0 <= a[i] <= n\n",
    "\n",
    "def disappeared_numbers(nums):\n",
    "    \"\"\"We match the integers in the table and their indexes\n",
    "    Time Complexity  O(n)\n",
    "    Space Complexity O(1)\n",
    "    \"\"\"\n",
    "    for i in range(len(nums)):\n",
    "        index = abs(nums[i])              # we find the number that nums[i] points to\n",
    "        nums[index] = - abs(nums[index])  # and we mark it as negative (now, the number AT \"index\" is <= 0)\n",
    "        #                                 # which tell us that the number \"index\" was spotted in nums\n",
    "        #                                 # abs() is to avoid being tricked by duplicates\n",
    "\n",
    "    return [i for i, n in enumerate(nums) if n > 0]  # only the remaining positive elements\n",
    "    #                                                  didn't appear in the values of nums"
   ]
  },
  {
   "cell_type": "code",
   "execution_count": 5,
   "metadata": {},
   "outputs": [
    {
     "name": "stdout",
     "output_type": "stream",
     "text": [
      "{0, 1, 2, 3, 6, 7}   -->   [4, 5]\n"
     ]
    }
   ],
   "source": [
    "nums = [3,2,1,6,7,1,2,0]\n",
    "print(set(sorted(nums)), \"  -->  \", disappeared_numbers(nums))"
   ]
  },
  {
   "cell_type": "code",
   "execution_count": 6,
   "metadata": {},
   "outputs": [
    {
     "name": "stdout",
     "output_type": "stream",
     "text": [
      "{1, 2, 3, 6, 7}   -->   [0, 4, 5]\n"
     ]
    }
   ],
   "source": [
    "nums = [3,2,1,6,7,1,2,1]\n",
    "print(set(sorted(nums)), \"  -->  \", disappeared_numbers(nums))"
   ]
  },
  {
   "cell_type": "code",
   "execution_count": 7,
   "metadata": {},
   "outputs": [
    {
     "name": "stdout",
     "output_type": "stream",
     "text": [
      "{0, 2, 3, 4, 7}   -->   [1, 5, 6]\n"
     ]
    }
   ],
   "source": [
    "nums = [4,3,2,7,7,2,3,0]\n",
    "print(set(sorted(nums)), \"  -->  \", disappeared_numbers(nums))"
   ]
  },
  {
   "cell_type": "code",
   "execution_count": 8,
   "metadata": {},
   "outputs": [],
   "source": [
    "### Now we just need to adjust +/-1 since 1 <= a[i] <= n\n",
    "\n",
    "def disappeared_numbers(nums):\n",
    "    \"\"\"Same as above, but adjusted for the fact that  1 <= a[i] <= n\"\"\"\n",
    "    for i in range(len(nums)):\n",
    "        index = abs(nums[i]) - 1\n",
    "        nums[index] = - abs(nums[index])\n",
    "\n",
    "    return [i+1 for i, n in enumerate(nums) if n > 0]"
   ]
  },
  {
   "cell_type": "code",
   "execution_count": null,
   "metadata": {},
   "outputs": [],
   "source": [
    "def disappeared_numbers(nums):\n",
    "    \"\"\"variation of above\"\"\"\n",
    "    nums = [0] + nums  # this prevents having to do +/- 1 later on\n",
    "\n",
    "    for i in range(len(nums)):\n",
    "        index = abs(nums[i])\n",
    "        nums[index] = -abs(nums[index])\n",
    "\n",
    "    return [i for i, n in enumerate(nums) if n > 0]"
   ]
  },
  {
   "cell_type": "markdown",
   "metadata": {},
   "source": [
    "<h4>Check</h4>"
   ]
  },
  {
   "cell_type": "code",
   "execution_count": 9,
   "metadata": {},
   "outputs": [
    {
     "data": {
      "text/plain": [
       "[5, 6]"
      ]
     },
     "execution_count": 9,
     "metadata": {},
     "output_type": "execute_result"
    }
   ],
   "source": [
    "nums = [4,3,2,7,8,2,3,1]\n",
    "disappeared_numbers(nums)"
   ]
  }
 ],
 "metadata": {
  "kernelspec": {
   "display_name": "Python 3",
   "language": "python",
   "name": "python3"
  },
  "language_info": {
   "codemirror_mode": {
    "name": "ipython",
    "version": 3
   },
   "file_extension": ".py",
   "mimetype": "text/x-python",
   "name": "python",
   "nbconvert_exporter": "python",
   "pygments_lexer": "ipython3",
   "version": "3.8.2"
  }
 },
 "nbformat": 4,
 "nbformat_minor": 1
}
