{
 "cells": [
  {
   "cell_type": "markdown",
   "metadata": {},
   "source": [
    "<h1>160. Intersection of Two Linked Lists</h1>\n",
    "<hr>\n",
    "\n",
    "<!--Copy Paste Leetcode statement between-->\n",
    "<p>Write a program to find the node at which the intersection of two singly linked lists begins.</p>\n",
    "\n",
    "<p>For example, the following two linked lists:</p>\n",
    "<img alt=\"\" src=\"./img1.png\" style=\"width: 400px; height: 130px;\"></a>\n",
    "\n",
    "<p>begin to intersect at node c1.</p>\n",
    "\n",
    "<p>&nbsp;</p>\n",
    "\n",
    "<p><strong>Example 1:</strong></p>\n",
    "<img alt=\"\" src=\"./img2.png\" style=\"width: 400px; height: 130px;\"></a>\n",
    "<pre><strong>Input: </strong>intersectVal = 8, listA = [4,1,8,4,5], listB = [5,6,1,8,4,5], skipA = 2, skipB = 3\n",
    "<strong>Output:</strong> Reference of the node with value = 8\n",
    "<strong>Input Explanation:</strong> The intersected node's value is 8 (note that this must not be 0 if the two lists intersect). From the head of A, it reads as [4,1,8,4,5]. From the head of B, it reads as [5,6,1,8,4,5]. There are 2 nodes before the intersected node in A; There are 3 nodes before the intersected node in B.</pre>\n",
    "\n",
    "<p>&nbsp;</p>\n",
    "\n",
    "<p><strong>Example 2:</strong></p>\n",
    "<img alt=\"\" src=\"./img3.png\" style=\"width: 350px; height: 136px;\"></a>\n",
    "\n",
    "<pre><strong>Input: </strong>intersectVal&nbsp;= 2, listA = [1,9,1,2,4], listB = [3,2,4], skipA = 3, skipB = 1\n",
    "<strong>Output:</strong> Reference of the node with value = 2\n",
    "<strong>Input Explanation:</strong>&nbsp;The intersected node's value is 2 (note that this must not be 0 if the two lists intersect). From the head of A, it reads as [1,9,1,2,4]. From the head of B, it reads as [3,2,4]. There are 3 nodes before the intersected node in A; There are 1 node before the intersected node in B.\n",
    "</pre>\n",
    "\n",
    "<p>&nbsp;</p>\n",
    "\n",
    "<p><strong>Example 3:</strong></p>\n",
    "<img alt=\"\" src=\"./img4.png\" style=\"width: 200px; height: 126px;\"></a>\n",
    "<pre><strong>Input: </strong>intersectVal = 0, listA = [2,6,4], listB = [1,5], skipA = 3, skipB = 2\n",
    "<strong>Output:</strong> null\n",
    "<strong>Input Explanation:</strong> From the head of A, it reads as [2,6,4]. From the head of B, it reads as [1,5]. Since the two lists do not intersect, intersectVal must be 0, while skipA and skipB can be arbitrary values.\n",
    "<strong>Explanation:</strong> The two lists do not intersect, so return null.\n",
    "</pre>\n",
    "\n",
    "<p>&nbsp;</p>\n",
    "\n",
    "<p><b>Notes:</b></p>\n",
    "\n",
    "<ul>\n",
    "\t<li>If the two linked lists have no intersection at all, return <code>null</code>.</li>\n",
    "\t<li>The linked lists must retain their original structure after the function returns.</li>\n",
    "\t<li>You may assume there are no cycles anywhere in the entire linked structure.</li>\n",
    "\t<li>Each value&nbsp;on each linked list is in the range <code>[1, 10^9]</code>.</li>\n",
    "\t<li>Your code should preferably run in O(n) time and use only O(1) memory.</li>\n",
    "</ul>\n",
    "<!--Copy Paste Leetcode statement between-->\n",
    "\n",
    "<p>&nbsp;</p>\n",
    "<a href=\"https://leetcode.com/problems/intersection-of-two-linked-lists/\">Source</a> \n",
    "<hr>\n",
    "\n",
    "<h4>Code</h4>"
   ]
  },
  {
   "cell_type": "code",
   "execution_count": 1,
   "metadata": {},
   "outputs": [],
   "source": [
    "def get_intersection_node(headA, headB):\n",
    "    pass"
   ]
  },
  {
   "cell_type": "markdown",
   "metadata": {},
   "source": [
    "<hr>\n",
    "<h4>Follow up:</h4>\n",
    "<p>Can you solve it using <code>O(1)</code> (i.e. constant) memory?</p>\n",
    "\n",
    "<h4>Code</h4>"
   ]
  },
  {
   "cell_type": "code",
   "execution_count": 2,
   "metadata": {},
   "outputs": [],
   "source": [
    "def get_intersection_node(headA, headB):\n",
    "    pass"
   ]
  }
 ],
 "metadata": {
  "kernelspec": {
   "display_name": "Python 3",
   "language": "python",
   "name": "python3"
  },
  "language_info": {
   "codemirror_mode": {
    "name": "ipython",
    "version": 3
   },
   "file_extension": ".py",
   "mimetype": "text/x-python",
   "name": "python",
   "nbconvert_exporter": "python",
   "pygments_lexer": "ipython3",
   "version": "3.8.2"
  }
 },
 "nbformat": 4,
 "nbformat_minor": 1
}
