{
 "cells": [
  {
   "cell_type": "markdown",
   "metadata": {},
   "source": [
    "<h1>46. Permutations</h1>\n",
    "<hr>\n",
    "\n",
    "<!--Copy Paste Leetcode statement between-->\n",
    "<p>Given an array <code>nums</code> of distinct integers, return <em>all the possible permutations</em>. You can return the answer in <strong>any order</strong>.</p>\n",
    "\n",
    "<p>&nbsp;</p>\n",
    "<p><strong>Example 1:</strong></p>\n",
    "<pre><strong>Input:</strong> nums = [1,2,3]\n",
    "<strong>Output:</strong> [[1,2,3],[1,3,2],[2,1,3],[2,3,1],[3,1,2],[3,2,1]]\n",
    "</pre><p><strong>Example 2:</strong></p>\n",
    "<pre><strong>Input:</strong> nums = [0,1]\n",
    "<strong>Output:</strong> [[0,1],[1,0]]\n",
    "</pre><p><strong>Example 3:</strong></p>\n",
    "<pre><strong>Input:</strong> nums = [1]\n",
    "<strong>Output:</strong> [[1]]\n",
    "</pre>\n",
    "<p>&nbsp;</p>\n",
    "<p><strong>Constraints:</strong></p>\n",
    "\n",
    "<ul>\n",
    "\t<li><code>1 &lt;= nums.length &lt;= 6</code></li>\n",
    "\t<li><code>-10 &lt;= nums[i] &lt;= 10</code></li>\n",
    "\t<li>All the integers of <code>nums</code> are <strong>unique</strong>.</li>\n",
    "</ul>\n",
    "<!--Copy Paste Leetcode statement between-->\n",
    "\n",
    "<p>&nbsp;</p>\n",
    "<a href=\"https://leetcode.com/problems/permutations/\">Source</a> \n",
    "<hr>"
   ]
  },
  {
   "cell_type": "markdown",
   "metadata": {},
   "source": [
    "<h4>Code</h4>"
   ]
  },
  {
   "cell_type": "code",
   "execution_count": 1,
   "metadata": {},
   "outputs": [],
   "source": [
    "def permute(nums):\n",
    "    \"\"\"Recursive solution.\n",
    "    every element ends up in each index f(n-1)x times, with f(n-1) = nb permutations of the elements left\n",
    "    In other words: Take any number as the 1st element and append to it any permutation of the other numbers\n",
    "\n",
    "    f(a)       = [a]\n",
    "    f(a, b)    = [a, b],      [b, a]\n",
    "               = [a] + f(b),  [b] + f(a)\n",
    "    f(a, b, c) = [a, b, c], [a, c, b], [b, a, c], [b, c, a], [c, a, b], [c, b, a]\n",
    "               = [a] + f(b, c),        [b] + f(a, c),        [c] + f(a, b)    \n",
    "    \"\"\"\n",
    "    def helper(nums, arr):\n",
    "        nonlocal result\n",
    "\n",
    "        if not nums:\n",
    "            result.append(arr)\n",
    "        for i, n in enumerate(nums):\n",
    "            helper(nums[:i]+nums[i+1:], [n]+arr)\n",
    "\n",
    "    result = []\n",
    "    helper(nums, [])\n",
    "    return result"
   ]
  },
  {
   "cell_type": "code",
   "execution_count": 2,
   "metadata": {},
   "outputs": [],
   "source": [
    "def permute(nums):\n",
    "    \"\"\"Take any number as the first element and append to it any permutation of the other numbers \"\"\"\n",
    "    if not nums:\n",
    "        return [[]]\n",
    "    return [[n] + p for i, n in enumerate(nums) for p in permute(nums[:i] + nums[i+1:])]"
   ]
  },
  {
   "cell_type": "code",
   "execution_count": 3,
   "metadata": {},
   "outputs": [],
   "source": [
    "def permute(nums):\n",
    "    \"\"\"Same solution as above but with generator\"\"\"\n",
    "    def generator(nums):\n",
    "        if not nums:\n",
    "            return [[]]\n",
    "        return ([n] + p for i, n in enumerate(nums) for p in generator(nums[:i] + nums[i+1:]))\n",
    "\n",
    "    return list(generator(nums))"
   ]
  },
  {
   "cell_type": "code",
   "execution_count": 4,
   "metadata": {},
   "outputs": [],
   "source": [
    "def permute(nums):\n",
    "    \"\"\"Alternative version of above solution\"\"\"\n",
    "    def generator(nums):\n",
    "        if not nums:\n",
    "            yield []\n",
    "        for i, n in enumerate(nums):\n",
    "            for p in generator(nums[:i] + nums[i+1:]):\n",
    "                yield [n] + p\n",
    "\n",
    "    return list(generator(nums))"
   ]
  },
  {
   "cell_type": "code",
   "execution_count": 5,
   "metadata": {},
   "outputs": [],
   "source": [
    "from functools import reduce\n",
    "\n",
    "def permute(nums):\n",
    "    \"\"\"Use reduce to insert the next number anywhere in the already built permutations.\"\"\"\n",
    "    def helper(prev_res, n):\n",
    "        result = []\n",
    "        for permutation in prev_res:\n",
    "            for i in range(len(permutation)+1):\n",
    "                # insert the next number anywhere in the already built permutations\n",
    "                result += [ permutation[:i] + [n] + permutation[i:] ]\n",
    "        return result\n",
    "\n",
    "    return reduce(helper, nums, [[]])"
   ]
  },
  {
   "cell_type": "code",
   "execution_count": 6,
   "metadata": {},
   "outputs": [],
   "source": [
    "from itertools import permutations\n",
    "\n",
    "def permute(nums):\n",
    "    \"\"\"Using the built-in methods permutations \"\"\"\n",
    "    return list(map(list, permutations(nums)))  # !! permutation returns itertools object\n",
    "    # list(permutations) returns list of tuples (each permutations = tuple)\n",
    "    # map(list, permutations()) convert each tuples into list but returns a map object"
   ]
  },
  {
   "cell_type": "markdown",
   "metadata": {},
   "source": [
    "<h4>Check</h4>"
   ]
  },
  {
   "cell_type": "code",
   "execution_count": 7,
   "metadata": {},
   "outputs": [
    {
     "data": {
      "text/plain": [
       "[[1, 2, 3], [1, 3, 2], [2, 1, 3], [2, 3, 1], [3, 1, 2], [3, 2, 1]]"
      ]
     },
     "execution_count": 7,
     "metadata": {},
     "output_type": "execute_result"
    }
   ],
   "source": [
    "nums = [1,2,3]\n",
    "permute(nums)"
   ]
  },
  {
   "cell_type": "code",
   "execution_count": 8,
   "metadata": {},
   "outputs": [
    {
     "data": {
      "text/plain": [
       "[[0, 1], [1, 0]]"
      ]
     },
     "execution_count": 8,
     "metadata": {},
     "output_type": "execute_result"
    }
   ],
   "source": [
    "nums = [0, 1]\n",
    "permute(nums)"
   ]
  },
  {
   "cell_type": "code",
   "execution_count": 9,
   "metadata": {},
   "outputs": [
    {
     "data": {
      "text/plain": [
       "[[1]]"
      ]
     },
     "execution_count": 9,
     "metadata": {},
     "output_type": "execute_result"
    }
   ],
   "source": [
    "nums = [1]\n",
    "permute(nums)"
   ]
  }
 ],
 "metadata": {
  "kernelspec": {
   "display_name": "Python 3",
   "language": "python",
   "name": "python3"
  },
  "language_info": {
   "codemirror_mode": {
    "name": "ipython",
    "version": 3
   },
   "file_extension": ".py",
   "mimetype": "text/x-python",
   "name": "python",
   "nbconvert_exporter": "python",
   "pygments_lexer": "ipython3",
   "version": "3.8.2"
  }
 },
 "nbformat": 4,
 "nbformat_minor": 1
}
