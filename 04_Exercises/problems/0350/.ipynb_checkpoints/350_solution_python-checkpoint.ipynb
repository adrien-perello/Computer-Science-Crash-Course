{
 "cells": [
  {
   "cell_type": "markdown",
   "metadata": {},
   "source": [
    "<h1>350. Intersection of Two Arrays II</h1>\n",
    "<hr>\n",
    "\n",
    "<!--Copy Paste Leetcode statement between-->\n",
    "<p>Given two arrays, write a function to compute their intersection.</p>\n",
    "\n",
    "<p><strong>Example 1:</strong></p>\n",
    "\n",
    "<pre><strong>Input: </strong>nums1 = <span id=\"example-input-1-1\">[1,2,2,1]</span>, nums2 = <span id=\"example-input-1-2\">[2,2]</span>\n",
    "<strong>Output: </strong><span id=\"example-output-1\">[2,2]</span>\n",
    "</pre>\n",
    "\n",
    "<div>\n",
    "<p><strong>Example 2:</strong></p>\n",
    "\n",
    "<pre><strong>Input: </strong>nums1 = <span id=\"example-input-2-1\">[4,9,5]</span>, nums2 = <span id=\"example-input-2-2\">[9,4,9,8,4]</span>\n",
    "<strong>Output: </strong><span id=\"example-output-2\">[4,9]</span></pre>\n",
    "</div>\n",
    "\n",
    "<p><b>Note:</b></p>\n",
    "\n",
    "<ul>\n",
    "\t<li>Each element in the result should appear <b>as many times</b> as it shows in both arrays.</li>\n",
    "\t<li>The result can be in any order.</li>\n",
    "</ul>\n",
    "<!--Copy Paste Leetcode statement between-->\n",
    "\n",
    "<p>&nbsp;</p>\n",
    "<a href=\"https://leetcode.com/problems/intersection-of-two-arrays-ii/\">Source</a> \n",
    "<hr>\n",
    "\n",
    "<h4>Code</h4>"
   ]
  },
  {
   "cell_type": "code",
   "execution_count": 15,
   "metadata": {},
   "outputs": [],
   "source": [
    "from collections import Counter\n",
    "\n",
    "def intersect(nums1, nums2):\n",
    "    \"\"\"\n",
    "    Time Complexity:  O(n+m)\n",
    "    Space Complexity: O(n+m)\n",
    "    \"\"\"\n",
    "    counts = Counter(nums1)\n",
    "    res = []\n",
    "    for i in nums2:\n",
    "        if counts[i] > 0:\n",
    "            res += i,\n",
    "            counts[i] -= 1\n",
    "    return res"
   ]
  },
  {
   "cell_type": "code",
   "execution_count": 16,
   "metadata": {},
   "outputs": [],
   "source": [
    "from collections import Counter\n",
    "\n",
    "def intersect(nums1, nums2):\n",
    "    \"\"\"variation of above solution.\"\"\"\n",
    "    return list((Counter(nums1) & Counter(nums2)).elements())\n",
    "    # using \".intersection()\" instead of '&' (as in leetcode 350) would not work here\n",
    "    # since it is a class 'set' method\n",
    "    # Counter('greekgeeks').elements() = [g,g,r,e,e,e,e,k,k,s]"
   ]
  },
  {
   "cell_type": "markdown",
   "metadata": {},
   "source": [
    "<h4>Check</h4>"
   ]
  },
  {
   "cell_type": "code",
   "execution_count": 18,
   "metadata": {},
   "outputs": [
    {
     "data": {
      "text/plain": [
       "[2, 2]"
      ]
     },
     "execution_count": 18,
     "metadata": {},
     "output_type": "execute_result"
    }
   ],
   "source": [
    "nums1 = [1,2,2,1]\n",
    "nums2 = [2,2]\n",
    "intersect(nums1, nums2)"
   ]
  },
  {
   "cell_type": "code",
   "execution_count": 19,
   "metadata": {},
   "outputs": [
    {
     "data": {
      "text/plain": [
       "[4, 9]"
      ]
     },
     "execution_count": 19,
     "metadata": {},
     "output_type": "execute_result"
    }
   ],
   "source": [
    "nums1 = [4,9,5]\n",
    "nums2 = [9,4,9,8,4]\n",
    "intersect(nums1, nums2)"
   ]
  },
  {
   "cell_type": "markdown",
   "metadata": {},
   "source": [
    "<hr>\n",
    "<h4>Follow up #1:</h4>\n",
    "<p>What if the given array is already sorted? How would you optimize your algorithm?</p>\n",
    "\n",
    "<h4>Code</h4>"
   ]
  },
  {
   "cell_type": "code",
   "execution_count": 8,
   "metadata": {},
   "outputs": [],
   "source": [
    " def intersect(nums1, nums2):\n",
    "    \"\"\"Using Two Pointers.\n",
    "    Time Complexity: 0(n+m)\n",
    "    Space Complexity: 0(1) (auxiliary memory, not counting output)\n",
    "    \"\"\"\n",
    "    i, j = 0, 0\n",
    "    res = []\n",
    "    \n",
    "    while i < len(nums1) and j < len(nums2):\n",
    "        if nums1[i] == nums2[j]:\n",
    "            res.append(nums1[i])\n",
    "            i += 1\n",
    "            j += 1\n",
    "        elif nums1[i] < nums2[j]:\n",
    "            i += 1\n",
    "        else:\n",
    "            j += 1\n",
    "    return res"
   ]
  },
  {
   "cell_type": "markdown",
   "metadata": {},
   "source": [
    "<hr>\n",
    "<h4>Follow up #2:</h4>\n",
    "<p>What if <code>nums1</code>'s size is small compared to <code>nums2</code>'s size? Which algorithm is better?</p>\n",
    "\n",
    "<h4>Code</h4>"
   ]
  },
  {
   "cell_type": "code",
   "execution_count": 20,
   "metadata": {},
   "outputs": [],
   "source": [
    "# It's better to construct the counter hash on nums1 - O(n) - and traverse nums2 - O(m)\n",
    "# Rather than traversing nums1 - O(n) and using the Two Pointers solution on nums2\n",
    "# which would require to first sort nums2 - O(mlogm)\n",
    "\n",
    "# Time Complexity:  O(n+m)    vs O(n + mlogm)\n",
    "# Space Complexity: O(n)      vs O(1)"
   ]
  },
  {
   "cell_type": "markdown",
   "metadata": {},
   "source": [
    "<hr>\n",
    "<h4>Follow up #3:</h4>\n",
    "<p>What if elements of <code>nums2</code> are stored on disk, and the memory is limited such that you cannot load all elements into the memory at once?</p>\n",
    "\n",
    "<h4>Code</h4>"
   ]
  },
  {
   "cell_type": "code",
   "execution_count": 21,
   "metadata": {},
   "outputs": [],
   "source": [
    "# Answer 1\n",
    "# sort nums2 using external sort, read each chunk into memory and then using the\n",
    "# 2 pointer technique, Repeat this until no more data to read from disk.\n",
    "\n",
    "# Answer 2\n",
    "# If the memory is limited, you can only choose the Two Pointers method or\n",
    "# the brute force method, without additional space complexity.\n",
    "# When using a hash table, in the worst case, each number only appears once.\n",
    "# After the HashMap element frequency is counted, its size may be larger than\n",
    "# the memory capacity.\n",
    "\n",
    "# Answer 3\n",
    "# You could use the 2 pointers to keep looking up the values on disk.\n",
    "# Something similar to what external merge sort does\n",
    "# (https://en.wikipedia.org/wiki/External_sorting#External_merge_sort)"
   ]
  }
 ],
 "metadata": {
  "kernelspec": {
   "display_name": "Python 3",
   "language": "python",
   "name": "python3"
  },
  "language_info": {
   "codemirror_mode": {
    "name": "ipython",
    "version": 3
   },
   "file_extension": ".py",
   "mimetype": "text/x-python",
   "name": "python",
   "nbconvert_exporter": "python",
   "pygments_lexer": "ipython3",
   "version": "3.8.2"
  }
 },
 "nbformat": 4,
 "nbformat_minor": 1
}
