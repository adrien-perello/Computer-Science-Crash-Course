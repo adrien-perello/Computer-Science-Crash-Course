{
 "cells": [
  {
   "cell_type": "markdown",
   "metadata": {},
   "source": [
    "<h1>242. Valid Anagram</h1>\n",
    "<hr>\n",
    "\n",
    "<!--Copy Paste Leetcode statement between-->\n",
    "<p>Given two strings <em>s</em> and <em>t&nbsp;</em>, write a function to determine if <em>t</em> is an anagram of <em>s</em>.</p>\n",
    "\n",
    "<p><b>Example 1:</b></p>\n",
    "\n",
    "<pre><b>Input:</b> <em>s</em> = \"anagram\", <em>t</em> = \"nagaram\"\n",
    "<b>Output:</b> true\n",
    "</pre>\n",
    "\n",
    "<p><b>Example 2:</b></p>\n",
    "\n",
    "<pre><b>Input:</b> <em>s</em> = \"rat\", <em>t</em> = \"car\"\n",
    "<b>Output: </b>false\n",
    "</pre>\n",
    "\n",
    "<p><strong>Note:</strong><br>\n",
    "You may assume the string contains only lowercase alphabets.</p>\n",
    "<!--Copy Paste Leetcode statement between-->\n",
    "\n",
    "<p>&nbsp;</p>\n",
    "<a href=\"https://leetcode.com/problems/valid-anagram/\">Source</a> \n",
    "<hr>\n",
    "\n",
    "<h4>Code</h4>"
   ]
  },
  {
   "cell_type": "code",
   "execution_count": 1,
   "metadata": {},
   "outputs": [],
   "source": [
    "from collections import Counter\n",
    "\n",
    "def is_anagram(s, t):\n",
    "    \"\"\"Using Hash Table\n",
    "    Time complexity : O(n)\n",
    "    Space complexity : O(26) = O(1) since only 26 letters max\n",
    "    \"\"\"\n",
    "    c1 = Counter(s)\n",
    "    c2 = Counter(t)\n",
    "    \n",
    "    if len(c1) != len(c2):\n",
    "        return False\n",
    "\n",
    "    for char, freq in c1.items():\n",
    "        if c2.get(char, -1) != freq:  # dict.get(key, default=None)\n",
    "            return False\n",
    "    return True"
   ]
  },
  {
   "cell_type": "code",
   "execution_count": 2,
   "metadata": {},
   "outputs": [],
   "source": [
    "def is_anagram(s, t):\n",
    "    \"\"\"Without using counter\"\"\"\n",
    "    count = {}\n",
    "\n",
    "    for char in s:\n",
    "        count[char] = count[char] + 1 if char in count else 1\n",
    "\n",
    "    for char in t:\n",
    "        if char not in count:\n",
    "            return False\n",
    "        count[char] -= 1\n",
    "        if count[char] == 0:\n",
    "            del count[char]\n",
    "\n",
    "    return count == {}"
   ]
  },
  {
   "cell_type": "code",
   "execution_count": 3,
   "metadata": {},
   "outputs": [],
   "source": [
    "def is_anagram(s, t):\n",
    "    \"\"\"Using sort\n",
    "    Time complexity : O(nlogn)\n",
    "    Space complexity : O(n) or O(1) depending on language implementation\n",
    "    \"\"\"\n",
    "    return sorted(s) == sorted(t)"
   ]
  },
  {
   "cell_type": "markdown",
   "metadata": {},
   "source": [
    "<hr>\n",
    "<h4>Follow up:</h4>\n",
    "<p>What if the inputs contain unicode characters? How would you adapt your solution to such case?</p>\n",
    "\n",
    "<h4>Code</h4>"
   ]
  },
  {
   "cell_type": "code",
   "execution_count": 4,
   "metadata": {},
   "outputs": [],
   "source": [
    "# no problem with the use of Hash Table. It would be a problem if we had use a table instead"
   ]
  }
 ],
 "metadata": {
  "kernelspec": {
   "display_name": "Python 3",
   "language": "python",
   "name": "python3"
  },
  "language_info": {
   "codemirror_mode": {
    "name": "ipython",
    "version": 3
   },
   "file_extension": ".py",
   "mimetype": "text/x-python",
   "name": "python",
   "nbconvert_exporter": "python",
   "pygments_lexer": "ipython3",
   "version": "3.8.2"
  }
 },
 "nbformat": 4,
 "nbformat_minor": 1
}
