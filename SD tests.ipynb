{
 "cells": [
  {
   "cell_type": "markdown",
   "id": "sophisticated-manner",
   "metadata": {
    "hideCode": false,
    "hidePrompt": false,
    "hide_input": false,
    "tags": [
     "hide-input"
    ]
   },
   "source": [
    "\n",
    "<div class='vspace'></div>\n",
    "<h4>Laplace Transform Table</h4>\n",
    "<table border='1' rules='rows' width='100%' align='left' cellpadding='0'>\n",
    "  <tr>\n",
    "    <td align='center'><strong> <em>f(t)</em> in Time Domain</strong></td>\n",
    "    <td align='center'><strong> <em>F(s)</em> in Laplace Domain </strong></td>\n",
    "  </tr>\n",
    "  <tr>\n",
    "    <td align='center'>$$\\delta(t)\\quad \\mathrm{unit \\; impulse}$$</td>\n",
    "    <td align='center'>$$1$$</td>\n",
    "  </tr>\n",
    "  <tr>\n",
    "    <td align='center'>$$S(t) \\quad \\mathrm{unit \\; step}$$</td>\n",
    "    <td align='center'>$$\\frac{1}{s}$$</td>\n",
    "  </tr>\n",
    "  <tr>\n",
    "    <td align='center'>$$t \\quad \\mathrm{ramp \\; with \\; slope = 1}$$</td>\n",
    "    <td align='center'>$$\\frac{1}{s^2}$$</td>\n",
    "  </tr>\n",
    "  <tr>\n",
    "    <td align='center'>$$t^{n-1}$$</td>\n",
    "    <td align='center'>$$\\frac{(n-1)!}{s^n}$$</td>\n",
    "  </tr>\n",
    "  <tr>\n",
    "    <td align='center'>$$e^{-b\\,t}$$</td>\n",
    "    <td align='center'>$$\\frac{1}{s+b}$$</td>\n",
    "  </tr>\n",
    "  <tr>\n",
    "    <td align='center'>$$1-e^{-t/\\tau}$$</td>\n",
    "    <td align='center'>$$\\frac{1}{s(\\tau s + 1)}$$</td>\n",
    "  </tr>\n",
    "  <tr>\n",
    "    <td align='center'>$$\\sin(\\omega t)$$</td>\n",
    "    <td align='right'>$$\\frac{\\omega}{s^2+\\omega^2}$$</td>\n",
    "  </tr>\n",
    "  <tr>\n",
    "    <td align='center'>$$\\cos(\\omega t)$$</td>\n",
    "    <td align='right'>$$\\frac{s}{s^2+\\omega^2}$$</td>\n",
    "  </tr>\n",
    "  <tr>\n",
    "    <td align='center'>$$\\frac{1}{\\tau_1-\\tau_2}\\left(e^{\\left(-t/\\tau_1\\right)} - e^{\\left(-t/\\tau_2 \\right)} \\right)$$</td>\n",
    "    <td align='center'>$$\\frac{1}{\\left(\\tau_1s+1\\right)\\left(\\tau_2s+1\\right)}$$</td>\n",
    "  </tr>\n",
    "  <tr>\n",
    "    <td align='center'>$$\\frac{1}{\\tau^n \\left(n-1\\right)!}t^{n-1}e^{\\left(-\\frac{t}{\\tau}\\right)}$$</td>\n",
    "    <td align='center'>$$\\frac{1}{\\left(\\tau s+1\\right)^n}$$</td>\n",
    "  </tr>\n",
    "  <tr>\n",
    "    <td align='center'>$$\\frac{1}{\\tau \\sqrt{1-\\zeta^2}} e^{\\left(-\\frac{\\zeta \\, t}{\\tau}\\right)} \\sin{ \\left( \\sqrt{1-\\zeta^2} \\frac{t}{\\tau} \\right) }$$</td>\n",
    "    <td align='center'>$$\\frac{1}{\\tau^2 s^2 + 2 \\zeta \\tau s + 1}$$</td>\n",
    "  </tr>\n",
    "  <tr>\n",
    "    <td align='center'>See <a class='wikilink' href='https://apmonitor.com/pdc/index.php/Main/SecondOrderSystems'>2nd Order Systems</a></td>\n",
    "    <td align='center'>$$\\frac{1}{s\\left(\\tau^2 s^2 + 2 \\zeta \\tau s + 1\\right)}$$</td>\n",
    "  </tr>\n",
    "  <tr>\n",
    "    <td align='center'>$$\\frac{df}{dt}$$</td>\n",
    "    <td align='center'>$$sF(s)-f(0)$$</td>\n",
    "  </tr>\n",
    "  <tr>\n",
    "    <td align='center'>$$\\frac{d^nf}{dt^n}$$</td>\n",
    "    <td align='center'>$$s^n F(s) - s^{n-1} f(0) - s^{n-2}f^{(1)}(0) - \\ldots \\\\ - sf^{(n-2)}(0) - f^{(n-1)}(0)$$</td>\n",
    "  </tr>\n",
    "  <tr>\n",
    "    <td align='center'>$$\\int f(t)$$</td>\n",
    "    <td align='center'>$$\\frac{F(s)}{s}$$</td>\n",
    "  </tr>\n",
    "  <tr>\n",
    "    <td align='center'>$$f\\left(t-t_0\\right)S\\left(t-t_0\\right)$$</td>\n",
    "    <td align='center'>$$e^{-t_0s}F(s)$$</td>\n",
    "  </tr>\n",
    "</table>\n",
    "<p class='vspace'>Note that the functions <em>f(t)</em> and <em>F(s)</em> are defined for time greater than or equal to zero. The next step of transforming a linear differential equation into a <a class='wikilink'\n",
    "    href='https://apmonitor.com/pdc/index.php/Main/TransferFunctions'>transfer function</a> is to reposition the variables to create an input to output representation of a differential equation.\n",
    "</p>"
   ]
  },
  {
   "cell_type": "code",
   "execution_count": 1,
   "id": "endless-calvin",
   "metadata": {
    "deletable": false,
    "editable": false,
    "hideCode": true,
    "hidePrompt": false,
    "jupyter": {
     "source_hidden": true
    },
    "run_control": {
     "frozen": true
    },
    "tags": []
   },
   "outputs": [],
   "source": [
    "import types"
   ]
  },
  {
   "cell_type": "code",
   "execution_count": 2,
   "id": "broken-diabetes",
   "metadata": {
    "code_folding": [],
    "hideCode": false,
    "hideOutput": false,
    "hidePrompt": false,
    "hide_input": false,
    "jupyter": {
     "source_hidden": true
    },
    "tags": []
   },
   "outputs": [],
   "source": [
    "def imports():\n",
    "    for name, val in globals().items():\n",
    "        if isinstance(val, types.ModuleType):\n",
    "            yield val.__name__"
   ]
  },
  {
   "cell_type": "code",
   "execution_count": 3,
   "id": "acute-filename",
   "metadata": {
    "hideCode": false,
    "hideOutput": true,
    "hidePrompt": false,
    "hide_input": false,
    "jupyter": {
     "source_hidden": true
    },
    "tags": []
   },
   "outputs": [
    {
     "data": {
      "text/plain": [
       "['builtins', 'builtins', 'json', 'autopep8', 'numpy', 'types']"
      ]
     },
     "execution_count": 3,
     "metadata": {},
     "output_type": "execute_result"
    }
   ],
   "source": [
    "list(imports())"
   ]
  },
  {
   "cell_type": "code",
   "execution_count": 1,
   "id": "respective-reservation",
   "metadata": {
    "hideCode": false,
    "hidePrompt": false
   },
   "outputs": [],
   "source": [
    "import numpy as np\n",
    "import matplotlib.pyplot as plt"
   ]
  },
  {
   "cell_type": "code",
   "execution_count": 5,
   "id": "revolutionary-breathing",
   "metadata": {
    "hideCode": false,
    "hideOutput": true,
    "hidePrompt": false
   },
   "outputs": [
    {
     "data": {
      "text/plain": [
       "['builtins',\n",
       " 'builtins',\n",
       " 'json',\n",
       " 'autopep8',\n",
       " 'numpy',\n",
       " 'types',\n",
       " 'matplotlib.pyplot']"
      ]
     },
     "execution_count": 5,
     "metadata": {},
     "output_type": "execute_result"
    }
   ],
   "source": [
    "list(imports())"
   ]
  },
  {
   "cell_type": "code",
   "execution_count": 2,
   "id": "blank-roberts",
   "metadata": {
    "hideCode": true,
    "hidePrompt": false
   },
   "outputs": [],
   "source": [
    "from sympy import poly, solve\n",
    "from sympy.integrals import inverse_laplace_transform\n",
    "from sympy import Heaviside"
   ]
  },
  {
   "cell_type": "code",
   "execution_count": 7,
   "id": "advanced-champion",
   "metadata": {
    "hideCode": false,
    "hidePrompt": false
   },
   "outputs": [
    {
     "data": {
      "text/plain": [
       "['builtins',\n",
       " 'builtins',\n",
       " 'json',\n",
       " 'autopep8',\n",
       " 'numpy',\n",
       " 'types',\n",
       " 'matplotlib.pyplot']"
      ]
     },
     "execution_count": 7,
     "metadata": {},
     "output_type": "execute_result"
    }
   ],
   "source": [
    "list(imports())"
   ]
  },
  {
   "cell_type": "code",
   "execution_count": 6,
   "id": "sharp-cannon",
   "metadata": {
    "hideCode": false,
    "hidePrompt": false
   },
   "outputs": [],
   "source": [
    "from sklearn import metrics"
   ]
  },
  {
   "cell_type": "code",
   "execution_count": 9,
   "id": "flexible-thing",
   "metadata": {
    "hideCode": false,
    "hidePrompt": false
   },
   "outputs": [
    {
     "data": {
      "text/plain": [
       "['builtins',\n",
       " 'builtins',\n",
       " 'json',\n",
       " 'autopep8',\n",
       " 'numpy',\n",
       " 'types',\n",
       " 'matplotlib.pyplot',\n",
       " 'sklearn.metrics']"
      ]
     },
     "execution_count": 9,
     "metadata": {},
     "output_type": "execute_result"
    }
   ],
   "source": [
    "list(imports())"
   ]
  },
  {
   "cell_type": "code",
   "execution_count": 8,
   "id": "banner-curtis",
   "metadata": {
    "hideCode": false,
    "hidePrompt": false
   },
   "outputs": [],
   "source": [
    "import sympy"
   ]
  },
  {
   "cell_type": "code",
   "execution_count": 11,
   "id": "boolean-synthetic",
   "metadata": {
    "hideCode": false,
    "hidePrompt": false,
    "scrolled": true
   },
   "outputs": [
    {
     "data": {
      "text/plain": [
       "['builtins',\n",
       " 'builtins',\n",
       " 'json',\n",
       " 'autopep8',\n",
       " 'numpy',\n",
       " 'types',\n",
       " 'matplotlib.pyplot',\n",
       " 'sklearn.metrics',\n",
       " 'sympy']"
      ]
     },
     "execution_count": 11,
     "metadata": {},
     "output_type": "execute_result"
    }
   ],
   "source": [
    "list(imports())"
   ]
  },
  {
   "cell_type": "code",
   "execution_count": 2,
   "id": "hollywood-princeton",
   "metadata": {
    "hideCode": false,
    "hidePrompt": false
   },
   "outputs": [],
   "source": [
    "%load_ext watermark"
   ]
  },
  {
   "cell_type": "code",
   "execution_count": 9,
   "id": "robust-brazil",
   "metadata": {
    "hideCode": false,
    "hidePrompt": false
   },
   "outputs": [
    {
     "name": "stdout",
     "output_type": "stream",
     "text": [
      "matplotlib: 3.3.4\n",
      "sklearn   : 0.24.1\n",
      "numpy     : 1.20.1\n",
      "sympy     : 1.7.1\n",
      "\n"
     ]
    }
   ],
   "source": [
    "%watermark -iv"
   ]
  },
  {
   "cell_type": "code",
   "execution_count": 3,
   "id": "imperial-position",
   "metadata": {
    "hideCode": false,
    "hidePrompt": false
   },
   "outputs": [
    {
     "name": "stdout",
     "output_type": "stream",
     "text": [
      "Note: you may need to restart the kernel to use updated packages.\n"
     ]
    }
   ],
   "source": [
    "pip freeze > requirements.txt"
   ]
  },
  {
   "cell_type": "code",
   "execution_count": 6,
   "id": "important-cancer",
   "metadata": {
    "hideCode": false,
    "hidePrompt": false
   },
   "outputs": [
    {
     "data": {
      "text/plain": [
       "[-2 - I, -2 + I]"
      ]
     },
     "execution_count": 6,
     "metadata": {},
     "output_type": "execute_result"
    }
   ],
   "source": [
    "from sympy import poly, solve\n",
    "from sympy.abc import x, s\n",
    "\n",
    "eq1 = poly(s**2 + 4*s + 5)\n",
    "solve(eq1)"
   ]
  },
  {
   "cell_type": "code",
   "execution_count": 31,
   "id": "psychological-thumb",
   "metadata": {
    "hideCode": false,
    "hidePrompt": false
   },
   "outputs": [],
   "source": [
    "import functools"
   ]
  },
  {
   "cell_type": "code",
   "execution_count": null,
   "id": "light-expense",
   "metadata": {
    "hideCode": false,
    "hidePrompt": false
   },
   "outputs": [],
   "source": []
  },
  {
   "cell_type": "code",
   "execution_count": 9,
   "id": "green-officer",
   "metadata": {
    "hideCode": false,
    "hidePrompt": false,
    "tags": [
     "hide-input"
    ]
   },
   "outputs": [],
   "source": [
    "import sympy as sym\n",
    "from sympy.abc import s,t,x,y,z\n",
    "from sympy.integrals import inverse_laplace_transform\n",
    "from sympy import Heaviside\n",
    "import numpy as np\n",
    "import matplotlib.pyplot as plt"
   ]
  },
  {
   "cell_type": "code",
   "execution_count": 2,
   "id": "laughing-popularity",
   "metadata": {
    "hideCode": false,
    "hidePrompt": false
   },
   "outputs": [],
   "source": [
    "# time array\n",
    "t0 = 0\n",
    "tf = 8\n",
    "step = 0.1\n",
    "tm = np.arange(t0, tf+step, step)"
   ]
  },
  {
   "cell_type": "code",
   "execution_count": 3,
   "id": "positive-folder",
   "metadata": {
    "hideCode": false,
    "hidePrompt": false
   },
   "outputs": [],
   "source": [
    "# First step (up) starts at 1 sec\n",
    "U1 = 2/s*sym.exp(-s)\n",
    "# Ramp (down) starts at 3 sec\n",
    "U2 = -1/s**2*sym.exp(-3*s)\n",
    "# Ramp completes at 5 sec\n",
    "U3 = 1/s**2*sym.exp(-5*s)"
   ]
  },
  {
   "cell_type": "code",
   "execution_count": 4,
   "id": "formed-power",
   "metadata": {
    "hideCode": false,
    "hidePrompt": false
   },
   "outputs": [],
   "source": [
    "# Transfer function\n",
    "# G = 5*(s+1)/(s+3)**2\n",
    "\n",
    "# Calculate responses\n",
    "# Y1 = G * U1\n",
    "# Y2 = G * U2\n",
    "# Y3 = G * U3"
   ]
  },
  {
   "cell_type": "code",
   "execution_count": 5,
   "id": "defined-express",
   "metadata": {
    "hideCode": false,
    "hidePrompt": false
   },
   "outputs": [],
   "source": [
    "# Inverse Laplace Transform\n",
    "u1 = inverse_laplace_transform(U1,s,t)\n",
    "u2 = inverse_laplace_transform(U2,s,t)\n",
    "u3 = inverse_laplace_transform(U3,s,t)"
   ]
  },
  {
   "cell_type": "code",
   "execution_count": 6,
   "id": "satisfied-anchor",
   "metadata": {
    "hideCode": false,
    "hidePrompt": false
   },
   "outputs": [],
   "source": [
    "# y1 = inverse_laplace_transform(Y1,s,t)\n",
    "# y2 = inverse_laplace_transform(Y2,s,t)\n",
    "# y3 = inverse_laplace_transform(Y3,s,t)\n",
    "# print('y1')\n",
    "# print(y1)"
   ]
  },
  {
   "cell_type": "code",
   "execution_count": 7,
   "id": "vocal-spell",
   "metadata": {
    "hideCode": false,
    "hidePrompt": false
   },
   "outputs": [],
   "source": [
    "us = np.zeros(len(tm))\n",
    "\n",
    "for u in [u1,u2,u3]:\n",
    "    for i, time in enumerate(tm):\n",
    "        val = u.replace(t, time)\n",
    "        try:\n",
    "            us[i] += val\n",
    "        except TypeError:\n",
    "            us[i] += val.replace(Heaviside(0), 1)"
   ]
  },
  {
   "cell_type": "code",
   "execution_count": 8,
   "id": "mediterranean-memorabilia",
   "metadata": {
    "hideCode": false,
    "hidePrompt": false
   },
   "outputs": [],
   "source": [
    "# for y in [y1,y2,y3]:\n",
    "#     for i in range(len(tm)):\n",
    "#         ys[i] += y.subs(t,tm[i])"
   ]
  },
  {
   "cell_type": "code",
   "execution_count": 9,
   "id": "entitled-information",
   "metadata": {
    "hideCode": false,
    "hidePrompt": false
   },
   "outputs": [
    {
     "data": {
      "image/png": "[encoded data removed]",
      "text/plain": [
       "<Figure size 432x288 with 1 Axes>"
      ]
     },
     "metadata": {
      "needs_background": "light"
     },
     "output_type": "display_data"
    }
   ],
   "source": [
    "# plot results\n",
    "plt.figure()\n",
    "plt.plot(tm, us, label='u(t)')\n",
    "# plt.plot(tm,ys,label='y(t)')\n",
    "plt.legend(loc='best')\n",
    "plt.xlabel('Time')\n",
    "plt.show()"
   ]
  },
  {
   "cell_type": "code",
   "execution_count": null,
   "id": "powerful-packaging",
   "metadata": {
    "hideCode": false,
    "hidePrompt": false
   },
   "outputs": [],
   "source": []
  },
  {
   "cell_type": "code",
   "execution_count": null,
   "id": "verbal-tongue",
   "metadata": {
    "hideCode": false,
    "hidePrompt": false
   },
   "outputs": [],
   "source": []
  },
  {
   "cell_type": "code",
   "execution_count": null,
   "id": "acquired-drunk",
   "metadata": {
    "hideCode": false,
    "hidePrompt": false
   },
   "outputs": [],
   "source": []
  },
  {
   "cell_type": "code",
   "execution_count": null,
   "id": "irish-delay",
   "metadata": {
    "hideCode": false,
    "hidePrompt": false
   },
   "outputs": [],
   "source": []
  },
  {
   "cell_type": "code",
   "execution_count": null,
   "id": "wicked-bacteria",
   "metadata": {
    "hideCode": false,
    "hidePrompt": false
   },
   "outputs": [],
   "source": []
  },
  {
   "cell_type": "code",
   "execution_count": null,
   "id": "going-distributor",
   "metadata": {
    "hideCode": false,
    "hidePrompt": false
   },
   "outputs": [],
   "source": []
  },
  {
   "cell_type": "code",
   "execution_count": null,
   "id": "catholic-serial",
   "metadata": {
    "hideCode": false,
    "hidePrompt": false
   },
   "outputs": [],
   "source": []
  },
  {
   "cell_type": "code",
   "execution_count": null,
   "id": "distinguished-inspection",
   "metadata": {
    "hideCode": false,
    "hidePrompt": false
   },
   "outputs": [],
   "source": []
  },
  {
   "cell_type": "code",
   "execution_count": null,
   "id": "funded-delta",
   "metadata": {
    "hideCode": false,
    "hidePrompt": false
   },
   "outputs": [],
   "source": []
  },
  {
   "cell_type": "code",
   "execution_count": null,
   "id": "productive-honduras",
   "metadata": {
    "hideCode": false,
    "hidePrompt": false
   },
   "outputs": [],
   "source": []
  },
  {
   "cell_type": "code",
   "execution_count": null,
   "id": "tracked-perry",
   "metadata": {
    "hideCode": false,
    "hidePrompt": false
   },
   "outputs": [],
   "source": []
  },
  {
   "cell_type": "code",
   "execution_count": null,
   "id": "severe-increase",
   "metadata": {
    "hideCode": false,
    "hidePrompt": false
   },
   "outputs": [],
   "source": []
  },
  {
   "cell_type": "code",
   "execution_count": null,
   "id": "recent-kennedy",
   "metadata": {
    "hideCode": false,
    "hidePrompt": false
   },
   "outputs": [],
   "source": []
  },
  {
   "cell_type": "code",
   "execution_count": 374,
   "id": "written-venice",
   "metadata": {
    "collapsed": true,
    "hideCode": false,
    "hidePrompt": false,
    "jupyter": {
     "outputs_hidden": true
    },
    "tags": [
     "hide-input"
    ]
   },
   "outputs": [],
   "source": [
    "import ipywidgets as wg\n",
    "from IPython.display import display \n",
    "import numpy as np\n",
    "%matplotlib inline\n",
    "import matplotlib.pyplot as plt"
   ]
  },
  {
   "cell_type": "code",
   "execution_count": 375,
   "id": "organized-reggae",
   "metadata": {
    "hideCode": false,
    "hidePrompt": false,
    "tags": [
     "hide-input"
    ]
   },
   "outputs": [],
   "source": [
    "def fopdtPlot(K,tau,theta):\n",
    "    n = 100 # time points to plot\n",
    "    t = np.linspace(0,20,100) # create time vector\n",
    "    # create 0 -> 1 step at t=theta\n",
    "    delay = np.empty_like(t)\n",
    "    for i in range(n):\n",
    "        if t[i] < theta:\n",
    "            delay[i] = 0.0\n",
    "        else:\n",
    "            delay[i] = 1.0\n",
    "    # calculate response to step input\n",
    "    x = K * (1.0-np.exp(-(t-theta)/tau))\n",
    "    y = x * delay\n",
    "    # plot response\n",
    "    plt.figure(1,figsize=(15,7))\n",
    "    plt.subplot(1,2,1)\n",
    "    plt.plot(t,y,'k-',linewidth=4,label=r'$y(t)=x(t-\\theta)*S(t-\\theta)$')\n",
    "    plt.legend(loc='best')\n",
    "    plt.ylim([-10,10])\n",
    "    plt.xlim([0,20])\n",
    "    plt.subplot(1,2,2)\n",
    "    plt.plot(t,x,'r--',linewidth=2,label=r'$x(t-\\theta)=K\\;(1-\\exp(-(t-\\theta)/\\tau))$')\n",
    "    plt.plot(t,delay,'g:',linewidth=2,label=r'$S(t-\\theta)$')\n",
    "    plt.xlabel('time')\n",
    "    plt.legend(loc='best')\n",
    "    plt.ylim([-10,10])\n",
    "    plt.xlim([0,20])"
   ]
  },
  {
   "cell_type": "code",
   "execution_count": 376,
   "id": "thorough-somerset",
   "metadata": {
    "hideCode": false,
    "hidePrompt": false,
    "tags": [
     "hide-input"
    ]
   },
   "outputs": [
    {
     "data": {
      "application/vnd.jupyter.widget-view+json": {
       "model_id": "127dcfea3cea498da9336cd038daf7b7",
       "version_major": 2,
       "version_minor": 0
      },
      "text/plain": [
       "interactive(children=(FloatSlider(value=8.0, description='K', max=10.0, min=-10.0), FloatSlider(value=5.0, des…"
      ]
     },
     "metadata": {},
     "output_type": "display_data"
    },
    {
     "data": {
      "text/plain": [
       "<function __main__.fopdtPlot(K, tau, theta)>"
      ]
     },
     "execution_count": 376,
     "metadata": {},
     "output_type": "execute_result"
    }
   ],
   "source": [
    "K_slide = wg.FloatSlider(value=8.0,min=-10.0,max=10.0,step=0.1)\n",
    "tau_slide = wg.FloatSlider(value=5.0,min=0.1,max=10.0,step=0.1)\n",
    "theta_slide = wg.FloatSlider(value=4.0,min=0.1,max=15.0,step=0.1)\n",
    "wg.interact(fopdtPlot, K=K_slide, tau=tau_slide, theta=theta_slide)"
   ]
  },
  {
   "cell_type": "code",
   "execution_count": 379,
   "id": "reverse-wilson",
   "metadata": {
    "hideCode": false,
    "hidePrompt": false
   },
   "outputs": [],
   "source": [
    "import numpy as np\n",
    "import matplotlib.pyplot as plt\n",
    "from scipy.integrate import odeint\n",
    "from scipy.optimize import minimize\n",
    "from scipy.interpolate import interp1d"
   ]
  },
  {
   "cell_type": "code",
   "execution_count": 380,
   "id": "juvenile-subscriber",
   "metadata": {
    "hideCode": false,
    "hidePrompt": false
   },
   "outputs": [],
   "source": [
    "# define process model (to generate process data)\n",
    "def process(y,t,n,u,Kp,taup):\n",
    "    # arguments\n",
    "    #  y[n] = outputs\n",
    "    #  t    = time\n",
    "    #  n    = order of the system  \n",
    "    #  u    = input value\n",
    "    #  Kp   = process gain\n",
    "    #  taup = process time constant\n",
    "\n",
    "    # equations for higher order system\n",
    "    dydt = np.zeros(n)\n",
    "    # calculate derivative\n",
    "    dydt[0] = (-y[0] + Kp * u)/(taup/n)\n",
    "    for i in range(1,n):\n",
    "        dydt[i] = (-y[i] + y[i-1])/(taup/n)\n",
    "    return dydt"
   ]
  },
  {
   "cell_type": "code",
   "execution_count": 381,
   "id": "measured-michael",
   "metadata": {
    "hideCode": false,
    "hidePrompt": false
   },
   "outputs": [],
   "source": [
    "# define first-order plus dead-time approximation    \n",
    "def fopdt(y,t,uf,Km,taum,thetam):\n",
    "    # arguments\n",
    "    #  y      = output\n",
    "    #  t      = time\n",
    "    #  uf     = input linear function (for time shift)\n",
    "    #  Km     = model gain\n",
    "    #  taum   = model time constant\n",
    "    #  thetam = model time constant\n",
    "    # time-shift u\n",
    "    try:\n",
    "        if (t-thetam) <= 0:\n",
    "            um = uf(0.0)\n",
    "        else:\n",
    "            um = uf(t-thetam)\n",
    "    except:\n",
    "        #print('Error with time extrapolation: ' + str(t))\n",
    "        um = 0\n",
    "    # calculate derivative\n",
    "    dydt = (-y + Km * um)/taum\n",
    "    return dydt"
   ]
  },
  {
   "cell_type": "code",
   "execution_count": 382,
   "id": "disabled-weekly",
   "metadata": {
    "hideCode": false,
    "hidePrompt": false
   },
   "outputs": [],
   "source": [
    "# specify number of steps\n",
    "ns = 40\n",
    "# define time points\n",
    "t = np.linspace(0,16,ns+1)\n",
    "delta_t = t[1]-t[0]\n",
    "# define input vector\n",
    "u = np.zeros(ns+1)\n",
    "u[5:] = 1.0\n",
    "# create linear interpolation of the u data versus time\n",
    "uf = interp1d(t,u)"
   ]
  },
  {
   "cell_type": "code",
   "execution_count": 383,
   "id": "minus-positive",
   "metadata": {
    "hideCode": false,
    "hidePrompt": false
   },
   "outputs": [],
   "source": [
    "# use this function or replace yp with real process data\n",
    "def sim_process_data():\n",
    "    # higher order process\n",
    "    n=10       # order\n",
    "    Kp=3.0    # gain\n",
    "    taup=5.0   # time constant\n",
    "    # storage for predictions or data\n",
    "    yp = np.zeros(ns+1)  # process\n",
    "    for i in range(1,ns+1):\n",
    "        if i==1:\n",
    "            yp0 = np.zeros(n)\n",
    "        ts = [delta_t*(i-1),delta_t*i]\n",
    "        y = odeint(process,yp0,ts,args=(n,u[i],Kp,taup))\n",
    "        yp0 = y[-1]\n",
    "        yp[i] = y[1][n-1]\n",
    "    return yp"
   ]
  },
  {
   "cell_type": "code",
   "execution_count": 384,
   "id": "common-vampire",
   "metadata": {
    "hideCode": false,
    "hidePrompt": false
   },
   "outputs": [],
   "source": [
    "yp = sim_process_data()"
   ]
  },
  {
   "cell_type": "code",
   "execution_count": 385,
   "id": "specified-chemical",
   "metadata": {
    "hideCode": false,
    "hidePrompt": false
   },
   "outputs": [],
   "source": [
    "# simulate FOPDT model with x=[Km,taum,thetam]\n",
    "def sim_model(Km,taum,thetam):\n",
    "    # input arguments\n",
    "    #Km\n",
    "    #taum\n",
    "    #thetam\n",
    "    # storage for model values\n",
    "    ym = np.zeros(ns+1)  # model\n",
    "    # initial condition\n",
    "    ym[0] = 0\n",
    "    # loop through time steps    \n",
    "    for i in range(1,ns+1):\n",
    "        ts = [delta_t*(i-1),delta_t*i]\n",
    "        y1 = odeint(fopdt,ym[i-1],ts,args=(uf,Km,taum,thetam))\n",
    "        ym[i] = y1[-1]\n",
    "    return ym    \n",
    "\n"
   ]
  },
  {
   "cell_type": "code",
   "execution_count": 390,
   "id": "skilled-dublin",
   "metadata": {
    "hideCode": false,
    "hidePrompt": false
   },
   "outputs": [],
   "source": [
    "# calculate model with updated parameters\n",
    "Km = 3\n",
    "taum = 2.3\n",
    "thetam = 2.5\n",
    "ym = sim_model(Km,taum,thetam)"
   ]
  },
  {
   "cell_type": "code",
   "execution_count": 391,
   "id": "loving-knitting",
   "metadata": {
    "hideCode": false,
    "hidePrompt": false
   },
   "outputs": [
    {
     "data": {
      "image/png": "[encoded data removed]",
      "text/plain": [
       "<Figure size 432x288 with 2 Axes>"
      ]
     },
     "metadata": {
      "needs_background": "light"
     },
     "output_type": "display_data"
    }
   ],
   "source": [
    "# plot results\n",
    "plt.figure()\n",
    "plt.subplot(2,1,1)\n",
    "plt.plot(t,ym,'r--',linewidth=3,label='Fit FOPDT')\n",
    "plt.plot(t,yp,'kx-',linewidth=2,label='Process Data')\n",
    "plt.ylabel('Output')\n",
    "plt.legend(loc='best')\n",
    "plt.subplot(2,1,2)\n",
    "plt.plot(t,u,'bx-',linewidth=2)\n",
    "plt.plot(t,uf(t),'r--',linewidth=3)\n",
    "plt.legend(['Measured','Interpolated'],loc='best')\n",
    "plt.ylabel('Input Data')\n",
    "plt.show()"
   ]
  },
  {
   "cell_type": "code",
   "execution_count": null,
   "id": "fresh-royalty",
   "metadata": {
    "hideCode": false,
    "hidePrompt": false
   },
   "outputs": [],
   "source": []
  },
  {
   "cell_type": "code",
   "execution_count": null,
   "id": "packed-stand",
   "metadata": {
    "hideCode": false,
    "hidePrompt": false
   },
   "outputs": [],
   "source": []
  },
  {
   "cell_type": "code",
   "execution_count": null,
   "id": "optional-checkout",
   "metadata": {
    "hideCode": false,
    "hidePrompt": false
   },
   "outputs": [],
   "source": []
  },
  {
   "cell_type": "code",
   "execution_count": null,
   "id": "vietnamese-seafood",
   "metadata": {
    "hideCode": false,
    "hidePrompt": false
   },
   "outputs": [],
   "source": []
  },
  {
   "cell_type": "code",
   "execution_count": null,
   "id": "agreed-amplifier",
   "metadata": {
    "hideCode": false,
    "hidePrompt": false
   },
   "outputs": [],
   "source": []
  },
  {
   "cell_type": "code",
   "execution_count": null,
   "id": "noble-updating",
   "metadata": {
    "hideCode": false,
    "hidePrompt": false
   },
   "outputs": [],
   "source": []
  },
  {
   "cell_type": "code",
   "execution_count": null,
   "id": "regional-lover",
   "metadata": {
    "hideCode": false,
    "hidePrompt": false
   },
   "outputs": [],
   "source": []
  },
  {
   "cell_type": "code",
   "execution_count": 1,
   "id": "proprietary-dream",
   "metadata": {
    "collapsed": true,
    "hideCode": false,
    "hidePrompt": false,
    "jupyter": {
     "outputs_hidden": true
    }
   },
   "outputs": [],
   "source": [
    "import numpy as np\n",
    "from scipy.integrate import odeint, solve_ivp\n",
    "import matplotlib.pyplot as plt"
   ]
  },
  {
   "cell_type": "markdown",
   "id": "earlier-grass",
   "metadata": {
    "hideCode": false,
    "hidePrompt": false
   },
   "source": [
    "<hr>\n",
    "&nbsp;\n",
    "\n",
    "## Example 1\n",
    "\n",
    "![Population](./attachments/SD-2.0.png)\n",
    "\n",
    "&nbsp;\n",
    "\n",
    "$$\\frac{dPopulation(t)}{dt} = births(t) - deaths(t)$$\n",
    "\n",
    "&nbsp;\n",
    "\n",
    "- 500 skunks live in the wooded grassy area near the highway\n",
    "- Every year 100 baby skunks are born.\n",
    "- Every year 120 skunks die from the cars\n",
    "\n",
    "**Question:** How many skunks will live near the highway in 10 years?"
   ]
  },
  {
   "cell_type": "code",
   "execution_count": 2,
   "id": "entire-ireland",
   "metadata": {
    "collapsed": true,
    "hideCode": false,
    "hidePrompt": false,
    "jupyter": {
     "outputs_hidden": true
    }
   },
   "outputs": [],
   "source": [
    "# time array\n",
    "t0 = 0    # units: year\n",
    "tf = 10   # units: year\n",
    "step = 1  # units: year\n",
    "t = np.arange(t0, tf, step)"
   ]
  },
  {
   "cell_type": "code",
   "execution_count": 3,
   "id": "heavy-creator",
   "metadata": {
    "collapsed": true,
    "hideCode": false,
    "hidePrompt": false,
    "jupyter": {
     "outputs_hidden": true
    }
   },
   "outputs": [],
   "source": [
    "# parameters\n",
    "births = 100  # units: skunks/year\n",
    "deaths = 120  # units: skunks/year"
   ]
  },
  {
   "cell_type": "code",
   "execution_count": 4,
   "id": "digital-hopkins",
   "metadata": {
    "collapsed": true,
    "hideCode": false,
    "hidePrompt": false,
    "jupyter": {
     "outputs_hidden": true
    }
   },
   "outputs": [],
   "source": [
    "# Stocks\n",
    "population_ini = [500]  # units: skunks"
   ]
  },
  {
   "cell_type": "code",
   "execution_count": 5,
   "id": "auburn-stress",
   "metadata": {
    "collapsed": true,
    "hideCode": false,
    "hidePrompt": false,
    "jupyter": {
     "outputs_hidden": true
    }
   },
   "outputs": [],
   "source": [
    "def eq_diff1(t, y):\n",
    "    dPopulationdt = births - deaths\n",
    "    return dPopulationdt\n",
    "\n",
    "population = solve_ivp(eq_diff1, [t0, tf], population_ini, t_eval=t).y[0]"
   ]
  },
  {
   "cell_type": "code",
   "execution_count": 6,
   "id": "corresponding-screening",
   "metadata": {
    "collapsed": true,
    "hideCode": false,
    "hidePrompt": false,
    "jupyter": {
     "outputs_hidden": true
    }
   },
   "outputs": [
    {
     "data": {
      "image/png": "[encoded data removed]",
      "text/plain": [
       "<Figure size 720x360 with 2 Axes>"
      ]
     },
     "metadata": {
      "needs_background": "light"
     },
     "output_type": "display_data"
    }
   ],
   "source": [
    "fig, ax = plt.subplots(figsize=(10,5))\n",
    "\n",
    "ax.plot(t, population, lw=3, label='population', color='#2ca02c')\n",
    "ax.set_xlabel('time')\n",
    "ax.set_ylabel('Stocks')\n",
    "\n",
    "ax2 = ax.twinx()\n",
    "ax2.plot(t, np.full((t.shape), births), color='royalblue', label='births')\n",
    "ax2.plot(t, np.full((t.shape), deaths), color='orangered', label='deaths')\n",
    "ax2.margins(y=0.8)\n",
    "ax2.set_ylim(bottom=0)\n",
    "ax2.set_ylabel('Flows')\n",
    "\n",
    "fig.legend(loc=\"center right\")\n",
    "fig.subplots_adjust(right=0.75)\n",
    "plt.show()"
   ]
  },
  {
   "cell_type": "code",
   "execution_count": 7,
   "id": "soviet-county",
   "metadata": {
    "collapsed": true,
    "hideCode": false,
    "hidePrompt": false,
    "jupyter": {
     "outputs_hidden": true
    }
   },
   "outputs": [
    {
     "data": {
      "text/plain": [
       "320"
      ]
     },
     "execution_count": 7,
     "metadata": {},
     "output_type": "execute_result"
    }
   ],
   "source": [
    "# Answer\n",
    "round(population[-1])"
   ]
  },
  {
   "cell_type": "markdown",
   "id": "passive-candy",
   "metadata": {
    "hideCode": false,
    "hidePrompt": false
   },
   "source": [
    "<hr>\n",
    "&nbsp;\n",
    "\n",
    "\n",
    "## Example 2\n",
    "\n",
    "![Landfill](./attachments/SD-2.1.png)\n",
    "\n",
    "&nbsp;\n",
    "\n",
    "$$\\frac{dPlastics(t)}{dt} = dumping(t)$$\n",
    "\n",
    "\n",
    "&nbsp;\n",
    "\n",
    "- The city is building a new landfill.\n",
    "- The trash in the landfill can be separated into 2 categories\n",
    "    - the trash that will quickly decompose\n",
    "    - the trash that will take a long time to decompose, like plastics. \n",
    "- The city council predicts that the citizens will be dumping 2 tons of plastics every day.\n",
    "\n",
    "\n",
    "**Question:** How large will the landfill will be in 20 years?"
   ]
  },
  {
   "cell_type": "code",
   "execution_count": 8,
   "id": "bulgarian-interim",
   "metadata": {
    "collapsed": true,
    "hideCode": false,
    "hidePrompt": false,
    "jupyter": {
     "outputs_hidden": true
    }
   },
   "outputs": [],
   "source": [
    "# time array\n",
    "t0 = 0        # units: year\n",
    "tf = 20       # units: year\n",
    "step = 1/365  # units: year\n",
    "t = np.arange(t0, tf, step)"
   ]
  },
  {
   "cell_type": "code",
   "execution_count": 9,
   "id": "irish-honor",
   "metadata": {
    "collapsed": true,
    "hideCode": false,
    "hidePrompt": false,
    "jupyter": {
     "outputs_hidden": true
    }
   },
   "outputs": [],
   "source": [
    "# Flows\n",
    "dumping = 2*365  # units: tons/year"
   ]
  },
  {
   "cell_type": "code",
   "execution_count": 10,
   "id": "confident-zoning",
   "metadata": {
    "collapsed": true,
    "hideCode": false,
    "hidePrompt": false,
    "jupyter": {
     "outputs_hidden": true
    }
   },
   "outputs": [],
   "source": [
    "# Stocks\n",
    "plastics_ini = [0]  # units: tons"
   ]
  },
  {
   "cell_type": "code",
   "execution_count": 11,
   "id": "alleged-mixture",
   "metadata": {
    "collapsed": true,
    "hideCode": false,
    "hidePrompt": false,
    "jupyter": {
     "outputs_hidden": true
    }
   },
   "outputs": [],
   "source": [
    "def eq_diff2(t, y):\n",
    "    dPlasticsdt = dumping\n",
    "    return dPlasticsdt\n",
    "\n",
    "plastics = solve_ivp(eq_diff2, [t0, tf], plastics_ini, t_eval=t).y[0]"
   ]
  },
  {
   "cell_type": "code",
   "execution_count": 12,
   "id": "alert-retrieval",
   "metadata": {
    "collapsed": true,
    "hideCode": false,
    "hidePrompt": false,
    "jupyter": {
     "outputs_hidden": true
    }
   },
   "outputs": [
    {
     "data": {
      "image/png": "[encoded data removed]",
      "text/plain": [
       "<Figure size 720x360 with 2 Axes>"
      ]
     },
     "metadata": {
      "needs_background": "light"
     },
     "output_type": "display_data"
    }
   ],
   "source": [
    "fig, ax = plt.subplots(figsize=(10,5))\n",
    "\n",
    "ax.plot(t, plastics, lw=3, label='plastics', color='#2ca02c')\n",
    "ax.set_xlabel('time')\n",
    "ax.set_ylabel('Stocks')\n",
    "\n",
    "ax2 = ax.twinx()\n",
    "ax2.plot(t, np.full((t.shape), dumping), color='orangered', label='dumping')\n",
    "ax2.margins(y=0.8)\n",
    "ax2.set_ylim(bottom=0)\n",
    "ax2.set_ylabel('Flows')\n",
    "\n",
    "fig.legend(loc=\"center right\")\n",
    "fig.subplots_adjust(right=0.75)\n",
    "plt.show()"
   ]
  },
  {
   "cell_type": "code",
   "execution_count": 13,
   "id": "suspended-tolerance",
   "metadata": {
    "collapsed": true,
    "hideCode": false,
    "hidePrompt": false,
    "jupyter": {
     "outputs_hidden": true
    }
   },
   "outputs": [
    {
     "data": {
      "text/plain": [
       "14598"
      ]
     },
     "execution_count": 13,
     "metadata": {},
     "output_type": "execute_result"
    }
   ],
   "source": [
    "# Answer\n",
    "round(plastics[-1])"
   ]
  },
  {
   "cell_type": "markdown",
   "id": "convenient-guide",
   "metadata": {
    "hideCode": false,
    "hidePrompt": false
   },
   "source": [
    "<hr>\n",
    "&nbsp;\n",
    "\n",
    "\n",
    "## Example 3\n",
    "\n",
    "![Trees](./attachments/SD-2.3.png)\n",
    "\n",
    "&nbsp;\n",
    "\n",
    "$$\\frac{dTrees(t)}{dt} = planting(t) - harvesting(t)$$\n",
    "\n",
    "\n",
    "&nbsp;\n",
    "\n",
    "- Today, there are about 5,000,000 trees in the Hardwood Forest\n",
    "- A lumber company has been cutting down and harvesting approximately 100,000 trees/year.\n",
    "- a NGO worried that the forest will be entirely destroyed, has planted approximately 5,000 trees/year\n",
    "\n",
    "**Question:** How many trees will there be in Hardwood Forest in 30 years?"
   ]
  },
  {
   "cell_type": "code",
   "execution_count": 14,
   "id": "ongoing-ideal",
   "metadata": {
    "collapsed": true,
    "hideCode": false,
    "hidePrompt": false,
    "jupyter": {
     "outputs_hidden": true
    }
   },
   "outputs": [],
   "source": [
    "# time array\n",
    "t0 = 0        # units: year\n",
    "tf = 30       # units: year\n",
    "step = 1      # units: year\n",
    "t = np.arange(t0, tf, step)"
   ]
  },
  {
   "cell_type": "code",
   "execution_count": 15,
   "id": "clean-organizer",
   "metadata": {
    "collapsed": true,
    "hideCode": false,
    "hidePrompt": false,
    "jupyter": {
     "outputs_hidden": true
    }
   },
   "outputs": [],
   "source": [
    "# Flows\n",
    "planting = 5_000      # units: trees/year\n",
    "harvesting = 100_000  # units: trees/year"
   ]
  },
  {
   "cell_type": "code",
   "execution_count": 16,
   "id": "subjective-fashion",
   "metadata": {
    "collapsed": true,
    "hideCode": false,
    "hidePrompt": false,
    "jupyter": {
     "outputs_hidden": true
    }
   },
   "outputs": [],
   "source": [
    "# Stocks\n",
    "trees_ini = [5_000_000]  # units: trees"
   ]
  },
  {
   "cell_type": "code",
   "execution_count": 17,
   "id": "limiting-measurement",
   "metadata": {
    "collapsed": true,
    "hideCode": false,
    "hidePrompt": false,
    "jupyter": {
     "outputs_hidden": true
    }
   },
   "outputs": [],
   "source": [
    "def eq_diff3(t, y):\n",
    "    dTreesdt = planting - harvesting\n",
    "    return dTreesdt\n",
    "\n",
    "trees = solve_ivp(eq_diff3, [t0, tf], trees_ini, t_eval=t).y[0]"
   ]
  },
  {
   "cell_type": "code",
   "execution_count": 18,
   "id": "restricted-jamaica",
   "metadata": {
    "collapsed": true,
    "hideCode": false,
    "hidePrompt": false,
    "jupyter": {
     "outputs_hidden": true
    }
   },
   "outputs": [
    {
     "data": {
      "image/png": "[encoded data removed]",
      "text/plain": [
       "<Figure size 720x360 with 2 Axes>"
      ]
     },
     "metadata": {
      "needs_background": "light"
     },
     "output_type": "display_data"
    }
   ],
   "source": [
    "fig, ax = plt.subplots(figsize=(10,5))\n",
    "\n",
    "ax.plot(t, trees, lw=3, label='Trees', color='#2ca02c')\n",
    "ax.set_xlabel('time')\n",
    "ax.set_ylabel('Stocks')\n",
    "\n",
    "ax2 = ax.twinx()\n",
    "ax2.plot(t, np.full((t.shape), planting), color='royalblue', label='planting')\n",
    "ax2.plot(t, np.full((t.shape), harvesting), color='orangered', label='harbesting')\n",
    "ax2.margins(y=0.8)\n",
    "ax2.set_ylim(bottom=0)\n",
    "ax2.set_ylabel('Flows')\n",
    "\n",
    "fig.legend(loc=\"center right\")\n",
    "fig.subplots_adjust(right=0.75)\n",
    "plt.show()"
   ]
  },
  {
   "cell_type": "code",
   "execution_count": 19,
   "id": "aboriginal-roommate",
   "metadata": {
    "collapsed": true,
    "hideCode": false,
    "hidePrompt": false,
    "jupyter": {
     "outputs_hidden": true
    }
   },
   "outputs": [
    {
     "data": {
      "text/plain": [
       "2245000"
      ]
     },
     "execution_count": 19,
     "metadata": {},
     "output_type": "execute_result"
    }
   ],
   "source": [
    "# Answer\n",
    "round(trees[-1])"
   ]
  },
  {
   "cell_type": "markdown",
   "id": "center-center",
   "metadata": {
    "hideCode": false,
    "hidePrompt": false
   },
   "source": [
    "<hr>\n",
    "&nbsp;\n",
    "\n",
    "## Generalisation\n",
    "\n",
    "The following representations are equivalents:\n",
    "\n",
    "&nbsp;\n",
    "\n",
    "![Stock Flow analogy](./attachments/SD_analogy.png)\n",
    "\n",
    "&nbsp;\n",
    "\n",
    "![Stock Flow SD](./attachments/SD_0.png)\n",
    "\n",
    "&nbsp;\n",
    "\n",
    "$$\\frac{dStock(t)}{dt} = \\color{royalblue}{\\text{inflow}(t)} - \\color{orangered}{\\text{outflow}(t)}$$\n",
    "\n",
    "&nbsp;\n",
    "\n",
    "$$Stock(t) = \\int_{0}^t [\\color{royalblue}{\\text{inflow}(t)} - \\color{orangered}{\\text{outflow}(t)}]dt + Stock(0)$$"
   ]
  },
  {
   "cell_type": "code",
   "execution_count": 268,
   "id": "thorough-teens",
   "metadata": {
    "collapsed": true,
    "hideCode": false,
    "hidePrompt": false,
    "jupyter": {
     "outputs_hidden": true
    }
   },
   "outputs": [],
   "source": [
    "# defining a meta step function (decorator)\n",
    "def step_function(arg):\n",
    "    steps = np.array(arg)\n",
    "    time = steps[:, 0]\n",
    "    val = steps[:, 1]\n",
    "    \n",
    "    def helper(t):\n",
    "        i = 0 if t == 0 else np.searchsorted(time, t, side='right')-1\n",
    "        return val[i]\n",
    "\n",
    "    def wrapper(t):\n",
    "        if isinstance(t, np.ndarray):\n",
    "            return np.array([helper(val) for val in t])\n",
    "        return helper(t)\n",
    "    \n",
    "    return wrapper"
   ]
  },
  {
   "cell_type": "code",
   "execution_count": 297,
   "id": "raised-tractor",
   "metadata": {
    "collapsed": true,
    "hideCode": false,
    "hidePrompt": false,
    "jupyter": {
     "outputs_hidden": true
    }
   },
   "outputs": [],
   "source": [
    "# time array\n",
    "t0 = 0        # unit of time\n",
    "tf = 20       # unit of time\n",
    "step = 0.001   # unit of time\n",
    "t = np.arange(t0, tf, step)"
   ]
  },
  {
   "cell_type": "code",
   "execution_count": 270,
   "id": "published-verse",
   "metadata": {
    "collapsed": true,
    "hideCode": false,
    "hidePrompt": false,
    "jupyter": {
     "outputs_hidden": true
    }
   },
   "outputs": [],
   "source": [
    "# Flows\n",
    "u = [(0,0), (3,1), (11,4), (13,0)]\n",
    "inflow = step_function(u)\n",
    "\n",
    "v = [(0,0), (5,2), (7,0), (10,1), (15,0)]\n",
    "outflow = step_function(v)\n",
    "\n",
    "def netflow(t):\n",
    "    return inflow(t) - outflow(t)"
   ]
  },
  {
   "cell_type": "code",
   "execution_count": 271,
   "id": "collective-angle",
   "metadata": {
    "collapsed": true,
    "hideCode": false,
    "hidePrompt": false,
    "jupyter": {
     "outputs_hidden": true
    }
   },
   "outputs": [
    {
     "name": "stdout",
     "output_type": "stream",
     "text": [
      "17.8 ms ± 5.11 ms per loop (mean ± std. dev. of 7 runs, 10 loops each)\n"
     ]
    }
   ],
   "source": [
    "%timeit netflow(t)"
   ]
  },
  {
   "cell_type": "code",
   "execution_count": 274,
   "id": "found-budapest",
   "metadata": {
    "collapsed": true,
    "hideCode": false,
    "hidePrompt": false,
    "jupyter": {
     "outputs_hidden": true
    }
   },
   "outputs": [],
   "source": [
    "# Stocks\n",
    "val_ini = [10]\n",
    "\n",
    "def eq_diff(t, y):\n",
    "    dydt = netflow(t)\n",
    "    return dydt\n",
    "\n",
    "y = solve_ivp(eq_diff, [t0, tf], val_ini, t_eval=t).y[0]"
   ]
  },
  {
   "cell_type": "code",
   "execution_count": 275,
   "id": "toxic-astronomy",
   "metadata": {
    "collapsed": true,
    "hideCode": false,
    "hidePrompt": false,
    "jupyter": {
     "outputs_hidden": true
    }
   },
   "outputs": [
    {
     "data": {
      "image/png": "[encoded data removed]",
      "text/plain": [
       "<Figure size 864x720 with 3 Axes>"
      ]
     },
     "metadata": {
      "needs_background": "light"
     },
     "output_type": "display_data"
    }
   ],
   "source": [
    "plt.figure(figsize=(12,10))\n",
    "\n",
    "plt.subplot(3,1,1)\n",
    "plt.plot(t, inflow(t), label='inflow', color='royalblue')\n",
    "plt.plot(t, outflow(t), label='outflow', color='#ff7f0e')\n",
    "plt.legend(loc='best')\n",
    "plt.ylabel('Flow')\n",
    "\n",
    "plt.subplot(3,1,2)\n",
    "plt.plot(t, netflow(t), label='netflow', color='purple')\n",
    "plt.legend(loc='best')\n",
    "plt.ylabel('Flow')\n",
    "\n",
    "plt.subplot(3,1,3)\n",
    "plt.plot(t, y, label='Stock', lw=3, color='#2ca02c')\n",
    "plt.legend(loc='best')\n",
    "plt.ylabel('Stock')\n",
    "\n",
    "plt.xlabel('Time')\n",
    "\n",
    "plt.show()"
   ]
  },
  {
   "cell_type": "code",
   "execution_count": null,
   "id": "meaning-edwards",
   "metadata": {
    "collapsed": true,
    "hideCode": false,
    "hidePrompt": false,
    "jupyter": {
     "outputs_hidden": true
    }
   },
   "outputs": [],
   "source": []
  },
  {
   "cell_type": "code",
   "execution_count": 264,
   "id": "adjustable-scale",
   "metadata": {
    "collapsed": true,
    "hideCode": false,
    "hidePrompt": false,
    "jupyter": {
     "outputs_hidden": true
    }
   },
   "outputs": [],
   "source": [
    "# defining a meta ramp function (decorator)\n",
    "def ramp_function(arg):\n",
    "    steps = np.array(arg)\n",
    "    time = steps[:, 0]\n",
    "    k = steps[:, 1]\n",
    "    \n",
    "    def helper(t):\n",
    "        i = np.searchsorted(time, t, side='right')-1\n",
    "        dydt = k[i]\n",
    "        \n",
    "\n",
    "    def wrapper(t):\n",
    "        if isinstance(t, np.ndarray):\n",
    "            return np.array([helper(val) for val in t])\n",
    "        return helper(t)\n",
    "    \n",
    "    return wrapper"
   ]
  },
  {
   "cell_type": "code",
   "execution_count": 298,
   "id": "bronze-compound",
   "metadata": {
    "collapsed": true,
    "hideCode": false,
    "hidePrompt": false,
    "jupyter": {
     "outputs_hidden": true
    }
   },
   "outputs": [],
   "source": [
    "a = [(0, 1), (4,0), (6, 2), (8,0), (12, -1)]"
   ]
  },
  {
   "cell_type": "code",
   "execution_count": 299,
   "id": "norwegian-growth",
   "metadata": {
    "collapsed": true,
    "hideCode": false,
    "hidePrompt": false,
    "jupyter": {
     "outputs_hidden": true
    }
   },
   "outputs": [],
   "source": [
    "ramps = np.array(a)\n",
    "time = ramps[:, 0]\n",
    "val = ramps[:, 1]\n",
    "    \n",
    "def derivate(t):\n",
    "    i = 0 if t == 0 else np.searchsorted(time, t, side='right')-1\n",
    "    return val[i]\n",
    "\n",
    "def eq_diff(t, z):\n",
    "    dzdt = derivate(t)\n",
    "    return dzdt\n",
    "\n",
    "sol = solve_ivp(eq_diff, [t0, tf], [val[0]], t_eval=t)\n",
    "time = sol.t\n",
    "y = sol.y[0]"
   ]
  },
  {
   "cell_type": "code",
   "execution_count": 306,
   "id": "central-rebound",
   "metadata": {
    "collapsed": true,
    "hideCode": false,
    "hidePrompt": false,
    "jupyter": {
     "outputs_hidden": true
    }
   },
   "outputs": [],
   "source": [
    "def func(t):\n",
    "#     i = 0 if t == 0 else np.searchsorted(time, t, side='right')-1\n",
    "    i = np.searchsorted(time, t)\n",
    "    return y[i]"
   ]
  },
  {
   "cell_type": "code",
   "execution_count": 309,
   "id": "legitimate-distance",
   "metadata": {
    "collapsed": true,
    "hideCode": false,
    "hidePrompt": false,
    "jupyter": {
     "outputs_hidden": true
    }
   },
   "outputs": [
    {
     "data": {
      "text/plain": [
       "9.03338525350964"
      ]
     },
     "execution_count": 309,
     "metadata": {},
     "output_type": "execute_result"
    }
   ],
   "source": [
    "func(9)"
   ]
  },
  {
   "cell_type": "code",
   "execution_count": 345,
   "id": "impaired-satin",
   "metadata": {
    "collapsed": true,
    "hideCode": false,
    "hidePrompt": false,
    "jupyter": {
     "outputs_hidden": true
    }
   },
   "outputs": [],
   "source": [
    "# time array\n",
    "t0 = 0        # unit of time\n",
    "tf = 5       # unit of time\n",
    "step = 0.01   # unit of time\n",
    "t = np.arange(t0, tf, step)"
   ]
  },
  {
   "cell_type": "code",
   "execution_count": null,
   "id": "divine-africa",
   "metadata": {
    "collapsed": true,
    "hideCode": false,
    "hidePrompt": false,
    "jupyter": {
     "outputs_hidden": true
    }
   },
   "outputs": [],
   "source": [
    "a = [(0, 1), (4,0), (6, 2), (8,0), (12, -1)]"
   ]
  },
  {
   "cell_type": "code",
   "execution_count": 340,
   "id": "theoretical-township",
   "metadata": {
    "collapsed": true,
    "hideCode": false,
    "hidePrompt": false,
    "jupyter": {
     "outputs_hidden": true
    }
   },
   "outputs": [],
   "source": [
    "ramps = np.array(a)\n",
    "time = ramps[:, 0]\n",
    "shifts = -time\n",
    "val = ramps[:, 1]\n",
    "\n",
    "def fn_ramp(t, k, shift):\n",
    "    N = len(t)\n",
    "    y = np.zeros(N)\n",
    "    for i, T in enumerate(t):\n",
    "        if T >= -shift:\n",
    "            y[i] = k*(t[i]+shift)\n",
    "    return y"
   ]
  },
  {
   "cell_type": "code",
   "execution_count": 327,
   "id": "brazilian-colors",
   "metadata": {
    "collapsed": true,
    "hideCode": false,
    "hidePrompt": false,
    "jupyter": {
     "outputs_hidden": true
    }
   },
   "outputs": [
    {
     "data": {
      "text/plain": [
       "array([  0,  -4,  -6,  -8, -12])"
      ]
     },
     "execution_count": 327,
     "metadata": {},
     "output_type": "execute_result"
    }
   ],
   "source": [
    "def func(t):\n",
    "    "
   ]
  },
  {
   "cell_type": "code",
   "execution_count": 341,
   "id": "expected-playback",
   "metadata": {
    "collapsed": true,
    "hideCode": false,
    "hidePrompt": false,
    "jupyter": {
     "outputs_hidden": true
    }
   },
   "outputs": [
    {
     "data": {
      "image/png": "[encoded data removed]",
      "text/plain": [
       "<Figure size 432x288 with 1 Axes>"
      ]
     },
     "metadata": {
      "needs_background": "light"
     },
     "output_type": "display_data"
    }
   ],
   "source": [
    "plt.plot(t, fn_ramp(t, 3, -3))\n",
    "plt.ylim(bottom=0)\n",
    "plt.show()"
   ]
  },
  {
   "cell_type": "code",
   "execution_count": 302,
   "id": "biblical-platform",
   "metadata": {
    "collapsed": true,
    "hideCode": false,
    "hidePrompt": false,
    "jupyter": {
     "outputs_hidden": true
    }
   },
   "outputs": [
    {
     "data": {
      "image/png": "[encoded data removed]",
      "text/plain": [
       "<Figure size 864x720 with 1 Axes>"
      ]
     },
     "metadata": {
      "needs_background": "light"
     },
     "output_type": "display_data"
    }
   ],
   "source": [
    "plt.plot(t, y)\n",
    "plt.show()"
   ]
  },
  {
   "cell_type": "code",
   "execution_count": null,
   "id": "registered-relevance",
   "metadata": {
    "collapsed": true,
    "hideCode": false,
    "hidePrompt": false,
    "jupyter": {
     "outputs_hidden": true
    }
   },
   "outputs": [],
   "source": [
    "    def helper(t):\n",
    "        i = 0 if t == 0 else np.searchsorted(time, t, side='right')-1\n",
    "        return val[i]\n",
    "\n",
    "    def wrapper(t):\n",
    "        if isinstance(t, np.ndarray):\n",
    "            return np.array([helper(val) for val in t])\n",
    "        return helper(t)"
   ]
  },
  {
   "cell_type": "code",
   "execution_count": 265,
   "id": "recovered-beverage",
   "metadata": {
    "collapsed": true,
    "hideCode": false,
    "hidePrompt": false,
    "jupyter": {
     "outputs_hidden": true
    }
   },
   "outputs": [],
   "source": [
    "# time array\n",
    "t0 = 0        # unit of time\n",
    "tf = 20       # unit of time\n",
    "step = 0.01   # unit of time\n",
    "t = np.arange(t0, tf, step)"
   ]
  },
  {
   "cell_type": "code",
   "execution_count": 266,
   "id": "falling-collins",
   "metadata": {
    "collapsed": true,
    "hideCode": false,
    "hidePrompt": false,
    "jupyter": {
     "outputs_hidden": true
    }
   },
   "outputs": [],
   "source": [
    "a = [(0, 0), (5,2)]\n",
    "inflow = ramp_function(a)"
   ]
  },
  {
   "cell_type": "code",
   "execution_count": 267,
   "id": "polar-livestock",
   "metadata": {
    "collapsed": true,
    "hideCode": false,
    "hidePrompt": false,
    "jupyter": {
     "outputs_hidden": true
    }
   },
   "outputs": [
    {
     "data": {
      "image/png": "[encoded data removed]",
      "text/plain": [
       "<Figure size 432x288 with 1 Axes>"
      ]
     },
     "metadata": {
      "needs_background": "light"
     },
     "output_type": "display_data"
    }
   ],
   "source": [
    "plt.plot(t, inflow(t))\n",
    "plt.show()"
   ]
  },
  {
   "cell_type": "code",
   "execution_count": null,
   "id": "single-anaheim",
   "metadata": {
    "collapsed": true,
    "hideCode": false,
    "hidePrompt": false,
    "jupyter": {
     "outputs_hidden": true
    }
   },
   "outputs": [],
   "source": []
  },
  {
   "cell_type": "code",
   "execution_count": null,
   "id": "protecting-twist",
   "metadata": {
    "collapsed": true,
    "hideCode": false,
    "hidePrompt": false,
    "jupyter": {
     "outputs_hidden": true
    }
   },
   "outputs": [],
   "source": []
  },
  {
   "cell_type": "markdown",
   "id": "northern-membrane",
   "metadata": {
    "hideCode": false,
    "hidePrompt": false
   },
   "source": [
    "<hr>\n",
    "&nbsp;\n",
    "\n",
    "![Bacteria](./attachments/SD-2.4.png)\n",
    "\n",
    "&nbsp;\n",
    "\n",
    "$$\\frac{d(t)}{dt} = (t)$$\n",
    "\n",
    "\n",
    "&nbsp;\n",
    "\n",
    "- \n",
    "- \n",
    "- "
   ]
  },
  {
   "cell_type": "code",
   "execution_count": 20,
   "id": "parallel-mason",
   "metadata": {
    "collapsed": true,
    "hideCode": false,
    "hidePrompt": false,
    "jupyter": {
     "outputs_hidden": true
    }
   },
   "outputs": [],
   "source": [
    "# time array\n",
    "t0 = 0        # units: year\n",
    "tf = 20       # units: year\n",
    "step = 1/365  # units: year\n",
    "t = np.arange(t0, tf, step)"
   ]
  },
  {
   "cell_type": "code",
   "execution_count": 22,
   "id": "devoted-entry",
   "metadata": {
    "collapsed": true,
    "hideCode": false,
    "hidePrompt": false,
    "jupyter": {
     "outputs_hidden": true
    }
   },
   "outputs": [],
   "source": [
    "# Flows\n",
    "# units: tons/year"
   ]
  },
  {
   "cell_type": "code",
   "execution_count": null,
   "id": "congressional-parallel",
   "metadata": {
    "collapsed": true,
    "hideCode": false,
    "hidePrompt": false,
    "jupyter": {
     "outputs_hidden": true
    }
   },
   "outputs": [],
   "source": [
    "# Stocks\n",
    "_ini = []  # units: tons"
   ]
  },
  {
   "cell_type": "code",
   "execution_count": null,
   "id": "embedded-horizontal",
   "metadata": {
    "collapsed": true,
    "hideCode": false,
    "hidePrompt": false,
    "jupyter": {
     "outputs_hidden": true
    }
   },
   "outputs": [],
   "source": [
    "def eq_diffN(t, y):\n",
    "    dPlasticsdt = dumping\n",
    "    return dPlasticsdt\n",
    "\n",
    "= solve_ivp(eq_diffN, [t0, tf], plastics_ini, t_eval=t).y[0]"
   ]
  },
  {
   "cell_type": "code",
   "execution_count": null,
   "id": "every-session",
   "metadata": {
    "collapsed": true,
    "hideCode": false,
    "hidePrompt": false,
    "jupyter": {
     "outputs_hidden": true
    }
   },
   "outputs": [],
   "source": [
    "fig, ax = plt.subplots(figsize=(10,5))\n",
    "\n",
    "ax.plot(t, trees, lw=3, label='Trees', color='#2ca02c')\n",
    "ax.set_xlabel('time')\n",
    "ax.set_ylabel('Stocks')\n",
    "\n",
    "ax2 = ax.twinx()\n",
    "ax2.plot(t, np.full((t.shape), planting), color='royalblue', label='planting')\n",
    "ax2.plot(t, np.full((t.shape), harvesting), color='orangered', label='harbesting')\n",
    "ax2.margins(y=0.8)\n",
    "ax2.set_ylim(bottom=0)\n",
    "ax2.set_ylabel('Flows')\n",
    "\n",
    "fig.legend(loc=\"center right\")\n",
    "fig.subplots_adjust(right=0.75)\n",
    "plt.show()"
   ]
  },
  {
   "cell_type": "code",
   "execution_count": null,
   "id": "aging-helen",
   "metadata": {
    "collapsed": true,
    "hideCode": false,
    "hidePrompt": false,
    "jupyter": {
     "outputs_hidden": true
    }
   },
   "outputs": [],
   "source": []
  },
  {
   "cell_type": "code",
   "execution_count": null,
   "id": "prostate-antique",
   "metadata": {
    "collapsed": true,
    "hideCode": false,
    "hidePrompt": false,
    "jupyter": {
     "outputs_hidden": true
    }
   },
   "outputs": [],
   "source": []
  },
  {
   "cell_type": "code",
   "execution_count": null,
   "id": "sudden-award",
   "metadata": {
    "collapsed": true,
    "hideCode": false,
    "hidePrompt": false,
    "jupyter": {
     "outputs_hidden": true
    }
   },
   "outputs": [],
   "source": []
  },
  {
   "cell_type": "code",
   "execution_count": null,
   "id": "selected-stack",
   "metadata": {
    "collapsed": true,
    "hideCode": false,
    "hidePrompt": false,
    "jupyter": {
     "outputs_hidden": true
    }
   },
   "outputs": [],
   "source": []
  },
  {
   "cell_type": "code",
   "execution_count": null,
   "id": "athletic-sweet",
   "metadata": {
    "collapsed": true,
    "hideCode": false,
    "hidePrompt": false,
    "jupyter": {
     "outputs_hidden": true
    }
   },
   "outputs": [],
   "source": []
  },
  {
   "cell_type": "code",
   "execution_count": null,
   "id": "illegal-swiss",
   "metadata": {
    "collapsed": true,
    "hideCode": false,
    "hidePrompt": false,
    "jupyter": {
     "outputs_hidden": true
    }
   },
   "outputs": [],
   "source": []
  },
  {
   "cell_type": "code",
   "execution_count": null,
   "id": "earlier-browse",
   "metadata": {
    "collapsed": true,
    "hideCode": false,
    "hidePrompt": false,
    "jupyter": {
     "outputs_hidden": true
    }
   },
   "outputs": [],
   "source": []
  },
  {
   "cell_type": "code",
   "execution_count": null,
   "id": "occupational-satisfaction",
   "metadata": {
    "collapsed": true,
    "hideCode": false,
    "hidePrompt": false,
    "jupyter": {
     "outputs_hidden": true
    }
   },
   "outputs": [],
   "source": []
  },
  {
   "cell_type": "code",
   "execution_count": null,
   "id": "latter-verification",
   "metadata": {
    "collapsed": true,
    "hideCode": false,
    "hidePrompt": false,
    "jupyter": {
     "outputs_hidden": true
    }
   },
   "outputs": [],
   "source": []
  },
  {
   "cell_type": "code",
   "execution_count": null,
   "id": "familiar-auditor",
   "metadata": {
    "collapsed": true,
    "hideCode": false,
    "hidePrompt": false,
    "jupyter": {
     "outputs_hidden": true
    }
   },
   "outputs": [],
   "source": []
  },
  {
   "cell_type": "code",
   "execution_count": null,
   "id": "personal-mumbai",
   "metadata": {
    "collapsed": true,
    "hideCode": false,
    "hidePrompt": false,
    "jupyter": {
     "outputs_hidden": true
    }
   },
   "outputs": [],
   "source": []
  },
  {
   "cell_type": "code",
   "execution_count": null,
   "id": "pleasant-bradley",
   "metadata": {
    "collapsed": true,
    "hideCode": false,
    "hidePrompt": false,
    "jupyter": {
     "outputs_hidden": true
    }
   },
   "outputs": [],
   "source": []
  },
  {
   "cell_type": "code",
   "execution_count": null,
   "id": "becoming-native",
   "metadata": {
    "collapsed": true,
    "hideCode": false,
    "hidePrompt": false,
    "jupyter": {
     "outputs_hidden": true
    }
   },
   "outputs": [],
   "source": []
  },
  {
   "cell_type": "code",
   "execution_count": null,
   "id": "falling-cursor",
   "metadata": {
    "collapsed": true,
    "hideCode": false,
    "hidePrompt": false,
    "jupyter": {
     "outputs_hidden": true
    }
   },
   "outputs": [],
   "source": []
  },
  {
   "cell_type": "code",
   "execution_count": null,
   "id": "honey-house",
   "metadata": {
    "collapsed": true,
    "hideCode": false,
    "hidePrompt": false,
    "jupyter": {
     "outputs_hidden": true
    }
   },
   "outputs": [],
   "source": []
  },
  {
   "cell_type": "code",
   "execution_count": null,
   "id": "extraordinary-pearl",
   "metadata": {
    "collapsed": true,
    "hideCode": false,
    "hidePrompt": false,
    "jupyter": {
     "outputs_hidden": true
    }
   },
   "outputs": [],
   "source": []
  },
  {
   "cell_type": "code",
   "execution_count": null,
   "id": "responsible-messaging",
   "metadata": {
    "collapsed": true,
    "hideCode": false,
    "hidePrompt": false,
    "jupyter": {
     "outputs_hidden": true
    }
   },
   "outputs": [],
   "source": []
  },
  {
   "cell_type": "code",
   "execution_count": null,
   "id": "beneficial-wallace",
   "metadata": {
    "collapsed": true,
    "hideCode": false,
    "hidePrompt": false,
    "jupyter": {
     "outputs_hidden": true
    }
   },
   "outputs": [],
   "source": []
  },
  {
   "cell_type": "code",
   "execution_count": null,
   "id": "fatty-portfolio",
   "metadata": {
    "collapsed": true,
    "hideCode": false,
    "hidePrompt": false,
    "jupyter": {
     "outputs_hidden": true
    }
   },
   "outputs": [],
   "source": []
  },
  {
   "cell_type": "markdown",
   "id": "academic-gather",
   "metadata": {
    "hideCode": false,
    "hidePrompt": false
   },
   "source": [
    "<hr>\n",
    "&nbsp;\n",
    "\n",
    "![Trees](./attachments/SD-2.3.png)\n",
    "\n",
    "&nbsp;\n",
    "\n",
    "$$\\frac{d(t)}{dt} = (t)$$\n",
    "\n",
    "\n",
    "&nbsp;\n",
    "\n",
    "- \n",
    "- \n",
    "- "
   ]
  },
  {
   "cell_type": "code",
   "execution_count": 20,
   "id": "delayed-reminder",
   "metadata": {
    "collapsed": true,
    "hideCode": false,
    "hidePrompt": false,
    "jupyter": {
     "outputs_hidden": true
    }
   },
   "outputs": [],
   "source": [
    "# time array\n",
    "t0 = 0        # units: year\n",
    "tf = 20       # units: year\n",
    "step = 1/365  # units: year\n",
    "t = np.arange(t0, tf, step)"
   ]
  },
  {
   "cell_type": "code",
   "execution_count": 22,
   "id": "phantom-drink",
   "metadata": {
    "collapsed": true,
    "hideCode": false,
    "hidePrompt": false,
    "jupyter": {
     "outputs_hidden": true
    }
   },
   "outputs": [],
   "source": [
    "# Flows\n",
    "# units: tons/year"
   ]
  },
  {
   "cell_type": "code",
   "execution_count": null,
   "id": "incorporated-armstrong",
   "metadata": {
    "collapsed": true,
    "hideCode": false,
    "hidePrompt": false,
    "jupyter": {
     "outputs_hidden": true
    }
   },
   "outputs": [],
   "source": [
    "# Stocks\n",
    "_ini = []  # units: tons"
   ]
  },
  {
   "cell_type": "code",
   "execution_count": null,
   "id": "flying-humanity",
   "metadata": {
    "collapsed": true,
    "hideCode": false,
    "hidePrompt": false,
    "jupyter": {
     "outputs_hidden": true
    }
   },
   "outputs": [],
   "source": [
    "def eq_diffN(t, y):\n",
    "    dPlasticsdt = dumping\n",
    "    return dPlasticsdt\n",
    "\n",
    "= solve_ivp(eq_diffN, [t0, tf], plastics_ini, t_eval=t).y[0]"
   ]
  },
  {
   "cell_type": "code",
   "execution_count": null,
   "id": "lonely-lawsuit",
   "metadata": {
    "collapsed": true,
    "hideCode": false,
    "hidePrompt": false,
    "jupyter": {
     "outputs_hidden": true
    }
   },
   "outputs": [],
   "source": [
    "fig, ax = plt.subplots(figsize=(10,5))\n",
    "\n",
    "ax.plot(t, trees, lw=3, label='Trees', color='#2ca02c')\n",
    "ax.set_xlabel('time')\n",
    "ax.set_ylabel('Stocks')\n",
    "\n",
    "ax2 = ax.twinx()\n",
    "ax2.plot(t, np.full((t.shape), planting), color='royalblue', label='planting')\n",
    "ax2.plot(t, np.full((t.shape), harvesting), color='orangered', label='harbesting')\n",
    "ax2.margins(y=0.8)\n",
    "ax2.set_ylim(bottom=0)\n",
    "ax2.set_ylabel('Flows')\n",
    "\n",
    "fig.legend(loc=\"center right\")\n",
    "fig.subplots_adjust(right=0.75)\n",
    "plt.show()"
   ]
  },
  {
   "cell_type": "code",
   "execution_count": null,
   "id": "fifteen-static",
   "metadata": {
    "collapsed": true,
    "hideCode": false,
    "hidePrompt": false,
    "jupyter": {
     "outputs_hidden": true
    }
   },
   "outputs": [],
   "source": []
  },
  {
   "cell_type": "code",
   "execution_count": null,
   "id": "supported-separate",
   "metadata": {
    "collapsed": true,
    "hideCode": false,
    "hidePrompt": false,
    "jupyter": {
     "outputs_hidden": true
    }
   },
   "outputs": [],
   "source": []
  },
  {
   "cell_type": "code",
   "execution_count": null,
   "id": "english-somerset",
   "metadata": {
    "collapsed": true,
    "hideCode": false,
    "hidePrompt": false,
    "jupyter": {
     "outputs_hidden": true
    }
   },
   "outputs": [],
   "source": []
  },
  {
   "cell_type": "code",
   "execution_count": null,
   "id": "central-perspective",
   "metadata": {
    "collapsed": true,
    "hideCode": false,
    "hidePrompt": false,
    "jupyter": {
     "outputs_hidden": true
    }
   },
   "outputs": [],
   "source": []
  },
  {
   "cell_type": "code",
   "execution_count": null,
   "id": "directed-knock",
   "metadata": {
    "collapsed": true,
    "hideCode": false,
    "hidePrompt": false,
    "jupyter": {
     "outputs_hidden": true
    }
   },
   "outputs": [],
   "source": []
  },
  {
   "cell_type": "markdown",
   "id": "bizarre-gallery",
   "metadata": {
    "hideCode": false,
    "hidePrompt": false
   },
   "source": [
    "<hr>\n",
    "\n",
    "## Example 8: Predators-Preys\n",
    "\n",
    "(also known as [Lotka–Volterra equations](https://www.wikiwand.com/en/Lotka%E2%80%93Volterra_equations))\n",
    "\n",
    "&nbsp;\n",
    "\n",
    "$$\\frac{dx_1}{dt} =  \\color{royalblue}{\\alpha} x_1  \\color{orangered}{- \\beta x_2}x_1$$\n",
    "\n",
    "$$\\frac{dx_2}{dt}  =  \\color{royalblue}{\\delta x_1}x_2 \\color{orangered}{- \\gamma}x_2$$\n",
    "\n",
    "\n",
    "&nbsp;  \n",
    "**with:**\n",
    "- $\\color{royalblue}{\\text{inflow}}$\n",
    "- $\\color{orangered}{\\text{outflow}}$\n",
    "\n",
    "\n",
    "&nbsp;\n",
    "**Stocks:**\n",
    "- $x_1$: sheep\n",
    "- $x_2$: wolves\n",
    "\n",
    "\n",
    "&nbsp;\n",
    "**Flows:**\n",
    "- $\\dot{x}_1$: sheep flows (births - deaths)\n",
    "    - $\\alpha$: sheep birth rate\n",
    "    - $\\beta$: predation rate\n",
    "- $\\dot{x}_2$: wolves flows (births - deaths)\n",
    "    - $\\delta$: predator efficiency\n",
    "    - $\\gamma$: wolf death rate"
   ]
  },
  {
   "cell_type": "code",
   "execution_count": null,
   "id": "forced-portuguese",
   "metadata": {
    "collapsed": true,
    "hideCode": false,
    "hidePrompt": false,
    "jupyter": {
     "outputs_hidden": true
    }
   },
   "outputs": [],
   "source": [
    "# parameters\n",
    "\n",
    "sheep_birth_rate = 0.4\n",
    "predation_rate = 0.0003\n",
    "predator_efficiency = 0.8\n",
    "wolf_death_rate = 0.15"
   ]
  },
  {
   "cell_type": "code",
   "execution_count": null,
   "id": "interim-warner",
   "metadata": {
    "collapsed": true,
    "hideCode": false,
    "hidePrompt": false,
    "jupyter": {
     "outputs_hidden": true
    }
   },
   "outputs": [],
   "source": [
    "# initial values\n",
    "\n",
    "sheep_ini = 200\n",
    "wolves_ini = 15\n",
    "\n",
    "x0 = [sheep_ini, wolves_ini]\n",
    "t = np.linspace(0, 200, 20000)"
   ]
  },
  {
   "cell_type": "code",
   "execution_count": null,
   "id": "still-national",
   "metadata": {
    "collapsed": true,
    "hideCode": false,
    "hidePrompt": false,
    "jupyter": {
     "outputs_hidden": true
    }
   },
   "outputs": [],
   "source": [
    "def predator_prey(x, t):\n",
    "    sheep = x[0]\n",
    "    wolves = x[1]\n",
    "    \n",
    "    dsheepdt = sheep*(sheep_birth_rate - predation_rate * wolves)\n",
    "    dwolvesdt = wolves*(predator_efficiency * predation_rate * sheep - wolf_death_rate)\n",
    "    \n",
    "    return [dsheepdt, dwolvesdt]"
   ]
  },
  {
   "cell_type": "code",
   "execution_count": null,
   "id": "behind-skill",
   "metadata": {
    "collapsed": true,
    "hideCode": false,
    "hidePrompt": false,
    "jupyter": {
     "outputs_hidden": true
    }
   },
   "outputs": [],
   "source": [
    "x = odeint(predator_prey, x0, t)"
   ]
  },
  {
   "cell_type": "code",
   "execution_count": null,
   "id": "assumed-climate",
   "metadata": {
    "collapsed": true,
    "hideCode": false,
    "hidePrompt": false,
    "jupyter": {
     "outputs_hidden": true
    }
   },
   "outputs": [],
   "source": [
    "sheep = x[:, 0]\n",
    "wolves = x[:, 1]"
   ]
  },
  {
   "cell_type": "code",
   "execution_count": null,
   "id": "loose-question",
   "metadata": {
    "collapsed": true,
    "hideCode": false,
    "hidePrompt": false,
    "jupyter": {
     "outputs_hidden": true
    }
   },
   "outputs": [],
   "source": [
    "plt.figure(figsize=(16,6))\n",
    "plt.plot(t/100, sheep, label='sheep')\n",
    "plt.plot(t/100, wolves, label='wolves')\n",
    "plt.legend(loc='best')\n",
    "plt.tight_layout()\n",
    "plt.show()"
   ]
  },
  {
   "cell_type": "code",
   "execution_count": null,
   "id": "regular-lexington",
   "metadata": {
    "collapsed": true,
    "hideCode": false,
    "hidePrompt": false,
    "jupyter": {
     "outputs_hidden": true
    }
   },
   "outputs": [],
   "source": [
    "anylogic = pd.read_csv('./Lotke-volterra.csv')\n",
    "anylogic"
   ]
  },
  {
   "cell_type": "code",
   "execution_count": null,
   "id": "infinite-warren",
   "metadata": {
    "collapsed": true,
    "hideCode": false,
    "hidePrompt": false,
    "jupyter": {
     "outputs_hidden": true
    }
   },
   "outputs": [],
   "source": [
    "Preys_anlg = anylogic[['Preys']][0:200]\n",
    "Predators_anlg = anylogic[['Predators']][0:200]"
   ]
  },
  {
   "cell_type": "code",
   "execution_count": null,
   "id": "veterinary-consumer",
   "metadata": {
    "collapsed": true,
    "hideCode": false,
    "hidePrompt": false,
    "jupyter": {
     "outputs_hidden": true
    }
   },
   "outputs": [],
   "source": [
    "sheep_anlg = Preys_anlg.to_numpy()\n",
    "wolves_anlg = Predators_anlg.to_numpy()\n",
    "t1 = np.linspace(0, 200, 200)"
   ]
  },
  {
   "cell_type": "code",
   "execution_count": null,
   "id": "portable-virtue",
   "metadata": {
    "collapsed": true,
    "hideCode": false,
    "hidePrompt": false,
    "jupyter": {
     "outputs_hidden": true
    }
   },
   "outputs": [],
   "source": [
    "netlogo = pd.read_csv('./netlogo-wolf-sheep2.csv')\n",
    "netlogo"
   ]
  },
  {
   "cell_type": "code",
   "execution_count": null,
   "id": "revolutionary-victory",
   "metadata": {
    "collapsed": true,
    "hideCode": false,
    "hidePrompt": false,
    "jupyter": {
     "outputs_hidden": true
    }
   },
   "outputs": [],
   "source": [
    "Preys_nlgo = netlogo[['sheep']][:200000:100]\n",
    "Predators_nlgo = netlogo[['wolves']][:200000:100]"
   ]
  },
  {
   "cell_type": "code",
   "execution_count": null,
   "id": "adjacent-directive",
   "metadata": {
    "collapsed": true,
    "hideCode": false,
    "hidePrompt": false,
    "jupyter": {
     "outputs_hidden": true
    }
   },
   "outputs": [],
   "source": [
    "n = len(Preys_nlgo)\n",
    "\n",
    "sheep_nlgo = Preys_nlgo.to_numpy()\n",
    "wolves_nlgo = Predators_nlgo.to_numpy()\n",
    "t2 = np.linspace(0, 200, n)"
   ]
  },
  {
   "cell_type": "code",
   "execution_count": null,
   "id": "saved-remove",
   "metadata": {
    "collapsed": true,
    "hideCode": false,
    "hidePrompt": false,
    "jupyter": {
     "outputs_hidden": true
    }
   },
   "outputs": [],
   "source": [
    "plt.figure(figsize=(16,10))\n",
    "\n",
    "plt.subplot(2,1,1)\n",
    "plt.title('Scipy vs. Anylogic vs. Netlogo')\n",
    "plt.plot(t, sheep, label='scipy')\n",
    "plt.plot(t1, sheep_anlg, label='anylogic')\n",
    "plt.plot(t2, sheep_nlgo, label='netlogo')\n",
    "plt.ylabel('Sheep')\n",
    "plt.legend(loc='best')\n",
    "\n",
    "plt.subplot(2,1,2)\n",
    "plt.plot(t, wolves, label='scipy')\n",
    "plt.plot(t1, wolves_anlg, label='anylogic')\n",
    "plt.plot(t2, wolves_nlgo, label='netlogo')\n",
    "plt.ylabel('Wolves')\n",
    "plt.legend(loc='best')\n",
    "\n",
    "plt.xlabel('Time (days)')\n",
    "plt.show()"
   ]
  },
  {
   "cell_type": "markdown",
   "id": "accompanied-compatibility",
   "metadata": {
    "hideCode": false,
    "hidePrompt": false
   },
   "source": [
    "<hr>\n",
    "\n",
    "## Example 9\n",
    "\n",
    "&nbsp;\n",
    "\n",
    "$$\\frac{dx_1}{dt} = \\color{royalblue}{a}x_1 \\color{orangered}{- b x_2}x_1$$\n",
    "\n",
    "$$\\frac{dx_2}{dt} =  \\color{royalblue}{c x_1} x_2 \\color{orangered}{- d x_3} x_2$$\n",
    "\n",
    "$$\\frac{dx_3}{dt} = \\color{royalblue}{e x_2} x_3  \\color{orangered}{- f} x_3 $$\n",
    "\n",
    "\n",
    "\n",
    "&nbsp;  \n",
    "**with:**\n",
    "- $\\color{royalblue}{\\text{inflow}}$\n",
    "- $\\color{orangered}{\\text{outflow}}$\n",
    "\n",
    "\n",
    "&nbsp;\n",
    "**Stocks:**\n",
    "- $x_1$: Vegetation\n",
    "- $x_2$: Preys\n",
    "- $x_3$: Predators\n",
    "\n",
    "\n",
    "&nbsp;\n",
    "**Flows:**\n",
    "\n",
    "- $\\frac{dx_1}{dt} $: Vegetation flows (regeneration - deaths)\n",
    "    - $\\color{royalblue}{a}$: external_seed_dispersion_rate * seed_survival_probability * frac_veg_regen_rate\n",
    "    - $\\color{orangered}{b}$: prey_search_efficiency\n",
    "\n",
    "- $\\frac{dx_2}{dt} $: Prey flows (births - deaths)\n",
    "    - $\\color{royalblue}{c}$: prey_search_efficiency * prey_food_conversion_efficiency\n",
    "    - $\\color{orangered}{d}$: pred_search_efficiency\n",
    "\n",
    "- $\\frac{dx_3}{dt} $: Predators flows (births - deaths)\n",
    "    - $\\color{royalblue}{e}$: pred_search_efficiency * pred_food_conversion_efficiency\n",
    "    - $\\color{orangered}{f}$: frac_pred_death_rate\n",
    "\n",
    "\n",
    "\n",
    "&nbsp;\n",
    "\n",
    "![vegeration preys and predators](./veg_prey_pred.png)\n"
   ]
  },
  {
   "cell_type": "code",
   "execution_count": null,
   "id": "spanish-fundamentals",
   "metadata": {
    "collapsed": true,
    "hideCode": false,
    "hidePrompt": false,
    "jupyter": {
     "outputs_hidden": true
    }
   },
   "outputs": [],
   "source": [
    "# parameters\n",
    "external_seed_dispersion_rate = 300      # Units: veg/month\n",
    "seed_survival_probability = 0.25         # Units: dmnl\n",
    "frac_veg_regen_rate = 0.25               # Units: 1/month\n",
    "min_veg_popul = 2                        # Units: veg\n",
    "min_veg_death_time = 1                   # Units: 1/month\n",
    "\n",
    "prey_search_efficiency = 0.2             # Units: 1/prey/month\n",
    "prey_food_conversion_efficiency = 0.005  # Units: prey/veg\n",
    "min_prey_popul = 2                       # Units: prey\n",
    "min_prey_death_time = 1                  # Units: 1/month\n",
    "\n",
    "\n",
    "pred_search_efficiency = 0.02            # Units: 1/pred/month\n",
    "pred_food_conversion_efficiency = 0.1    # Units: pred/prey\n",
    "min_pred_popul = 0                       # Units: pred\n",
    "min_pred_death_time = 1                  # Units: 1/month\n",
    "frac_pred_death_rate = 0.1               # Units: 1/month\n",
    "\n",
    "\n",
    "# Initial values\n",
    "Vegetation_ini = 100_000\n",
    "Preys_ini = 500\n",
    "Predators_ini = 10\n",
    "x0 = [Vegetation_ini, Preys_ini, Predators_ini]\n",
    "\n",
    "# Time horizon\n",
    "t = np.linspace(0, 1500, 20_000)"
   ]
  },
  {
   "cell_type": "code",
   "execution_count": null,
   "id": "closing-swaziland",
   "metadata": {
    "collapsed": true,
    "hideCode": false,
    "hidePrompt": false,
    "jupyter": {
     "outputs_hidden": true
    }
   },
   "outputs": [],
   "source": [
    "def veg_prey_pred(x, t):\n",
    "    \n",
    "    Vegetation = x[0]\n",
    "    Preys = x[1]\n",
    "    Predators = x[2]\n",
    "\n",
    "    # dynamic variables\n",
    "    max_veg_death_rate = 1\n",
    "    max_prey_death_rate = 1\n",
    "    max_pred_death_rate = 1\n",
    "\n",
    "    \n",
    "\n",
    "    # Flows\n",
    "    veg_regen_rate = external_seed_dispersion_rate * seed_survival_probability * frac_veg_regen_rate * Vegetation  # Units: veg / month\n",
    "    veg_death_rate = min(prey_search_efficiency * Preys * Vegetation, max_veg_death_rate)                     # Units: veg / month\n",
    "\n",
    "    prey_birth_rate = prey_search_efficiency * prey_food_conversion_efficiency * Vegetation * Preys  # Units: prey / month\n",
    "    prey_death_rate = min(pred_search_efficiency * Predators * Preys, max_prey_death_rate)      # Units: prey / month\n",
    "\n",
    "    pred_birth_rate = pred_search_efficiency * pred_food_conversion_efficiency * Preys * Predators  # Units: pred / month\n",
    "    pred_death_rate = min(frac_pred_death_rate * Predators, max_pred_death_rate)               # Units: pred / month\n",
    "\n",
    "\n",
    "    # Stocks\n",
    "    dVegetationdt = veg_regen_rate - veg_death_rate\n",
    "    dPreysdt = prey_birth_rate - prey_death_rate\n",
    "    dPredatorsdt = pred_birth_rate - pred_death_rate\n",
    "    \n",
    "    return [dVegetationdt, dPreysdt, dPredatorsdt]"
   ]
  },
  {
   "cell_type": "code",
   "execution_count": null,
   "id": "continent-lindsay",
   "metadata": {
    "collapsed": true,
    "hideCode": false,
    "hidePrompt": false,
    "jupyter": {
     "outputs_hidden": true
    }
   },
   "outputs": [],
   "source": [
    "# def veg_prey_pred(x, t):\n",
    "    \n",
    "#     Vegetation = x[0]\n",
    "#     Preys = x[1]\n",
    "#     Predators = x[2]\n",
    "\n",
    "#     # dynamic variables\n",
    "#     max_veg_death_rate = (Vegetation - min_veg_popul)/min_veg_death_time if Vegetation >= min_veg_popul else 0\n",
    "#     max_prey_death_rate = (Preys - min_prey_popul)/min_prey_death_time if Preys >= min_prey_popul else 0\n",
    "#     max_pred_death_rate = (Predators - min_pred_popul)/min_pred_death_time if Predators >= min_pred_popul else 0\n",
    "\n",
    "\n",
    "#     # Flows\n",
    "#     veg_regen_rate = external_seed_dispersion_rate * seed_survival_probability * frac_veg_regen_rate * Vegetation  # Units: veg / month\n",
    "#     veg_death_rate = np.min([prey_search_efficiency * Preys * Vegetation, max_veg_death_rate])                     # Units: veg / month\n",
    "\n",
    "#     prey_birth_rate = prey_search_efficiency * prey_food_conversion_efficiency * Vegetation * Preys  # Units: prey / month\n",
    "#     prey_death_rate = np.min([pred_search_efficiency * Predators * Preys, max_prey_death_rate])      # Units: prey / month\n",
    "\n",
    "#     pred_birth_rate = pred_search_efficiency * pred_food_conversion_efficiency * Preys * Predators  # Units: pred / month\n",
    "#     pred_death_rate = np.min([frac_pred_death_rate * Predators, max_pred_death_rate])               # Units: pred / month\n",
    "\n",
    "\n",
    "#     # Stocks\n",
    "#     dVegetationdt = veg_regen_rate - veg_death_rate\n",
    "#     dPreysdt = prey_birth_rate - prey_death_rate\n",
    "#     dPredatorsdt = pred_birth_rate - pred_death_rate\n",
    "    \n",
    "    \n",
    "#     return [dVegetationdt, dPreysdt, dPredatorsdt]"
   ]
  },
  {
   "cell_type": "code",
   "execution_count": null,
   "id": "acute-seller",
   "metadata": {
    "collapsed": true,
    "hideCode": false,
    "hidePrompt": false,
    "jupyter": {
     "outputs_hidden": true
    }
   },
   "outputs": [],
   "source": [
    "x = odeint(veg_prey_pred, x0, t)"
   ]
  },
  {
   "cell_type": "code",
   "execution_count": null,
   "id": "fantastic-ontario",
   "metadata": {
    "collapsed": true,
    "hideCode": false,
    "hidePrompt": false,
    "jupyter": {
     "outputs_hidden": true
    }
   },
   "outputs": [],
   "source": [
    "vegetation = x[:, 0]\n",
    "preys = x[:, 1]\n",
    "predators = x[:, 2]"
   ]
  },
  {
   "cell_type": "code",
   "execution_count": null,
   "id": "ready-maximum",
   "metadata": {
    "collapsed": true,
    "hideCode": false,
    "hidePrompt": false,
    "jupyter": {
     "outputs_hidden": true
    }
   },
   "outputs": [],
   "source": [
    "plt.figure(figsize=(16,6))\n",
    "plt.plot(t, vegetation, label='vegetation')\n",
    "plt.plot(t, preys, label='preys')\n",
    "plt.plot(t, predators, label='predators')\n",
    "plt.legend(loc='best')\n",
    "plt.tight_layout()\n",
    "plt.show()"
   ]
  },
  {
   "cell_type": "markdown",
   "id": "given-store",
   "metadata": {
    "hideCode": false,
    "hidePrompt": false
   },
   "source": [
    "Credits:\n",
    "\n",
    "Sterner,E.,Adawi,T.,Persson,M.etal(2019)Knowinghowandknowingwhen:unpackingpublicunderstandingofatmosphericCO2accumulationClimaticChange,154(1-2):49-67http://dx.doi.org/10.1007/s10584-019-02423-8"
   ]
  }
 ],
 "metadata": {
  "celltoolbar": "Hide code",
  "hide_code_all_hidden": false,
  "hide_input": false,
  "kernelspec": {
   "display_name": "Python 3",
   "language": "python",
   "name": "python3"
  },
  "language_info": {
   "codemirror_mode": {
    "name": "ipython",
    "version": 3
   },
   "file_extension": ".py",
   "mimetype": "text/x-python",
   "name": "python",
   "nbconvert_exporter": "python",
   "pygments_lexer": "ipython3",
   "version": "3.9.2"
  },
  "toc": {
   "base_numbering": 1,
   "nav_menu": {},
   "number_sections": true,
   "sideBar": true,
   "skip_h1_title": false,
   "title_cell": "Table of Contents",
   "title_sidebar": "Contents",
   "toc_cell": false,
   "toc_position": {},
   "toc_section_display": true,
   "toc_window_display": false
  },
  "varInspector": {
   "cols": {
    "lenName": 16,
    "lenType": 16,
    "lenVar": 40
   },
   "kernels_config": {
    "python": {
     "delete_cmd_postfix": "",
     "delete_cmd_prefix": "del ",
     "library": "var_list.py",
     "varRefreshCmd": "print(var_dic_list())"
    },
    "r": {
     "delete_cmd_postfix": ") ",
     "delete_cmd_prefix": "rm(",
     "library": "var_list.r",
     "varRefreshCmd": "cat(var_dic_list()) "
    }
   },
   "types_to_exclude": [
    "module",
    "function",
    "builtin_function_or_method",
    "instance",
    "_Feature"
   ],
   "window_display": false
  }
 },
 "nbformat": 4,
 "nbformat_minor": 5
}
