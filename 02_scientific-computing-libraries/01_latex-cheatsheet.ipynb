{
 "cells": [
  {
   "cell_type": "markdown",
   "metadata": {
    "editable": true,
    "slideshow": {
     "slide_type": ""
    },
    "tags": []
   },
   "source": [
    "# Latex Cheatsheet\n"
   ]
  },
  {
   "cell_type": "markdown",
   "metadata": {},
   "source": [
    "## Table of Content\n",
    "\n",
    "- Greek Letters\n",
    "- Binary operators\n",
    "- Relational operators\n",
    "- Logic notation\n",
    "- Set notation\n",
    "- Geometry\n",
    "- Trigonometry\n",
    "- Power and Indices\n",
    "- Fractions and Binomials\n",
    "- Roots\n",
    "- Sums and Products\n",
    "- Limits\n",
    "- Derivative and differential calculus\n",
    "- Integrals\n",
    "- Brackets and linear algebra\n",
    "- Other\n"
   ]
  },
  {
   "cell_type": "markdown",
   "metadata": {},
   "source": [
    "**NOTE:**  \n",
    "`$ [math] $` --> Inline  \n",
    "`$$ [math] $$` --> Display (centered and bigger)\n"
   ]
  },
  {
   "cell_type": "markdown",
   "metadata": {},
   "source": [
    "## Greek Letters\n"
   ]
  },
  {
   "cell_type": "markdown",
   "metadata": {
    "editable": true,
    "slideshow": {
     "slide_type": ""
    },
    "tags": []
   },
   "source": [
    "`A, \\alpha`\n",
    "\n",
    "$A, \\alpha$\n"
   ]
  },
  {
   "cell_type": "markdown",
   "metadata": {},
   "source": [
    "`B, \\beta`\n",
    "\n",
    "$B, \\beta$\n"
   ]
  },
  {
   "cell_type": "markdown",
   "metadata": {},
   "source": [
    "`\\Gamma, \\gamma`\n",
    "\n",
    "$\\Gamma, \\gamma$\n"
   ]
  },
  {
   "cell_type": "markdown",
   "metadata": {},
   "source": [
    "`\\Delta, \\delta`\n",
    "\n",
    "$\\Delta, \\delta$\n"
   ]
  },
  {
   "cell_type": "markdown",
   "metadata": {},
   "source": [
    "`E, \\epsilon, \\varepsilon`\n",
    "\n",
    "$E, \\epsilon, \\varepsilon$\n"
   ]
  },
  {
   "cell_type": "markdown",
   "metadata": {},
   "source": [
    "`Z, \\zeta`\n",
    "\n",
    "$Z, \\zeta$\n"
   ]
  },
  {
   "cell_type": "markdown",
   "metadata": {},
   "source": [
    "`H, \\eta`\n",
    "\n",
    "$H, \\eta$\n"
   ]
  },
  {
   "cell_type": "markdown",
   "metadata": {},
   "source": [
    "`\\Theta, \\theta`\n",
    "\n",
    "$\\Theta, \\theta$\n"
   ]
  },
  {
   "cell_type": "markdown",
   "metadata": {},
   "source": [
    "`I, \\iota`\n",
    "\n",
    "$I, \\iota$\n"
   ]
  },
  {
   "cell_type": "markdown",
   "metadata": {},
   "source": [
    "`K, \\kappa`\n",
    "\n",
    "$K, \\kappa$\n"
   ]
  },
  {
   "cell_type": "markdown",
   "metadata": {},
   "source": [
    "`\\Lambda, \\lambda`\n",
    "\n",
    "$\\Lambda, \\lambda$\n"
   ]
  },
  {
   "cell_type": "markdown",
   "metadata": {},
   "source": [
    "`M, \\mu`\n",
    "\n",
    "$M, \\mu$\n"
   ]
  },
  {
   "cell_type": "markdown",
   "metadata": {},
   "source": [
    "`N, \\nu`\n",
    "\n",
    "$N, \\nu$\n"
   ]
  },
  {
   "cell_type": "markdown",
   "metadata": {},
   "source": [
    "`\\Xi, \\xi`\n",
    "\n",
    "$\\Xi, \\xi$\n"
   ]
  },
  {
   "cell_type": "markdown",
   "metadata": {},
   "source": [
    "`O, \\omicron`\n",
    "\n",
    "$O, \\omicron$\n"
   ]
  },
  {
   "cell_type": "markdown",
   "metadata": {},
   "source": [
    "`\\Pi, \\pi`\n",
    "\n",
    "$\\Pi, \\pi$\n"
   ]
  },
  {
   "cell_type": "markdown",
   "metadata": {},
   "source": [
    "`P, \\rho`\n",
    "\n",
    "$P, \\rho$\n"
   ]
  },
  {
   "cell_type": "markdown",
   "metadata": {},
   "source": [
    "`\\Sigma, \\sigma`\n",
    "\n",
    "$\\Sigma, \\sigma$\n"
   ]
  },
  {
   "cell_type": "markdown",
   "metadata": {},
   "source": [
    "`T, \\tau`\n",
    "\n",
    "$T, \\tau$\n"
   ]
  },
  {
   "cell_type": "markdown",
   "metadata": {},
   "source": [
    "`\\Upsilon, \\upsilon`\n",
    "\n",
    "$\\Upsilon, \\upsilon$\n"
   ]
  },
  {
   "cell_type": "markdown",
   "metadata": {},
   "source": [
    "`\\Phi, \\phi, \\varphi`\n",
    "\n",
    "$\\Phi, \\phi, \\varphi$\n"
   ]
  },
  {
   "cell_type": "markdown",
   "metadata": {},
   "source": [
    "`X, \\chi`\n",
    "\n",
    "$X, \\chi$\n"
   ]
  },
  {
   "cell_type": "markdown",
   "metadata": {},
   "source": [
    "`\\Psi, \\psi`\n",
    "\n",
    "$\\Psi, \\psi$\n"
   ]
  },
  {
   "cell_type": "markdown",
   "metadata": {},
   "source": [
    "`\\Omega, \\omega`\n",
    "\n",
    "$\\Omega, \\omega$\n"
   ]
  },
  {
   "cell_type": "markdown",
   "metadata": {},
   "source": [
    "## Binary operators\n"
   ]
  },
  {
   "cell_type": "markdown",
   "metadata": {},
   "source": [
    "`$+$`\n",
    "\n",
    "$+$\n"
   ]
  },
  {
   "cell_type": "markdown",
   "metadata": {},
   "source": [
    "`$-$`\n",
    "\n",
    "$-$\n"
   ]
  },
  {
   "cell_type": "markdown",
   "metadata": {},
   "source": [
    "`$\\pm$`\n",
    "\n",
    "$\\pm$\n"
   ]
  },
  {
   "cell_type": "markdown",
   "metadata": {},
   "source": [
    "`$\\times$`\n",
    "\n",
    "$\\times$\n"
   ]
  },
  {
   "cell_type": "markdown",
   "metadata": {},
   "source": [
    "`$\\div$`\n",
    "\n",
    "$\\div$\n"
   ]
  },
  {
   "cell_type": "markdown",
   "metadata": {},
   "source": [
    "`$\\cdot$`\n",
    "\n",
    "$\\cdot$\n"
   ]
  },
  {
   "cell_type": "markdown",
   "metadata": {},
   "source": [
    "## Relational operators\n"
   ]
  },
  {
   "cell_type": "markdown",
   "metadata": {},
   "source": [
    "`$=$`\n",
    "\n",
    "$=$\n"
   ]
  },
  {
   "cell_type": "markdown",
   "metadata": {},
   "source": [
    "`$\\neq$`\n",
    "\n",
    "$\\neq$\n"
   ]
  },
  {
   "cell_type": "markdown",
   "metadata": {},
   "source": [
    "`$\\equiv$`\n",
    "\n",
    "$\\equiv$\n"
   ]
  },
  {
   "cell_type": "markdown",
   "metadata": {},
   "source": [
    "`$\\approx$`\n",
    "\n",
    "$\\approx$\n"
   ]
  },
  {
   "cell_type": "markdown",
   "metadata": {},
   "source": [
    "`$\\cong$`\n",
    "\n",
    "$\\cong$\n"
   ]
  },
  {
   "cell_type": "markdown",
   "metadata": {},
   "source": [
    "`$\\simeq$`\n",
    "\n",
    "$\\simeq$\n"
   ]
  },
  {
   "cell_type": "markdown",
   "metadata": {},
   "source": [
    "`$\\sim$`\n",
    "\n",
    "$\\sim$\n"
   ]
  },
  {
   "cell_type": "markdown",
   "metadata": {},
   "source": [
    "`$\\propto$`\n",
    "\n",
    "$\\propto$\n"
   ]
  },
  {
   "cell_type": "markdown",
   "metadata": {},
   "source": [
    "`$<$`\n",
    "\n",
    "$<$\n"
   ]
  },
  {
   "cell_type": "markdown",
   "metadata": {},
   "source": [
    "`$\\leq$`\n",
    "\n",
    "$\\leq$\n"
   ]
  },
  {
   "cell_type": "markdown",
   "metadata": {},
   "source": [
    "`$\\leqslant$`\n",
    "\n",
    "$\\leqslant$\n"
   ]
  },
  {
   "cell_type": "markdown",
   "metadata": {},
   "source": [
    "`$>$`\n",
    "\n",
    "$>$\n"
   ]
  },
  {
   "cell_type": "markdown",
   "metadata": {},
   "source": [
    "`$\\geq$`\n",
    "\n",
    "$\\geq$\n"
   ]
  },
  {
   "cell_type": "markdown",
   "metadata": {},
   "source": [
    "`$\\geqslant$`\n",
    "\n",
    "$\\geqslant$\n"
   ]
  },
  {
   "cell_type": "markdown",
   "metadata": {},
   "source": [
    "`$\\nless$`\n",
    "\n",
    "$\\nless$\n"
   ]
  },
  {
   "cell_type": "markdown",
   "metadata": {},
   "source": [
    "`$\\nleq$`\n",
    "\n",
    "$\\nleq$\n"
   ]
  },
  {
   "cell_type": "markdown",
   "metadata": {},
   "source": [
    "`$\\nleqslant$`\n",
    "\n",
    "$\\nleqslant$\n"
   ]
  },
  {
   "cell_type": "markdown",
   "metadata": {},
   "source": [
    "`$\\ngtr$`\n",
    "\n",
    "$\\ngtr$\n"
   ]
  },
  {
   "cell_type": "markdown",
   "metadata": {},
   "source": [
    "`$\\ngeq$`\n",
    "\n",
    "$\\ngeq$\n"
   ]
  },
  {
   "cell_type": "markdown",
   "metadata": {},
   "source": [
    "`$\\ngeqslant$`\n",
    "\n",
    "$\\ngeqslant$\n"
   ]
  },
  {
   "cell_type": "markdown",
   "metadata": {},
   "source": [
    "`$\\ll$`\n",
    "\n",
    "$\\ll$\n"
   ]
  },
  {
   "cell_type": "markdown",
   "metadata": {},
   "source": [
    "`$\\lll$`\n",
    "\n",
    "$\\lll$\n"
   ]
  },
  {
   "cell_type": "markdown",
   "metadata": {},
   "source": [
    "`$\\gg$`\n",
    "\n",
    "$\\gg$\n"
   ]
  },
  {
   "cell_type": "markdown",
   "metadata": {},
   "source": [
    "`$\\ggg$`\n",
    "\n",
    "$\\ggg$\n"
   ]
  },
  {
   "cell_type": "markdown",
   "metadata": {},
   "source": [
    "## Logic notation\n"
   ]
  },
  {
   "cell_type": "markdown",
   "metadata": {},
   "source": [
    "`$\\exists$`\n",
    "\n",
    "$\\exists$\n"
   ]
  },
  {
   "cell_type": "markdown",
   "metadata": {},
   "source": [
    "`$\\exists!$`\n",
    "\n",
    "$\\exists!$\n"
   ]
  },
  {
   "cell_type": "markdown",
   "metadata": {},
   "source": [
    "`$\\nexists$`\n",
    "\n",
    "$\\nexists$\n"
   ]
  },
  {
   "cell_type": "markdown",
   "metadata": {},
   "source": [
    "`$\\forall$`\n",
    "\n",
    "$\\forall$\n"
   ]
  },
  {
   "cell_type": "markdown",
   "metadata": {},
   "source": [
    "`$\\neg$`\n",
    "\n",
    "$\\neg$\n"
   ]
  },
  {
   "cell_type": "markdown",
   "metadata": {},
   "source": [
    "`$\\lor$`\n",
    "\n",
    "$\\lor$\n"
   ]
  },
  {
   "cell_type": "markdown",
   "metadata": {},
   "source": [
    "`$\\land$`\n",
    "\n",
    "$\\land$\n"
   ]
  },
  {
   "cell_type": "markdown",
   "metadata": {},
   "source": [
    "`$\\Rightarrow$`\n",
    "\n",
    "$\\Rightarrow$\n"
   ]
  },
  {
   "cell_type": "markdown",
   "metadata": {},
   "source": [
    "`$\\Leftarrow$`\n",
    "\n",
    "$\\Leftarrow$\n"
   ]
  },
  {
   "cell_type": "markdown",
   "metadata": {},
   "source": [
    "`$\\Leftrightarrow$`\n",
    "\n",
    "$\\Leftrightarrow$\n"
   ]
  },
  {
   "cell_type": "markdown",
   "metadata": {},
   "source": [
    "## Set notation\n"
   ]
  },
  {
   "cell_type": "markdown",
   "metadata": {},
   "source": [
    "`$\\varnothing$`\n",
    "\n",
    "$\\varnothing$\n"
   ]
  },
  {
   "cell_type": "markdown",
   "metadata": {},
   "source": [
    "`$\\mathbb{N}$\n",
    "`\n",
    "\n",
    "$\\mathbb{N}$\n"
   ]
  },
  {
   "cell_type": "markdown",
   "metadata": {},
   "source": [
    "`$\\mathbb{Z}$`\n",
    "\n",
    "$\\mathbb{Z}$\n"
   ]
  },
  {
   "cell_type": "markdown",
   "metadata": {},
   "source": [
    "`$\\mathbb{Q}$`\n",
    "\n",
    "$\\mathbb{Q}$\n"
   ]
  },
  {
   "cell_type": "markdown",
   "metadata": {},
   "source": [
    "`$\\mathbb{R}$`\n",
    "\n",
    "$\\mathbb{R}$\n"
   ]
  },
  {
   "cell_type": "markdown",
   "metadata": {},
   "source": [
    "`$\\mathbb{C}$`\n",
    "\n",
    "$\\mathbb{C}$\n"
   ]
  },
  {
   "cell_type": "markdown",
   "metadata": {},
   "source": [
    "`$\\mathbb{H}$`\n",
    "\n",
    "$\\mathbb{H}$\n"
   ]
  },
  {
   "cell_type": "markdown",
   "metadata": {},
   "source": [
    "`$\\in$`\n",
    "\n",
    "$\\in$\n"
   ]
  },
  {
   "cell_type": "markdown",
   "metadata": {},
   "source": [
    "`$\\notin$`\n",
    "\n",
    "$\\notin$\n"
   ]
  },
  {
   "cell_type": "markdown",
   "metadata": {},
   "source": [
    "`$\\ni$`\n",
    "\n",
    "$\\ni$\n"
   ]
  },
  {
   "cell_type": "markdown",
   "metadata": {},
   "source": [
    "`$\\subset$`\n",
    "\n",
    "$\\subset$\n"
   ]
  },
  {
   "cell_type": "markdown",
   "metadata": {},
   "source": [
    "`$\\subseteq$`\n",
    "\n",
    "$\\subseteq$\n"
   ]
  },
  {
   "cell_type": "markdown",
   "metadata": {},
   "source": [
    "`$\\supset$\n",
    "`\n",
    "\n",
    "$\\supset$\n"
   ]
  },
  {
   "cell_type": "markdown",
   "metadata": {},
   "source": [
    "`$\\supseteq$`\n",
    "\n",
    "$\\supseteq$\n"
   ]
  },
  {
   "cell_type": "markdown",
   "metadata": {},
   "source": [
    "`$\\not\\subset$`\n",
    "\n",
    "$\\not\\subset$\n"
   ]
  },
  {
   "cell_type": "markdown",
   "metadata": {},
   "source": [
    "`$\\nsubseteq$`\n",
    "\n",
    "$\\nsubseteq$\n"
   ]
  },
  {
   "cell_type": "markdown",
   "metadata": {},
   "source": [
    "`$\\not\\supset$`\n",
    "\n",
    "$\\not\\supset$\n"
   ]
  },
  {
   "cell_type": "markdown",
   "metadata": {},
   "source": [
    "`$\\nsupseteq$`\n",
    "\n",
    "$\\nsupseteq$\n"
   ]
  },
  {
   "cell_type": "markdown",
   "metadata": {},
   "source": [
    "`$\\cap$`\n",
    "\n",
    "$\\cap$\n"
   ]
  },
  {
   "cell_type": "markdown",
   "metadata": {},
   "source": [
    "`$\\cup$`\n",
    "\n",
    "$\\cup$\n"
   ]
  },
  {
   "cell_type": "markdown",
   "metadata": {},
   "source": [
    "`$\\uplus$`\n",
    "\n",
    "$\\uplus$\n"
   ]
  },
  {
   "cell_type": "markdown",
   "metadata": {},
   "source": [
    "`$\\setminus$`\n",
    "\n",
    "$\\setminus$\n"
   ]
  },
  {
   "cell_type": "markdown",
   "metadata": {},
   "source": [
    "## Geometry\n"
   ]
  },
  {
   "cell_type": "markdown",
   "metadata": {},
   "source": [
    "`$\\angle$`\n",
    "\n",
    "$\\angle$\n"
   ]
  },
  {
   "cell_type": "markdown",
   "metadata": {},
   "source": [
    "`$\\measuredangle$`\n",
    "\n",
    "$\\measuredangle$\n"
   ]
  },
  {
   "cell_type": "markdown",
   "metadata": {},
   "source": [
    "`$\\perp$`\n",
    "\n",
    "$\\perp$\n"
   ]
  },
  {
   "cell_type": "markdown",
   "metadata": {},
   "source": [
    "`$\\not\\perp$`\n",
    "\n",
    "$\\not\\perp$\n"
   ]
  },
  {
   "cell_type": "markdown",
   "metadata": {},
   "source": [
    "`$\\|$`\n",
    "\n",
    "$\\|$\n"
   ]
  },
  {
   "cell_type": "markdown",
   "metadata": {},
   "source": [
    "`$\\nparallel$`\n",
    "\n",
    "$\\nparallel$\n"
   ]
  },
  {
   "cell_type": "markdown",
   "metadata": {},
   "source": [
    "`$$\\overline{\\rm AB}$$`\n",
    "\n",
    "$$\\overline{\\rm AB}$$\n"
   ]
  },
  {
   "cell_type": "markdown",
   "metadata": {},
   "source": [
    "`$$\\overrightarrow{\\rm AB}$$`\n",
    "\n",
    "$$\\overrightarrow{\\rm AB}$$\n"
   ]
  },
  {
   "cell_type": "markdown",
   "metadata": {},
   "source": [
    "`$$\\| \\overrightarrow{\\rm AB} \\|$$`\n",
    "\n",
    "$$\\| \\overrightarrow{\\rm AB} \\|$$\n"
   ]
  },
  {
   "cell_type": "markdown",
   "metadata": {},
   "source": [
    "## Trigonometry\n"
   ]
  },
  {
   "cell_type": "markdown",
   "metadata": {},
   "source": [
    "`$\\cos$`\n",
    "\n",
    "$\\cos$\n"
   ]
  },
  {
   "cell_type": "markdown",
   "metadata": {},
   "source": [
    "`$\\sin$`\n",
    "\n",
    "$\\sin$\n"
   ]
  },
  {
   "cell_type": "markdown",
   "metadata": {},
   "source": [
    "`$\\tan$`\n",
    "\n",
    "$\\tan$\n"
   ]
  },
  {
   "cell_type": "markdown",
   "metadata": {},
   "source": [
    "`$\\arccos$`\n",
    "\n",
    "$\\arccos$\n"
   ]
  },
  {
   "cell_type": "markdown",
   "metadata": {},
   "source": [
    "`$\\arcsin$`\n",
    "\n",
    "$\\arcsin$\n"
   ]
  },
  {
   "cell_type": "markdown",
   "metadata": {},
   "source": [
    "`$\\arctan$`\n",
    "\n",
    "$\\arctan$\n"
   ]
  },
  {
   "cell_type": "markdown",
   "metadata": {},
   "source": [
    "`$\\cosh$`\n",
    "\n",
    "$\\cosh$\n"
   ]
  },
  {
   "cell_type": "markdown",
   "metadata": {},
   "source": [
    "`$\\sinh$`\n",
    "\n",
    "$\\sinh$\n"
   ]
  },
  {
   "cell_type": "markdown",
   "metadata": {},
   "source": [
    "`$\\tanh$`\n",
    "\n",
    "$\\tanh$\n"
   ]
  },
  {
   "cell_type": "markdown",
   "metadata": {},
   "source": [
    "`$\\bmod$`\n",
    "\n",
    "$\\bmod$\n"
   ]
  },
  {
   "cell_type": "markdown",
   "metadata": {},
   "source": [
    "## Power and Indices\n"
   ]
  },
  {
   "cell_type": "markdown",
   "metadata": {},
   "source": [
    "`$$k_{n+1}$$`\n",
    "\n",
    "$$k_{n+1}$$\n"
   ]
  },
  {
   "cell_type": "markdown",
   "metadata": {},
   "source": [
    "`$$n^2$$`\n",
    "\n",
    "$$n^2$$\n"
   ]
  },
  {
   "cell_type": "markdown",
   "metadata": {},
   "source": [
    "`$$k_n^2$$`\n",
    "\n",
    "$$k_n^2$$\n"
   ]
  },
  {
   "cell_type": "markdown",
   "metadata": {},
   "source": [
    "## Fractions and Binomials\n"
   ]
  },
  {
   "cell_type": "markdown",
   "metadata": {},
   "source": [
    "`$$^3/_7$$`\n",
    "\n",
    "$$^3/_7$$\n"
   ]
  },
  {
   "cell_type": "markdown",
   "metadata": {},
   "source": [
    "`$$\\frac{a}{b}$$`\n",
    "\n",
    "$$\\frac{a}{b}$$\n"
   ]
  },
  {
   "cell_type": "markdown",
   "metadata": {},
   "source": [
    "`$$\\frac {n!} {k!(n-k)!}$$`\n",
    "\n",
    "$$\\frac {n!} {k!(n-k)!}$$\n"
   ]
  },
  {
   "cell_type": "markdown",
   "metadata": {},
   "source": [
    "`$$\\frac{\\frac{x}{1}}{x - y}$$`\n",
    "\n",
    "$$\\frac{\\frac{x}{1}}{x - y}$$\n"
   ]
  },
  {
   "cell_type": "markdown",
   "metadata": {},
   "source": [
    "`$$\\binom{n}{k}$$`\n",
    "\n",
    "$$\\binom{n}{k}$$\n"
   ]
  },
  {
   "cell_type": "markdown",
   "metadata": {},
   "source": [
    "`$$P(A|B)=\\frac{P(B|A)P(A)}{P(B)}$$`\n",
    "\n",
    "$$P(A|B)=\\frac{P(B|A)P(A)}{P(B)}$$\n"
   ]
  },
  {
   "cell_type": "markdown",
   "metadata": {},
   "source": [
    "## Roots\n"
   ]
  },
  {
   "cell_type": "markdown",
   "metadata": {},
   "source": [
    "`$$\\sqrt{k}$$`\n",
    "\n",
    "$$\\sqrt{k}$$\n"
   ]
  },
  {
   "cell_type": "markdown",
   "metadata": {},
   "source": [
    "`$$\\sqrt[n]{k}$$`\n",
    "\n",
    "$$\\sqrt[n]{k}$$\n"
   ]
  },
  {
   "cell_type": "markdown",
   "metadata": {
    "editable": true,
    "slideshow": {
     "slide_type": ""
    },
    "tags": []
   },
   "source": [
    "## Sums and Products\n"
   ]
  },
  {
   "cell_type": "markdown",
   "metadata": {},
   "source": [
    "`$\\sum$`\n",
    "\n",
    "$\\sum$\n"
   ]
  },
  {
   "cell_type": "markdown",
   "metadata": {},
   "source": [
    "`$\\prod$`\n",
    "\n",
    "$\\prod$\n"
   ]
  },
  {
   "cell_type": "markdown",
   "metadata": {},
   "source": [
    "`$$\\sum_{i=0}^n \\alpha_i$$`  \n",
    "OR  \n",
    "`$$\\sum\\limits_{i=0}^n\\alpha_i$$`\n",
    "\n",
    "$$\\sum\\limits_{i=0}^n\\alpha_i$$\n"
   ]
  },
  {
   "cell_type": "markdown",
   "metadata": {},
   "source": [
    "`$$\\sum\\limits_{\\substack{0<i, j<n\\\\i \\neq j}}\\alpha_{ij}$$`  \n",
    "OR  \n",
    "`$$\\sum_{\\substack{0<i, j<n\\\\i \\neq j}} \\alpha_{ij}$$`\n",
    "\n",
    "$$\\sum\\limits_{\\substack{0<i, j<n\\\\i \\neq j}}\\alpha_{ij}$$\n"
   ]
  },
  {
   "cell_type": "markdown",
   "metadata": {},
   "source": [
    "`$$\\sum^k_{i=1}\\sum^l_{j=1}\\,q_i q_j$$`\n",
    "\n",
    "$$\\sum^k_{i=1}\\sum^l_{j=1}\\,q_i q_j$$\n"
   ]
  },
  {
   "cell_type": "markdown",
   "metadata": {},
   "source": [
    "## Limits\n"
   ]
  },
  {
   "cell_type": "markdown",
   "metadata": {},
   "source": [
    "`$\\lim$`\n",
    "\n",
    "$\\lim$\n"
   ]
  },
  {
   "cell_type": "markdown",
   "metadata": {},
   "source": [
    "`$\\to$`\n",
    "\n",
    "$\\to$\n"
   ]
  },
  {
   "cell_type": "markdown",
   "metadata": {},
   "source": [
    "`$+\\infty, -\\infty$`\n",
    "\n",
    "$+\\infty, -\\infty$\n"
   ]
  },
  {
   "cell_type": "markdown",
   "metadata": {},
   "source": [
    "`$\\lim_{x \\to +\\infty}f(x)$`\n",
    "\n",
    "$\\lim_{x \\to +\\infty}f(x)$\n"
   ]
  },
  {
   "cell_type": "markdown",
   "metadata": {},
   "source": [
    "`$$\\lim_{x \\to +\\infty}f(x)$$`\n",
    "\n",
    "$$\\lim_{x \\to +\\infty}f(x)$$\n"
   ]
  },
  {
   "cell_type": "markdown",
   "metadata": {},
   "source": [
    "`$$\\inf_{x > s}f(x)$$`\n",
    "\n",
    "$$\\inf_{x > s}f(x)$$\n"
   ]
  },
  {
   "cell_type": "markdown",
   "metadata": {},
   "source": [
    "`$$\\sup_{x \\in \\mathbb{R}}f(x)$$`\n",
    "\n",
    "$$\\sup_{x \\in \\mathbb{R}}f(x)$$\n"
   ]
  },
  {
   "cell_type": "markdown",
   "metadata": {},
   "source": [
    "`$$\\max_{x \\in [a,b]}f(x)$$`\n",
    "\n",
    "$$\\max_{x \\in [a,b]}f(x)$$\n"
   ]
  },
  {
   "cell_type": "markdown",
   "metadata": {},
   "source": [
    "`$$\\min_{x \\in [\\alpha,\\beta]}f(x)$$`\n",
    "\n",
    "$$\\min_{x \\in [\\alpha,\\beta]}f(x)$$\n"
   ]
  },
  {
   "cell_type": "markdown",
   "metadata": {},
   "source": [
    "## Derivative and differential calculus\n"
   ]
  },
  {
   "cell_type": "markdown",
   "metadata": {},
   "source": [
    "`$f'(x)$`  \n",
    "OR  \n",
    "`$f^{\\prime}(x)$`\n",
    "\n",
    "$f'(x)$\n"
   ]
  },
  {
   "cell_type": "markdown",
   "metadata": {},
   "source": [
    "`$f''(x)$`  \n",
    "OR  \n",
    "`$f^{\\prime\\prime}(x)$`\n",
    "\n",
    "$f''(x)$\n"
   ]
  },
  {
   "cell_type": "markdown",
   "metadata": {},
   "source": [
    "`$f^{(k)}(x)$`\n",
    "\n",
    "$f^{(k)}(x)$\n"
   ]
  },
  {
   "cell_type": "markdown",
   "metadata": {},
   "source": [
    "`$\\dot{a}$`\n",
    "\n",
    "$\\dot{a}$\n"
   ]
  },
  {
   "cell_type": "markdown",
   "metadata": {},
   "source": [
    "`$\\ddot{a}$`\n",
    "\n",
    "$\\ddot{a}$\n"
   ]
  },
  {
   "cell_type": "markdown",
   "metadata": {},
   "source": [
    "`$$\\frac{df}{dt}$$`\n",
    "\n",
    "$$\\frac{df}{dt}$$\n"
   ]
  },
  {
   "cell_type": "markdown",
   "metadata": {},
   "source": [
    "`$$\\frac{d^2f}{dt^2}$$`\n",
    "\n",
    "$$\\frac{d^2f}{dt^2}$$\n"
   ]
  },
  {
   "cell_type": "markdown",
   "metadata": {},
   "source": [
    "`$$\\frac{d^kf}{dt^k}$$`\n",
    "\n",
    "$$\\frac{d^kf}{dt^k}$$\n"
   ]
  },
  {
   "cell_type": "markdown",
   "metadata": {},
   "source": [
    "`$$\\frac{\\partial f}{\\partial t}$$`\n",
    "\n",
    "$$\\frac{\\partial f}{\\partial t}$$\n"
   ]
  },
  {
   "cell_type": "markdown",
   "metadata": {},
   "source": [
    "`$$\\frac{\\partial^2 f}{\\partial t^2}$$`\n",
    "\n",
    "$$\\frac{\\partial^2 f}{\\partial t^2}$$\n"
   ]
  },
  {
   "cell_type": "markdown",
   "metadata": {},
   "source": [
    "`$$\\frac{\\partial^k f}{\\partial t^k}$$`\n",
    "\n",
    "$$\\frac{\\partial^k f}{\\partial t^k}$$\n"
   ]
  },
  {
   "cell_type": "markdown",
   "metadata": {},
   "source": [
    "`$$\\nabla f$$`\n",
    "\n",
    "$$\\nabla f$$\n"
   ]
  },
  {
   "cell_type": "markdown",
   "metadata": {},
   "source": [
    "`$$\\nabla \\cdot \\vec{E} = \\rho$$`\n",
    "\n",
    "$$\\nabla \\cdot \\vec{E} = \\rho$$\n"
   ]
  },
  {
   "cell_type": "markdown",
   "metadata": {},
   "source": [
    "`$$\\nabla \\times \\vec{u}$$`\n",
    "\n",
    "$$\\nabla \\times \\vec{u}$$\n"
   ]
  },
  {
   "cell_type": "markdown",
   "metadata": {},
   "source": [
    "## Integrals\n"
   ]
  },
  {
   "cell_type": "markdown",
   "metadata": {},
   "source": [
    "`$\\int$\n",
    "`\n",
    "\n",
    "$\\int$\n"
   ]
  },
  {
   "cell_type": "markdown",
   "metadata": {},
   "source": [
    "`$\\iint$`\n",
    "\n",
    "$\\iint$\n"
   ]
  },
  {
   "cell_type": "markdown",
   "metadata": {},
   "source": [
    "`$\\iiint$`\n",
    "\n",
    "$\\iiint$\n"
   ]
  },
  {
   "cell_type": "markdown",
   "metadata": {},
   "source": [
    "`$\\oint$`\n",
    "\n",
    "$\\oint$\n"
   ]
  },
  {
   "cell_type": "markdown",
   "metadata": {},
   "source": [
    "`$\\int_{a}^b f(x)dx$`\n",
    "\n",
    "$\\int_{a}^b f(x)dx$\n"
   ]
  },
  {
   "cell_type": "markdown",
   "metadata": {},
   "source": [
    "`$$\\int_{a}^b f(x)dx$$`\n",
    "\n",
    "$$\\int_{a}^b f(x)dx$$\n"
   ]
  },
  {
   "cell_type": "markdown",
   "metadata": {},
   "source": [
    "`$$\\int_{a}^b \\int_{c}^d f(x,y)dxdy$$`\n",
    "\n",
    "$$\\int_{a}^b \\int_{c}^d f(x,y)dxdy$$\n"
   ]
  },
  {
   "cell_type": "markdown",
   "metadata": {},
   "source": [
    "`$$\\int_0^\\infty \\mathrm{e}^{-x}dx$$`\n",
    "\n",
    "$$\\int_0^\\infty \\mathrm{e}^{-x}dx$$\n"
   ]
  },
  {
   "cell_type": "markdown",
   "metadata": {},
   "source": [
    "## Brackets and linear algebra\n"
   ]
  },
  {
   "cell_type": "markdown",
   "metadata": {},
   "source": [
    "`$\\vec{a}$`\n",
    "\n",
    "$\\vec{a}$\n"
   ]
  },
  {
   "cell_type": "markdown",
   "metadata": {},
   "source": [
    "`$\\dots$`\n",
    "\n",
    "$\\dots$\n"
   ]
  },
  {
   "cell_type": "markdown",
   "metadata": {},
   "source": [
    "`$\\vdots$`\n",
    "\n",
    "$\\vdots$\n"
   ]
  },
  {
   "cell_type": "markdown",
   "metadata": {},
   "source": [
    "`$\\ddots$`\n",
    "\n",
    "$\\ddots$\n"
   ]
  },
  {
   "cell_type": "markdown",
   "metadata": {},
   "source": [
    "`$\\langle \\rangle$`\n",
    "\n",
    "$\\langle \\rangle$\n"
   ]
  },
  {
   "cell_type": "markdown",
   "metadata": {},
   "source": [
    "`$\\langle x,y \\rangle = xy$`\n",
    "\n",
    "$\\langle x,y \\rangle = xy$\n"
   ]
  },
  {
   "cell_type": "markdown",
   "metadata": {},
   "source": [
    "`$a\\cdot b =\\|a\\|\\|b\\|\\cos\\theta$`\n",
    "\n",
    "$a\\cdot b =\\|a\\|\\|b\\|\\cos\\theta$\n"
   ]
  },
  {
   "cell_type": "markdown",
   "metadata": {},
   "source": [
    "`$$`  \n",
    "`\\begin{matrix}`  \n",
    "`a & b & c`  \n",
    "`\\end{matrix}`  \n",
    "`$$`\n",
    "\n",
    "$$\\begin{matrix}a & b & c\\end{matrix}$$\n"
   ]
  },
  {
   "cell_type": "markdown",
   "metadata": {},
   "source": [
    "`$$`  \n",
    "`\\begin{pmatrix}`  \n",
    "`a & b & c`  \n",
    "`\\end{pmatrix}`  \n",
    "`$$`\n",
    "\n",
    "$$\\begin{pmatrix}a & b & c\\end{pmatrix}$$\n"
   ]
  },
  {
   "cell_type": "markdown",
   "metadata": {},
   "source": [
    "`$$`  \n",
    "`\\begin{bmatrix}`  \n",
    "`a & b & c`  \n",
    "`\\end{bmatrix}`  \n",
    "`$$`\n",
    "\n",
    "$$\\begin{bmatrix}a & b & c\\end{bmatrix}$$\n"
   ]
  },
  {
   "cell_type": "markdown",
   "metadata": {},
   "source": [
    "`$$`  \n",
    "`\\begin{vmatrix}`  \n",
    "`a & b & c`  \n",
    "`\\end{vmatrix}`  \n",
    "`$$`\n",
    "\n",
    "$$\\begin{vmatrix}a & b & c\\end{vmatrix}$$\n"
   ]
  },
  {
   "cell_type": "markdown",
   "metadata": {},
   "source": [
    "`$$`  \n",
    "`\\begin{Vmatrix}`  \n",
    "`a & b & c`  \n",
    "`\\end{Vmatrix}`  \n",
    "`$$`\n",
    "\n",
    "$$\\begin{Vmatrix}a & b & c\\end{Vmatrix}$$\n"
   ]
  },
  {
   "cell_type": "markdown",
   "metadata": {},
   "source": [
    "`$$`  \n",
    "`\\begin{matrix}`  \n",
    "`a \\\\`  \n",
    "`b \\\\`  \n",
    "`c`  \n",
    "`\\end{matrix}`  \n",
    "`$$`\n",
    "\n",
    "$$\\begin{matrix}a \\\\ b \\\\ c\\end{matrix}$$\n"
   ]
  },
  {
   "cell_type": "markdown",
   "metadata": {},
   "source": [
    "`$$`  \n",
    "`\\begin{pmatrix}`  \n",
    "`a \\\\ `  \n",
    "`b \\\\ `  \n",
    "`c`  \n",
    "`\\end{pmatrix}`  \n",
    "`$$`\n",
    "\n",
    "$$\\begin{pmatrix}a \\\\ b \\\\ c\\end{pmatrix}$$\n"
   ]
  },
  {
   "cell_type": "markdown",
   "metadata": {},
   "source": [
    "`$$`  \n",
    "`\\begin{bmatrix}`  \n",
    "`a \\\\ `  \n",
    "`b \\\\ `  \n",
    "`c`  \n",
    "`\\end{bmatrix}`  \n",
    "`$$`\n",
    "\n",
    "$$\\begin{bmatrix}a \\\\ b \\\\ c\\end{bmatrix}$$\n"
   ]
  },
  {
   "cell_type": "markdown",
   "metadata": {},
   "source": [
    "`$$`  \n",
    "`\\begin{vmatrix}`  \n",
    "`a \\\\ `  \n",
    "`b \\\\ `  \n",
    "`c`  \n",
    "`\\end{vmatrix}`  \n",
    "`$$`\n",
    "\n",
    "$$\\begin{vmatrix}a \\\\ b \\\\ c\\end{vmatrix}$$\n"
   ]
  },
  {
   "cell_type": "markdown",
   "metadata": {},
   "source": [
    "`$$`  \n",
    "`\\begin{Vmatrix}`  \n",
    "`a \\\\ `  \n",
    "`b \\\\ `  \n",
    "`c`  \n",
    "`\\end{Vmatrix}`  \n",
    "`$$`\n",
    "\n",
    "$$\\begin{Vmatrix}a \\\\ b \\\\ c\\end{Vmatrix}$$\n"
   ]
  },
  {
   "cell_type": "markdown",
   "metadata": {},
   "source": [
    "`$$\\begin{matrix}`  \n",
    "`a_{1,1} & \\dots & a_{1,n} \\\\`  \n",
    "`\\vdots & \\ddots & \\vdots \\\\`  \n",
    "`a_{m,1} & \\dots & a_{m,n}`  \n",
    "`\\end{matrix}$$`\n",
    "\n",
    "$$\\begin{matrix}a_{1,1} & \\dots & a_{1,n} \\\\ \\vdots & \\ddots & \\vdots \\\\ a_{m,1} & \\dots & a_{m,n}\\end{matrix}$$\n"
   ]
  },
  {
   "cell_type": "markdown",
   "metadata": {},
   "source": [
    "`$$`  \n",
    "`\\begin{pmatrix}`  \n",
    "`a_{1,1} & \\dots & a_{1,n} \\\\`  \n",
    "`\\vdots & \\ddots & \\vdots \\\\`  \n",
    "`a_{m,1} & \\dots & a_{m,n}`  \n",
    "`\\end{pmatrix}`  \n",
    "`$$`\n",
    "\n",
    "$$\\begin{pmatrix}a_{1,1} & \\dots & a_{1,n} \\\\ \\vdots & \\ddots & \\vdots \\\\ a_{m,1} & \\dots & a_{m,n}\\end{pmatrix}$$\n"
   ]
  },
  {
   "cell_type": "markdown",
   "metadata": {},
   "source": [
    "`$$`  \n",
    "`\\begin{bmatrix}`  \n",
    "`a_{1,1} & \\dots & a_{1,n} \\\\ `  \n",
    "`\\vdots & \\ddots & \\vdots \\\\ `  \n",
    "`a_{m,1} & \\dots & a_{m,n}`  \n",
    "`\\end{bmatrix}`  \n",
    "`$$`\n",
    "\n",
    "$$\\begin{bmatrix}a_{1,1} & \\dots & a_{1,n} \\\\ \\vdots & \\ddots & \\vdots \\\\ a_{m,1} & \\dots & a_{m,n}\\end{bmatrix}$$\n"
   ]
  },
  {
   "cell_type": "markdown",
   "metadata": {},
   "source": [
    "`$$\\begin{vmatrix}`  \n",
    "`a_{1,1} & \\dots & a_{1,n} \\\\`  \n",
    "`\\vdots & \\ddots & \\vdots \\\\ `  \n",
    "`a_{m,1} & \\dots & a_{m,n}`  \n",
    "`\\end{vmatrix}`  \n",
    "`$$`\n",
    "\n",
    "$$\\begin{vmatrix}a_{1,1} & \\dots & a_{1,n} \\\\ \\vdots & \\ddots & \\vdots \\\\ a_{m,1} & \\dots & a_{m,n}\\end{vmatrix}$$\n"
   ]
  },
  {
   "cell_type": "markdown",
   "metadata": {},
   "source": [
    "`$$`  \n",
    "`\\begin{Vmatrix}`  \n",
    "`a_{1,1} & \\dots & a_{1,n} \\\\ `  \n",
    "`\\vdots & \\ddots & \\vdots \\\\ `  \n",
    "`a_{m,1} & \\dots & a_{m,n}`  \n",
    "`\\end{Vmatrix}`  \n",
    "`$$`\n",
    "\n",
    "$$\\begin{Vmatrix}a_{1,1} & \\dots & a_{1,n} \\\\ \\vdots & \\ddots & \\vdots \\\\ a_{m,1} & \\dots & a_{m,n}\\end{Vmatrix}$$\n"
   ]
  },
  {
   "cell_type": "markdown",
   "metadata": {},
   "source": [
    "`$$`  \n",
    "`f(x) = \\begin{cases}`  \n",
    "`a & \\text{if x < 0} \\\\`  \n",
    "`b & \\text{if x = 0}  \\\\`  \n",
    "`x & \\text{if x > 0}`  \n",
    "`\\end{cases}`  \n",
    "`$$`\n",
    "\n",
    "$$f(x) = \\begin{cases} a & \\text{if x < 0} \\\\ b & \\text{if x = 0}  \\\\ x & \\text{if x > 0} \\end{cases}$$\n"
   ]
  },
  {
   "cell_type": "markdown",
   "metadata": {},
   "source": [
    "`$$`  \n",
    "`\\begin{align}`  \n",
    "`A \\cdot x &= b \\\\`  \n",
    "`A &= A^{-1} \\cdot b`  \n",
    "`\\end{align}`  \n",
    "`$$`\n",
    "\n",
    "$$\\begin{align} A \\cdot x &= b \\\\ x &= A^{-1} \\cdot b \\end{align}$$\n"
   ]
  },
  {
   "cell_type": "markdown",
   "metadata": {},
   "source": [
    "## Other\n"
   ]
  },
  {
   "cell_type": "markdown",
   "metadata": {},
   "source": [
    "`$\\color{red}x$`\n",
    "\n",
    "$\\color{red}x$\n"
   ]
  },
  {
   "cell_type": "markdown",
   "metadata": {},
   "source": [
    "`$\\color{orange}x$`\n",
    "\n",
    "$\\color{orange}x$\n"
   ]
  },
  {
   "cell_type": "markdown",
   "metadata": {},
   "source": [
    "`$\\color{green}x$`\n",
    "\n",
    "$\\color{green}x$\n"
   ]
  },
  {
   "cell_type": "markdown",
   "metadata": {},
   "source": [
    "`$\\color{blue}x$`\n",
    "\n",
    "$\\color{blue}x$\n"
   ]
  },
  {
   "cell_type": "markdown",
   "metadata": {},
   "source": [
    "`$\\color{purple}x$`\n",
    "\n",
    "$\\color{purple}x$\n"
   ]
  },
  {
   "cell_type": "markdown",
   "metadata": {},
   "source": [
    "`$\\color{pink}x$`\n",
    "\n",
    "$\\color{pink}x$\n"
   ]
  },
  {
   "cell_type": "markdown",
   "metadata": {},
   "source": [
    "`$\\color{brown}x$`\n",
    "\n",
    "$\\color{brown}x$\n"
   ]
  }
 ],
 "metadata": {
  "kernelspec": {
   "display_name": "Python 3 (ipykernel)",
   "language": "python",
   "name": "python3"
  },
  "language_info": {
   "codemirror_mode": {
    "name": "ipython",
    "version": 3
   },
   "file_extension": ".py",
   "mimetype": "text/x-python",
   "name": "python",
   "nbconvert_exporter": "python",
   "pygments_lexer": "ipython3",
   "version": "3.12.7"
  },
  "toc": {
   "base_numbering": 1,
   "nav_menu": {},
   "number_sections": true,
   "sideBar": true,
   "skip_h1_title": false,
   "title_cell": "Table of Contents",
   "title_sidebar": "Contents",
   "toc_cell": false,
   "toc_position": {},
   "toc_section_display": true,
   "toc_window_display": false
  },
  "varInspector": {
   "cols": {
    "lenName": 16,
    "lenType": 16,
    "lenVar": 40
   },
   "kernels_config": {
    "python": {
     "delete_cmd_postfix": "",
     "delete_cmd_prefix": "del ",
     "library": "var_list.py",
     "varRefreshCmd": "print(var_dic_list())"
    },
    "r": {
     "delete_cmd_postfix": ") ",
     "delete_cmd_prefix": "rm(",
     "library": "var_list.r",
     "varRefreshCmd": "cat(var_dic_list()) "
    }
   },
   "types_to_exclude": [
    "module",
    "function",
    "builtin_function_or_method",
    "instance",
    "_Feature"
   ],
   "window_display": false
  },
  "widgets": {
   "application/vnd.jupyter.widget-state+json": {
    "state": {},
    "version_major": 2,
    "version_minor": 0
   }
  }
 },
 "nbformat": 4,
 "nbformat_minor": 4
}
