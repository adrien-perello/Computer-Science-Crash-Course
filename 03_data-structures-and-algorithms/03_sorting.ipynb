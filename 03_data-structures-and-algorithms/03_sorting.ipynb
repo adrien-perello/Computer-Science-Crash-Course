{
 "cells": [
  {
   "cell_type": "markdown",
   "metadata": {},
   "source": [
    "# Sorting\n"
   ]
  },
  {
   "cell_type": "code",
   "execution_count": null,
   "metadata": {
    "hide_input": false
   },
   "outputs": [],
   "source": [
    "from random import randint, shuffle\n",
    "from math import floor, ceil"
   ]
  },
  {
   "cell_type": "markdown",
   "metadata": {},
   "source": [
    "## Introduction\n",
    "\n",
    "Check also **[Visual Algo](https://visualgo.net/en/sorting)** which is a great resource to deepen your understanding of algorithms\n",
    "\n",
    "![\"complexity comparison of sorting algos\"](./img/Array_Sorting_Algorithms.png)\n"
   ]
  },
  {
   "cell_type": "markdown",
   "metadata": {},
   "source": [
    "## Bubble sort\n"
   ]
  },
  {
   "cell_type": "code",
   "execution_count": null,
   "metadata": {},
   "outputs": [],
   "source": [
    "def bubble_sort_naive(array):\n",
    "    \"\"\"\n",
    "    Time Complexity: O(n²)\n",
    "    Space Complexity: O(1)\n",
    "    \"\"\"\n",
    "    global iterations  # This is used to compare algorithms\n",
    "    iterations = 0\n",
    "\n",
    "    n = len(array)\n",
    "    for i in range(n):\n",
    "        for j in range(n - 1):\n",
    "            iterations += 1\n",
    "            if array[j] > array[j + 1]:\n",
    "                array[j], array[j + 1] = array[j + 1], array[j]"
   ]
  },
  {
   "cell_type": "code",
   "execution_count": null,
   "metadata": {},
   "outputs": [],
   "source": [
    "# optimized bubble sort does not increase or decrease asymtotic notations\n",
    "# however number of iterations can be reduced by breaking the loop\n",
    "# as soon as we have passed through without swapping any elements\n",
    "\n",
    "\n",
    "def bubble_sort_optimized(array):\n",
    "    \"\"\"\n",
    "    Time Complexity: O(n²)\n",
    "    Space Complexity: O(1)\n",
    "    \"\"\"\n",
    "    global iterations  # This is used to compare algorithms\n",
    "    iterations = 0\n",
    "\n",
    "    n = len(array)\n",
    "    for i in range(n - 1):\n",
    "        swapped = False\n",
    "        for j in range(n - 1):\n",
    "            iterations += 1\n",
    "            if array[j] > array[j + 1]:\n",
    "                array[j], array[j + 1] = array[j + 1], array[j]\n",
    "                swapped = True\n",
    "        if not swapped:\n",
    "            break"
   ]
  },
  {
   "cell_type": "code",
   "execution_count": null,
   "metadata": {},
   "outputs": [
    {
     "name": "stdout",
     "output_type": "stream",
     "text": [
      "1560\n",
      "39\n"
     ]
    }
   ],
   "source": [
    "# Best Case Performance\n",
    "\n",
    "array = list(range(0, 40))  # sorted list from 0 to 40\n",
    "\n",
    "bubble_sort_naive(array)\n",
    "print(iterations)\n",
    "\n",
    "bubble_sort_optimized(array)\n",
    "print(iterations)"
   ]
  },
  {
   "cell_type": "code",
   "execution_count": null,
   "metadata": {},
   "outputs": [
    {
     "name": "stdout",
     "output_type": "stream",
     "text": [
      "1560\n",
      "1209\n"
     ]
    }
   ],
   "source": [
    "# Average Case Performance\n",
    "\n",
    "array = list(range(0, 40))  # sorted list from 0 to 40\n",
    "shuffle(array)  # elements are randomly shuffled\n",
    "bubble_sort_naive(array)\n",
    "print(iterations)\n",
    "\n",
    "shuffle(array)  # reshuffle elements\n",
    "bubble_sort_optimized(array)\n",
    "print(iterations)"
   ]
  },
  {
   "cell_type": "code",
   "execution_count": null,
   "metadata": {},
   "outputs": [
    {
     "name": "stdout",
     "output_type": "stream",
     "text": [
      "1560\n",
      "1521\n"
     ]
    }
   ],
   "source": [
    "# Worst Case Performance\n",
    "\n",
    "array = list(range(0, 40))  # sorted list from 0 to 40\n",
    "array.reverse()  # reverse array\n",
    "bubble_sort_naive(array)\n",
    "print(iterations)\n",
    "\n",
    "array.reverse()  # reverse array again\n",
    "bubble_sort_optimized(array)\n",
    "print(iterations)"
   ]
  },
  {
   "cell_type": "markdown",
   "metadata": {},
   "source": [
    "**When to use Bubble sort?**  \n",
    "When you're doing something quick and dirty and for some reason you can't just use the standard library's sorting algorithm. The only advantage this has over insertion sort is being slightly easier to implement.\n"
   ]
  },
  {
   "cell_type": "markdown",
   "metadata": {},
   "source": [
    "## Selection sort\n"
   ]
  },
  {
   "cell_type": "code",
   "execution_count": null,
   "metadata": {},
   "outputs": [],
   "source": [
    "def selection_sort(array):\n",
    "    \"\"\"\n",
    "    Time Complexity: O(n²)\n",
    "    Space Complexity: O(1)\n",
    "    \"\"\"\n",
    "    global iterations  # This is used to compare algorithms\n",
    "    iterations = 0\n",
    "\n",
    "    n = len(array)\n",
    "    for i in range(n):\n",
    "        min_index = i\n",
    "        for j in range(i + 1, n):\n",
    "            iterations += 1\n",
    "            if array[j] < array[min_index]:\n",
    "                min_index = j\n",
    "\n",
    "        if min_index != i:  # Swap the found minimum element with the 1st element\n",
    "            array[i], array[min_index] = array[min_index], array[i]"
   ]
  },
  {
   "cell_type": "code",
   "execution_count": null,
   "metadata": {},
   "outputs": [
    {
     "name": "stdout",
     "output_type": "stream",
     "text": [
      "780\n"
     ]
    }
   ],
   "source": [
    "# Best Case Performance\n",
    "\n",
    "array = list(range(0, 40))  # sorted list from 0 to 40\n",
    "\n",
    "selection_sort(array)\n",
    "print(iterations)"
   ]
  },
  {
   "cell_type": "code",
   "execution_count": null,
   "metadata": {},
   "outputs": [
    {
     "name": "stdout",
     "output_type": "stream",
     "text": [
      "780\n"
     ]
    }
   ],
   "source": [
    "# Average Case Performance\n",
    "\n",
    "array = list(range(0, 40))  # sorted list from 0 to 40\n",
    "shuffle(array)  # elements are randomly shuffled\n",
    "selection_sort(array)\n",
    "print(iterations)"
   ]
  },
  {
   "cell_type": "code",
   "execution_count": null,
   "metadata": {},
   "outputs": [
    {
     "name": "stdout",
     "output_type": "stream",
     "text": [
      "780\n"
     ]
    }
   ],
   "source": [
    "# Worst Case Performance\n",
    "\n",
    "array = list(range(0, 40))  # sorted list from 0 to 40\n",
    "array.reverse()  # reverse array\n",
    "selection_sort(array)\n",
    "print(iterations)"
   ]
  },
  {
   "cell_type": "markdown",
   "metadata": {},
   "source": [
    "**When to use Selection sort?**  \n",
    "No real life applications as such because of O(n²) behaviour. However, bubble sort, selection sort and insertion sort are the basic sorting algorithm taught for every beginner\n"
   ]
  },
  {
   "cell_type": "markdown",
   "metadata": {},
   "source": [
    "## Insertion sort\n"
   ]
  },
  {
   "cell_type": "code",
   "execution_count": null,
   "metadata": {},
   "outputs": [],
   "source": [
    "def insertion_sort(array):\n",
    "    \"\"\"\n",
    "    Time Complexity: O(n²)\n",
    "    Space Complexity: O(1)\n",
    "    \"\"\"\n",
    "    global iterations  # This is used to compare algorithms\n",
    "    iterations = 0\n",
    "\n",
    "    n = len(array)\n",
    "    for i in range(1, n):\n",
    "        current_value = array[i]\n",
    "        position = i\n",
    "        while position > 0 and array[position - 1] > current_value:\n",
    "            # Compare current value with each element on its left\n",
    "            # until finding a smaller element\n",
    "            iterations += 1\n",
    "            array[position] = array[position - 1]\n",
    "            position = position - 1\n",
    "\n",
    "        array[position] = current_value"
   ]
  },
  {
   "cell_type": "code",
   "execution_count": null,
   "metadata": {},
   "outputs": [],
   "source": [
    "# alternative version\n",
    "\n",
    "\n",
    "def insertion_sort_alternative(array):\n",
    "    \"\"\"\n",
    "    Time Complexity: O(n²)\n",
    "    Space Complexity: O(1)\n",
    "    \"\"\"\n",
    "    n = len(array)\n",
    "    for i in range(1, n):\n",
    "        current_value = array[i]\n",
    "        for j in range(i - 1, -1, -1):\n",
    "            if array[j] > current_value:\n",
    "                array[j], array[j + 1] = array[j + 1], array[j]  # swap\n",
    "            else:\n",
    "                array[j + 1] = current_value\n",
    "                break"
   ]
  },
  {
   "cell_type": "code",
   "execution_count": null,
   "metadata": {},
   "outputs": [
    {
     "name": "stdout",
     "output_type": "stream",
     "text": [
      "0\n"
     ]
    }
   ],
   "source": [
    "# Best Case Performance\n",
    "\n",
    "array = list(range(0, 40))  # sorted list from 0 to 40\n",
    "insertion_sort(array)\n",
    "print(iterations)"
   ]
  },
  {
   "cell_type": "code",
   "execution_count": null,
   "metadata": {},
   "outputs": [
    {
     "name": "stdout",
     "output_type": "stream",
     "text": [
      "425\n"
     ]
    }
   ],
   "source": [
    "# Average Case Performance\n",
    "\n",
    "array = list(range(0, 40))  # sorted list from 0 to 40\n",
    "shuffle(array)  # elements are randomly shuffled\n",
    "insertion_sort(array)\n",
    "print(iterations)"
   ]
  },
  {
   "cell_type": "code",
   "execution_count": null,
   "metadata": {},
   "outputs": [
    {
     "name": "stdout",
     "output_type": "stream",
     "text": [
      "780\n"
     ]
    }
   ],
   "source": [
    "# Worst Case Performance\n",
    "\n",
    "array = list(range(0, 40))  # sorted list from 0 to 40\n",
    "array.reverse()  # reverse array\n",
    "insertion_sort(array)\n",
    "print(iterations)"
   ]
  },
  {
   "cell_type": "markdown",
   "metadata": {},
   "source": [
    "**When to use Insertion sort?**  \n",
    "More efficient that other sorts when N is comparatively smaller, say < 30.\n"
   ]
  },
  {
   "cell_type": "markdown",
   "metadata": {},
   "source": [
    "## Merge sort\n"
   ]
  },
  {
   "cell_type": "markdown",
   "metadata": {},
   "source": [
    "![\"Merge sort chart](./img/merge_sort.png)\n"
   ]
  },
  {
   "cell_type": "code",
   "execution_count": null,
   "metadata": {},
   "outputs": [],
   "source": [
    "def merge(left, right):\n",
    "    if not left:\n",
    "        return right\n",
    "    if not right:\n",
    "        return left\n",
    "\n",
    "    global iterations  # This is used to compare algorithms\n",
    "    result = []\n",
    "    index_left = index_right = 0\n",
    "\n",
    "    while index_left < len(left) or index_right < len(right):  # keep on until all elements are processed\n",
    "        iterations += 1\n",
    "        if left[index_left] <= right[index_right]:  # but add them to result in a sorted way\n",
    "            result.append(left[index_left])\n",
    "            index_left += 1\n",
    "        else:\n",
    "            result.append(right[index_right])\n",
    "            index_right += 1\n",
    "        if index_right == len(right):  # If you reach the end of either array, then you can\n",
    "            result += left[index_left:]  # add the remaining elements from the other array to\n",
    "            break  # the result and break the loop\n",
    "        if index_left == len(left):\n",
    "            result += right[index_right:]\n",
    "            break\n",
    "    return result"
   ]
  },
  {
   "cell_type": "code",
   "execution_count": null,
   "metadata": {},
   "outputs": [],
   "source": [
    "def merge_sort(array):\n",
    "    \"\"\"\n",
    "    Time Complexity: O(nlog n)\n",
    "    Space Complexity: O(n)\n",
    "    \"\"\"\n",
    "    if len(array) < 2:\n",
    "        return array\n",
    "\n",
    "    middle = len(array) // 2\n",
    "    left = merge_sort(array[:middle])\n",
    "    right = merge_sort(array[middle:])\n",
    "\n",
    "    return merge(left, right)"
   ]
  },
  {
   "cell_type": "code",
   "execution_count": null,
   "metadata": {},
   "outputs": [
    {
     "name": "stdout",
     "output_type": "stream",
     "text": [
      "100\n"
     ]
    }
   ],
   "source": [
    "# Best Case Performance\n",
    "\n",
    "array = list(range(0, 40))  # sorted list from 0 to 40\n",
    "\n",
    "iterations = 0\n",
    "merge_sort(array)\n",
    "print(iterations)"
   ]
  },
  {
   "cell_type": "code",
   "execution_count": null,
   "metadata": {},
   "outputs": [
    {
     "name": "stdout",
     "output_type": "stream",
     "text": [
      "168\n"
     ]
    }
   ],
   "source": [
    "# Average Case Performance\n",
    "\n",
    "array = list(range(0, 40))  # sorted list from 0 to 40\n",
    "shuffle(array)  # elements are randomly shuffled\n",
    "iterations = 0\n",
    "merge_sort(array)\n",
    "print(iterations)"
   ]
  },
  {
   "cell_type": "code",
   "execution_count": null,
   "metadata": {},
   "outputs": [],
   "source": [
    "# Generate Worst Case array\n",
    "# for more info:\n",
    "# https://stackoverflow.com/questions/24594112/when-will-the-worst-case-of-merge-sort-occur\n",
    "\n",
    "\n",
    "def worst_case_array_of_size(n):\n",
    "    if n == 1:\n",
    "        return [1]\n",
    "    else:\n",
    "        top = worst_case_array_of_size(int(floor(float(n) / 2)))\n",
    "        bottom = worst_case_array_of_size(int(ceil(float(n) / 2)))\n",
    "        return list(map(lambda x: x * 2, top)) + list(map(lambda x: x * 2 - 1, bottom))"
   ]
  },
  {
   "cell_type": "code",
   "execution_count": 28,
   "metadata": {},
   "outputs": [
    {
     "name": "stdout",
     "output_type": "stream",
     "text": [
      "177\n"
     ]
    }
   ],
   "source": [
    "# Worst Case Performance\n",
    "\n",
    "array = worst_case_array_of_size(40)\n",
    "iterations = 0\n",
    "merge_sort(array)\n",
    "print(iterations)"
   ]
  },
  {
   "cell_type": "markdown",
   "metadata": {},
   "source": [
    "## Quick sort\n"
   ]
  },
  {
   "cell_type": "markdown",
   "metadata": {},
   "source": [
    "![\"Merge sort chart\"](./img/quick_sort.png)\n"
   ]
  },
  {
   "cell_type": "code",
   "execution_count": null,
   "metadata": {},
   "outputs": [],
   "source": [
    "def quicksort(array):\n",
    "    \"\"\"Randomized Quicksort algorithm\n",
    "    Time Complexity: O(nlog n)\n",
    "    Space Complexity: O(log n)\n",
    "    \"\"\"\n",
    "    if len(array) < 2:  # If the input array contains fewer than two elements,\n",
    "        return array  # then return it as the result of the function\n",
    "\n",
    "    global iterations  # This is used to compare algorithms\n",
    "    low, same, high = [], [], []\n",
    "    pivot = array[randint(0, len(array) - 1)]  # Select random `pivot`\n",
    "\n",
    "    for item in array:\n",
    "        iterations += 1\n",
    "        # `pivot` go to the `high` list. Elements that are\n",
    "        # equal to `pivot` go to the `same` list.\n",
    "        if item < pivot:  # Elements smaller than the `pivot`\n",
    "            low.append(item)  # go to the `low` list.\n",
    "        elif item == pivot:  # Elements equals to the `pivot`\n",
    "            same.append(item)  # go to the `same` list.\n",
    "        elif item > pivot:  # Elements larger than the `pivot`\n",
    "            high.append(item)  # go to the `high` list.\n",
    "    return quicksort(low) + same + quicksort(high)"
   ]
  },
  {
   "cell_type": "code",
   "execution_count": null,
   "metadata": {},
   "outputs": [
    {
     "name": "stdout",
     "output_type": "stream",
     "text": [
      "205\n"
     ]
    }
   ],
   "source": [
    "# Best Case Performance: when the array is randomly shuffled\n",
    "\n",
    "array = list(range(0, 40))  # sorted list from 0 to 40\n",
    "shuffle(array)  # elements are randomly shuffled\n",
    "iterations = 0\n",
    "quicksort(array)\n",
    "print(iterations)"
   ]
  },
  {
   "cell_type": "code",
   "execution_count": null,
   "metadata": {
    "scrolled": true
   },
   "outputs": [
    {
     "name": "stdout",
     "output_type": "stream",
     "text": [
      "204\n",
      "193\n"
     ]
    }
   ],
   "source": [
    "# Worst Case Performance: it doesn’t occur for a particular pattern\n",
    "# because it depends on the pivot and this is one is randomly chosen\n",
    "# Following are examples of ascendending and descending sorted arrays\n",
    "\n",
    "array = list(range(0, 40))  # sorted list from 0 to 40\n",
    "\n",
    "iterations = 0\n",
    "quicksort(array)\n",
    "print(iterations)\n",
    "\n",
    "array.reverse()\n",
    "iterations = 0\n",
    "quicksort(array)\n",
    "print(iterations)"
   ]
  },
  {
   "cell_type": "markdown",
   "metadata": {},
   "source": [
    "## Merge sort vs Quick sort\n"
   ]
  },
  {
   "cell_type": "markdown",
   "metadata": {},
   "source": [
    "![\"Merge sort chart\"](./img/merge_sort_vs_quick_sort.png)"
   ]
  },
  {
   "cell_type": "markdown",
   "metadata": {},
   "source": [
    "**Why Quicksort is preferred over Merge sort for sorting arrays?**\n",
    "\n",
    "- Quick Sort is an in-place sort (i.e. it doesn’t require any extra storage) whereas merge sort requires O(n) extra storage.\n",
    "- Allocating and de-allocating the extra space used for merge sort increases the running time of the algorithm\n",
    "- Both have O(nlog n) average complexity but the constants differ. For arrays, merge sort loses due to the use of extra O(n) storage space.\n",
    "- Randomized quicksort's worst case doesn’t occur for a particular pattern and works well in practice.\n",
    "- Quick Sort is a cache friendly sorting algorithm as it has good locality of reference when used for arrays.\n",
    "- Quick Sort is also tail recursive, therefore tail call optimizations is done.\n"
   ]
  },
  {
   "cell_type": "markdown",
   "metadata": {
    "editable": true,
    "slideshow": {
     "slide_type": ""
    },
    "tags": []
   },
   "source": [
    "**Why Merge sort is preferred over Quicksort for linked lists?**\n",
    "\n",
    "- The difference is mainly due to the memory allocation of linked lists\n",
    "- Merge operation to be implemented without extra space\n",
    "  - linked list nodes may not be adjacent in memory (unlike arrays).\n",
    "  - in linked list, we can insert items in the middle in O(1) extra space and O(1) time.\n",
    "- Random access is not easily implementable in linked list\n",
    "  - we have to travel through each nodes from the head to access one particular node\n",
    "  - merge sort accesses data sequentially and the need of random access is low.\n"
   ]
  },
  {
   "cell_type": "markdown",
   "metadata": {},
   "source": [
    "## Credits\n",
    "\n",
    "- [Omkar Pathak](https://github.com/OmkarPathak/Data-Structures-using-Python) for the notebook structure\n",
    "- [real python](https://realpython.com/sorting-algorithms-python/) and [Geeks for geeks](https://www.geeksforgeeks.org/quick-sort-vs-merge-sort/) for the Images\n"
   ]
  }
 ],
 "metadata": {
  "interpreter": {
   "hash": "d19446adba995f945831752fe33759098aa608065c618e88fb712f40a861ae94"
  },
  "kernelspec": {
   "display_name": "Python 3 (ipykernel)",
   "language": "python",
   "name": "python3"
  },
  "language_info": {
   "codemirror_mode": {
    "name": "ipython",
    "version": 3
   },
   "file_extension": ".py",
   "mimetype": "text/x-python",
   "name": "python",
   "nbconvert_exporter": "python",
   "pygments_lexer": "ipython3",
   "version": "3.12.7"
  },
  "toc": {
   "base_numbering": 1,
   "nav_menu": {},
   "number_sections": true,
   "sideBar": true,
   "skip_h1_title": true,
   "title_cell": "Table of Contents",
   "title_sidebar": "Contents",
   "toc_cell": true,
   "toc_position": {},
   "toc_section_display": true,
   "toc_window_display": false
  },
  "varInspector": {
   "cols": {
    "lenName": 16,
    "lenType": 16,
    "lenVar": 40
   },
   "kernels_config": {
    "python": {
     "delete_cmd_postfix": "",
     "delete_cmd_prefix": "del ",
     "library": "var_list.py",
     "varRefreshCmd": "print(var_dic_list())"
    },
    "r": {
     "delete_cmd_postfix": ") ",
     "delete_cmd_prefix": "rm(",
     "library": "var_list.r",
     "varRefreshCmd": "cat(var_dic_list()) "
    }
   },
   "types_to_exclude": [
    "module",
    "function",
    "builtin_function_or_method",
    "instance",
    "_Feature"
   ],
   "window_display": false
  },
  "widgets": {
   "application/vnd.jupyter.widget-state+json": {
    "state": {},
    "version_major": 2,
    "version_minor": 0
   }
  }
 },
 "nbformat": 4,
 "nbformat_minor": 4
}
