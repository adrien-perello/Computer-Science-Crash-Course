{
 "cells": [
  {
   "cell_type": "markdown",
   "metadata": {},
   "source": [
    "# Divide-and-Conquer and Recursion"
   ]
  },
  {
   "cell_type": "markdown",
   "metadata": {},
   "source": [
    "## Master theorem"
   ]
  },
  {
   "cell_type": "markdown",
   "metadata": {},
   "source": [
    "$$T(n) ≤ aT(\\frac{n}{b}) + O(n^d)$$\n",
    "\n",
    "$$\\text{with  }\n",
    "\\begin{cases}\n",
    "a ≥ 1 & \\text{number of recursive calls} \\\\\n",
    "b > 1 & \\text{input size shrinkage factor}  \\\\\n",
    "d ≥ 0 & \\text{summing time of \"combine step\"}\n",
    "\\end{cases}$$\n",
    "\n",
    "then\n",
    "\n",
    "$a < b^d \\Rightarrow  T(n) = O(n^d)$\n",
    "\n",
    "$a = b^d \\Rightarrow  T(n) = O(n^d log(n))$ &nbsp; &nbsp; &nbsp; &nbsp; &nbsp; &nbsp; constant doesn't matter here ($a = b^d  ⇒ log_{a}(n) = c.log_{b}(n)$)\n",
    "\n",
    "$a > b^d \\Rightarrow  T(n) = O(n^d log_{b}(a^d))$ &nbsp; &nbsp; &nbsp; &nbsp; constant matters in the exponent"
   ]
  },
  {
   "cell_type": "markdown",
   "metadata": {},
   "source": [
    "## Recursion pattern\n",
    "\n",
    "- **Step 1:** Identify a recurrence relation between subproblems\n",
    "    - Recurrence Relation\n",
    "    - Base cases\n",
    "- **Step 2:** Convert the recurrence relation to recursion\n",
    "- **Step 3:** Optimization 1 - Top Down [Dynamic Programming](./05_Dynamic-Programming.ipynb) (Add memoization)\n",
    "- **Step 4:** Optimization 2 - Bottom Up  [Dynamic Programming](./05_Dynamic-Programming.ipynb) (convert into iteration)\n",
    "- **Step 5:** Optimization 3 - Fine Tuning - Reduce space"
   ]
  },
  {
   "cell_type": "markdown",
   "metadata": {},
   "source": [
    "## Advanced concept (optional)"
   ]
  },
  {
   "cell_type": "markdown",
   "metadata": {},
   "source": [
    "### Tail Recursion (Tail Call)\n",
    "\n",
    "When recursing, the stack of calls gets deeper and deeper, reaches the solution, then returns through all of the stack frames.\n",
    "\n",
    "`factorial(6)`<br>  \n",
    "`= 6 * factorial(5)`<br>  \n",
    "`= 6 * 5 * factorial(4)`<br>  \n",
    "`= 6 * 5 * 4 * factorial(3)`<br>  \n",
    "`= 6 * 5 * 4 * 3 * factorial(2)`<br>  \n",
    "`= 6 * 5 * 4 * 3 * 2 * factorial(1)`<br>  \n",
    "`= 6 * 5 * 4 * 3 * 2 * 1 * factorial(0)`<br>  \n",
    "`= 6 * 5 * 4 * 3 * 2 * 1 * 1`<br>  \n",
    "`= 6 * 5 * 4 * 3 * 2 * 1`<br>  \n",
    "`= 6 * 5 * 4 * 3 * 2`<br>  \n",
    "`= 6 * 5 * 4 * 6`<br>  \n",
    "`= 6 * 5 * 24`<br>  \n",
    "`= 6 * 120`<br>  \n",
    "`= 720`<br>  \n",
    "\n",
    "This means that we need a call stack whose size is linear in the depth of the recursive calls.\n",
    "\n",
    "**Tail recursion** is a special case of recursion where the calling function does no more computation after making a recursive call. Since the current recursive instance is done executing at that point, we don't need a call stack at all for all of the recursive calls, and can implement the final call as a simple jump, which saves us space.\n",
    "\n",
    "However, not all programming languages support tail recursion optimization.\n",
    "\n",
    "Let's explore a few examples:\n",
    "- Factorial: $f(n) = n \\times f(n-1)$  &nbsp; &nbsp; &nbsp; &nbsp; &nbsp; &nbsp; &nbsp; &nbsp; &nbsp;  &nbsp; &nbsp; with $f(0) = 1$\n",
    "- Fibonnacci: $f(n) = f(n-1) + f(n-2)$ &nbsp; &nbsp; with $f(0)=0$ and $f(1)=1$"
   ]
  },
  {
   "cell_type": "code",
   "execution_count": 5,
   "metadata": {},
   "outputs": [],
   "source": [
    "# Factorial (1 recursive call)\n",
    "\n",
    "def factorial(n):  # f(n) = n * f(n-1)  and f(0) = 1\n",
    "    def go(n, acc1):\n",
    "        if n == 0:\n",
    "            return acc1\n",
    "        return go(n-1, n*acc1)\n",
    "\n",
    "    return go(n, 1)"
   ]
  },
  {
   "cell_type": "code",
   "execution_count": 6,
   "metadata": {},
   "outputs": [
    {
     "name": "stdout",
     "output_type": "stream",
     "text": [
      "[1, 1, 2, 6, 24, 120, 720, 5040, 40320, 362880, 3628800]\n"
     ]
    }
   ],
   "source": [
    "# Check\n",
    "result = []\n",
    "for i in range(11):\n",
    "    result += factorial(i),\n",
    "    \n",
    "print(result)"
   ]
  },
  {
   "cell_type": "code",
   "execution_count": null,
   "metadata": {},
   "outputs": [],
   "source": [
    "# classic example: Fibonnacci (2 recursives calls)\n",
    "\n",
    "def fibonnacci(n):  # f(n) = f(n-1) + f(n-2)  with f(0) = 0 and f(1) = 1  \n",
    "    def go(n, acc1, acc2):\n",
    "        if n == 0:\n",
    "            return acc1\n",
    "        if n == 1:\n",
    "            return acc2\n",
    "        return go(n-1, acc2, acc1+acc2)\n",
    "\n",
    "    return go(n, 0, 1)"
   ]
  },
  {
   "cell_type": "code",
   "execution_count": null,
   "metadata": {},
   "outputs": [],
   "source": [
    "#check\n",
    "result = []\n",
    "for i in range(11):\n",
    "    result += fibonnacci(i),\n",
    "print(result)"
   ]
  },
  {
   "cell_type": "markdown",
   "metadata": {},
   "source": [
    "**Generalization**\n",
    "\n",
    "$\\text{1 recursive call}\n",
    "\\begin{cases}\n",
    "f(n) = g(f(n-1)) \\\\\n",
    "f(0) = C\n",
    "\\end{cases}$"
   ]
  },
  {
   "cell_type": "code",
   "execution_count": 9,
   "metadata": {},
   "outputs": [],
   "source": [
    "# Generalization\n",
    "def func(n):\n",
    "    def go(n, acc1):\n",
    "        if n == 0:\n",
    "            return acc1\n",
    "        return go(n-1, g(acc1))\n",
    "\n",
    "    return go(n, C)"
   ]
  },
  {
   "cell_type": "markdown",
   "metadata": {},
   "source": [
    "Let's apply it to an example"
   ]
  },
  {
   "cell_type": "code",
   "execution_count": 19,
   "metadata": {},
   "outputs": [
    {
     "name": "stdout",
     "output_type": "stream",
     "text": [
      "A, B, C = 8 -4 -1\n"
     ]
    }
   ],
   "source": [
    "# Pick some random coefficiants in [-10, 10]\n",
    "from random import randint\n",
    "A, B, C = [randint(-10,10) for _ in range(3)]\n",
    "print(\"A, B, C =\", A, B, C)"
   ]
  },
  {
   "cell_type": "code",
   "execution_count": 11,
   "metadata": {},
   "outputs": [],
   "source": [
    "# here we define g(x) as in the formula above\n",
    "def g(x):\n",
    "    from math import sin\n",
    "    return A*sin(x) + B\n",
    "#     return A*x + B          # alternative\n",
    "#     return A*x**2 - B*x     # alternative"
   ]
  },
  {
   "cell_type": "code",
   "execution_count": 15,
   "metadata": {},
   "outputs": [],
   "source": [
    "# here is the recursion as we know it\n",
    "def normal_recur(n):\n",
    "    if n == 0:\n",
    "        return C\n",
    "    return g(normal_recur(n-1))"
   ]
  },
  {
   "cell_type": "code",
   "execution_count": 16,
   "metadata": {},
   "outputs": [],
   "source": [
    "# here is the equivalent implemented with tail recursion\n",
    "def tail_recur(n):\n",
    "    def go(n, acc1):\n",
    "        if n == 0:\n",
    "            return acc1\n",
    "        return go(n-1, g(acc1))\n",
    "\n",
    "    return go(n, C)"
   ]
  },
  {
   "cell_type": "code",
   "execution_count": 18,
   "metadata": {},
   "outputs": [
    {
     "name": "stdout",
     "output_type": "stream",
     "text": [
      "same results\n"
     ]
    }
   ],
   "source": [
    "# check\n",
    "for i in range(11):\n",
    "    if tail_recur(i) != normal_recur(i):\n",
    "        print('different results')\n",
    "        break\n",
    "\n",
    "else:\n",
    "    print (\"same results\")"
   ]
  },
  {
   "cell_type": "markdown",
   "metadata": {},
   "source": [
    "$\\text{2 recursive calls}\n",
    "\\begin{cases}\n",
    "f(n) = g( f(n-1), f(n-2) ) \\\\\n",
    "f(0) = D \\\\\n",
    "f(1) = E\n",
    "\\end{cases}$"
   ]
  },
  {
   "cell_type": "code",
   "execution_count": null,
   "metadata": {},
   "outputs": [],
   "source": [
    "# Generalization\n",
    "def func(n):\n",
    "    def go(n, acc1, acc2):\n",
    "        if n == 0:\n",
    "            return acc1\n",
    "        if n == 1:\n",
    "            return acc2\n",
    "        return go(n-1, acc2, g(acc2, acc1))  # reversed order for acc1 and acc2\n",
    "\n",
    "    return go(n, D, E)"
   ]
  },
  {
   "cell_type": "markdown",
   "metadata": {},
   "source": [
    "Let's apply it to an example"
   ]
  },
  {
   "cell_type": "code",
   "execution_count": 21,
   "metadata": {},
   "outputs": [
    {
     "name": "stdout",
     "output_type": "stream",
     "text": [
      "A, B, C, D, E = -6 7 10 7 5\n"
     ]
    }
   ],
   "source": [
    "# Pick some random coefficiants in [-10, 10]\n",
    "A, B, C, D, E = [randint(-10,10) for _ in range(5)]\n",
    "print(\"A, B, C, D, E =\", A, B, C, D, E)"
   ]
  },
  {
   "cell_type": "code",
   "execution_count": 22,
   "metadata": {},
   "outputs": [],
   "source": [
    "# here we define g(x) as in the formula above\n",
    "\n",
    "def g(x, y):\n",
    "    return min(A*sin(x), B*sin(y)) + C\n",
    "#     return A*x + B*y + C              # alternative\n",
    "#     return A*x**2 - B*x               # alternative"
   ]
  },
  {
   "cell_type": "code",
   "execution_count": 26,
   "metadata": {},
   "outputs": [],
   "source": [
    "# here is the recursion as we know it\n",
    "def normal_recur(n):\n",
    "    if n == 0:\n",
    "        return D\n",
    "    if n == 1:\n",
    "        return E\n",
    "    return g(normal_recur(n-1), normal_recur(n-2))"
   ]
  },
  {
   "cell_type": "code",
   "execution_count": 27,
   "metadata": {},
   "outputs": [],
   "source": [
    "# here is the equivalent implemented with tail recursion\n",
    "def tail_recur(n):\n",
    "    def go(n, acc1, acc2):\n",
    "        if n == 0:\n",
    "            return acc1\n",
    "        if n == 1:\n",
    "            return acc2\n",
    "        return go(n-1, acc2, g(acc2, acc1))\n",
    "\n",
    "    return go(n, D, E)"
   ]
  },
  {
   "cell_type": "code",
   "execution_count": 28,
   "metadata": {},
   "outputs": [
    {
     "name": "stdout",
     "output_type": "stream",
     "text": [
      "same results\n"
     ]
    }
   ],
   "source": [
    "# check\n",
    "for i in range(11):\n",
    "    if tail_recur(i) != normal_recur(i):\n",
    "        print('different results')\n",
    "        break\n",
    "\n",
    "else:\n",
    "    print (\"same results\")"
   ]
  },
  {
   "cell_type": "markdown",
   "metadata": {},
   "source": [
    "**Continuation Passing Style**\n",
    "\n",
    "Sometimes we can’t make a function tail-recursive by just adding an accumulator to its arguments and CPS is the easiest way to achieve getting the function tail-recursive.\n",
    "\n",
    "In CPS, instead of having a function return a value, it will take as an argument another function (the continuation) to which the result is given as an argument.\n",
    "\n",
    "Leetcode problem with simple tail recursion: [70](https://leetcode.com/problems/climbing-stairs/description/)\n",
    "\n",
    "Leetcode problems that might need CPS: [746](https://leetcode.com/problems/min-cost-climbing-stairs/description/)"
   ]
  }
 ],
 "metadata": {
  "interpreter": {
   "hash": "d19446adba995f945831752fe33759098aa608065c618e88fb712f40a861ae94"
  },
  "kernelspec": {
   "display_name": "Python 3 (ipykernel)",
   "language": "python",
   "name": "python3"
  },
  "language_info": {
   "codemirror_mode": {
    "name": "ipython",
    "version": 3
   },
   "file_extension": ".py",
   "mimetype": "text/x-python",
   "name": "python",
   "nbconvert_exporter": "python",
   "pygments_lexer": "ipython3",
   "version": "3.12.7"
  },
  "toc": {
   "base_numbering": 1,
   "nav_menu": {},
   "number_sections": true,
   "sideBar": true,
   "skip_h1_title": true,
   "title_cell": "Table of Contents",
   "title_sidebar": "Contents",
   "toc_cell": true,
   "toc_position": {},
   "toc_section_display": true,
   "toc_window_display": false
  },
  "varInspector": {
   "cols": {
    "lenName": 16,
    "lenType": 16,
    "lenVar": 40
   },
   "kernels_config": {
    "python": {
     "delete_cmd_postfix": "",
     "delete_cmd_prefix": "del ",
     "library": "var_list.py",
     "varRefreshCmd": "print(var_dic_list())"
    },
    "r": {
     "delete_cmd_postfix": ") ",
     "delete_cmd_prefix": "rm(",
     "library": "var_list.r",
     "varRefreshCmd": "cat(var_dic_list()) "
    }
   },
   "types_to_exclude": [
    "module",
    "function",
    "builtin_function_or_method",
    "instance",
    "_Feature"
   ],
   "window_display": false
  },
  "widgets": {
   "application/vnd.jupyter.widget-state+json": {
    "state": {},
    "version_major": 2,
    "version_minor": 0
   }
  }
 },
 "nbformat": 4,
 "nbformat_minor": 4
}
